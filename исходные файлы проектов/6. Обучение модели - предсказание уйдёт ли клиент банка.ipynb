{
 "cells": [
  {
   "cell_type": "markdown",
   "metadata": {},
   "source": [
    "# Отток клиентов"
   ]
  },
  {
   "cell_type": "markdown",
   "metadata": {},
   "source": [
    "Из «Бета-Банка» стали уходить клиенты. Каждый месяц. Немного, но заметно. Банковские маркетологи посчитали: сохранять текущих клиентов дешевле, чем привлекать новых.\n",
    "\n",
    "Нужно спрогнозировать, уйдёт клиент из банка в ближайшее время или нет. Вам предоставлены исторические данные о поведении клиентов и расторжении договоров с банком. \n",
    "\n",
    "Постройте модель с предельно большим значением *F1*-меры. Чтобы сдать проект успешно, нужно довести метрику до 0.59. Проверьте *F1*-меру на тестовой выборке самостоятельно.\n",
    "\n",
    "Дополнительно измеряйте *AUC-ROC*, сравнивайте её значение с *F1*-мерой.\n",
    "\n",
    "Источник данных: [https://www.kaggle.com/barelydedicated/bank-customer-churn-modeling](https://www.kaggle.com/barelydedicated/bank-customer-churn-modeling)"
   ]
  },
  {
   "cell_type": "markdown",
   "metadata": {},
   "source": [
    "Инструкция по выполнению проекта:\n",
    "\n",
    "Загрузите и подготовьте данные. Поясните порядок действий.\n",
    "\n",
    "Исследуйте баланс классов, обучите модель без учёта дисбаланса. Кратко опишите выводы.\n",
    "\n",
    "Улучшите качество модели, учитывая дисбаланс классов. \n",
    "\n",
    "Обучите разные модели и найдите лучшую. Кратко опишите выводы.\n",
    "\n",
    "Проведите финальное тестирование."
   ]
  },
  {
   "cell_type": "markdown",
   "metadata": {},
   "source": [
    "## Подготовка данных"
   ]
  },
  {
   "cell_type": "code",
   "execution_count": 1,
   "metadata": {},
   "outputs": [],
   "source": [
    "import pandas as pd\n",
    "import numpy as np\n",
    "from sklearn.model_selection import train_test_split\n",
    "from sklearn.linear_model import LogisticRegression\n",
    "from sklearn.tree import DecisionTreeClassifier\n",
    "from sklearn.ensemble import RandomForestClassifier\n",
    "from sklearn.preprocessing import StandardScaler\n",
    "from sklearn.metrics import f1_score\n",
    "import time\n",
    "from sklearn.utils import shuffle\n",
    "from sklearn.metrics import roc_auc_score"
   ]
  },
  {
   "cell_type": "code",
   "execution_count": 2,
   "metadata": {},
   "outputs": [],
   "source": [
    "data = pd.read_csv('/datasets/Churn.csv')"
   ]
  },
  {
   "cell_type": "code",
   "execution_count": 3,
   "metadata": {},
   "outputs": [
    {
     "data": {
      "text/html": [
       "<div>\n",
       "<style scoped>\n",
       "    .dataframe tbody tr th:only-of-type {\n",
       "        vertical-align: middle;\n",
       "    }\n",
       "\n",
       "    .dataframe tbody tr th {\n",
       "        vertical-align: top;\n",
       "    }\n",
       "\n",
       "    .dataframe thead th {\n",
       "        text-align: right;\n",
       "    }\n",
       "</style>\n",
       "<table border=\"1\" class=\"dataframe\">\n",
       "  <thead>\n",
       "    <tr style=\"text-align: right;\">\n",
       "      <th></th>\n",
       "      <th>RowNumber</th>\n",
       "      <th>CustomerId</th>\n",
       "      <th>Surname</th>\n",
       "      <th>CreditScore</th>\n",
       "      <th>Geography</th>\n",
       "      <th>Gender</th>\n",
       "      <th>Age</th>\n",
       "      <th>Tenure</th>\n",
       "      <th>Balance</th>\n",
       "      <th>NumOfProducts</th>\n",
       "      <th>HasCrCard</th>\n",
       "      <th>IsActiveMember</th>\n",
       "      <th>EstimatedSalary</th>\n",
       "      <th>Exited</th>\n",
       "    </tr>\n",
       "  </thead>\n",
       "  <tbody>\n",
       "    <tr>\n",
       "      <td>0</td>\n",
       "      <td>1</td>\n",
       "      <td>15634602</td>\n",
       "      <td>Hargrave</td>\n",
       "      <td>619</td>\n",
       "      <td>France</td>\n",
       "      <td>Female</td>\n",
       "      <td>42</td>\n",
       "      <td>2.0</td>\n",
       "      <td>0.00</td>\n",
       "      <td>1</td>\n",
       "      <td>1</td>\n",
       "      <td>1</td>\n",
       "      <td>101348.88</td>\n",
       "      <td>1</td>\n",
       "    </tr>\n",
       "    <tr>\n",
       "      <td>1</td>\n",
       "      <td>2</td>\n",
       "      <td>15647311</td>\n",
       "      <td>Hill</td>\n",
       "      <td>608</td>\n",
       "      <td>Spain</td>\n",
       "      <td>Female</td>\n",
       "      <td>41</td>\n",
       "      <td>1.0</td>\n",
       "      <td>83807.86</td>\n",
       "      <td>1</td>\n",
       "      <td>0</td>\n",
       "      <td>1</td>\n",
       "      <td>112542.58</td>\n",
       "      <td>0</td>\n",
       "    </tr>\n",
       "    <tr>\n",
       "      <td>2</td>\n",
       "      <td>3</td>\n",
       "      <td>15619304</td>\n",
       "      <td>Onio</td>\n",
       "      <td>502</td>\n",
       "      <td>France</td>\n",
       "      <td>Female</td>\n",
       "      <td>42</td>\n",
       "      <td>8.0</td>\n",
       "      <td>159660.80</td>\n",
       "      <td>3</td>\n",
       "      <td>1</td>\n",
       "      <td>0</td>\n",
       "      <td>113931.57</td>\n",
       "      <td>1</td>\n",
       "    </tr>\n",
       "    <tr>\n",
       "      <td>3</td>\n",
       "      <td>4</td>\n",
       "      <td>15701354</td>\n",
       "      <td>Boni</td>\n",
       "      <td>699</td>\n",
       "      <td>France</td>\n",
       "      <td>Female</td>\n",
       "      <td>39</td>\n",
       "      <td>1.0</td>\n",
       "      <td>0.00</td>\n",
       "      <td>2</td>\n",
       "      <td>0</td>\n",
       "      <td>0</td>\n",
       "      <td>93826.63</td>\n",
       "      <td>0</td>\n",
       "    </tr>\n",
       "    <tr>\n",
       "      <td>4</td>\n",
       "      <td>5</td>\n",
       "      <td>15737888</td>\n",
       "      <td>Mitchell</td>\n",
       "      <td>850</td>\n",
       "      <td>Spain</td>\n",
       "      <td>Female</td>\n",
       "      <td>43</td>\n",
       "      <td>2.0</td>\n",
       "      <td>125510.82</td>\n",
       "      <td>1</td>\n",
       "      <td>1</td>\n",
       "      <td>1</td>\n",
       "      <td>79084.10</td>\n",
       "      <td>0</td>\n",
       "    </tr>\n",
       "    <tr>\n",
       "      <td>...</td>\n",
       "      <td>...</td>\n",
       "      <td>...</td>\n",
       "      <td>...</td>\n",
       "      <td>...</td>\n",
       "      <td>...</td>\n",
       "      <td>...</td>\n",
       "      <td>...</td>\n",
       "      <td>...</td>\n",
       "      <td>...</td>\n",
       "      <td>...</td>\n",
       "      <td>...</td>\n",
       "      <td>...</td>\n",
       "      <td>...</td>\n",
       "      <td>...</td>\n",
       "    </tr>\n",
       "    <tr>\n",
       "      <td>9995</td>\n",
       "      <td>9996</td>\n",
       "      <td>15606229</td>\n",
       "      <td>Obijiaku</td>\n",
       "      <td>771</td>\n",
       "      <td>France</td>\n",
       "      <td>Male</td>\n",
       "      <td>39</td>\n",
       "      <td>5.0</td>\n",
       "      <td>0.00</td>\n",
       "      <td>2</td>\n",
       "      <td>1</td>\n",
       "      <td>0</td>\n",
       "      <td>96270.64</td>\n",
       "      <td>0</td>\n",
       "    </tr>\n",
       "    <tr>\n",
       "      <td>9996</td>\n",
       "      <td>9997</td>\n",
       "      <td>15569892</td>\n",
       "      <td>Johnstone</td>\n",
       "      <td>516</td>\n",
       "      <td>France</td>\n",
       "      <td>Male</td>\n",
       "      <td>35</td>\n",
       "      <td>10.0</td>\n",
       "      <td>57369.61</td>\n",
       "      <td>1</td>\n",
       "      <td>1</td>\n",
       "      <td>1</td>\n",
       "      <td>101699.77</td>\n",
       "      <td>0</td>\n",
       "    </tr>\n",
       "    <tr>\n",
       "      <td>9997</td>\n",
       "      <td>9998</td>\n",
       "      <td>15584532</td>\n",
       "      <td>Liu</td>\n",
       "      <td>709</td>\n",
       "      <td>France</td>\n",
       "      <td>Female</td>\n",
       "      <td>36</td>\n",
       "      <td>7.0</td>\n",
       "      <td>0.00</td>\n",
       "      <td>1</td>\n",
       "      <td>0</td>\n",
       "      <td>1</td>\n",
       "      <td>42085.58</td>\n",
       "      <td>1</td>\n",
       "    </tr>\n",
       "    <tr>\n",
       "      <td>9998</td>\n",
       "      <td>9999</td>\n",
       "      <td>15682355</td>\n",
       "      <td>Sabbatini</td>\n",
       "      <td>772</td>\n",
       "      <td>Germany</td>\n",
       "      <td>Male</td>\n",
       "      <td>42</td>\n",
       "      <td>3.0</td>\n",
       "      <td>75075.31</td>\n",
       "      <td>2</td>\n",
       "      <td>1</td>\n",
       "      <td>0</td>\n",
       "      <td>92888.52</td>\n",
       "      <td>1</td>\n",
       "    </tr>\n",
       "    <tr>\n",
       "      <td>9999</td>\n",
       "      <td>10000</td>\n",
       "      <td>15628319</td>\n",
       "      <td>Walker</td>\n",
       "      <td>792</td>\n",
       "      <td>France</td>\n",
       "      <td>Female</td>\n",
       "      <td>28</td>\n",
       "      <td>NaN</td>\n",
       "      <td>130142.79</td>\n",
       "      <td>1</td>\n",
       "      <td>1</td>\n",
       "      <td>0</td>\n",
       "      <td>38190.78</td>\n",
       "      <td>0</td>\n",
       "    </tr>\n",
       "  </tbody>\n",
       "</table>\n",
       "<p>10000 rows × 14 columns</p>\n",
       "</div>"
      ],
      "text/plain": [
       "      RowNumber  CustomerId    Surname  CreditScore Geography  Gender  Age  \\\n",
       "0             1    15634602   Hargrave          619    France  Female   42   \n",
       "1             2    15647311       Hill          608     Spain  Female   41   \n",
       "2             3    15619304       Onio          502    France  Female   42   \n",
       "3             4    15701354       Boni          699    France  Female   39   \n",
       "4             5    15737888   Mitchell          850     Spain  Female   43   \n",
       "...         ...         ...        ...          ...       ...     ...  ...   \n",
       "9995       9996    15606229   Obijiaku          771    France    Male   39   \n",
       "9996       9997    15569892  Johnstone          516    France    Male   35   \n",
       "9997       9998    15584532        Liu          709    France  Female   36   \n",
       "9998       9999    15682355  Sabbatini          772   Germany    Male   42   \n",
       "9999      10000    15628319     Walker          792    France  Female   28   \n",
       "\n",
       "      Tenure    Balance  NumOfProducts  HasCrCard  IsActiveMember  \\\n",
       "0        2.0       0.00              1          1               1   \n",
       "1        1.0   83807.86              1          0               1   \n",
       "2        8.0  159660.80              3          1               0   \n",
       "3        1.0       0.00              2          0               0   \n",
       "4        2.0  125510.82              1          1               1   \n",
       "...      ...        ...            ...        ...             ...   \n",
       "9995     5.0       0.00              2          1               0   \n",
       "9996    10.0   57369.61              1          1               1   \n",
       "9997     7.0       0.00              1          0               1   \n",
       "9998     3.0   75075.31              2          1               0   \n",
       "9999     NaN  130142.79              1          1               0   \n",
       "\n",
       "      EstimatedSalary  Exited  \n",
       "0           101348.88       1  \n",
       "1           112542.58       0  \n",
       "2           113931.57       1  \n",
       "3            93826.63       0  \n",
       "4            79084.10       0  \n",
       "...               ...     ...  \n",
       "9995         96270.64       0  \n",
       "9996        101699.77       0  \n",
       "9997         42085.58       1  \n",
       "9998         92888.52       1  \n",
       "9999         38190.78       0  \n",
       "\n",
       "[10000 rows x 14 columns]"
      ]
     },
     "metadata": {},
     "output_type": "display_data"
    }
   ],
   "source": [
    "display(data)"
   ]
  },
  {
   "cell_type": "markdown",
   "metadata": {},
   "source": [
    "Признаки:\n",
    "\n",
    "**RowNumber** — индекс строки в данных\n",
    "\n",
    "**CustomerId** — уникальный идентификатор клиента\n",
    "\n",
    "**Surname** — фамилия\n",
    "\n",
    "**CreditScore** — кредитный рейтинг\n",
    "\n",
    "**Geography** — страна проживания\n",
    "\n",
    "**Gender** — пол\n",
    "\n",
    "**Age** — возраст\n",
    "\n",
    "**Tenure** — сколько лет человек является клиентом банка\n",
    "\n",
    "**Balance** — баланс на счёте\n",
    "\n",
    "**NumOfProducts** — количество продуктов банка, используемых клиентом\n",
    "\n",
    "**HasCrCard** — наличие кредитной карты\n",
    "\n",
    "**IsActiveMember** — активность клиента\n",
    "\n",
    "**EstimatedSalary** — предполагаемая зарплата\n",
    "\n",
    "Целевой признак:\n",
    "\n",
    "**Exited** — факт ухода клиента"
   ]
  },
  {
   "cell_type": "markdown",
   "metadata": {},
   "source": [
    "Не помню, чтобы прямо в явном виде об этом писалось в течение курса (похоже мысли затрагивались в изучении \"дамми-ловушки\") , но в данном датафрейме явно нужны не все данные для проведения прогнозирования ухода клиента. В качестве столбцов, которые стоит удалить, так как они явным образом никак не помогут в обучении модели : **RowNumber** - индекс строки, **CustomerId** - уникальный идентификатор клиента, **Surname** - фамилия"
   ]
  },
  {
   "cell_type": "code",
   "execution_count": 4,
   "metadata": {},
   "outputs": [],
   "source": [
    "del data['RowNumber']\n",
    "del data['CustomerId']\n",
    "del data['Surname']"
   ]
  },
  {
   "cell_type": "markdown",
   "metadata": {},
   "source": [
    "Так же фактически все столбцы имеют названия, не соответсвующие правилам хорошего оформления:"
   ]
  },
  {
   "cell_type": "code",
   "execution_count": 5,
   "metadata": {},
   "outputs": [],
   "source": [
    "data = data.rename(columns={'CreditScore' : 'credit_score', 'Geography' : 'geography', 'Gender' : 'gender', \n",
    "                           'Age' : 'age', 'Tenure' : 'tenure', 'Balance' : 'balance', 'NumOfProducts' : 'num_of_products',\n",
    "                           'HasCrCard' : 'has_card', 'IsActiveMember' : 'is_active_member', \n",
    "                            'EstimatedSalary' : 'estimated_salary', 'Exited' : 'exited'})"
   ]
  },
  {
   "cell_type": "code",
   "execution_count": 6,
   "metadata": {},
   "outputs": [
    {
     "data": {
      "text/html": [
       "<div>\n",
       "<style scoped>\n",
       "    .dataframe tbody tr th:only-of-type {\n",
       "        vertical-align: middle;\n",
       "    }\n",
       "\n",
       "    .dataframe tbody tr th {\n",
       "        vertical-align: top;\n",
       "    }\n",
       "\n",
       "    .dataframe thead th {\n",
       "        text-align: right;\n",
       "    }\n",
       "</style>\n",
       "<table border=\"1\" class=\"dataframe\">\n",
       "  <thead>\n",
       "    <tr style=\"text-align: right;\">\n",
       "      <th></th>\n",
       "      <th>credit_score</th>\n",
       "      <th>geography</th>\n",
       "      <th>gender</th>\n",
       "      <th>age</th>\n",
       "      <th>tenure</th>\n",
       "      <th>balance</th>\n",
       "      <th>num_of_products</th>\n",
       "      <th>has_card</th>\n",
       "      <th>is_active_member</th>\n",
       "      <th>estimated_salary</th>\n",
       "      <th>exited</th>\n",
       "    </tr>\n",
       "  </thead>\n",
       "  <tbody>\n",
       "    <tr>\n",
       "      <td>0</td>\n",
       "      <td>619</td>\n",
       "      <td>France</td>\n",
       "      <td>Female</td>\n",
       "      <td>42</td>\n",
       "      <td>2.0</td>\n",
       "      <td>0.00</td>\n",
       "      <td>1</td>\n",
       "      <td>1</td>\n",
       "      <td>1</td>\n",
       "      <td>101348.88</td>\n",
       "      <td>1</td>\n",
       "    </tr>\n",
       "    <tr>\n",
       "      <td>1</td>\n",
       "      <td>608</td>\n",
       "      <td>Spain</td>\n",
       "      <td>Female</td>\n",
       "      <td>41</td>\n",
       "      <td>1.0</td>\n",
       "      <td>83807.86</td>\n",
       "      <td>1</td>\n",
       "      <td>0</td>\n",
       "      <td>1</td>\n",
       "      <td>112542.58</td>\n",
       "      <td>0</td>\n",
       "    </tr>\n",
       "    <tr>\n",
       "      <td>2</td>\n",
       "      <td>502</td>\n",
       "      <td>France</td>\n",
       "      <td>Female</td>\n",
       "      <td>42</td>\n",
       "      <td>8.0</td>\n",
       "      <td>159660.80</td>\n",
       "      <td>3</td>\n",
       "      <td>1</td>\n",
       "      <td>0</td>\n",
       "      <td>113931.57</td>\n",
       "      <td>1</td>\n",
       "    </tr>\n",
       "    <tr>\n",
       "      <td>3</td>\n",
       "      <td>699</td>\n",
       "      <td>France</td>\n",
       "      <td>Female</td>\n",
       "      <td>39</td>\n",
       "      <td>1.0</td>\n",
       "      <td>0.00</td>\n",
       "      <td>2</td>\n",
       "      <td>0</td>\n",
       "      <td>0</td>\n",
       "      <td>93826.63</td>\n",
       "      <td>0</td>\n",
       "    </tr>\n",
       "    <tr>\n",
       "      <td>4</td>\n",
       "      <td>850</td>\n",
       "      <td>Spain</td>\n",
       "      <td>Female</td>\n",
       "      <td>43</td>\n",
       "      <td>2.0</td>\n",
       "      <td>125510.82</td>\n",
       "      <td>1</td>\n",
       "      <td>1</td>\n",
       "      <td>1</td>\n",
       "      <td>79084.10</td>\n",
       "      <td>0</td>\n",
       "    </tr>\n",
       "    <tr>\n",
       "      <td>...</td>\n",
       "      <td>...</td>\n",
       "      <td>...</td>\n",
       "      <td>...</td>\n",
       "      <td>...</td>\n",
       "      <td>...</td>\n",
       "      <td>...</td>\n",
       "      <td>...</td>\n",
       "      <td>...</td>\n",
       "      <td>...</td>\n",
       "      <td>...</td>\n",
       "      <td>...</td>\n",
       "    </tr>\n",
       "    <tr>\n",
       "      <td>9995</td>\n",
       "      <td>771</td>\n",
       "      <td>France</td>\n",
       "      <td>Male</td>\n",
       "      <td>39</td>\n",
       "      <td>5.0</td>\n",
       "      <td>0.00</td>\n",
       "      <td>2</td>\n",
       "      <td>1</td>\n",
       "      <td>0</td>\n",
       "      <td>96270.64</td>\n",
       "      <td>0</td>\n",
       "    </tr>\n",
       "    <tr>\n",
       "      <td>9996</td>\n",
       "      <td>516</td>\n",
       "      <td>France</td>\n",
       "      <td>Male</td>\n",
       "      <td>35</td>\n",
       "      <td>10.0</td>\n",
       "      <td>57369.61</td>\n",
       "      <td>1</td>\n",
       "      <td>1</td>\n",
       "      <td>1</td>\n",
       "      <td>101699.77</td>\n",
       "      <td>0</td>\n",
       "    </tr>\n",
       "    <tr>\n",
       "      <td>9997</td>\n",
       "      <td>709</td>\n",
       "      <td>France</td>\n",
       "      <td>Female</td>\n",
       "      <td>36</td>\n",
       "      <td>7.0</td>\n",
       "      <td>0.00</td>\n",
       "      <td>1</td>\n",
       "      <td>0</td>\n",
       "      <td>1</td>\n",
       "      <td>42085.58</td>\n",
       "      <td>1</td>\n",
       "    </tr>\n",
       "    <tr>\n",
       "      <td>9998</td>\n",
       "      <td>772</td>\n",
       "      <td>Germany</td>\n",
       "      <td>Male</td>\n",
       "      <td>42</td>\n",
       "      <td>3.0</td>\n",
       "      <td>75075.31</td>\n",
       "      <td>2</td>\n",
       "      <td>1</td>\n",
       "      <td>0</td>\n",
       "      <td>92888.52</td>\n",
       "      <td>1</td>\n",
       "    </tr>\n",
       "    <tr>\n",
       "      <td>9999</td>\n",
       "      <td>792</td>\n",
       "      <td>France</td>\n",
       "      <td>Female</td>\n",
       "      <td>28</td>\n",
       "      <td>NaN</td>\n",
       "      <td>130142.79</td>\n",
       "      <td>1</td>\n",
       "      <td>1</td>\n",
       "      <td>0</td>\n",
       "      <td>38190.78</td>\n",
       "      <td>0</td>\n",
       "    </tr>\n",
       "  </tbody>\n",
       "</table>\n",
       "<p>10000 rows × 11 columns</p>\n",
       "</div>"
      ],
      "text/plain": [
       "      credit_score geography  gender  age  tenure    balance  num_of_products  \\\n",
       "0              619    France  Female   42     2.0       0.00                1   \n",
       "1              608     Spain  Female   41     1.0   83807.86                1   \n",
       "2              502    France  Female   42     8.0  159660.80                3   \n",
       "3              699    France  Female   39     1.0       0.00                2   \n",
       "4              850     Spain  Female   43     2.0  125510.82                1   \n",
       "...            ...       ...     ...  ...     ...        ...              ...   \n",
       "9995           771    France    Male   39     5.0       0.00                2   \n",
       "9996           516    France    Male   35    10.0   57369.61                1   \n",
       "9997           709    France  Female   36     7.0       0.00                1   \n",
       "9998           772   Germany    Male   42     3.0   75075.31                2   \n",
       "9999           792    France  Female   28     NaN  130142.79                1   \n",
       "\n",
       "      has_card  is_active_member  estimated_salary  exited  \n",
       "0            1                 1         101348.88       1  \n",
       "1            0                 1         112542.58       0  \n",
       "2            1                 0         113931.57       1  \n",
       "3            0                 0          93826.63       0  \n",
       "4            1                 1          79084.10       0  \n",
       "...        ...               ...               ...     ...  \n",
       "9995         1                 0          96270.64       0  \n",
       "9996         1                 1         101699.77       0  \n",
       "9997         0                 1          42085.58       1  \n",
       "9998         1                 0          92888.52       1  \n",
       "9999         1                 0          38190.78       0  \n",
       "\n",
       "[10000 rows x 11 columns]"
      ]
     },
     "metadata": {},
     "output_type": "display_data"
    }
   ],
   "source": [
    "display(data)"
   ]
  },
  {
   "cell_type": "code",
   "execution_count": 7,
   "metadata": {},
   "outputs": [
    {
     "name": "stdout",
     "output_type": "stream",
     "text": [
      "<class 'pandas.core.frame.DataFrame'>\n",
      "RangeIndex: 10000 entries, 0 to 9999\n",
      "Data columns (total 11 columns):\n",
      "credit_score        10000 non-null int64\n",
      "geography           10000 non-null object\n",
      "gender              10000 non-null object\n",
      "age                 10000 non-null int64\n",
      "tenure              9091 non-null float64\n",
      "balance             10000 non-null float64\n",
      "num_of_products     10000 non-null int64\n",
      "has_card            10000 non-null int64\n",
      "is_active_member    10000 non-null int64\n",
      "estimated_salary    10000 non-null float64\n",
      "exited              10000 non-null int64\n",
      "dtypes: float64(3), int64(6), object(2)\n",
      "memory usage: 859.5+ KB\n"
     ]
    }
   ],
   "source": [
    "data.info()"
   ]
  },
  {
   "cell_type": "code",
   "execution_count": 8,
   "metadata": {},
   "outputs": [
    {
     "data": {
      "text/plain": [
       "credit_score          0\n",
       "geography             0\n",
       "gender                0\n",
       "age                   0\n",
       "tenure              909\n",
       "balance               0\n",
       "num_of_products       0\n",
       "has_card              0\n",
       "is_active_member      0\n",
       "estimated_salary      0\n",
       "exited                0\n",
       "dtype: int64"
      ]
     },
     "execution_count": 8,
     "metadata": {},
     "output_type": "execute_result"
    }
   ],
   "source": [
    "data.isna().sum()"
   ]
  },
  {
   "cell_type": "markdown",
   "metadata": {},
   "source": [
    "Пройдёмся по столбцам, чтобы иметь более точное представление о распредлении данных внутри:"
   ]
  },
  {
   "cell_type": "markdown",
   "metadata": {},
   "source": [
    "первый столбец - **credit_score** - кредитный рейтинг"
   ]
  },
  {
   "cell_type": "code",
   "execution_count": 9,
   "metadata": {
    "scrolled": true
   },
   "outputs": [
    {
     "data": {
      "text/plain": [
       "count    10000.000000\n",
       "mean       650.528800\n",
       "std         96.653299\n",
       "min        350.000000\n",
       "25%        584.000000\n",
       "50%        652.000000\n",
       "75%        718.000000\n",
       "max        850.000000\n",
       "Name: credit_score, dtype: float64"
      ]
     },
     "execution_count": 9,
     "metadata": {},
     "output_type": "execute_result"
    }
   ],
   "source": [
    "data['credit_score'].describe()"
   ]
  },
  {
   "cell_type": "code",
   "execution_count": 10,
   "metadata": {},
   "outputs": [
    {
     "data": {
      "text/plain": [
       "<matplotlib.axes._subplots.AxesSubplot at 0x7f0c8409eb90>"
      ]
     },
     "execution_count": 10,
     "metadata": {},
     "output_type": "execute_result"
    },
    {
     "data": {
      "image/png": "[encoded data removed]",
      "text/plain": [
       "<Figure size 432x288 with 1 Axes>"
      ]
     },
     "metadata": {
      "needs_background": "light"
     },
     "output_type": "display_data"
    }
   ],
   "source": [
    "data['credit_score'].hist(bins=50)"
   ]
  },
  {
   "cell_type": "markdown",
   "metadata": {},
   "source": [
    "Видно, что распределение нормального вида. Сложно сказать насколько данные правдоподобны, ведь неизвестно как начисляется данный кредитный рейтинг, но можно заметить, что у него есть некий \"потолок\" в виде 850 баллов, где скопилось множетсво дошедших до этого максимума клиентов"
   ]
  },
  {
   "cell_type": "markdown",
   "metadata": {},
   "source": [
    "Теперь изучим столбец **geography** - страна проживания клиента"
   ]
  },
  {
   "cell_type": "code",
   "execution_count": 11,
   "metadata": {},
   "outputs": [
    {
     "data": {
      "text/plain": [
       "France     5014\n",
       "Germany    2509\n",
       "Spain      2477\n",
       "Name: geography, dtype: int64"
      ]
     },
     "execution_count": 11,
     "metadata": {},
     "output_type": "execute_result"
    }
   ],
   "source": [
    "data['geography'].value_counts()"
   ]
  },
  {
   "cell_type": "markdown",
   "metadata": {},
   "source": [
    "Как видно, работать будем всего с 3-мя странами, которые встречаются примерно одинаково. Перевести эти категориальные значения в численные можно будет при помощи прямого кодирования"
   ]
  },
  {
   "cell_type": "markdown",
   "metadata": {},
   "source": [
    "**gender** - пол клиента"
   ]
  },
  {
   "cell_type": "code",
   "execution_count": 12,
   "metadata": {},
   "outputs": [
    {
     "data": {
      "text/plain": [
       "Male      5457\n",
       "Female    4543\n",
       "Name: gender, dtype: int64"
      ]
     },
     "execution_count": 12,
     "metadata": {},
     "output_type": "execute_result"
    }
   ],
   "source": [
    "data['gender'].value_counts()"
   ]
  },
  {
   "cell_type": "markdown",
   "metadata": {},
   "source": [
    "Тут точно так же признаки выглядят примерно равными по распределению и будут переведены в численные при помощи прямого кодирования"
   ]
  },
  {
   "cell_type": "markdown",
   "metadata": {},
   "source": [
    "**age** - возраст клиента"
   ]
  },
  {
   "cell_type": "code",
   "execution_count": 13,
   "metadata": {},
   "outputs": [
    {
     "data": {
      "text/plain": [
       "count    10000.000000\n",
       "mean        38.921800\n",
       "std         10.487806\n",
       "min         18.000000\n",
       "25%         32.000000\n",
       "50%         37.000000\n",
       "75%         44.000000\n",
       "max         92.000000\n",
       "Name: age, dtype: float64"
      ]
     },
     "execution_count": 13,
     "metadata": {},
     "output_type": "execute_result"
    }
   ],
   "source": [
    "data['age'].describe()"
   ]
  },
  {
   "cell_type": "code",
   "execution_count": 14,
   "metadata": {
    "scrolled": true
   },
   "outputs": [
    {
     "data": {
      "text/plain": [
       "<matplotlib.axes._subplots.AxesSubplot at 0x7f0c7b607610>"
      ]
     },
     "execution_count": 14,
     "metadata": {},
     "output_type": "execute_result"
    },
    {
     "data": {
      "image/png": "[encoded data removed]",
      "text/plain": [
       "<Figure size 432x288 with 1 Axes>"
      ]
     },
     "metadata": {
      "needs_background": "light"
     },
     "output_type": "display_data"
    }
   ],
   "source": [
    "data['age'].hist(bins=50)"
   ]
  },
  {
   "cell_type": "markdown",
   "metadata": {},
   "source": [
    "Распределение по возрасту выглядит вполне правдоподобным"
   ]
  },
  {
   "cell_type": "markdown",
   "metadata": {},
   "source": [
    "**tenure** - сколько клиент является клиентом банка"
   ]
  },
  {
   "cell_type": "markdown",
   "metadata": {},
   "source": [
    "В данном столбце есть множество пустых строк с *0* в годах сторудничества с банком. Возможно, это клиенты, которые являются клиентами банка меньше 1 года?"
   ]
  },
  {
   "cell_type": "code",
   "execution_count": 15,
   "metadata": {},
   "outputs": [
    {
     "data": {
      "text/plain": [
       "1.0     952\n",
       "2.0     950\n",
       "8.0     933\n",
       "3.0     928\n",
       "5.0     927\n",
       "7.0     925\n",
       "4.0     885\n",
       "9.0     882\n",
       "6.0     881\n",
       "10.0    446\n",
       "0.0     382\n",
       "Name: tenure, dtype: int64"
      ]
     },
     "execution_count": 15,
     "metadata": {},
     "output_type": "execute_result"
    }
   ],
   "source": [
    "data['tenure'].value_counts()"
   ]
  },
  {
   "cell_type": "code",
   "execution_count": 16,
   "metadata": {},
   "outputs": [
    {
     "data": {
      "text/plain": [
       "909"
      ]
     },
     "execution_count": 16,
     "metadata": {},
     "output_type": "execute_result"
    }
   ],
   "source": [
    "data['tenure'].isna().sum()"
   ]
  },
  {
   "cell_type": "code",
   "execution_count": 17,
   "metadata": {},
   "outputs": [
    {
     "data": {
      "text/html": [
       "<div>\n",
       "<style scoped>\n",
       "    .dataframe tbody tr th:only-of-type {\n",
       "        vertical-align: middle;\n",
       "    }\n",
       "\n",
       "    .dataframe tbody tr th {\n",
       "        vertical-align: top;\n",
       "    }\n",
       "\n",
       "    .dataframe thead th {\n",
       "        text-align: right;\n",
       "    }\n",
       "</style>\n",
       "<table border=\"1\" class=\"dataframe\">\n",
       "  <thead>\n",
       "    <tr style=\"text-align: right;\">\n",
       "      <th></th>\n",
       "      <th>credit_score</th>\n",
       "      <th>geography</th>\n",
       "      <th>gender</th>\n",
       "      <th>age</th>\n",
       "      <th>tenure</th>\n",
       "      <th>balance</th>\n",
       "      <th>num_of_products</th>\n",
       "      <th>has_card</th>\n",
       "      <th>is_active_member</th>\n",
       "      <th>estimated_salary</th>\n",
       "      <th>exited</th>\n",
       "    </tr>\n",
       "  </thead>\n",
       "  <tbody>\n",
       "    <tr>\n",
       "      <td>30</td>\n",
       "      <td>591</td>\n",
       "      <td>Spain</td>\n",
       "      <td>Female</td>\n",
       "      <td>39</td>\n",
       "      <td>NaN</td>\n",
       "      <td>0.00</td>\n",
       "      <td>3</td>\n",
       "      <td>1</td>\n",
       "      <td>0</td>\n",
       "      <td>140469.38</td>\n",
       "      <td>1</td>\n",
       "    </tr>\n",
       "    <tr>\n",
       "      <td>48</td>\n",
       "      <td>550</td>\n",
       "      <td>Germany</td>\n",
       "      <td>Male</td>\n",
       "      <td>38</td>\n",
       "      <td>NaN</td>\n",
       "      <td>103391.38</td>\n",
       "      <td>1</td>\n",
       "      <td>0</td>\n",
       "      <td>1</td>\n",
       "      <td>90878.13</td>\n",
       "      <td>0</td>\n",
       "    </tr>\n",
       "    <tr>\n",
       "      <td>51</td>\n",
       "      <td>585</td>\n",
       "      <td>Germany</td>\n",
       "      <td>Male</td>\n",
       "      <td>36</td>\n",
       "      <td>NaN</td>\n",
       "      <td>146050.97</td>\n",
       "      <td>2</td>\n",
       "      <td>0</td>\n",
       "      <td>0</td>\n",
       "      <td>86424.57</td>\n",
       "      <td>0</td>\n",
       "    </tr>\n",
       "    <tr>\n",
       "      <td>53</td>\n",
       "      <td>655</td>\n",
       "      <td>Germany</td>\n",
       "      <td>Male</td>\n",
       "      <td>41</td>\n",
       "      <td>NaN</td>\n",
       "      <td>125561.97</td>\n",
       "      <td>1</td>\n",
       "      <td>0</td>\n",
       "      <td>0</td>\n",
       "      <td>164040.94</td>\n",
       "      <td>1</td>\n",
       "    </tr>\n",
       "    <tr>\n",
       "      <td>60</td>\n",
       "      <td>742</td>\n",
       "      <td>Germany</td>\n",
       "      <td>Male</td>\n",
       "      <td>35</td>\n",
       "      <td>NaN</td>\n",
       "      <td>136857.00</td>\n",
       "      <td>1</td>\n",
       "      <td>0</td>\n",
       "      <td>0</td>\n",
       "      <td>84509.57</td>\n",
       "      <td>0</td>\n",
       "    </tr>\n",
       "    <tr>\n",
       "      <td>...</td>\n",
       "      <td>...</td>\n",
       "      <td>...</td>\n",
       "      <td>...</td>\n",
       "      <td>...</td>\n",
       "      <td>...</td>\n",
       "      <td>...</td>\n",
       "      <td>...</td>\n",
       "      <td>...</td>\n",
       "      <td>...</td>\n",
       "      <td>...</td>\n",
       "      <td>...</td>\n",
       "    </tr>\n",
       "    <tr>\n",
       "      <td>9944</td>\n",
       "      <td>744</td>\n",
       "      <td>Germany</td>\n",
       "      <td>Male</td>\n",
       "      <td>41</td>\n",
       "      <td>NaN</td>\n",
       "      <td>190409.34</td>\n",
       "      <td>2</td>\n",
       "      <td>1</td>\n",
       "      <td>1</td>\n",
       "      <td>138361.48</td>\n",
       "      <td>0</td>\n",
       "    </tr>\n",
       "    <tr>\n",
       "      <td>9956</td>\n",
       "      <td>520</td>\n",
       "      <td>France</td>\n",
       "      <td>Female</td>\n",
       "      <td>46</td>\n",
       "      <td>NaN</td>\n",
       "      <td>85216.61</td>\n",
       "      <td>1</td>\n",
       "      <td>1</td>\n",
       "      <td>0</td>\n",
       "      <td>117369.52</td>\n",
       "      <td>1</td>\n",
       "    </tr>\n",
       "    <tr>\n",
       "      <td>9964</td>\n",
       "      <td>479</td>\n",
       "      <td>France</td>\n",
       "      <td>Male</td>\n",
       "      <td>34</td>\n",
       "      <td>NaN</td>\n",
       "      <td>117593.48</td>\n",
       "      <td>2</td>\n",
       "      <td>0</td>\n",
       "      <td>0</td>\n",
       "      <td>113308.29</td>\n",
       "      <td>0</td>\n",
       "    </tr>\n",
       "    <tr>\n",
       "      <td>9985</td>\n",
       "      <td>659</td>\n",
       "      <td>France</td>\n",
       "      <td>Male</td>\n",
       "      <td>36</td>\n",
       "      <td>NaN</td>\n",
       "      <td>123841.49</td>\n",
       "      <td>2</td>\n",
       "      <td>1</td>\n",
       "      <td>0</td>\n",
       "      <td>96833.00</td>\n",
       "      <td>0</td>\n",
       "    </tr>\n",
       "    <tr>\n",
       "      <td>9999</td>\n",
       "      <td>792</td>\n",
       "      <td>France</td>\n",
       "      <td>Female</td>\n",
       "      <td>28</td>\n",
       "      <td>NaN</td>\n",
       "      <td>130142.79</td>\n",
       "      <td>1</td>\n",
       "      <td>1</td>\n",
       "      <td>0</td>\n",
       "      <td>38190.78</td>\n",
       "      <td>0</td>\n",
       "    </tr>\n",
       "  </tbody>\n",
       "</table>\n",
       "<p>909 rows × 11 columns</p>\n",
       "</div>"
      ],
      "text/plain": [
       "      credit_score geography  gender  age  tenure    balance  num_of_products  \\\n",
       "30             591     Spain  Female   39     NaN       0.00                3   \n",
       "48             550   Germany    Male   38     NaN  103391.38                1   \n",
       "51             585   Germany    Male   36     NaN  146050.97                2   \n",
       "53             655   Germany    Male   41     NaN  125561.97                1   \n",
       "60             742   Germany    Male   35     NaN  136857.00                1   \n",
       "...            ...       ...     ...  ...     ...        ...              ...   \n",
       "9944           744   Germany    Male   41     NaN  190409.34                2   \n",
       "9956           520    France  Female   46     NaN   85216.61                1   \n",
       "9964           479    France    Male   34     NaN  117593.48                2   \n",
       "9985           659    France    Male   36     NaN  123841.49                2   \n",
       "9999           792    France  Female   28     NaN  130142.79                1   \n",
       "\n",
       "      has_card  is_active_member  estimated_salary  exited  \n",
       "30           1                 0         140469.38       1  \n",
       "48           0                 1          90878.13       0  \n",
       "51           0                 0          86424.57       0  \n",
       "53           0                 0         164040.94       1  \n",
       "60           0                 0          84509.57       0  \n",
       "...        ...               ...               ...     ...  \n",
       "9944         1                 1         138361.48       0  \n",
       "9956         1                 0         117369.52       1  \n",
       "9964         0                 0         113308.29       0  \n",
       "9985         1                 0          96833.00       0  \n",
       "9999         1                 0          38190.78       0  \n",
       "\n",
       "[909 rows x 11 columns]"
      ]
     },
     "metadata": {},
     "output_type": "display_data"
    }
   ],
   "source": [
    "display(data[data['tenure'].isna() == True])"
   ]
  },
  {
   "cell_type": "code",
   "execution_count": 18,
   "metadata": {},
   "outputs": [
    {
     "data": {
      "text/html": [
       "<div>\n",
       "<style scoped>\n",
       "    .dataframe tbody tr th:only-of-type {\n",
       "        vertical-align: middle;\n",
       "    }\n",
       "\n",
       "    .dataframe tbody tr th {\n",
       "        vertical-align: top;\n",
       "    }\n",
       "\n",
       "    .dataframe thead th {\n",
       "        text-align: right;\n",
       "    }\n",
       "</style>\n",
       "<table border=\"1\" class=\"dataframe\">\n",
       "  <thead>\n",
       "    <tr style=\"text-align: right;\">\n",
       "      <th></th>\n",
       "      <th>credit_score</th>\n",
       "      <th>age</th>\n",
       "      <th>tenure</th>\n",
       "      <th>balance</th>\n",
       "      <th>num_of_products</th>\n",
       "      <th>has_card</th>\n",
       "      <th>is_active_member</th>\n",
       "      <th>estimated_salary</th>\n",
       "      <th>exited</th>\n",
       "    </tr>\n",
       "  </thead>\n",
       "  <tbody>\n",
       "    <tr>\n",
       "      <td>credit_score</td>\n",
       "      <td>1.000000</td>\n",
       "      <td>-0.003965</td>\n",
       "      <td>-0.000062</td>\n",
       "      <td>0.006268</td>\n",
       "      <td>0.012238</td>\n",
       "      <td>-0.005458</td>\n",
       "      <td>0.025651</td>\n",
       "      <td>-0.001384</td>\n",
       "      <td>-0.027094</td>\n",
       "    </tr>\n",
       "    <tr>\n",
       "      <td>age</td>\n",
       "      <td>-0.003965</td>\n",
       "      <td>1.000000</td>\n",
       "      <td>-0.013134</td>\n",
       "      <td>0.028308</td>\n",
       "      <td>-0.030680</td>\n",
       "      <td>-0.011721</td>\n",
       "      <td>0.085472</td>\n",
       "      <td>-0.007201</td>\n",
       "      <td>0.285323</td>\n",
       "    </tr>\n",
       "    <tr>\n",
       "      <td>tenure</td>\n",
       "      <td>-0.000062</td>\n",
       "      <td>-0.013134</td>\n",
       "      <td>1.000000</td>\n",
       "      <td>-0.007911</td>\n",
       "      <td>0.011979</td>\n",
       "      <td>0.027232</td>\n",
       "      <td>-0.032178</td>\n",
       "      <td>0.010520</td>\n",
       "      <td>-0.016761</td>\n",
       "    </tr>\n",
       "    <tr>\n",
       "      <td>balance</td>\n",
       "      <td>0.006268</td>\n",
       "      <td>0.028308</td>\n",
       "      <td>-0.007911</td>\n",
       "      <td>1.000000</td>\n",
       "      <td>-0.304180</td>\n",
       "      <td>-0.014858</td>\n",
       "      <td>-0.010084</td>\n",
       "      <td>0.012797</td>\n",
       "      <td>0.118533</td>\n",
       "    </tr>\n",
       "    <tr>\n",
       "      <td>num_of_products</td>\n",
       "      <td>0.012238</td>\n",
       "      <td>-0.030680</td>\n",
       "      <td>0.011979</td>\n",
       "      <td>-0.304180</td>\n",
       "      <td>1.000000</td>\n",
       "      <td>0.003183</td>\n",
       "      <td>0.009612</td>\n",
       "      <td>0.014204</td>\n",
       "      <td>-0.047820</td>\n",
       "    </tr>\n",
       "    <tr>\n",
       "      <td>has_card</td>\n",
       "      <td>-0.005458</td>\n",
       "      <td>-0.011721</td>\n",
       "      <td>0.027232</td>\n",
       "      <td>-0.014858</td>\n",
       "      <td>0.003183</td>\n",
       "      <td>1.000000</td>\n",
       "      <td>-0.011866</td>\n",
       "      <td>-0.009933</td>\n",
       "      <td>-0.007138</td>\n",
       "    </tr>\n",
       "    <tr>\n",
       "      <td>is_active_member</td>\n",
       "      <td>0.025651</td>\n",
       "      <td>0.085472</td>\n",
       "      <td>-0.032178</td>\n",
       "      <td>-0.010084</td>\n",
       "      <td>0.009612</td>\n",
       "      <td>-0.011866</td>\n",
       "      <td>1.000000</td>\n",
       "      <td>-0.011421</td>\n",
       "      <td>-0.156128</td>\n",
       "    </tr>\n",
       "    <tr>\n",
       "      <td>estimated_salary</td>\n",
       "      <td>-0.001384</td>\n",
       "      <td>-0.007201</td>\n",
       "      <td>0.010520</td>\n",
       "      <td>0.012797</td>\n",
       "      <td>0.014204</td>\n",
       "      <td>-0.009933</td>\n",
       "      <td>-0.011421</td>\n",
       "      <td>1.000000</td>\n",
       "      <td>0.012097</td>\n",
       "    </tr>\n",
       "    <tr>\n",
       "      <td>exited</td>\n",
       "      <td>-0.027094</td>\n",
       "      <td>0.285323</td>\n",
       "      <td>-0.016761</td>\n",
       "      <td>0.118533</td>\n",
       "      <td>-0.047820</td>\n",
       "      <td>-0.007138</td>\n",
       "      <td>-0.156128</td>\n",
       "      <td>0.012097</td>\n",
       "      <td>1.000000</td>\n",
       "    </tr>\n",
       "  </tbody>\n",
       "</table>\n",
       "</div>"
      ],
      "text/plain": [
       "                  credit_score       age    tenure   balance  num_of_products  \\\n",
       "credit_score          1.000000 -0.003965 -0.000062  0.006268         0.012238   \n",
       "age                  -0.003965  1.000000 -0.013134  0.028308        -0.030680   \n",
       "tenure               -0.000062 -0.013134  1.000000 -0.007911         0.011979   \n",
       "balance               0.006268  0.028308 -0.007911  1.000000        -0.304180   \n",
       "num_of_products       0.012238 -0.030680  0.011979 -0.304180         1.000000   \n",
       "has_card             -0.005458 -0.011721  0.027232 -0.014858         0.003183   \n",
       "is_active_member      0.025651  0.085472 -0.032178 -0.010084         0.009612   \n",
       "estimated_salary     -0.001384 -0.007201  0.010520  0.012797         0.014204   \n",
       "exited               -0.027094  0.285323 -0.016761  0.118533        -0.047820   \n",
       "\n",
       "                  has_card  is_active_member  estimated_salary    exited  \n",
       "credit_score     -0.005458          0.025651         -0.001384 -0.027094  \n",
       "age              -0.011721          0.085472         -0.007201  0.285323  \n",
       "tenure            0.027232         -0.032178          0.010520 -0.016761  \n",
       "balance          -0.014858         -0.010084          0.012797  0.118533  \n",
       "num_of_products   0.003183          0.009612          0.014204 -0.047820  \n",
       "has_card          1.000000         -0.011866         -0.009933 -0.007138  \n",
       "is_active_member -0.011866          1.000000         -0.011421 -0.156128  \n",
       "estimated_salary -0.009933         -0.011421          1.000000  0.012097  \n",
       "exited           -0.007138         -0.156128          0.012097  1.000000  "
      ]
     },
     "execution_count": 18,
     "metadata": {},
     "output_type": "execute_result"
    }
   ],
   "source": [
    "data.corr()"
   ]
  },
  {
   "cell_type": "markdown",
   "metadata": {},
   "source": [
    "Явной корреляции у данного столбца нету с какими-то другими, чтобы заполнить при их помощи, да и по срезу данных с пропущенными значениями в столбце **tenure** тоже не скажешь, что это точно новые клиенты - значения в остальных столбцах вроде кредитного рейтинга **credit_score** или например числа товаров **num_of_products** у них далеко не нулевые. Так что поскольку явной подсказки как заполнить эти пропущенные строки нет - предлагаю обучить модель без них и отбросить"
   ]
  },
  {
   "cell_type": "code",
   "execution_count": 19,
   "metadata": {},
   "outputs": [],
   "source": [
    "data = data.dropna()"
   ]
  },
  {
   "cell_type": "markdown",
   "metadata": {},
   "source": [
    "Переведём значения из float в integer"
   ]
  },
  {
   "cell_type": "code",
   "execution_count": 20,
   "metadata": {},
   "outputs": [],
   "source": [
    "data['tenure'] = data['tenure'].astype('int')"
   ]
  },
  {
   "cell_type": "markdown",
   "metadata": {},
   "source": [
    "**balance** - баланс на счёте"
   ]
  },
  {
   "cell_type": "code",
   "execution_count": 21,
   "metadata": {},
   "outputs": [
    {
     "data": {
      "text/plain": [
       "count      9091.000000\n",
       "mean      76522.740015\n",
       "std       62329.528576\n",
       "min           0.000000\n",
       "25%           0.000000\n",
       "50%       97318.250000\n",
       "75%      127561.890000\n",
       "max      250898.090000\n",
       "Name: balance, dtype: float64"
      ]
     },
     "execution_count": 21,
     "metadata": {},
     "output_type": "execute_result"
    }
   ],
   "source": [
    "data['balance'].describe()"
   ]
  },
  {
   "cell_type": "code",
   "execution_count": 22,
   "metadata": {},
   "outputs": [
    {
     "data": {
      "text/plain": [
       "<matplotlib.axes._subplots.AxesSubplot at 0x7f0c7b50add0>"
      ]
     },
     "execution_count": 22,
     "metadata": {},
     "output_type": "execute_result"
    },
    {
     "data": {
      "image/png": "[encoded data removed]",
      "text/plain": [
       "<Figure size 432x288 with 1 Axes>"
      ]
     },
     "metadata": {
      "needs_background": "light"
     },
     "output_type": "display_data"
    }
   ],
   "source": [
    "data['balance'].hist(bins=50)"
   ]
  },
  {
   "cell_type": "markdown",
   "metadata": {},
   "source": [
    "есть весьма большое число клиентов с 0 балансом на счёте"
   ]
  },
  {
   "cell_type": "markdown",
   "metadata": {},
   "source": [
    "**num_of_products** - число используемых продуктов"
   ]
  },
  {
   "cell_type": "code",
   "execution_count": 23,
   "metadata": {},
   "outputs": [
    {
     "data": {
      "text/plain": [
       "1    4617\n",
       "2    4184\n",
       "3     234\n",
       "4      56\n",
       "Name: num_of_products, dtype: int64"
      ]
     },
     "execution_count": 23,
     "metadata": {},
     "output_type": "execute_result"
    }
   ],
   "source": [
    "data['num_of_products'].value_counts()"
   ]
  },
  {
   "cell_type": "markdown",
   "metadata": {},
   "source": [
    "тут тоже можем сказать, что подавляющая часть клиентов использует 1-2 продукта, и крайне малое число клиентов 3-4"
   ]
  },
  {
   "cell_type": "markdown",
   "metadata": {},
   "source": [
    "**has_card** - есть ли у клиента карта"
   ]
  },
  {
   "cell_type": "code",
   "execution_count": 24,
   "metadata": {},
   "outputs": [
    {
     "data": {
      "text/plain": [
       "1    6409\n",
       "0    2682\n",
       "Name: has_card, dtype: int64"
      ]
     },
     "execution_count": 24,
     "metadata": {},
     "output_type": "execute_result"
    }
   ],
   "source": [
    "data['has_card'].value_counts()"
   ]
  },
  {
   "cell_type": "markdown",
   "metadata": {},
   "source": [
    "Клиеинтов с картой подавляющее, но не многократно превышающее большинство"
   ]
  },
  {
   "cell_type": "markdown",
   "metadata": {},
   "source": [
    "**is_active_member** - активность клиента"
   ]
  },
  {
   "cell_type": "code",
   "execution_count": 25,
   "metadata": {},
   "outputs": [
    {
     "data": {
      "text/plain": [
       "1    4687\n",
       "0    4404\n",
       "Name: is_active_member, dtype: int64"
      ]
     },
     "execution_count": 25,
     "metadata": {},
     "output_type": "execute_result"
    }
   ],
   "source": [
    "data['is_active_member'].value_counts()"
   ]
  },
  {
   "cell_type": "markdown",
   "metadata": {},
   "source": [
    "Активных и неактивных клиентов примерно поровну"
   ]
  },
  {
   "cell_type": "markdown",
   "metadata": {},
   "source": [
    "**estimated_salary** - предполгаемая зарплата"
   ]
  },
  {
   "cell_type": "code",
   "execution_count": 26,
   "metadata": {
    "scrolled": true
   },
   "outputs": [
    {
     "data": {
      "text/plain": [
       "count      9091.000000\n",
       "mean     100181.214924\n",
       "std       57624.755647\n",
       "min          11.580000\n",
       "25%       51227.745000\n",
       "50%      100240.200000\n",
       "75%      149567.210000\n",
       "max      199992.480000\n",
       "Name: estimated_salary, dtype: float64"
      ]
     },
     "execution_count": 26,
     "metadata": {},
     "output_type": "execute_result"
    }
   ],
   "source": [
    "data['estimated_salary'].describe()"
   ]
  },
  {
   "cell_type": "code",
   "execution_count": 27,
   "metadata": {
    "scrolled": true
   },
   "outputs": [
    {
     "data": {
      "text/plain": [
       "<matplotlib.axes._subplots.AxesSubplot at 0x7f0c7b420710>"
      ]
     },
     "execution_count": 27,
     "metadata": {},
     "output_type": "execute_result"
    },
    {
     "data": {
      "image/png": "[encoded data removed]",
      "text/plain": [
       "<Figure size 432x288 with 1 Axes>"
      ]
     },
     "metadata": {
      "needs_background": "light"
     },
     "output_type": "display_data"
    }
   ],
   "source": [
    "data['estimated_salary'].hist(bins=100)"
   ]
  },
  {
   "cell_type": "markdown",
   "metadata": {},
   "source": [
    "Уровни зарплат заметно отличаются, но при этом клиенты распределены фактически поровну"
   ]
  },
  {
   "cell_type": "markdown",
   "metadata": {},
   "source": [
    "**exited** - факт ухода клиента"
   ]
  },
  {
   "cell_type": "code",
   "execution_count": 28,
   "metadata": {
    "scrolled": false
   },
   "outputs": [
    {
     "data": {
      "text/plain": [
       "0    7237\n",
       "1    1854\n",
       "Name: exited, dtype: int64"
      ]
     },
     "execution_count": 28,
     "metadata": {},
     "output_type": "execute_result"
    }
   ],
   "source": [
    "data['exited'].value_counts()"
   ]
  },
  {
   "cell_type": "markdown",
   "metadata": {},
   "source": [
    "большинство клиентов не уходили от банка: из общего датафрейма можно сказать, что продолжили быть клиентами банка примерно 80 %"
   ]
  },
  {
   "cell_type": "markdown",
   "metadata": {},
   "source": [
    "В датафрейме есть 2 категориальных признака: **geography** и **gender** - их стоит перевести при помощи прямого кодирования в численные значения, для того чтобы по ним можно было учить модель"
   ]
  },
  {
   "cell_type": "code",
   "execution_count": 29,
   "metadata": {},
   "outputs": [],
   "source": [
    "data_ohe = pd.get_dummies(data, drop_first=True)"
   ]
  },
  {
   "cell_type": "code",
   "execution_count": 30,
   "metadata": {},
   "outputs": [
    {
     "data": {
      "text/html": [
       "<div>\n",
       "<style scoped>\n",
       "    .dataframe tbody tr th:only-of-type {\n",
       "        vertical-align: middle;\n",
       "    }\n",
       "\n",
       "    .dataframe tbody tr th {\n",
       "        vertical-align: top;\n",
       "    }\n",
       "\n",
       "    .dataframe thead th {\n",
       "        text-align: right;\n",
       "    }\n",
       "</style>\n",
       "<table border=\"1\" class=\"dataframe\">\n",
       "  <thead>\n",
       "    <tr style=\"text-align: right;\">\n",
       "      <th></th>\n",
       "      <th>credit_score</th>\n",
       "      <th>age</th>\n",
       "      <th>tenure</th>\n",
       "      <th>balance</th>\n",
       "      <th>num_of_products</th>\n",
       "      <th>has_card</th>\n",
       "      <th>is_active_member</th>\n",
       "      <th>estimated_salary</th>\n",
       "      <th>exited</th>\n",
       "      <th>geography_Germany</th>\n",
       "      <th>geography_Spain</th>\n",
       "      <th>gender_Male</th>\n",
       "    </tr>\n",
       "  </thead>\n",
       "  <tbody>\n",
       "    <tr>\n",
       "      <td>0</td>\n",
       "      <td>619</td>\n",
       "      <td>42</td>\n",
       "      <td>2</td>\n",
       "      <td>0.00</td>\n",
       "      <td>1</td>\n",
       "      <td>1</td>\n",
       "      <td>1</td>\n",
       "      <td>101348.88</td>\n",
       "      <td>1</td>\n",
       "      <td>0</td>\n",
       "      <td>0</td>\n",
       "      <td>0</td>\n",
       "    </tr>\n",
       "    <tr>\n",
       "      <td>1</td>\n",
       "      <td>608</td>\n",
       "      <td>41</td>\n",
       "      <td>1</td>\n",
       "      <td>83807.86</td>\n",
       "      <td>1</td>\n",
       "      <td>0</td>\n",
       "      <td>1</td>\n",
       "      <td>112542.58</td>\n",
       "      <td>0</td>\n",
       "      <td>0</td>\n",
       "      <td>1</td>\n",
       "      <td>0</td>\n",
       "    </tr>\n",
       "    <tr>\n",
       "      <td>2</td>\n",
       "      <td>502</td>\n",
       "      <td>42</td>\n",
       "      <td>8</td>\n",
       "      <td>159660.80</td>\n",
       "      <td>3</td>\n",
       "      <td>1</td>\n",
       "      <td>0</td>\n",
       "      <td>113931.57</td>\n",
       "      <td>1</td>\n",
       "      <td>0</td>\n",
       "      <td>0</td>\n",
       "      <td>0</td>\n",
       "    </tr>\n",
       "    <tr>\n",
       "      <td>3</td>\n",
       "      <td>699</td>\n",
       "      <td>39</td>\n",
       "      <td>1</td>\n",
       "      <td>0.00</td>\n",
       "      <td>2</td>\n",
       "      <td>0</td>\n",
       "      <td>0</td>\n",
       "      <td>93826.63</td>\n",
       "      <td>0</td>\n",
       "      <td>0</td>\n",
       "      <td>0</td>\n",
       "      <td>0</td>\n",
       "    </tr>\n",
       "    <tr>\n",
       "      <td>4</td>\n",
       "      <td>850</td>\n",
       "      <td>43</td>\n",
       "      <td>2</td>\n",
       "      <td>125510.82</td>\n",
       "      <td>1</td>\n",
       "      <td>1</td>\n",
       "      <td>1</td>\n",
       "      <td>79084.10</td>\n",
       "      <td>0</td>\n",
       "      <td>0</td>\n",
       "      <td>1</td>\n",
       "      <td>0</td>\n",
       "    </tr>\n",
       "    <tr>\n",
       "      <td>...</td>\n",
       "      <td>...</td>\n",
       "      <td>...</td>\n",
       "      <td>...</td>\n",
       "      <td>...</td>\n",
       "      <td>...</td>\n",
       "      <td>...</td>\n",
       "      <td>...</td>\n",
       "      <td>...</td>\n",
       "      <td>...</td>\n",
       "      <td>...</td>\n",
       "      <td>...</td>\n",
       "      <td>...</td>\n",
       "    </tr>\n",
       "    <tr>\n",
       "      <td>9994</td>\n",
       "      <td>800</td>\n",
       "      <td>29</td>\n",
       "      <td>2</td>\n",
       "      <td>0.00</td>\n",
       "      <td>2</td>\n",
       "      <td>0</td>\n",
       "      <td>0</td>\n",
       "      <td>167773.55</td>\n",
       "      <td>0</td>\n",
       "      <td>0</td>\n",
       "      <td>0</td>\n",
       "      <td>0</td>\n",
       "    </tr>\n",
       "    <tr>\n",
       "      <td>9995</td>\n",
       "      <td>771</td>\n",
       "      <td>39</td>\n",
       "      <td>5</td>\n",
       "      <td>0.00</td>\n",
       "      <td>2</td>\n",
       "      <td>1</td>\n",
       "      <td>0</td>\n",
       "      <td>96270.64</td>\n",
       "      <td>0</td>\n",
       "      <td>0</td>\n",
       "      <td>0</td>\n",
       "      <td>1</td>\n",
       "    </tr>\n",
       "    <tr>\n",
       "      <td>9996</td>\n",
       "      <td>516</td>\n",
       "      <td>35</td>\n",
       "      <td>10</td>\n",
       "      <td>57369.61</td>\n",
       "      <td>1</td>\n",
       "      <td>1</td>\n",
       "      <td>1</td>\n",
       "      <td>101699.77</td>\n",
       "      <td>0</td>\n",
       "      <td>0</td>\n",
       "      <td>0</td>\n",
       "      <td>1</td>\n",
       "    </tr>\n",
       "    <tr>\n",
       "      <td>9997</td>\n",
       "      <td>709</td>\n",
       "      <td>36</td>\n",
       "      <td>7</td>\n",
       "      <td>0.00</td>\n",
       "      <td>1</td>\n",
       "      <td>0</td>\n",
       "      <td>1</td>\n",
       "      <td>42085.58</td>\n",
       "      <td>1</td>\n",
       "      <td>0</td>\n",
       "      <td>0</td>\n",
       "      <td>0</td>\n",
       "    </tr>\n",
       "    <tr>\n",
       "      <td>9998</td>\n",
       "      <td>772</td>\n",
       "      <td>42</td>\n",
       "      <td>3</td>\n",
       "      <td>75075.31</td>\n",
       "      <td>2</td>\n",
       "      <td>1</td>\n",
       "      <td>0</td>\n",
       "      <td>92888.52</td>\n",
       "      <td>1</td>\n",
       "      <td>1</td>\n",
       "      <td>0</td>\n",
       "      <td>1</td>\n",
       "    </tr>\n",
       "  </tbody>\n",
       "</table>\n",
       "<p>9091 rows × 12 columns</p>\n",
       "</div>"
      ],
      "text/plain": [
       "      credit_score  age  tenure    balance  num_of_products  has_card  \\\n",
       "0              619   42       2       0.00                1         1   \n",
       "1              608   41       1   83807.86                1         0   \n",
       "2              502   42       8  159660.80                3         1   \n",
       "3              699   39       1       0.00                2         0   \n",
       "4              850   43       2  125510.82                1         1   \n",
       "...            ...  ...     ...        ...              ...       ...   \n",
       "9994           800   29       2       0.00                2         0   \n",
       "9995           771   39       5       0.00                2         1   \n",
       "9996           516   35      10   57369.61                1         1   \n",
       "9997           709   36       7       0.00                1         0   \n",
       "9998           772   42       3   75075.31                2         1   \n",
       "\n",
       "      is_active_member  estimated_salary  exited  geography_Germany  \\\n",
       "0                    1         101348.88       1                  0   \n",
       "1                    1         112542.58       0                  0   \n",
       "2                    0         113931.57       1                  0   \n",
       "3                    0          93826.63       0                  0   \n",
       "4                    1          79084.10       0                  0   \n",
       "...                ...               ...     ...                ...   \n",
       "9994                 0         167773.55       0                  0   \n",
       "9995                 0          96270.64       0                  0   \n",
       "9996                 1         101699.77       0                  0   \n",
       "9997                 1          42085.58       1                  0   \n",
       "9998                 0          92888.52       1                  1   \n",
       "\n",
       "      geography_Spain  gender_Male  \n",
       "0                   0            0  \n",
       "1                   1            0  \n",
       "2                   0            0  \n",
       "3                   0            0  \n",
       "4                   1            0  \n",
       "...               ...          ...  \n",
       "9994                0            0  \n",
       "9995                0            1  \n",
       "9996                0            1  \n",
       "9997                0            0  \n",
       "9998                0            1  \n",
       "\n",
       "[9091 rows x 12 columns]"
      ]
     },
     "metadata": {},
     "output_type": "display_data"
    }
   ],
   "source": [
    "display(data_ohe)"
   ]
  },
  {
   "cell_type": "markdown",
   "metadata": {},
   "source": [
    "Так как у признаков весьма разный масштаб (у столбцов кредитного рейтинга, числа лет сотрудничества, возраста, баланса на счету, числа продуктов банка у клиента и предполагаемой зарплаты) - потребуется масштабирование признаков. Так же можно сказать, что клиентов ушло из банка намного меньше, чем осталось, то есть для более точной работы будет необходимо применить балансирование"
   ]
  },
  {
   "cell_type": "code",
   "execution_count": 31,
   "metadata": {},
   "outputs": [],
   "source": [
    "numeric = ['credit_score', 'age', 'tenure', 'balance', 'num_of_products' ,'estimated_salary']"
   ]
  },
  {
   "cell_type": "markdown",
   "metadata": {},
   "source": [
    "Перед дальнейшим обучением моделей сначала поделим данные на тренировочную, валидационную и тестовую выборки"
   ]
  },
  {
   "cell_type": "code",
   "execution_count": 32,
   "metadata": {},
   "outputs": [],
   "source": [
    "train, validate, test = np.split(data_ohe.sample(frac=1, random_state=42), [int(0.6*len(data)), int(0.8*len(data))])"
   ]
  },
  {
   "cell_type": "code",
   "execution_count": 33,
   "metadata": {},
   "outputs": [
    {
     "data": {
      "text/html": [
       "<div>\n",
       "<style scoped>\n",
       "    .dataframe tbody tr th:only-of-type {\n",
       "        vertical-align: middle;\n",
       "    }\n",
       "\n",
       "    .dataframe tbody tr th {\n",
       "        vertical-align: top;\n",
       "    }\n",
       "\n",
       "    .dataframe thead th {\n",
       "        text-align: right;\n",
       "    }\n",
       "</style>\n",
       "<table border=\"1\" class=\"dataframe\">\n",
       "  <thead>\n",
       "    <tr style=\"text-align: right;\">\n",
       "      <th></th>\n",
       "      <th>credit_score</th>\n",
       "      <th>age</th>\n",
       "      <th>tenure</th>\n",
       "      <th>balance</th>\n",
       "      <th>num_of_products</th>\n",
       "      <th>has_card</th>\n",
       "      <th>is_active_member</th>\n",
       "      <th>estimated_salary</th>\n",
       "      <th>exited</th>\n",
       "      <th>geography_Germany</th>\n",
       "      <th>geography_Spain</th>\n",
       "      <th>gender_Male</th>\n",
       "    </tr>\n",
       "  </thead>\n",
       "  <tbody>\n",
       "    <tr>\n",
       "      <td>3639</td>\n",
       "      <td>680</td>\n",
       "      <td>48</td>\n",
       "      <td>8</td>\n",
       "      <td>115115.38</td>\n",
       "      <td>1</td>\n",
       "      <td>1</td>\n",
       "      <td>0</td>\n",
       "      <td>139558.60</td>\n",
       "      <td>1</td>\n",
       "      <td>1</td>\n",
       "      <td>0</td>\n",
       "      <td>0</td>\n",
       "    </tr>\n",
       "    <tr>\n",
       "      <td>2835</td>\n",
       "      <td>653</td>\n",
       "      <td>35</td>\n",
       "      <td>6</td>\n",
       "      <td>116662.96</td>\n",
       "      <td>2</td>\n",
       "      <td>1</td>\n",
       "      <td>1</td>\n",
       "      <td>23864.21</td>\n",
       "      <td>0</td>\n",
       "      <td>0</td>\n",
       "      <td>1</td>\n",
       "      <td>1</td>\n",
       "    </tr>\n",
       "    <tr>\n",
       "      <td>3378</td>\n",
       "      <td>529</td>\n",
       "      <td>72</td>\n",
       "      <td>5</td>\n",
       "      <td>94216.05</td>\n",
       "      <td>1</td>\n",
       "      <td>1</td>\n",
       "      <td>1</td>\n",
       "      <td>78695.68</td>\n",
       "      <td>0</td>\n",
       "      <td>1</td>\n",
       "      <td>0</td>\n",
       "      <td>1</td>\n",
       "    </tr>\n",
       "    <tr>\n",
       "      <td>1477</td>\n",
       "      <td>776</td>\n",
       "      <td>37</td>\n",
       "      <td>2</td>\n",
       "      <td>0.00</td>\n",
       "      <td>1</td>\n",
       "      <td>0</td>\n",
       "      <td>1</td>\n",
       "      <td>8065.00</td>\n",
       "      <td>0</td>\n",
       "      <td>0</td>\n",
       "      <td>0</td>\n",
       "      <td>1</td>\n",
       "    </tr>\n",
       "    <tr>\n",
       "      <td>4919</td>\n",
       "      <td>682</td>\n",
       "      <td>50</td>\n",
       "      <td>10</td>\n",
       "      <td>128039.01</td>\n",
       "      <td>1</td>\n",
       "      <td>1</td>\n",
       "      <td>1</td>\n",
       "      <td>102260.16</td>\n",
       "      <td>0</td>\n",
       "      <td>0</td>\n",
       "      <td>1</td>\n",
       "      <td>0</td>\n",
       "    </tr>\n",
       "    <tr>\n",
       "      <td>...</td>\n",
       "      <td>...</td>\n",
       "      <td>...</td>\n",
       "      <td>...</td>\n",
       "      <td>...</td>\n",
       "      <td>...</td>\n",
       "      <td>...</td>\n",
       "      <td>...</td>\n",
       "      <td>...</td>\n",
       "      <td>...</td>\n",
       "      <td>...</td>\n",
       "      <td>...</td>\n",
       "      <td>...</td>\n",
       "    </tr>\n",
       "    <tr>\n",
       "      <td>6350</td>\n",
       "      <td>640</td>\n",
       "      <td>48</td>\n",
       "      <td>1</td>\n",
       "      <td>111599.32</td>\n",
       "      <td>1</td>\n",
       "      <td>0</td>\n",
       "      <td>1</td>\n",
       "      <td>135995.58</td>\n",
       "      <td>0</td>\n",
       "      <td>1</td>\n",
       "      <td>0</td>\n",
       "      <td>1</td>\n",
       "    </tr>\n",
       "    <tr>\n",
       "      <td>6595</td>\n",
       "      <td>601</td>\n",
       "      <td>24</td>\n",
       "      <td>7</td>\n",
       "      <td>0.00</td>\n",
       "      <td>2</td>\n",
       "      <td>0</td>\n",
       "      <td>0</td>\n",
       "      <td>144660.42</td>\n",
       "      <td>0</td>\n",
       "      <td>0</td>\n",
       "      <td>1</td>\n",
       "      <td>1</td>\n",
       "    </tr>\n",
       "    <tr>\n",
       "      <td>1677</td>\n",
       "      <td>784</td>\n",
       "      <td>40</td>\n",
       "      <td>8</td>\n",
       "      <td>0.00</td>\n",
       "      <td>2</td>\n",
       "      <td>1</td>\n",
       "      <td>0</td>\n",
       "      <td>108891.30</td>\n",
       "      <td>0</td>\n",
       "      <td>0</td>\n",
       "      <td>1</td>\n",
       "      <td>0</td>\n",
       "    </tr>\n",
       "    <tr>\n",
       "      <td>4238</td>\n",
       "      <td>655</td>\n",
       "      <td>39</td>\n",
       "      <td>6</td>\n",
       "      <td>94631.26</td>\n",
       "      <td>2</td>\n",
       "      <td>1</td>\n",
       "      <td>1</td>\n",
       "      <td>148948.52</td>\n",
       "      <td>0</td>\n",
       "      <td>0</td>\n",
       "      <td>0</td>\n",
       "      <td>0</td>\n",
       "    </tr>\n",
       "    <tr>\n",
       "      <td>4132</td>\n",
       "      <td>540</td>\n",
       "      <td>28</td>\n",
       "      <td>6</td>\n",
       "      <td>84121.04</td>\n",
       "      <td>1</td>\n",
       "      <td>0</td>\n",
       "      <td>1</td>\n",
       "      <td>80698.54</td>\n",
       "      <td>0</td>\n",
       "      <td>0</td>\n",
       "      <td>1</td>\n",
       "      <td>0</td>\n",
       "    </tr>\n",
       "  </tbody>\n",
       "</table>\n",
       "<p>5454 rows × 12 columns</p>\n",
       "</div>"
      ],
      "text/plain": [
       "      credit_score  age  tenure    balance  num_of_products  has_card  \\\n",
       "3639           680   48       8  115115.38                1         1   \n",
       "2835           653   35       6  116662.96                2         1   \n",
       "3378           529   72       5   94216.05                1         1   \n",
       "1477           776   37       2       0.00                1         0   \n",
       "4919           682   50      10  128039.01                1         1   \n",
       "...            ...  ...     ...        ...              ...       ...   \n",
       "6350           640   48       1  111599.32                1         0   \n",
       "6595           601   24       7       0.00                2         0   \n",
       "1677           784   40       8       0.00                2         1   \n",
       "4238           655   39       6   94631.26                2         1   \n",
       "4132           540   28       6   84121.04                1         0   \n",
       "\n",
       "      is_active_member  estimated_salary  exited  geography_Germany  \\\n",
       "3639                 0         139558.60       1                  1   \n",
       "2835                 1          23864.21       0                  0   \n",
       "3378                 1          78695.68       0                  1   \n",
       "1477                 1           8065.00       0                  0   \n",
       "4919                 1         102260.16       0                  0   \n",
       "...                ...               ...     ...                ...   \n",
       "6350                 1         135995.58       0                  1   \n",
       "6595                 0         144660.42       0                  0   \n",
       "1677                 0         108891.30       0                  0   \n",
       "4238                 1         148948.52       0                  0   \n",
       "4132                 1          80698.54       0                  0   \n",
       "\n",
       "      geography_Spain  gender_Male  \n",
       "3639                0            0  \n",
       "2835                1            1  \n",
       "3378                0            1  \n",
       "1477                0            1  \n",
       "4919                1            0  \n",
       "...               ...          ...  \n",
       "6350                0            1  \n",
       "6595                1            1  \n",
       "1677                1            0  \n",
       "4238                0            0  \n",
       "4132                1            0  \n",
       "\n",
       "[5454 rows x 12 columns]"
      ]
     },
     "metadata": {},
     "output_type": "display_data"
    }
   ],
   "source": [
    "display(train)"
   ]
  },
  {
   "cell_type": "code",
   "execution_count": 34,
   "metadata": {},
   "outputs": [
    {
     "data": {
      "text/html": [
       "<div>\n",
       "<style scoped>\n",
       "    .dataframe tbody tr th:only-of-type {\n",
       "        vertical-align: middle;\n",
       "    }\n",
       "\n",
       "    .dataframe tbody tr th {\n",
       "        vertical-align: top;\n",
       "    }\n",
       "\n",
       "    .dataframe thead th {\n",
       "        text-align: right;\n",
       "    }\n",
       "</style>\n",
       "<table border=\"1\" class=\"dataframe\">\n",
       "  <thead>\n",
       "    <tr style=\"text-align: right;\">\n",
       "      <th></th>\n",
       "      <th>credit_score</th>\n",
       "      <th>age</th>\n",
       "      <th>tenure</th>\n",
       "      <th>balance</th>\n",
       "      <th>num_of_products</th>\n",
       "      <th>has_card</th>\n",
       "      <th>is_active_member</th>\n",
       "      <th>estimated_salary</th>\n",
       "      <th>exited</th>\n",
       "      <th>geography_Germany</th>\n",
       "      <th>geography_Spain</th>\n",
       "      <th>gender_Male</th>\n",
       "    </tr>\n",
       "  </thead>\n",
       "  <tbody>\n",
       "    <tr>\n",
       "      <td>7191</td>\n",
       "      <td>501</td>\n",
       "      <td>42</td>\n",
       "      <td>9</td>\n",
       "      <td>114631.23</td>\n",
       "      <td>1</td>\n",
       "      <td>0</td>\n",
       "      <td>1</td>\n",
       "      <td>91429.74</td>\n",
       "      <td>0</td>\n",
       "      <td>0</td>\n",
       "      <td>0</td>\n",
       "      <td>1</td>\n",
       "    </tr>\n",
       "    <tr>\n",
       "      <td>3547</td>\n",
       "      <td>662</td>\n",
       "      <td>35</td>\n",
       "      <td>6</td>\n",
       "      <td>0.00</td>\n",
       "      <td>2</td>\n",
       "      <td>0</td>\n",
       "      <td>0</td>\n",
       "      <td>2423.90</td>\n",
       "      <td>1</td>\n",
       "      <td>0</td>\n",
       "      <td>1</td>\n",
       "      <td>0</td>\n",
       "    </tr>\n",
       "    <tr>\n",
       "      <td>4019</td>\n",
       "      <td>620</td>\n",
       "      <td>31</td>\n",
       "      <td>2</td>\n",
       "      <td>166833.86</td>\n",
       "      <td>2</td>\n",
       "      <td>1</td>\n",
       "      <td>1</td>\n",
       "      <td>135171.60</td>\n",
       "      <td>0</td>\n",
       "      <td>0</td>\n",
       "      <td>1</td>\n",
       "      <td>1</td>\n",
       "    </tr>\n",
       "    <tr>\n",
       "      <td>7525</td>\n",
       "      <td>580</td>\n",
       "      <td>35</td>\n",
       "      <td>9</td>\n",
       "      <td>121355.19</td>\n",
       "      <td>1</td>\n",
       "      <td>0</td>\n",
       "      <td>1</td>\n",
       "      <td>35671.45</td>\n",
       "      <td>0</td>\n",
       "      <td>1</td>\n",
       "      <td>0</td>\n",
       "      <td>1</td>\n",
       "    </tr>\n",
       "    <tr>\n",
       "      <td>7763</td>\n",
       "      <td>614</td>\n",
       "      <td>36</td>\n",
       "      <td>1</td>\n",
       "      <td>44054.84</td>\n",
       "      <td>1</td>\n",
       "      <td>1</td>\n",
       "      <td>1</td>\n",
       "      <td>73329.08</td>\n",
       "      <td>0</td>\n",
       "      <td>0</td>\n",
       "      <td>1</td>\n",
       "      <td>0</td>\n",
       "    </tr>\n",
       "    <tr>\n",
       "      <td>...</td>\n",
       "      <td>...</td>\n",
       "      <td>...</td>\n",
       "      <td>...</td>\n",
       "      <td>...</td>\n",
       "      <td>...</td>\n",
       "      <td>...</td>\n",
       "      <td>...</td>\n",
       "      <td>...</td>\n",
       "      <td>...</td>\n",
       "      <td>...</td>\n",
       "      <td>...</td>\n",
       "      <td>...</td>\n",
       "    </tr>\n",
       "    <tr>\n",
       "      <td>711</td>\n",
       "      <td>634</td>\n",
       "      <td>35</td>\n",
       "      <td>6</td>\n",
       "      <td>116269.01</td>\n",
       "      <td>1</td>\n",
       "      <td>1</td>\n",
       "      <td>0</td>\n",
       "      <td>129964.94</td>\n",
       "      <td>0</td>\n",
       "      <td>1</td>\n",
       "      <td>0</td>\n",
       "      <td>1</td>\n",
       "    </tr>\n",
       "    <tr>\n",
       "      <td>6698</td>\n",
       "      <td>725</td>\n",
       "      <td>31</td>\n",
       "      <td>6</td>\n",
       "      <td>0.00</td>\n",
       "      <td>1</td>\n",
       "      <td>0</td>\n",
       "      <td>0</td>\n",
       "      <td>61326.43</td>\n",
       "      <td>0</td>\n",
       "      <td>0</td>\n",
       "      <td>0</td>\n",
       "      <td>0</td>\n",
       "    </tr>\n",
       "    <tr>\n",
       "      <td>348</td>\n",
       "      <td>654</td>\n",
       "      <td>32</td>\n",
       "      <td>1</td>\n",
       "      <td>114510.85</td>\n",
       "      <td>1</td>\n",
       "      <td>1</td>\n",
       "      <td>1</td>\n",
       "      <td>126143.23</td>\n",
       "      <td>0</td>\n",
       "      <td>1</td>\n",
       "      <td>0</td>\n",
       "      <td>0</td>\n",
       "    </tr>\n",
       "    <tr>\n",
       "      <td>9275</td>\n",
       "      <td>427</td>\n",
       "      <td>42</td>\n",
       "      <td>1</td>\n",
       "      <td>75681.52</td>\n",
       "      <td>1</td>\n",
       "      <td>1</td>\n",
       "      <td>1</td>\n",
       "      <td>57098.00</td>\n",
       "      <td>0</td>\n",
       "      <td>1</td>\n",
       "      <td>0</td>\n",
       "      <td>1</td>\n",
       "    </tr>\n",
       "    <tr>\n",
       "      <td>9681</td>\n",
       "      <td>651</td>\n",
       "      <td>63</td>\n",
       "      <td>8</td>\n",
       "      <td>129968.67</td>\n",
       "      <td>1</td>\n",
       "      <td>1</td>\n",
       "      <td>1</td>\n",
       "      <td>11830.53</td>\n",
       "      <td>0</td>\n",
       "      <td>0</td>\n",
       "      <td>1</td>\n",
       "      <td>0</td>\n",
       "    </tr>\n",
       "  </tbody>\n",
       "</table>\n",
       "<p>1818 rows × 12 columns</p>\n",
       "</div>"
      ],
      "text/plain": [
       "      credit_score  age  tenure    balance  num_of_products  has_card  \\\n",
       "7191           501   42       9  114631.23                1         0   \n",
       "3547           662   35       6       0.00                2         0   \n",
       "4019           620   31       2  166833.86                2         1   \n",
       "7525           580   35       9  121355.19                1         0   \n",
       "7763           614   36       1   44054.84                1         1   \n",
       "...            ...  ...     ...        ...              ...       ...   \n",
       "711            634   35       6  116269.01                1         1   \n",
       "6698           725   31       6       0.00                1         0   \n",
       "348            654   32       1  114510.85                1         1   \n",
       "9275           427   42       1   75681.52                1         1   \n",
       "9681           651   63       8  129968.67                1         1   \n",
       "\n",
       "      is_active_member  estimated_salary  exited  geography_Germany  \\\n",
       "7191                 1          91429.74       0                  0   \n",
       "3547                 0           2423.90       1                  0   \n",
       "4019                 1         135171.60       0                  0   \n",
       "7525                 1          35671.45       0                  1   \n",
       "7763                 1          73329.08       0                  0   \n",
       "...                ...               ...     ...                ...   \n",
       "711                  0         129964.94       0                  1   \n",
       "6698                 0          61326.43       0                  0   \n",
       "348                  1         126143.23       0                  1   \n",
       "9275                 1          57098.00       0                  1   \n",
       "9681                 1          11830.53       0                  0   \n",
       "\n",
       "      geography_Spain  gender_Male  \n",
       "7191                0            1  \n",
       "3547                1            0  \n",
       "4019                1            1  \n",
       "7525                0            1  \n",
       "7763                1            0  \n",
       "...               ...          ...  \n",
       "711                 0            1  \n",
       "6698                0            0  \n",
       "348                 0            0  \n",
       "9275                0            1  \n",
       "9681                1            0  \n",
       "\n",
       "[1818 rows x 12 columns]"
      ]
     },
     "metadata": {},
     "output_type": "display_data"
    }
   ],
   "source": [
    "display(validate)"
   ]
  },
  {
   "cell_type": "code",
   "execution_count": 35,
   "metadata": {},
   "outputs": [
    {
     "data": {
      "text/html": [
       "<div>\n",
       "<style scoped>\n",
       "    .dataframe tbody tr th:only-of-type {\n",
       "        vertical-align: middle;\n",
       "    }\n",
       "\n",
       "    .dataframe tbody tr th {\n",
       "        vertical-align: top;\n",
       "    }\n",
       "\n",
       "    .dataframe thead th {\n",
       "        text-align: right;\n",
       "    }\n",
       "</style>\n",
       "<table border=\"1\" class=\"dataframe\">\n",
       "  <thead>\n",
       "    <tr style=\"text-align: right;\">\n",
       "      <th></th>\n",
       "      <th>credit_score</th>\n",
       "      <th>age</th>\n",
       "      <th>tenure</th>\n",
       "      <th>balance</th>\n",
       "      <th>num_of_products</th>\n",
       "      <th>has_card</th>\n",
       "      <th>is_active_member</th>\n",
       "      <th>estimated_salary</th>\n",
       "      <th>exited</th>\n",
       "      <th>geography_Germany</th>\n",
       "      <th>geography_Spain</th>\n",
       "      <th>gender_Male</th>\n",
       "    </tr>\n",
       "  </thead>\n",
       "  <tbody>\n",
       "    <tr>\n",
       "      <td>5977</td>\n",
       "      <td>704</td>\n",
       "      <td>40</td>\n",
       "      <td>6</td>\n",
       "      <td>95452.89</td>\n",
       "      <td>1</td>\n",
       "      <td>0</td>\n",
       "      <td>1</td>\n",
       "      <td>179964.55</td>\n",
       "      <td>0</td>\n",
       "      <td>0</td>\n",
       "      <td>0</td>\n",
       "      <td>0</td>\n",
       "    </tr>\n",
       "    <tr>\n",
       "      <td>476</td>\n",
       "      <td>605</td>\n",
       "      <td>31</td>\n",
       "      <td>1</td>\n",
       "      <td>117992.59</td>\n",
       "      <td>1</td>\n",
       "      <td>1</td>\n",
       "      <td>1</td>\n",
       "      <td>183598.77</td>\n",
       "      <td>0</td>\n",
       "      <td>1</td>\n",
       "      <td>0</td>\n",
       "      <td>0</td>\n",
       "    </tr>\n",
       "    <tr>\n",
       "      <td>8172</td>\n",
       "      <td>759</td>\n",
       "      <td>31</td>\n",
       "      <td>8</td>\n",
       "      <td>0.00</td>\n",
       "      <td>2</td>\n",
       "      <td>1</td>\n",
       "      <td>1</td>\n",
       "      <td>99086.74</td>\n",
       "      <td>0</td>\n",
       "      <td>0</td>\n",
       "      <td>1</td>\n",
       "      <td>1</td>\n",
       "    </tr>\n",
       "    <tr>\n",
       "      <td>115</td>\n",
       "      <td>628</td>\n",
       "      <td>30</td>\n",
       "      <td>9</td>\n",
       "      <td>132351.29</td>\n",
       "      <td>2</td>\n",
       "      <td>1</td>\n",
       "      <td>1</td>\n",
       "      <td>74169.13</td>\n",
       "      <td>0</td>\n",
       "      <td>1</td>\n",
       "      <td>0</td>\n",
       "      <td>0</td>\n",
       "    </tr>\n",
       "    <tr>\n",
       "      <td>3352</td>\n",
       "      <td>591</td>\n",
       "      <td>40</td>\n",
       "      <td>2</td>\n",
       "      <td>99886.42</td>\n",
       "      <td>2</td>\n",
       "      <td>1</td>\n",
       "      <td>1</td>\n",
       "      <td>88695.19</td>\n",
       "      <td>0</td>\n",
       "      <td>0</td>\n",
       "      <td>0</td>\n",
       "      <td>1</td>\n",
       "    </tr>\n",
       "    <tr>\n",
       "      <td>...</td>\n",
       "      <td>...</td>\n",
       "      <td>...</td>\n",
       "      <td>...</td>\n",
       "      <td>...</td>\n",
       "      <td>...</td>\n",
       "      <td>...</td>\n",
       "      <td>...</td>\n",
       "      <td>...</td>\n",
       "      <td>...</td>\n",
       "      <td>...</td>\n",
       "      <td>...</td>\n",
       "      <td>...</td>\n",
       "    </tr>\n",
       "    <tr>\n",
       "      <td>6312</td>\n",
       "      <td>658</td>\n",
       "      <td>28</td>\n",
       "      <td>9</td>\n",
       "      <td>152812.58</td>\n",
       "      <td>1</td>\n",
       "      <td>1</td>\n",
       "      <td>0</td>\n",
       "      <td>166682.57</td>\n",
       "      <td>0</td>\n",
       "      <td>1</td>\n",
       "      <td>0</td>\n",
       "      <td>0</td>\n",
       "    </tr>\n",
       "    <tr>\n",
       "      <td>5722</td>\n",
       "      <td>681</td>\n",
       "      <td>34</td>\n",
       "      <td>3</td>\n",
       "      <td>0.00</td>\n",
       "      <td>2</td>\n",
       "      <td>0</td>\n",
       "      <td>0</td>\n",
       "      <td>55816.20</td>\n",
       "      <td>0</td>\n",
       "      <td>0</td>\n",
       "      <td>0</td>\n",
       "      <td>1</td>\n",
       "    </tr>\n",
       "    <tr>\n",
       "      <td>5940</td>\n",
       "      <td>849</td>\n",
       "      <td>41</td>\n",
       "      <td>6</td>\n",
       "      <td>0.00</td>\n",
       "      <td>2</td>\n",
       "      <td>1</td>\n",
       "      <td>1</td>\n",
       "      <td>169203.51</td>\n",
       "      <td>1</td>\n",
       "      <td>0</td>\n",
       "      <td>0</td>\n",
       "      <td>0</td>\n",
       "    </tr>\n",
       "    <tr>\n",
       "      <td>966</td>\n",
       "      <td>563</td>\n",
       "      <td>34</td>\n",
       "      <td>6</td>\n",
       "      <td>139810.34</td>\n",
       "      <td>1</td>\n",
       "      <td>1</td>\n",
       "      <td>1</td>\n",
       "      <td>152417.79</td>\n",
       "      <td>0</td>\n",
       "      <td>0</td>\n",
       "      <td>0</td>\n",
       "      <td>0</td>\n",
       "    </tr>\n",
       "    <tr>\n",
       "      <td>8005</td>\n",
       "      <td>634</td>\n",
       "      <td>36</td>\n",
       "      <td>1</td>\n",
       "      <td>69518.95</td>\n",
       "      <td>1</td>\n",
       "      <td>1</td>\n",
       "      <td>0</td>\n",
       "      <td>116238.39</td>\n",
       "      <td>0</td>\n",
       "      <td>0</td>\n",
       "      <td>0</td>\n",
       "      <td>0</td>\n",
       "    </tr>\n",
       "  </tbody>\n",
       "</table>\n",
       "<p>1819 rows × 12 columns</p>\n",
       "</div>"
      ],
      "text/plain": [
       "      credit_score  age  tenure    balance  num_of_products  has_card  \\\n",
       "5977           704   40       6   95452.89                1         0   \n",
       "476            605   31       1  117992.59                1         1   \n",
       "8172           759   31       8       0.00                2         1   \n",
       "115            628   30       9  132351.29                2         1   \n",
       "3352           591   40       2   99886.42                2         1   \n",
       "...            ...  ...     ...        ...              ...       ...   \n",
       "6312           658   28       9  152812.58                1         1   \n",
       "5722           681   34       3       0.00                2         0   \n",
       "5940           849   41       6       0.00                2         1   \n",
       "966            563   34       6  139810.34                1         1   \n",
       "8005           634   36       1   69518.95                1         1   \n",
       "\n",
       "      is_active_member  estimated_salary  exited  geography_Germany  \\\n",
       "5977                 1         179964.55       0                  0   \n",
       "476                  1         183598.77       0                  1   \n",
       "8172                 1          99086.74       0                  0   \n",
       "115                  1          74169.13       0                  1   \n",
       "3352                 1          88695.19       0                  0   \n",
       "...                ...               ...     ...                ...   \n",
       "6312                 0         166682.57       0                  1   \n",
       "5722                 0          55816.20       0                  0   \n",
       "5940                 1         169203.51       1                  0   \n",
       "966                  1         152417.79       0                  0   \n",
       "8005                 0         116238.39       0                  0   \n",
       "\n",
       "      geography_Spain  gender_Male  \n",
       "5977                0            0  \n",
       "476                 0            0  \n",
       "8172                1            1  \n",
       "115                 0            0  \n",
       "3352                0            1  \n",
       "...               ...          ...  \n",
       "6312                0            0  \n",
       "5722                0            1  \n",
       "5940                0            0  \n",
       "966                 0            0  \n",
       "8005                0            0  \n",
       "\n",
       "[1819 rows x 12 columns]"
      ]
     },
     "metadata": {},
     "output_type": "display_data"
    }
   ],
   "source": [
    "display(test)"
   ]
  },
  {
   "cell_type": "code",
   "execution_count": 36,
   "metadata": {},
   "outputs": [],
   "source": [
    "features_train = train.drop(['exited'], axis=1)\n",
    "target_train = train['exited']\n",
    "features_validate = validate.drop(['exited'], axis=1)\n",
    "target_validate = validate['exited']\n",
    "features_test = test.drop(['exited'], axis=1)\n",
    "target_test = test['exited']"
   ]
  },
  {
   "cell_type": "markdown",
   "metadata": {},
   "source": [
    "Теперь применим масштабирование к столбцам признаков, которые в этом нуждаются:"
   ]
  },
  {
   "cell_type": "code",
   "execution_count": 37,
   "metadata": {},
   "outputs": [],
   "source": [
    "scaler = StandardScaler()\n",
    "scaler.fit(features_train[numeric]);"
   ]
  },
  {
   "cell_type": "code",
   "execution_count": 38,
   "metadata": {},
   "outputs": [],
   "source": [
    "features_train[numeric] = scaler.transform(features_train[numeric])\n",
    "features_validate[numeric] = scaler.transform(features_validate[numeric])\n",
    "features_test[numeric] = scaler.transform(features_test[numeric]);"
   ]
  },
  {
   "cell_type": "markdown",
   "metadata": {},
   "source": [
    "Теперь призанки отмасштабированы. Обучим далее несколько моделей без применения балансирования, а затем с применением"
   ]
  },
  {
   "cell_type": "markdown",
   "metadata": {},
   "source": [
    "## Борьба с дисбалансом"
   ]
  },
  {
   "cell_type": "markdown",
   "metadata": {},
   "source": [
    "Для начала обучим модель **решающего дерева**"
   ]
  },
  {
   "cell_type": "markdown",
   "metadata": {},
   "source": [
    "У решающего дерева есть 3 гиперпараметра, которые были рассмотрены: глубина дерева, которая не должна быть слишком большой для избежания переобучения, но и не слишком малой для недообучения; min_samples_split - минимальное кол-во выборок для разделения внутреннего узла; min_samples_leaf - минимальное кол-во образцов в листовом узле"
   ]
  },
  {
   "cell_type": "markdown",
   "metadata": {},
   "source": [
    "Напишем цикл, который прогонит каждый из этих параметров в определённом диапазоне и найдём их наилучшую комбинацию с наибольшим значением f1-меры. Так как решающее дерево самая быстрообучаемая модель, вроде бы не особо нагружающая систему, позволим себе сделать диапазоны достаточно большими:"
   ]
  },
  {
   "cell_type": "code",
   "execution_count": 39,
   "metadata": {},
   "outputs": [
    {
     "name": "stdout",
     "output_type": "stream",
     "text": [
      "Лучшая точность наблюдается при глубине:7\n",
      "Лучшая точность наблюдается при минимальном кол-ве выборок для разделения: 20\n",
      "Лушчая точность наблюдается при минимальном кол-ве образцов в одном листе: 1\n",
      "Лучшая f1 мера решающего дерева: 0.5638474295190712\n",
      "Значение величины AUC-ROC: 0.8338897604652943\n",
      "\n",
      "Затраченное время на обучения наилучшего решаюшего дерева: 618.5404800050019 секунд\n"
     ]
    }
   ],
   "source": [
    "best_tree_f_score = 0\n",
    "best_tree_depth = None\n",
    "best_samples_split = None\n",
    "best_samples_leaf = None\n",
    "best_auc_roc = None\n",
    "\n",
    "start_time = time.perf_counter()\n",
    "\n",
    "for depth in range(2,30):\n",
    "    for split in range(2,30):\n",
    "        for leaf in range(1,30):\n",
    "            model = DecisionTreeClassifier(random_state=12345, max_depth=depth, min_samples_split=split, min_samples_leaf=leaf)\n",
    "            model.fit(features_train, target_train)\n",
    "            predicted_validate = model.predict(features_validate)\n",
    "            f_score = f1_score(target_validate, predicted_validate)\n",
    "            probabilities_validate = model.predict_proba(features_validate)\n",
    "            probabilities_one_validate = probabilities_validate[:, 1]\n",
    "            auc_roc = roc_auc_score(target_validate, probabilities_one_validate)\n",
    "            if f_score > best_tree_f_score:\n",
    "                best_tree_f_score = f_score\n",
    "                best_tree_depth = depth\n",
    "                best_samples_split = split\n",
    "                best_samples_leaf = leaf\n",
    "                best_auc_roc = auc_roc\n",
    "\n",
    "finish_time = time.perf_counter()                \n",
    "\n",
    "tree_study_time = finish_time - start_time\n",
    "\n",
    "print(f'Лучшая точность наблюдается при глубине:{best_tree_depth}')\n",
    "print(f'Лучшая точность наблюдается при минимальном кол-ве выборок для разделения: {best_samples_split}')\n",
    "print(f'Лушчая точность наблюдается при минимальном кол-ве образцов в одном листе: {best_samples_leaf}')\n",
    "print(f'Лучшая f1 мера решающего дерева: {best_tree_f_score}')\n",
    "print(f'Значение величины AUC-ROC: {best_auc_roc}')\n",
    "print()\n",
    "print(f'Затраченное время на обучения наилучшего решаюшего дерева: {tree_study_time} секунд')"
   ]
  },
  {
   "cell_type": "markdown",
   "metadata": {},
   "source": [
    "Сделаем аналогичные вычисления, только уже сбалансировав классы, добавив редким классам больший вес"
   ]
  },
  {
   "cell_type": "code",
   "execution_count": 40,
   "metadata": {},
   "outputs": [
    {
     "name": "stdout",
     "output_type": "stream",
     "text": [
      "Лучшая точность наблюдается при глубине:9\n",
      "Лучшая точность наблюдается при минимальном кол-ве выборок для разделения: 28\n",
      "Лушчая точность наблюдается при минимальном кол-ве образцов в одном листе: 6\n",
      "Лучшая f1 мера решающего дерева: 0.574279379157428\n",
      "Значение величины AUC-ROC: 0.8282342924925383\n",
      "\n",
      "Затраченное время на обучения наилучшего решаюшего дерева: 665.1459047249955 секунд\n"
     ]
    }
   ],
   "source": [
    "best_tree_f_score = 0\n",
    "best_tree_depth = None\n",
    "best_samples_split = None\n",
    "best_samples_leaf = None\n",
    "best_auc_roc = None\n",
    "\n",
    "start_time = time.perf_counter()\n",
    "\n",
    "for depth in range(2,30):\n",
    "    for split in range(2,30):\n",
    "        for leaf in range(1,30):\n",
    "            model = DecisionTreeClassifier(random_state=12345, max_depth=depth, min_samples_split=split, \n",
    "                                           min_samples_leaf=leaf, class_weight='balanced')\n",
    "            model.fit(features_train, target_train)\n",
    "            predicted_validate = model.predict(features_validate)\n",
    "            f_score = f1_score(target_validate, predicted_validate)\n",
    "            probabilities_validate = model.predict_proba(features_validate)\n",
    "            probabilities_one_validate = probabilities_validate[:, 1]\n",
    "            auc_roc = roc_auc_score(target_validate, probabilities_one_validate)\n",
    "            if f_score > best_tree_f_score:\n",
    "                best_tree_f_score = f_score\n",
    "                best_tree_depth = depth\n",
    "                best_samples_split = split\n",
    "                best_samples_leaf = leaf\n",
    "                best_auc_roc = auc_roc\n",
    "\n",
    "finish_time = time.perf_counter()                \n",
    "\n",
    "tree_study_time = finish_time - start_time\n",
    "\n",
    "print(f'Лучшая точность наблюдается при глубине:{best_tree_depth}')\n",
    "print(f'Лучшая точность наблюдается при минимальном кол-ве выборок для разделения: {best_samples_split}')\n",
    "print(f'Лушчая точность наблюдается при минимальном кол-ве образцов в одном листе: {best_samples_leaf}')\n",
    "print(f'Лучшая f1 мера решающего дерева: {best_tree_f_score}')\n",
    "print(f'Значение величины AUC-ROC: {best_auc_roc}')\n",
    "print()\n",
    "print(f'Затраченное время на обучения наилучшего решаюшего дерева: {tree_study_time} секунд')"
   ]
  },
  {
   "cell_type": "markdown",
   "metadata": {},
   "source": [
    "Можем заметить, что f1 мера и значение AUC-ROC фактически не изменились, но зато при введении балансирования классов поменялись оптимальные гиперпараметры"
   ]
  },
  {
   "cell_type": "markdown",
   "metadata": {},
   "source": [
    "Теперь рассмотрим модель **случайного леса**"
   ]
  },
  {
   "cell_type": "code",
   "execution_count": 41,
   "metadata": {
    "scrolled": true
   },
   "outputs": [
    {
     "name": "stdout",
     "output_type": "stream",
     "text": [
      "Лучшая точность наблюдается при глубине:16\n",
      "Лучшая точность наблюдается при числе деревьев: 13\n",
      "Лучшая точность наблюдается при минимальном кол-ве выборок для разделения: 7\n",
      "Лучшая f1 мера случайного леса: 0.6102819237147595\n",
      "Значение величины AUC-ROC: 0.834308754878702\n",
      "\n",
      "Затраченное время на обучения случайного леса: 469.0786829999997 секунд\n"
     ]
    }
   ],
   "source": [
    "best_forest_f_score = 0\n",
    "best_tree_number = None\n",
    "best_tree_depth = None\n",
    "best_samples_split = None\n",
    "best_auc_roc = None\n",
    "\n",
    "start_time = time.perf_counter()\n",
    "\n",
    "for tree in range(2,20):\n",
    "    for max_depth in range(2,20):\n",
    "        for split in range(2,20):\n",
    "            model = RandomForestClassifier(random_state=12345, n_estimators=tree, max_depth=max_depth, min_samples_split=split)\n",
    "            model.fit(features_train, target_train)\n",
    "            predicted_validate = model.predict(features_validate)\n",
    "            f_score = f1_score(target_validate, predicted_validate)\n",
    "            probabilities_validate = model.predict_proba(features_validate)\n",
    "            probabilities_one_validate = probabilities_validate[:, 1]\n",
    "            auc_roc = roc_auc_score(target_validate, probabilities_one_validate)\n",
    "            if f_score > best_forest_f_score:\n",
    "                best_forest_f_score = f_score\n",
    "                best_tree_number = tree\n",
    "                best_tree_depth = max_depth\n",
    "                best_samples_split = split\n",
    "                best_auc_roc = auc_roc\n",
    "\n",
    "finish_time = time.perf_counter()                \n",
    "\n",
    "forest_study_time = finish_time - start_time\n",
    "\n",
    "print(f'Лучшая точность наблюдается при глубине:{best_tree_depth}')\n",
    "print(f'Лучшая точность наблюдается при числе деревьев: {best_tree_number}')\n",
    "print(f'Лучшая точность наблюдается при минимальном кол-ве выборок для разделения: {best_samples_split}')\n",
    "print(f'Лучшая f1 мера случайного леса: {best_forest_f_score}')\n",
    "print(f'Значение величины AUC-ROC: {best_auc_roc}')\n",
    "print()\n",
    "print(f'Затраченное время на обучения случайного леса: {forest_study_time} секунд')"
   ]
  },
  {
   "cell_type": "markdown",
   "metadata": {},
   "source": [
    "Теперь попробуем обучить модель случайного леса с учётом балансировки:"
   ]
  },
  {
   "cell_type": "code",
   "execution_count": 42,
   "metadata": {},
   "outputs": [
    {
     "name": "stdout",
     "output_type": "stream",
     "text": [
      "Лучшая точность наблюдается при глубине:18\n",
      "Лучшая точность наблюдается при числе деревьев: 7\n",
      "Лучшая точность наблюдается при минимальном кол-ве выборок для разделения: 13\n",
      "Лучшая f1 мера случайного леса: 0.631578947368421\n",
      "Значение величины AUC-ROC: 0.8407017678120456\n",
      "\n",
      "Затраченное время на обучения случайного леса: 485.8686471800029 секунд\n"
     ]
    }
   ],
   "source": [
    "best_forest_f_score = 0\n",
    "best_tree_number = None\n",
    "best_tree_depth = None\n",
    "best_samples_split = None\n",
    "best_auc_roc = None\n",
    "\n",
    "start_time = time.perf_counter()\n",
    "\n",
    "for tree in range(1,20):\n",
    "    for max_depth in range(1,20):\n",
    "        for split in range(2,20):\n",
    "            model = RandomForestClassifier(random_state=12345, n_estimators=tree, max_depth=max_depth, class_weight='balanced',\n",
    "                                          min_samples_split=split)\n",
    "            model.fit(features_train, target_train)\n",
    "            predicted_validate = model.predict(features_validate)\n",
    "            f_score = f1_score(target_validate, predicted_validate)\n",
    "            probabilities_validate = model.predict_proba(features_validate)\n",
    "            probabilities_one_validate = probabilities_validate[:, 1]\n",
    "            auc_roc = roc_auc_score(target_validate, probabilities_one_validate)\n",
    "            if f_score > best_forest_f_score:\n",
    "                best_forest_f_score = f_score\n",
    "                best_tree_number = tree\n",
    "                best_tree_depth = max_depth\n",
    "                best_samples_split = split\n",
    "                best_auc_roc = auc_roc\n",
    "\n",
    "finish_time = time.perf_counter()                \n",
    "\n",
    "forest_study_time = finish_time - start_time\n",
    "\n",
    "print(f'Лучшая точность наблюдается при глубине:{best_tree_depth}')\n",
    "print(f'Лучшая точность наблюдается при числе деревьев: {best_tree_number}')\n",
    "print(f'Лучшая точность наблюдается при минимальном кол-ве выборок для разделения: {best_samples_split}')\n",
    "print(f'Лучшая f1 мера случайного леса: {best_forest_f_score}')\n",
    "print(f'Значение величины AUC-ROC: {best_auc_roc}')\n",
    "print()\n",
    "print(f'Затраченное время на обучения случайного леса: {forest_study_time} секунд')"
   ]
  },
  {
   "cell_type": "markdown",
   "metadata": {},
   "source": [
    "Как и для решающего дерева - для случайного леса момент с несбалансированными данными оказался несильно влияющим на итоговую f1 меру, если его учитывать. При тех же гиперпараметрах учёт редковстречающихся классов вероятно более заметен, но если говорить о переборе в цикле при поиске наиболее оптимальной модели - итоговый лучший результат будет уже действительно с другим оптимальным набором гиперпараметров,но f1 мера сама по себе увеличится крайне незначительно относительно прошлого лучшего результата"
   ]
  },
  {
   "cell_type": "markdown",
   "metadata": {},
   "source": [
    "Теперь рассмотрим модель **логистической регрессии**"
   ]
  },
  {
   "cell_type": "code",
   "execution_count": 43,
   "metadata": {},
   "outputs": [
    {
     "name": "stdout",
     "output_type": "stream",
     "text": [
      "f1 мера логистической регрессии: 0.3404255319148936\n",
      "Значение величины AUC-ROC: 0.7551714241983624\n",
      "\n",
      "Затраченное время на обучения модели логистической регрессии: 0.03745524599798955 секунд\n"
     ]
    }
   ],
   "source": [
    "start_time = time.perf_counter()\n",
    "\n",
    "model = LogisticRegression(random_state=12345, solver='liblinear')\n",
    "model.fit(features_train, target_train)\n",
    "predicted_validate = model.predict(features_validate)\n",
    "f_score = f1_score(target_validate, predicted_validate)\n",
    "probabilities_validate = model.predict_proba(features_validate)\n",
    "probabilities_one_validate = probabilities_validate[:, 1]\n",
    "auc_roc = roc_auc_score(target_validate, probabilities_one_validate)\n",
    "\n",
    "finish_time = time.perf_counter()\n",
    "\n",
    "logreg_study_time = finish_time - start_time\n",
    "\n",
    "print(f'f1 мера логистической регрессии: {f_score}')\n",
    "print(f'Значение величины AUC-ROC: {auc_roc}')\n",
    "print()\n",
    "print(f'Затраченное время на обучения модели логистической регрессии: {logreg_study_time} секунд')"
   ]
  },
  {
   "cell_type": "markdown",
   "metadata": {},
   "source": [
    "Модель логистической регрессии с учётом балансировки:"
   ]
  },
  {
   "cell_type": "code",
   "execution_count": 44,
   "metadata": {},
   "outputs": [
    {
     "name": "stdout",
     "output_type": "stream",
     "text": [
      "f1 мера логистической регрессии: 0.48000000000000004\n",
      "Значение величины AUC-ROC: 0.7557626080967321\n",
      "\n",
      "Затраченное время на обучения модели логистической регрессии: 0.028277900004468393 секунд\n"
     ]
    }
   ],
   "source": [
    "start_time = time.perf_counter()\n",
    "\n",
    "model = LogisticRegression(random_state=12345, solver='liblinear', class_weight='balanced')\n",
    "model.fit(features_train, target_train)\n",
    "predicted_validate = model.predict(features_validate)\n",
    "f_score = f1_score(target_validate, predicted_validate)\n",
    "probabilities_validate = model.predict_proba(features_validate)\n",
    "probabilities_one_validate = probabilities_validate[:, 1]\n",
    "auc_roc = roc_auc_score(target_validate, probabilities_one_validate)\n",
    "\n",
    "finish_time = time.perf_counter()\n",
    "\n",
    "logreg_study_time = finish_time - start_time\n",
    "\n",
    "print(f'f1 мера логистической регрессии: {f_score}')\n",
    "print(f'Значение величины AUC-ROC: {auc_roc}')\n",
    "print()\n",
    "print(f'Затраченное время на обучения модели логистической регрессии: {logreg_study_time} секунд')"
   ]
  },
  {
   "cell_type": "markdown",
   "metadata": {},
   "source": [
    "Для логистической регресси, как видно, момент с увеличением веса редко встречающихся классов крайне важен: f1 мера фактически взлетела в полтора раза"
   ]
  },
  {
   "cell_type": "markdown",
   "metadata": {},
   "source": [
    "Общий итог по работе со всеми моделями: учёт того, что есть редковстречающиеся классы не особо сильно даёт выигрыш по f1 мере для решающего дерева и случайного леса, но вот для логистической регрессии это крайне важный момент, который позволил поднять f1 меру фактически в полтора раза. Метрика AUC-ROC является фактически пропорциональной для F1 - у моделей с высоким значением f1 точно так же наблюдаются высокие значения AUC-ROC , но оно и логично - оба этих параметра чем ближе к 1, тем совершеннее модель, и рост одного должен логичным образом коррелировать с ростом другого"
   ]
  },
  {
   "cell_type": "markdown",
   "metadata": {},
   "source": [
    "Лучший результат по итогу показал случайный лес - там f1 меру удалось поднять фактически до 0.6, но был использован лишь 1 способ борьбы с дисбалансом - прописывание гиперпараметра class_weight=\"balanced\". Существует так же способ искусственного уменьшения/увеличения выборки (выберем вариант с уменьшением), при котором случайным образом отрбасывается часть преобладающих объектов, чтобы \"уравнять\" классы 0 и 1 (в данном случае 0 - число оставшихся клиентов, сильно выше числа ушедших 1). Заново возьмём модель случайного леса и используем ещё один способ борьбы с дисбаласом - пусть значение fraction, которое будем отбрасывать, равно 20 %. "
   ]
  },
  {
   "cell_type": "code",
   "execution_count": 45,
   "metadata": {},
   "outputs": [],
   "source": [
    "fraction = 0.2"
   ]
  },
  {
   "cell_type": "code",
   "execution_count": 46,
   "metadata": {},
   "outputs": [],
   "source": [
    "# разделим обучающую выборку на положительные и отрицательные объекты\n",
    "features_zeros = features_train[target_train == 0]\n",
    "features_ones = features_train[target_train == 1]\n",
    "target_zeros = target_train[target_train == 0]\n",
    "target_ones = target_train[target_train == 1]"
   ]
  },
  {
   "cell_type": "code",
   "execution_count": 47,
   "metadata": {},
   "outputs": [],
   "source": [
    "features_downsampled = shuffle(pd.concat(\n",
    "        [features_zeros.sample(frac=fraction, random_state=12345)] + [features_ones]))\n",
    "target_downsampled = shuffle(pd.concat(\n",
    "    [target_zeros.sample(frac=fraction, random_state=12345)] + [target_ones]))"
   ]
  },
  {
   "cell_type": "code",
   "execution_count": 48,
   "metadata": {},
   "outputs": [
    {
     "name": "stdout",
     "output_type": "stream",
     "text": [
      "Лучшая точность наблюдается при глубине:3\n",
      "Лучшая точность наблюдается при числе деревьев: 19\n",
      "Лучшая точность наблюдается при минимальном кол-ве выборок для разделения: 7\n",
      "Лучшая f1 мера случайного леса: 0.33023255813953495\n",
      "\n",
      "Затраченное время на обучения случайного леса: 251.15208784000424 секунд\n"
     ]
    }
   ],
   "source": [
    "best_forest_f_score = 0\n",
    "best_tree_number = None\n",
    "best_tree_depth = None\n",
    "best_samples_split = None\n",
    "best_auc_roc = None\n",
    "\n",
    "start_time = time.perf_counter()\n",
    "\n",
    "for tree in range(2,20):\n",
    "    for max_depth in range(2,20):\n",
    "        for split in range(2,20):\n",
    "            model = RandomForestClassifier(random_state=12345, n_estimators=tree, max_depth=max_depth, min_samples_split=split)\n",
    "            model.fit(features_downsampled, target_downsampled)\n",
    "            predicted_validate = model.predict(features_validate)\n",
    "            f_score = f1_score(target_validate, predicted_validate)\n",
    "            probabilities_validate = model.predict_proba(features_validate)\n",
    "            probabilities_one_validate = probabilities_validate[:, 1]\n",
    "            auc_roc = roc_auc_score(target_validate, probabilities_one_validate)\n",
    "            best_auc_roc = auc_roc\n",
    "            if f_score > best_forest_f_score:\n",
    "                best_forest_f_score = f_score\n",
    "                best_tree_number = tree\n",
    "                best_tree_depth = max_depth\n",
    "                best_samples_split = split\n",
    "\n",
    "finish_time = time.perf_counter()                \n",
    "\n",
    "forest_study_time = finish_time - start_time\n",
    "\n",
    "print(f'Лучшая точность наблюдается при глубине:{best_tree_depth}')\n",
    "print(f'Лучшая точность наблюдается при числе деревьев: {best_tree_number}')\n",
    "print(f'Лучшая точность наблюдается при минимальном кол-ве выборок для разделения: {best_samples_split}')\n",
    "print(f'Лучшая f1 мера случайного леса: {best_forest_f_score}')\n",
    "print(f'Значение величины AUC-ROC: {best_auc_roc}')\n",
    "print()\n",
    "print(f'Затраченное время на обучения случайного леса: {forest_study_time} секунд')"
   ]
  },
  {
   "cell_type": "markdown",
   "metadata": {},
   "source": [
    "Как видно, этот способ не очень хорошо сработал - значение f1 даже значительно упало по сравнению с обученным случайным лесом без искусственного отбрасывания слишком часто встречающихся значений. Примем за лучшую модель случайный лес с гиперпараметром class_weight='balanced' и остальными оптимальными гиперпараметрами, так как он показал наилучший результат на валидационных данных. Именно по нему и будем смотреть f1 меру на тестовой выборке."
   ]
  },
  {
   "cell_type": "markdown",
   "metadata": {},
   "source": [
    "## Тестирование модели"
   ]
  },
  {
   "cell_type": "code",
   "execution_count": 49,
   "metadata": {},
   "outputs": [
    {
     "name": "stdout",
     "output_type": "stream",
     "text": [
      "f1 мера на тестовых данных: 0.5901201602136181\n"
     ]
    }
   ],
   "source": [
    "model = RandomForestClassifier(random_state=12345, n_estimators=7, max_depth=18, \n",
    "                               class_weight='balanced', min_samples_split=13)\n",
    "model.fit(features_train, target_train)\n",
    "predicted_test = model.predict(features_test)\n",
    "f_score = f1_score(target_test, predicted_test)\n",
    "print(f'f1 мера на тестовых данных: {f_score}')"
   ]
  },
  {
   "cell_type": "markdown",
   "metadata": {},
   "source": [
    "Требуемая f1 мера в 0.59 достигнута!"
   ]
  },
  {
   "cell_type": "markdown",
   "metadata": {},
   "source": [
    "Посчитаем значение AUC-ROC (равняется 0.5 для случайной модели и 1 для идеальной)"
   ]
  },
  {
   "cell_type": "code",
   "execution_count": 50,
   "metadata": {},
   "outputs": [
    {
     "name": "stdout",
     "output_type": "stream",
     "text": [
      "0.8197830755286781\n"
     ]
    }
   ],
   "source": [
    "probabilities_test = model.predict_proba(features_test)\n",
    "probabilities_one_test = probabilities_test[:, 1]\n",
    "auc_roc = roc_auc_score(target_test, probabilities_one_test)\n",
    "print(auc_roc)"
   ]
  },
  {
   "cell_type": "markdown",
   "metadata": {},
   "source": [
    "Как видно, данный параметр вышел вполне добротным - получившаяся модель конечно не идеальна, и несколько делека от значения AUC-ROC = 1 , но заментно лучше, чем просто случайная модель со своими 0.5 , так что можно считать итоговую обученную модель вполне годной."
   ]
  },
  {
   "cell_type": "markdown",
   "metadata": {},
   "source": [
    "**Итог**: проведена предобработка данных, их масштабирование, устранены данные с пропусками, выполнено разделение данных на тренировочную, тестовую и валидационную выборки. По тестовой и валидационной выборке получена наилучшая модель, проанализировано как на неё влияют способы борьбы с дисбалансом. Установлено, что выбранная модель показывает требуемый высокий уровень f1 меры и значение AUC_ROC"
   ]
  }
 ],
 "metadata": {
  "ExecuteTimeLog": [
   {
    "duration": 693,
    "start_time": "2022-02-26T13:57:13.021Z"
   },
   {
    "duration": 37,
    "start_time": "2022-02-26T13:57:29.247Z"
   },
   {
    "duration": 41,
    "start_time": "2022-02-26T13:57:42.358Z"
   },
   {
    "duration": 7,
    "start_time": "2022-02-26T14:06:10.075Z"
   },
   {
    "duration": 8,
    "start_time": "2022-02-26T14:13:33.212Z"
   },
   {
    "duration": 28,
    "start_time": "2022-02-26T14:13:42.459Z"
   },
   {
    "duration": 11,
    "start_time": "2022-02-26T14:14:40.511Z"
   },
   {
    "duration": 11,
    "start_time": "2022-02-26T14:16:47.064Z"
   },
   {
    "duration": 393,
    "start_time": "2022-02-26T14:17:02.477Z"
   },
   {
    "duration": 410,
    "start_time": "2022-02-26T14:17:10.178Z"
   },
   {
    "duration": 9,
    "start_time": "2022-02-26T14:18:26.352Z"
   },
   {
    "duration": 9,
    "start_time": "2022-02-26T14:22:42.224Z"
   },
   {
    "duration": 9,
    "start_time": "2022-02-26T14:36:43.978Z"
   },
   {
    "duration": 11,
    "start_time": "2022-02-26T14:38:11.654Z"
   },
   {
    "duration": 573,
    "start_time": "2022-02-26T14:38:29.838Z"
   },
   {
    "duration": 11,
    "start_time": "2022-02-26T14:43:29.590Z"
   },
   {
    "duration": 6,
    "start_time": "2022-02-26T14:44:35.171Z"
   },
   {
    "duration": 29,
    "start_time": "2022-02-26T14:46:24.617Z"
   },
   {
    "duration": 21,
    "start_time": "2022-02-26T14:47:29.908Z"
   },
   {
    "duration": 9,
    "start_time": "2022-02-26T14:57:43.441Z"
   },
   {
    "duration": 5,
    "start_time": "2022-02-26T14:57:50.258Z"
   },
   {
    "duration": 15,
    "start_time": "2022-02-26T14:58:44.518Z"
   },
   {
    "duration": 481,
    "start_time": "2022-02-26T14:58:54.760Z"
   },
   {
    "duration": 627,
    "start_time": "2022-02-26T14:59:02.655Z"
   },
   {
    "duration": 8,
    "start_time": "2022-02-26T15:01:43.219Z"
   },
   {
    "duration": 9,
    "start_time": "2022-02-26T15:03:02.125Z"
   },
   {
    "duration": 8,
    "start_time": "2022-02-26T15:04:38.056Z"
   },
   {
    "duration": 5428,
    "start_time": "2022-02-26T15:06:32.561Z"
   },
   {
    "duration": 12,
    "start_time": "2022-02-26T15:06:39.207Z"
   },
   {
    "duration": 320,
    "start_time": "2022-02-26T15:06:50.551Z"
   },
   {
    "duration": 428,
    "start_time": "2022-02-26T15:06:59.957Z"
   },
   {
    "duration": 543,
    "start_time": "2022-02-26T15:07:10.621Z"
   },
   {
    "duration": 5006,
    "start_time": "2022-02-26T15:10:03.121Z"
   },
   {
    "duration": 8,
    "start_time": "2022-02-26T15:10:08.968Z"
   },
   {
    "duration": 5,
    "start_time": "2022-02-26T15:36:04.477Z"
   },
   {
    "duration": 29,
    "start_time": "2022-02-26T15:41:12.231Z"
   },
   {
    "duration": 4,
    "start_time": "2022-02-26T15:42:57.251Z"
   },
   {
    "duration": 9,
    "start_time": "2022-02-26T15:46:18.763Z"
   },
   {
    "duration": 27,
    "start_time": "2022-02-26T15:46:33.432Z"
   },
   {
    "duration": 1256,
    "start_time": "2022-02-26T15:50:25.251Z"
   },
   {
    "duration": 31,
    "start_time": "2022-02-26T15:50:26.510Z"
   },
   {
    "duration": 52,
    "start_time": "2022-02-26T15:50:26.544Z"
   },
   {
    "duration": 10,
    "start_time": "2022-02-26T15:50:26.599Z"
   },
   {
    "duration": 6,
    "start_time": "2022-02-26T15:50:26.612Z"
   },
   {
    "duration": 27,
    "start_time": "2022-02-26T15:50:26.620Z"
   },
   {
    "duration": 42,
    "start_time": "2022-02-26T15:50:26.649Z"
   },
   {
    "duration": 8,
    "start_time": "2022-02-26T15:50:26.694Z"
   },
   {
    "duration": 9,
    "start_time": "2022-02-26T15:50:26.706Z"
   },
   {
    "duration": 525,
    "start_time": "2022-02-26T15:50:26.718Z"
   },
   {
    "duration": 9,
    "start_time": "2022-02-26T15:50:27.245Z"
   },
   {
    "duration": 27,
    "start_time": "2022-02-26T15:50:27.256Z"
   },
   {
    "duration": 13,
    "start_time": "2022-02-26T15:50:27.285Z"
   },
   {
    "duration": 388,
    "start_time": "2022-02-26T15:50:27.300Z"
   },
   {
    "duration": 7,
    "start_time": "2022-02-26T15:50:27.691Z"
   },
   {
    "duration": 5,
    "start_time": "2022-02-26T15:50:27.701Z"
   },
   {
    "duration": 28,
    "start_time": "2022-02-26T15:50:27.709Z"
   },
   {
    "duration": 52,
    "start_time": "2022-02-26T15:50:27.739Z"
   },
   {
    "duration": 8,
    "start_time": "2022-02-26T15:50:27.794Z"
   },
   {
    "duration": 8,
    "start_time": "2022-02-26T15:50:27.804Z"
   },
   {
    "duration": 13,
    "start_time": "2022-02-26T15:50:27.814Z"
   },
   {
    "duration": 432,
    "start_time": "2022-02-26T15:50:27.830Z"
   },
   {
    "duration": 8,
    "start_time": "2022-02-26T15:50:28.264Z"
   },
   {
    "duration": 7,
    "start_time": "2022-02-26T15:50:28.283Z"
   },
   {
    "duration": 11,
    "start_time": "2022-02-26T15:50:28.293Z"
   },
   {
    "duration": 10,
    "start_time": "2022-02-26T15:50:28.306Z"
   },
   {
    "duration": 665,
    "start_time": "2022-02-26T15:50:28.321Z"
   },
   {
    "duration": 8,
    "start_time": "2022-02-26T15:50:28.989Z"
   },
   {
    "duration": 21,
    "start_time": "2022-02-26T15:50:29.000Z"
   },
   {
    "duration": 58,
    "start_time": "2022-02-26T15:50:29.023Z"
   },
   {
    "duration": 29,
    "start_time": "2022-02-26T15:50:38.018Z"
   },
   {
    "duration": 14,
    "start_time": "2022-02-26T16:49:21.481Z"
   },
   {
    "duration": 28,
    "start_time": "2022-02-26T16:49:29.920Z"
   },
   {
    "duration": 27,
    "start_time": "2022-02-26T16:49:37.860Z"
   },
   {
    "duration": 26,
    "start_time": "2022-02-26T16:49:45.562Z"
   },
   {
    "duration": 10,
    "start_time": "2022-02-26T16:50:10.998Z"
   },
   {
    "duration": 25,
    "start_time": "2022-02-26T16:50:13.934Z"
   },
   {
    "duration": 25,
    "start_time": "2022-02-26T16:50:16.592Z"
   },
   {
    "duration": 25,
    "start_time": "2022-02-26T16:50:20.682Z"
   },
   {
    "duration": 10,
    "start_time": "2022-02-26T16:51:06.093Z"
   },
   {
    "duration": 6,
    "start_time": "2022-02-26T16:53:26.992Z"
   },
   {
    "duration": 5012,
    "start_time": "2022-02-26T16:54:01.510Z"
   },
   {
    "duration": 5,
    "start_time": "2022-02-26T16:56:15.575Z"
   },
   {
    "duration": 5,
    "start_time": "2022-02-26T17:00:57.443Z"
   },
   {
    "duration": 14,
    "start_time": "2022-02-26T17:05:36.972Z"
   },
   {
    "duration": 7,
    "start_time": "2022-02-26T17:05:46.366Z"
   },
   {
    "duration": 363,
    "start_time": "2022-02-26T17:07:10.074Z"
   },
   {
    "duration": 18,
    "start_time": "2022-02-26T17:07:26.804Z"
   },
   {
    "duration": 26,
    "start_time": "2022-02-26T17:07:44.259Z"
   },
   {
    "duration": 227,
    "start_time": "2022-02-26T17:19:06.022Z"
   },
   {
    "duration": 4,
    "start_time": "2022-02-26T17:21:51.469Z"
   },
   {
    "duration": 240,
    "start_time": "2022-02-26T17:23:53.577Z"
   },
   {
    "duration": 798,
    "start_time": "2022-02-26T17:24:22.367Z"
   },
   {
    "duration": 20109,
    "start_time": "2022-02-26T17:24:51.660Z"
   },
   {
    "duration": 19515,
    "start_time": "2022-02-26T17:28:53.184Z"
   },
   {
    "duration": 1296,
    "start_time": "2022-02-26T17:35:00.815Z"
   },
   {
    "duration": 30,
    "start_time": "2022-02-26T17:35:02.113Z"
   },
   {
    "duration": 51,
    "start_time": "2022-02-26T17:35:02.147Z"
   },
   {
    "duration": 6,
    "start_time": "2022-02-26T17:35:02.200Z"
   },
   {
    "duration": 10,
    "start_time": "2022-02-26T17:35:02.209Z"
   },
   {
    "duration": 36,
    "start_time": "2022-02-26T17:35:02.221Z"
   },
   {
    "duration": 30,
    "start_time": "2022-02-26T17:35:02.259Z"
   },
   {
    "duration": 17,
    "start_time": "2022-02-26T17:35:02.293Z"
   },
   {
    "duration": 16,
    "start_time": "2022-02-26T17:35:02.314Z"
   },
   {
    "duration": 520,
    "start_time": "2022-02-26T17:35:02.332Z"
   },
   {
    "duration": 27,
    "start_time": "2022-02-26T17:35:02.855Z"
   },
   {
    "duration": 8,
    "start_time": "2022-02-26T17:35:02.884Z"
   },
   {
    "duration": 17,
    "start_time": "2022-02-26T17:35:02.894Z"
   },
   {
    "duration": 498,
    "start_time": "2022-02-26T17:35:02.913Z"
   },
   {
    "duration": 11,
    "start_time": "2022-02-26T17:35:03.414Z"
   },
   {
    "duration": 11,
    "start_time": "2022-02-26T17:35:03.428Z"
   },
   {
    "duration": 59,
    "start_time": "2022-02-26T17:35:03.441Z"
   },
   {
    "duration": 24,
    "start_time": "2022-02-26T17:35:03.502Z"
   },
   {
    "duration": 9,
    "start_time": "2022-02-26T17:35:03.528Z"
   },
   {
    "duration": 4,
    "start_time": "2022-02-26T17:35:03.540Z"
   },
   {
    "duration": 38,
    "start_time": "2022-02-26T17:35:03.547Z"
   },
   {
    "duration": 419,
    "start_time": "2022-02-26T17:35:03.588Z"
   },
   {
    "duration": 8,
    "start_time": "2022-02-26T17:35:04.012Z"
   },
   {
    "duration": 9,
    "start_time": "2022-02-26T17:35:04.023Z"
   },
   {
    "duration": 18,
    "start_time": "2022-02-26T17:35:04.034Z"
   },
   {
    "duration": 35,
    "start_time": "2022-02-26T17:35:04.055Z"
   },
   {
    "duration": 624,
    "start_time": "2022-02-26T17:35:04.092Z"
   },
   {
    "duration": 9,
    "start_time": "2022-02-26T17:35:04.719Z"
   },
   {
    "duration": 20,
    "start_time": "2022-02-26T17:35:04.731Z"
   },
   {
    "duration": 52,
    "start_time": "2022-02-26T17:35:04.753Z"
   },
   {
    "duration": 4,
    "start_time": "2022-02-26T17:35:04.808Z"
   },
   {
    "duration": 13,
    "start_time": "2022-02-26T17:35:04.814Z"
   },
   {
    "duration": 23,
    "start_time": "2022-02-26T17:35:04.830Z"
   },
   {
    "duration": 24,
    "start_time": "2022-02-26T17:35:04.883Z"
   },
   {
    "duration": 26,
    "start_time": "2022-02-26T17:35:04.910Z"
   },
   {
    "duration": 43,
    "start_time": "2022-02-26T17:35:04.939Z"
   },
   {
    "duration": 8,
    "start_time": "2022-02-26T17:35:04.985Z"
   },
   {
    "duration": 23,
    "start_time": "2022-02-26T17:35:04.995Z"
   },
   {
    "duration": 349,
    "start_time": "2022-02-26T17:35:05.020Z"
   },
   {
    "duration": 5,
    "start_time": "2022-02-26T17:35:23.964Z"
   },
   {
    "duration": 1334,
    "start_time": "2022-02-26T17:35:29.072Z"
   },
   {
    "duration": 30,
    "start_time": "2022-02-26T17:35:30.409Z"
   },
   {
    "duration": 52,
    "start_time": "2022-02-26T17:35:30.442Z"
   },
   {
    "duration": 13,
    "start_time": "2022-02-26T17:35:30.497Z"
   },
   {
    "duration": 18,
    "start_time": "2022-02-26T17:35:30.512Z"
   },
   {
    "duration": 36,
    "start_time": "2022-02-26T17:35:30.532Z"
   },
   {
    "duration": 17,
    "start_time": "2022-02-26T17:35:30.571Z"
   },
   {
    "duration": 25,
    "start_time": "2022-02-26T17:35:30.592Z"
   },
   {
    "duration": 19,
    "start_time": "2022-02-26T17:35:30.620Z"
   },
   {
    "duration": 516,
    "start_time": "2022-02-26T17:35:30.642Z"
   },
   {
    "duration": 8,
    "start_time": "2022-02-26T17:35:31.161Z"
   },
   {
    "duration": 24,
    "start_time": "2022-02-26T17:35:31.183Z"
   },
   {
    "duration": 28,
    "start_time": "2022-02-26T17:35:31.209Z"
   },
   {
    "duration": 403,
    "start_time": "2022-02-26T17:35:31.239Z"
   },
   {
    "duration": 8,
    "start_time": "2022-02-26T17:35:31.644Z"
   },
   {
    "duration": 27,
    "start_time": "2022-02-26T17:35:31.655Z"
   },
   {
    "duration": 42,
    "start_time": "2022-02-26T17:35:31.684Z"
   },
   {
    "duration": 30,
    "start_time": "2022-02-26T17:35:31.728Z"
   },
   {
    "duration": 7,
    "start_time": "2022-02-26T17:35:31.760Z"
   },
   {
    "duration": 20,
    "start_time": "2022-02-26T17:35:31.769Z"
   },
   {
    "duration": 30,
    "start_time": "2022-02-26T17:35:31.791Z"
   },
   {
    "duration": 412,
    "start_time": "2022-02-26T17:35:31.823Z"
   },
   {
    "duration": 7,
    "start_time": "2022-02-26T17:35:32.240Z"
   },
   {
    "duration": 25,
    "start_time": "2022-02-26T17:35:32.249Z"
   },
   {
    "duration": 26,
    "start_time": "2022-02-26T17:35:32.276Z"
   },
   {
    "duration": 15,
    "start_time": "2022-02-26T17:35:32.304Z"
   },
   {
    "duration": 614,
    "start_time": "2022-02-26T17:35:32.321Z"
   },
   {
    "duration": 7,
    "start_time": "2022-02-26T17:35:32.938Z"
   },
   {
    "duration": 39,
    "start_time": "2022-02-26T17:35:32.947Z"
   },
   {
    "duration": 27,
    "start_time": "2022-02-26T17:35:32.988Z"
   },
   {
    "duration": 3,
    "start_time": "2022-02-26T17:35:33.018Z"
   },
   {
    "duration": 15,
    "start_time": "2022-02-26T17:35:33.023Z"
   },
   {
    "duration": 54,
    "start_time": "2022-02-26T17:35:33.041Z"
   },
   {
    "duration": 24,
    "start_time": "2022-02-26T17:35:33.097Z"
   },
   {
    "duration": 24,
    "start_time": "2022-02-26T17:35:33.123Z"
   },
   {
    "duration": 39,
    "start_time": "2022-02-26T17:35:33.149Z"
   },
   {
    "duration": 15,
    "start_time": "2022-02-26T17:35:33.190Z"
   },
   {
    "duration": 21,
    "start_time": "2022-02-26T17:35:33.207Z"
   },
   {
    "duration": 21503,
    "start_time": "2022-02-26T17:35:33.230Z"
   },
   {
    "duration": 18797,
    "start_time": "2022-02-26T17:36:23.472Z"
   },
   {
    "duration": 22829,
    "start_time": "2022-02-26T17:37:08.976Z"
   },
   {
    "duration": 22550,
    "start_time": "2022-02-26T17:39:43.787Z"
   },
   {
    "duration": 393,
    "start_time": "2022-02-26T17:45:09.186Z"
   },
   {
    "duration": 444,
    "start_time": "2022-02-26T17:45:40.552Z"
   },
   {
    "duration": 503772,
    "start_time": "2022-02-26T17:50:05.168Z"
   },
   {
    "duration": 100436,
    "start_time": "2022-02-26T18:00:08.404Z"
   },
   {
    "duration": 582705,
    "start_time": "2022-02-26T18:02:20.629Z"
   },
   {
    "duration": 1389,
    "start_time": "2022-02-26T18:27:21.428Z"
   },
   {
    "duration": 32,
    "start_time": "2022-02-26T18:27:22.820Z"
   },
   {
    "duration": 52,
    "start_time": "2022-02-26T18:27:22.855Z"
   },
   {
    "duration": 7,
    "start_time": "2022-02-26T18:27:22.911Z"
   },
   {
    "duration": 12,
    "start_time": "2022-02-26T18:27:22.920Z"
   },
   {
    "duration": 54,
    "start_time": "2022-02-26T18:27:22.934Z"
   },
   {
    "duration": 10,
    "start_time": "2022-02-26T18:27:22.991Z"
   },
   {
    "duration": 14,
    "start_time": "2022-02-26T18:27:23.005Z"
   },
   {
    "duration": 10,
    "start_time": "2022-02-26T18:27:23.022Z"
   },
   {
    "duration": 562,
    "start_time": "2022-02-26T18:27:23.034Z"
   },
   {
    "duration": 9,
    "start_time": "2022-02-26T18:27:23.598Z"
   },
   {
    "duration": 13,
    "start_time": "2022-02-26T18:27:23.610Z"
   },
   {
    "duration": 10,
    "start_time": "2022-02-26T18:27:23.625Z"
   },
   {
    "duration": 435,
    "start_time": "2022-02-26T18:27:23.638Z"
   },
   {
    "duration": 12,
    "start_time": "2022-02-26T18:27:24.076Z"
   },
   {
    "duration": 6,
    "start_time": "2022-02-26T18:27:24.091Z"
   },
   {
    "duration": 36,
    "start_time": "2022-02-26T18:27:24.100Z"
   },
   {
    "duration": 49,
    "start_time": "2022-02-26T18:27:24.139Z"
   },
   {
    "duration": 11,
    "start_time": "2022-02-26T18:27:24.191Z"
   },
   {
    "duration": 14,
    "start_time": "2022-02-26T18:27:24.205Z"
   },
   {
    "duration": 13,
    "start_time": "2022-02-26T18:27:24.221Z"
   },
   {
    "duration": 515,
    "start_time": "2022-02-26T18:27:24.236Z"
   },
   {
    "duration": 14,
    "start_time": "2022-02-26T18:27:24.756Z"
   },
   {
    "duration": 21,
    "start_time": "2022-02-26T18:27:24.773Z"
   },
   {
    "duration": 9,
    "start_time": "2022-02-26T18:27:24.797Z"
   },
   {
    "duration": 11,
    "start_time": "2022-02-26T18:27:24.809Z"
   },
   {
    "duration": 664,
    "start_time": "2022-02-26T18:27:24.823Z"
   },
   {
    "duration": 9,
    "start_time": "2022-02-26T18:27:25.489Z"
   },
   {
    "duration": 25,
    "start_time": "2022-02-26T18:27:25.500Z"
   },
   {
    "duration": 58,
    "start_time": "2022-02-26T18:27:25.528Z"
   },
   {
    "duration": 3,
    "start_time": "2022-02-26T18:27:25.589Z"
   },
   {
    "duration": 17,
    "start_time": "2022-02-26T18:27:25.594Z"
   },
   {
    "duration": 25,
    "start_time": "2022-02-26T18:27:25.613Z"
   },
   {
    "duration": 56,
    "start_time": "2022-02-26T18:27:25.641Z"
   },
   {
    "duration": 31,
    "start_time": "2022-02-26T18:27:25.700Z"
   },
   {
    "duration": 9,
    "start_time": "2022-02-26T18:27:25.734Z"
   },
   {
    "duration": 11,
    "start_time": "2022-02-26T18:27:25.745Z"
   },
   {
    "duration": 19,
    "start_time": "2022-02-26T18:27:25.783Z"
   },
   {
    "duration": 596899,
    "start_time": "2022-02-26T18:27:25.804Z"
   },
   {
    "duration": 637689,
    "start_time": "2022-02-26T18:37:22.705Z"
   },
   {
    "duration": 103041,
    "start_time": "2022-02-26T18:48:00.397Z"
   },
   {
    "duration": 102847,
    "start_time": "2022-02-26T18:49:43.441Z"
   },
   {
    "duration": 92,
    "start_time": "2022-02-26T18:51:26.291Z"
   },
   {
    "duration": 197,
    "start_time": "2022-02-26T18:51:26.386Z"
   },
   {
    "duration": 1373,
    "start_time": "2022-02-26T18:56:00.640Z"
   },
   {
    "duration": 30,
    "start_time": "2022-02-26T18:56:02.016Z"
   },
   {
    "duration": 55,
    "start_time": "2022-02-26T18:56:02.049Z"
   },
   {
    "duration": 16,
    "start_time": "2022-02-26T18:56:02.107Z"
   },
   {
    "duration": 23,
    "start_time": "2022-02-26T18:56:02.126Z"
   },
   {
    "duration": 36,
    "start_time": "2022-02-26T18:56:02.152Z"
   },
   {
    "duration": 11,
    "start_time": "2022-02-26T18:56:02.190Z"
   },
   {
    "duration": 22,
    "start_time": "2022-02-26T18:56:02.207Z"
   },
   {
    "duration": 13,
    "start_time": "2022-02-26T18:56:02.233Z"
   },
   {
    "duration": 559,
    "start_time": "2022-02-26T18:56:02.249Z"
   },
   {
    "duration": 11,
    "start_time": "2022-02-26T18:56:02.811Z"
   },
   {
    "duration": 15,
    "start_time": "2022-02-26T18:56:02.825Z"
   },
   {
    "duration": 40,
    "start_time": "2022-02-26T18:56:02.843Z"
   },
   {
    "duration": 429,
    "start_time": "2022-02-26T18:56:02.886Z"
   },
   {
    "duration": 10,
    "start_time": "2022-02-26T18:56:03.319Z"
   },
   {
    "duration": 34,
    "start_time": "2022-02-26T18:56:03.332Z"
   },
   {
    "duration": 37,
    "start_time": "2022-02-26T18:56:03.370Z"
   },
   {
    "duration": 30,
    "start_time": "2022-02-26T18:56:03.410Z"
   },
   {
    "duration": 39,
    "start_time": "2022-02-26T18:56:03.443Z"
   },
   {
    "duration": 7,
    "start_time": "2022-02-26T18:56:03.485Z"
   },
   {
    "duration": 15,
    "start_time": "2022-02-26T18:56:03.495Z"
   },
   {
    "duration": 615,
    "start_time": "2022-02-26T18:56:03.513Z"
   },
   {
    "duration": 10,
    "start_time": "2022-02-26T18:56:04.136Z"
   },
   {
    "duration": 27,
    "start_time": "2022-02-26T18:56:04.149Z"
   },
   {
    "duration": 28,
    "start_time": "2022-02-26T18:56:04.181Z"
   },
   {
    "duration": 20,
    "start_time": "2022-02-26T18:56:04.212Z"
   },
   {
    "duration": 643,
    "start_time": "2022-02-26T18:56:04.234Z"
   },
   {
    "duration": 8,
    "start_time": "2022-02-26T18:56:04.882Z"
   },
   {
    "duration": 24,
    "start_time": "2022-02-26T18:56:04.893Z"
   },
   {
    "duration": 27,
    "start_time": "2022-02-26T18:56:04.920Z"
   },
   {
    "duration": 33,
    "start_time": "2022-02-26T18:56:04.950Z"
   },
   {
    "duration": 33,
    "start_time": "2022-02-26T18:56:04.985Z"
   },
   {
    "duration": 27,
    "start_time": "2022-02-26T18:56:05.020Z"
   },
   {
    "duration": 30,
    "start_time": "2022-02-26T18:56:05.050Z"
   },
   {
    "duration": 30,
    "start_time": "2022-02-26T18:56:05.083Z"
   },
   {
    "duration": 13,
    "start_time": "2022-02-26T18:56:05.116Z"
   },
   {
    "duration": 18,
    "start_time": "2022-02-26T18:56:05.131Z"
   },
   {
    "duration": 34,
    "start_time": "2022-02-26T18:56:05.151Z"
   },
   {
    "duration": 608895,
    "start_time": "2022-02-26T18:56:05.187Z"
   },
   {
    "duration": 616078,
    "start_time": "2022-02-26T19:06:14.084Z"
   },
   {
    "duration": 100989,
    "start_time": "2022-02-26T19:16:30.165Z"
   },
   {
    "duration": 97577,
    "start_time": "2022-02-26T19:18:11.157Z"
   },
   {
    "duration": 62,
    "start_time": "2022-02-26T19:19:48.737Z"
   },
   {
    "duration": 201,
    "start_time": "2022-02-26T19:19:48.884Z"
   },
   {
    "duration": 97947,
    "start_time": "2022-02-26T19:21:35.243Z"
   },
   {
    "duration": 145,
    "start_time": "2022-02-26T19:46:13.805Z"
   },
   {
    "duration": 513,
    "start_time": "2022-02-26T19:48:18.782Z"
   },
   {
    "duration": 151,
    "start_time": "2022-02-26T19:48:51.901Z"
   },
   {
    "duration": 26,
    "start_time": "2022-02-26T19:53:17.906Z"
   },
   {
    "duration": 6,
    "start_time": "2022-02-26T19:53:27.983Z"
   },
   {
    "duration": 26,
    "start_time": "2022-02-26T19:54:44.760Z"
   },
   {
    "duration": 26,
    "start_time": "2022-02-26T19:55:03.910Z"
   },
   {
    "duration": 149,
    "start_time": "2022-02-26T19:55:22.207Z"
   },
   {
    "duration": 214,
    "start_time": "2022-02-26T19:58:49.767Z"
   },
   {
    "duration": 10,
    "start_time": "2022-02-26T19:59:04.634Z"
   },
   {
    "duration": 3,
    "start_time": "2022-02-26T19:59:53.028Z"
   },
   {
    "duration": 272,
    "start_time": "2022-02-26T20:06:38.032Z"
   },
   {
    "duration": 4,
    "start_time": "2022-02-26T20:07:01.537Z"
   },
   {
    "duration": 14,
    "start_time": "2022-02-26T20:07:08.608Z"
   },
   {
    "duration": 56082,
    "start_time": "2022-02-26T20:08:04.878Z"
   },
   {
    "duration": 5,
    "start_time": "2022-02-26T20:10:30.819Z"
   },
   {
    "duration": 10,
    "start_time": "2022-02-26T20:10:35.940Z"
   },
   {
    "duration": 13,
    "start_time": "2022-02-26T20:10:37.185Z"
   },
   {
    "duration": 26400,
    "start_time": "2022-02-26T20:10:41.158Z"
   },
   {
    "duration": 1295,
    "start_time": "2022-02-26T20:19:24.104Z"
   },
   {
    "duration": 36,
    "start_time": "2022-02-26T20:19:25.402Z"
   },
   {
    "duration": 55,
    "start_time": "2022-02-26T20:19:25.442Z"
   },
   {
    "duration": 8,
    "start_time": "2022-02-26T20:19:25.500Z"
   },
   {
    "duration": 10,
    "start_time": "2022-02-26T20:19:25.511Z"
   },
   {
    "duration": 33,
    "start_time": "2022-02-26T20:19:25.523Z"
   },
   {
    "duration": 14,
    "start_time": "2022-02-26T20:19:25.583Z"
   },
   {
    "duration": 9,
    "start_time": "2022-02-26T20:19:25.603Z"
   },
   {
    "duration": 12,
    "start_time": "2022-02-26T20:19:25.616Z"
   },
   {
    "duration": 551,
    "start_time": "2022-02-26T20:19:25.631Z"
   },
   {
    "duration": 9,
    "start_time": "2022-02-26T20:19:26.185Z"
   },
   {
    "duration": 11,
    "start_time": "2022-02-26T20:19:26.198Z"
   },
   {
    "duration": 12,
    "start_time": "2022-02-26T20:19:26.212Z"
   },
   {
    "duration": 438,
    "start_time": "2022-02-26T20:19:26.226Z"
   },
   {
    "duration": 18,
    "start_time": "2022-02-26T20:19:26.667Z"
   },
   {
    "duration": 7,
    "start_time": "2022-02-26T20:19:26.688Z"
   },
   {
    "duration": 29,
    "start_time": "2022-02-26T20:19:26.697Z"
   },
   {
    "duration": 53,
    "start_time": "2022-02-26T20:19:26.729Z"
   },
   {
    "duration": 9,
    "start_time": "2022-02-26T20:19:26.784Z"
   },
   {
    "duration": 5,
    "start_time": "2022-02-26T20:19:26.795Z"
   },
   {
    "duration": 13,
    "start_time": "2022-02-26T20:19:26.802Z"
   },
   {
    "duration": 442,
    "start_time": "2022-02-26T20:19:26.817Z"
   },
   {
    "duration": 18,
    "start_time": "2022-02-26T20:19:27.264Z"
   },
   {
    "duration": 7,
    "start_time": "2022-02-26T20:19:27.285Z"
   },
   {
    "duration": 11,
    "start_time": "2022-02-26T20:19:27.294Z"
   },
   {
    "duration": 13,
    "start_time": "2022-02-26T20:19:27.307Z"
   },
   {
    "duration": 625,
    "start_time": "2022-02-26T20:19:27.323Z"
   },
   {
    "duration": 9,
    "start_time": "2022-02-26T20:19:27.951Z"
   },
   {
    "duration": 35,
    "start_time": "2022-02-26T20:19:27.962Z"
   },
   {
    "duration": 26,
    "start_time": "2022-02-26T20:19:27.999Z"
   },
   {
    "duration": 3,
    "start_time": "2022-02-26T20:19:28.028Z"
   },
   {
    "duration": 13,
    "start_time": "2022-02-26T20:19:28.034Z"
   },
   {
    "duration": 51,
    "start_time": "2022-02-26T20:19:28.050Z"
   },
   {
    "duration": 25,
    "start_time": "2022-02-26T20:19:28.104Z"
   },
   {
    "duration": 54,
    "start_time": "2022-02-26T20:19:28.132Z"
   },
   {
    "duration": 9,
    "start_time": "2022-02-26T20:19:28.188Z"
   },
   {
    "duration": 11,
    "start_time": "2022-02-26T20:19:28.200Z"
   },
   {
    "duration": 28,
    "start_time": "2022-02-26T20:19:28.213Z"
   },
   {
    "duration": 605329,
    "start_time": "2022-02-26T20:19:28.243Z"
   },
   {
    "duration": 607088,
    "start_time": "2022-02-26T20:29:33.583Z"
   },
   {
    "duration": 97611,
    "start_time": "2022-02-26T20:39:40.674Z"
   },
   {
    "duration": 96421,
    "start_time": "2022-02-26T20:41:18.287Z"
   },
   {
    "duration": 72,
    "start_time": "2022-02-26T20:42:54.710Z"
   },
   {
    "duration": 193,
    "start_time": "2022-02-26T20:42:54.791Z"
   },
   {
    "duration": 5,
    "start_time": "2022-02-26T20:42:54.987Z"
   },
   {
    "duration": 16,
    "start_time": "2022-02-26T20:42:55.084Z"
   },
   {
    "duration": 17,
    "start_time": "2022-02-26T20:42:55.103Z"
   },
   {
    "duration": 56130,
    "start_time": "2022-02-26T20:42:55.122Z"
   },
   {
    "duration": 155,
    "start_time": "2022-02-26T20:43:51.255Z"
   },
   {
    "duration": 15,
    "start_time": "2022-02-26T20:43:51.412Z"
   },
   {
    "duration": 346862,
    "start_time": "2022-02-26T20:47:00.852Z"
   },
   {
    "duration": 166,
    "start_time": "2022-02-26T20:54:18.236Z"
   },
   {
    "duration": 84,
    "start_time": "2022-02-26T20:57:03.227Z"
   },
   {
    "duration": 380,
    "start_time": "2022-02-26T20:57:16.073Z"
   },
   {
    "duration": 466054,
    "start_time": "2022-02-26T20:57:28.706Z"
   },
   {
    "duration": 119,
    "start_time": "2022-02-26T21:05:38.211Z"
   },
   {
    "duration": 81,
    "start_time": "2022-02-26T21:06:13.706Z"
   },
   {
    "duration": 12,
    "start_time": "2022-02-26T21:06:59.702Z"
   },
   {
    "duration": 1329,
    "start_time": "2022-02-26T21:07:35.681Z"
   },
   {
    "duration": 34,
    "start_time": "2022-02-26T21:07:37.013Z"
   },
   {
    "duration": 45,
    "start_time": "2022-02-26T21:07:37.050Z"
   },
   {
    "duration": 6,
    "start_time": "2022-02-26T21:07:37.097Z"
   },
   {
    "duration": 12,
    "start_time": "2022-02-26T21:07:37.105Z"
   },
   {
    "duration": 26,
    "start_time": "2022-02-26T21:07:37.119Z"
   },
   {
    "duration": 45,
    "start_time": "2022-02-26T21:07:37.147Z"
   },
   {
    "duration": 8,
    "start_time": "2022-02-26T21:07:37.196Z"
   },
   {
    "duration": 12,
    "start_time": "2022-02-26T21:07:37.207Z"
   },
   {
    "duration": 567,
    "start_time": "2022-02-26T21:07:37.222Z"
   },
   {
    "duration": 9,
    "start_time": "2022-02-26T21:07:37.791Z"
   },
   {
    "duration": 11,
    "start_time": "2022-02-26T21:07:37.803Z"
   },
   {
    "duration": 12,
    "start_time": "2022-02-26T21:07:37.816Z"
   },
   {
    "duration": 423,
    "start_time": "2022-02-26T21:07:37.830Z"
   },
   {
    "duration": 9,
    "start_time": "2022-02-26T21:07:38.256Z"
   },
   {
    "duration": 6,
    "start_time": "2022-02-26T21:07:38.282Z"
   },
   {
    "duration": 28,
    "start_time": "2022-02-26T21:07:38.290Z"
   },
   {
    "duration": 21,
    "start_time": "2022-02-26T21:07:38.320Z"
   },
   {
    "duration": 41,
    "start_time": "2022-02-26T21:07:38.343Z"
   },
   {
    "duration": 4,
    "start_time": "2022-02-26T21:07:38.387Z"
   },
   {
    "duration": 13,
    "start_time": "2022-02-26T21:07:38.394Z"
   },
   {
    "duration": 435,
    "start_time": "2022-02-26T21:07:38.410Z"
   },
   {
    "duration": 8,
    "start_time": "2022-02-26T21:07:38.851Z"
   },
   {
    "duration": 22,
    "start_time": "2022-02-26T21:07:38.862Z"
   },
   {
    "duration": 10,
    "start_time": "2022-02-26T21:07:38.886Z"
   },
   {
    "duration": 18,
    "start_time": "2022-02-26T21:07:38.898Z"
   },
   {
    "duration": 640,
    "start_time": "2022-02-26T21:07:38.919Z"
   },
   {
    "duration": 8,
    "start_time": "2022-02-26T21:07:39.561Z"
   },
   {
    "duration": 19,
    "start_time": "2022-02-26T21:07:39.583Z"
   },
   {
    "duration": 26,
    "start_time": "2022-02-26T21:07:39.604Z"
   },
   {
    "duration": 3,
    "start_time": "2022-02-26T21:07:39.633Z"
   },
   {
    "duration": 45,
    "start_time": "2022-02-26T21:07:39.638Z"
   },
   {
    "duration": 25,
    "start_time": "2022-02-26T21:07:39.685Z"
   },
   {
    "duration": 25,
    "start_time": "2022-02-26T21:07:39.713Z"
   },
   {
    "duration": 53,
    "start_time": "2022-02-26T21:07:39.740Z"
   },
   {
    "duration": 9,
    "start_time": "2022-02-26T21:07:39.796Z"
   },
   {
    "duration": 8,
    "start_time": "2022-02-26T21:07:39.807Z"
   },
   {
    "duration": 23,
    "start_time": "2022-02-26T21:07:39.817Z"
   },
   {
    "duration": 1282,
    "start_time": "2022-02-26T21:15:02.230Z"
   },
   {
    "duration": 31,
    "start_time": "2022-02-26T21:15:03.515Z"
   },
   {
    "duration": 52,
    "start_time": "2022-02-26T21:15:03.548Z"
   },
   {
    "duration": 6,
    "start_time": "2022-02-26T21:15:03.603Z"
   },
   {
    "duration": 10,
    "start_time": "2022-02-26T21:15:03.611Z"
   },
   {
    "duration": 27,
    "start_time": "2022-02-26T21:15:03.624Z"
   },
   {
    "duration": 38,
    "start_time": "2022-02-26T21:15:03.653Z"
   },
   {
    "duration": 8,
    "start_time": "2022-02-26T21:15:03.695Z"
   },
   {
    "duration": 9,
    "start_time": "2022-02-26T21:15:03.706Z"
   },
   {
    "duration": 520,
    "start_time": "2022-02-26T21:15:03.717Z"
   },
   {
    "duration": 8,
    "start_time": "2022-02-26T21:15:04.240Z"
   },
   {
    "duration": 10,
    "start_time": "2022-02-26T21:15:04.251Z"
   },
   {
    "duration": 9,
    "start_time": "2022-02-26T21:15:04.283Z"
   },
   {
    "duration": 418,
    "start_time": "2022-02-26T21:15:04.295Z"
   },
   {
    "duration": 9,
    "start_time": "2022-02-26T21:15:04.716Z"
   },
   {
    "duration": 9,
    "start_time": "2022-02-26T21:15:04.727Z"
   },
   {
    "duration": 62,
    "start_time": "2022-02-26T21:15:04.739Z"
   },
   {
    "duration": 19,
    "start_time": "2022-02-26T21:15:04.804Z"
   },
   {
    "duration": 8,
    "start_time": "2022-02-26T21:15:04.825Z"
   },
   {
    "duration": 5,
    "start_time": "2022-02-26T21:15:04.835Z"
   },
   {
    "duration": 46,
    "start_time": "2022-02-26T21:15:04.843Z"
   },
   {
    "duration": 409,
    "start_time": "2022-02-26T21:15:04.891Z"
   },
   {
    "duration": 9,
    "start_time": "2022-02-26T21:15:05.305Z"
   },
   {
    "duration": 10,
    "start_time": "2022-02-26T21:15:05.317Z"
   },
   {
    "duration": 8,
    "start_time": "2022-02-26T21:15:05.329Z"
   },
   {
    "duration": 49,
    "start_time": "2022-02-26T21:15:05.340Z"
   },
   {
    "duration": 785,
    "start_time": "2022-02-26T21:15:05.393Z"
   },
   {
    "duration": 10,
    "start_time": "2022-02-26T21:15:06.183Z"
   },
   {
    "duration": 68,
    "start_time": "2022-02-26T21:15:06.196Z"
   },
   {
    "duration": 42,
    "start_time": "2022-02-26T21:15:06.266Z"
   },
   {
    "duration": 6,
    "start_time": "2022-02-26T21:15:06.311Z"
   },
   {
    "duration": 19,
    "start_time": "2022-02-26T21:15:06.320Z"
   },
   {
    "duration": 41,
    "start_time": "2022-02-26T21:15:06.341Z"
   },
   {
    "duration": 28,
    "start_time": "2022-02-26T21:15:06.385Z"
   },
   {
    "duration": 26,
    "start_time": "2022-02-26T21:15:06.415Z"
   },
   {
    "duration": 52,
    "start_time": "2022-02-26T21:15:06.443Z"
   },
   {
    "duration": 16,
    "start_time": "2022-02-26T21:15:06.498Z"
   },
   {
    "duration": 52,
    "start_time": "2022-02-26T21:15:06.517Z"
   },
   {
    "duration": 1310,
    "start_time": "2022-02-26T21:21:30.779Z"
   },
   {
    "duration": 31,
    "start_time": "2022-02-26T21:21:32.092Z"
   },
   {
    "duration": 56,
    "start_time": "2022-02-26T21:21:32.126Z"
   },
   {
    "duration": 7,
    "start_time": "2022-02-26T21:21:32.185Z"
   },
   {
    "duration": 12,
    "start_time": "2022-02-26T21:21:32.194Z"
   },
   {
    "duration": 26,
    "start_time": "2022-02-26T21:21:32.209Z"
   },
   {
    "duration": 10,
    "start_time": "2022-02-26T21:21:32.238Z"
   },
   {
    "duration": 9,
    "start_time": "2022-02-26T21:21:32.282Z"
   },
   {
    "duration": 11,
    "start_time": "2022-02-26T21:21:32.295Z"
   },
   {
    "duration": 524,
    "start_time": "2022-02-26T21:21:32.308Z"
   },
   {
    "duration": 10,
    "start_time": "2022-02-26T21:21:32.836Z"
   },
   {
    "duration": 32,
    "start_time": "2022-02-26T21:21:32.849Z"
   },
   {
    "duration": 12,
    "start_time": "2022-02-26T21:21:32.884Z"
   },
   {
    "duration": 395,
    "start_time": "2022-02-26T21:21:32.899Z"
   },
   {
    "duration": 9,
    "start_time": "2022-02-26T21:21:33.297Z"
   },
   {
    "duration": 14,
    "start_time": "2022-02-26T21:21:33.309Z"
   },
   {
    "duration": 29,
    "start_time": "2022-02-26T21:21:33.325Z"
   },
   {
    "duration": 22,
    "start_time": "2022-02-26T21:21:33.383Z"
   },
   {
    "duration": 9,
    "start_time": "2022-02-26T21:21:33.408Z"
   },
   {
    "duration": 5,
    "start_time": "2022-02-26T21:21:33.419Z"
   },
   {
    "duration": 16,
    "start_time": "2022-02-26T21:21:33.426Z"
   },
   {
    "duration": 443,
    "start_time": "2022-02-26T21:21:33.444Z"
   },
   {
    "duration": 8,
    "start_time": "2022-02-26T21:21:33.891Z"
   },
   {
    "duration": 10,
    "start_time": "2022-02-26T21:21:33.903Z"
   },
   {
    "duration": 9,
    "start_time": "2022-02-26T21:21:33.916Z"
   },
   {
    "duration": 55,
    "start_time": "2022-02-26T21:21:33.928Z"
   },
   {
    "duration": 630,
    "start_time": "2022-02-26T21:21:33.986Z"
   },
   {
    "duration": 11,
    "start_time": "2022-02-26T21:21:34.619Z"
   },
   {
    "duration": 52,
    "start_time": "2022-02-26T21:21:34.633Z"
   },
   {
    "duration": 31,
    "start_time": "2022-02-26T21:21:34.688Z"
   },
   {
    "duration": 5,
    "start_time": "2022-02-26T21:22:44.264Z"
   },
   {
    "duration": 1389,
    "start_time": "2022-02-26T21:23:04.131Z"
   },
   {
    "duration": 41,
    "start_time": "2022-02-26T21:23:05.524Z"
   },
   {
    "duration": 54,
    "start_time": "2022-02-26T21:23:05.568Z"
   },
   {
    "duration": 6,
    "start_time": "2022-02-26T21:23:05.625Z"
   },
   {
    "duration": 10,
    "start_time": "2022-02-26T21:23:05.633Z"
   },
   {
    "duration": 54,
    "start_time": "2022-02-26T21:23:05.646Z"
   },
   {
    "duration": 11,
    "start_time": "2022-02-26T21:23:05.703Z"
   },
   {
    "duration": 28,
    "start_time": "2022-02-26T21:23:05.718Z"
   },
   {
    "duration": 11,
    "start_time": "2022-02-26T21:23:05.753Z"
   },
   {
    "duration": 517,
    "start_time": "2022-02-26T21:23:05.767Z"
   },
   {
    "duration": 10,
    "start_time": "2022-02-26T21:23:06.286Z"
   },
   {
    "duration": 17,
    "start_time": "2022-02-26T21:23:06.298Z"
   },
   {
    "duration": 12,
    "start_time": "2022-02-26T21:23:06.317Z"
   },
   {
    "duration": 453,
    "start_time": "2022-02-26T21:23:06.332Z"
   },
   {
    "duration": 11,
    "start_time": "2022-02-26T21:23:06.788Z"
   },
   {
    "duration": 20,
    "start_time": "2022-02-26T21:23:06.802Z"
   },
   {
    "duration": 35,
    "start_time": "2022-02-26T21:23:06.825Z"
   },
   {
    "duration": 20,
    "start_time": "2022-02-26T21:23:06.883Z"
   },
   {
    "duration": 9,
    "start_time": "2022-02-26T21:23:06.906Z"
   },
   {
    "duration": 12,
    "start_time": "2022-02-26T21:23:06.917Z"
   },
   {
    "duration": 11,
    "start_time": "2022-02-26T21:23:06.932Z"
   },
   {
    "duration": 443,
    "start_time": "2022-02-26T21:23:06.945Z"
   },
   {
    "duration": 8,
    "start_time": "2022-02-26T21:23:07.394Z"
   },
   {
    "duration": 11,
    "start_time": "2022-02-26T21:23:07.405Z"
   },
   {
    "duration": 9,
    "start_time": "2022-02-26T21:23:07.418Z"
   },
   {
    "duration": 58,
    "start_time": "2022-02-26T21:23:07.429Z"
   },
   {
    "duration": 627,
    "start_time": "2022-02-26T21:23:07.490Z"
   },
   {
    "duration": 8,
    "start_time": "2022-02-26T21:23:08.120Z"
   },
   {
    "duration": 27,
    "start_time": "2022-02-26T21:23:08.131Z"
   },
   {
    "duration": 30,
    "start_time": "2022-02-26T21:23:08.183Z"
   },
   {
    "duration": 4,
    "start_time": "2022-02-26T21:23:08.215Z"
   },
   {
    "duration": 14,
    "start_time": "2022-02-26T21:23:08.222Z"
   },
   {
    "duration": 62,
    "start_time": "2022-02-26T21:23:08.239Z"
   },
   {
    "duration": 29,
    "start_time": "2022-02-26T21:23:08.304Z"
   },
   {
    "duration": 56,
    "start_time": "2022-02-26T21:23:08.336Z"
   },
   {
    "duration": 10,
    "start_time": "2022-02-26T21:23:08.394Z"
   },
   {
    "duration": 14,
    "start_time": "2022-02-26T21:23:08.406Z"
   },
   {
    "duration": 30,
    "start_time": "2022-02-26T21:23:08.423Z"
   },
   {
    "duration": 569820,
    "start_time": "2022-02-26T21:23:08.455Z"
   },
   {
    "duration": 624373,
    "start_time": "2022-02-26T21:32:38.281Z"
   },
   {
    "duration": 435355,
    "start_time": "2022-02-26T21:43:02.658Z"
   },
   {
    "duration": 449751,
    "start_time": "2022-02-26T21:50:18.015Z"
   },
   {
    "duration": 37,
    "start_time": "2022-02-26T21:57:47.768Z"
   },
   {
    "duration": 204,
    "start_time": "2022-02-26T21:57:47.884Z"
   },
   {
    "duration": 91,
    "start_time": "2022-02-26T21:57:48.092Z"
   },
   {
    "duration": 10,
    "start_time": "2022-02-26T21:57:48.186Z"
   },
   {
    "duration": 12,
    "start_time": "2022-02-26T21:57:48.198Z"
   },
   {
    "duration": 248991,
    "start_time": "2022-02-26T21:57:48.212Z"
   },
   {
    "duration": 79,
    "start_time": "2022-02-26T22:01:57.206Z"
   },
   {
    "duration": 14,
    "start_time": "2022-02-26T22:01:57.288Z"
   },
   {
    "duration": 1342,
    "start_time": "2022-02-26T23:04:00.576Z"
   },
   {
    "duration": 31,
    "start_time": "2022-02-26T23:04:01.921Z"
   },
   {
    "duration": 51,
    "start_time": "2022-02-26T23:04:01.955Z"
   },
   {
    "duration": 7,
    "start_time": "2022-02-26T23:04:02.008Z"
   },
   {
    "duration": 10,
    "start_time": "2022-02-26T23:04:02.017Z"
   },
   {
    "duration": 28,
    "start_time": "2022-02-26T23:04:02.029Z"
   },
   {
    "duration": 32,
    "start_time": "2022-02-26T23:04:02.060Z"
   },
   {
    "duration": 15,
    "start_time": "2022-02-26T23:04:02.096Z"
   },
   {
    "duration": 10,
    "start_time": "2022-02-26T23:04:02.114Z"
   },
   {
    "duration": 508,
    "start_time": "2022-02-26T23:04:02.127Z"
   },
   {
    "duration": 9,
    "start_time": "2022-02-26T23:04:02.638Z"
   },
   {
    "duration": 10,
    "start_time": "2022-02-26T23:04:02.649Z"
   },
   {
    "duration": 11,
    "start_time": "2022-02-26T23:04:02.683Z"
   },
   {
    "duration": 399,
    "start_time": "2022-02-26T23:04:02.697Z"
   },
   {
    "duration": 9,
    "start_time": "2022-02-26T23:04:03.098Z"
   },
   {
    "duration": 7,
    "start_time": "2022-02-26T23:04:03.110Z"
   },
   {
    "duration": 66,
    "start_time": "2022-02-26T23:04:03.120Z"
   },
   {
    "duration": 22,
    "start_time": "2022-02-26T23:04:03.189Z"
   },
   {
    "duration": 10,
    "start_time": "2022-02-26T23:04:03.214Z"
   },
   {
    "duration": 5,
    "start_time": "2022-02-26T23:04:03.227Z"
   },
   {
    "duration": 54,
    "start_time": "2022-02-26T23:04:03.235Z"
   },
   {
    "duration": 404,
    "start_time": "2022-02-26T23:04:03.292Z"
   },
   {
    "duration": 9,
    "start_time": "2022-02-26T23:04:03.703Z"
   },
   {
    "duration": 11,
    "start_time": "2022-02-26T23:04:03.716Z"
   },
   {
    "duration": 10,
    "start_time": "2022-02-26T23:04:03.730Z"
   },
   {
    "duration": 48,
    "start_time": "2022-02-26T23:04:03.742Z"
   },
   {
    "duration": 618,
    "start_time": "2022-02-26T23:04:03.792Z"
   },
   {
    "duration": 9,
    "start_time": "2022-02-26T23:04:04.412Z"
   },
   {
    "duration": 27,
    "start_time": "2022-02-26T23:04:04.423Z"
   },
   {
    "duration": 45,
    "start_time": "2022-02-26T23:04:04.453Z"
   },
   {
    "duration": 3,
    "start_time": "2022-02-26T23:04:04.501Z"
   },
   {
    "duration": 22,
    "start_time": "2022-02-26T23:04:04.507Z"
   },
   {
    "duration": 41,
    "start_time": "2022-02-26T23:04:04.531Z"
   },
   {
    "duration": 27,
    "start_time": "2022-02-26T23:04:04.583Z"
   },
   {
    "duration": 40,
    "start_time": "2022-02-26T23:04:04.613Z"
   },
   {
    "duration": 27,
    "start_time": "2022-02-26T23:04:04.656Z"
   },
   {
    "duration": 24,
    "start_time": "2022-02-26T23:04:04.686Z"
   },
   {
    "duration": 39,
    "start_time": "2022-02-26T23:04:04.713Z"
   },
   {
    "duration": 618553,
    "start_time": "2022-02-26T23:04:04.754Z"
   },
   {
    "duration": 665156,
    "start_time": "2022-02-26T23:14:23.309Z"
   },
   {
    "duration": 469098,
    "start_time": "2022-02-26T23:25:28.468Z"
   },
   {
    "duration": 485887,
    "start_time": "2022-02-26T23:33:17.568Z"
   },
   {
    "duration": 128,
    "start_time": "2022-02-26T23:41:23.457Z"
   },
   {
    "duration": 197,
    "start_time": "2022-02-26T23:41:23.588Z"
   },
   {
    "duration": 94,
    "start_time": "2022-02-26T23:41:23.788Z"
   },
   {
    "duration": 13,
    "start_time": "2022-02-26T23:41:23.885Z"
   },
   {
    "duration": 11,
    "start_time": "2022-02-26T23:41:23.900Z"
   },
   {
    "duration": 251161,
    "start_time": "2022-02-26T23:41:23.914Z"
   },
   {
    "duration": 69,
    "start_time": "2022-02-26T23:45:35.077Z"
   },
   {
    "duration": 33,
    "start_time": "2022-02-26T23:45:35.149Z"
   }
  ],
  "kernelspec": {
   "display_name": "Python 3",
   "language": "python",
   "name": "python3"
  },
  "language_info": {
   "codemirror_mode": {
    "name": "ipython",
    "version": 3
   },
   "file_extension": ".py",
   "mimetype": "text/x-python",
   "name": "python",
   "nbconvert_exporter": "python",
   "pygments_lexer": "ipython3",
   "version": "3.8.8"
  },
  "toc": {
   "base_numbering": 1,
   "nav_menu": {},
   "number_sections": true,
   "sideBar": true,
   "skip_h1_title": true,
   "title_cell": "Содержание",
   "title_sidebar": "Contents",
   "toc_cell": true,
   "toc_position": {
    "height": "calc(100% - 180px)",
    "left": "10px",
    "top": "150px",
    "width": "237.391px"
   },
   "toc_section_display": true,
   "toc_window_display": true
  }
 },
 "nbformat": 4,
 "nbformat_minor": 2
}
