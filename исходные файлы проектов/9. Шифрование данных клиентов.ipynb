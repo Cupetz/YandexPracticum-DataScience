{
 "cells": [
  {
   "cell_type": "markdown",
   "metadata": {},
   "source": [
    "# Защита персональных данных клиентов"
   ]
  },
  {
   "cell_type": "markdown",
   "metadata": {},
   "source": [
    "Вам нужно защитить данные клиентов страховой компании «Хоть потоп». Разработайте такой метод преобразования данных, чтобы по ним было сложно восстановить персональную информацию. Обоснуйте корректность его работы.\n",
    "\n",
    "Нужно защитить данные, чтобы при преобразовании качество моделей машинного обучения не ухудшилось. Подбирать наилучшую модель не требуется."
   ]
  },
  {
   "cell_type": "markdown",
   "metadata": {},
   "source": [
    "## Загрузка данных"
   ]
  },
  {
   "cell_type": "code",
   "execution_count": 1,
   "metadata": {},
   "outputs": [],
   "source": [
    "# загрузим те библиотеки, которые понадобятся в исследовании\n",
    "import pandas as pd\n",
    "import numpy as np\n",
    "from sklearn.linear_model import LinearRegression\n",
    "from sklearn.metrics import r2_score\n",
    "from sklearn.model_selection import train_test_split"
   ]
  },
  {
   "cell_type": "markdown",
   "metadata": {},
   "source": [
    "Посмотрим какие данные предоставлены\n",
    "\n",
    "Описание данных:\n",
    "\n",
    "Набор данных находится в файле /datasets/insurance.csv\n",
    "\n",
    "Признаки: **пол**, **возраст** и **зарплата застрахованного**, **количество членов его семьи**\n",
    "\n",
    "Целевой признак: **количество страховых выплат клиенту за последние 5 лет**"
   ]
  },
  {
   "cell_type": "code",
   "execution_count": 2,
   "metadata": {},
   "outputs": [],
   "source": [
    "data = pd.read_csv('/datasets/insurance.csv')"
   ]
  },
  {
   "cell_type": "code",
   "execution_count": 3,
   "metadata": {},
   "outputs": [
    {
     "data": {
      "text/html": [
       "<div>\n",
       "<style scoped>\n",
       "    .dataframe tbody tr th:only-of-type {\n",
       "        vertical-align: middle;\n",
       "    }\n",
       "\n",
       "    .dataframe tbody tr th {\n",
       "        vertical-align: top;\n",
       "    }\n",
       "\n",
       "    .dataframe thead th {\n",
       "        text-align: right;\n",
       "    }\n",
       "</style>\n",
       "<table border=\"1\" class=\"dataframe\">\n",
       "  <thead>\n",
       "    <tr style=\"text-align: right;\">\n",
       "      <th></th>\n",
       "      <th>Пол</th>\n",
       "      <th>Возраст</th>\n",
       "      <th>Зарплата</th>\n",
       "      <th>Члены семьи</th>\n",
       "      <th>Страховые выплаты</th>\n",
       "    </tr>\n",
       "  </thead>\n",
       "  <tbody>\n",
       "    <tr>\n",
       "      <th>0</th>\n",
       "      <td>1</td>\n",
       "      <td>41.0</td>\n",
       "      <td>49600.0</td>\n",
       "      <td>1</td>\n",
       "      <td>0</td>\n",
       "    </tr>\n",
       "    <tr>\n",
       "      <th>1</th>\n",
       "      <td>0</td>\n",
       "      <td>46.0</td>\n",
       "      <td>38000.0</td>\n",
       "      <td>1</td>\n",
       "      <td>1</td>\n",
       "    </tr>\n",
       "    <tr>\n",
       "      <th>2</th>\n",
       "      <td>0</td>\n",
       "      <td>29.0</td>\n",
       "      <td>21000.0</td>\n",
       "      <td>0</td>\n",
       "      <td>0</td>\n",
       "    </tr>\n",
       "    <tr>\n",
       "      <th>3</th>\n",
       "      <td>0</td>\n",
       "      <td>21.0</td>\n",
       "      <td>41700.0</td>\n",
       "      <td>2</td>\n",
       "      <td>0</td>\n",
       "    </tr>\n",
       "    <tr>\n",
       "      <th>4</th>\n",
       "      <td>1</td>\n",
       "      <td>28.0</td>\n",
       "      <td>26100.0</td>\n",
       "      <td>0</td>\n",
       "      <td>0</td>\n",
       "    </tr>\n",
       "    <tr>\n",
       "      <th>...</th>\n",
       "      <td>...</td>\n",
       "      <td>...</td>\n",
       "      <td>...</td>\n",
       "      <td>...</td>\n",
       "      <td>...</td>\n",
       "    </tr>\n",
       "    <tr>\n",
       "      <th>4995</th>\n",
       "      <td>0</td>\n",
       "      <td>28.0</td>\n",
       "      <td>35700.0</td>\n",
       "      <td>2</td>\n",
       "      <td>0</td>\n",
       "    </tr>\n",
       "    <tr>\n",
       "      <th>4996</th>\n",
       "      <td>0</td>\n",
       "      <td>34.0</td>\n",
       "      <td>52400.0</td>\n",
       "      <td>1</td>\n",
       "      <td>0</td>\n",
       "    </tr>\n",
       "    <tr>\n",
       "      <th>4997</th>\n",
       "      <td>0</td>\n",
       "      <td>20.0</td>\n",
       "      <td>33900.0</td>\n",
       "      <td>2</td>\n",
       "      <td>0</td>\n",
       "    </tr>\n",
       "    <tr>\n",
       "      <th>4998</th>\n",
       "      <td>1</td>\n",
       "      <td>22.0</td>\n",
       "      <td>32700.0</td>\n",
       "      <td>3</td>\n",
       "      <td>0</td>\n",
       "    </tr>\n",
       "    <tr>\n",
       "      <th>4999</th>\n",
       "      <td>1</td>\n",
       "      <td>28.0</td>\n",
       "      <td>40600.0</td>\n",
       "      <td>1</td>\n",
       "      <td>0</td>\n",
       "    </tr>\n",
       "  </tbody>\n",
       "</table>\n",
       "<p>5000 rows × 5 columns</p>\n",
       "</div>"
      ],
      "text/plain": [
       "      Пол  Возраст  Зарплата  Члены семьи  Страховые выплаты\n",
       "0       1     41.0   49600.0            1                  0\n",
       "1       0     46.0   38000.0            1                  1\n",
       "2       0     29.0   21000.0            0                  0\n",
       "3       0     21.0   41700.0            2                  0\n",
       "4       1     28.0   26100.0            0                  0\n",
       "...   ...      ...       ...          ...                ...\n",
       "4995    0     28.0   35700.0            2                  0\n",
       "4996    0     34.0   52400.0            1                  0\n",
       "4997    0     20.0   33900.0            2                  0\n",
       "4998    1     22.0   32700.0            3                  0\n",
       "4999    1     28.0   40600.0            1                  0\n",
       "\n",
       "[5000 rows x 5 columns]"
      ]
     },
     "metadata": {},
     "output_type": "display_data"
    }
   ],
   "source": [
    "display(data)"
   ]
  },
  {
   "cell_type": "markdown",
   "metadata": {},
   "source": [
    "Посмотрим основную информацию о предоставленном датафрейме:"
   ]
  },
  {
   "cell_type": "code",
   "execution_count": 4,
   "metadata": {},
   "outputs": [
    {
     "name": "stdout",
     "output_type": "stream",
     "text": [
      "<class 'pandas.core.frame.DataFrame'>\n",
      "RangeIndex: 5000 entries, 0 to 4999\n",
      "Data columns (total 5 columns):\n",
      " #   Column             Non-Null Count  Dtype  \n",
      "---  ------             --------------  -----  \n",
      " 0   Пол                5000 non-null   int64  \n",
      " 1   Возраст            5000 non-null   float64\n",
      " 2   Зарплата           5000 non-null   float64\n",
      " 3   Члены семьи        5000 non-null   int64  \n",
      " 4   Страховые выплаты  5000 non-null   int64  \n",
      "dtypes: float64(2), int64(3)\n",
      "memory usage: 195.4 KB\n"
     ]
    }
   ],
   "source": [
    "data.info()"
   ]
  },
  {
   "cell_type": "code",
   "execution_count": 5,
   "metadata": {},
   "outputs": [
    {
     "data": {
      "text/plain": [
       "Пол                  0\n",
       "Возраст              0\n",
       "Зарплата             0\n",
       "Члены семьи          0\n",
       "Страховые выплаты    0\n",
       "dtype: int64"
      ]
     },
     "execution_count": 5,
     "metadata": {},
     "output_type": "execute_result"
    }
   ],
   "source": [
    "data.isna().sum()"
   ]
  },
  {
   "cell_type": "code",
   "execution_count": 6,
   "metadata": {},
   "outputs": [
    {
     "data": {
      "text/plain": [
       "153"
      ]
     },
     "execution_count": 6,
     "metadata": {},
     "output_type": "execute_result"
    }
   ],
   "source": [
    "data.duplicated().sum()"
   ]
  },
  {
   "cell_type": "markdown",
   "metadata": {},
   "source": [
    "Можно сделать следующие выводы: по-хорошему лучше удалить строки-дубликаты, а так же перевести колонки возраста и зарплаты в тип данных int, так как судя по всему десятичная часть там всегда просто равна 0 и не имеет смысла держать эти данные в формате float. Так же столбцы привычнее видеть названными на английском, чтобы данный код был общедоступным и читабельным для всех"
   ]
  },
  {
   "cell_type": "code",
   "execution_count": 7,
   "metadata": {},
   "outputs": [],
   "source": [
    "data = data.drop_duplicates().reset_index(drop=True)"
   ]
  },
  {
   "cell_type": "code",
   "execution_count": 8,
   "metadata": {},
   "outputs": [
    {
     "data": {
      "text/plain": [
       "4847"
      ]
     },
     "execution_count": 8,
     "metadata": {},
     "output_type": "execute_result"
    }
   ],
   "source": [
    "# убедимся, что удаление прошло успешно\n",
    "data.shape[0]"
   ]
  },
  {
   "cell_type": "code",
   "execution_count": 9,
   "metadata": {},
   "outputs": [],
   "source": [
    "data.rename(columns={'Пол':'gender', 'Возраст':'age', 'Зарплата':'income',\n",
    "                     'Члены семьи':'family_size', 'Страховые выплаты':'insurance_payments'}, inplace=True)"
   ]
  },
  {
   "cell_type": "code",
   "execution_count": 10,
   "metadata": {},
   "outputs": [
    {
     "data": {
      "text/plain": [
       "Index(['gender', 'age', 'income', 'family_size', 'insurance_payments'], dtype='object')"
      ]
     },
     "execution_count": 10,
     "metadata": {},
     "output_type": "execute_result"
    }
   ],
   "source": [
    "# убедимся, что замена прошла верно\n",
    "data.columns"
   ]
  },
  {
   "cell_type": "code",
   "execution_count": 11,
   "metadata": {},
   "outputs": [],
   "source": [
    "# посмотрим, действительно ли десятичная часть равна 0 в колонках возраста и зарплаты\n",
    "def decimal_part(data_column):\n",
    "    values = []\n",
    "    for i in range(data.shape[0]):\n",
    "        if str(data_column.loc[i])[-1] not in values:\n",
    "            values.append(str(data_column.loc[i])[-1])\n",
    "    return values"
   ]
  },
  {
   "cell_type": "code",
   "execution_count": 12,
   "metadata": {},
   "outputs": [
    {
     "data": {
      "text/plain": [
       "['0']"
      ]
     },
     "execution_count": 12,
     "metadata": {},
     "output_type": "execute_result"
    }
   ],
   "source": [
    "decimal_part(data['age'])"
   ]
  },
  {
   "cell_type": "code",
   "execution_count": 13,
   "metadata": {},
   "outputs": [
    {
     "data": {
      "text/plain": [
       "['0', '4', '1', '9']"
      ]
     },
     "execution_count": 13,
     "metadata": {},
     "output_type": "execute_result"
    }
   ],
   "source": [
    "decimal_part(data['income'])"
   ]
  },
  {
   "cell_type": "markdown",
   "metadata": {},
   "source": [
    "Всё-таки проверка показала, что в столбце зарплат есть ячейки с ненулевым значением после запятой - этот столбец оставим в формате float для того, чтобы не потерять уникальные данные о клиентах. А вот столбец **age** можно смело переводить в int"
   ]
  },
  {
   "cell_type": "code",
   "execution_count": 14,
   "metadata": {},
   "outputs": [],
   "source": [
    "data['age'] = data['age'].astype('int')"
   ]
  },
  {
   "cell_type": "markdown",
   "metadata": {},
   "source": [
    "Посмотрим снова на датафрейм после всех преобразований:"
   ]
  },
  {
   "cell_type": "code",
   "execution_count": 15,
   "metadata": {},
   "outputs": [
    {
     "data": {
      "text/html": [
       "<div>\n",
       "<style scoped>\n",
       "    .dataframe tbody tr th:only-of-type {\n",
       "        vertical-align: middle;\n",
       "    }\n",
       "\n",
       "    .dataframe tbody tr th {\n",
       "        vertical-align: top;\n",
       "    }\n",
       "\n",
       "    .dataframe thead th {\n",
       "        text-align: right;\n",
       "    }\n",
       "</style>\n",
       "<table border=\"1\" class=\"dataframe\">\n",
       "  <thead>\n",
       "    <tr style=\"text-align: right;\">\n",
       "      <th></th>\n",
       "      <th>gender</th>\n",
       "      <th>age</th>\n",
       "      <th>income</th>\n",
       "      <th>family_size</th>\n",
       "      <th>insurance_payments</th>\n",
       "    </tr>\n",
       "  </thead>\n",
       "  <tbody>\n",
       "    <tr>\n",
       "      <th>0</th>\n",
       "      <td>1</td>\n",
       "      <td>41</td>\n",
       "      <td>49600.0</td>\n",
       "      <td>1</td>\n",
       "      <td>0</td>\n",
       "    </tr>\n",
       "    <tr>\n",
       "      <th>1</th>\n",
       "      <td>0</td>\n",
       "      <td>46</td>\n",
       "      <td>38000.0</td>\n",
       "      <td>1</td>\n",
       "      <td>1</td>\n",
       "    </tr>\n",
       "    <tr>\n",
       "      <th>2</th>\n",
       "      <td>0</td>\n",
       "      <td>29</td>\n",
       "      <td>21000.0</td>\n",
       "      <td>0</td>\n",
       "      <td>0</td>\n",
       "    </tr>\n",
       "    <tr>\n",
       "      <th>3</th>\n",
       "      <td>0</td>\n",
       "      <td>21</td>\n",
       "      <td>41700.0</td>\n",
       "      <td>2</td>\n",
       "      <td>0</td>\n",
       "    </tr>\n",
       "    <tr>\n",
       "      <th>4</th>\n",
       "      <td>1</td>\n",
       "      <td>28</td>\n",
       "      <td>26100.0</td>\n",
       "      <td>0</td>\n",
       "      <td>0</td>\n",
       "    </tr>\n",
       "    <tr>\n",
       "      <th>...</th>\n",
       "      <td>...</td>\n",
       "      <td>...</td>\n",
       "      <td>...</td>\n",
       "      <td>...</td>\n",
       "      <td>...</td>\n",
       "    </tr>\n",
       "    <tr>\n",
       "      <th>4842</th>\n",
       "      <td>0</td>\n",
       "      <td>28</td>\n",
       "      <td>35700.0</td>\n",
       "      <td>2</td>\n",
       "      <td>0</td>\n",
       "    </tr>\n",
       "    <tr>\n",
       "      <th>4843</th>\n",
       "      <td>0</td>\n",
       "      <td>34</td>\n",
       "      <td>52400.0</td>\n",
       "      <td>1</td>\n",
       "      <td>0</td>\n",
       "    </tr>\n",
       "    <tr>\n",
       "      <th>4844</th>\n",
       "      <td>0</td>\n",
       "      <td>20</td>\n",
       "      <td>33900.0</td>\n",
       "      <td>2</td>\n",
       "      <td>0</td>\n",
       "    </tr>\n",
       "    <tr>\n",
       "      <th>4845</th>\n",
       "      <td>1</td>\n",
       "      <td>22</td>\n",
       "      <td>32700.0</td>\n",
       "      <td>3</td>\n",
       "      <td>0</td>\n",
       "    </tr>\n",
       "    <tr>\n",
       "      <th>4846</th>\n",
       "      <td>1</td>\n",
       "      <td>28</td>\n",
       "      <td>40600.0</td>\n",
       "      <td>1</td>\n",
       "      <td>0</td>\n",
       "    </tr>\n",
       "  </tbody>\n",
       "</table>\n",
       "<p>4847 rows × 5 columns</p>\n",
       "</div>"
      ],
      "text/plain": [
       "      gender  age   income  family_size  insurance_payments\n",
       "0          1   41  49600.0            1                   0\n",
       "1          0   46  38000.0            1                   1\n",
       "2          0   29  21000.0            0                   0\n",
       "3          0   21  41700.0            2                   0\n",
       "4          1   28  26100.0            0                   0\n",
       "...      ...  ...      ...          ...                 ...\n",
       "4842       0   28  35700.0            2                   0\n",
       "4843       0   34  52400.0            1                   0\n",
       "4844       0   20  33900.0            2                   0\n",
       "4845       1   22  32700.0            3                   0\n",
       "4846       1   28  40600.0            1                   0\n",
       "\n",
       "[4847 rows x 5 columns]"
      ]
     },
     "metadata": {},
     "output_type": "display_data"
    }
   ],
   "source": [
    "display(data)"
   ]
  },
  {
   "cell_type": "code",
   "execution_count": 16,
   "metadata": {},
   "outputs": [
    {
     "name": "stdout",
     "output_type": "stream",
     "text": [
      "<class 'pandas.core.frame.DataFrame'>\n",
      "RangeIndex: 4847 entries, 0 to 4846\n",
      "Data columns (total 5 columns):\n",
      " #   Column              Non-Null Count  Dtype  \n",
      "---  ------              --------------  -----  \n",
      " 0   gender              4847 non-null   int64  \n",
      " 1   age                 4847 non-null   int64  \n",
      " 2   income              4847 non-null   float64\n",
      " 3   family_size         4847 non-null   int64  \n",
      " 4   insurance_payments  4847 non-null   int64  \n",
      "dtypes: float64(1), int64(4)\n",
      "memory usage: 189.5 KB\n"
     ]
    }
   ],
   "source": [
    "data.info()"
   ]
  },
  {
   "cell_type": "markdown",
   "metadata": {},
   "source": [
    "Проанализируем отдельно данные по колонкам:"
   ]
  },
  {
   "cell_type": "code",
   "execution_count": 17,
   "metadata": {},
   "outputs": [
    {
     "data": {
      "text/plain": [
       "0    2431\n",
       "1    2416\n",
       "Name: gender, dtype: int64"
      ]
     },
     "execution_count": 17,
     "metadata": {},
     "output_type": "execute_result"
    }
   ],
   "source": [
    "data['gender'].value_counts()"
   ]
  },
  {
   "cell_type": "code",
   "execution_count": 18,
   "metadata": {},
   "outputs": [
    {
     "data": {
      "text/plain": [
       "<AxesSubplot:>"
      ]
     },
     "execution_count": 18,
     "metadata": {},
     "output_type": "execute_result"
    },
    {
     "data": {
      "image/png": "[encoded data removed]",
      "text/plain": [
       "<Figure size 432x288 with 1 Axes>"
      ]
     },
     "metadata": {
      "needs_background": "light"
     },
     "output_type": "display_data"
    }
   ],
   "source": [
    "data['age'].hist(bins=25)"
   ]
  },
  {
   "cell_type": "code",
   "execution_count": 19,
   "metadata": {},
   "outputs": [
    {
     "data": {
      "text/plain": [
       "<AxesSubplot:>"
      ]
     },
     "execution_count": 19,
     "metadata": {},
     "output_type": "execute_result"
    },
    {
     "data": {
      "image/png": "[encoded data removed]",
      "text/plain": [
       "<Figure size 432x288 with 1 Axes>"
      ]
     },
     "metadata": {
      "needs_background": "light"
     },
     "output_type": "display_data"
    }
   ],
   "source": [
    "data['income'].hist(bins=50)"
   ]
  },
  {
   "cell_type": "code",
   "execution_count": 20,
   "metadata": {},
   "outputs": [
    {
     "data": {
      "text/plain": [
       "1    1748\n",
       "0    1461\n",
       "2    1038\n",
       "3     437\n",
       "4     124\n",
       "5      32\n",
       "6       7\n",
       "Name: family_size, dtype: int64"
      ]
     },
     "execution_count": 20,
     "metadata": {},
     "output_type": "execute_result"
    }
   ],
   "source": [
    "data['family_size'].value_counts()"
   ]
  },
  {
   "cell_type": "code",
   "execution_count": 21,
   "metadata": {},
   "outputs": [
    {
     "data": {
      "text/plain": [
       "0    4284\n",
       "1     423\n",
       "2     114\n",
       "3      18\n",
       "4       7\n",
       "5       1\n",
       "Name: insurance_payments, dtype: int64"
      ]
     },
     "execution_count": 21,
     "metadata": {},
     "output_type": "execute_result"
    }
   ],
   "source": [
    "data['insurance_payments'].value_counts()"
   ]
  },
  {
   "cell_type": "markdown",
   "metadata": {},
   "source": [
    "Можно сказать, что у данных вполне адекватные значения и в них отсутствуют какие-либо аномальные величины"
   ]
  },
  {
   "cell_type": "markdown",
   "metadata": {},
   "source": [
    "## Умножение матриц"
   ]
  },
  {
   "cell_type": "markdown",
   "metadata": {},
   "source": [
    "По условию проекта в данном пункте нужно ответить на следующие вопросы:\n",
    "\n",
    "Признаки умножают на обратимую матрицу. Изменится ли качество линейной регрессии? (Её можно обучить заново.)\n",
    "\n",
    "**a**. Изменится. Приведите примеры матриц.\n",
    "\n",
    "**b**. Не изменится. Укажите, как связаны параметры линейной регрессии в исходной задаче и в преобразованной."
   ]
  },
  {
   "cell_type": "markdown",
   "metadata": {},
   "source": [
    "Для начала проверим, что линейная регрессия действительно работает по формулам из теоретической части курса, а уже потом будем анализировать что происходит, если эту формулу менять"
   ]
  },
  {
   "cell_type": "code",
   "execution_count": 22,
   "metadata": {},
   "outputs": [],
   "source": [
    "# создадим собственный класс линейной регрессии\n",
    "class Selfmade_LinearRegression:\n",
    "    def fit(self, train_features, train_target):\n",
    "        X = np.concatenate((np.ones((train_features.shape[0], 1)), train_features), axis=1)\n",
    "        y = train_target\n",
    "        w = np.linalg.inv(X.T.dot(X)).dot(X.T).dot(y)\n",
    "        self.w = w[1:]\n",
    "        self.w0 = w[0]\n",
    "        \n",
    "    def predict(self, test_features):\n",
    "        return test_features.dot(self.w) + self.w0\n",
    "    \n",
    "    def intercept_(self):\n",
    "        return self.w0\n",
    "    \n",
    "    def coef_(self):\n",
    "        return self.w"
   ]
  },
  {
   "cell_type": "markdown",
   "metadata": {},
   "source": [
    "Если это класс сделанной вручную модели покажет нам, что коэф-ты w0 и w такие же, как и у готового класса модели LinearRegression, то это будет обозначать, что данной моделью можно пользоваться для дальнейших экспериментов и ответов на вопросы проекта"
   ]
  },
  {
   "cell_type": "markdown",
   "metadata": {},
   "source": [
    "Так как в дальнейшем в любом случае придется это сделать, то разобьём уже на данном этапе данные на валидационную и тренировочную выборки"
   ]
  },
  {
   "cell_type": "code",
   "execution_count": 23,
   "metadata": {},
   "outputs": [],
   "source": [
    "features = data.drop('insurance_payments', axis=1)\n",
    "target = data['insurance_payments']"
   ]
  },
  {
   "cell_type": "code",
   "execution_count": 24,
   "metadata": {},
   "outputs": [],
   "source": [
    "features_train, features_valid, target_train, target_valid = train_test_split(\n",
    "    features, target, test_size=0.25, random_state=12345)"
   ]
  },
  {
   "cell_type": "markdown",
   "metadata": {},
   "source": [
    "Проверим полученные данные для обучения и проверки модели:"
   ]
  },
  {
   "cell_type": "code",
   "execution_count": 25,
   "metadata": {},
   "outputs": [
    {
     "data": {
      "text/html": [
       "<div>\n",
       "<style scoped>\n",
       "    .dataframe tbody tr th:only-of-type {\n",
       "        vertical-align: middle;\n",
       "    }\n",
       "\n",
       "    .dataframe tbody tr th {\n",
       "        vertical-align: top;\n",
       "    }\n",
       "\n",
       "    .dataframe thead th {\n",
       "        text-align: right;\n",
       "    }\n",
       "</style>\n",
       "<table border=\"1\" class=\"dataframe\">\n",
       "  <thead>\n",
       "    <tr style=\"text-align: right;\">\n",
       "      <th></th>\n",
       "      <th>gender</th>\n",
       "      <th>age</th>\n",
       "      <th>income</th>\n",
       "      <th>family_size</th>\n",
       "    </tr>\n",
       "  </thead>\n",
       "  <tbody>\n",
       "    <tr>\n",
       "      <th>4460</th>\n",
       "      <td>0</td>\n",
       "      <td>28</td>\n",
       "      <td>54500.0</td>\n",
       "      <td>2</td>\n",
       "    </tr>\n",
       "    <tr>\n",
       "      <th>3773</th>\n",
       "      <td>1</td>\n",
       "      <td>38</td>\n",
       "      <td>50700.0</td>\n",
       "      <td>1</td>\n",
       "    </tr>\n",
       "    <tr>\n",
       "      <th>4561</th>\n",
       "      <td>0</td>\n",
       "      <td>24</td>\n",
       "      <td>28000.0</td>\n",
       "      <td>1</td>\n",
       "    </tr>\n",
       "    <tr>\n",
       "      <th>1385</th>\n",
       "      <td>0</td>\n",
       "      <td>47</td>\n",
       "      <td>38800.0</td>\n",
       "      <td>0</td>\n",
       "    </tr>\n",
       "    <tr>\n",
       "      <th>724</th>\n",
       "      <td>0</td>\n",
       "      <td>40</td>\n",
       "      <td>32500.0</td>\n",
       "      <td>1</td>\n",
       "    </tr>\n",
       "    <tr>\n",
       "      <th>...</th>\n",
       "      <td>...</td>\n",
       "      <td>...</td>\n",
       "      <td>...</td>\n",
       "      <td>...</td>\n",
       "    </tr>\n",
       "    <tr>\n",
       "      <th>3497</th>\n",
       "      <td>1</td>\n",
       "      <td>23</td>\n",
       "      <td>28200.0</td>\n",
       "      <td>1</td>\n",
       "    </tr>\n",
       "    <tr>\n",
       "      <th>3492</th>\n",
       "      <td>0</td>\n",
       "      <td>30</td>\n",
       "      <td>33700.0</td>\n",
       "      <td>1</td>\n",
       "    </tr>\n",
       "    <tr>\n",
       "      <th>2177</th>\n",
       "      <td>1</td>\n",
       "      <td>20</td>\n",
       "      <td>28900.0</td>\n",
       "      <td>1</td>\n",
       "    </tr>\n",
       "    <tr>\n",
       "      <th>3557</th>\n",
       "      <td>1</td>\n",
       "      <td>33</td>\n",
       "      <td>38800.0</td>\n",
       "      <td>1</td>\n",
       "    </tr>\n",
       "    <tr>\n",
       "      <th>4578</th>\n",
       "      <td>0</td>\n",
       "      <td>41</td>\n",
       "      <td>47300.0</td>\n",
       "      <td>2</td>\n",
       "    </tr>\n",
       "  </tbody>\n",
       "</table>\n",
       "<p>3635 rows × 4 columns</p>\n",
       "</div>"
      ],
      "text/plain": [
       "      gender  age   income  family_size\n",
       "4460       0   28  54500.0            2\n",
       "3773       1   38  50700.0            1\n",
       "4561       0   24  28000.0            1\n",
       "1385       0   47  38800.0            0\n",
       "724        0   40  32500.0            1\n",
       "...      ...  ...      ...          ...\n",
       "3497       1   23  28200.0            1\n",
       "3492       0   30  33700.0            1\n",
       "2177       1   20  28900.0            1\n",
       "3557       1   33  38800.0            1\n",
       "4578       0   41  47300.0            2\n",
       "\n",
       "[3635 rows x 4 columns]"
      ]
     },
     "metadata": {},
     "output_type": "display_data"
    }
   ],
   "source": [
    "display(features_train)"
   ]
  },
  {
   "cell_type": "code",
   "execution_count": 26,
   "metadata": {},
   "outputs": [
    {
     "data": {
      "text/html": [
       "<div>\n",
       "<style scoped>\n",
       "    .dataframe tbody tr th:only-of-type {\n",
       "        vertical-align: middle;\n",
       "    }\n",
       "\n",
       "    .dataframe tbody tr th {\n",
       "        vertical-align: top;\n",
       "    }\n",
       "\n",
       "    .dataframe thead th {\n",
       "        text-align: right;\n",
       "    }\n",
       "</style>\n",
       "<table border=\"1\" class=\"dataframe\">\n",
       "  <thead>\n",
       "    <tr style=\"text-align: right;\">\n",
       "      <th></th>\n",
       "      <th>gender</th>\n",
       "      <th>age</th>\n",
       "      <th>income</th>\n",
       "      <th>family_size</th>\n",
       "    </tr>\n",
       "  </thead>\n",
       "  <tbody>\n",
       "    <tr>\n",
       "      <th>1321</th>\n",
       "      <td>1</td>\n",
       "      <td>23</td>\n",
       "      <td>47200.0</td>\n",
       "      <td>0</td>\n",
       "    </tr>\n",
       "    <tr>\n",
       "      <th>3767</th>\n",
       "      <td>1</td>\n",
       "      <td>32</td>\n",
       "      <td>65900.0</td>\n",
       "      <td>0</td>\n",
       "    </tr>\n",
       "    <tr>\n",
       "      <th>166</th>\n",
       "      <td>1</td>\n",
       "      <td>33</td>\n",
       "      <td>33900.0</td>\n",
       "      <td>2</td>\n",
       "    </tr>\n",
       "    <tr>\n",
       "      <th>2935</th>\n",
       "      <td>0</td>\n",
       "      <td>39</td>\n",
       "      <td>19300.0</td>\n",
       "      <td>2</td>\n",
       "    </tr>\n",
       "    <tr>\n",
       "      <th>423</th>\n",
       "      <td>0</td>\n",
       "      <td>46</td>\n",
       "      <td>27500.0</td>\n",
       "      <td>2</td>\n",
       "    </tr>\n",
       "    <tr>\n",
       "      <th>...</th>\n",
       "      <td>...</td>\n",
       "      <td>...</td>\n",
       "      <td>...</td>\n",
       "      <td>...</td>\n",
       "    </tr>\n",
       "    <tr>\n",
       "      <th>1571</th>\n",
       "      <td>1</td>\n",
       "      <td>35</td>\n",
       "      <td>23000.0</td>\n",
       "      <td>1</td>\n",
       "    </tr>\n",
       "    <tr>\n",
       "      <th>32</th>\n",
       "      <td>1</td>\n",
       "      <td>30</td>\n",
       "      <td>51000.0</td>\n",
       "      <td>2</td>\n",
       "    </tr>\n",
       "    <tr>\n",
       "      <th>359</th>\n",
       "      <td>1</td>\n",
       "      <td>26</td>\n",
       "      <td>33500.0</td>\n",
       "      <td>3</td>\n",
       "    </tr>\n",
       "    <tr>\n",
       "      <th>2799</th>\n",
       "      <td>0</td>\n",
       "      <td>25</td>\n",
       "      <td>33100.0</td>\n",
       "      <td>0</td>\n",
       "    </tr>\n",
       "    <tr>\n",
       "      <th>643</th>\n",
       "      <td>1</td>\n",
       "      <td>51</td>\n",
       "      <td>32800.0</td>\n",
       "      <td>1</td>\n",
       "    </tr>\n",
       "  </tbody>\n",
       "</table>\n",
       "<p>1212 rows × 4 columns</p>\n",
       "</div>"
      ],
      "text/plain": [
       "      gender  age   income  family_size\n",
       "1321       1   23  47200.0            0\n",
       "3767       1   32  65900.0            0\n",
       "166        1   33  33900.0            2\n",
       "2935       0   39  19300.0            2\n",
       "423        0   46  27500.0            2\n",
       "...      ...  ...      ...          ...\n",
       "1571       1   35  23000.0            1\n",
       "32         1   30  51000.0            2\n",
       "359        1   26  33500.0            3\n",
       "2799       0   25  33100.0            0\n",
       "643        1   51  32800.0            1\n",
       "\n",
       "[1212 rows x 4 columns]"
      ]
     },
     "metadata": {},
     "output_type": "display_data"
    }
   ],
   "source": [
    "display(features_valid)"
   ]
  },
  {
   "cell_type": "code",
   "execution_count": 27,
   "metadata": {},
   "outputs": [
    {
     "data": {
      "text/plain": [
       "4460    0\n",
       "3773    0\n",
       "4561    0\n",
       "1385    1\n",
       "724     0\n",
       "       ..\n",
       "3497    0\n",
       "3492    0\n",
       "2177    0\n",
       "3557    0\n",
       "4578    0\n",
       "Name: insurance_payments, Length: 3635, dtype: int64"
      ]
     },
     "metadata": {},
     "output_type": "display_data"
    }
   ],
   "source": [
    "display(target_train)"
   ]
  },
  {
   "cell_type": "code",
   "execution_count": 28,
   "metadata": {},
   "outputs": [
    {
     "data": {
      "text/plain": [
       "1321    0\n",
       "3767    0\n",
       "166     0\n",
       "2935    0\n",
       "423     1\n",
       "       ..\n",
       "1571    0\n",
       "32      0\n",
       "359     0\n",
       "2799    0\n",
       "643     2\n",
       "Name: insurance_payments, Length: 1212, dtype: int64"
      ]
     },
     "metadata": {},
     "output_type": "display_data"
    }
   ],
   "source": [
    "display(target_valid)"
   ]
  },
  {
   "cell_type": "code",
   "execution_count": 29,
   "metadata": {},
   "outputs": [],
   "source": [
    "selfmade_model = Selfmade_LinearRegression()\n",
    "real_model = LinearRegression()"
   ]
  },
  {
   "cell_type": "code",
   "execution_count": 30,
   "metadata": {},
   "outputs": [],
   "source": [
    "selfmade_model.fit(features_train, target_train)\n",
    "real_model.fit(features_train, target_train);"
   ]
  },
  {
   "cell_type": "code",
   "execution_count": 31,
   "metadata": {},
   "outputs": [
    {
     "name": "stdout",
     "output_type": "stream",
     "text": [
      "Коеффициенты w0 : -0.9767095974773905 \n",
      " и w : [ 1.45766002e-02  3.64782926e-02  1.79477716e-07 -1.23345013e-02] искусственной модели\n"
     ]
    }
   ],
   "source": [
    "print(f'Коеффициенты w0 : {selfmade_model.intercept_()}' , '\\n', f'и w : {selfmade_model.coef_()} искусственной модели')"
   ]
  },
  {
   "cell_type": "code",
   "execution_count": 32,
   "metadata": {},
   "outputs": [
    {
     "name": "stdout",
     "output_type": "stream",
     "text": [
      "Коеффициенты w0 : -0.9767095974777154 \n",
      " и w : [ 1.45766002e-02  3.64782926e-02  1.79477716e-07 -1.23345013e-02] настоящей модели\n"
     ]
    }
   ],
   "source": [
    "print(f'Коеффициенты w0 : {real_model.intercept_}' , '\\n', f'и w : {real_model.coef_} настоящей модели')"
   ]
  },
  {
   "cell_type": "markdown",
   "metadata": {},
   "source": [
    "Как видно - есть полное совпадение. Можно утверждать что на созданном вручную классе можно делать все проверки гипотез, как будто на настоящей модели"
   ]
  },
  {
   "cell_type": "markdown",
   "metadata": {},
   "source": [
    "Теперь собственно займёмся проверкой выше записанного утверждения о том, что при умножении признаков на некую обратимую матрицу будет изменяться или не изменяться качество линейной регрессии. Иными словами, нужно чтобы не поменялись прогнозы, которые делает модель. Как я понимаю, на данном этапе нужно именно формульное доказательство"
   ]
  },
  {
   "cell_type": "markdown",
   "metadata": {},
   "source": [
    "$$\n",
    "a = XP((XP)^{T}(XP))^{-1}(XP)^{T}y = XP(P^{T}X^{T}XP)^{-1}(XP)^{T}y = XPP^{-1}(X^{T}X)^{-1}(P^{T})^{-1}P^{T}X^{T}y = X(X^{T}X)^{-1}X^{T}y = Xw\n",
    "$$"
   ]
  },
  {
   "cell_type": "markdown",
   "metadata": {},
   "source": [
    "Как видно, было доказано, что если мы будем умножать на обратимую матрицу исходные признаки, то на предсказание это не повлият - та обратимая матрица сократится в ходе математических преобразований"
   ]
  },
  {
   "cell_type": "markdown",
   "metadata": {},
   "source": [
    "## Алгоритм преобразования"
   ]
  },
  {
   "cell_type": "markdown",
   "metadata": {},
   "source": [
    "Собственно говоря, теперь мы можем использовать полученное доказательство для зашифровки данных. \n",
    "\n",
    "Для начала обучим модель без зашифрованных данных и проверим у неё метрику R2 , а потом будем шифровать исходные данные при помощи их умножения на обратимую матрицу, и докажем, что точность предсказаний не меняется.\n",
    "\n",
    "Обратная матрица, на которую мы будем умножать, должна соответствовать 2-м признакам:\n",
    "\n",
    "1. иметь ненулевой определитель - то есть быть обратимой\n",
    "2. иметь число строк = числу столбцов матрицы признаков"
   ]
  },
  {
   "cell_type": "markdown",
   "metadata": {},
   "source": [
    "## Проверка алгоритма"
   ]
  },
  {
   "cell_type": "markdown",
   "metadata": {},
   "source": [
    "Для начала обучим и проверим матрицу на тестовой выборке без применения шифрования. Обучение уже было сделано ранее, так что можем сразу приступить к предсказаниями "
   ]
  },
  {
   "cell_type": "code",
   "execution_count": 33,
   "metadata": {},
   "outputs": [],
   "source": [
    "predictions_real_model = real_model.predict(features_valid)\n",
    "r_metric_real_model = r2_score(target_valid, predictions_real_model)\n",
    "# ради интереса убедимся, что самостоятельно созданный класс данной модели показывает ту же точность предсказаний:\n",
    "predictions_selfmade_model = selfmade_model.predict(features_valid)\n",
    "r_metric_selfmade_model = r2_score(target_valid, predictions_selfmade_model)"
   ]
  },
  {
   "cell_type": "code",
   "execution_count": 34,
   "metadata": {},
   "outputs": [
    {
     "name": "stdout",
     "output_type": "stream",
     "text": [
      "Метрика R2 для реальной модели регрессии: 0.423\n",
      "Метрика R2 для самодельной модели регрессии: 0.423\n"
     ]
    }
   ],
   "source": [
    "print(f'Метрика R2 для реальной модели регрессии: {r_metric_real_model:.3f}')\n",
    "print(f'Метрика R2 для самодельной модели регрессии: {r_metric_selfmade_model:.3f}')"
   ]
  },
  {
   "cell_type": "markdown",
   "metadata": {},
   "source": [
    "Как и ожидалось, ранее сделанная самостоятельно модель оказалась полностью рабочей. Теперь взяв её за основу немного переделаём логику класса, чтобы работать с зашифрованными данными"
   ]
  },
  {
   "cell_type": "markdown",
   "metadata": {},
   "source": [
    "Для начала проверим, как работает генерация случайной матицы c размером n x n , где n - это число признаков"
   ]
  },
  {
   "cell_type": "code",
   "execution_count": 35,
   "metadata": {},
   "outputs": [
    {
     "name": "stdout",
     "output_type": "stream",
     "text": [
      "[[-94.47793381 -41.86431323 -44.57937793 -80.1744519 ]\n",
      " [ 58.78231026 -18.00315366  -9.23102209  36.76865003]\n",
      " [-84.51526729  -6.1272176  -90.96393789  76.87045068]\n",
      " [ 55.30991937  31.54922785  38.7433499   -6.00642093]]\n"
     ]
    }
   ],
   "source": [
    "while True:\n",
    "    n = features.shape[1]                                                 # размер = числу признаков\n",
    "    random_matrix = np.random.uniform(low=-100, high=100, size=(n, n))    \n",
    "    if np.linalg.det(random_matrix) != 0:                                 # проверка, что определитель не равен 0\n",
    "        print(random_matrix)\n",
    "        break"
   ]
  },
  {
   "cell_type": "markdown",
   "metadata": {},
   "source": [
    "Теперь такой же генератор нужно поместить внутрь нового класса, который будет шифровать данные:"
   ]
  },
  {
   "cell_type": "code",
   "execution_count": 36,
   "metadata": {},
   "outputs": [],
   "source": [
    "class Crypted_LinearRegression:\n",
    "    def fit(self, train_features, train_target):\n",
    "        while True:\n",
    "            n = train_features.shape[1]\n",
    "            self.random_matrix = np.random.uniform(low=-100, high=100, size=(n, n))    \n",
    "            if np.linalg.det(random_matrix) != 0:\n",
    "                break\n",
    "        self.crypted_features = train_features @ self.random_matrix\n",
    "        X = np.concatenate((np.ones((self.crypted_features.shape[0], 1)), self.crypted_features), axis=1)       \n",
    "        y = train_target\n",
    "        w = np.linalg.inv(X.T.dot(X)).dot(X.T).dot(y)\n",
    "        self.w = w[1:]\n",
    "        self.w0 = w[0]\n",
    "        \n",
    "    def predict(self, test_features):\n",
    "        crypted_features = test_features @ self.random_matrix\n",
    "        return crypted_features.dot(self.w) + self.w0\n",
    "    \n",
    "    def intercept_(self):\n",
    "        return self.w0\n",
    "    \n",
    "    def coef_(self):\n",
    "        return self.w\n",
    "    \n",
    "    def crypted_data(self):\n",
    "        return self.crypted_features"
   ]
  },
  {
   "cell_type": "code",
   "execution_count": 37,
   "metadata": {},
   "outputs": [],
   "source": [
    "crypted_model = Crypted_LinearRegression()\n",
    "crypted_model.fit(features_train, target_train)\n",
    "crypted_model_predictions = crypted_model.predict(features_valid)\n",
    "r_metric_encrypted_model = r2_score(target_valid, crypted_model_predictions)"
   ]
  },
  {
   "cell_type": "code",
   "execution_count": 38,
   "metadata": {},
   "outputs": [
    {
     "name": "stdout",
     "output_type": "stream",
     "text": [
      "Точность предсказаний по метрике R2 для модели, работавшей с зашифрованными данными: 0.423\n"
     ]
    }
   ],
   "source": [
    "print(f'Точность предсказаний по метрике R2 для модели, работавшей с зашифрованными данными: {r_metric_encrypted_model:.3f}')"
   ]
  },
  {
   "cell_type": "markdown",
   "metadata": {},
   "source": [
    "Как видно, это успех - если умножать признаки на обратимую матрицу, то предсказания действительно останутся так же точны, как и сделанные ранее на незашифрованных данных. Посмотрим ради интереса как выглядели зашифрованные данные:"
   ]
  },
  {
   "cell_type": "code",
   "execution_count": 39,
   "metadata": {},
   "outputs": [
    {
     "data": {
      "text/html": [
       "<div>\n",
       "<style scoped>\n",
       "    .dataframe tbody tr th:only-of-type {\n",
       "        vertical-align: middle;\n",
       "    }\n",
       "\n",
       "    .dataframe tbody tr th {\n",
       "        vertical-align: top;\n",
       "    }\n",
       "\n",
       "    .dataframe thead th {\n",
       "        text-align: right;\n",
       "    }\n",
       "</style>\n",
       "<table border=\"1\" class=\"dataframe\">\n",
       "  <thead>\n",
       "    <tr style=\"text-align: right;\">\n",
       "      <th></th>\n",
       "      <th>0</th>\n",
       "      <th>1</th>\n",
       "      <th>2</th>\n",
       "      <th>3</th>\n",
       "    </tr>\n",
       "  </thead>\n",
       "  <tbody>\n",
       "    <tr>\n",
       "      <th>4460</th>\n",
       "      <td>3.957149e+06</td>\n",
       "      <td>-3.687043e+06</td>\n",
       "      <td>-518012.104830</td>\n",
       "      <td>4.117139e+06</td>\n",
       "    </tr>\n",
       "    <tr>\n",
       "      <th>3773</th>\n",
       "      <td>3.680439e+06</td>\n",
       "      <td>-3.430176e+06</td>\n",
       "      <td>-482455.775096</td>\n",
       "      <td>3.831326e+06</td>\n",
       "    </tr>\n",
       "    <tr>\n",
       "      <th>4561</th>\n",
       "      <td>2.032383e+06</td>\n",
       "      <td>-1.894361e+06</td>\n",
       "      <td>-266624.549995</td>\n",
       "      <td>2.116155e+06</td>\n",
       "    </tr>\n",
       "    <tr>\n",
       "      <th>1385</th>\n",
       "      <td>2.815318e+06</td>\n",
       "      <td>-2.625276e+06</td>\n",
       "      <td>-370083.589841</td>\n",
       "      <td>2.933751e+06</td>\n",
       "    </tr>\n",
       "    <tr>\n",
       "      <th>724</th>\n",
       "      <td>2.358192e+06</td>\n",
       "      <td>-2.198947e+06</td>\n",
       "      <td>-310085.951906</td>\n",
       "      <td>2.457426e+06</td>\n",
       "    </tr>\n",
       "    <tr>\n",
       "      <th>...</th>\n",
       "      <td>...</td>\n",
       "      <td>...</td>\n",
       "      <td>...</td>\n",
       "      <td>...</td>\n",
       "    </tr>\n",
       "    <tr>\n",
       "      <th>3497</th>\n",
       "      <td>2.047020e+06</td>\n",
       "      <td>-1.907913e+06</td>\n",
       "      <td>-268472.013992</td>\n",
       "      <td>2.131234e+06</td>\n",
       "    </tr>\n",
       "    <tr>\n",
       "      <th>3492</th>\n",
       "      <td>2.446034e+06</td>\n",
       "      <td>-2.280024e+06</td>\n",
       "      <td>-320946.248653</td>\n",
       "      <td>2.547057e+06</td>\n",
       "    </tr>\n",
       "    <tr>\n",
       "      <th>2177</th>\n",
       "      <td>2.098071e+06</td>\n",
       "      <td>-1.955237e+06</td>\n",
       "      <td>-274952.046643</td>\n",
       "      <td>2.183792e+06</td>\n",
       "    </tr>\n",
       "    <tr>\n",
       "      <th>3557</th>\n",
       "      <td>2.816345e+06</td>\n",
       "      <td>-2.625098e+06</td>\n",
       "      <td>-369432.113684</td>\n",
       "      <td>2.932449e+06</td>\n",
       "    </tr>\n",
       "    <tr>\n",
       "      <th>4578</th>\n",
       "      <td>3.433258e+06</td>\n",
       "      <td>-3.200101e+06</td>\n",
       "      <td>-450447.360084</td>\n",
       "      <td>3.574825e+06</td>\n",
       "    </tr>\n",
       "  </tbody>\n",
       "</table>\n",
       "<p>3635 rows × 4 columns</p>\n",
       "</div>"
      ],
      "text/plain": [
       "                 0             1              2             3\n",
       "4460  3.957149e+06 -3.687043e+06 -518012.104830  4.117139e+06\n",
       "3773  3.680439e+06 -3.430176e+06 -482455.775096  3.831326e+06\n",
       "4561  2.032383e+06 -1.894361e+06 -266624.549995  2.116155e+06\n",
       "1385  2.815318e+06 -2.625276e+06 -370083.589841  2.933751e+06\n",
       "724   2.358192e+06 -2.198947e+06 -310085.951906  2.457426e+06\n",
       "...            ...           ...            ...           ...\n",
       "3497  2.047020e+06 -1.907913e+06 -268472.013992  2.131234e+06\n",
       "3492  2.446034e+06 -2.280024e+06 -320946.248653  2.547057e+06\n",
       "2177  2.098071e+06 -1.955237e+06 -274952.046643  2.183792e+06\n",
       "3557  2.816345e+06 -2.625098e+06 -369432.113684  2.932449e+06\n",
       "4578  3.433258e+06 -3.200101e+06 -450447.360084  3.574825e+06\n",
       "\n",
       "[3635 rows x 4 columns]"
      ]
     },
     "metadata": {},
     "output_type": "display_data"
    }
   ],
   "source": [
    "display(crypted_model.crypted_data())"
   ]
  },
  {
   "cell_type": "markdown",
   "metadata": {},
   "source": [
    "Выглядит надежно защищенным.\n",
    "\n",
    "По итогу: теорема о том, что умножение (\"шифрование\") признаков на некую обратимую матрицу (правильного размера, чтобы матричное перемножение было возможно) не меняет точности предсказаний доказано как матиматически, так и практически"
   ]
  },
  {
   "cell_type": "markdown",
   "metadata": {},
   "source": [
    "## Чек-лист проверки"
   ]
  },
  {
   "cell_type": "markdown",
   "metadata": {},
   "source": [
    "Поставьте 'x' в выполненных пунктах. Далее нажмите Shift+Enter."
   ]
  },
  {
   "cell_type": "markdown",
   "metadata": {},
   "source": [
    "- [x]  Jupyter Notebook открыт\n",
    "- [x]  Весь код выполняется без ошибок\n",
    "- [x]  Ячейки с кодом расположены в порядке исполнения\n",
    "- [x]  Выполнен шаг 1: данные загружены\n",
    "- [x]  Выполнен шаг 2: получен ответ на вопрос об умножении матриц\n",
    "    - [x]  Указан правильный вариант ответа\n",
    "    - [x]  Вариант обоснован\n",
    "- [x]  Выполнен шаг 3: предложен алгоритм преобразования\n",
    "    - [x]  Алгоритм описан\n",
    "    - [x]  Алгоритм обоснован\n",
    "- [x]  Выполнен шаг 4: алгоритм проверен\n",
    "    - [x]  Алгоритм реализован\n",
    "    - [x]  Проведено сравнение качества моделей до и после преобразования"
   ]
  }
 ],
 "metadata": {
  "ExecuteTimeLog": [
   {
    "duration": 436,
    "start_time": "2022-04-10T08:02:00.302Z"
   },
   {
    "duration": 18,
    "start_time": "2022-04-10T08:04:07.858Z"
   },
   {
    "duration": 18,
    "start_time": "2022-04-10T08:04:14.968Z"
   },
   {
    "duration": 13,
    "start_time": "2022-04-10T08:05:00.289Z"
   },
   {
    "duration": 7,
    "start_time": "2022-04-10T08:05:46.119Z"
   },
   {
    "duration": 7,
    "start_time": "2022-04-10T08:06:17.722Z"
   },
   {
    "duration": 7,
    "start_time": "2022-04-10T08:11:41.870Z"
   },
   {
    "duration": 4,
    "start_time": "2022-04-10T08:12:06.746Z"
   },
   {
    "duration": 4,
    "start_time": "2022-04-10T08:12:29.257Z"
   },
   {
    "duration": 4,
    "start_time": "2022-04-10T08:16:21.749Z"
   },
   {
    "duration": 4,
    "start_time": "2022-04-10T08:17:04.079Z"
   },
   {
    "duration": 134,
    "start_time": "2022-04-10T08:19:04.406Z"
   },
   {
    "duration": 3,
    "start_time": "2022-04-10T08:19:10.940Z"
   },
   {
    "duration": 5,
    "start_time": "2022-04-10T08:19:25.058Z"
   },
   {
    "duration": 3,
    "start_time": "2022-04-10T08:20:48.406Z"
   },
   {
    "duration": 61,
    "start_time": "2022-04-10T08:21:03.191Z"
   },
   {
    "duration": 3,
    "start_time": "2022-04-10T08:21:16.508Z"
   },
   {
    "duration": 51,
    "start_time": "2022-04-10T08:21:17.202Z"
   },
   {
    "duration": 4,
    "start_time": "2022-04-10T08:21:44.798Z"
   },
   {
    "duration": 13,
    "start_time": "2022-04-10T08:21:45.426Z"
   },
   {
    "duration": 3,
    "start_time": "2022-04-10T08:22:12.052Z"
   },
   {
    "duration": 51,
    "start_time": "2022-04-10T08:22:12.889Z"
   },
   {
    "duration": 4,
    "start_time": "2022-04-10T08:22:42.040Z"
   },
   {
    "duration": 44,
    "start_time": "2022-04-10T08:22:42.472Z"
   },
   {
    "duration": 48,
    "start_time": "2022-04-10T08:23:03.824Z"
   },
   {
    "duration": 6,
    "start_time": "2022-04-10T08:23:20.357Z"
   },
   {
    "duration": 4,
    "start_time": "2022-04-10T08:25:56.254Z"
   },
   {
    "duration": 16,
    "start_time": "2022-04-10T08:26:25.660Z"
   },
   {
    "duration": 10,
    "start_time": "2022-04-10T08:26:38.495Z"
   },
   {
    "duration": 6,
    "start_time": "2022-04-10T08:29:27.561Z"
   },
   {
    "duration": 8,
    "start_time": "2022-04-10T08:29:36.200Z"
   },
   {
    "duration": 5,
    "start_time": "2022-04-10T08:29:44.795Z"
   },
   {
    "duration": 855,
    "start_time": "2022-04-10T08:30:03.669Z"
   },
   {
    "duration": 235,
    "start_time": "2022-04-10T08:30:19.070Z"
   },
   {
    "duration": 19,
    "start_time": "2022-04-10T08:30:53.970Z"
   },
   {
    "duration": 192,
    "start_time": "2022-04-10T08:31:03.103Z"
   },
   {
    "duration": 6,
    "start_time": "2022-04-10T08:31:36.372Z"
   },
   {
    "duration": 7,
    "start_time": "2022-04-10T08:32:17.043Z"
   },
   {
    "duration": 3,
    "start_time": "2022-04-10T08:42:33.017Z"
   },
   {
    "duration": 42,
    "start_time": "2022-04-10T08:43:13.275Z"
   },
   {
    "duration": 13,
    "start_time": "2022-04-10T08:43:49.948Z"
   },
   {
    "duration": 3,
    "start_time": "2022-04-10T09:13:04.430Z"
   },
   {
    "duration": 197,
    "start_time": "2022-04-10T09:26:12.859Z"
   },
   {
    "duration": 7,
    "start_time": "2022-04-10T09:26:19.168Z"
   },
   {
    "duration": 3,
    "start_time": "2022-04-10T09:31:16.394Z"
   },
   {
    "duration": 5,
    "start_time": "2022-04-10T09:34:06.076Z"
   },
   {
    "duration": 5,
    "start_time": "2022-04-10T09:34:47.199Z"
   },
   {
    "duration": 11,
    "start_time": "2022-04-10T09:35:12.040Z"
   },
   {
    "duration": 10,
    "start_time": "2022-04-10T09:35:21.546Z"
   },
   {
    "duration": 6,
    "start_time": "2022-04-10T09:35:39.166Z"
   },
   {
    "duration": 5,
    "start_time": "2022-04-10T09:35:59.668Z"
   },
   {
    "duration": 2,
    "start_time": "2022-04-10T09:36:56.203Z"
   },
   {
    "duration": 11,
    "start_time": "2022-04-10T09:41:28.204Z"
   },
   {
    "duration": 7,
    "start_time": "2022-04-10T09:41:53.838Z"
   },
   {
    "duration": 9,
    "start_time": "2022-04-10T09:43:52.998Z"
   },
   {
    "duration": 4,
    "start_time": "2022-04-10T09:43:57.958Z"
   },
   {
    "duration": 4,
    "start_time": "2022-04-10T09:45:01.914Z"
   },
   {
    "duration": 9,
    "start_time": "2022-04-10T09:47:20.380Z"
   },
   {
    "duration": 4,
    "start_time": "2022-04-10T09:47:28.219Z"
   },
   {
    "duration": 5,
    "start_time": "2022-04-10T09:48:43.171Z"
   },
   {
    "duration": 3,
    "start_time": "2022-04-10T09:48:49.235Z"
   },
   {
    "duration": 4,
    "start_time": "2022-04-10T09:49:07.377Z"
   },
   {
    "duration": 6,
    "start_time": "2022-04-10T09:49:48.470Z"
   },
   {
    "duration": 9,
    "start_time": "2022-04-10T09:49:56.278Z"
   },
   {
    "duration": 5,
    "start_time": "2022-04-10T09:50:06.630Z"
   },
   {
    "duration": 13,
    "start_time": "2022-04-10T09:50:19.660Z"
   },
   {
    "duration": 1224,
    "start_time": "2022-04-10T09:50:39.361Z"
   },
   {
    "duration": 12,
    "start_time": "2022-04-10T09:50:40.587Z"
   },
   {
    "duration": 27,
    "start_time": "2022-04-10T09:50:40.600Z"
   },
   {
    "duration": 22,
    "start_time": "2022-04-10T09:50:40.629Z"
   },
   {
    "duration": 36,
    "start_time": "2022-04-10T09:50:40.652Z"
   },
   {
    "duration": 19,
    "start_time": "2022-04-10T09:50:40.689Z"
   },
   {
    "duration": 12,
    "start_time": "2022-04-10T09:50:40.709Z"
   },
   {
    "duration": 15,
    "start_time": "2022-04-10T09:50:40.722Z"
   },
   {
    "duration": 15,
    "start_time": "2022-04-10T09:50:40.739Z"
   },
   {
    "duration": 20,
    "start_time": "2022-04-10T09:50:40.756Z"
   },
   {
    "duration": 4,
    "start_time": "2022-04-10T09:50:40.778Z"
   },
   {
    "duration": 55,
    "start_time": "2022-04-10T09:50:40.784Z"
   },
   {
    "duration": 49,
    "start_time": "2022-04-10T09:50:40.841Z"
   },
   {
    "duration": 4,
    "start_time": "2022-04-10T09:50:40.892Z"
   },
   {
    "duration": 41,
    "start_time": "2022-04-10T09:50:40.898Z"
   },
   {
    "duration": 35,
    "start_time": "2022-04-10T09:50:40.941Z"
   },
   {
    "duration": 7,
    "start_time": "2022-04-10T09:50:40.977Z"
   },
   {
    "duration": 493,
    "start_time": "2022-04-10T09:50:40.985Z"
   },
   {
    "duration": 198,
    "start_time": "2022-04-10T09:50:41.480Z"
   },
   {
    "duration": 7,
    "start_time": "2022-04-10T09:50:41.680Z"
   },
   {
    "duration": 17,
    "start_time": "2022-04-10T09:50:41.688Z"
   },
   {
    "duration": 8,
    "start_time": "2022-04-10T09:50:41.707Z"
   },
   {
    "duration": 26,
    "start_time": "2022-04-10T09:50:41.717Z"
   },
   {
    "duration": 18,
    "start_time": "2022-04-10T09:50:41.744Z"
   },
   {
    "duration": 23,
    "start_time": "2022-04-10T09:50:41.765Z"
   },
   {
    "duration": 25,
    "start_time": "2022-04-10T09:50:41.790Z"
   },
   {
    "duration": 11,
    "start_time": "2022-04-10T09:50:41.816Z"
   },
   {
    "duration": 18,
    "start_time": "2022-04-10T09:50:41.830Z"
   },
   {
    "duration": 6,
    "start_time": "2022-04-10T09:50:41.850Z"
   },
   {
    "duration": 31,
    "start_time": "2022-04-10T09:50:41.857Z"
   },
   {
    "duration": 6,
    "start_time": "2022-04-10T09:50:41.890Z"
   },
   {
    "duration": 15,
    "start_time": "2022-04-10T09:50:41.957Z"
   },
   {
    "duration": 1203,
    "start_time": "2022-04-10T09:51:17.063Z"
   },
   {
    "duration": 13,
    "start_time": "2022-04-10T09:51:18.269Z"
   },
   {
    "duration": 29,
    "start_time": "2022-04-10T09:51:18.284Z"
   },
   {
    "duration": 21,
    "start_time": "2022-04-10T09:51:18.315Z"
   },
   {
    "duration": 13,
    "start_time": "2022-04-10T09:51:18.337Z"
   },
   {
    "duration": 23,
    "start_time": "2022-04-10T09:51:18.351Z"
   },
   {
    "duration": 15,
    "start_time": "2022-04-10T09:51:18.375Z"
   },
   {
    "duration": 16,
    "start_time": "2022-04-10T09:51:18.391Z"
   },
   {
    "duration": 23,
    "start_time": "2022-04-10T09:51:18.409Z"
   },
   {
    "duration": 41,
    "start_time": "2022-04-10T09:51:18.434Z"
   },
   {
    "duration": 21,
    "start_time": "2022-04-10T09:51:18.477Z"
   },
   {
    "duration": 48,
    "start_time": "2022-04-10T09:51:18.500Z"
   },
   {
    "duration": 54,
    "start_time": "2022-04-10T09:51:18.550Z"
   },
   {
    "duration": 4,
    "start_time": "2022-04-10T09:51:18.606Z"
   },
   {
    "duration": 20,
    "start_time": "2022-04-10T09:51:18.612Z"
   },
   {
    "duration": 23,
    "start_time": "2022-04-10T09:51:18.633Z"
   },
   {
    "duration": 14,
    "start_time": "2022-04-10T09:51:18.662Z"
   },
   {
    "duration": 447,
    "start_time": "2022-04-10T09:51:18.678Z"
   },
   {
    "duration": 170,
    "start_time": "2022-04-10T09:51:19.126Z"
   },
   {
    "duration": 5,
    "start_time": "2022-04-10T09:51:19.297Z"
   },
   {
    "duration": 8,
    "start_time": "2022-04-10T09:51:19.304Z"
   },
   {
    "duration": 4,
    "start_time": "2022-04-10T09:51:19.314Z"
   },
   {
    "duration": 7,
    "start_time": "2022-04-10T09:51:19.320Z"
   },
   {
    "duration": 7,
    "start_time": "2022-04-10T09:51:19.328Z"
   },
   {
    "duration": 42,
    "start_time": "2022-04-10T09:51:19.337Z"
   },
   {
    "duration": 11,
    "start_time": "2022-04-10T09:51:19.382Z"
   },
   {
    "duration": 7,
    "start_time": "2022-04-10T09:51:19.394Z"
   },
   {
    "duration": 7,
    "start_time": "2022-04-10T09:51:19.404Z"
   },
   {
    "duration": 4,
    "start_time": "2022-04-10T09:51:19.412Z"
   },
   {
    "duration": 10,
    "start_time": "2022-04-10T09:51:19.418Z"
   },
   {
    "duration": 10,
    "start_time": "2022-04-10T09:51:19.459Z"
   },
   {
    "duration": 14,
    "start_time": "2022-04-10T09:51:19.471Z"
   },
   {
    "duration": 3,
    "start_time": "2022-04-10T09:51:32.024Z"
   },
   {
    "duration": 4,
    "start_time": "2022-04-10T09:51:59.838Z"
   },
   {
    "duration": 3,
    "start_time": "2022-04-10T09:52:04.072Z"
   },
   {
    "duration": 1192,
    "start_time": "2022-04-10T09:52:13.364Z"
   },
   {
    "duration": 15,
    "start_time": "2022-04-10T09:52:14.563Z"
   },
   {
    "duration": 17,
    "start_time": "2022-04-10T09:52:14.579Z"
   },
   {
    "duration": 9,
    "start_time": "2022-04-10T09:52:14.599Z"
   },
   {
    "duration": 5,
    "start_time": "2022-04-10T09:52:14.610Z"
   },
   {
    "duration": 5,
    "start_time": "2022-04-10T09:52:14.616Z"
   },
   {
    "duration": 4,
    "start_time": "2022-04-10T09:52:14.623Z"
   },
   {
    "duration": 2,
    "start_time": "2022-04-10T09:52:14.629Z"
   },
   {
    "duration": 5,
    "start_time": "2022-04-10T09:52:14.662Z"
   },
   {
    "duration": 8,
    "start_time": "2022-04-10T09:52:14.670Z"
   },
   {
    "duration": 6,
    "start_time": "2022-04-10T09:52:14.679Z"
   },
   {
    "duration": 47,
    "start_time": "2022-04-10T09:52:14.686Z"
   },
   {
    "duration": 68,
    "start_time": "2022-04-10T09:52:14.735Z"
   },
   {
    "duration": 3,
    "start_time": "2022-04-10T09:52:14.805Z"
   },
   {
    "duration": 13,
    "start_time": "2022-04-10T09:52:14.810Z"
   },
   {
    "duration": 12,
    "start_time": "2022-04-10T09:52:14.824Z"
   },
   {
    "duration": 8,
    "start_time": "2022-04-10T09:52:14.837Z"
   },
   {
    "duration": 469,
    "start_time": "2022-04-10T09:52:14.846Z"
   },
   {
    "duration": 183,
    "start_time": "2022-04-10T09:52:15.316Z"
   },
   {
    "duration": 6,
    "start_time": "2022-04-10T09:52:15.500Z"
   },
   {
    "duration": 8,
    "start_time": "2022-04-10T09:52:15.508Z"
   },
   {
    "duration": 5,
    "start_time": "2022-04-10T09:52:15.517Z"
   },
   {
    "duration": 9,
    "start_time": "2022-04-10T09:52:15.523Z"
   },
   {
    "duration": 10,
    "start_time": "2022-04-10T09:52:15.534Z"
   },
   {
    "duration": 12,
    "start_time": "2022-04-10T09:52:15.567Z"
   },
   {
    "duration": 11,
    "start_time": "2022-04-10T09:52:15.581Z"
   },
   {
    "duration": 8,
    "start_time": "2022-04-10T09:52:15.594Z"
   },
   {
    "duration": 6,
    "start_time": "2022-04-10T09:52:15.604Z"
   },
   {
    "duration": 6,
    "start_time": "2022-04-10T09:52:15.611Z"
   },
   {
    "duration": 44,
    "start_time": "2022-04-10T09:52:15.618Z"
   },
   {
    "duration": 17,
    "start_time": "2022-04-10T09:52:15.665Z"
   },
   {
    "duration": 86,
    "start_time": "2022-04-10T09:52:15.685Z"
   },
   {
    "duration": 1179,
    "start_time": "2022-04-10T09:57:40.202Z"
   },
   {
    "duration": 13,
    "start_time": "2022-04-10T09:57:41.383Z"
   },
   {
    "duration": 17,
    "start_time": "2022-04-10T09:57:41.398Z"
   },
   {
    "duration": 9,
    "start_time": "2022-04-10T09:57:41.417Z"
   },
   {
    "duration": 5,
    "start_time": "2022-04-10T09:57:41.428Z"
   },
   {
    "duration": 25,
    "start_time": "2022-04-10T09:57:41.435Z"
   },
   {
    "duration": 6,
    "start_time": "2022-04-10T09:57:41.462Z"
   },
   {
    "duration": 21,
    "start_time": "2022-04-10T09:57:41.470Z"
   },
   {
    "duration": 26,
    "start_time": "2022-04-10T09:57:41.492Z"
   },
   {
    "duration": 8,
    "start_time": "2022-04-10T09:57:41.520Z"
   },
   {
    "duration": 9,
    "start_time": "2022-04-10T09:57:41.530Z"
   },
   {
    "duration": 74,
    "start_time": "2022-04-10T09:57:41.540Z"
   },
   {
    "duration": 45,
    "start_time": "2022-04-10T09:57:41.616Z"
   },
   {
    "duration": 14,
    "start_time": "2022-04-10T09:57:41.664Z"
   },
   {
    "duration": 18,
    "start_time": "2022-04-10T09:57:41.680Z"
   },
   {
    "duration": 10,
    "start_time": "2022-04-10T09:57:41.700Z"
   },
   {
    "duration": 5,
    "start_time": "2022-04-10T09:57:41.712Z"
   },
   {
    "duration": 446,
    "start_time": "2022-04-10T09:57:41.718Z"
   },
   {
    "duration": 182,
    "start_time": "2022-04-10T09:57:42.166Z"
   },
   {
    "duration": 18,
    "start_time": "2022-04-10T09:57:42.349Z"
   },
   {
    "duration": 7,
    "start_time": "2022-04-10T09:57:42.369Z"
   },
   {
    "duration": 5,
    "start_time": "2022-04-10T09:57:42.377Z"
   },
   {
    "duration": 8,
    "start_time": "2022-04-10T09:57:42.384Z"
   },
   {
    "duration": 7,
    "start_time": "2022-04-10T09:57:42.393Z"
   },
   {
    "duration": 13,
    "start_time": "2022-04-10T09:57:42.401Z"
   },
   {
    "duration": 12,
    "start_time": "2022-04-10T09:57:42.416Z"
   },
   {
    "duration": 38,
    "start_time": "2022-04-10T09:57:42.429Z"
   },
   {
    "duration": 7,
    "start_time": "2022-04-10T09:57:42.471Z"
   },
   {
    "duration": 5,
    "start_time": "2022-04-10T09:57:42.480Z"
   },
   {
    "duration": 12,
    "start_time": "2022-04-10T09:57:42.486Z"
   },
   {
    "duration": 62,
    "start_time": "2022-04-10T09:57:42.500Z"
   },
   {
    "duration": 16,
    "start_time": "2022-04-10T09:57:42.567Z"
   },
   {
    "duration": 1231,
    "start_time": "2022-04-10T09:58:38.139Z"
   },
   {
    "duration": 12,
    "start_time": "2022-04-10T09:58:39.374Z"
   },
   {
    "duration": 17,
    "start_time": "2022-04-10T09:58:39.388Z"
   },
   {
    "duration": 10,
    "start_time": "2022-04-10T09:58:39.407Z"
   },
   {
    "duration": 5,
    "start_time": "2022-04-10T09:58:39.419Z"
   },
   {
    "duration": 7,
    "start_time": "2022-04-10T09:58:39.426Z"
   },
   {
    "duration": 5,
    "start_time": "2022-04-10T09:58:39.435Z"
   },
   {
    "duration": 6,
    "start_time": "2022-04-10T09:58:39.461Z"
   },
   {
    "duration": 8,
    "start_time": "2022-04-10T09:58:39.469Z"
   },
   {
    "duration": 7,
    "start_time": "2022-04-10T09:58:39.480Z"
   },
   {
    "duration": 4,
    "start_time": "2022-04-10T09:58:39.489Z"
   },
   {
    "duration": 48,
    "start_time": "2022-04-10T09:58:39.494Z"
   },
   {
    "duration": 55,
    "start_time": "2022-04-10T09:58:39.544Z"
   },
   {
    "duration": 8,
    "start_time": "2022-04-10T09:58:39.601Z"
   },
   {
    "duration": 15,
    "start_time": "2022-04-10T09:58:39.611Z"
   },
   {
    "duration": 12,
    "start_time": "2022-04-10T09:58:39.627Z"
   },
   {
    "duration": 4,
    "start_time": "2022-04-10T09:58:39.641Z"
   },
   {
    "duration": 445,
    "start_time": "2022-04-10T09:58:39.662Z"
   },
   {
    "duration": 179,
    "start_time": "2022-04-10T09:58:40.109Z"
   },
   {
    "duration": 6,
    "start_time": "2022-04-10T09:58:40.289Z"
   },
   {
    "duration": 7,
    "start_time": "2022-04-10T09:58:40.296Z"
   },
   {
    "duration": 5,
    "start_time": "2022-04-10T09:58:40.305Z"
   },
   {
    "duration": 7,
    "start_time": "2022-04-10T09:58:40.311Z"
   },
   {
    "duration": 11,
    "start_time": "2022-04-10T09:58:40.319Z"
   },
   {
    "duration": 12,
    "start_time": "2022-04-10T09:58:40.331Z"
   },
   {
    "duration": 29,
    "start_time": "2022-04-10T09:58:40.344Z"
   },
   {
    "duration": 7,
    "start_time": "2022-04-10T09:58:40.374Z"
   },
   {
    "duration": 8,
    "start_time": "2022-04-10T09:58:40.384Z"
   },
   {
    "duration": 5,
    "start_time": "2022-04-10T09:58:40.394Z"
   },
   {
    "duration": 10,
    "start_time": "2022-04-10T09:58:40.401Z"
   },
   {
    "duration": 67,
    "start_time": "2022-04-10T09:58:40.412Z"
   },
   {
    "duration": 4,
    "start_time": "2022-04-10T09:58:40.559Z"
   },
   {
    "duration": 5,
    "start_time": "2022-04-10T10:00:22.055Z"
   },
   {
    "duration": 4,
    "start_time": "2022-04-10T10:00:37.676Z"
   },
   {
    "duration": 5,
    "start_time": "2022-04-10T10:01:02.750Z"
   },
   {
    "duration": 1237,
    "start_time": "2022-04-10T10:01:28.524Z"
   },
   {
    "duration": 15,
    "start_time": "2022-04-10T10:01:29.764Z"
   },
   {
    "duration": 17,
    "start_time": "2022-04-10T10:01:29.781Z"
   },
   {
    "duration": 10,
    "start_time": "2022-04-10T10:01:29.800Z"
   },
   {
    "duration": 8,
    "start_time": "2022-04-10T10:01:29.811Z"
   },
   {
    "duration": 7,
    "start_time": "2022-04-10T10:01:29.820Z"
   },
   {
    "duration": 6,
    "start_time": "2022-04-10T10:01:29.829Z"
   },
   {
    "duration": 27,
    "start_time": "2022-04-10T10:01:29.836Z"
   },
   {
    "duration": 11,
    "start_time": "2022-04-10T10:01:29.865Z"
   },
   {
    "duration": 7,
    "start_time": "2022-04-10T10:01:29.879Z"
   },
   {
    "duration": 7,
    "start_time": "2022-04-10T10:01:29.887Z"
   },
   {
    "duration": 46,
    "start_time": "2022-04-10T10:01:29.895Z"
   },
   {
    "duration": 50,
    "start_time": "2022-04-10T10:01:29.942Z"
   },
   {
    "duration": 4,
    "start_time": "2022-04-10T10:01:29.993Z"
   },
   {
    "duration": 24,
    "start_time": "2022-04-10T10:01:29.999Z"
   },
   {
    "duration": 16,
    "start_time": "2022-04-10T10:01:30.024Z"
   },
   {
    "duration": 18,
    "start_time": "2022-04-10T10:01:30.041Z"
   },
   {
    "duration": 515,
    "start_time": "2022-04-10T10:01:30.062Z"
   },
   {
    "duration": 206,
    "start_time": "2022-04-10T10:01:30.579Z"
   },
   {
    "duration": 7,
    "start_time": "2022-04-10T10:01:30.788Z"
   },
   {
    "duration": 8,
    "start_time": "2022-04-10T10:01:30.797Z"
   },
   {
    "duration": 6,
    "start_time": "2022-04-10T10:01:30.808Z"
   },
   {
    "duration": 15,
    "start_time": "2022-04-10T10:01:30.815Z"
   },
   {
    "duration": 19,
    "start_time": "2022-04-10T10:01:30.832Z"
   },
   {
    "duration": 26,
    "start_time": "2022-04-10T10:01:30.853Z"
   },
   {
    "duration": 14,
    "start_time": "2022-04-10T10:01:30.881Z"
   },
   {
    "duration": 8,
    "start_time": "2022-04-10T10:01:30.897Z"
   },
   {
    "duration": 7,
    "start_time": "2022-04-10T10:01:30.907Z"
   },
   {
    "duration": 7,
    "start_time": "2022-04-10T10:01:30.916Z"
   },
   {
    "duration": 11,
    "start_time": "2022-04-10T10:01:30.924Z"
   },
   {
    "duration": 16,
    "start_time": "2022-04-10T10:01:30.963Z"
   },
   {
    "duration": 212,
    "start_time": "2022-04-10T10:01:30.981Z"
   },
   {
    "duration": 3,
    "start_time": "2022-04-10T10:01:40.384Z"
   },
   {
    "duration": 4,
    "start_time": "2022-04-10T10:02:25.191Z"
   },
   {
    "duration": 1365,
    "start_time": "2022-04-10T10:02:31.273Z"
   },
   {
    "duration": 12,
    "start_time": "2022-04-10T10:02:32.640Z"
   },
   {
    "duration": 36,
    "start_time": "2022-04-10T10:02:32.654Z"
   },
   {
    "duration": 23,
    "start_time": "2022-04-10T10:02:32.692Z"
   },
   {
    "duration": 29,
    "start_time": "2022-04-10T10:02:32.716Z"
   },
   {
    "duration": 34,
    "start_time": "2022-04-10T10:02:32.746Z"
   },
   {
    "duration": 23,
    "start_time": "2022-04-10T10:02:32.781Z"
   },
   {
    "duration": 24,
    "start_time": "2022-04-10T10:02:32.806Z"
   },
   {
    "duration": 23,
    "start_time": "2022-04-10T10:02:32.832Z"
   },
   {
    "duration": 37,
    "start_time": "2022-04-10T10:02:32.865Z"
   },
   {
    "duration": 22,
    "start_time": "2022-04-10T10:02:32.904Z"
   },
   {
    "duration": 63,
    "start_time": "2022-04-10T10:02:32.927Z"
   },
   {
    "duration": 42,
    "start_time": "2022-04-10T10:02:32.992Z"
   },
   {
    "duration": 25,
    "start_time": "2022-04-10T10:02:33.035Z"
   },
   {
    "duration": 26,
    "start_time": "2022-04-10T10:02:33.062Z"
   },
   {
    "duration": 13,
    "start_time": "2022-04-10T10:02:33.090Z"
   },
   {
    "duration": 5,
    "start_time": "2022-04-10T10:02:33.104Z"
   },
   {
    "duration": 436,
    "start_time": "2022-04-10T10:02:33.110Z"
   },
   {
    "duration": 189,
    "start_time": "2022-04-10T10:02:33.548Z"
   },
   {
    "duration": 6,
    "start_time": "2022-04-10T10:02:33.739Z"
   },
   {
    "duration": 9,
    "start_time": "2022-04-10T10:02:33.759Z"
   },
   {
    "duration": 13,
    "start_time": "2022-04-10T10:02:33.770Z"
   },
   {
    "duration": 6,
    "start_time": "2022-04-10T10:02:33.785Z"
   },
   {
    "duration": 5,
    "start_time": "2022-04-10T10:02:33.793Z"
   },
   {
    "duration": 11,
    "start_time": "2022-04-10T10:02:33.800Z"
   },
   {
    "duration": 9,
    "start_time": "2022-04-10T10:02:33.813Z"
   },
   {
    "duration": 34,
    "start_time": "2022-04-10T10:02:33.824Z"
   },
   {
    "duration": 9,
    "start_time": "2022-04-10T10:02:33.865Z"
   },
   {
    "duration": 4,
    "start_time": "2022-04-10T10:02:33.876Z"
   },
   {
    "duration": 10,
    "start_time": "2022-04-10T10:02:33.882Z"
   },
   {
    "duration": 72,
    "start_time": "2022-04-10T10:02:33.894Z"
   },
   {
    "duration": 95,
    "start_time": "2022-04-10T10:02:33.974Z"
   },
   {
    "duration": 1209,
    "start_time": "2022-04-10T10:03:27.587Z"
   },
   {
    "duration": 17,
    "start_time": "2022-04-10T10:03:28.798Z"
   },
   {
    "duration": 19,
    "start_time": "2022-04-10T10:03:28.816Z"
   },
   {
    "duration": 11,
    "start_time": "2022-04-10T10:03:28.836Z"
   },
   {
    "duration": 7,
    "start_time": "2022-04-10T10:03:28.848Z"
   },
   {
    "duration": 15,
    "start_time": "2022-04-10T10:03:28.861Z"
   },
   {
    "duration": 9,
    "start_time": "2022-04-10T10:03:28.877Z"
   },
   {
    "duration": 5,
    "start_time": "2022-04-10T10:03:28.888Z"
   },
   {
    "duration": 9,
    "start_time": "2022-04-10T10:03:28.894Z"
   },
   {
    "duration": 4,
    "start_time": "2022-04-10T10:03:28.905Z"
   },
   {
    "duration": 4,
    "start_time": "2022-04-10T10:03:28.911Z"
   },
   {
    "duration": 70,
    "start_time": "2022-04-10T10:03:28.917Z"
   },
   {
    "duration": 40,
    "start_time": "2022-04-10T10:03:28.988Z"
   },
   {
    "duration": 6,
    "start_time": "2022-04-10T10:03:29.029Z"
   },
   {
    "duration": 32,
    "start_time": "2022-04-10T10:03:29.037Z"
   },
   {
    "duration": 16,
    "start_time": "2022-04-10T10:03:29.071Z"
   },
   {
    "duration": 7,
    "start_time": "2022-04-10T10:03:29.089Z"
   },
   {
    "duration": 427,
    "start_time": "2022-04-10T10:03:29.097Z"
   },
   {
    "duration": 193,
    "start_time": "2022-04-10T10:03:29.526Z"
   },
   {
    "duration": 6,
    "start_time": "2022-04-10T10:03:29.720Z"
   },
   {
    "duration": 8,
    "start_time": "2022-04-10T10:03:29.727Z"
   },
   {
    "duration": 7,
    "start_time": "2022-04-10T10:03:29.737Z"
   },
   {
    "duration": 13,
    "start_time": "2022-04-10T10:03:29.746Z"
   },
   {
    "duration": 6,
    "start_time": "2022-04-10T10:03:29.761Z"
   },
   {
    "duration": 22,
    "start_time": "2022-04-10T10:03:29.768Z"
   },
   {
    "duration": 17,
    "start_time": "2022-04-10T10:03:29.792Z"
   },
   {
    "duration": 6,
    "start_time": "2022-04-10T10:03:29.812Z"
   },
   {
    "duration": 5,
    "start_time": "2022-04-10T10:03:29.822Z"
   },
   {
    "duration": 6,
    "start_time": "2022-04-10T10:03:29.829Z"
   },
   {
    "duration": 38,
    "start_time": "2022-04-10T10:03:29.837Z"
   },
   {
    "duration": 5,
    "start_time": "2022-04-10T10:03:29.877Z"
   },
   {
    "duration": 85,
    "start_time": "2022-04-10T10:03:29.884Z"
   },
   {
    "duration": 1196,
    "start_time": "2022-04-10T10:05:06.794Z"
   },
   {
    "duration": 12,
    "start_time": "2022-04-10T10:05:07.991Z"
   },
   {
    "duration": 18,
    "start_time": "2022-04-10T10:05:08.005Z"
   },
   {
    "duration": 11,
    "start_time": "2022-04-10T10:05:08.025Z"
   },
   {
    "duration": 7,
    "start_time": "2022-04-10T10:05:08.038Z"
   },
   {
    "duration": 20,
    "start_time": "2022-04-10T10:05:08.047Z"
   },
   {
    "duration": 6,
    "start_time": "2022-04-10T10:05:08.069Z"
   },
   {
    "duration": 20,
    "start_time": "2022-04-10T10:05:08.076Z"
   },
   {
    "duration": 4,
    "start_time": "2022-04-10T10:05:08.098Z"
   },
   {
    "duration": 14,
    "start_time": "2022-04-10T10:05:08.104Z"
   },
   {
    "duration": 11,
    "start_time": "2022-04-10T10:05:08.120Z"
   },
   {
    "duration": 54,
    "start_time": "2022-04-10T10:05:08.132Z"
   },
   {
    "duration": 43,
    "start_time": "2022-04-10T10:05:08.187Z"
   },
   {
    "duration": 5,
    "start_time": "2022-04-10T10:05:08.232Z"
   },
   {
    "duration": 14,
    "start_time": "2022-04-10T10:05:08.238Z"
   },
   {
    "duration": 22,
    "start_time": "2022-04-10T10:05:08.258Z"
   },
   {
    "duration": 8,
    "start_time": "2022-04-10T10:05:08.281Z"
   },
   {
    "duration": 445,
    "start_time": "2022-04-10T10:05:08.291Z"
   },
   {
    "duration": 185,
    "start_time": "2022-04-10T10:05:08.738Z"
   },
   {
    "duration": 5,
    "start_time": "2022-04-10T10:05:08.925Z"
   },
   {
    "duration": 11,
    "start_time": "2022-04-10T10:05:08.931Z"
   },
   {
    "duration": 29,
    "start_time": "2022-04-10T10:05:08.944Z"
   },
   {
    "duration": 8,
    "start_time": "2022-04-10T10:05:08.975Z"
   },
   {
    "duration": 8,
    "start_time": "2022-04-10T10:05:08.984Z"
   },
   {
    "duration": 14,
    "start_time": "2022-04-10T10:05:08.994Z"
   },
   {
    "duration": 12,
    "start_time": "2022-04-10T10:05:09.010Z"
   },
   {
    "duration": 7,
    "start_time": "2022-04-10T10:05:09.023Z"
   },
   {
    "duration": 7,
    "start_time": "2022-04-10T10:05:09.033Z"
   },
   {
    "duration": 5,
    "start_time": "2022-04-10T10:05:09.042Z"
   },
   {
    "duration": 13,
    "start_time": "2022-04-10T10:05:09.049Z"
   },
   {
    "duration": 94,
    "start_time": "2022-04-10T10:05:09.065Z"
   },
   {
    "duration": 116,
    "start_time": "2022-04-10T10:05:09.161Z"
   },
   {
    "duration": 4,
    "start_time": "2022-04-10T10:33:20.557Z"
   },
   {
    "duration": 5,
    "start_time": "2022-04-10T10:33:23.631Z"
   },
   {
    "duration": 117,
    "start_time": "2022-04-10T12:26:53.222Z"
   },
   {
    "duration": 7,
    "start_time": "2022-04-10T12:27:08.240Z"
   },
   {
    "duration": 4,
    "start_time": "2022-04-10T12:28:19.646Z"
   },
   {
    "duration": 5,
    "start_time": "2022-04-10T12:35:11.024Z"
   },
   {
    "duration": 173,
    "start_time": "2022-04-10T12:36:41.132Z"
   },
   {
    "duration": 5,
    "start_time": "2022-04-10T12:36:50.193Z"
   },
   {
    "duration": 4,
    "start_time": "2022-04-10T12:36:52.897Z"
   },
   {
    "duration": 131,
    "start_time": "2022-04-10T12:46:06.175Z"
   },
   {
    "duration": 5,
    "start_time": "2022-04-10T12:46:16.502Z"
   },
   {
    "duration": 5,
    "start_time": "2022-04-10T12:46:25.515Z"
   },
   {
    "duration": 8,
    "start_time": "2022-04-10T12:48:26.807Z"
   },
   {
    "duration": 5,
    "start_time": "2022-04-10T12:48:31.342Z"
   },
   {
    "duration": 6,
    "start_time": "2022-04-10T12:48:47.660Z"
   },
   {
    "duration": 7,
    "start_time": "2022-04-10T12:50:11.887Z"
   },
   {
    "duration": 4,
    "start_time": "2022-04-10T12:50:18.930Z"
   },
   {
    "duration": 6,
    "start_time": "2022-04-10T12:56:18.126Z"
   },
   {
    "duration": 7,
    "start_time": "2022-04-10T12:56:21.170Z"
   },
   {
    "duration": 3,
    "start_time": "2022-04-10T12:56:23.715Z"
   },
   {
    "duration": 1618,
    "start_time": "2022-04-10T12:58:04.720Z"
   },
   {
    "duration": 12,
    "start_time": "2022-04-10T12:58:06.340Z"
   },
   {
    "duration": 26,
    "start_time": "2022-04-10T12:58:06.353Z"
   },
   {
    "duration": 26,
    "start_time": "2022-04-10T12:58:06.381Z"
   },
   {
    "duration": 12,
    "start_time": "2022-04-10T12:58:06.408Z"
   },
   {
    "duration": 13,
    "start_time": "2022-04-10T12:58:06.421Z"
   },
   {
    "duration": 11,
    "start_time": "2022-04-10T12:58:06.435Z"
   },
   {
    "duration": 7,
    "start_time": "2022-04-10T12:58:06.448Z"
   },
   {
    "duration": 14,
    "start_time": "2022-04-10T12:58:06.456Z"
   },
   {
    "duration": 16,
    "start_time": "2022-04-10T12:58:06.472Z"
   },
   {
    "duration": 11,
    "start_time": "2022-04-10T12:58:06.490Z"
   },
   {
    "duration": 50,
    "start_time": "2022-04-10T12:58:06.502Z"
   },
   {
    "duration": 42,
    "start_time": "2022-04-10T12:58:06.553Z"
   },
   {
    "duration": 6,
    "start_time": "2022-04-10T12:58:06.597Z"
   },
   {
    "duration": 14,
    "start_time": "2022-04-10T12:58:06.605Z"
   },
   {
    "duration": 12,
    "start_time": "2022-04-10T12:58:06.621Z"
   },
   {
    "duration": 25,
    "start_time": "2022-04-10T12:58:06.635Z"
   },
   {
    "duration": 425,
    "start_time": "2022-04-10T12:58:06.661Z"
   },
   {
    "duration": 171,
    "start_time": "2022-04-10T12:58:07.088Z"
   },
   {
    "duration": 6,
    "start_time": "2022-04-10T12:58:07.261Z"
   },
   {
    "duration": 8,
    "start_time": "2022-04-10T12:58:07.268Z"
   },
   {
    "duration": 5,
    "start_time": "2022-04-10T12:58:07.277Z"
   },
   {
    "duration": 20,
    "start_time": "2022-04-10T12:58:07.284Z"
   },
   {
    "duration": 17,
    "start_time": "2022-04-10T12:58:07.305Z"
   },
   {
    "duration": 15,
    "start_time": "2022-04-10T12:58:07.325Z"
   },
   {
    "duration": 26,
    "start_time": "2022-04-10T12:58:07.341Z"
   },
   {
    "duration": 8,
    "start_time": "2022-04-10T12:58:07.369Z"
   },
   {
    "duration": 12,
    "start_time": "2022-04-10T12:58:07.380Z"
   },
   {
    "duration": 9,
    "start_time": "2022-04-10T12:58:07.394Z"
   },
   {
    "duration": 21,
    "start_time": "2022-04-10T12:58:07.405Z"
   },
   {
    "duration": 13,
    "start_time": "2022-04-10T12:58:07.460Z"
   },
   {
    "duration": 8,
    "start_time": "2022-04-10T12:58:07.559Z"
   },
   {
    "duration": 15,
    "start_time": "2022-04-10T12:58:07.568Z"
   },
   {
    "duration": 14,
    "start_time": "2022-04-10T12:58:07.584Z"
   },
   {
    "duration": 26,
    "start_time": "2022-04-10T12:58:07.599Z"
   },
   {
    "duration": 23,
    "start_time": "2022-04-10T12:58:07.626Z"
   },
   {
    "duration": 19,
    "start_time": "2022-04-10T12:58:07.651Z"
   },
   {
    "duration": 90,
    "start_time": "2022-04-10T12:58:07.672Z"
   },
   {
    "duration": 1149,
    "start_time": "2022-04-10T12:58:16.009Z"
   },
   {
    "duration": 12,
    "start_time": "2022-04-10T12:58:17.160Z"
   },
   {
    "duration": 21,
    "start_time": "2022-04-10T12:58:17.174Z"
   },
   {
    "duration": 13,
    "start_time": "2022-04-10T12:58:17.197Z"
   },
   {
    "duration": 17,
    "start_time": "2022-04-10T12:58:17.212Z"
   },
   {
    "duration": 16,
    "start_time": "2022-04-10T12:58:17.231Z"
   },
   {
    "duration": 23,
    "start_time": "2022-04-10T12:58:17.249Z"
   },
   {
    "duration": 8,
    "start_time": "2022-04-10T12:58:17.274Z"
   },
   {
    "duration": 16,
    "start_time": "2022-04-10T12:58:17.284Z"
   },
   {
    "duration": 21,
    "start_time": "2022-04-10T12:58:17.302Z"
   },
   {
    "duration": 14,
    "start_time": "2022-04-10T12:58:17.324Z"
   },
   {
    "duration": 60,
    "start_time": "2022-04-10T12:58:17.340Z"
   },
   {
    "duration": 40,
    "start_time": "2022-04-10T12:58:17.402Z"
   },
   {
    "duration": 14,
    "start_time": "2022-04-10T12:58:17.443Z"
   },
   {
    "duration": 26,
    "start_time": "2022-04-10T12:58:17.459Z"
   },
   {
    "duration": 24,
    "start_time": "2022-04-10T12:58:17.486Z"
   },
   {
    "duration": 21,
    "start_time": "2022-04-10T12:58:17.511Z"
   },
   {
    "duration": 430,
    "start_time": "2022-04-10T12:58:17.534Z"
   },
   {
    "duration": 174,
    "start_time": "2022-04-10T12:58:17.966Z"
   },
   {
    "duration": 6,
    "start_time": "2022-04-10T12:58:18.141Z"
   },
   {
    "duration": 22,
    "start_time": "2022-04-10T12:58:18.148Z"
   },
   {
    "duration": 13,
    "start_time": "2022-04-10T12:58:18.172Z"
   },
   {
    "duration": 26,
    "start_time": "2022-04-10T12:58:18.187Z"
   },
   {
    "duration": 15,
    "start_time": "2022-04-10T12:58:18.215Z"
   },
   {
    "duration": 15,
    "start_time": "2022-04-10T12:58:18.231Z"
   },
   {
    "duration": 23,
    "start_time": "2022-04-10T12:58:18.248Z"
   },
   {
    "duration": 18,
    "start_time": "2022-04-10T12:58:18.272Z"
   },
   {
    "duration": 14,
    "start_time": "2022-04-10T12:58:18.293Z"
   },
   {
    "duration": 14,
    "start_time": "2022-04-10T12:58:18.309Z"
   },
   {
    "duration": 21,
    "start_time": "2022-04-10T12:58:18.325Z"
   },
   {
    "duration": 11,
    "start_time": "2022-04-10T12:58:18.358Z"
   },
   {
    "duration": 88,
    "start_time": "2022-04-10T12:58:18.371Z"
   },
   {
    "duration": 17,
    "start_time": "2022-04-10T12:58:18.462Z"
   },
   {
    "duration": 80,
    "start_time": "2022-04-10T12:58:18.481Z"
   },
   {
    "duration": 24,
    "start_time": "2022-04-10T12:58:18.563Z"
   },
   {
    "duration": 32,
    "start_time": "2022-04-10T12:58:18.588Z"
   },
   {
    "duration": 15,
    "start_time": "2022-04-10T12:58:18.622Z"
   },
   {
    "duration": 21,
    "start_time": "2022-04-10T12:58:18.639Z"
   },
   {
    "duration": 5,
    "start_time": "2022-04-10T12:59:21.957Z"
   },
   {
    "duration": 242,
    "start_time": "2022-04-10T12:59:22.758Z"
   },
   {
    "duration": 5,
    "start_time": "2022-04-10T13:02:23.787Z"
   },
   {
    "duration": 1181,
    "start_time": "2022-04-10T13:03:05.953Z"
   },
   {
    "duration": 13,
    "start_time": "2022-04-10T13:03:07.136Z"
   },
   {
    "duration": 19,
    "start_time": "2022-04-10T13:03:07.150Z"
   },
   {
    "duration": 10,
    "start_time": "2022-04-10T13:03:07.171Z"
   },
   {
    "duration": 7,
    "start_time": "2022-04-10T13:03:07.183Z"
   },
   {
    "duration": 6,
    "start_time": "2022-04-10T13:03:07.191Z"
   },
   {
    "duration": 6,
    "start_time": "2022-04-10T13:03:07.199Z"
   },
   {
    "duration": 4,
    "start_time": "2022-04-10T13:03:07.207Z"
   },
   {
    "duration": 5,
    "start_time": "2022-04-10T13:03:07.213Z"
   },
   {
    "duration": 4,
    "start_time": "2022-04-10T13:03:07.258Z"
   },
   {
    "duration": 6,
    "start_time": "2022-04-10T13:03:07.264Z"
   },
   {
    "duration": 45,
    "start_time": "2022-04-10T13:03:07.271Z"
   },
   {
    "duration": 55,
    "start_time": "2022-04-10T13:03:07.318Z"
   },
   {
    "duration": 5,
    "start_time": "2022-04-10T13:03:07.374Z"
   },
   {
    "duration": 12,
    "start_time": "2022-04-10T13:03:07.381Z"
   },
   {
    "duration": 9,
    "start_time": "2022-04-10T13:03:07.394Z"
   },
   {
    "duration": 5,
    "start_time": "2022-04-10T13:03:07.405Z"
   },
   {
    "duration": 428,
    "start_time": "2022-04-10T13:03:07.412Z"
   },
   {
    "duration": 167,
    "start_time": "2022-04-10T13:03:07.842Z"
   },
   {
    "duration": 6,
    "start_time": "2022-04-10T13:03:08.010Z"
   },
   {
    "duration": 8,
    "start_time": "2022-04-10T13:03:08.017Z"
   },
   {
    "duration": 12,
    "start_time": "2022-04-10T13:03:08.027Z"
   },
   {
    "duration": 10,
    "start_time": "2022-04-10T13:03:08.041Z"
   },
   {
    "duration": 7,
    "start_time": "2022-04-10T13:03:08.052Z"
   },
   {
    "duration": 10,
    "start_time": "2022-04-10T13:03:08.061Z"
   },
   {
    "duration": 10,
    "start_time": "2022-04-10T13:03:08.073Z"
   },
   {
    "duration": 6,
    "start_time": "2022-04-10T13:03:08.084Z"
   },
   {
    "duration": 7,
    "start_time": "2022-04-10T13:03:08.093Z"
   },
   {
    "duration": 4,
    "start_time": "2022-04-10T13:03:08.102Z"
   },
   {
    "duration": 51,
    "start_time": "2022-04-10T13:03:08.107Z"
   },
   {
    "duration": 5,
    "start_time": "2022-04-10T13:03:08.160Z"
   },
   {
    "duration": 92,
    "start_time": "2022-04-10T13:03:08.167Z"
   },
   {
    "duration": 17,
    "start_time": "2022-04-10T13:03:08.261Z"
   },
   {
    "duration": 5,
    "start_time": "2022-04-10T13:03:08.279Z"
   },
   {
    "duration": 8,
    "start_time": "2022-04-10T13:03:08.286Z"
   },
   {
    "duration": 8,
    "start_time": "2022-04-10T13:03:08.296Z"
   },
   {
    "duration": 8,
    "start_time": "2022-04-10T13:03:08.305Z"
   },
   {
    "duration": 45,
    "start_time": "2022-04-10T13:03:08.315Z"
   },
   {
    "duration": 1125,
    "start_time": "2022-04-10T13:05:19.754Z"
   },
   {
    "duration": 12,
    "start_time": "2022-04-10T13:05:20.881Z"
   },
   {
    "duration": 17,
    "start_time": "2022-04-10T13:05:20.895Z"
   },
   {
    "duration": 12,
    "start_time": "2022-04-10T13:05:20.914Z"
   },
   {
    "duration": 6,
    "start_time": "2022-04-10T13:05:20.927Z"
   },
   {
    "duration": 7,
    "start_time": "2022-04-10T13:05:20.935Z"
   },
   {
    "duration": 6,
    "start_time": "2022-04-10T13:05:20.958Z"
   },
   {
    "duration": 6,
    "start_time": "2022-04-10T13:05:20.965Z"
   },
   {
    "duration": 9,
    "start_time": "2022-04-10T13:05:20.972Z"
   },
   {
    "duration": 11,
    "start_time": "2022-04-10T13:05:20.984Z"
   },
   {
    "duration": 18,
    "start_time": "2022-04-10T13:05:20.996Z"
   },
   {
    "duration": 48,
    "start_time": "2022-04-10T13:05:21.015Z"
   },
   {
    "duration": 42,
    "start_time": "2022-04-10T13:05:21.065Z"
   },
   {
    "duration": 8,
    "start_time": "2022-04-10T13:05:21.109Z"
   },
   {
    "duration": 14,
    "start_time": "2022-04-10T13:05:21.119Z"
   },
   {
    "duration": 27,
    "start_time": "2022-04-10T13:05:21.135Z"
   },
   {
    "duration": 6,
    "start_time": "2022-04-10T13:05:21.163Z"
   },
   {
    "duration": 523,
    "start_time": "2022-04-10T13:05:21.170Z"
   },
   {
    "duration": 169,
    "start_time": "2022-04-10T13:05:21.694Z"
   },
   {
    "duration": 6,
    "start_time": "2022-04-10T13:05:21.865Z"
   },
   {
    "duration": 7,
    "start_time": "2022-04-10T13:05:21.872Z"
   },
   {
    "duration": 5,
    "start_time": "2022-04-10T13:05:21.880Z"
   },
   {
    "duration": 8,
    "start_time": "2022-04-10T13:05:21.886Z"
   },
   {
    "duration": 6,
    "start_time": "2022-04-10T13:05:21.896Z"
   },
   {
    "duration": 10,
    "start_time": "2022-04-10T13:05:21.904Z"
   },
   {
    "duration": 11,
    "start_time": "2022-04-10T13:05:21.915Z"
   },
   {
    "duration": 31,
    "start_time": "2022-04-10T13:05:21.928Z"
   },
   {
    "duration": 5,
    "start_time": "2022-04-10T13:05:21.962Z"
   },
   {
    "duration": 6,
    "start_time": "2022-04-10T13:05:21.968Z"
   },
   {
    "duration": 10,
    "start_time": "2022-04-10T13:05:21.975Z"
   },
   {
    "duration": 7,
    "start_time": "2022-04-10T13:05:21.987Z"
   },
   {
    "duration": 7,
    "start_time": "2022-04-10T13:05:22.060Z"
   },
   {
    "duration": 93,
    "start_time": "2022-04-10T13:05:22.070Z"
   },
   {
    "duration": 3,
    "start_time": "2022-04-10T13:05:22.165Z"
   },
   {
    "duration": 9,
    "start_time": "2022-04-10T13:05:22.170Z"
   },
   {
    "duration": 5,
    "start_time": "2022-04-10T13:05:22.181Z"
   },
   {
    "duration": 8,
    "start_time": "2022-04-10T13:05:22.188Z"
   },
   {
    "duration": 63,
    "start_time": "2022-04-10T13:05:22.198Z"
   },
   {
    "duration": 1259,
    "start_time": "2022-04-10T13:06:03.961Z"
   },
   {
    "duration": 12,
    "start_time": "2022-04-10T13:06:05.222Z"
   },
   {
    "duration": 17,
    "start_time": "2022-04-10T13:06:05.236Z"
   },
   {
    "duration": 9,
    "start_time": "2022-04-10T13:06:05.258Z"
   },
   {
    "duration": 5,
    "start_time": "2022-04-10T13:06:05.269Z"
   },
   {
    "duration": 8,
    "start_time": "2022-04-10T13:06:05.275Z"
   },
   {
    "duration": 12,
    "start_time": "2022-04-10T13:06:05.284Z"
   },
   {
    "duration": 11,
    "start_time": "2022-04-10T13:06:05.297Z"
   },
   {
    "duration": 6,
    "start_time": "2022-04-10T13:06:05.309Z"
   },
   {
    "duration": 5,
    "start_time": "2022-04-10T13:06:05.318Z"
   },
   {
    "duration": 6,
    "start_time": "2022-04-10T13:06:05.324Z"
   },
   {
    "duration": 59,
    "start_time": "2022-04-10T13:06:05.332Z"
   },
   {
    "duration": 43,
    "start_time": "2022-04-10T13:06:05.393Z"
   },
   {
    "duration": 5,
    "start_time": "2022-04-10T13:06:05.438Z"
   },
   {
    "duration": 13,
    "start_time": "2022-04-10T13:06:05.459Z"
   },
   {
    "duration": 13,
    "start_time": "2022-04-10T13:06:05.474Z"
   },
   {
    "duration": 9,
    "start_time": "2022-04-10T13:06:05.489Z"
   },
   {
    "duration": 417,
    "start_time": "2022-04-10T13:06:05.499Z"
   },
   {
    "duration": 171,
    "start_time": "2022-04-10T13:06:05.918Z"
   },
   {
    "duration": 5,
    "start_time": "2022-04-10T13:06:06.091Z"
   },
   {
    "duration": 7,
    "start_time": "2022-04-10T13:06:06.098Z"
   },
   {
    "duration": 5,
    "start_time": "2022-04-10T13:06:06.106Z"
   },
   {
    "duration": 9,
    "start_time": "2022-04-10T13:06:06.112Z"
   },
   {
    "duration": 6,
    "start_time": "2022-04-10T13:06:06.123Z"
   },
   {
    "duration": 28,
    "start_time": "2022-04-10T13:06:06.130Z"
   },
   {
    "duration": 10,
    "start_time": "2022-04-10T13:06:06.160Z"
   },
   {
    "duration": 7,
    "start_time": "2022-04-10T13:06:06.171Z"
   },
   {
    "duration": 5,
    "start_time": "2022-04-10T13:06:06.180Z"
   },
   {
    "duration": 4,
    "start_time": "2022-04-10T13:06:06.186Z"
   },
   {
    "duration": 8,
    "start_time": "2022-04-10T13:06:06.192Z"
   },
   {
    "duration": 5,
    "start_time": "2022-04-10T13:06:06.258Z"
   },
   {
    "duration": 94,
    "start_time": "2022-04-10T13:06:06.265Z"
   },
   {
    "duration": 19,
    "start_time": "2022-04-10T13:06:06.361Z"
   },
   {
    "duration": 14,
    "start_time": "2022-04-10T13:06:06.382Z"
   },
   {
    "duration": 36,
    "start_time": "2022-04-10T13:06:06.398Z"
   },
   {
    "duration": 132,
    "start_time": "2022-04-10T13:06:06.436Z"
   },
   {
    "duration": 0,
    "start_time": "2022-04-10T13:06:06.569Z"
   },
   {
    "duration": 0,
    "start_time": "2022-04-10T13:06:06.571Z"
   },
   {
    "duration": 1259,
    "start_time": "2022-04-10T13:06:31.288Z"
   },
   {
    "duration": 13,
    "start_time": "2022-04-10T13:06:32.549Z"
   },
   {
    "duration": 20,
    "start_time": "2022-04-10T13:06:32.564Z"
   },
   {
    "duration": 18,
    "start_time": "2022-04-10T13:06:32.586Z"
   },
   {
    "duration": 17,
    "start_time": "2022-04-10T13:06:32.606Z"
   },
   {
    "duration": 17,
    "start_time": "2022-04-10T13:06:32.625Z"
   },
   {
    "duration": 6,
    "start_time": "2022-04-10T13:06:32.644Z"
   },
   {
    "duration": 5,
    "start_time": "2022-04-10T13:06:32.658Z"
   },
   {
    "duration": 10,
    "start_time": "2022-04-10T13:06:32.665Z"
   },
   {
    "duration": 9,
    "start_time": "2022-04-10T13:06:32.678Z"
   },
   {
    "duration": 8,
    "start_time": "2022-04-10T13:06:32.689Z"
   },
   {
    "duration": 71,
    "start_time": "2022-04-10T13:06:32.699Z"
   },
   {
    "duration": 43,
    "start_time": "2022-04-10T13:06:32.771Z"
   },
   {
    "duration": 8,
    "start_time": "2022-04-10T13:06:32.815Z"
   },
   {
    "duration": 18,
    "start_time": "2022-04-10T13:06:32.824Z"
   },
   {
    "duration": 24,
    "start_time": "2022-04-10T13:06:32.843Z"
   },
   {
    "duration": 10,
    "start_time": "2022-04-10T13:06:32.868Z"
   },
   {
    "duration": 480,
    "start_time": "2022-04-10T13:06:32.879Z"
   },
   {
    "duration": 191,
    "start_time": "2022-04-10T13:06:33.360Z"
   },
   {
    "duration": 202,
    "start_time": "2022-04-10T13:06:33.557Z"
   },
   {
    "duration": 7,
    "start_time": "2022-04-10T13:06:33.761Z"
   },
   {
    "duration": 7,
    "start_time": "2022-04-10T13:06:33.769Z"
   },
   {
    "duration": 7,
    "start_time": "2022-04-10T13:06:33.777Z"
   },
   {
    "duration": 8,
    "start_time": "2022-04-10T13:06:33.786Z"
   },
   {
    "duration": 13,
    "start_time": "2022-04-10T13:06:33.796Z"
   },
   {
    "duration": 12,
    "start_time": "2022-04-10T13:06:33.810Z"
   },
   {
    "duration": 6,
    "start_time": "2022-04-10T13:06:33.823Z"
   },
   {
    "duration": 5,
    "start_time": "2022-04-10T13:06:33.832Z"
   },
   {
    "duration": 2,
    "start_time": "2022-04-10T13:06:33.858Z"
   },
   {
    "duration": 10,
    "start_time": "2022-04-10T13:06:33.862Z"
   },
   {
    "duration": 7,
    "start_time": "2022-04-10T13:06:33.873Z"
   },
   {
    "duration": 84,
    "start_time": "2022-04-10T13:06:33.882Z"
   },
   {
    "duration": 95,
    "start_time": "2022-04-10T13:06:33.968Z"
   },
   {
    "duration": 5,
    "start_time": "2022-04-10T13:06:34.065Z"
   },
   {
    "duration": 10,
    "start_time": "2022-04-10T13:06:34.071Z"
   },
   {
    "duration": 6,
    "start_time": "2022-04-10T13:06:34.082Z"
   },
   {
    "duration": 252,
    "start_time": "2022-04-10T13:06:34.090Z"
   },
   {
    "duration": 0,
    "start_time": "2022-04-10T13:06:34.344Z"
   },
   {
    "duration": 1129,
    "start_time": "2022-04-10T13:06:52.566Z"
   },
   {
    "duration": 13,
    "start_time": "2022-04-10T13:06:53.697Z"
   },
   {
    "duration": 18,
    "start_time": "2022-04-10T13:06:53.711Z"
   },
   {
    "duration": 10,
    "start_time": "2022-04-10T13:06:53.731Z"
   },
   {
    "duration": 18,
    "start_time": "2022-04-10T13:06:53.743Z"
   },
   {
    "duration": 8,
    "start_time": "2022-04-10T13:06:53.762Z"
   },
   {
    "duration": 9,
    "start_time": "2022-04-10T13:06:53.771Z"
   },
   {
    "duration": 6,
    "start_time": "2022-04-10T13:06:53.782Z"
   },
   {
    "duration": 4,
    "start_time": "2022-04-10T13:06:53.790Z"
   },
   {
    "duration": 4,
    "start_time": "2022-04-10T13:06:53.797Z"
   },
   {
    "duration": 5,
    "start_time": "2022-04-10T13:06:53.802Z"
   },
   {
    "duration": 62,
    "start_time": "2022-04-10T13:06:53.809Z"
   },
   {
    "duration": 43,
    "start_time": "2022-04-10T13:06:53.873Z"
   },
   {
    "duration": 7,
    "start_time": "2022-04-10T13:06:53.918Z"
   },
   {
    "duration": 13,
    "start_time": "2022-04-10T13:06:53.926Z"
   },
   {
    "duration": 27,
    "start_time": "2022-04-10T13:06:53.940Z"
   },
   {
    "duration": 16,
    "start_time": "2022-04-10T13:06:53.969Z"
   },
   {
    "duration": 416,
    "start_time": "2022-04-10T13:06:53.986Z"
   },
   {
    "duration": 167,
    "start_time": "2022-04-10T13:06:54.403Z"
   },
   {
    "duration": 5,
    "start_time": "2022-04-10T13:06:54.572Z"
   },
   {
    "duration": 7,
    "start_time": "2022-04-10T13:06:54.578Z"
   },
   {
    "duration": 5,
    "start_time": "2022-04-10T13:06:54.587Z"
   },
   {
    "duration": 6,
    "start_time": "2022-04-10T13:06:54.593Z"
   },
   {
    "duration": 6,
    "start_time": "2022-04-10T13:06:54.601Z"
   },
   {
    "duration": 11,
    "start_time": "2022-04-10T13:06:54.609Z"
   },
   {
    "duration": 40,
    "start_time": "2022-04-10T13:06:54.622Z"
   },
   {
    "duration": 4,
    "start_time": "2022-04-10T13:06:54.664Z"
   },
   {
    "duration": 7,
    "start_time": "2022-04-10T13:06:54.671Z"
   },
   {
    "duration": 5,
    "start_time": "2022-04-10T13:06:54.680Z"
   },
   {
    "duration": 10,
    "start_time": "2022-04-10T13:06:54.686Z"
   },
   {
    "duration": 63,
    "start_time": "2022-04-10T13:06:54.698Z"
   },
   {
    "duration": 96,
    "start_time": "2022-04-10T13:06:54.763Z"
   },
   {
    "duration": 9,
    "start_time": "2022-04-10T13:06:54.861Z"
   },
   {
    "duration": 4,
    "start_time": "2022-04-10T13:06:54.872Z"
   },
   {
    "duration": 6,
    "start_time": "2022-04-10T13:06:54.878Z"
   },
   {
    "duration": 5,
    "start_time": "2022-04-10T13:06:54.885Z"
   },
   {
    "duration": 242,
    "start_time": "2022-04-10T13:06:54.891Z"
   },
   {
    "duration": 0,
    "start_time": "2022-04-10T13:06:55.135Z"
   },
   {
    "duration": 1154,
    "start_time": "2022-04-10T13:07:10.529Z"
   },
   {
    "duration": 12,
    "start_time": "2022-04-10T13:07:11.685Z"
   },
   {
    "duration": 18,
    "start_time": "2022-04-10T13:07:11.699Z"
   },
   {
    "duration": 10,
    "start_time": "2022-04-10T13:07:11.719Z"
   },
   {
    "duration": 6,
    "start_time": "2022-04-10T13:07:11.730Z"
   },
   {
    "duration": 22,
    "start_time": "2022-04-10T13:07:11.737Z"
   },
   {
    "duration": 6,
    "start_time": "2022-04-10T13:07:11.761Z"
   },
   {
    "duration": 14,
    "start_time": "2022-04-10T13:07:11.769Z"
   },
   {
    "duration": 19,
    "start_time": "2022-04-10T13:07:11.784Z"
   },
   {
    "duration": 8,
    "start_time": "2022-04-10T13:07:11.806Z"
   },
   {
    "duration": 8,
    "start_time": "2022-04-10T13:07:11.815Z"
   },
   {
    "duration": 52,
    "start_time": "2022-04-10T13:07:11.824Z"
   },
   {
    "duration": 40,
    "start_time": "2022-04-10T13:07:11.878Z"
   },
   {
    "duration": 6,
    "start_time": "2022-04-10T13:07:11.920Z"
   },
   {
    "duration": 12,
    "start_time": "2022-04-10T13:07:11.928Z"
   },
   {
    "duration": 10,
    "start_time": "2022-04-10T13:07:11.958Z"
   },
   {
    "duration": 5,
    "start_time": "2022-04-10T13:07:11.970Z"
   },
   {
    "duration": 421,
    "start_time": "2022-04-10T13:07:11.976Z"
   },
   {
    "duration": 165,
    "start_time": "2022-04-10T13:07:12.399Z"
   },
   {
    "duration": 6,
    "start_time": "2022-04-10T13:07:12.565Z"
   },
   {
    "duration": 7,
    "start_time": "2022-04-10T13:07:12.572Z"
   },
   {
    "duration": 4,
    "start_time": "2022-04-10T13:07:12.580Z"
   },
   {
    "duration": 6,
    "start_time": "2022-04-10T13:07:12.585Z"
   },
   {
    "duration": 7,
    "start_time": "2022-04-10T13:07:12.592Z"
   },
   {
    "duration": 12,
    "start_time": "2022-04-10T13:07:12.600Z"
   },
   {
    "duration": 12,
    "start_time": "2022-04-10T13:07:12.614Z"
   },
   {
    "duration": 33,
    "start_time": "2022-04-10T13:07:12.628Z"
   },
   {
    "duration": 12,
    "start_time": "2022-04-10T13:07:12.664Z"
   },
   {
    "duration": 7,
    "start_time": "2022-04-10T13:07:12.677Z"
   },
   {
    "duration": 10,
    "start_time": "2022-04-10T13:07:12.685Z"
   },
   {
    "duration": 62,
    "start_time": "2022-04-10T13:07:12.697Z"
   },
   {
    "duration": 16,
    "start_time": "2022-04-10T13:07:12.761Z"
   },
   {
    "duration": 8,
    "start_time": "2022-04-10T13:07:12.859Z"
   },
   {
    "duration": 4,
    "start_time": "2022-04-10T13:07:12.868Z"
   },
   {
    "duration": 8,
    "start_time": "2022-04-10T13:07:12.874Z"
   },
   {
    "duration": 6,
    "start_time": "2022-04-10T13:07:12.883Z"
   },
   {
    "duration": 10,
    "start_time": "2022-04-10T13:07:12.890Z"
   },
   {
    "duration": 58,
    "start_time": "2022-04-10T13:07:12.902Z"
   },
   {
    "duration": 1125,
    "start_time": "2022-04-10T13:21:05.043Z"
   },
   {
    "duration": 21,
    "start_time": "2022-04-10T13:21:06.171Z"
   },
   {
    "duration": 17,
    "start_time": "2022-04-10T13:21:06.194Z"
   },
   {
    "duration": 10,
    "start_time": "2022-04-10T13:21:06.213Z"
   },
   {
    "duration": 9,
    "start_time": "2022-04-10T13:21:06.224Z"
   },
   {
    "duration": 25,
    "start_time": "2022-04-10T13:21:06.235Z"
   },
   {
    "duration": 10,
    "start_time": "2022-04-10T13:21:06.262Z"
   },
   {
    "duration": 5,
    "start_time": "2022-04-10T13:21:06.274Z"
   },
   {
    "duration": 5,
    "start_time": "2022-04-10T13:21:06.281Z"
   },
   {
    "duration": 11,
    "start_time": "2022-04-10T13:21:06.288Z"
   },
   {
    "duration": 4,
    "start_time": "2022-04-10T13:21:06.300Z"
   },
   {
    "duration": 58,
    "start_time": "2022-04-10T13:21:06.305Z"
   },
   {
    "duration": 43,
    "start_time": "2022-04-10T13:21:06.365Z"
   },
   {
    "duration": 6,
    "start_time": "2022-04-10T13:21:06.409Z"
   },
   {
    "duration": 15,
    "start_time": "2022-04-10T13:21:06.416Z"
   },
   {
    "duration": 24,
    "start_time": "2022-04-10T13:21:06.433Z"
   },
   {
    "duration": 12,
    "start_time": "2022-04-10T13:21:06.459Z"
   },
   {
    "duration": 432,
    "start_time": "2022-04-10T13:21:06.473Z"
   },
   {
    "duration": 182,
    "start_time": "2022-04-10T13:21:06.907Z"
   },
   {
    "duration": 6,
    "start_time": "2022-04-10T13:21:07.091Z"
   },
   {
    "duration": 6,
    "start_time": "2022-04-10T13:21:07.098Z"
   },
   {
    "duration": 5,
    "start_time": "2022-04-10T13:21:07.106Z"
   },
   {
    "duration": 6,
    "start_time": "2022-04-10T13:21:07.112Z"
   },
   {
    "duration": 5,
    "start_time": "2022-04-10T13:21:07.120Z"
   },
   {
    "duration": 32,
    "start_time": "2022-04-10T13:21:07.127Z"
   },
   {
    "duration": 19,
    "start_time": "2022-04-10T13:21:07.161Z"
   },
   {
    "duration": 8,
    "start_time": "2022-04-10T13:21:07.182Z"
   },
   {
    "duration": 5,
    "start_time": "2022-04-10T13:21:07.193Z"
   },
   {
    "duration": 4,
    "start_time": "2022-04-10T13:21:07.199Z"
   },
   {
    "duration": 10,
    "start_time": "2022-04-10T13:21:07.204Z"
   },
   {
    "duration": 8,
    "start_time": "2022-04-10T13:21:07.265Z"
   },
   {
    "duration": 94,
    "start_time": "2022-04-10T13:21:07.275Z"
   },
   {
    "duration": 11,
    "start_time": "2022-04-10T13:21:07.372Z"
   },
   {
    "duration": 8,
    "start_time": "2022-04-10T13:21:07.385Z"
   },
   {
    "duration": 10,
    "start_time": "2022-04-10T13:21:07.395Z"
   },
   {
    "duration": 14,
    "start_time": "2022-04-10T13:21:07.407Z"
   },
   {
    "duration": 9,
    "start_time": "2022-04-10T13:21:07.423Z"
   },
   {
    "duration": 36,
    "start_time": "2022-04-10T13:21:07.433Z"
   },
   {
    "duration": 1152,
    "start_time": "2022-04-10T13:21:14.221Z"
   },
   {
    "duration": 13,
    "start_time": "2022-04-10T13:21:15.376Z"
   },
   {
    "duration": 18,
    "start_time": "2022-04-10T13:21:15.390Z"
   },
   {
    "duration": 11,
    "start_time": "2022-04-10T13:21:15.409Z"
   },
   {
    "duration": 5,
    "start_time": "2022-04-10T13:21:15.421Z"
   },
   {
    "duration": 7,
    "start_time": "2022-04-10T13:21:15.428Z"
   },
   {
    "duration": 32,
    "start_time": "2022-04-10T13:21:15.436Z"
   },
   {
    "duration": 8,
    "start_time": "2022-04-10T13:21:15.470Z"
   },
   {
    "duration": 13,
    "start_time": "2022-04-10T13:21:15.479Z"
   },
   {
    "duration": 9,
    "start_time": "2022-04-10T13:21:15.495Z"
   },
   {
    "duration": 4,
    "start_time": "2022-04-10T13:21:15.506Z"
   },
   {
    "duration": 43,
    "start_time": "2022-04-10T13:21:15.512Z"
   },
   {
    "duration": 46,
    "start_time": "2022-04-10T13:21:15.557Z"
   },
   {
    "duration": 4,
    "start_time": "2022-04-10T13:21:15.604Z"
   },
   {
    "duration": 14,
    "start_time": "2022-04-10T13:21:15.609Z"
   },
   {
    "duration": 10,
    "start_time": "2022-04-10T13:21:15.625Z"
   },
   {
    "duration": 28,
    "start_time": "2022-04-10T13:21:15.636Z"
   },
   {
    "duration": 441,
    "start_time": "2022-04-10T13:21:15.669Z"
   },
   {
    "duration": 178,
    "start_time": "2022-04-10T13:21:16.112Z"
   },
   {
    "duration": 5,
    "start_time": "2022-04-10T13:21:16.291Z"
   },
   {
    "duration": 6,
    "start_time": "2022-04-10T13:21:16.298Z"
   },
   {
    "duration": 5,
    "start_time": "2022-04-10T13:21:16.306Z"
   },
   {
    "duration": 7,
    "start_time": "2022-04-10T13:21:16.313Z"
   },
   {
    "duration": 7,
    "start_time": "2022-04-10T13:21:16.321Z"
   },
   {
    "duration": 30,
    "start_time": "2022-04-10T13:21:16.329Z"
   },
   {
    "duration": 23,
    "start_time": "2022-04-10T13:21:16.361Z"
   },
   {
    "duration": 6,
    "start_time": "2022-04-10T13:21:16.386Z"
   },
   {
    "duration": 4,
    "start_time": "2022-04-10T13:21:16.395Z"
   },
   {
    "duration": 4,
    "start_time": "2022-04-10T13:21:16.401Z"
   },
   {
    "duration": 10,
    "start_time": "2022-04-10T13:21:16.407Z"
   },
   {
    "duration": 56,
    "start_time": "2022-04-10T13:21:16.418Z"
   },
   {
    "duration": 85,
    "start_time": "2022-04-10T13:21:16.476Z"
   },
   {
    "duration": 9,
    "start_time": "2022-04-10T13:21:16.566Z"
   },
   {
    "duration": 4,
    "start_time": "2022-04-10T13:21:16.577Z"
   },
   {
    "duration": 5,
    "start_time": "2022-04-10T13:21:16.583Z"
   },
   {
    "duration": 6,
    "start_time": "2022-04-10T13:21:16.590Z"
   },
   {
    "duration": 20,
    "start_time": "2022-04-10T13:21:16.598Z"
   },
   {
    "duration": 42,
    "start_time": "2022-04-10T13:21:16.620Z"
   },
   {
    "duration": 1163,
    "start_time": "2022-04-10T13:22:05.283Z"
   },
   {
    "duration": 30,
    "start_time": "2022-04-10T13:22:06.448Z"
   },
   {
    "duration": 18,
    "start_time": "2022-04-10T13:22:06.480Z"
   },
   {
    "duration": 10,
    "start_time": "2022-04-10T13:22:06.500Z"
   },
   {
    "duration": 5,
    "start_time": "2022-04-10T13:22:06.512Z"
   },
   {
    "duration": 6,
    "start_time": "2022-04-10T13:22:06.519Z"
   },
   {
    "duration": 13,
    "start_time": "2022-04-10T13:22:06.526Z"
   },
   {
    "duration": 10,
    "start_time": "2022-04-10T13:22:06.540Z"
   },
   {
    "duration": 10,
    "start_time": "2022-04-10T13:22:06.552Z"
   },
   {
    "duration": 13,
    "start_time": "2022-04-10T13:22:06.565Z"
   },
   {
    "duration": 11,
    "start_time": "2022-04-10T13:22:06.579Z"
   },
   {
    "duration": 45,
    "start_time": "2022-04-10T13:22:06.592Z"
   },
   {
    "duration": 61,
    "start_time": "2022-04-10T13:22:06.638Z"
   },
   {
    "duration": 4,
    "start_time": "2022-04-10T13:22:06.701Z"
   },
   {
    "duration": 14,
    "start_time": "2022-04-10T13:22:06.706Z"
   },
   {
    "duration": 12,
    "start_time": "2022-04-10T13:22:06.721Z"
   },
   {
    "duration": 6,
    "start_time": "2022-04-10T13:22:06.734Z"
   },
   {
    "duration": 445,
    "start_time": "2022-04-10T13:22:06.741Z"
   },
   {
    "duration": 172,
    "start_time": "2022-04-10T13:22:07.187Z"
   },
   {
    "duration": 11,
    "start_time": "2022-04-10T13:22:07.361Z"
   },
   {
    "duration": 6,
    "start_time": "2022-04-10T13:22:07.375Z"
   },
   {
    "duration": 5,
    "start_time": "2022-04-10T13:22:07.383Z"
   },
   {
    "duration": 5,
    "start_time": "2022-04-10T13:22:07.390Z"
   },
   {
    "duration": 6,
    "start_time": "2022-04-10T13:22:07.397Z"
   },
   {
    "duration": 11,
    "start_time": "2022-04-10T13:22:07.405Z"
   },
   {
    "duration": 40,
    "start_time": "2022-04-10T13:22:07.418Z"
   },
   {
    "duration": 14,
    "start_time": "2022-04-10T13:22:07.461Z"
   },
   {
    "duration": 5,
    "start_time": "2022-04-10T13:22:07.478Z"
   },
   {
    "duration": 6,
    "start_time": "2022-04-10T13:22:07.484Z"
   },
   {
    "duration": 12,
    "start_time": "2022-04-10T13:22:07.491Z"
   },
   {
    "duration": 69,
    "start_time": "2022-04-10T13:22:07.505Z"
   },
   {
    "duration": 5,
    "start_time": "2022-04-10T13:22:07.577Z"
   },
   {
    "duration": 13,
    "start_time": "2022-04-10T13:22:07.663Z"
   },
   {
    "duration": 6,
    "start_time": "2022-04-10T13:22:07.678Z"
   },
   {
    "duration": 5,
    "start_time": "2022-04-10T13:22:07.685Z"
   },
   {
    "duration": 6,
    "start_time": "2022-04-10T13:22:07.691Z"
   },
   {
    "duration": 9,
    "start_time": "2022-04-10T13:22:07.699Z"
   },
   {
    "duration": 61,
    "start_time": "2022-04-10T13:22:07.710Z"
   },
   {
    "duration": 15,
    "start_time": "2022-04-10T13:25:02.158Z"
   },
   {
    "duration": 1232,
    "start_time": "2022-04-10T13:32:33.144Z"
   },
   {
    "duration": 17,
    "start_time": "2022-04-10T13:32:34.378Z"
   },
   {
    "duration": 18,
    "start_time": "2022-04-10T13:32:34.396Z"
   },
   {
    "duration": 10,
    "start_time": "2022-04-10T13:32:34.417Z"
   },
   {
    "duration": 8,
    "start_time": "2022-04-10T13:32:34.429Z"
   },
   {
    "duration": 21,
    "start_time": "2022-04-10T13:32:34.438Z"
   },
   {
    "duration": 6,
    "start_time": "2022-04-10T13:32:34.461Z"
   },
   {
    "duration": 6,
    "start_time": "2022-04-10T13:32:34.474Z"
   },
   {
    "duration": 5,
    "start_time": "2022-04-10T13:32:34.482Z"
   },
   {
    "duration": 8,
    "start_time": "2022-04-10T13:32:34.489Z"
   },
   {
    "duration": 8,
    "start_time": "2022-04-10T13:32:34.498Z"
   },
   {
    "duration": 64,
    "start_time": "2022-04-10T13:32:34.507Z"
   },
   {
    "duration": 42,
    "start_time": "2022-04-10T13:32:34.573Z"
   },
   {
    "duration": 4,
    "start_time": "2022-04-10T13:32:34.616Z"
   },
   {
    "duration": 14,
    "start_time": "2022-04-10T13:32:34.621Z"
   },
   {
    "duration": 29,
    "start_time": "2022-04-10T13:32:34.636Z"
   },
   {
    "duration": 11,
    "start_time": "2022-04-10T13:32:34.667Z"
   },
   {
    "duration": 507,
    "start_time": "2022-04-10T13:32:34.679Z"
   },
   {
    "duration": 192,
    "start_time": "2022-04-10T13:32:35.188Z"
   },
   {
    "duration": 6,
    "start_time": "2022-04-10T13:32:35.381Z"
   },
   {
    "duration": 15,
    "start_time": "2022-04-10T13:32:35.388Z"
   },
   {
    "duration": 5,
    "start_time": "2022-04-10T13:32:35.404Z"
   },
   {
    "duration": 8,
    "start_time": "2022-04-10T13:32:35.410Z"
   },
   {
    "duration": 7,
    "start_time": "2022-04-10T13:32:35.419Z"
   },
   {
    "duration": 14,
    "start_time": "2022-04-10T13:32:35.428Z"
   },
   {
    "duration": 14,
    "start_time": "2022-04-10T13:32:35.444Z"
   },
   {
    "duration": 12,
    "start_time": "2022-04-10T13:32:35.460Z"
   },
   {
    "duration": 5,
    "start_time": "2022-04-10T13:32:35.477Z"
   },
   {
    "duration": 4,
    "start_time": "2022-04-10T13:32:35.484Z"
   },
   {
    "duration": 20,
    "start_time": "2022-04-10T13:32:35.489Z"
   },
   {
    "duration": 54,
    "start_time": "2022-04-10T13:32:35.512Z"
   },
   {
    "duration": 14,
    "start_time": "2022-04-10T13:32:35.570Z"
   },
   {
    "duration": 10,
    "start_time": "2022-04-10T13:32:35.658Z"
   },
   {
    "duration": 7,
    "start_time": "2022-04-10T13:32:35.674Z"
   },
   {
    "duration": 6,
    "start_time": "2022-04-10T13:32:35.683Z"
   },
   {
    "duration": 12,
    "start_time": "2022-04-10T13:32:35.691Z"
   },
   {
    "duration": 13,
    "start_time": "2022-04-10T13:32:35.704Z"
   },
   {
    "duration": 47,
    "start_time": "2022-04-10T13:32:35.719Z"
   },
   {
    "duration": 97,
    "start_time": "2022-04-10T13:32:35.769Z"
   },
   {
    "duration": 1137,
    "start_time": "2022-04-10T13:34:55.252Z"
   },
   {
    "duration": 12,
    "start_time": "2022-04-10T13:34:56.391Z"
   },
   {
    "duration": 17,
    "start_time": "2022-04-10T13:34:56.407Z"
   },
   {
    "duration": 10,
    "start_time": "2022-04-10T13:34:56.426Z"
   },
   {
    "duration": 22,
    "start_time": "2022-04-10T13:34:56.437Z"
   },
   {
    "duration": 10,
    "start_time": "2022-04-10T13:34:56.471Z"
   },
   {
    "duration": 14,
    "start_time": "2022-04-10T13:34:56.483Z"
   },
   {
    "duration": 4,
    "start_time": "2022-04-10T13:34:56.498Z"
   },
   {
    "duration": 4,
    "start_time": "2022-04-10T13:34:56.504Z"
   },
   {
    "duration": 8,
    "start_time": "2022-04-10T13:34:56.510Z"
   },
   {
    "duration": 5,
    "start_time": "2022-04-10T13:34:56.519Z"
   },
   {
    "duration": 50,
    "start_time": "2022-04-10T13:34:56.525Z"
   },
   {
    "duration": 41,
    "start_time": "2022-04-10T13:34:56.577Z"
   },
   {
    "duration": 3,
    "start_time": "2022-04-10T13:34:56.620Z"
   },
   {
    "duration": 13,
    "start_time": "2022-04-10T13:34:56.625Z"
   },
   {
    "duration": 33,
    "start_time": "2022-04-10T13:34:56.639Z"
   },
   {
    "duration": 6,
    "start_time": "2022-04-10T13:34:56.675Z"
   },
   {
    "duration": 430,
    "start_time": "2022-04-10T13:34:56.683Z"
   },
   {
    "duration": 173,
    "start_time": "2022-04-10T13:34:57.115Z"
   },
   {
    "duration": 6,
    "start_time": "2022-04-10T13:34:57.290Z"
   },
   {
    "duration": 6,
    "start_time": "2022-04-10T13:34:57.298Z"
   },
   {
    "duration": 5,
    "start_time": "2022-04-10T13:34:57.306Z"
   },
   {
    "duration": 13,
    "start_time": "2022-04-10T13:34:57.312Z"
   },
   {
    "duration": 14,
    "start_time": "2022-04-10T13:34:57.326Z"
   },
   {
    "duration": 30,
    "start_time": "2022-04-10T13:34:57.341Z"
   },
   {
    "duration": 11,
    "start_time": "2022-04-10T13:34:57.373Z"
   },
   {
    "duration": 5,
    "start_time": "2022-04-10T13:34:57.387Z"
   },
   {
    "duration": 8,
    "start_time": "2022-04-10T13:34:57.393Z"
   },
   {
    "duration": 10,
    "start_time": "2022-04-10T13:34:57.402Z"
   },
   {
    "duration": 14,
    "start_time": "2022-04-10T13:34:57.413Z"
   },
   {
    "duration": 6,
    "start_time": "2022-04-10T13:34:57.459Z"
   },
   {
    "duration": 107,
    "start_time": "2022-04-10T13:34:57.466Z"
   },
   {
    "duration": 9,
    "start_time": "2022-04-10T13:34:57.575Z"
   },
   {
    "duration": 4,
    "start_time": "2022-04-10T13:34:57.586Z"
   },
   {
    "duration": 6,
    "start_time": "2022-04-10T13:34:57.591Z"
   },
   {
    "duration": 10,
    "start_time": "2022-04-10T13:34:57.599Z"
   },
   {
    "duration": 43,
    "start_time": "2022-04-10T13:34:57.611Z"
   },
   {
    "duration": 102,
    "start_time": "2022-04-10T13:34:57.656Z"
   },
   {
    "duration": 107,
    "start_time": "2022-04-10T13:34:57.763Z"
   }
  ],
  "kernelspec": {
   "display_name": "Python 3 (ipykernel)",
   "language": "python",
   "name": "python3"
  },
  "language_info": {
   "codemirror_mode": {
    "name": "ipython",
    "version": 3
   },
   "file_extension": ".py",
   "mimetype": "text/x-python",
   "name": "python",
   "nbconvert_exporter": "python",
   "pygments_lexer": "ipython3",
   "version": "3.9.5"
  },
  "toc": {
   "base_numbering": 1,
   "nav_menu": {},
   "number_sections": true,
   "sideBar": true,
   "skip_h1_title": true,
   "title_cell": "Содержание",
   "title_sidebar": "Contents",
   "toc_cell": true,
   "toc_position": {
    "height": "calc(100% - 180px)",
    "left": "10px",
    "top": "150px",
    "width": "232.391px"
   },
   "toc_section_display": true,
   "toc_window_display": true
  }
 },
 "nbformat": 4,
 "nbformat_minor": 2
}
