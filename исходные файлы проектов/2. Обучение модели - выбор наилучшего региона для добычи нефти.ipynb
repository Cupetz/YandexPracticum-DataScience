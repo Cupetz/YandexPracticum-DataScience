{
 "cells": [
  {
   "cell_type": "markdown",
   "metadata": {},
   "source": [
    "# Выбор локации для скважины"
   ]
  },
  {
   "cell_type": "markdown",
   "metadata": {},
   "source": [
    "Допустим, вы работаете в добывающей компании «ГлавРосГосНефть». Нужно решить, где бурить новую скважину.\n",
    "\n",
    "Вам предоставлены пробы нефти в трёх регионах: в каждом 10 000 месторождений, где измерили качество нефти и объём её запасов. Постройте модель машинного обучения, которая поможет определить регион, где добыча принесёт наибольшую прибыль. Проанализируйте возможную прибыль и риски техникой *Bootstrap.*\n",
    "\n",
    "Шаги для выбора локации:\n",
    "\n",
    "- В избранном регионе ищут месторождения, для каждого определяют значения признаков;\n",
    "- Строят модель и оценивают объём запасов;\n",
    "- Выбирают месторождения с самым высокими оценками значений. Количество месторождений зависит от бюджета компании и стоимости разработки одной скважины;\n",
    "- Прибыль равна суммарной прибыли отобранных месторождений."
   ]
  },
  {
   "cell_type": "code",
   "execution_count": 1,
   "metadata": {},
   "outputs": [],
   "source": [
    "# добавим все библиотеки, которые будут использоваться\n",
    "import pandas as pd\n",
    "import numpy as np\n",
    "from matplotlib import pyplot as plt\n",
    "from sklearn.linear_model import LinearRegression\n",
    "from sklearn.model_selection import train_test_split\n",
    "from sklearn.metrics import mean_squared_error"
   ]
  },
  {
   "cell_type": "markdown",
   "metadata": {},
   "source": [
    "## Загрузка и подготовка данных"
   ]
  },
  {
   "cell_type": "code",
   "execution_count": 2,
   "metadata": {},
   "outputs": [],
   "source": [
    "data_0 = pd.read_csv('/datasets/geo_data_0.csv')\n",
    "data_1 = pd.read_csv('/datasets/geo_data_1.csv')\n",
    "data_2 = pd.read_csv('/datasets/geo_data_2.csv')"
   ]
  },
  {
   "cell_type": "code",
   "execution_count": 3,
   "metadata": {},
   "outputs": [
    {
     "data": {
      "text/html": [
       "<div>\n",
       "<style scoped>\n",
       "    .dataframe tbody tr th:only-of-type {\n",
       "        vertical-align: middle;\n",
       "    }\n",
       "\n",
       "    .dataframe tbody tr th {\n",
       "        vertical-align: top;\n",
       "    }\n",
       "\n",
       "    .dataframe thead th {\n",
       "        text-align: right;\n",
       "    }\n",
       "</style>\n",
       "<table border=\"1\" class=\"dataframe\">\n",
       "  <thead>\n",
       "    <tr style=\"text-align: right;\">\n",
       "      <th></th>\n",
       "      <th>id</th>\n",
       "      <th>f0</th>\n",
       "      <th>f1</th>\n",
       "      <th>f2</th>\n",
       "      <th>product</th>\n",
       "    </tr>\n",
       "  </thead>\n",
       "  <tbody>\n",
       "    <tr>\n",
       "      <td>0</td>\n",
       "      <td>txEyH</td>\n",
       "      <td>0.705745</td>\n",
       "      <td>-0.497823</td>\n",
       "      <td>1.221170</td>\n",
       "      <td>105.280062</td>\n",
       "    </tr>\n",
       "    <tr>\n",
       "      <td>1</td>\n",
       "      <td>2acmU</td>\n",
       "      <td>1.334711</td>\n",
       "      <td>-0.340164</td>\n",
       "      <td>4.365080</td>\n",
       "      <td>73.037750</td>\n",
       "    </tr>\n",
       "    <tr>\n",
       "      <td>2</td>\n",
       "      <td>409Wp</td>\n",
       "      <td>1.022732</td>\n",
       "      <td>0.151990</td>\n",
       "      <td>1.419926</td>\n",
       "      <td>85.265647</td>\n",
       "    </tr>\n",
       "    <tr>\n",
       "      <td>3</td>\n",
       "      <td>iJLyR</td>\n",
       "      <td>-0.032172</td>\n",
       "      <td>0.139033</td>\n",
       "      <td>2.978566</td>\n",
       "      <td>168.620776</td>\n",
       "    </tr>\n",
       "    <tr>\n",
       "      <td>4</td>\n",
       "      <td>Xdl7t</td>\n",
       "      <td>1.988431</td>\n",
       "      <td>0.155413</td>\n",
       "      <td>4.751769</td>\n",
       "      <td>154.036647</td>\n",
       "    </tr>\n",
       "    <tr>\n",
       "      <td>...</td>\n",
       "      <td>...</td>\n",
       "      <td>...</td>\n",
       "      <td>...</td>\n",
       "      <td>...</td>\n",
       "      <td>...</td>\n",
       "    </tr>\n",
       "    <tr>\n",
       "      <td>99995</td>\n",
       "      <td>DLsed</td>\n",
       "      <td>0.971957</td>\n",
       "      <td>0.370953</td>\n",
       "      <td>6.075346</td>\n",
       "      <td>110.744026</td>\n",
       "    </tr>\n",
       "    <tr>\n",
       "      <td>99996</td>\n",
       "      <td>QKivN</td>\n",
       "      <td>1.392429</td>\n",
       "      <td>-0.382606</td>\n",
       "      <td>1.273912</td>\n",
       "      <td>122.346843</td>\n",
       "    </tr>\n",
       "    <tr>\n",
       "      <td>99997</td>\n",
       "      <td>3rnvd</td>\n",
       "      <td>1.029585</td>\n",
       "      <td>0.018787</td>\n",
       "      <td>-1.348308</td>\n",
       "      <td>64.375443</td>\n",
       "    </tr>\n",
       "    <tr>\n",
       "      <td>99998</td>\n",
       "      <td>7kl59</td>\n",
       "      <td>0.998163</td>\n",
       "      <td>-0.528582</td>\n",
       "      <td>1.583869</td>\n",
       "      <td>74.040764</td>\n",
       "    </tr>\n",
       "    <tr>\n",
       "      <td>99999</td>\n",
       "      <td>1CWhH</td>\n",
       "      <td>1.764754</td>\n",
       "      <td>-0.266417</td>\n",
       "      <td>5.722849</td>\n",
       "      <td>149.633246</td>\n",
       "    </tr>\n",
       "  </tbody>\n",
       "</table>\n",
       "<p>100000 rows × 5 columns</p>\n",
       "</div>"
      ],
      "text/plain": [
       "          id        f0        f1        f2     product\n",
       "0      txEyH  0.705745 -0.497823  1.221170  105.280062\n",
       "1      2acmU  1.334711 -0.340164  4.365080   73.037750\n",
       "2      409Wp  1.022732  0.151990  1.419926   85.265647\n",
       "3      iJLyR -0.032172  0.139033  2.978566  168.620776\n",
       "4      Xdl7t  1.988431  0.155413  4.751769  154.036647\n",
       "...      ...       ...       ...       ...         ...\n",
       "99995  DLsed  0.971957  0.370953  6.075346  110.744026\n",
       "99996  QKivN  1.392429 -0.382606  1.273912  122.346843\n",
       "99997  3rnvd  1.029585  0.018787 -1.348308   64.375443\n",
       "99998  7kl59  0.998163 -0.528582  1.583869   74.040764\n",
       "99999  1CWhH  1.764754 -0.266417  5.722849  149.633246\n",
       "\n",
       "[100000 rows x 5 columns]"
      ]
     },
     "metadata": {},
     "output_type": "display_data"
    }
   ],
   "source": [
    "display(data_0)"
   ]
  },
  {
   "cell_type": "code",
   "execution_count": 4,
   "metadata": {},
   "outputs": [
    {
     "data": {
      "text/html": [
       "<div>\n",
       "<style scoped>\n",
       "    .dataframe tbody tr th:only-of-type {\n",
       "        vertical-align: middle;\n",
       "    }\n",
       "\n",
       "    .dataframe tbody tr th {\n",
       "        vertical-align: top;\n",
       "    }\n",
       "\n",
       "    .dataframe thead th {\n",
       "        text-align: right;\n",
       "    }\n",
       "</style>\n",
       "<table border=\"1\" class=\"dataframe\">\n",
       "  <thead>\n",
       "    <tr style=\"text-align: right;\">\n",
       "      <th></th>\n",
       "      <th>id</th>\n",
       "      <th>f0</th>\n",
       "      <th>f1</th>\n",
       "      <th>f2</th>\n",
       "      <th>product</th>\n",
       "    </tr>\n",
       "  </thead>\n",
       "  <tbody>\n",
       "    <tr>\n",
       "      <td>0</td>\n",
       "      <td>kBEdx</td>\n",
       "      <td>-15.001348</td>\n",
       "      <td>-8.276000</td>\n",
       "      <td>-0.005876</td>\n",
       "      <td>3.179103</td>\n",
       "    </tr>\n",
       "    <tr>\n",
       "      <td>1</td>\n",
       "      <td>62mP7</td>\n",
       "      <td>14.272088</td>\n",
       "      <td>-3.475083</td>\n",
       "      <td>0.999183</td>\n",
       "      <td>26.953261</td>\n",
       "    </tr>\n",
       "    <tr>\n",
       "      <td>2</td>\n",
       "      <td>vyE1P</td>\n",
       "      <td>6.263187</td>\n",
       "      <td>-5.948386</td>\n",
       "      <td>5.001160</td>\n",
       "      <td>134.766305</td>\n",
       "    </tr>\n",
       "    <tr>\n",
       "      <td>3</td>\n",
       "      <td>KcrkZ</td>\n",
       "      <td>-13.081196</td>\n",
       "      <td>-11.506057</td>\n",
       "      <td>4.999415</td>\n",
       "      <td>137.945408</td>\n",
       "    </tr>\n",
       "    <tr>\n",
       "      <td>4</td>\n",
       "      <td>AHL4O</td>\n",
       "      <td>12.702195</td>\n",
       "      <td>-8.147433</td>\n",
       "      <td>5.004363</td>\n",
       "      <td>134.766305</td>\n",
       "    </tr>\n",
       "    <tr>\n",
       "      <td>...</td>\n",
       "      <td>...</td>\n",
       "      <td>...</td>\n",
       "      <td>...</td>\n",
       "      <td>...</td>\n",
       "      <td>...</td>\n",
       "    </tr>\n",
       "    <tr>\n",
       "      <td>99995</td>\n",
       "      <td>QywKC</td>\n",
       "      <td>9.535637</td>\n",
       "      <td>-6.878139</td>\n",
       "      <td>1.998296</td>\n",
       "      <td>53.906522</td>\n",
       "    </tr>\n",
       "    <tr>\n",
       "      <td>99996</td>\n",
       "      <td>ptvty</td>\n",
       "      <td>-10.160631</td>\n",
       "      <td>-12.558096</td>\n",
       "      <td>5.005581</td>\n",
       "      <td>137.945408</td>\n",
       "    </tr>\n",
       "    <tr>\n",
       "      <td>99997</td>\n",
       "      <td>09gWa</td>\n",
       "      <td>-7.378891</td>\n",
       "      <td>-3.084104</td>\n",
       "      <td>4.998651</td>\n",
       "      <td>137.945408</td>\n",
       "    </tr>\n",
       "    <tr>\n",
       "      <td>99998</td>\n",
       "      <td>rqwUm</td>\n",
       "      <td>0.665714</td>\n",
       "      <td>-6.152593</td>\n",
       "      <td>1.000146</td>\n",
       "      <td>30.132364</td>\n",
       "    </tr>\n",
       "    <tr>\n",
       "      <td>99999</td>\n",
       "      <td>relB0</td>\n",
       "      <td>-3.426139</td>\n",
       "      <td>-7.794274</td>\n",
       "      <td>-0.003299</td>\n",
       "      <td>3.179103</td>\n",
       "    </tr>\n",
       "  </tbody>\n",
       "</table>\n",
       "<p>100000 rows × 5 columns</p>\n",
       "</div>"
      ],
      "text/plain": [
       "          id         f0         f1        f2     product\n",
       "0      kBEdx -15.001348  -8.276000 -0.005876    3.179103\n",
       "1      62mP7  14.272088  -3.475083  0.999183   26.953261\n",
       "2      vyE1P   6.263187  -5.948386  5.001160  134.766305\n",
       "3      KcrkZ -13.081196 -11.506057  4.999415  137.945408\n",
       "4      AHL4O  12.702195  -8.147433  5.004363  134.766305\n",
       "...      ...        ...        ...       ...         ...\n",
       "99995  QywKC   9.535637  -6.878139  1.998296   53.906522\n",
       "99996  ptvty -10.160631 -12.558096  5.005581  137.945408\n",
       "99997  09gWa  -7.378891  -3.084104  4.998651  137.945408\n",
       "99998  rqwUm   0.665714  -6.152593  1.000146   30.132364\n",
       "99999  relB0  -3.426139  -7.794274 -0.003299    3.179103\n",
       "\n",
       "[100000 rows x 5 columns]"
      ]
     },
     "metadata": {},
     "output_type": "display_data"
    }
   ],
   "source": [
    "display(data_1)"
   ]
  },
  {
   "cell_type": "code",
   "execution_count": 5,
   "metadata": {},
   "outputs": [
    {
     "data": {
      "text/html": [
       "<div>\n",
       "<style scoped>\n",
       "    .dataframe tbody tr th:only-of-type {\n",
       "        vertical-align: middle;\n",
       "    }\n",
       "\n",
       "    .dataframe tbody tr th {\n",
       "        vertical-align: top;\n",
       "    }\n",
       "\n",
       "    .dataframe thead th {\n",
       "        text-align: right;\n",
       "    }\n",
       "</style>\n",
       "<table border=\"1\" class=\"dataframe\">\n",
       "  <thead>\n",
       "    <tr style=\"text-align: right;\">\n",
       "      <th></th>\n",
       "      <th>id</th>\n",
       "      <th>f0</th>\n",
       "      <th>f1</th>\n",
       "      <th>f2</th>\n",
       "      <th>product</th>\n",
       "    </tr>\n",
       "  </thead>\n",
       "  <tbody>\n",
       "    <tr>\n",
       "      <td>0</td>\n",
       "      <td>fwXo0</td>\n",
       "      <td>-1.146987</td>\n",
       "      <td>0.963328</td>\n",
       "      <td>-0.828965</td>\n",
       "      <td>27.758673</td>\n",
       "    </tr>\n",
       "    <tr>\n",
       "      <td>1</td>\n",
       "      <td>WJtFt</td>\n",
       "      <td>0.262778</td>\n",
       "      <td>0.269839</td>\n",
       "      <td>-2.530187</td>\n",
       "      <td>56.069697</td>\n",
       "    </tr>\n",
       "    <tr>\n",
       "      <td>2</td>\n",
       "      <td>ovLUW</td>\n",
       "      <td>0.194587</td>\n",
       "      <td>0.289035</td>\n",
       "      <td>-5.586433</td>\n",
       "      <td>62.871910</td>\n",
       "    </tr>\n",
       "    <tr>\n",
       "      <td>3</td>\n",
       "      <td>q6cA6</td>\n",
       "      <td>2.236060</td>\n",
       "      <td>-0.553760</td>\n",
       "      <td>0.930038</td>\n",
       "      <td>114.572842</td>\n",
       "    </tr>\n",
       "    <tr>\n",
       "      <td>4</td>\n",
       "      <td>WPMUX</td>\n",
       "      <td>-0.515993</td>\n",
       "      <td>1.716266</td>\n",
       "      <td>5.899011</td>\n",
       "      <td>149.600746</td>\n",
       "    </tr>\n",
       "    <tr>\n",
       "      <td>...</td>\n",
       "      <td>...</td>\n",
       "      <td>...</td>\n",
       "      <td>...</td>\n",
       "      <td>...</td>\n",
       "      <td>...</td>\n",
       "    </tr>\n",
       "    <tr>\n",
       "      <td>99995</td>\n",
       "      <td>4GxBu</td>\n",
       "      <td>-1.777037</td>\n",
       "      <td>1.125220</td>\n",
       "      <td>6.263374</td>\n",
       "      <td>172.327046</td>\n",
       "    </tr>\n",
       "    <tr>\n",
       "      <td>99996</td>\n",
       "      <td>YKFjq</td>\n",
       "      <td>-1.261523</td>\n",
       "      <td>-0.894828</td>\n",
       "      <td>2.524545</td>\n",
       "      <td>138.748846</td>\n",
       "    </tr>\n",
       "    <tr>\n",
       "      <td>99997</td>\n",
       "      <td>tKPY3</td>\n",
       "      <td>-1.199934</td>\n",
       "      <td>-2.957637</td>\n",
       "      <td>5.219411</td>\n",
       "      <td>157.080080</td>\n",
       "    </tr>\n",
       "    <tr>\n",
       "      <td>99998</td>\n",
       "      <td>nmxp2</td>\n",
       "      <td>-2.419896</td>\n",
       "      <td>2.417221</td>\n",
       "      <td>-5.548444</td>\n",
       "      <td>51.795253</td>\n",
       "    </tr>\n",
       "    <tr>\n",
       "      <td>99999</td>\n",
       "      <td>V9kWn</td>\n",
       "      <td>-2.551421</td>\n",
       "      <td>-2.025625</td>\n",
       "      <td>6.090891</td>\n",
       "      <td>102.775767</td>\n",
       "    </tr>\n",
       "  </tbody>\n",
       "</table>\n",
       "<p>100000 rows × 5 columns</p>\n",
       "</div>"
      ],
      "text/plain": [
       "          id        f0        f1        f2     product\n",
       "0      fwXo0 -1.146987  0.963328 -0.828965   27.758673\n",
       "1      WJtFt  0.262778  0.269839 -2.530187   56.069697\n",
       "2      ovLUW  0.194587  0.289035 -5.586433   62.871910\n",
       "3      q6cA6  2.236060 -0.553760  0.930038  114.572842\n",
       "4      WPMUX -0.515993  1.716266  5.899011  149.600746\n",
       "...      ...       ...       ...       ...         ...\n",
       "99995  4GxBu -1.777037  1.125220  6.263374  172.327046\n",
       "99996  YKFjq -1.261523 -0.894828  2.524545  138.748846\n",
       "99997  tKPY3 -1.199934 -2.957637  5.219411  157.080080\n",
       "99998  nmxp2 -2.419896  2.417221 -5.548444   51.795253\n",
       "99999  V9kWn -2.551421 -2.025625  6.090891  102.775767\n",
       "\n",
       "[100000 rows x 5 columns]"
      ]
     },
     "metadata": {},
     "output_type": "display_data"
    }
   ],
   "source": [
    "display(data_2)"
   ]
  },
  {
   "cell_type": "markdown",
   "metadata": {},
   "source": [
    "Из условия знаем, что:\n",
    "**id** — уникальный идентификатор скважины\n",
    "\n",
    "**f0, f1, f2** — три признака точек (неважно, что они означают, но сами признаки значимы)\n",
    "\n",
    "**product** — объём запасов в скважине (тыс. баррелей)."
   ]
  },
  {
   "cell_type": "code",
   "execution_count": 6,
   "metadata": {},
   "outputs": [],
   "source": [
    "dataframes = [data_0, data_1, data_2]"
   ]
  },
  {
   "cell_type": "code",
   "execution_count": 7,
   "metadata": {},
   "outputs": [
    {
     "name": "stdout",
     "output_type": "stream",
     "text": [
      "                  f0             f1             f2        product\n",
      "count  100000.000000  100000.000000  100000.000000  100000.000000\n",
      "mean        0.500419       0.250143       2.502647      92.500000\n",
      "std         0.871832       0.504433       3.248248      44.288691\n",
      "min        -1.408605      -0.848218     -12.088328       0.000000\n",
      "25%        -0.072580      -0.200881       0.287748      56.497507\n",
      "50%         0.502360       0.250252       2.515969      91.849972\n",
      "75%         1.073581       0.700646       4.715088     128.564089\n",
      "max         2.362331       1.343769      16.003790     185.364347\n",
      "\n",
      "                  f0             f1             f2        product\n",
      "count  100000.000000  100000.000000  100000.000000  100000.000000\n",
      "mean        1.141296      -4.796579       2.494541      68.825000\n",
      "std         8.965932       5.119872       1.703572      45.944423\n",
      "min       -31.609576     -26.358598      -0.018144       0.000000\n",
      "25%        -6.298551      -8.267985       1.000021      26.953261\n",
      "50%         1.153055      -4.813172       2.011479      57.085625\n",
      "75%         8.621015      -1.332816       3.999904     107.813044\n",
      "max        29.421755      18.734063       5.019721     137.945408\n",
      "\n",
      "                  f0             f1             f2        product\n",
      "count  100000.000000  100000.000000  100000.000000  100000.000000\n",
      "mean        0.002023      -0.002081       2.495128      95.000000\n",
      "std         1.732045       1.730417       3.473445      44.749921\n",
      "min        -8.760004      -7.084020     -11.970335       0.000000\n",
      "25%        -1.162288      -1.174820       0.130359      59.450441\n",
      "50%         0.009424      -0.009482       2.484236      94.925613\n",
      "75%         1.158535       1.163678       4.858794     130.595027\n",
      "max         7.238262       7.844801      16.739402     190.029838\n",
      "\n"
     ]
    }
   ],
   "source": [
    "for data in dataframes:\n",
    "    print(data.describe())\n",
    "    print()"
   ]
  },
  {
   "cell_type": "markdown",
   "metadata": {},
   "source": [
    "Видно, что признаки f0, f1, f2 не имеют действительно больших отличий друг от друга, чтобы имело место применение масштабирования. Фактически во всех датафреймах они разбросаны +- в одном-двух десятках вокруг нуля и не имеют разницы в несколько порядков"
   ]
  },
  {
   "cell_type": "code",
   "execution_count": 8,
   "metadata": {},
   "outputs": [
    {
     "name": "stdout",
     "output_type": "stream",
     "text": [
      "id         0\n",
      "f0         0\n",
      "f1         0\n",
      "f2         0\n",
      "product    0\n",
      "dtype: int64\n",
      "\n",
      "id         0\n",
      "f0         0\n",
      "f1         0\n",
      "f2         0\n",
      "product    0\n",
      "dtype: int64\n",
      "\n",
      "id         0\n",
      "f0         0\n",
      "f1         0\n",
      "f2         0\n",
      "product    0\n",
      "dtype: int64\n",
      "\n"
     ]
    }
   ],
   "source": [
    "for data in dataframes:\n",
    "    print(data.isna().sum())\n",
    "    print()"
   ]
  },
  {
   "cell_type": "code",
   "execution_count": 9,
   "metadata": {},
   "outputs": [
    {
     "name": "stdout",
     "output_type": "stream",
     "text": [
      "0\n",
      "\n",
      "0\n",
      "\n",
      "0\n",
      "\n"
     ]
    }
   ],
   "source": [
    "for data in dataframes:\n",
    "    print(data.duplicated().sum())\n",
    "    print()"
   ]
  },
  {
   "cell_type": "markdown",
   "metadata": {},
   "source": [
    "В данных нет пропусков и дубликатов, следовательно с ними можно работать дальше"
   ]
  },
  {
   "cell_type": "markdown",
   "metadata": {},
   "source": [
    "В рамках исследований нам не понадобятся знания об id скважин, поэтому для разгрузки памяти предлагаю их удалить"
   ]
  },
  {
   "cell_type": "code",
   "execution_count": 10,
   "metadata": {},
   "outputs": [],
   "source": [
    "for data in dataframes:\n",
    "    del data['id']"
   ]
  },
  {
   "cell_type": "markdown",
   "metadata": {},
   "source": [
    "Посмотрим по графикам для приблизительной оценки выбора наиболее перспективного региона как распределены признаки и целевой признак в исследуемых датафреймах"
   ]
  },
  {
   "cell_type": "code",
   "execution_count": 11,
   "metadata": {},
   "outputs": [],
   "source": [
    "columns = data_1.columns"
   ]
  },
  {
   "cell_type": "code",
   "execution_count": 12,
   "metadata": {},
   "outputs": [
    {
     "data": {
      "image/png": "[encoded data removed]",
      "text/plain": [
       "<Figure size 720x504 with 1 Axes>"
      ]
     },
     "metadata": {
      "needs_background": "light"
     },
     "output_type": "display_data"
    },
    {
     "data": {
      "image/png": "[encoded data removed]",
      "text/plain": [
       "<Figure size 720x504 with 1 Axes>"
      ]
     },
     "metadata": {
      "needs_background": "light"
     },
     "output_type": "display_data"
    },
    {
     "data": {
      "image/png": "[encoded data removed]",
      "text/plain": [
       "<Figure size 720x504 with 1 Axes>"
      ]
     },
     "metadata": {
      "needs_background": "light"
     },
     "output_type": "display_data"
    },
    {
     "data": {
      "image/png": "[encoded data removed]",
      "text/plain": [
       "<Figure size 720x504 with 1 Axes>"
      ]
     },
     "metadata": {
      "needs_background": "light"
     },
     "output_type": "display_data"
    }
   ],
   "source": [
    "for column in columns:\n",
    "    if column == 'f0':\n",
    "        plt.figure(figsize=(10,7))\n",
    "        plt.hist(data_0[column], bins=100, label='признак f0 в data_0')\n",
    "        plt.hist(data_1[column], bins=100, label='признак f0 в data_1', alpha=0.7)\n",
    "        plt.hist(data_2[column], bins=100, label='признак f0 в data_2', alpha=0.7)\n",
    "        plt.legend(loc='upper right')\n",
    "        plt.show()\n",
    "    elif column == 'f1':\n",
    "        plt.figure(figsize=(10,7))\n",
    "        plt.hist(data_0[column], bins=100, label='признак f1 в data_0')\n",
    "        plt.hist(data_1[column], bins=100, label='признак f1 в data_1', alpha=0.7)\n",
    "        plt.hist(data_2[column], bins=100, label='признак f1 в data_2', alpha=0.7)\n",
    "        plt.legend(loc='upper right')\n",
    "        plt.show()\n",
    "    elif column == 'f2':\n",
    "        plt.figure(figsize=(10,7))\n",
    "        plt.hist(data_0[column], bins=100, label='признак f2 в data_0', alpha=0.7)\n",
    "        plt.hist(data_1[column], bins=100, label='признак f2 в data_1', alpha=0.7)\n",
    "        plt.hist(data_2[column], bins=100, label='признак f2 в data_2', alpha=0.7)\n",
    "        plt.legend(loc='upper right')\n",
    "        plt.show()\n",
    "    elif column == 'product':\n",
    "        plt.figure(figsize=(10,7))\n",
    "        plt.hist(data_0[column], bins=100, label='объём запасов в скважинах в data_0', alpha=0.7)\n",
    "        plt.hist(data_1[column], bins=100, label='объём запасов в скважинах в data_1', alpha=0.7)\n",
    "        plt.hist(data_2[column], bins=100, label='объём запасов в скважинах в data_2', alpha=0.7)\n",
    "        plt.legend(loc='upper right')\n",
    "        plt.show()"
   ]
  },
  {
   "cell_type": "code",
   "execution_count": 13,
   "metadata": {},
   "outputs": [
    {
     "data": {
      "text/plain": [
       "12"
      ]
     },
     "execution_count": 13,
     "metadata": {},
     "output_type": "execute_result"
    }
   ],
   "source": [
    "len(data_1['product'].unique())"
   ]
  },
  {
   "cell_type": "markdown",
   "metadata": {},
   "source": [
    "Как видно, почти все данные распределны нормально. Исключение составляет датафрейм data_1, который явно имеет очень мало уникальных значений - по сути глядя на гистограммы, и перепроверив это вручную, убеждаемся, что там фактически 12 уникальных скважин по объёму запасов, но с разными id - и признаками f1, f2, f3. Вероятно когда модель будет учиться по этому датафрейму, она удивится"
   ]
  },
  {
   "cell_type": "markdown",
   "metadata": {},
   "source": [
    "## Обучение и проверка модели"
   ]
  },
  {
   "cell_type": "markdown",
   "metadata": {},
   "source": [
    "По условию используем только линейную регрессию для обучения"
   ]
  },
  {
   "cell_type": "code",
   "execution_count": 14,
   "metadata": {},
   "outputs": [],
   "source": [
    "model_0 = LinearRegression()\n",
    "model_1 = LinearRegression()\n",
    "model_2 = LinearRegression()"
   ]
  },
  {
   "cell_type": "code",
   "execution_count": 15,
   "metadata": {},
   "outputs": [],
   "source": [
    "features_0 = data_0.drop(['product'], axis=1)\n",
    "target_0 = data_0['product']\n",
    "features_1 = data_1.drop(['product'], axis=1)\n",
    "target_1 = data_1['product']\n",
    "features_2 = data_2.drop(['product'], axis=1)\n",
    "target_2 = data_2['product']"
   ]
  },
  {
   "cell_type": "code",
   "execution_count": 16,
   "metadata": {},
   "outputs": [],
   "source": [
    "features_train_0, features_valid_0, target_train_0, target_valid_0 = train_test_split(\n",
    "    features_0, target_0, test_size=0.25, random_state=12345)\n",
    "features_train_1, features_valid_1, target_train_1, target_valid_1 = train_test_split(\n",
    "    features_1, target_1, test_size=0.25, random_state=12345)\n",
    "features_train_2, features_valid_2, target_train_2, target_valid_2 = train_test_split(\n",
    "    features_2, target_2, test_size=0.25, random_state=12345)"
   ]
  },
  {
   "cell_type": "code",
   "execution_count": 17,
   "metadata": {},
   "outputs": [],
   "source": [
    "model_0.fit(features_train_0, target_train_0)\n",
    "model_1.fit(features_train_1, target_train_1)\n",
    "model_2.fit(features_train_2, target_train_2);"
   ]
  },
  {
   "cell_type": "code",
   "execution_count": 18,
   "metadata": {},
   "outputs": [],
   "source": [
    "predictions_0 = model_0.predict(features_valid_0)\n",
    "predictions_1 = model_1.predict(features_valid_1)\n",
    "predictions_2 = model_2.predict(features_valid_2)"
   ]
  },
  {
   "cell_type": "code",
   "execution_count": 19,
   "metadata": {},
   "outputs": [],
   "source": [
    "rmse_0 = mean_squared_error(target_valid_0, predictions_0)**0.5\n",
    "rmse_1 = mean_squared_error(target_valid_1, predictions_1)**0.5\n",
    "rmse_2 = mean_squared_error(target_valid_2, predictions_2)**0.5"
   ]
  },
  {
   "cell_type": "code",
   "execution_count": 20,
   "metadata": {},
   "outputs": [
    {
     "name": "stdout",
     "output_type": "stream",
     "text": [
      "Для датафрейма data_0 значение RMSE = 37.5794217150813 и средний запас предсказанного сырья 92.59256778438038 тыс. баррелей\n",
      "Для датафрейма data_1 значение RMSE = 0.893099286775616 и средний запас предсказанного сырья 68.728546895446 тыс. баррелей\n",
      "Для датафрейма data_2 значение RMSE = 40.02970873393434 и средний запас предсказанного сырья 94.96504596800489 тыс. баррелей\n"
     ]
    }
   ],
   "source": [
    "rmse = [rmse_0, rmse_1, rmse_2]\n",
    "average_product = [predictions_0.mean(), predictions_1.mean(), predictions_2.mean()]\n",
    "labels = ['data_0', 'data_1', 'data_2']\n",
    "\n",
    "for index in range(len(rmse)):\n",
    "    print(f'Для датафрейма {labels[index]} значение RMSE = {rmse[index]} и средний запас предсказанного сырья {average_product[index]} тыс. баррелей')"
   ]
  },
  {
   "cell_type": "markdown",
   "metadata": {},
   "source": [
    "Можем сказать, что для data_1 самые точные предсказания (RMSE очень близка к 0), но средний запас предсказанного сырья весьма мал. Если же говорить о data_0 и data_2, то тут ситуация обратная - RMSE весьма большой по сравнению с RMSE data_1, но зато средний запас сырья весьма высокий (хоть получается это и не такая точная информация, как предсказания для data_1)."
   ]
  },
  {
   "cell_type": "markdown",
   "metadata": {},
   "source": [
    "Можно сравнить предсказанные средние объёмы скважин с реальным средним чтобы понять насколько сильно ошиблись данные модели"
   ]
  },
  {
   "cell_type": "code",
   "execution_count": 21,
   "metadata": {},
   "outputs": [],
   "source": [
    "real_average_product = [target_valid_0.mean(), target_valid_1.mean(), target_valid_2.mean()]"
   ]
  },
  {
   "cell_type": "code",
   "execution_count": 22,
   "metadata": {},
   "outputs": [
    {
     "name": "stdout",
     "output_type": "stream",
     "text": [
      "Для скважин в data_0 реальное среднее значение запасов 92.07859674082927\n",
      "Для скважин в data_1 реальное среднее значение запасов 68.72313602435997\n",
      "Для скважин в data_2 реальное среднее значение запасов 94.88423280885438\n"
     ]
    }
   ],
   "source": [
    "for index in range(len(real_average_product)):\n",
    "    print(f'Для скважин в {labels[index]} реальное среднее значение запасов {real_average_product[index]}')"
   ]
  },
  {
   "cell_type": "markdown",
   "metadata": {},
   "source": [
    "Как видно, погрешность по факту не так велика - меньше 1 процента. То есть пока что можем сказать, что регион с самыми перспективными месторождениями нефти это банально выбранный регион по среднему значению объёмов залежей в нём - то есть регион с данными из data_2"
   ]
  },
  {
   "cell_type": "markdown",
   "metadata": {},
   "source": [
    "## Подготовка к расчёту прибыли"
   ]
  },
  {
   "cell_type": "code",
   "execution_count": 23,
   "metadata": {},
   "outputs": [],
   "source": [
    "searching_area = 500                   # при исследовании выбирают 500 точек в регионе\n",
    "choice_area = 200                      # 200 самых \"богатых\" точек в итоге выбирают для выкачивания нефти\n",
    "budget = 10**10                        # бюджет 10 млрд\n",
    "product_profit = 450000                # доход с одной проданной тысячи баррелей\n",
    "success_chance = 97.5                  # требуемый уровень вероятности того, что проект не пойдет в убыток"
   ]
  },
  {
   "cell_type": "markdown",
   "metadata": {},
   "source": [
    "как я понимаю, для дальнейших действий необходимо в каждый из датафреймов помимо реальных запасов нефти добавить столбец с предсказываемым моделью запасом нефти, на который мы и будем ориентироваться при выборе самых \"богатых\" мест для скважин"
   ]
  },
  {
   "cell_type": "code",
   "execution_count": 24,
   "metadata": {},
   "outputs": [],
   "source": [
    "data_0['predicted'] = pd.Series(model_0.predict(features_0))\n",
    "data_1['predicted'] = pd.Series(model_1.predict(features_1))\n",
    "data_2['predicted'] = pd.Series(model_2.predict(features_2))"
   ]
  },
  {
   "cell_type": "markdown",
   "metadata": {},
   "source": [
    "так как мы ориентируемся именно на то, что нам предсказывает модель, то отсортируем по убыванию датафреймы по столбцу \"predicted\" и далее отрежем первые 200 из них - ведь именно столько точек выбирают для выкачивания нефти"
   ]
  },
  {
   "cell_type": "code",
   "execution_count": 25,
   "metadata": {},
   "outputs": [],
   "source": [
    "data_0_best_sources = data_0.sort_values(by='predicted', ascending=False)[:choice_area]\n",
    "data_1_best_sources = data_1.sort_values(by='predicted', ascending=False)[:choice_area]\n",
    "data_2_best_sources = data_2.sort_values(by='predicted', ascending=False)[:choice_area]"
   ]
  },
  {
   "cell_type": "markdown",
   "metadata": {},
   "source": [
    "теперь мы выбрали 200 самых \"богатых\" по мнению моделей скважин в каждом регионе. проверим потянут ли они окупаемость бюджета, который будет потрачен на разработку скважин в выбранном регионе"
   ]
  },
  {
   "cell_type": "code",
   "execution_count": 26,
   "metadata": {},
   "outputs": [
    {
     "name": "stdout",
     "output_type": "stream",
     "text": [
      "Миниально в регионе нужно захоронений на 22222.222222222223 тыс. баррелей\n"
     ]
    }
   ],
   "source": [
    "needed_barrels = budget/product_profit\n",
    "print(f'Миниально в регионе нужно захоронений на {needed_barrels} тыс. баррелей')"
   ]
  },
  {
   "cell_type": "markdown",
   "metadata": {},
   "source": [
    "вот столько тысяч баррелей должно быть в регионе, чтобы он окупил выделенный бюджет. проверим какой суммарный запас объёмов на самом деле в лучших 200 скважинах по мнению моделей"
   ]
  },
  {
   "cell_type": "code",
   "execution_count": 27,
   "metadata": {},
   "outputs": [
    {
     "name": "stdout",
     "output_type": "stream",
     "text": [
      "В лучших 200 скважинах датафрейма data_0 находится 29986.898204693367 тыс. баррелей\n",
      "В лучших 200 скважинах датафрейма data_1 находится 27589.081548181137 тыс. баррелей\n",
      "В лучших 200 скважинах датафрейма data_2 находится 27936.468071024286 тыс. баррелей\n"
     ]
    }
   ],
   "source": [
    "best_sources = [data_0_best_sources, data_1_best_sources, data_2_best_sources]\n",
    "for index in range(len(labels)):\n",
    "    print(f'В лучших 200 скважинах датафрейма {labels[index]} находится {best_sources[index][\"product\"].sum()} тыс. баррелей')"
   ]
  },
  {
   "cell_type": "markdown",
   "metadata": {},
   "source": [
    "Как видно, модель в каждом из регионов предсказала 200 таких скважин, что они будут прибыльными для выбора - объемов нефти там больше, чем требуется для минимальной окупаемости. Посчитаем в каждом из регионов прибыль чтобы перейти от баррелей к деньгам для наглядности"
   ]
  },
  {
   "cell_type": "code",
   "execution_count": 28,
   "metadata": {},
   "outputs": [
    {
     "name": "stdout",
     "output_type": "stream",
     "text": [
      "Средний запас в одной скважине для безубыточности проекта должен быть 111.111 тыс. баррелей\n"
     ]
    }
   ],
   "source": [
    "average_needed_barrels = budget/(product_profit*choice_area)\n",
    "print(f'Средний запас в одной скважине для безубыточности проекта должен быть {average_needed_barrels:.3f} тыс. баррелей')"
   ]
  },
  {
   "cell_type": "code",
   "execution_count": 29,
   "metadata": {},
   "outputs": [
    {
     "name": "stdout",
     "output_type": "stream",
     "text": [
      "В лучших 200 скважинах датафрейма data_0 находится в среднем 149.934 тыс. баррелей\n",
      "В лучших 200 скважинах датафрейма data_1 находится в среднем 137.945 тыс. баррелей\n",
      "В лучших 200 скважинах датафрейма data_2 находится в среднем 139.682 тыс. баррелей\n"
     ]
    }
   ],
   "source": [
    "for index in range(len(labels)):\n",
    "    print(f'В лучших 200 скважинах датафрейма {labels[index]} находится в среднем {best_sources[index][\"product\"].mean():.3f} тыс. баррелей')"
   ]
  },
  {
   "cell_type": "markdown",
   "metadata": {},
   "source": [
    "Как и ожидалось, средний запас объёмов в 200 лучших скважинах больше минимального 111 тыс. баррель , что и даёт далее положительную прибыль, если выбирать топ-200 из всего датафрейма. Осложняется ситуация когда мы работаем со случайнми 500 скважинами - так как вычисленные ранее средние запасы нефти по всему датафрейму во всех регионах до этого самого минимума не дотягивают. Этим собственно и обусловлено желание заказчика оценить риски при случайном выборе 500 скважин для последующего анализа"
   ]
  },
  {
   "cell_type": "markdown",
   "metadata": {},
   "source": [
    "## Расчёт прибыли и рисков "
   ]
  },
  {
   "cell_type": "code",
   "execution_count": 30,
   "metadata": {},
   "outputs": [],
   "source": [
    "profitable_size = []\n",
    "for data in best_sources:\n",
    "    profitable_size.append(data[\"product\"].sum()-needed_barrels)"
   ]
  },
  {
   "cell_type": "code",
   "execution_count": 31,
   "metadata": {
    "scrolled": true
   },
   "outputs": [
    {
     "data": {
      "text/plain": [
       "[7764.675982471144, 5366.859325958914, 5714.245848802064]"
      ]
     },
     "execution_count": 31,
     "metadata": {},
     "output_type": "execute_result"
    }
   ],
   "source": [
    "profitable_size"
   ]
  },
  {
   "cell_type": "markdown",
   "metadata": {},
   "source": [
    "Теперь известно насколько превышает реальный объём требуемый. Посчитаем прибыль от этой разницы"
   ]
  },
  {
   "cell_type": "code",
   "execution_count": 32,
   "metadata": {},
   "outputs": [
    {
     "name": "stdout",
     "output_type": "stream",
     "text": [
      "Для датафрейма data_0 реальная выручка составит 3.494104192112015 млрд. рублей\n",
      "Для датафрейма data_1 реальная выручка составит 2.415086696681511 млрд. рублей\n",
      "Для датафрейма data_2 реальная выручка составит 2.571410631960929 млрд. рублей\n"
     ]
    }
   ],
   "source": [
    "for index in range(len(profitable_size)):\n",
    "    print(f'Для датафрейма {labels[index]} реальная выручка составит {(profitable_size[index]*product_profit)/10**9} млрд. рублей')"
   ]
  },
  {
   "cell_type": "markdown",
   "metadata": {},
   "source": [
    "Получилось, что если полагаться именно на советы обученной модели, то самое перспективное по прибыли - это регион из датафрейма data_0 - там почти на целый миллиард больше прибыль, чем в регионах с датафреймами data_1 и data_2. По крайней мере это если полагаться при выборе скважин на мнение моделей"
   ]
  },
  {
   "cell_type": "markdown",
   "metadata": {},
   "source": [
    "Теперь выполним оценку рисков: известно, что из общего датафрейма для исследования берут 500 скважин, где опираясь на мнение моделей для добычи нефти окончательно выбирают 200 лучших. Сделаем 1000 таких выборок и посмотрим с какими рисками в каждом из регионов можно уйти в минус. Нужно чтобы вероятность успеха была больше 97.5 %"
   ]
  },
  {
   "cell_type": "code",
   "execution_count": 33,
   "metadata": {},
   "outputs": [],
   "source": [
    "state = np.random.RandomState(12345)"
   ]
  },
  {
   "cell_type": "code",
   "execution_count": 34,
   "metadata": {},
   "outputs": [
    {
     "name": "stdout",
     "output_type": "stream",
     "text": [
      "100000\n",
      "100000\n",
      "100000\n"
     ]
    }
   ],
   "source": [
    "for data in dataframes:\n",
    "    print(data.shape[0])"
   ]
  },
  {
   "cell_type": "markdown",
   "metadata": {},
   "source": [
    "В каждом датафрейме 100 000 данных по скважинам, но при разведке берут лишь 500 из них, следовательно рассматриваемая доля скважин из каждого датафрейма:"
   ]
  },
  {
   "cell_type": "code",
   "execution_count": 35,
   "metadata": {},
   "outputs": [
    {
     "name": "stdout",
     "output_type": "stream",
     "text": [
      "0.005\n"
     ]
    }
   ],
   "source": [
    "research_part = searching_area/data_0.shape[0]\n",
    "print(research_part)"
   ]
  },
  {
   "cell_type": "code",
   "execution_count": 36,
   "metadata": {},
   "outputs": [],
   "source": [
    "def risk_calc(data, research_part=research_part, choice_area=choice_area, state=state, product_profit=product_profit):\n",
    "    profit = []\n",
    "    for i in range(1000):\n",
    "        research_sample = data.sample(frac=research_part, random_state=state, replace=True)\n",
    "        best_sources = research_sample.sort_values(by='predicted', ascending=False)[:choice_area]\n",
    "        product_value = best_sources['product'].sum()\n",
    "        profit.append((product_value*product_profit)/10**9)\n",
    "    return pd.Series(profit).quantile(0.025)   "
   ]
  },
  {
   "cell_type": "code",
   "execution_count": 37,
   "metadata": {},
   "outputs": [
    {
     "name": "stdout",
     "output_type": "stream",
     "text": [
      "В датафрейме data_0 97,5 % шанс, что прибыль будет выше,чем 9.922143076265112 млрд. рублей\n",
      "В датафрейме data_1 97,5 % шанс, что прибыль будет выше,чем 10.04241963633193 млрд. рублей\n",
      "В датафрейме data_2 97,5 % шанс, что прибыль будет выше,чем 9.853298451855853 млрд. рублей\n"
     ]
    }
   ],
   "source": [
    "for index in range(len(dataframes)):\n",
    "    print(f'В датафрейме {labels[index]} 97,5 % шанс, что прибыль будет выше,чем {risk_calc(dataframes[index])} млрд. рублей')"
   ]
  },
  {
   "cell_type": "markdown",
   "metadata": {},
   "source": [
    "Как видно, требование о том, чтобы риск уйти в минус был не больше 2.5 % при случайном выборе 500 скважин в регионе и отборе из них 200 лучших по предсказаниям модели - соблюдается только в регионе, относящемся к data_1 (прибыль больше 10 млрд. вкладываемого бюждета). В остальных регионах шанс уйти в минус уже больше.\n",
    "Если резюмировать: в data_1 всего 12 уникальных значений запасов нефти - что довольно нереалистично, но тем не менее - это делает данный регион самым стабильным - в нём возможно нет суперприбыльных скважин, но из-за малого разброса данных по запасам модель гораздо лучше обучилась в данном регионе (гораздо более низкий RMSE) , и следовательно, гораздо лучше предсказывала самые прибыльные месторождения. Запасы нефти в data_0 и data_2 же имели очень большой разброс, и, соответственно, модели с большим RMSE там были хуже обучены, и судя по всему даже при большем денежном потенциале (как показал предварительный обсчёт - самые \"богатые\" 200 захоронений в этих датафреймах дают больше прибыли, чем в data_1) выбирать случайные 500 месторождений и доверять выбор оставшихся 200 моделям - дело опасное, и риски прогореть там уже выше 2.5 %. Поэтому конкретно из 3-х данных регионов для соблюдения требуемой вероятности успеха стоит выбрать именно регион с data_1"
   ]
  },
  {
   "cell_type": "code",
   "execution_count": 38,
   "metadata": {},
   "outputs": [],
   "source": [
    "def profit_calc(data, research_part=research_part, choice_area=choice_area, state=state, product_profit=product_profit):\n",
    "    profit = []\n",
    "    for i in range(1000):\n",
    "        research_sample = data.sample(frac=research_part, random_state=state, replace=True)\n",
    "        best_sources = research_sample.sort_values(by='predicted', ascending=False)[:choice_area]\n",
    "        product_value = best_sources['product'].sum()\n",
    "        budget_accounting = ((product_value*product_profit)/10**9) - 10 # вычитаем 10 млрд. бюджета\n",
    "        profit.append(budget_accounting)\n",
    "    return pd.Series(profit)"
   ]
  },
  {
   "cell_type": "code",
   "execution_count": 39,
   "metadata": {},
   "outputs": [
    {
     "name": "stdout",
     "output_type": "stream",
     "text": [
      "В датафрейме data_0 средняя прибыль 0.417 млрд. рублей\n",
      "В датафрейме data_0 95 % доверительный интервал от -0.104 млрд. рублей до 0.955 млрд. рублей\n",
      "В датафрейме data_0 риск уйти в убыток 4.500 %\n",
      "В датафрейме data_1 средняя прибыль 0.454 млрд. рублей\n",
      "В датафрейме data_1 95 % доверительный интервал от 0.045 млрд. рублей до 0.864 млрд. рублей\n",
      "В датафрейме data_1 риск уйти в убыток 1.400 %\n",
      "В датафрейме data_2 средняя прибыль 0.364 млрд. рублей\n",
      "В датафрейме data_2 95 % доверительный интервал от -0.182 млрд. рублей до 0.872 млрд. рублей\n",
      "В датафрейме data_2 риск уйти в убыток 9.700 %\n"
     ]
    }
   ],
   "source": [
    "for index in range(len(dataframes)):\n",
    "    print(f'В датафрейме {labels[index]} средняя прибыль {(profit_calc(dataframes[index]).mean()):.3f} млрд. рублей')\n",
    "    print(f'В датафрейме {labels[index]} 95 % доверительный интервал от {(profit_calc(dataframes[index]).quantile(0.025)):.3f} млрд. рублей до {(profit_calc(dataframes[index]).quantile(0.975)):.3f} млрд. рублей')\n",
    "    print(f'В датафрейме {labels[index]} риск уйти в убыток {((profit_calc(dataframes[index]) < 0).mean() * 100):.3f} %')"
   ]
  },
  {
   "cell_type": "markdown",
   "metadata": {},
   "source": [
    "Данный дополнительный пересчёт, где была вычислена чистая прибыль с учётом потерь средств на сам по себе бюждет проекта - по сути продублировало выше записанный вывод и ещё раз его закрепило - распределение друг относительно друга по суммарной прибыли и рискам уйти в убыток по регионам отсалось то же."
   ]
  }
 ],
 "metadata": {
  "ExecuteTimeLog": [
   {
    "duration": 664,
    "start_time": "2022-03-08T18:41:42.737Z"
   },
   {
    "duration": 3,
    "start_time": "2022-03-08T18:42:22.455Z"
   },
   {
    "duration": 452,
    "start_time": "2022-03-08T18:43:20.220Z"
   },
   {
    "duration": 25,
    "start_time": "2022-03-08T18:43:34.956Z"
   },
   {
    "duration": 17,
    "start_time": "2022-03-08T18:43:45.879Z"
   },
   {
    "duration": 16,
    "start_time": "2022-03-08T18:43:52.508Z"
   },
   {
    "duration": 3,
    "start_time": "2022-03-08T18:50:25.625Z"
   },
   {
    "duration": 110,
    "start_time": "2022-03-08T18:50:54.768Z"
   },
   {
    "duration": 117,
    "start_time": "2022-03-08T18:51:05.512Z"
   },
   {
    "duration": 116,
    "start_time": "2022-03-08T18:51:25.607Z"
   },
   {
    "duration": 588,
    "start_time": "2022-03-08T19:01:43.810Z"
   },
   {
    "duration": 393,
    "start_time": "2022-03-08T19:01:56.946Z"
   },
   {
    "duration": 403,
    "start_time": "2022-03-08T19:02:00.814Z"
   },
   {
    "duration": 410,
    "start_time": "2022-03-08T19:02:18.986Z"
   },
   {
    "duration": 423,
    "start_time": "2022-03-08T19:02:26.528Z"
   },
   {
    "duration": 427,
    "start_time": "2022-03-08T19:02:30.980Z"
   },
   {
    "duration": 444,
    "start_time": "2022-03-08T19:02:36.410Z"
   },
   {
    "duration": 396,
    "start_time": "2022-03-08T19:02:40.039Z"
   },
   {
    "duration": 422,
    "start_time": "2022-03-08T19:02:43.086Z"
   },
   {
    "duration": 521,
    "start_time": "2022-03-08T19:03:08.142Z"
   },
   {
    "duration": 4,
    "start_time": "2022-03-08T19:04:36.738Z"
   },
   {
    "duration": 4,
    "start_time": "2022-03-08T19:07:26.471Z"
   },
   {
    "duration": 339,
    "start_time": "2022-03-08T19:08:12.769Z"
   },
   {
    "duration": 3,
    "start_time": "2022-03-08T19:08:20.287Z"
   },
   {
    "duration": 211,
    "start_time": "2022-03-08T19:08:22.610Z"
   },
   {
    "duration": 784,
    "start_time": "2022-03-08T19:12:01.441Z"
   },
   {
    "duration": 438,
    "start_time": "2022-03-08T19:12:03.906Z"
   },
   {
    "duration": 21,
    "start_time": "2022-03-08T19:12:05.254Z"
   },
   {
    "duration": 17,
    "start_time": "2022-03-08T19:12:06.244Z"
   },
   {
    "duration": 17,
    "start_time": "2022-03-08T19:12:07.192Z"
   },
   {
    "duration": 4,
    "start_time": "2022-03-08T19:12:11.492Z"
   },
   {
    "duration": 123,
    "start_time": "2022-03-08T19:12:12.593Z"
   },
   {
    "duration": 4,
    "start_time": "2022-03-08T19:12:16.792Z"
   },
   {
    "duration": 861,
    "start_time": "2022-03-08T19:21:46.852Z"
   },
   {
    "duration": 463,
    "start_time": "2022-03-08T19:21:47.716Z"
   },
   {
    "duration": 22,
    "start_time": "2022-03-08T19:21:48.182Z"
   },
   {
    "duration": 16,
    "start_time": "2022-03-08T19:21:48.206Z"
   },
   {
    "duration": 19,
    "start_time": "2022-03-08T19:21:48.225Z"
   },
   {
    "duration": 7,
    "start_time": "2022-03-08T19:21:48.246Z"
   },
   {
    "duration": 158,
    "start_time": "2022-03-08T19:21:48.255Z"
   },
   {
    "duration": 3,
    "start_time": "2022-03-08T19:21:48.416Z"
   },
   {
    "duration": 19,
    "start_time": "2022-03-08T19:21:48.421Z"
   },
   {
    "duration": 821,
    "start_time": "2022-03-08T19:23:03.017Z"
   },
   {
    "duration": 438,
    "start_time": "2022-03-08T19:23:03.841Z"
   },
   {
    "duration": 22,
    "start_time": "2022-03-08T19:23:04.283Z"
   },
   {
    "duration": 16,
    "start_time": "2022-03-08T19:23:04.308Z"
   },
   {
    "duration": 23,
    "start_time": "2022-03-08T19:23:04.326Z"
   },
   {
    "duration": 36,
    "start_time": "2022-03-08T19:23:04.351Z"
   },
   {
    "duration": 138,
    "start_time": "2022-03-08T19:23:04.389Z"
   },
   {
    "duration": 3,
    "start_time": "2022-03-08T19:23:04.530Z"
   },
   {
    "duration": 13,
    "start_time": "2022-03-08T19:23:04.535Z"
   },
   {
    "duration": 319,
    "start_time": "2022-03-08T19:24:47.254Z"
   },
   {
    "duration": 29,
    "start_time": "2022-03-08T19:25:26.223Z"
   },
   {
    "duration": 27,
    "start_time": "2022-03-08T19:25:34.506Z"
   },
   {
    "duration": 179,
    "start_time": "2022-03-08T19:26:09.093Z"
   },
   {
    "duration": 12,
    "start_time": "2022-03-08T19:28:25.861Z"
   },
   {
    "duration": 4,
    "start_time": "2022-03-08T19:30:49.703Z"
   },
   {
    "duration": 5,
    "start_time": "2022-03-08T19:30:55.105Z"
   },
   {
    "duration": 3,
    "start_time": "2022-03-08T19:31:55.769Z"
   },
   {
    "duration": 1361,
    "start_time": "2022-03-08T19:33:40.354Z"
   },
   {
    "duration": 712,
    "start_time": "2022-03-08T19:33:54.997Z"
   },
   {
    "duration": 735,
    "start_time": "2022-03-08T19:35:46.262Z"
   },
   {
    "duration": 744,
    "start_time": "2022-03-08T19:36:01.408Z"
   },
   {
    "duration": 1146,
    "start_time": "2022-03-08T19:36:29.891Z"
   },
   {
    "duration": 1227,
    "start_time": "2022-03-08T19:37:27.064Z"
   },
   {
    "duration": 820,
    "start_time": "2022-03-08T19:37:44.748Z"
   },
   {
    "duration": 1274,
    "start_time": "2022-03-08T19:38:00.445Z"
   },
   {
    "duration": 679,
    "start_time": "2022-03-08T19:40:07.388Z"
   },
   {
    "duration": 246,
    "start_time": "2022-03-08T19:40:33.982Z"
   },
   {
    "duration": 1297,
    "start_time": "2022-03-08T19:41:11.357Z"
   },
   {
    "duration": 1480,
    "start_time": "2022-03-08T19:41:22.247Z"
   },
   {
    "duration": 5592,
    "start_time": "2022-03-08T19:43:30.015Z"
   },
   {
    "duration": 5529,
    "start_time": "2022-03-08T19:46:40.583Z"
   },
   {
    "duration": 268,
    "start_time": "2022-03-08T19:50:32.760Z"
   },
   {
    "duration": 6,
    "start_time": "2022-03-08T19:50:43.034Z"
   },
   {
    "duration": 12,
    "start_time": "2022-03-08T19:51:23.024Z"
   },
   {
    "duration": 789,
    "start_time": "2022-03-08T20:02:44.947Z"
   },
   {
    "duration": 3,
    "start_time": "2022-03-08T20:04:04.890Z"
   },
   {
    "duration": 14,
    "start_time": "2022-03-08T20:07:33.202Z"
   },
   {
    "duration": 49,
    "start_time": "2022-03-08T20:10:23.953Z"
   },
   {
    "duration": 28,
    "start_time": "2022-03-08T20:11:53.391Z"
   },
   {
    "duration": 25,
    "start_time": "2022-03-08T20:12:00.336Z"
   },
   {
    "duration": 10,
    "start_time": "2022-03-08T20:13:39.910Z"
   },
   {
    "duration": 6,
    "start_time": "2022-03-08T20:15:13.185Z"
   },
   {
    "duration": 84,
    "start_time": "2022-03-08T20:24:36.560Z"
   },
   {
    "duration": 106,
    "start_time": "2022-03-08T20:25:00.766Z"
   },
   {
    "duration": 88,
    "start_time": "2022-03-08T20:25:16.021Z"
   },
   {
    "duration": 70,
    "start_time": "2022-03-08T20:25:38.860Z"
   },
   {
    "duration": 20,
    "start_time": "2022-03-08T20:25:55.735Z"
   },
   {
    "duration": 6,
    "start_time": "2022-03-08T20:26:50.092Z"
   },
   {
    "duration": 7,
    "start_time": "2022-03-08T20:27:54.326Z"
   },
   {
    "duration": 6,
    "start_time": "2022-03-08T20:29:22.932Z"
   },
   {
    "duration": 6,
    "start_time": "2022-03-08T20:35:01.025Z"
   },
   {
    "duration": 260,
    "start_time": "2022-03-08T20:36:52.497Z"
   },
   {
    "duration": 4,
    "start_time": "2022-03-08T20:37:13.862Z"
   },
   {
    "duration": 5,
    "start_time": "2022-03-08T20:38:35.888Z"
   },
   {
    "duration": 6,
    "start_time": "2022-03-08T21:09:37.079Z"
   },
   {
    "duration": 4,
    "start_time": "2022-03-08T21:19:32.947Z"
   },
   {
    "duration": 8,
    "start_time": "2022-03-08T21:28:32.213Z"
   },
   {
    "duration": 25,
    "start_time": "2022-03-08T21:29:03.394Z"
   },
   {
    "duration": 18,
    "start_time": "2022-03-08T21:29:12.332Z"
   },
   {
    "duration": 16,
    "start_time": "2022-03-08T21:29:34.308Z"
   },
   {
    "duration": 18,
    "start_time": "2022-03-08T21:29:55.837Z"
   },
   {
    "duration": 85,
    "start_time": "2022-03-08T21:34:23.582Z"
   },
   {
    "duration": 16,
    "start_time": "2022-03-08T21:34:32.561Z"
   },
   {
    "duration": 50,
    "start_time": "2022-03-08T21:35:04.132Z"
   },
   {
    "duration": 25,
    "start_time": "2022-03-08T21:35:07.835Z"
   },
   {
    "duration": 17,
    "start_time": "2022-03-08T21:35:20.877Z"
   },
   {
    "duration": 16,
    "start_time": "2022-03-08T21:35:31.776Z"
   },
   {
    "duration": 17,
    "start_time": "2022-03-08T21:35:36.335Z"
   },
   {
    "duration": 16,
    "start_time": "2022-03-08T21:35:49.498Z"
   },
   {
    "duration": 16,
    "start_time": "2022-03-08T21:35:53.664Z"
   },
   {
    "duration": 15,
    "start_time": "2022-03-08T21:36:02.719Z"
   },
   {
    "duration": 4,
    "start_time": "2022-03-08T21:39:26.359Z"
   },
   {
    "duration": 4,
    "start_time": "2022-03-08T21:39:37.933Z"
   },
   {
    "duration": 83,
    "start_time": "2022-03-08T21:43:46.948Z"
   },
   {
    "duration": 92,
    "start_time": "2022-03-08T21:44:03.602Z"
   },
   {
    "duration": 74,
    "start_time": "2022-03-08T21:44:21.225Z"
   },
   {
    "duration": 6,
    "start_time": "2022-03-08T21:45:01.180Z"
   },
   {
    "duration": 7,
    "start_time": "2022-03-08T21:45:28.271Z"
   },
   {
    "duration": 6,
    "start_time": "2022-03-08T21:45:40.402Z"
   },
   {
    "duration": 76,
    "start_time": "2022-03-08T21:47:09.383Z"
   },
   {
    "duration": 71,
    "start_time": "2022-03-08T21:48:49.522Z"
   },
   {
    "duration": 8,
    "start_time": "2022-03-08T21:49:01.990Z"
   },
   {
    "duration": 19,
    "start_time": "2022-03-08T21:49:52.064Z"
   },
   {
    "duration": 1377,
    "start_time": "2022-03-08T21:50:15.124Z"
   },
   {
    "duration": 457,
    "start_time": "2022-03-08T21:50:16.504Z"
   },
   {
    "duration": 24,
    "start_time": "2022-03-08T21:50:16.964Z"
   },
   {
    "duration": 24,
    "start_time": "2022-03-08T21:50:16.991Z"
   },
   {
    "duration": 16,
    "start_time": "2022-03-08T21:50:17.017Z"
   },
   {
    "duration": 5,
    "start_time": "2022-03-08T21:50:17.035Z"
   },
   {
    "duration": 152,
    "start_time": "2022-03-08T21:50:17.042Z"
   },
   {
    "duration": 26,
    "start_time": "2022-03-08T21:50:17.197Z"
   },
   {
    "duration": 208,
    "start_time": "2022-03-08T21:50:17.226Z"
   },
   {
    "duration": 12,
    "start_time": "2022-03-08T21:50:17.436Z"
   },
   {
    "duration": 6,
    "start_time": "2022-03-08T21:50:17.450Z"
   },
   {
    "duration": 1629,
    "start_time": "2022-03-08T21:50:17.458Z"
   },
   {
    "duration": 537,
    "start_time": "2022-03-08T21:50:18.552Z"
   },
   {
    "duration": 534,
    "start_time": "2022-03-08T21:50:18.557Z"
   },
   {
    "duration": 530,
    "start_time": "2022-03-08T21:50:18.562Z"
   },
   {
    "duration": 527,
    "start_time": "2022-03-08T21:50:18.566Z"
   },
   {
    "duration": 526,
    "start_time": "2022-03-08T21:50:18.568Z"
   },
   {
    "duration": 525,
    "start_time": "2022-03-08T21:50:18.571Z"
   },
   {
    "duration": 524,
    "start_time": "2022-03-08T21:50:18.573Z"
   },
   {
    "duration": 523,
    "start_time": "2022-03-08T21:50:18.576Z"
   },
   {
    "duration": 521,
    "start_time": "2022-03-08T21:50:18.579Z"
   },
   {
    "duration": 521,
    "start_time": "2022-03-08T21:50:18.581Z"
   },
   {
    "duration": 520,
    "start_time": "2022-03-08T21:50:18.583Z"
   },
   {
    "duration": 518,
    "start_time": "2022-03-08T21:50:18.586Z"
   },
   {
    "duration": 517,
    "start_time": "2022-03-08T21:50:18.589Z"
   },
   {
    "duration": 515,
    "start_time": "2022-03-08T21:50:18.592Z"
   },
   {
    "duration": 513,
    "start_time": "2022-03-08T21:50:18.595Z"
   },
   {
    "duration": 513,
    "start_time": "2022-03-08T21:50:18.597Z"
   },
   {
    "duration": 1523,
    "start_time": "2022-03-08T21:51:13.476Z"
   },
   {
    "duration": 459,
    "start_time": "2022-03-08T21:51:15.001Z"
   },
   {
    "duration": 31,
    "start_time": "2022-03-08T21:51:15.462Z"
   },
   {
    "duration": 21,
    "start_time": "2022-03-08T21:51:15.495Z"
   },
   {
    "duration": 23,
    "start_time": "2022-03-08T21:51:15.518Z"
   },
   {
    "duration": 4,
    "start_time": "2022-03-08T21:51:15.543Z"
   },
   {
    "duration": 147,
    "start_time": "2022-03-08T21:51:15.549Z"
   },
   {
    "duration": 24,
    "start_time": "2022-03-08T21:51:15.699Z"
   },
   {
    "duration": 206,
    "start_time": "2022-03-08T21:51:15.726Z"
   },
   {
    "duration": 11,
    "start_time": "2022-03-08T21:51:15.935Z"
   },
   {
    "duration": 6,
    "start_time": "2022-03-08T21:51:15.948Z"
   },
   {
    "duration": 4924,
    "start_time": "2022-03-08T21:51:15.956Z"
   },
   {
    "duration": 6,
    "start_time": "2022-03-08T21:51:20.883Z"
   },
   {
    "duration": 8,
    "start_time": "2022-03-08T21:51:20.891Z"
   },
   {
    "duration": 20,
    "start_time": "2022-03-08T21:51:20.901Z"
   },
   {
    "duration": 66,
    "start_time": "2022-03-08T21:51:20.924Z"
   },
   {
    "duration": 27,
    "start_time": "2022-03-08T21:51:20.992Z"
   },
   {
    "duration": 166,
    "start_time": "2022-03-08T21:51:21.021Z"
   },
   {
    "duration": 98,
    "start_time": "2022-03-08T21:51:21.191Z"
   },
   {
    "duration": 12,
    "start_time": "2022-03-08T21:51:21.292Z"
   },
   {
    "duration": 16,
    "start_time": "2022-03-08T21:51:21.306Z"
   },
   {
    "duration": 13,
    "start_time": "2022-03-08T21:51:21.324Z"
   },
   {
    "duration": 11,
    "start_time": "2022-03-08T21:51:21.341Z"
   },
   {
    "duration": 40,
    "start_time": "2022-03-08T21:51:21.354Z"
   },
   {
    "duration": 178,
    "start_time": "2022-03-08T21:51:21.486Z"
   },
   {
    "duration": 5,
    "start_time": "2022-03-08T21:51:21.666Z"
   },
   {
    "duration": 9,
    "start_time": "2022-03-08T21:51:21.688Z"
   },
   {
    "duration": 20,
    "start_time": "2022-03-08T21:51:21.700Z"
   },
   {
    "duration": 5,
    "start_time": "2022-03-08T21:52:49.847Z"
   },
   {
    "duration": 1347,
    "start_time": "2022-03-08T21:52:55.847Z"
   },
   {
    "duration": 438,
    "start_time": "2022-03-08T21:52:57.196Z"
   },
   {
    "duration": 20,
    "start_time": "2022-03-08T21:52:57.637Z"
   },
   {
    "duration": 36,
    "start_time": "2022-03-08T21:52:57.660Z"
   },
   {
    "duration": 35,
    "start_time": "2022-03-08T21:52:57.699Z"
   },
   {
    "duration": 13,
    "start_time": "2022-03-08T21:52:57.737Z"
   },
   {
    "duration": 131,
    "start_time": "2022-03-08T21:52:57.752Z"
   },
   {
    "duration": 26,
    "start_time": "2022-03-08T21:52:57.890Z"
   },
   {
    "duration": 212,
    "start_time": "2022-03-08T21:52:57.920Z"
   },
   {
    "duration": 12,
    "start_time": "2022-03-08T21:52:58.135Z"
   },
   {
    "duration": 6,
    "start_time": "2022-03-08T21:52:58.150Z"
   },
   {
    "duration": 5033,
    "start_time": "2022-03-08T21:52:58.158Z"
   },
   {
    "duration": 6,
    "start_time": "2022-03-08T21:53:03.193Z"
   },
   {
    "duration": 16,
    "start_time": "2022-03-08T21:53:03.201Z"
   },
   {
    "duration": 23,
    "start_time": "2022-03-08T21:53:03.219Z"
   },
   {
    "duration": 63,
    "start_time": "2022-03-08T21:53:03.244Z"
   },
   {
    "duration": 25,
    "start_time": "2022-03-08T21:53:03.310Z"
   },
   {
    "duration": 53,
    "start_time": "2022-03-08T21:53:03.338Z"
   },
   {
    "duration": 105,
    "start_time": "2022-03-08T21:53:03.394Z"
   },
   {
    "duration": 94,
    "start_time": "2022-03-08T21:53:03.501Z"
   },
   {
    "duration": 9,
    "start_time": "2022-03-08T21:53:03.597Z"
   },
   {
    "duration": 11,
    "start_time": "2022-03-08T21:53:03.609Z"
   },
   {
    "duration": 10,
    "start_time": "2022-03-08T21:53:03.624Z"
   },
   {
    "duration": 156,
    "start_time": "2022-03-08T21:53:03.638Z"
   },
   {
    "duration": 263,
    "start_time": "2022-03-08T21:53:03.798Z"
   },
   {
    "duration": 4,
    "start_time": "2022-03-08T21:53:04.063Z"
   },
   {
    "duration": 24,
    "start_time": "2022-03-08T21:53:04.070Z"
   },
   {
    "duration": 5,
    "start_time": "2022-03-08T21:55:09.800Z"
   },
   {
    "duration": 1437,
    "start_time": "2022-03-08T21:58:43.697Z"
   },
   {
    "duration": 456,
    "start_time": "2022-03-08T21:58:45.137Z"
   },
   {
    "duration": 24,
    "start_time": "2022-03-08T21:58:45.596Z"
   },
   {
    "duration": 20,
    "start_time": "2022-03-08T21:58:45.623Z"
   },
   {
    "duration": 47,
    "start_time": "2022-03-08T21:58:45.646Z"
   },
   {
    "duration": 11,
    "start_time": "2022-03-08T21:58:45.695Z"
   },
   {
    "duration": 134,
    "start_time": "2022-03-08T21:58:45.708Z"
   },
   {
    "duration": 25,
    "start_time": "2022-03-08T21:58:45.845Z"
   },
   {
    "duration": 200,
    "start_time": "2022-03-08T21:58:45.887Z"
   },
   {
    "duration": 11,
    "start_time": "2022-03-08T21:58:46.090Z"
   },
   {
    "duration": 12,
    "start_time": "2022-03-08T21:58:46.104Z"
   },
   {
    "duration": 5074,
    "start_time": "2022-03-08T21:58:46.118Z"
   },
   {
    "duration": 6,
    "start_time": "2022-03-08T21:58:51.194Z"
   },
   {
    "duration": 4,
    "start_time": "2022-03-08T21:58:51.202Z"
   },
   {
    "duration": 15,
    "start_time": "2022-03-08T21:58:51.209Z"
   },
   {
    "duration": 89,
    "start_time": "2022-03-08T21:58:51.227Z"
   },
   {
    "duration": 25,
    "start_time": "2022-03-08T21:58:51.319Z"
   },
   {
    "duration": 142,
    "start_time": "2022-03-08T21:58:51.347Z"
   },
   {
    "duration": 98,
    "start_time": "2022-03-08T21:58:51.492Z"
   },
   {
    "duration": 7,
    "start_time": "2022-03-08T21:58:51.592Z"
   },
   {
    "duration": 5,
    "start_time": "2022-03-08T21:58:51.602Z"
   },
   {
    "duration": 6,
    "start_time": "2022-03-08T21:58:51.609Z"
   },
   {
    "duration": 4,
    "start_time": "2022-03-08T21:58:51.619Z"
   },
   {
    "duration": 69,
    "start_time": "2022-03-08T21:58:51.625Z"
   },
   {
    "duration": 269,
    "start_time": "2022-03-08T21:58:51.699Z"
   },
   {
    "duration": 4,
    "start_time": "2022-03-08T21:58:51.970Z"
   },
   {
    "duration": 14,
    "start_time": "2022-03-08T21:58:51.977Z"
   },
   {
    "duration": 5,
    "start_time": "2022-03-08T21:59:04.785Z"
   },
   {
    "duration": 5,
    "start_time": "2022-03-08T21:59:13.372Z"
   },
   {
    "duration": 5,
    "start_time": "2022-03-08T21:59:19.393Z"
   },
   {
    "duration": 362,
    "start_time": "2022-03-08T22:01:58.627Z"
   },
   {
    "duration": 5,
    "start_time": "2022-03-08T22:02:13.058Z"
   },
   {
    "duration": 5,
    "start_time": "2022-03-08T22:02:19.784Z"
   },
   {
    "duration": 5,
    "start_time": "2022-03-08T22:06:28.765Z"
   },
   {
    "duration": 1375,
    "start_time": "2022-03-08T22:07:44.935Z"
   },
   {
    "duration": 465,
    "start_time": "2022-03-08T22:07:46.312Z"
   },
   {
    "duration": 22,
    "start_time": "2022-03-08T22:07:46.780Z"
   },
   {
    "duration": 17,
    "start_time": "2022-03-08T22:07:46.804Z"
   },
   {
    "duration": 16,
    "start_time": "2022-03-08T22:07:46.823Z"
   },
   {
    "duration": 8,
    "start_time": "2022-03-08T22:07:46.842Z"
   },
   {
    "duration": 160,
    "start_time": "2022-03-08T22:07:46.853Z"
   },
   {
    "duration": 25,
    "start_time": "2022-03-08T22:07:47.017Z"
   },
   {
    "duration": 219,
    "start_time": "2022-03-08T22:07:47.045Z"
   },
   {
    "duration": 25,
    "start_time": "2022-03-08T22:07:47.266Z"
   },
   {
    "duration": 14,
    "start_time": "2022-03-08T22:07:47.293Z"
   },
   {
    "duration": 5152,
    "start_time": "2022-03-08T22:07:47.310Z"
   },
   {
    "duration": 7,
    "start_time": "2022-03-08T22:07:52.464Z"
   },
   {
    "duration": 6,
    "start_time": "2022-03-08T22:07:52.488Z"
   },
   {
    "duration": 15,
    "start_time": "2022-03-08T22:07:52.497Z"
   },
   {
    "duration": 50,
    "start_time": "2022-03-08T22:07:52.514Z"
   },
   {
    "duration": 27,
    "start_time": "2022-03-08T22:07:52.586Z"
   },
   {
    "duration": 72,
    "start_time": "2022-03-08T22:07:52.615Z"
   },
   {
    "duration": 97,
    "start_time": "2022-03-08T22:07:52.693Z"
   },
   {
    "duration": 7,
    "start_time": "2022-03-08T22:07:52.793Z"
   },
   {
    "duration": 4,
    "start_time": "2022-03-08T22:07:52.802Z"
   },
   {
    "duration": 8,
    "start_time": "2022-03-08T22:07:52.808Z"
   },
   {
    "duration": 3,
    "start_time": "2022-03-08T22:07:52.820Z"
   },
   {
    "duration": 69,
    "start_time": "2022-03-08T22:07:52.826Z"
   },
   {
    "duration": 184,
    "start_time": "2022-03-08T22:07:52.988Z"
   },
   {
    "duration": 12,
    "start_time": "2022-03-08T22:07:53.175Z"
   },
   {
    "duration": 10,
    "start_time": "2022-03-08T22:07:53.189Z"
   },
   {
    "duration": 6,
    "start_time": "2022-03-08T22:07:53.201Z"
   },
   {
    "duration": 7,
    "start_time": "2022-03-08T22:07:53.209Z"
   },
   {
    "duration": 7,
    "start_time": "2022-03-08T22:07:53.219Z"
   },
   {
    "duration": 4,
    "start_time": "2022-03-08T22:08:45.506Z"
   },
   {
    "duration": 1422,
    "start_time": "2022-03-08T22:08:51.676Z"
   },
   {
    "duration": 455,
    "start_time": "2022-03-08T22:08:53.101Z"
   },
   {
    "duration": 27,
    "start_time": "2022-03-08T22:08:53.559Z"
   },
   {
    "duration": 17,
    "start_time": "2022-03-08T22:08:53.590Z"
   },
   {
    "duration": 17,
    "start_time": "2022-03-08T22:08:53.610Z"
   },
   {
    "duration": 4,
    "start_time": "2022-03-08T22:08:53.630Z"
   },
   {
    "duration": 169,
    "start_time": "2022-03-08T22:08:53.638Z"
   },
   {
    "duration": 26,
    "start_time": "2022-03-08T22:08:53.813Z"
   },
   {
    "duration": 210,
    "start_time": "2022-03-08T22:08:53.841Z"
   },
   {
    "duration": 12,
    "start_time": "2022-03-08T22:08:54.053Z"
   },
   {
    "duration": 21,
    "start_time": "2022-03-08T22:08:54.067Z"
   },
   {
    "duration": 4957,
    "start_time": "2022-03-08T22:08:54.090Z"
   },
   {
    "duration": 7,
    "start_time": "2022-03-08T22:08:59.049Z"
   },
   {
    "duration": 13,
    "start_time": "2022-03-08T22:08:59.058Z"
   },
   {
    "duration": 26,
    "start_time": "2022-03-08T22:08:59.074Z"
   },
   {
    "duration": 50,
    "start_time": "2022-03-08T22:08:59.102Z"
   },
   {
    "duration": 42,
    "start_time": "2022-03-08T22:08:59.154Z"
   },
   {
    "duration": 11,
    "start_time": "2022-03-08T22:08:59.199Z"
   },
   {
    "duration": 108,
    "start_time": "2022-03-08T22:08:59.289Z"
   },
   {
    "duration": 11,
    "start_time": "2022-03-08T22:08:59.400Z"
   },
   {
    "duration": 7,
    "start_time": "2022-03-08T22:08:59.413Z"
   },
   {
    "duration": 9,
    "start_time": "2022-03-08T22:08:59.422Z"
   },
   {
    "duration": 6,
    "start_time": "2022-03-08T22:08:59.435Z"
   },
   {
    "duration": 48,
    "start_time": "2022-03-08T22:08:59.443Z"
   },
   {
    "duration": 272,
    "start_time": "2022-03-08T22:08:59.494Z"
   },
   {
    "duration": 4,
    "start_time": "2022-03-08T22:08:59.768Z"
   },
   {
    "duration": 6,
    "start_time": "2022-03-08T22:08:59.787Z"
   },
   {
    "duration": 9,
    "start_time": "2022-03-08T22:08:59.796Z"
   },
   {
    "duration": 8,
    "start_time": "2022-03-08T22:08:59.807Z"
   },
   {
    "duration": 5,
    "start_time": "2022-03-08T22:08:59.817Z"
   },
   {
    "duration": 1524,
    "start_time": "2022-03-08T22:13:26.371Z"
   },
   {
    "duration": 452,
    "start_time": "2022-03-08T22:13:27.898Z"
   },
   {
    "duration": 20,
    "start_time": "2022-03-08T22:13:28.353Z"
   },
   {
    "duration": 16,
    "start_time": "2022-03-08T22:13:28.387Z"
   },
   {
    "duration": 29,
    "start_time": "2022-03-08T22:13:28.406Z"
   },
   {
    "duration": 16,
    "start_time": "2022-03-08T22:13:28.437Z"
   },
   {
    "duration": 151,
    "start_time": "2022-03-08T22:13:28.455Z"
   },
   {
    "duration": 25,
    "start_time": "2022-03-08T22:13:28.609Z"
   },
   {
    "duration": 200,
    "start_time": "2022-03-08T22:13:28.637Z"
   },
   {
    "duration": 12,
    "start_time": "2022-03-08T22:13:28.839Z"
   },
   {
    "duration": 27,
    "start_time": "2022-03-08T22:13:28.853Z"
   },
   {
    "duration": 5050,
    "start_time": "2022-03-08T22:13:28.882Z"
   },
   {
    "duration": 6,
    "start_time": "2022-03-08T22:13:33.934Z"
   },
   {
    "duration": 4,
    "start_time": "2022-03-08T22:13:33.942Z"
   },
   {
    "duration": 30,
    "start_time": "2022-03-08T22:13:33.948Z"
   },
   {
    "duration": 46,
    "start_time": "2022-03-08T22:13:33.987Z"
   },
   {
    "duration": 26,
    "start_time": "2022-03-08T22:13:34.035Z"
   },
   {
    "duration": 31,
    "start_time": "2022-03-08T22:13:34.063Z"
   },
   {
    "duration": 98,
    "start_time": "2022-03-08T22:13:34.099Z"
   },
   {
    "duration": 8,
    "start_time": "2022-03-08T22:13:34.288Z"
   },
   {
    "duration": 19,
    "start_time": "2022-03-08T22:13:34.298Z"
   },
   {
    "duration": 17,
    "start_time": "2022-03-08T22:13:34.319Z"
   },
   {
    "duration": 12,
    "start_time": "2022-03-08T22:13:34.340Z"
   },
   {
    "duration": 40,
    "start_time": "2022-03-08T22:13:34.354Z"
   },
   {
    "duration": 269,
    "start_time": "2022-03-08T22:13:34.397Z"
   },
   {
    "duration": 4,
    "start_time": "2022-03-08T22:13:34.669Z"
   },
   {
    "duration": 29,
    "start_time": "2022-03-08T22:13:34.688Z"
   },
   {
    "duration": 13,
    "start_time": "2022-03-08T22:13:34.720Z"
   },
   {
    "duration": 28,
    "start_time": "2022-03-08T22:13:34.735Z"
   },
   {
    "duration": 25,
    "start_time": "2022-03-08T22:13:34.766Z"
   },
   {
    "duration": 1105,
    "start_time": "2022-03-09T18:44:01.779Z"
   },
   {
    "duration": 323,
    "start_time": "2022-03-09T18:44:02.886Z"
   },
   {
    "duration": 12,
    "start_time": "2022-03-09T18:44:03.211Z"
   },
   {
    "duration": 10,
    "start_time": "2022-03-09T18:44:03.225Z"
   },
   {
    "duration": 13,
    "start_time": "2022-03-09T18:44:03.236Z"
   },
   {
    "duration": 4,
    "start_time": "2022-03-09T18:44:03.250Z"
   },
   {
    "duration": 97,
    "start_time": "2022-03-09T18:44:03.256Z"
   },
   {
    "duration": 17,
    "start_time": "2022-03-09T18:44:03.355Z"
   },
   {
    "duration": 101,
    "start_time": "2022-03-09T18:44:03.374Z"
   },
   {
    "duration": 7,
    "start_time": "2022-03-09T18:44:03.477Z"
   },
   {
    "duration": 4,
    "start_time": "2022-03-09T18:44:03.486Z"
   },
   {
    "duration": 2758,
    "start_time": "2022-03-09T18:44:03.491Z"
   },
   {
    "duration": 5,
    "start_time": "2022-03-09T18:44:06.251Z"
   },
   {
    "duration": 4,
    "start_time": "2022-03-09T18:44:06.258Z"
   },
   {
    "duration": 12,
    "start_time": "2022-03-09T18:44:06.264Z"
   },
   {
    "duration": 60,
    "start_time": "2022-03-09T18:44:06.277Z"
   },
   {
    "duration": 20,
    "start_time": "2022-03-09T18:44:06.338Z"
   },
   {
    "duration": 49,
    "start_time": "2022-03-09T18:44:06.360Z"
   },
   {
    "duration": 99,
    "start_time": "2022-03-09T18:44:06.411Z"
   },
   {
    "duration": 98,
    "start_time": "2022-03-09T18:44:06.512Z"
   },
   {
    "duration": 6,
    "start_time": "2022-03-09T18:44:06.611Z"
   },
   {
    "duration": 5,
    "start_time": "2022-03-09T18:44:06.618Z"
   },
   {
    "duration": 2,
    "start_time": "2022-03-09T18:44:06.627Z"
   },
   {
    "duration": 76,
    "start_time": "2022-03-09T18:44:06.631Z"
   },
   {
    "duration": 243,
    "start_time": "2022-03-09T18:44:06.710Z"
   },
   {
    "duration": 4,
    "start_time": "2022-03-09T18:44:06.955Z"
   },
   {
    "duration": 7,
    "start_time": "2022-03-09T18:44:06.961Z"
   },
   {
    "duration": 7,
    "start_time": "2022-03-09T18:44:06.970Z"
   },
   {
    "duration": 17,
    "start_time": "2022-03-09T18:44:06.978Z"
   },
   {
    "duration": 3,
    "start_time": "2022-03-09T18:44:07.006Z"
   },
   {
    "duration": 1023,
    "start_time": "2022-03-09T18:47:47.125Z"
   },
   {
    "duration": 314,
    "start_time": "2022-03-09T18:47:48.150Z"
   },
   {
    "duration": 13,
    "start_time": "2022-03-09T18:47:48.466Z"
   },
   {
    "duration": 10,
    "start_time": "2022-03-09T18:47:48.481Z"
   },
   {
    "duration": 22,
    "start_time": "2022-03-09T18:47:48.492Z"
   },
   {
    "duration": 3,
    "start_time": "2022-03-09T18:47:48.515Z"
   },
   {
    "duration": 95,
    "start_time": "2022-03-09T18:47:48.520Z"
   },
   {
    "duration": 17,
    "start_time": "2022-03-09T18:47:48.618Z"
   },
   {
    "duration": 105,
    "start_time": "2022-03-09T18:47:48.637Z"
   },
   {
    "duration": 7,
    "start_time": "2022-03-09T18:47:48.744Z"
   },
   {
    "duration": 4,
    "start_time": "2022-03-09T18:47:48.753Z"
   },
   {
    "duration": 2528,
    "start_time": "2022-03-09T18:47:48.759Z"
   },
   {
    "duration": 5,
    "start_time": "2022-03-09T18:47:51.289Z"
   },
   {
    "duration": 3,
    "start_time": "2022-03-09T18:47:51.305Z"
   },
   {
    "duration": 10,
    "start_time": "2022-03-09T18:47:51.310Z"
   },
   {
    "duration": 34,
    "start_time": "2022-03-09T18:47:51.321Z"
   },
   {
    "duration": 17,
    "start_time": "2022-03-09T18:47:51.356Z"
   },
   {
    "duration": 33,
    "start_time": "2022-03-09T18:47:51.374Z"
   },
   {
    "duration": 97,
    "start_time": "2022-03-09T18:47:51.409Z"
   },
   {
    "duration": 101,
    "start_time": "2022-03-09T18:47:51.508Z"
   },
   {
    "duration": 4,
    "start_time": "2022-03-09T18:47:51.610Z"
   },
   {
    "duration": 5,
    "start_time": "2022-03-09T18:47:51.616Z"
   },
   {
    "duration": 3,
    "start_time": "2022-03-09T18:47:51.623Z"
   },
   {
    "duration": 77,
    "start_time": "2022-03-09T18:47:51.628Z"
   },
   {
    "duration": 151,
    "start_time": "2022-03-09T18:47:51.711Z"
   },
   {
    "duration": 8,
    "start_time": "2022-03-09T18:47:51.864Z"
   },
   {
    "duration": 6,
    "start_time": "2022-03-09T18:47:51.874Z"
   },
   {
    "duration": 4,
    "start_time": "2022-03-09T18:47:51.882Z"
   },
   {
    "duration": 6,
    "start_time": "2022-03-09T18:47:51.887Z"
   },
   {
    "duration": 3,
    "start_time": "2022-03-09T18:47:51.905Z"
   },
   {
    "duration": 5,
    "start_time": "2022-03-09T18:47:51.909Z"
   },
   {
    "duration": 3,
    "start_time": "2022-03-09T18:50:12.472Z"
   },
   {
    "duration": 3,
    "start_time": "2022-03-09T18:52:59.700Z"
   },
   {
    "duration": 109,
    "start_time": "2022-03-09T19:05:25.595Z"
   },
   {
    "duration": 4,
    "start_time": "2022-03-09T19:05:34.121Z"
   },
   {
    "duration": 1054,
    "start_time": "2022-03-09T19:08:59.428Z"
   },
   {
    "duration": 341,
    "start_time": "2022-03-09T19:09:00.483Z"
   },
   {
    "duration": 13,
    "start_time": "2022-03-09T19:09:00.826Z"
   },
   {
    "duration": 20,
    "start_time": "2022-03-09T19:09:00.840Z"
   },
   {
    "duration": 17,
    "start_time": "2022-03-09T19:09:00.862Z"
   },
   {
    "duration": 13,
    "start_time": "2022-03-09T19:09:00.880Z"
   },
   {
    "duration": 94,
    "start_time": "2022-03-09T19:09:00.894Z"
   },
   {
    "duration": 21,
    "start_time": "2022-03-09T19:09:00.991Z"
   },
   {
    "duration": 104,
    "start_time": "2022-03-09T19:09:01.014Z"
   },
   {
    "duration": 8,
    "start_time": "2022-03-09T19:09:01.119Z"
   },
   {
    "duration": 11,
    "start_time": "2022-03-09T19:09:01.129Z"
   },
   {
    "duration": 2893,
    "start_time": "2022-03-09T19:09:01.142Z"
   },
   {
    "duration": 4,
    "start_time": "2022-03-09T19:09:04.037Z"
   },
   {
    "duration": 13,
    "start_time": "2022-03-09T19:09:04.042Z"
   },
   {
    "duration": 14,
    "start_time": "2022-03-09T19:09:04.057Z"
   },
   {
    "duration": 44,
    "start_time": "2022-03-09T19:09:04.072Z"
   },
   {
    "duration": 17,
    "start_time": "2022-03-09T19:09:04.118Z"
   },
   {
    "duration": 73,
    "start_time": "2022-03-09T19:09:04.136Z"
   },
   {
    "duration": 97,
    "start_time": "2022-03-09T19:09:04.211Z"
   },
   {
    "duration": 7,
    "start_time": "2022-03-09T19:09:04.310Z"
   },
   {
    "duration": 8,
    "start_time": "2022-03-09T19:09:04.318Z"
   },
   {
    "duration": 8,
    "start_time": "2022-03-09T19:09:04.328Z"
   },
   {
    "duration": 4,
    "start_time": "2022-03-09T19:09:04.339Z"
   },
   {
    "duration": 69,
    "start_time": "2022-03-09T19:09:04.345Z"
   },
   {
    "duration": 163,
    "start_time": "2022-03-09T19:09:04.507Z"
   },
   {
    "duration": 4,
    "start_time": "2022-03-09T19:09:04.672Z"
   },
   {
    "duration": 6,
    "start_time": "2022-03-09T19:09:04.677Z"
   },
   {
    "duration": 21,
    "start_time": "2022-03-09T19:09:04.684Z"
   },
   {
    "duration": 3,
    "start_time": "2022-03-09T19:09:04.707Z"
   },
   {
    "duration": 5,
    "start_time": "2022-03-09T19:09:04.712Z"
   },
   {
    "duration": 4,
    "start_time": "2022-03-09T19:09:04.719Z"
   },
   {
    "duration": 6,
    "start_time": "2022-03-09T19:09:04.724Z"
   },
   {
    "duration": 5,
    "start_time": "2022-03-09T19:09:04.731Z"
   },
   {
    "duration": 11,
    "start_time": "2022-03-09T19:09:04.738Z"
   },
   {
    "duration": 9,
    "start_time": "2022-03-09T19:09:04.751Z"
   },
   {
    "duration": 405,
    "start_time": "2022-03-09T19:09:20.152Z"
   },
   {
    "duration": 290,
    "start_time": "2022-03-09T19:09:34.255Z"
   },
   {
    "duration": 341,
    "start_time": "2022-03-09T19:09:50.810Z"
   },
   {
    "duration": 304,
    "start_time": "2022-03-09T19:10:02.809Z"
   },
   {
    "duration": 577,
    "start_time": "2022-03-09T19:10:51.977Z"
   },
   {
    "duration": 594,
    "start_time": "2022-03-09T19:11:26.161Z"
   },
   {
    "duration": 3,
    "start_time": "2022-03-09T19:12:13.354Z"
   },
   {
    "duration": 584,
    "start_time": "2022-03-09T19:12:17.078Z"
   },
   {
    "duration": 3,
    "start_time": "2022-03-09T19:12:42.035Z"
   },
   {
    "duration": 563,
    "start_time": "2022-03-09T19:12:43.251Z"
   },
   {
    "duration": 113,
    "start_time": "2022-03-09T19:13:01.779Z"
   },
   {
    "duration": 3,
    "start_time": "2022-03-09T19:13:22.397Z"
   },
   {
    "duration": 1528,
    "start_time": "2022-03-09T19:13:23.274Z"
   },
   {
    "duration": 5,
    "start_time": "2022-03-09T19:13:51.331Z"
   },
   {
    "duration": 2650,
    "start_time": "2022-03-09T19:13:52.235Z"
   },
   {
    "duration": 1073,
    "start_time": "2022-03-09T19:17:29.805Z"
   },
   {
    "duration": 329,
    "start_time": "2022-03-09T19:17:30.880Z"
   },
   {
    "duration": 16,
    "start_time": "2022-03-09T19:17:31.212Z"
   },
   {
    "duration": 11,
    "start_time": "2022-03-09T19:17:31.229Z"
   },
   {
    "duration": 14,
    "start_time": "2022-03-09T19:17:31.241Z"
   },
   {
    "duration": 11,
    "start_time": "2022-03-09T19:17:31.256Z"
   },
   {
    "duration": 97,
    "start_time": "2022-03-09T19:17:31.268Z"
   },
   {
    "duration": 16,
    "start_time": "2022-03-09T19:17:31.367Z"
   },
   {
    "duration": 106,
    "start_time": "2022-03-09T19:17:31.385Z"
   },
   {
    "duration": 12,
    "start_time": "2022-03-09T19:17:31.493Z"
   },
   {
    "duration": 6,
    "start_time": "2022-03-09T19:17:31.507Z"
   },
   {
    "duration": 2591,
    "start_time": "2022-03-09T19:17:31.514Z"
   },
   {
    "duration": 4,
    "start_time": "2022-03-09T19:17:34.106Z"
   },
   {
    "duration": 3,
    "start_time": "2022-03-09T19:17:34.112Z"
   },
   {
    "duration": 14,
    "start_time": "2022-03-09T19:17:34.116Z"
   },
   {
    "duration": 35,
    "start_time": "2022-03-09T19:17:34.131Z"
   },
   {
    "duration": 17,
    "start_time": "2022-03-09T19:17:34.168Z"
   },
   {
    "duration": 23,
    "start_time": "2022-03-09T19:17:34.186Z"
   },
   {
    "duration": 12,
    "start_time": "2022-03-09T19:17:34.212Z"
   },
   {
    "duration": 86,
    "start_time": "2022-03-09T19:17:34.226Z"
   },
   {
    "duration": 93,
    "start_time": "2022-03-09T19:17:34.314Z"
   },
   {
    "duration": 7,
    "start_time": "2022-03-09T19:17:34.408Z"
   },
   {
    "duration": 3,
    "start_time": "2022-03-09T19:17:34.418Z"
   },
   {
    "duration": 16,
    "start_time": "2022-03-09T19:17:34.423Z"
   },
   {
    "duration": 156,
    "start_time": "2022-03-09T19:17:34.506Z"
   },
   {
    "duration": 3,
    "start_time": "2022-03-09T19:17:34.663Z"
   },
   {
    "duration": 8,
    "start_time": "2022-03-09T19:17:34.668Z"
   },
   {
    "duration": 5,
    "start_time": "2022-03-09T19:17:34.678Z"
   },
   {
    "duration": 21,
    "start_time": "2022-03-09T19:17:34.684Z"
   },
   {
    "duration": 4,
    "start_time": "2022-03-09T19:17:34.706Z"
   },
   {
    "duration": 3,
    "start_time": "2022-03-09T19:17:34.711Z"
   },
   {
    "duration": 5,
    "start_time": "2022-03-09T19:17:34.715Z"
   },
   {
    "duration": 4,
    "start_time": "2022-03-09T19:17:34.721Z"
   },
   {
    "duration": 9,
    "start_time": "2022-03-09T19:17:34.727Z"
   },
   {
    "duration": 2653,
    "start_time": "2022-03-09T19:17:34.737Z"
   },
   {
    "duration": 1085,
    "start_time": "2022-03-09T19:32:14.304Z"
   },
   {
    "duration": 327,
    "start_time": "2022-03-09T19:32:15.391Z"
   },
   {
    "duration": 14,
    "start_time": "2022-03-09T19:32:15.720Z"
   },
   {
    "duration": 9,
    "start_time": "2022-03-09T19:32:15.736Z"
   },
   {
    "duration": 10,
    "start_time": "2022-03-09T19:32:15.746Z"
   },
   {
    "duration": 4,
    "start_time": "2022-03-09T19:32:15.757Z"
   },
   {
    "duration": 101,
    "start_time": "2022-03-09T19:32:15.762Z"
   },
   {
    "duration": 16,
    "start_time": "2022-03-09T19:32:15.866Z"
   },
   {
    "duration": 106,
    "start_time": "2022-03-09T19:32:15.884Z"
   },
   {
    "duration": 18,
    "start_time": "2022-03-09T19:32:15.991Z"
   },
   {
    "duration": 6,
    "start_time": "2022-03-09T19:32:16.010Z"
   },
   {
    "duration": 2580,
    "start_time": "2022-03-09T19:32:16.017Z"
   },
   {
    "duration": 5,
    "start_time": "2022-03-09T19:32:18.605Z"
   },
   {
    "duration": 3,
    "start_time": "2022-03-09T19:32:18.611Z"
   },
   {
    "duration": 12,
    "start_time": "2022-03-09T19:32:18.615Z"
   },
   {
    "duration": 37,
    "start_time": "2022-03-09T19:32:18.628Z"
   },
   {
    "duration": 17,
    "start_time": "2022-03-09T19:32:18.666Z"
   },
   {
    "duration": 32,
    "start_time": "2022-03-09T19:32:18.685Z"
   },
   {
    "duration": 92,
    "start_time": "2022-03-09T19:32:18.719Z"
   },
   {
    "duration": 95,
    "start_time": "2022-03-09T19:32:18.813Z"
   },
   {
    "duration": 6,
    "start_time": "2022-03-09T19:32:18.910Z"
   },
   {
    "duration": 6,
    "start_time": "2022-03-09T19:32:18.917Z"
   },
   {
    "duration": 6,
    "start_time": "2022-03-09T19:32:18.926Z"
   },
   {
    "duration": 74,
    "start_time": "2022-03-09T19:32:18.934Z"
   },
   {
    "duration": 225,
    "start_time": "2022-03-09T19:32:19.010Z"
   },
   {
    "duration": 2,
    "start_time": "2022-03-09T19:32:19.237Z"
   },
   {
    "duration": 6,
    "start_time": "2022-03-09T19:32:19.241Z"
   },
   {
    "duration": 5,
    "start_time": "2022-03-09T19:32:19.248Z"
   },
   {
    "duration": 5,
    "start_time": "2022-03-09T19:32:19.254Z"
   },
   {
    "duration": 4,
    "start_time": "2022-03-09T19:32:19.260Z"
   },
   {
    "duration": 4,
    "start_time": "2022-03-09T19:32:19.265Z"
   },
   {
    "duration": 4,
    "start_time": "2022-03-09T19:32:19.270Z"
   },
   {
    "duration": 30,
    "start_time": "2022-03-09T19:32:19.276Z"
   },
   {
    "duration": 4,
    "start_time": "2022-03-09T19:32:19.307Z"
   },
   {
    "duration": 2595,
    "start_time": "2022-03-09T19:32:19.312Z"
   },
   {
    "duration": 1243,
    "start_time": "2022-03-09T23:20:07.489Z"
   },
   {
    "duration": 387,
    "start_time": "2022-03-09T23:20:08.734Z"
   },
   {
    "duration": 16,
    "start_time": "2022-03-09T23:20:09.123Z"
   },
   {
    "duration": 13,
    "start_time": "2022-03-09T23:20:09.362Z"
   },
   {
    "duration": 13,
    "start_time": "2022-03-09T23:20:09.991Z"
   },
   {
    "duration": 3,
    "start_time": "2022-03-09T23:20:11.300Z"
   },
   {
    "duration": 111,
    "start_time": "2022-03-09T23:20:11.799Z"
   },
   {
    "duration": 21,
    "start_time": "2022-03-09T23:20:12.576Z"
   },
   {
    "duration": 130,
    "start_time": "2022-03-09T23:20:12.803Z"
   },
   {
    "duration": 10,
    "start_time": "2022-03-09T23:20:13.617Z"
   },
   {
    "duration": 3,
    "start_time": "2022-03-09T23:20:14.023Z"
   },
   {
    "duration": 3150,
    "start_time": "2022-03-09T23:20:14.236Z"
   },
   {
    "duration": 14,
    "start_time": "2022-03-09T23:20:17.388Z"
   },
   {
    "duration": 3,
    "start_time": "2022-03-09T23:22:33.557Z"
   },
   {
    "duration": 12,
    "start_time": "2022-03-09T23:22:33.971Z"
   },
   {
    "duration": 42,
    "start_time": "2022-03-09T23:22:34.146Z"
   },
   {
    "duration": 24,
    "start_time": "2022-03-09T23:22:34.579Z"
   },
   {
    "duration": 8,
    "start_time": "2022-03-09T23:22:35.083Z"
   },
   {
    "duration": 6,
    "start_time": "2022-03-09T23:22:35.589Z"
   },
   {
    "duration": 6,
    "start_time": "2022-03-09T23:22:36.271Z"
   },
   {
    "duration": 4,
    "start_time": "2022-03-09T23:22:37.763Z"
   },
   {
    "duration": 4,
    "start_time": "2022-03-09T23:22:37.988Z"
   },
   {
    "duration": 3,
    "start_time": "2022-03-09T23:24:21.376Z"
   },
   {
    "duration": 83,
    "start_time": "2022-03-09T23:24:22.619Z"
   },
   {
    "duration": 76,
    "start_time": "2022-03-09T23:24:23.116Z"
   },
   {
    "duration": 4,
    "start_time": "2022-03-09T23:24:23.871Z"
   },
   {
    "duration": 5,
    "start_time": "2022-03-09T23:24:25.532Z"
   },
   {
    "duration": 4,
    "start_time": "2022-03-09T23:28:04.593Z"
   },
   {
    "duration": 4,
    "start_time": "2022-03-09T23:28:05.251Z"
   },
   {
    "duration": 5,
    "start_time": "2022-03-09T23:28:10.940Z"
   },
   {
    "duration": 3,
    "start_time": "2022-03-09T23:28:16.053Z"
   },
   {
    "duration": 4,
    "start_time": "2022-03-09T23:28:16.275Z"
   },
   {
    "duration": 4,
    "start_time": "2022-03-09T23:28:17.213Z"
   },
   {
    "duration": 4,
    "start_time": "2022-03-09T23:28:17.658Z"
   },
   {
    "duration": 3036,
    "start_time": "2022-03-09T23:28:24.180Z"
   },
   {
    "duration": 294,
    "start_time": "2022-03-10T17:47:18.984Z"
   },
   {
    "duration": 1443,
    "start_time": "2022-03-10T17:47:34.713Z"
   },
   {
    "duration": 436,
    "start_time": "2022-03-10T17:47:36.159Z"
   },
   {
    "duration": 21,
    "start_time": "2022-03-10T17:47:36.599Z"
   },
   {
    "duration": 23,
    "start_time": "2022-03-10T17:47:36.623Z"
   },
   {
    "duration": 43,
    "start_time": "2022-03-10T17:47:36.648Z"
   },
   {
    "duration": 11,
    "start_time": "2022-03-10T17:47:36.693Z"
   },
   {
    "duration": 140,
    "start_time": "2022-03-10T17:47:36.706Z"
   },
   {
    "duration": 39,
    "start_time": "2022-03-10T17:47:36.850Z"
   },
   {
    "duration": 216,
    "start_time": "2022-03-10T17:47:36.893Z"
   },
   {
    "duration": 11,
    "start_time": "2022-03-10T17:47:37.111Z"
   },
   {
    "duration": 8,
    "start_time": "2022-03-10T17:47:37.124Z"
   },
   {
    "duration": 5642,
    "start_time": "2022-03-10T17:47:37.134Z"
   },
   {
    "duration": 12,
    "start_time": "2022-03-10T17:47:42.778Z"
   },
   {
    "duration": 15,
    "start_time": "2022-03-10T17:47:42.793Z"
   },
   {
    "duration": 25,
    "start_time": "2022-03-10T17:47:42.810Z"
   },
   {
    "duration": 61,
    "start_time": "2022-03-10T17:47:42.837Z"
   },
   {
    "duration": 24,
    "start_time": "2022-03-10T17:47:42.901Z"
   },
   {
    "duration": 72,
    "start_time": "2022-03-10T17:47:42.928Z"
   },
   {
    "duration": 99,
    "start_time": "2022-03-10T17:47:43.088Z"
   },
   {
    "duration": 8,
    "start_time": "2022-03-10T17:47:43.190Z"
   },
   {
    "duration": 8,
    "start_time": "2022-03-10T17:47:43.201Z"
   },
   {
    "duration": 9,
    "start_time": "2022-03-10T17:47:43.211Z"
   },
   {
    "duration": 12,
    "start_time": "2022-03-10T17:47:43.224Z"
   },
   {
    "duration": 63,
    "start_time": "2022-03-10T17:47:43.239Z"
   },
   {
    "duration": 172,
    "start_time": "2022-03-10T17:47:43.391Z"
   },
   {
    "duration": 5,
    "start_time": "2022-03-10T17:47:43.565Z"
   },
   {
    "duration": 7,
    "start_time": "2022-03-10T17:47:43.587Z"
   },
   {
    "duration": 25,
    "start_time": "2022-03-10T17:47:43.597Z"
   },
   {
    "duration": 5,
    "start_time": "2022-03-10T17:49:52.075Z"
   },
   {
    "duration": 5,
    "start_time": "2022-03-10T17:50:49.427Z"
   },
   {
    "duration": 5,
    "start_time": "2022-03-10T17:52:58.633Z"
   },
   {
    "duration": 5,
    "start_time": "2022-03-10T17:53:58.102Z"
   },
   {
    "duration": 6,
    "start_time": "2022-03-10T17:55:04.237Z"
   },
   {
    "duration": 5,
    "start_time": "2022-03-10T18:04:05.026Z"
   },
   {
    "duration": 479,
    "start_time": "2022-03-10T18:04:05.034Z"
   },
   {
    "duration": 17,
    "start_time": "2022-03-10T18:04:05.517Z"
   },
   {
    "duration": 20,
    "start_time": "2022-03-10T18:04:05.537Z"
   },
   {
    "duration": 39,
    "start_time": "2022-03-10T18:04:05.559Z"
   },
   {
    "duration": 9,
    "start_time": "2022-03-10T18:04:05.600Z"
   },
   {
    "duration": 133,
    "start_time": "2022-03-10T18:04:05.611Z"
   },
   {
    "duration": 43,
    "start_time": "2022-03-10T18:04:05.747Z"
   },
   {
    "duration": 196,
    "start_time": "2022-03-10T18:04:05.794Z"
   },
   {
    "duration": 12,
    "start_time": "2022-03-10T18:04:05.992Z"
   },
   {
    "duration": 7,
    "start_time": "2022-03-10T18:04:06.006Z"
   },
   {
    "duration": 5138,
    "start_time": "2022-03-10T18:04:06.015Z"
   },
   {
    "duration": 6,
    "start_time": "2022-03-10T18:04:11.155Z"
   },
   {
    "duration": 22,
    "start_time": "2022-03-10T18:04:11.164Z"
   },
   {
    "duration": 27,
    "start_time": "2022-03-10T18:04:11.188Z"
   },
   {
    "duration": 50,
    "start_time": "2022-03-10T18:04:11.218Z"
   },
   {
    "duration": 23,
    "start_time": "2022-03-10T18:04:11.271Z"
   },
   {
    "duration": 11,
    "start_time": "2022-03-10T18:04:11.297Z"
   },
   {
    "duration": 180,
    "start_time": "2022-03-10T18:04:11.311Z"
   },
   {
    "duration": 18,
    "start_time": "2022-03-10T18:04:11.493Z"
   },
   {
    "duration": 7,
    "start_time": "2022-03-10T18:04:11.514Z"
   },
   {
    "duration": 8,
    "start_time": "2022-03-10T18:04:11.524Z"
   },
   {
    "duration": 4,
    "start_time": "2022-03-10T18:04:11.536Z"
   },
   {
    "duration": 52,
    "start_time": "2022-03-10T18:04:11.542Z"
   },
   {
    "duration": 171,
    "start_time": "2022-03-10T18:04:11.688Z"
   },
   {
    "duration": 5,
    "start_time": "2022-03-10T18:04:11.861Z"
   },
   {
    "duration": 7,
    "start_time": "2022-03-10T18:04:11.887Z"
   },
   {
    "duration": 5,
    "start_time": "2022-03-10T18:04:11.897Z"
   },
   {
    "duration": 8,
    "start_time": "2022-03-10T18:04:11.905Z"
   },
   {
    "duration": 18,
    "start_time": "2022-03-10T18:04:11.915Z"
   },
   {
    "duration": 10,
    "start_time": "2022-03-10T18:04:11.935Z"
   },
   {
    "duration": 5,
    "start_time": "2022-03-10T18:04:11.948Z"
   },
   {
    "duration": 5,
    "start_time": "2022-03-10T18:04:11.987Z"
   },
   {
    "duration": 7,
    "start_time": "2022-03-10T18:04:11.994Z"
   },
   {
    "duration": 8,
    "start_time": "2022-03-10T18:04:12.004Z"
   },
   {
    "duration": 7,
    "start_time": "2022-03-10T18:04:12.014Z"
   },
   {
    "duration": 4706,
    "start_time": "2022-03-10T18:04:12.024Z"
   },
   {
    "duration": 6,
    "start_time": "2022-03-10T18:20:10.040Z"
   },
   {
    "duration": 5,
    "start_time": "2022-03-10T18:20:39.686Z"
   },
   {
    "duration": 19596,
    "start_time": "2022-03-10T18:32:30.900Z"
   },
   {
    "duration": 19202,
    "start_time": "2022-03-10T18:33:31.975Z"
   },
   {
    "duration": 26654,
    "start_time": "2022-03-10T18:35:32.361Z"
   },
   {
    "duration": 20879,
    "start_time": "2022-03-10T18:37:07.983Z"
   },
   {
    "duration": 1547,
    "start_time": "2022-03-10T18:37:55.381Z"
   },
   {
    "duration": 509,
    "start_time": "2022-03-10T18:37:56.931Z"
   },
   {
    "duration": 21,
    "start_time": "2022-03-10T18:37:57.443Z"
   },
   {
    "duration": 33,
    "start_time": "2022-03-10T18:37:57.467Z"
   },
   {
    "duration": 18,
    "start_time": "2022-03-10T18:37:57.502Z"
   },
   {
    "duration": 4,
    "start_time": "2022-03-10T18:37:57.523Z"
   },
   {
    "duration": 163,
    "start_time": "2022-03-10T18:37:57.531Z"
   },
   {
    "duration": 27,
    "start_time": "2022-03-10T18:37:57.698Z"
   },
   {
    "duration": 226,
    "start_time": "2022-03-10T18:37:57.728Z"
   },
   {
    "duration": 11,
    "start_time": "2022-03-10T18:37:57.957Z"
   },
   {
    "duration": 16,
    "start_time": "2022-03-10T18:37:57.971Z"
   },
   {
    "duration": 5245,
    "start_time": "2022-03-10T18:37:57.991Z"
   },
   {
    "duration": 6,
    "start_time": "2022-03-10T18:38:03.239Z"
   },
   {
    "duration": 3,
    "start_time": "2022-03-10T18:38:03.248Z"
   },
   {
    "duration": 48,
    "start_time": "2022-03-10T18:38:03.254Z"
   },
   {
    "duration": 58,
    "start_time": "2022-03-10T18:38:03.304Z"
   },
   {
    "duration": 56,
    "start_time": "2022-03-10T18:38:03.365Z"
   },
   {
    "duration": 70,
    "start_time": "2022-03-10T18:38:03.424Z"
   },
   {
    "duration": 95,
    "start_time": "2022-03-10T18:38:03.498Z"
   },
   {
    "duration": 93,
    "start_time": "2022-03-10T18:38:03.597Z"
   },
   {
    "duration": 7,
    "start_time": "2022-03-10T18:38:03.693Z"
   },
   {
    "duration": 13,
    "start_time": "2022-03-10T18:38:03.703Z"
   },
   {
    "duration": 12,
    "start_time": "2022-03-10T18:38:03.723Z"
   },
   {
    "duration": 251,
    "start_time": "2022-03-10T18:38:03.739Z"
   },
   {
    "duration": 166,
    "start_time": "2022-03-10T18:38:03.997Z"
   },
   {
    "duration": 5,
    "start_time": "2022-03-10T18:38:04.166Z"
   },
   {
    "duration": 6,
    "start_time": "2022-03-10T18:38:04.187Z"
   },
   {
    "duration": 9,
    "start_time": "2022-03-10T18:38:04.196Z"
   },
   {
    "duration": 10,
    "start_time": "2022-03-10T18:38:04.207Z"
   },
   {
    "duration": 8,
    "start_time": "2022-03-10T18:38:04.220Z"
   },
   {
    "duration": 8,
    "start_time": "2022-03-10T18:38:04.230Z"
   },
   {
    "duration": 7,
    "start_time": "2022-03-10T18:38:04.241Z"
   },
   {
    "duration": 6,
    "start_time": "2022-03-10T18:38:04.290Z"
   },
   {
    "duration": 12,
    "start_time": "2022-03-10T18:38:04.299Z"
   },
   {
    "duration": 8,
    "start_time": "2022-03-10T18:38:04.314Z"
   },
   {
    "duration": 7,
    "start_time": "2022-03-10T18:38:04.325Z"
   },
   {
    "duration": 5190,
    "start_time": "2022-03-10T18:38:04.334Z"
   },
   {
    "duration": 8,
    "start_time": "2022-03-10T18:38:09.527Z"
   },
   {
    "duration": 19684,
    "start_time": "2022-03-10T18:38:09.538Z"
   },
   {
    "duration": 1388,
    "start_time": "2022-03-10T18:44:42.606Z"
   },
   {
    "duration": 445,
    "start_time": "2022-03-10T18:44:43.996Z"
   },
   {
    "duration": 20,
    "start_time": "2022-03-10T18:44:44.444Z"
   },
   {
    "duration": 28,
    "start_time": "2022-03-10T18:44:44.467Z"
   },
   {
    "duration": 19,
    "start_time": "2022-03-10T18:44:44.498Z"
   },
   {
    "duration": 4,
    "start_time": "2022-03-10T18:44:44.519Z"
   },
   {
    "duration": 162,
    "start_time": "2022-03-10T18:44:44.526Z"
   },
   {
    "duration": 26,
    "start_time": "2022-03-10T18:44:44.692Z"
   },
   {
    "duration": 217,
    "start_time": "2022-03-10T18:44:44.721Z"
   },
   {
    "duration": 12,
    "start_time": "2022-03-10T18:44:44.941Z"
   },
   {
    "duration": 8,
    "start_time": "2022-03-10T18:44:44.956Z"
   },
   {
    "duration": 5134,
    "start_time": "2022-03-10T18:44:44.967Z"
   },
   {
    "duration": 7,
    "start_time": "2022-03-10T18:44:50.103Z"
   },
   {
    "duration": 7,
    "start_time": "2022-03-10T18:44:50.112Z"
   },
   {
    "duration": 20,
    "start_time": "2022-03-10T18:44:50.121Z"
   },
   {
    "duration": 74,
    "start_time": "2022-03-10T18:44:50.144Z"
   },
   {
    "duration": 26,
    "start_time": "2022-03-10T18:44:50.221Z"
   },
   {
    "duration": 45,
    "start_time": "2022-03-10T18:44:50.250Z"
   },
   {
    "duration": 11,
    "start_time": "2022-03-10T18:44:50.389Z"
   },
   {
    "duration": 7,
    "start_time": "2022-03-10T18:44:50.488Z"
   },
   {
    "duration": 7,
    "start_time": "2022-03-10T18:44:50.497Z"
   },
   {
    "duration": 7,
    "start_time": "2022-03-10T18:44:50.507Z"
   },
   {
    "duration": 5,
    "start_time": "2022-03-10T18:44:50.519Z"
   },
   {
    "duration": 68,
    "start_time": "2022-03-10T18:44:50.526Z"
   },
   {
    "duration": 270,
    "start_time": "2022-03-10T18:44:50.597Z"
   },
   {
    "duration": 5,
    "start_time": "2022-03-10T18:44:50.869Z"
   },
   {
    "duration": 7,
    "start_time": "2022-03-10T18:44:50.888Z"
   },
   {
    "duration": 24,
    "start_time": "2022-03-10T18:44:50.897Z"
   },
   {
    "duration": 13,
    "start_time": "2022-03-10T18:44:50.923Z"
   },
   {
    "duration": 12,
    "start_time": "2022-03-10T18:44:50.938Z"
   },
   {
    "duration": 8,
    "start_time": "2022-03-10T18:44:50.952Z"
   },
   {
    "duration": 29,
    "start_time": "2022-03-10T18:44:50.962Z"
   },
   {
    "duration": 6,
    "start_time": "2022-03-10T18:44:50.993Z"
   },
   {
    "duration": 13,
    "start_time": "2022-03-10T18:44:51.001Z"
   },
   {
    "duration": 6,
    "start_time": "2022-03-10T18:44:51.016Z"
   },
   {
    "duration": 7,
    "start_time": "2022-03-10T18:44:51.025Z"
   },
   {
    "duration": 4745,
    "start_time": "2022-03-10T18:44:51.034Z"
   },
   {
    "duration": 7,
    "start_time": "2022-03-10T18:44:55.786Z"
   },
   {
    "duration": 18693,
    "start_time": "2022-03-10T18:44:55.795Z"
   }
  ],
  "kernelspec": {
   "display_name": "Python 3",
   "language": "python",
   "name": "python3"
  },
  "language_info": {
   "codemirror_mode": {
    "name": "ipython",
    "version": 3
   },
   "file_extension": ".py",
   "mimetype": "text/x-python",
   "name": "python",
   "nbconvert_exporter": "python",
   "pygments_lexer": "ipython3",
   "version": "3.8.8"
  },
  "toc": {
   "base_numbering": 1,
   "nav_menu": {},
   "number_sections": true,
   "sideBar": true,
   "skip_h1_title": true,
   "title_cell": "Table of Contents",
   "title_sidebar": "Contents",
   "toc_cell": false,
   "toc_position": {
    "height": "calc(100% - 180px)",
    "left": "10px",
    "top": "150px",
    "width": "291.391px"
   },
   "toc_section_display": true,
   "toc_window_display": true
  }
 },
 "nbformat": 4,
 "nbformat_minor": 2
}
