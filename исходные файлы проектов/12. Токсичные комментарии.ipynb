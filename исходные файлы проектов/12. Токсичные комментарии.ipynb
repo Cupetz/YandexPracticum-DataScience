{
 "cells": [
  {
   "cell_type": "markdown",
   "id": "51673d1a",
   "metadata": {},
   "source": [
    "# Проект Викишоп с использованием Distilbert"
   ]
  },
  {
   "cell_type": "markdown",
   "id": "20e19258",
   "metadata": {},
   "source": [
    "Описание проекта\n",
    "\n",
    "Интернет-магазин «Викишоп» запускает новый сервис. Теперь пользователи могут редактировать и дополнять описания товаров, как в вики-сообществах. То есть клиенты предлагают свои правки и комментируют изменения других. Магазину нужен инструмент, который будет искать токсичные комментарии и отправлять их на модерацию.\n",
    "\n",
    "Обучите модель классифицировать комментарии на позитивные и негативные. В вашем распоряжении набор данных с разметкой о токсичности правок.\n",
    "\n",
    "Постройте модель со значением метрики качества F1 не меньше 0.75."
   ]
  },
  {
   "cell_type": "markdown",
   "id": "f0d65516",
   "metadata": {},
   "source": [
    "## Ознакомление с данными"
   ]
  },
  {
   "cell_type": "code",
   "execution_count": 1,
   "id": "1b32cd01",
   "metadata": {},
   "outputs": [],
   "source": [
    "import pandas as pd\n",
    "import numpy as np\n",
    "from sklearn.model_selection import train_test_split\n",
    "from catboost import CatBoostClassifier\n",
    "from sklearn.dummy import DummyClassifier\n",
    "import torch\n",
    "import transformers\n",
    "import re\n",
    "from sklearn.metrics import f1_score"
   ]
  },
  {
   "cell_type": "code",
   "execution_count": 2,
   "id": "46b151d5",
   "metadata": {},
   "outputs": [],
   "source": [
    "try:\n",
    "    data = pd.read_csv(r'C:\\Users\\Lenovo\\Desktop\\data\\локальные проекты\\toxic_comments\\исходник проекта toxic coments\\toxic_comments.csv')\n",
    "except:\n",
    "    data = pd.read_csv('/datasets/toxic_comments.csv')"
   ]
  },
  {
   "cell_type": "code",
   "execution_count": 3,
   "id": "a2af0be7",
   "metadata": {},
   "outputs": [
    {
     "data": {
      "text/html": [
       "<div>\n",
       "<style scoped>\n",
       "    .dataframe tbody tr th:only-of-type {\n",
       "        vertical-align: middle;\n",
       "    }\n",
       "\n",
       "    .dataframe tbody tr th {\n",
       "        vertical-align: top;\n",
       "    }\n",
       "\n",
       "    .dataframe thead th {\n",
       "        text-align: right;\n",
       "    }\n",
       "</style>\n",
       "<table border=\"1\" class=\"dataframe\">\n",
       "  <thead>\n",
       "    <tr style=\"text-align: right;\">\n",
       "      <th></th>\n",
       "      <th>text</th>\n",
       "      <th>toxic</th>\n",
       "    </tr>\n",
       "  </thead>\n",
       "  <tbody>\n",
       "    <tr>\n",
       "      <th>0</th>\n",
       "      <td>Explanation\\nWhy the edits made under my usern...</td>\n",
       "      <td>0</td>\n",
       "    </tr>\n",
       "    <tr>\n",
       "      <th>1</th>\n",
       "      <td>D'aww! He matches this background colour I'm s...</td>\n",
       "      <td>0</td>\n",
       "    </tr>\n",
       "    <tr>\n",
       "      <th>2</th>\n",
       "      <td>Hey man, I'm really not trying to edit war. It...</td>\n",
       "      <td>0</td>\n",
       "    </tr>\n",
       "    <tr>\n",
       "      <th>3</th>\n",
       "      <td>\"\\nMore\\nI can't make any real suggestions on ...</td>\n",
       "      <td>0</td>\n",
       "    </tr>\n",
       "    <tr>\n",
       "      <th>4</th>\n",
       "      <td>You, sir, are my hero. Any chance you remember...</td>\n",
       "      <td>0</td>\n",
       "    </tr>\n",
       "    <tr>\n",
       "      <th>...</th>\n",
       "      <td>...</td>\n",
       "      <td>...</td>\n",
       "    </tr>\n",
       "    <tr>\n",
       "      <th>159566</th>\n",
       "      <td>\":::::And for the second time of asking, when ...</td>\n",
       "      <td>0</td>\n",
       "    </tr>\n",
       "    <tr>\n",
       "      <th>159567</th>\n",
       "      <td>You should be ashamed of yourself \\n\\nThat is ...</td>\n",
       "      <td>0</td>\n",
       "    </tr>\n",
       "    <tr>\n",
       "      <th>159568</th>\n",
       "      <td>Spitzer \\n\\nUmm, theres no actual article for ...</td>\n",
       "      <td>0</td>\n",
       "    </tr>\n",
       "    <tr>\n",
       "      <th>159569</th>\n",
       "      <td>And it looks like it was actually you who put ...</td>\n",
       "      <td>0</td>\n",
       "    </tr>\n",
       "    <tr>\n",
       "      <th>159570</th>\n",
       "      <td>\"\\nAnd ... I really don't think you understand...</td>\n",
       "      <td>0</td>\n",
       "    </tr>\n",
       "  </tbody>\n",
       "</table>\n",
       "<p>159571 rows × 2 columns</p>\n",
       "</div>"
      ],
      "text/plain": [
       "                                                     text  toxic\n",
       "0       Explanation\\nWhy the edits made under my usern...      0\n",
       "1       D'aww! He matches this background colour I'm s...      0\n",
       "2       Hey man, I'm really not trying to edit war. It...      0\n",
       "3       \"\\nMore\\nI can't make any real suggestions on ...      0\n",
       "4       You, sir, are my hero. Any chance you remember...      0\n",
       "...                                                   ...    ...\n",
       "159566  \":::::And for the second time of asking, when ...      0\n",
       "159567  You should be ashamed of yourself \\n\\nThat is ...      0\n",
       "159568  Spitzer \\n\\nUmm, theres no actual article for ...      0\n",
       "159569  And it looks like it was actually you who put ...      0\n",
       "159570  \"\\nAnd ... I really don't think you understand...      0\n",
       "\n",
       "[159571 rows x 2 columns]"
      ]
     },
     "metadata": {},
     "output_type": "display_data"
    }
   ],
   "source": [
    "display(data)"
   ]
  },
  {
   "cell_type": "code",
   "execution_count": 4,
   "id": "47ee41a8",
   "metadata": {},
   "outputs": [
    {
     "data": {
      "text/plain": [
       "0"
      ]
     },
     "execution_count": 4,
     "metadata": {},
     "output_type": "execute_result"
    }
   ],
   "source": [
    "data.duplicated().sum()"
   ]
  },
  {
   "cell_type": "code",
   "execution_count": 5,
   "id": "1e782150",
   "metadata": {},
   "outputs": [
    {
     "data": {
      "text/plain": [
       "text     0\n",
       "toxic    0\n",
       "dtype: int64"
      ]
     },
     "execution_count": 5,
     "metadata": {},
     "output_type": "execute_result"
    }
   ],
   "source": [
    "data.isna().sum()"
   ]
  },
  {
   "cell_type": "markdown",
   "id": "5b7c8de8",
   "metadata": {},
   "source": [
    "Дубликатов и пропусков в файле нет - это хорошо"
   ]
  },
  {
   "cell_type": "markdown",
   "id": "b2002ca7",
   "metadata": {},
   "source": [
    "Посмотрим разброс по длине предложений в датафрейме"
   ]
  },
  {
   "cell_type": "code",
   "execution_count": 6,
   "id": "e884bb0f",
   "metadata": {},
   "outputs": [
    {
     "data": {
      "image/png": "[encoded data removed]",
      "text/plain": [
       "<Figure size 1440x720 with 1 Axes>"
      ]
     },
     "metadata": {
      "needs_background": "light"
     },
     "output_type": "display_data"
    }
   ],
   "source": [
    "words_in_text = []\n",
    "for i in range(len(data)):\n",
    "  number_of_words = len(data.loc[i, 'text'].split())\n",
    "  words_in_text.append(number_of_words)\n",
    "\n",
    "data['number_of_words'] = pd.Series(words_in_text)\n",
    "data['number_of_words'].hist(bins=100, figsize = (20, 10));"
   ]
  },
  {
   "cell_type": "markdown",
   "id": "005eb185",
   "metadata": {},
   "source": [
    "Из-за недоступности мощностей - было принято решение в учебных целях рассмотреть только 1000 строк\n",
    "\n",
    "Отсечём от датафрейма для начала предложения с кол-вом слов выше 200, так как таких сравнительно немного, да и такие выбросы усложняю как минимум процесс токенизации, а затем из этого датафрейма с приемлемыми по длине предложениями выберем случайные 1 000 сэмплов"
   ]
  },
  {
   "cell_type": "code",
   "execution_count": 7,
   "id": "6e643239",
   "metadata": {},
   "outputs": [],
   "source": [
    "data = data.query('number_of_words < 200')"
   ]
  },
  {
   "cell_type": "code",
   "execution_count": 8,
   "id": "7b5e1b9c",
   "metadata": {},
   "outputs": [],
   "source": [
    "del data['number_of_words']"
   ]
  },
  {
   "cell_type": "code",
   "execution_count": 9,
   "id": "3549e414",
   "metadata": {},
   "outputs": [
    {
     "data": {
      "text/plain": [
       "(149403, 2)"
      ]
     },
     "execution_count": 9,
     "metadata": {},
     "output_type": "execute_result"
    }
   ],
   "source": [
    "data.shape"
   ]
  },
  {
   "cell_type": "code",
   "execution_count": 10,
   "id": "66076337",
   "metadata": {},
   "outputs": [],
   "source": [
    "data = data.sample(1000)"
   ]
  },
  {
   "cell_type": "code",
   "execution_count": 11,
   "id": "6c83a2b6",
   "metadata": {},
   "outputs": [
    {
     "data": {
      "text/plain": [
       "0    898\n",
       "1    102\n",
       "Name: toxic, dtype: int64"
      ]
     },
     "execution_count": 11,
     "metadata": {},
     "output_type": "execute_result"
    }
   ],
   "source": [
    "data['toxic'].value_counts()"
   ]
  },
  {
   "cell_type": "markdown",
   "id": "a48b67cb",
   "metadata": {},
   "source": [
    "что ж, баланс классов более-менее приемлемый"
   ]
  },
  {
   "cell_type": "markdown",
   "id": "0bd1da01",
   "metadata": {},
   "source": [
    "Как я заметил позже на токенизации - из-за довольно большого числа лишних символов в текстах число токенов очень сильно расчёт. Например при 150 слов может быть больше 2000 токенов, что весьма усложняет процесс. Ради интереса попробовал через регулярные выражения убрать все символы, включая лишнюю табуляцию, которая фигурирует в виде \"\\n\" чуть ли не в половине строк:"
   ]
  },
  {
   "cell_type": "code",
   "execution_count": 12,
   "id": "797d6e10",
   "metadata": {},
   "outputs": [
    {
     "data": {
      "text/html": [
       "<div>\n",
       "<style scoped>\n",
       "    .dataframe tbody tr th:only-of-type {\n",
       "        vertical-align: middle;\n",
       "    }\n",
       "\n",
       "    .dataframe tbody tr th {\n",
       "        vertical-align: top;\n",
       "    }\n",
       "\n",
       "    .dataframe thead th {\n",
       "        text-align: right;\n",
       "    }\n",
       "</style>\n",
       "<table border=\"1\" class=\"dataframe\">\n",
       "  <thead>\n",
       "    <tr style=\"text-align: right;\">\n",
       "      <th></th>\n",
       "      <th>text</th>\n",
       "      <th>toxic</th>\n",
       "    </tr>\n",
       "  </thead>\n",
       "  <tbody>\n",
       "    <tr>\n",
       "      <th>109008</th>\n",
       "      <td>To Hersfold, I admitted NO SUCH THING. I have ...</td>\n",
       "      <td>0</td>\n",
       "    </tr>\n",
       "    <tr>\n",
       "      <th>27214</th>\n",
       "      <td>you fuck misterwiki.   you fuck misterwiki.   ...</td>\n",
       "      <td>1</td>\n",
       "    </tr>\n",
       "    <tr>\n",
       "      <th>23996</th>\n",
       "      <td>Requested move \\n\\n .300 WSM → .300 Winchester...</td>\n",
       "      <td>0</td>\n",
       "    </tr>\n",
       "    <tr>\n",
       "      <th>137433</th>\n",
       "      <td>You are guilty of trolling and edit warring \\n...</td>\n",
       "      <td>0</td>\n",
       "    </tr>\n",
       "    <tr>\n",
       "      <th>107403</th>\n",
       "      <td>\"\\n\"\"You are an asset...\"\"' If you take off th...</td>\n",
       "      <td>0</td>\n",
       "    </tr>\n",
       "    <tr>\n",
       "      <th>...</th>\n",
       "      <td>...</td>\n",
       "      <td>...</td>\n",
       "    </tr>\n",
       "    <tr>\n",
       "      <th>93528</th>\n",
       "      <td>The reason that Morocco is not a member of the...</td>\n",
       "      <td>0</td>\n",
       "    </tr>\n",
       "    <tr>\n",
       "      <th>93928</th>\n",
       "      <td>I am not being abusive! 124.181.65.132</td>\n",
       "      <td>0</td>\n",
       "    </tr>\n",
       "    <tr>\n",
       "      <th>158996</th>\n",
       "      <td>\"==DJ Sammy==\\nCan I please suggest you read W...</td>\n",
       "      <td>0</td>\n",
       "    </tr>\n",
       "    <tr>\n",
       "      <th>95816</th>\n",
       "      <td>DO \\n\\nI see you have signed up for the last d...</td>\n",
       "      <td>0</td>\n",
       "    </tr>\n",
       "    <tr>\n",
       "      <th>114924</th>\n",
       "      <td>I HOPE YOU CAN CRAP OUT YOUR BUTT \\n\\nVBECAUES...</td>\n",
       "      <td>1</td>\n",
       "    </tr>\n",
       "  </tbody>\n",
       "</table>\n",
       "<p>1000 rows × 2 columns</p>\n",
       "</div>"
      ],
      "text/plain": [
       "                                                     text  toxic\n",
       "109008  To Hersfold, I admitted NO SUCH THING. I have ...      0\n",
       "27214   you fuck misterwiki.   you fuck misterwiki.   ...      1\n",
       "23996   Requested move \\n\\n .300 WSM → .300 Winchester...      0\n",
       "137433  You are guilty of trolling and edit warring \\n...      0\n",
       "107403  \"\\n\"\"You are an asset...\"\"' If you take off th...      0\n",
       "...                                                   ...    ...\n",
       "93528   The reason that Morocco is not a member of the...      0\n",
       "93928              I am not being abusive! 124.181.65.132      0\n",
       "158996  \"==DJ Sammy==\\nCan I please suggest you read W...      0\n",
       "95816   DO \\n\\nI see you have signed up for the last d...      0\n",
       "114924  I HOPE YOU CAN CRAP OUT YOUR BUTT \\n\\nVBECAUES...      1\n",
       "\n",
       "[1000 rows x 2 columns]"
      ]
     },
     "metadata": {},
     "output_type": "display_data"
    }
   ],
   "source": [
    "display(data)"
   ]
  },
  {
   "cell_type": "code",
   "execution_count": 13,
   "id": "13530568",
   "metadata": {},
   "outputs": [],
   "source": [
    "def clear_text(text):\n",
    "  pattern = r'\\\\n'     # отдельно выделим табуляцию через \\n, так как просто удалив лишние \"\\\" останется куча лишних n\n",
    "  replacement = ' '\n",
    "  cleared_tabs = re.sub(pattern, replacement, text)\n",
    "  pattern = r'[^a-zA-Z0-9]'                             # оставим только числа и буквы\n",
    "  replacement = ' '\n",
    "  cleared = re.sub(pattern, replacement, cleared_tabs)\n",
    "  whitespaces_fixed = ' '.join(cleared.split())\n",
    "  return whitespaces_fixed"
   ]
  },
  {
   "cell_type": "code",
   "execution_count": 14,
   "id": "02b2cd0d",
   "metadata": {},
   "outputs": [],
   "source": [
    "data['text'] = data['text'].apply(clear_text)"
   ]
  },
  {
   "cell_type": "code",
   "execution_count": 15,
   "id": "9f4cd4f6",
   "metadata": {},
   "outputs": [
    {
     "data": {
      "text/html": [
       "<div>\n",
       "<style scoped>\n",
       "    .dataframe tbody tr th:only-of-type {\n",
       "        vertical-align: middle;\n",
       "    }\n",
       "\n",
       "    .dataframe tbody tr th {\n",
       "        vertical-align: top;\n",
       "    }\n",
       "\n",
       "    .dataframe thead th {\n",
       "        text-align: right;\n",
       "    }\n",
       "</style>\n",
       "<table border=\"1\" class=\"dataframe\">\n",
       "  <thead>\n",
       "    <tr style=\"text-align: right;\">\n",
       "      <th></th>\n",
       "      <th>text</th>\n",
       "      <th>toxic</th>\n",
       "    </tr>\n",
       "  </thead>\n",
       "  <tbody>\n",
       "    <tr>\n",
       "      <th>109008</th>\n",
       "      <td>To Hersfold I admitted NO SUCH THING I have ne...</td>\n",
       "      <td>0</td>\n",
       "    </tr>\n",
       "    <tr>\n",
       "      <th>27214</th>\n",
       "      <td>you fuck misterwiki you fuck misterwiki you fu...</td>\n",
       "      <td>1</td>\n",
       "    </tr>\n",
       "    <tr>\n",
       "      <th>23996</th>\n",
       "      <td>Requested move 300 WSM 300 Winchester Short Ma...</td>\n",
       "      <td>0</td>\n",
       "    </tr>\n",
       "    <tr>\n",
       "      <th>137433</th>\n",
       "      <td>You are guilty of trolling and edit warring Ki...</td>\n",
       "      <td>0</td>\n",
       "    </tr>\n",
       "    <tr>\n",
       "      <th>107403</th>\n",
       "      <td>You are an asset If you take off the et part I...</td>\n",
       "      <td>0</td>\n",
       "    </tr>\n",
       "    <tr>\n",
       "      <th>...</th>\n",
       "      <td>...</td>\n",
       "      <td>...</td>\n",
       "    </tr>\n",
       "    <tr>\n",
       "      <th>93528</th>\n",
       "      <td>The reason that Morocco is not a member of the...</td>\n",
       "      <td>0</td>\n",
       "    </tr>\n",
       "    <tr>\n",
       "      <th>93928</th>\n",
       "      <td>I am not being abusive 124 181 65 132</td>\n",
       "      <td>0</td>\n",
       "    </tr>\n",
       "    <tr>\n",
       "      <th>158996</th>\n",
       "      <td>DJ Sammy Can I please suggest you read Wikiped...</td>\n",
       "      <td>0</td>\n",
       "    </tr>\n",
       "    <tr>\n",
       "      <th>95816</th>\n",
       "      <td>DO I see you have signed up for the last drama...</td>\n",
       "      <td>0</td>\n",
       "    </tr>\n",
       "    <tr>\n",
       "      <th>114924</th>\n",
       "      <td>I HOPE YOU CAN CRAP OUT YOUR BUTT VBECAUES ITS...</td>\n",
       "      <td>1</td>\n",
       "    </tr>\n",
       "  </tbody>\n",
       "</table>\n",
       "<p>1000 rows × 2 columns</p>\n",
       "</div>"
      ],
      "text/plain": [
       "                                                     text  toxic\n",
       "109008  To Hersfold I admitted NO SUCH THING I have ne...      0\n",
       "27214   you fuck misterwiki you fuck misterwiki you fu...      1\n",
       "23996   Requested move 300 WSM 300 Winchester Short Ma...      0\n",
       "137433  You are guilty of trolling and edit warring Ki...      0\n",
       "107403  You are an asset If you take off the et part I...      0\n",
       "...                                                   ...    ...\n",
       "93528   The reason that Morocco is not a member of the...      0\n",
       "93928               I am not being abusive 124 181 65 132      0\n",
       "158996  DJ Sammy Can I please suggest you read Wikiped...      0\n",
       "95816   DO I see you have signed up for the last drama...      0\n",
       "114924  I HOPE YOU CAN CRAP OUT YOUR BUTT VBECAUES ITS...      1\n",
       "\n",
       "[1000 rows x 2 columns]"
      ]
     },
     "metadata": {},
     "output_type": "display_data"
    }
   ],
   "source": [
    "display(data)"
   ]
  },
  {
   "cell_type": "markdown",
   "id": "ada11778",
   "metadata": {},
   "source": [
    "Что ж - датафрейм выглядит уже гораздо более человечно. Попробуем сделать токенизацию"
   ]
  },
  {
   "cell_type": "markdown",
   "id": "8064469c",
   "metadata": {},
   "source": [
    "## Токенизация текста для загрузки в Distilbert"
   ]
  },
  {
   "cell_type": "code",
   "execution_count": 16,
   "id": "8ad92bdd",
   "metadata": {},
   "outputs": [],
   "source": [
    "model_class = transformers.DistilBertModel\n",
    "tokenizer_class = transformers.DistilBertTokenizer\n",
    "pretrained_weights = 'distilbert-base-uncased'"
   ]
  },
  {
   "cell_type": "code",
   "execution_count": 17,
   "id": "0dd89652",
   "metadata": {},
   "outputs": [
    {
     "name": "stderr",
     "output_type": "stream",
     "text": [
      "Some weights of the model checkpoint at distilbert-base-uncased were not used when initializing DistilBertModel: ['vocab_layer_norm.bias', 'vocab_transform.bias', 'vocab_transform.weight', 'vocab_projector.bias', 'vocab_projector.weight', 'vocab_layer_norm.weight']\n",
      "- This IS expected if you are initializing DistilBertModel from the checkpoint of a model trained on another task or with another architecture (e.g. initializing a BertForSequenceClassification model from a BertForPreTraining model).\n",
      "- This IS NOT expected if you are initializing DistilBertModel from the checkpoint of a model that you expect to be exactly identical (initializing a BertForSequenceClassification model from a BertForSequenceClassification model).\n"
     ]
    }
   ],
   "source": [
    "tokenizer = tokenizer_class.from_pretrained(pretrained_weights)\n",
    "model = model_class.from_pretrained(pretrained_weights)"
   ]
  },
  {
   "cell_type": "code",
   "execution_count": 18,
   "id": "2cc86bac",
   "metadata": {},
   "outputs": [],
   "source": [
    "tokenized_text = data['text'].apply(lambda x: tokenizer.encode(x, add_special_tokens=True))"
   ]
  },
  {
   "cell_type": "markdown",
   "id": "6c5d8cf8",
   "metadata": {},
   "source": [
    "Далее, насколько я понял - мы хотим подогнать весь текст для скармливания Bert'у под единый батч одного размера, так как это должно ускорить процесс, нежели отправлять ему каждую строку датафрейма поотдельности. И ключевым моментом в данном процессе является определить текст с самым большим размером, именно от него оттолкнувшишь для выбора размера массива, а все меньше строки \"подогнать\" под этот размер докидыванием в них нулей."
   ]
  },
  {
   "cell_type": "code",
   "execution_count": 19,
   "id": "b7a6c784",
   "metadata": {},
   "outputs": [],
   "source": [
    "max_len = 0\n",
    "for i in tokenized_text.values:\n",
    "  if len(i) > max_len:\n",
    "    max_len = len(i)\n",
    "\n",
    "padded_text = np.array([i + [0]*(max_len-len(i)) for i in tokenized_text.values])"
   ]
  },
  {
   "cell_type": "code",
   "execution_count": 20,
   "id": "9b0282a0",
   "metadata": {},
   "outputs": [
    {
     "data": {
      "text/plain": [
       "(1000, 236)"
      ]
     },
     "execution_count": 20,
     "metadata": {},
     "output_type": "execute_result"
    }
   ],
   "source": [
    "padded_text.shape"
   ]
  },
  {
   "cell_type": "markdown",
   "id": "9c0b3af8",
   "metadata": {},
   "source": [
    "Далее следует ещё один манёвр - просто так подать в Bert массив, который был создан - нельзя. Мы должны подсказать модели тот факт, что докидывали лишние нули для подгонки массива, и на них не нужно обращать вниманием при обучении, так как модель естественно не сумеет догадаться самостоятельно откуда эти нули взялись. И для этой самой подсказки создаётся ещё один массив из 0 и 1, где 1 сигнализирует наличие на этой позиции информативного, полезного токена с информацией о тексте, а 0 - как раз говорит о том что на данной позиции те самые подогнанные 0 без смысловой нагрузки."
   ]
  },
  {
   "cell_type": "code",
   "execution_count": 21,
   "id": "5efad683",
   "metadata": {},
   "outputs": [
    {
     "data": {
      "text/plain": [
       "(1000, 236)"
      ]
     },
     "execution_count": 21,
     "metadata": {},
     "output_type": "execute_result"
    }
   ],
   "source": [
    "attention_mask = np.where(padded_text != 0, 1, 0)\n",
    "attention_mask.shape"
   ]
  },
  {
   "cell_type": "markdown",
   "id": "e22c5924",
   "metadata": {},
   "source": [
    "Размерности массивов совпали - значит по идее всё идёт верно - можно их использовать для помещения в модель Bert'a"
   ]
  },
  {
   "cell_type": "markdown",
   "id": "e7988d27",
   "metadata": {},
   "source": [
    "## Загрузка данных в Distilbert"
   ]
  },
  {
   "cell_type": "code",
   "execution_count": 22,
   "id": "5e2eabb5",
   "metadata": {},
   "outputs": [],
   "source": [
    "input_ids = torch.tensor(padded_text)\n",
    "attention_mask = torch.tensor(attention_mask)\n",
    "\n",
    "with torch.no_grad():\n",
    "  last_hidden_states = model(input_ids, attention_mask=attention_mask)"
   ]
  },
  {
   "cell_type": "markdown",
   "id": "f8568b1e",
   "metadata": {},
   "source": [
    "Результат скармливания DistilBert'у token'ов и attention_mask сохраняется им, судя по данным в интернете - во что-то вроде кубического массива, из которого нам нужно достать для каждой строчки только токен, который был самым первым"
   ]
  },
  {
   "attachments": {
    "image.png": {
     "image/png": "[encoded data removed]"
    }
   },
   "cell_type": "markdown",
   "id": "2d60e80c",
   "metadata": {},
   "source": [
    "![image.png](attachment:image.png)"
   ]
  },
  {
   "cell_type": "code",
   "execution_count": 23,
   "id": "8b3a4f4b",
   "metadata": {},
   "outputs": [],
   "source": [
    "features = last_hidden_states[0][:, 0, :].numpy()"
   ]
  },
  {
   "cell_type": "markdown",
   "id": "324675b9",
   "metadata": {},
   "source": [
    "Запишем целевой признак:"
   ]
  },
  {
   "cell_type": "code",
   "execution_count": 24,
   "id": "e8e95f7c",
   "metadata": {},
   "outputs": [],
   "source": [
    "target = data['toxic']"
   ]
  },
  {
   "cell_type": "markdown",
   "id": "b0ec3204",
   "metadata": {},
   "source": [
    "## Обучение CatboostClassifier на полученных признаках:"
   ]
  },
  {
   "cell_type": "markdown",
   "id": "f68b64c7",
   "metadata": {},
   "source": [
    "Разобьём тестовую и тренировочную выборки на 80 % и 20 % от исходных данных, визуализируем результаты, и для того чтобы не перегружать и так уставшую систему введём параметр early_stopping_rounds, шаг сделаем так же побольше:"
   ]
  },
  {
   "cell_type": "code",
   "execution_count": 25,
   "id": "8ecd43b1",
   "metadata": {},
   "outputs": [],
   "source": [
    "train_features, test_features, train_target, test_target = train_test_split(features, target, test_size=0.2)"
   ]
  },
  {
   "cell_type": "code",
   "execution_count": 26,
   "id": "94beda19",
   "metadata": {},
   "outputs": [],
   "source": [
    "classification_model = CatBoostClassifier(iterations = 100, \n",
    "                                          random_seed = 0, \n",
    "                                          learning_rate = 0.5,\n",
    "                                          eval_metric = 'F1',\n",
    "                                          early_stopping_rounds = 20\n",
    "                                         )"
   ]
  },
  {
   "cell_type": "code",
   "execution_count": 27,
   "id": "cebfaa60",
   "metadata": {},
   "outputs": [
    {
     "data": {
      "application/vnd.jupyter.widget-view+json": {
       "model_id": "88ddc4e6fe0f4d989b6433a0c494a6c2",
       "version_major": 2,
       "version_minor": 0
      },
      "text/plain": [
       "MetricVisualizer(layout=Layout(align_self='stretch', height='500px'))"
      ]
     },
     "metadata": {},
     "output_type": "display_data"
    },
    {
     "data": {
      "text/plain": [
       "<catboost.core.CatBoostClassifier at 0x22d242c4880>"
      ]
     },
     "execution_count": 27,
     "metadata": {},
     "output_type": "execute_result"
    }
   ],
   "source": [
    "classification_model.fit(train_features, train_target,\n",
    "                         verbose = False,\n",
    "                        plot = True,\n",
    "                        eval_set = (test_features, test_target))"
   ]
  },
  {
   "cell_type": "code",
   "execution_count": 28,
   "id": "12be8654",
   "metadata": {},
   "outputs": [
    {
     "data": {
      "text/plain": [
       "17"
      ]
     },
     "execution_count": 28,
     "metadata": {},
     "output_type": "execute_result"
    }
   ],
   "source": [
    "classification_model.tree_count_"
   ]
  },
  {
   "cell_type": "code",
   "execution_count": 29,
   "id": "00b80a3a",
   "metadata": {},
   "outputs": [],
   "source": [
    "predictions = classification_model.predict(test_features)"
   ]
  },
  {
   "cell_type": "code",
   "execution_count": 30,
   "id": "542ceac7",
   "metadata": {},
   "outputs": [],
   "source": [
    "f1_score = f1_score(test_target, predictions)"
   ]
  },
  {
   "cell_type": "code",
   "execution_count": 31,
   "id": "06510813",
   "metadata": {},
   "outputs": [
    {
     "name": "stdout",
     "output_type": "stream",
     "text": [
      "Метрика F1 обученной модели при её проверке на тестовой части: 0.815\n"
     ]
    }
   ],
   "source": [
    "print(f'Метрика F1 обученной модели при её проверке на тестовой части: {f1_score:.3f}')"
   ]
  },
  {
   "cell_type": "code",
   "execution_count": 32,
   "id": "f43283c6",
   "metadata": {},
   "outputs": [],
   "source": [
    "f1_min_score = 0.75 # минимальное требуемое значение f1 по условию задания"
   ]
  },
  {
   "cell_type": "code",
   "execution_count": 33,
   "id": "dfbfbe26",
   "metadata": {},
   "outputs": [
    {
     "name": "stdout",
     "output_type": "stream",
     "text": [
      "Нужное качество модели достигнуто\n"
     ]
    }
   ],
   "source": [
    "if f1_score > f1_min_score:\n",
    "    print('Нужное качество модели достигнуто')\n",
    "else:\n",
    "    print('Не достигнуто нужное качество модели')"
   ]
  },
  {
   "cell_type": "markdown",
   "id": "95315430",
   "metadata": {},
   "source": [
    "Что ж, модель показала необходимую точность даже на итоговом небольшом наборе данных"
   ]
  }
 ],
 "metadata": {
  "kernelspec": {
   "display_name": "Python 3 (ipykernel)",
   "language": "python",
   "name": "python3"
  },
  "language_info": {
   "codemirror_mode": {
    "name": "ipython",
    "version": 3
   },
   "file_extension": ".py",
   "mimetype": "text/x-python",
   "name": "python",
   "nbconvert_exporter": "python",
   "pygments_lexer": "ipython3",
   "version": "3.9.7"
  },
  "toc": {
   "base_numbering": 1,
   "nav_menu": {},
   "number_sections": true,
   "sideBar": true,
   "skip_h1_title": true,
   "title_cell": "Table of Contents",
   "title_sidebar": "Contents",
   "toc_cell": false,
   "toc_position": {},
   "toc_section_display": true,
   "toc_window_display": false
  }
 },
 "nbformat": 4,
 "nbformat_minor": 5
}
