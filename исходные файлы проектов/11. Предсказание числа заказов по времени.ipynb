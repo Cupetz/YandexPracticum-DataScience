{
 "cells": [
  {
   "cell_type": "markdown",
   "metadata": {
    "toc": true
   },
   "source": [
    "<h1>Содержание<span class=\"tocSkip\"></span></h1>\n",
    "<div class=\"toc\"><ul class=\"toc-item\"><li><span><a href=\"#Подготовка\" data-toc-modified-id=\"Подготовка-1\"><span class=\"toc-item-num\">1&nbsp;&nbsp;</span>Подготовка</a></span></li><li><span><a href=\"#Анализ\" data-toc-modified-id=\"Анализ-2\"><span class=\"toc-item-num\">2&nbsp;&nbsp;</span>Анализ</a></span></li><li><span><a href=\"#Обучение\" data-toc-modified-id=\"Обучение-3\"><span class=\"toc-item-num\">3&nbsp;&nbsp;</span>Обучение</a></span><ul class=\"toc-item\"><li><span><a href=\"#Разбиение-данных-на-выборки-и-подготовка-дополнительных-признаков\" data-toc-modified-id=\"Разбиение-данных-на-выборки-и-подготовка-дополнительных-признаков-3.1\"><span class=\"toc-item-num\">3.1&nbsp;&nbsp;</span>Разбиение данных на выборки и подготовка дополнительных признаков</a></span></li><li><span><a href=\"#Обучение-модели-линейной-регрессии\" data-toc-modified-id=\"Обучение-модели-линейной-регрессии-3.2\"><span class=\"toc-item-num\">3.2&nbsp;&nbsp;</span>Обучение модели линейной регрессии</a></span></li><li><span><a href=\"#Обучение-модели-случайного-леса\" data-toc-modified-id=\"Обучение-модели-случайного-леса-3.3\"><span class=\"toc-item-num\">3.3&nbsp;&nbsp;</span>Обучение модели случайного леса</a></span></li><li><span><a href=\"#Обучение-модели-градиентного-бустинга\" data-toc-modified-id=\"Обучение-модели-градиентного-бустинга-3.4\"><span class=\"toc-item-num\">3.4&nbsp;&nbsp;</span>Обучение модели градиентного бустинга</a></span></li><li><span><a href=\"#Показатели-обученных-моделей\" data-toc-modified-id=\"Показатели-обученных-моделей-3.5\"><span class=\"toc-item-num\">3.5&nbsp;&nbsp;</span>Показатели обученных моделей</a></span></li></ul></li><li><span><a href=\"#Тестирование\" data-toc-modified-id=\"Тестирование-4\"><span class=\"toc-item-num\">4&nbsp;&nbsp;</span>Тестирование</a></span></li></ul></div>"
   ]
  },
  {
   "cell_type": "markdown",
   "metadata": {},
   "source": [
    "#  Прогнозирование заказов такси"
   ]
  },
  {
   "cell_type": "markdown",
   "metadata": {},
   "source": [
    "Компания «Чётенькое такси» собрала исторические данные о заказах такси в аэропортах. Чтобы привлекать больше водителей в период пиковой нагрузки, нужно спрогнозировать количество заказов такси на следующий час. Постройте модель для такого предсказания.\n",
    "\n",
    "Значение метрики *RMSE* на тестовой выборке должно быть не больше 48.\n",
    "\n",
    "Вам нужно:\n",
    "\n",
    "1. Загрузить данные и выполнить их ресемплирование по одному часу.\n",
    "2. Проанализировать данные.\n",
    "3. Обучить разные модели с различными гиперпараметрами. Сделать тестовую выборку размером 10% от исходных данных.\n",
    "4. Проверить данные на тестовой выборке и сделать выводы.\n",
    "\n",
    "\n",
    "Данные лежат в файле `taxi.csv`. Количество заказов находится в столбце `num_orders` (от англ. *number of orders*, «число заказов»)."
   ]
  },
  {
   "cell_type": "markdown",
   "metadata": {},
   "source": [
    "## Подготовка"
   ]
  },
  {
   "cell_type": "code",
   "execution_count": 1,
   "metadata": {},
   "outputs": [],
   "source": [
    "import pandas as pd\n",
    "from sklearn.model_selection import train_test_split\n",
    "from sklearn.metrics import mean_squared_error\n",
    "from sklearn.dummy import DummyRegressor\n",
    "from sklearn.linear_model import LinearRegression\n",
    "from catboost import CatBoostRegressor\n",
    "from sklearn.ensemble import RandomForestRegressor\n",
    "from sklearn.model_selection import GridSearchCV\n",
    "from statsmodels.tsa.seasonal import seasonal_decompose\n",
    "import matplotlib.pyplot as plt\n",
    "from sklearn.model_selection import TimeSeriesSplit"
   ]
  },
  {
   "cell_type": "code",
   "execution_count": 2,
   "metadata": {},
   "outputs": [],
   "source": [
    "data = pd.read_csv('/datasets/taxi.csv')"
   ]
  },
  {
   "cell_type": "code",
   "execution_count": 3,
   "metadata": {},
   "outputs": [
    {
     "data": {
      "text/html": [
       "<div>\n",
       "<style scoped>\n",
       "    .dataframe tbody tr th:only-of-type {\n",
       "        vertical-align: middle;\n",
       "    }\n",
       "\n",
       "    .dataframe tbody tr th {\n",
       "        vertical-align: top;\n",
       "    }\n",
       "\n",
       "    .dataframe thead th {\n",
       "        text-align: right;\n",
       "    }\n",
       "</style>\n",
       "<table border=\"1\" class=\"dataframe\">\n",
       "  <thead>\n",
       "    <tr style=\"text-align: right;\">\n",
       "      <th></th>\n",
       "      <th>datetime</th>\n",
       "      <th>num_orders</th>\n",
       "    </tr>\n",
       "  </thead>\n",
       "  <tbody>\n",
       "    <tr>\n",
       "      <th>0</th>\n",
       "      <td>2018-03-01 00:00:00</td>\n",
       "      <td>9</td>\n",
       "    </tr>\n",
       "    <tr>\n",
       "      <th>1</th>\n",
       "      <td>2018-03-01 00:10:00</td>\n",
       "      <td>14</td>\n",
       "    </tr>\n",
       "    <tr>\n",
       "      <th>2</th>\n",
       "      <td>2018-03-01 00:20:00</td>\n",
       "      <td>28</td>\n",
       "    </tr>\n",
       "    <tr>\n",
       "      <th>3</th>\n",
       "      <td>2018-03-01 00:30:00</td>\n",
       "      <td>20</td>\n",
       "    </tr>\n",
       "    <tr>\n",
       "      <th>4</th>\n",
       "      <td>2018-03-01 00:40:00</td>\n",
       "      <td>32</td>\n",
       "    </tr>\n",
       "    <tr>\n",
       "      <th>...</th>\n",
       "      <td>...</td>\n",
       "      <td>...</td>\n",
       "    </tr>\n",
       "    <tr>\n",
       "      <th>26491</th>\n",
       "      <td>2018-08-31 23:10:00</td>\n",
       "      <td>32</td>\n",
       "    </tr>\n",
       "    <tr>\n",
       "      <th>26492</th>\n",
       "      <td>2018-08-31 23:20:00</td>\n",
       "      <td>24</td>\n",
       "    </tr>\n",
       "    <tr>\n",
       "      <th>26493</th>\n",
       "      <td>2018-08-31 23:30:00</td>\n",
       "      <td>27</td>\n",
       "    </tr>\n",
       "    <tr>\n",
       "      <th>26494</th>\n",
       "      <td>2018-08-31 23:40:00</td>\n",
       "      <td>39</td>\n",
       "    </tr>\n",
       "    <tr>\n",
       "      <th>26495</th>\n",
       "      <td>2018-08-31 23:50:00</td>\n",
       "      <td>53</td>\n",
       "    </tr>\n",
       "  </tbody>\n",
       "</table>\n",
       "<p>26496 rows × 2 columns</p>\n",
       "</div>"
      ],
      "text/plain": [
       "                  datetime  num_orders\n",
       "0      2018-03-01 00:00:00           9\n",
       "1      2018-03-01 00:10:00          14\n",
       "2      2018-03-01 00:20:00          28\n",
       "3      2018-03-01 00:30:00          20\n",
       "4      2018-03-01 00:40:00          32\n",
       "...                    ...         ...\n",
       "26491  2018-08-31 23:10:00          32\n",
       "26492  2018-08-31 23:20:00          24\n",
       "26493  2018-08-31 23:30:00          27\n",
       "26494  2018-08-31 23:40:00          39\n",
       "26495  2018-08-31 23:50:00          53\n",
       "\n",
       "[26496 rows x 2 columns]"
      ]
     },
     "metadata": {},
     "output_type": "display_data"
    }
   ],
   "source": [
    "display(data)"
   ]
  },
  {
   "cell_type": "code",
   "execution_count": 4,
   "metadata": {
    "scrolled": false
   },
   "outputs": [
    {
     "data": {
      "text/plain": [
       "datetime      0\n",
       "num_orders    0\n",
       "dtype: int64"
      ]
     },
     "execution_count": 4,
     "metadata": {},
     "output_type": "execute_result"
    }
   ],
   "source": [
    "data.isna().sum()"
   ]
  },
  {
   "cell_type": "code",
   "execution_count": 5,
   "metadata": {},
   "outputs": [
    {
     "data": {
      "text/plain": [
       "0"
      ]
     },
     "execution_count": 5,
     "metadata": {},
     "output_type": "execute_result"
    }
   ],
   "source": [
    "data.duplicated().sum()"
   ]
  },
  {
   "cell_type": "markdown",
   "metadata": {},
   "source": [
    "Дубликатов и пропусков нету - можем идти дальше"
   ]
  },
  {
   "cell_type": "code",
   "execution_count": 6,
   "metadata": {
    "scrolled": true
   },
   "outputs": [
    {
     "name": "stdout",
     "output_type": "stream",
     "text": [
      "<class 'pandas.core.frame.DataFrame'>\n",
      "RangeIndex: 26496 entries, 0 to 26495\n",
      "Data columns (total 2 columns):\n",
      " #   Column      Non-Null Count  Dtype \n",
      "---  ------      --------------  ----- \n",
      " 0   datetime    26496 non-null  object\n",
      " 1   num_orders  26496 non-null  int64 \n",
      "dtypes: int64(1), object(1)\n",
      "memory usage: 414.1+ KB\n"
     ]
    }
   ],
   "source": [
    "data.info()"
   ]
  },
  {
   "cell_type": "markdown",
   "metadata": {},
   "source": [
    "Для начала переведём столбец с данными о времени в формат datetime64, а затем для удобства сделаем его новым индексом датафрейма, так как номер строки по сути не даёт нам в данном случае полезной информации"
   ]
  },
  {
   "cell_type": "code",
   "execution_count": 7,
   "metadata": {},
   "outputs": [],
   "source": [
    "data['datetime'] = data['datetime'].astype('datetime64')"
   ]
  },
  {
   "cell_type": "code",
   "execution_count": 8,
   "metadata": {},
   "outputs": [],
   "source": [
    "data.set_index('datetime', inplace=True)"
   ]
  },
  {
   "cell_type": "code",
   "execution_count": 9,
   "metadata": {},
   "outputs": [
    {
     "data": {
      "text/html": [
       "<div>\n",
       "<style scoped>\n",
       "    .dataframe tbody tr th:only-of-type {\n",
       "        vertical-align: middle;\n",
       "    }\n",
       "\n",
       "    .dataframe tbody tr th {\n",
       "        vertical-align: top;\n",
       "    }\n",
       "\n",
       "    .dataframe thead th {\n",
       "        text-align: right;\n",
       "    }\n",
       "</style>\n",
       "<table border=\"1\" class=\"dataframe\">\n",
       "  <thead>\n",
       "    <tr style=\"text-align: right;\">\n",
       "      <th></th>\n",
       "      <th>num_orders</th>\n",
       "    </tr>\n",
       "    <tr>\n",
       "      <th>datetime</th>\n",
       "      <th></th>\n",
       "    </tr>\n",
       "  </thead>\n",
       "  <tbody>\n",
       "    <tr>\n",
       "      <th>2018-03-01 00:00:00</th>\n",
       "      <td>9</td>\n",
       "    </tr>\n",
       "    <tr>\n",
       "      <th>2018-03-01 00:10:00</th>\n",
       "      <td>14</td>\n",
       "    </tr>\n",
       "    <tr>\n",
       "      <th>2018-03-01 00:20:00</th>\n",
       "      <td>28</td>\n",
       "    </tr>\n",
       "    <tr>\n",
       "      <th>2018-03-01 00:30:00</th>\n",
       "      <td>20</td>\n",
       "    </tr>\n",
       "    <tr>\n",
       "      <th>2018-03-01 00:40:00</th>\n",
       "      <td>32</td>\n",
       "    </tr>\n",
       "    <tr>\n",
       "      <th>...</th>\n",
       "      <td>...</td>\n",
       "    </tr>\n",
       "    <tr>\n",
       "      <th>2018-08-31 23:10:00</th>\n",
       "      <td>32</td>\n",
       "    </tr>\n",
       "    <tr>\n",
       "      <th>2018-08-31 23:20:00</th>\n",
       "      <td>24</td>\n",
       "    </tr>\n",
       "    <tr>\n",
       "      <th>2018-08-31 23:30:00</th>\n",
       "      <td>27</td>\n",
       "    </tr>\n",
       "    <tr>\n",
       "      <th>2018-08-31 23:40:00</th>\n",
       "      <td>39</td>\n",
       "    </tr>\n",
       "    <tr>\n",
       "      <th>2018-08-31 23:50:00</th>\n",
       "      <td>53</td>\n",
       "    </tr>\n",
       "  </tbody>\n",
       "</table>\n",
       "<p>26496 rows × 1 columns</p>\n",
       "</div>"
      ],
      "text/plain": [
       "                     num_orders\n",
       "datetime                       \n",
       "2018-03-01 00:00:00           9\n",
       "2018-03-01 00:10:00          14\n",
       "2018-03-01 00:20:00          28\n",
       "2018-03-01 00:30:00          20\n",
       "2018-03-01 00:40:00          32\n",
       "...                         ...\n",
       "2018-08-31 23:10:00          32\n",
       "2018-08-31 23:20:00          24\n",
       "2018-08-31 23:30:00          27\n",
       "2018-08-31 23:40:00          39\n",
       "2018-08-31 23:50:00          53\n",
       "\n",
       "[26496 rows x 1 columns]"
      ]
     },
     "metadata": {},
     "output_type": "display_data"
    }
   ],
   "source": [
    "display(data)"
   ]
  },
  {
   "cell_type": "markdown",
   "metadata": {},
   "source": [
    "## Анализ"
   ]
  },
  {
   "cell_type": "markdown",
   "metadata": {},
   "source": [
    "Проверим что индексы указаны в хронологическом порядке"
   ]
  },
  {
   "cell_type": "code",
   "execution_count": 10,
   "metadata": {},
   "outputs": [
    {
     "data": {
      "text/plain": [
       "True"
      ]
     },
     "execution_count": 10,
     "metadata": {},
     "output_type": "execute_result"
    }
   ],
   "source": [
    "data.index.is_monotonic"
   ]
  },
  {
   "cell_type": "markdown",
   "metadata": {},
   "source": [
    "Посмотрим на общую картину, которую даёт данный датафрейм"
   ]
  },
  {
   "cell_type": "code",
   "execution_count": 11,
   "metadata": {},
   "outputs": [
    {
     "data": {
      "text/plain": [
       "<AxesSubplot:xlabel='datetime'>"
      ]
     },
     "execution_count": 11,
     "metadata": {},
     "output_type": "execute_result"
    },
    {
     "data": {
      "image/png": "[encoded data removed]",
      "text/plain": [
       "<Figure size 720x720 with 1 Axes>"
      ]
     },
     "metadata": {
      "needs_background": "light"
     },
     "output_type": "display_data"
    }
   ],
   "source": [
    "data.plot(figsize=(10, 10))"
   ]
  },
  {
   "cell_type": "markdown",
   "metadata": {},
   "source": [
    "В исходном датафрейме слишком малый промежуток времени - 10 минут между каждым значением. Для того чтобы картина стала более читаемой и наглядной возьмём значения за 1 день - это сократит число значений на графике и позволит в более читаемом виде посмотреть динамику заказов"
   ]
  },
  {
   "cell_type": "code",
   "execution_count": 12,
   "metadata": {
    "scrolled": false
   },
   "outputs": [
    {
     "data": {
      "image/png": "[encoded data removed]",
      "text/plain": [
       "<Figure size 1440x720 with 1 Axes>"
      ]
     },
     "metadata": {
      "needs_background": "light"
     },
     "output_type": "display_data"
    }
   ],
   "source": [
    "data.resample('1D').sum().plot(figsize=(20, 10), grid=True)\n",
    "plt.title('Число заказов по дням')\n",
    "plt.legend(['Число заказов'])\n",
    "plt.xlabel('Дата');"
   ]
  },
  {
   "cell_type": "markdown",
   "metadata": {},
   "source": [
    "Данные предсталены с первого дня весны по последний день лета - с 1 марта по 31 августа. Судя по графику можем сказать что заметен стабильный рост в числе заказов - видимо из-за летнего наплыва туристов или каких-то подобных факторов, которые увеличивают число потенциальных пользователей такси"
   ]
  },
  {
   "cell_type": "code",
   "execution_count": 13,
   "metadata": {},
   "outputs": [],
   "source": [
    "decomposed = seasonal_decompose(data['num_orders'].resample('1H').sum())"
   ]
  },
  {
   "cell_type": "code",
   "execution_count": 14,
   "metadata": {},
   "outputs": [
    {
     "data": {
      "image/png": "[encoded data removed]",
      "text/plain": [
       "<Figure size 1440x720 with 1 Axes>"
      ]
     },
     "metadata": {
      "needs_background": "light"
     },
     "output_type": "display_data"
    }
   ],
   "source": [
    "decomposed.trend.plot(figsize=(20, 10), grid=True)\n",
    "plt.title('Тренд числа заказов')\n",
    "plt.legend(['Число заказов'])\n",
    "plt.xlabel('Дата');"
   ]
  },
  {
   "cell_type": "markdown",
   "metadata": {},
   "source": [
    "Как и было указано ранее - число заказов в течение всей числовой прямой из предоставленных данных идёт на увеличение"
   ]
  },
  {
   "cell_type": "code",
   "execution_count": 15,
   "metadata": {},
   "outputs": [
    {
     "data": {
      "image/png": "[encoded data removed]",
      "text/plain": [
       "<Figure size 1440x720 with 1 Axes>"
      ]
     },
     "metadata": {
      "needs_background": "light"
     },
     "output_type": "display_data"
    }
   ],
   "source": [
    "decomposed.seasonal.plot(figsize=(20, 10), grid=True)\n",
    "plt.title('Цикличность числа заказов')\n",
    "plt.legend(['Число заказов'])\n",
    "plt.xlabel('Дата');"
   ]
  },
  {
   "cell_type": "markdown",
   "metadata": {},
   "source": [
    "Для понимания периода цикличности резонно будет рассмотреть какой-то более мелкий диапазон. Например неделя"
   ]
  },
  {
   "cell_type": "code",
   "execution_count": 16,
   "metadata": {},
   "outputs": [
    {
     "data": {
      "image/png": "[encoded data removed]",
      "text/plain": [
       "<Figure size 1440x720 with 1 Axes>"
      ]
     },
     "metadata": {
      "needs_background": "light"
     },
     "output_type": "display_data"
    }
   ],
   "source": [
    "decomposed.seasonal['2018-03-01':'2018-03-07'].plot(figsize=(20, 10), grid=True)\n",
    "plt.title('Цикличность числа заказов')\n",
    "plt.legend(['Число заказов'])\n",
    "plt.xlabel('День недели');"
   ]
  },
  {
   "cell_type": "markdown",
   "metadata": {},
   "source": [
    "Можем заметить, что один цикл занимает примерно сутки - сузим рассматриваемый диапзазон до дня"
   ]
  },
  {
   "cell_type": "code",
   "execution_count": 17,
   "metadata": {},
   "outputs": [
    {
     "data": {
      "image/png": "[encoded data removed]",
      "text/plain": [
       "<Figure size 1440x720 with 1 Axes>"
      ]
     },
     "metadata": {
      "needs_background": "light"
     },
     "output_type": "display_data"
    }
   ],
   "source": [
    "decomposed.seasonal['2018-03-01 00:00':'2018-03-02 00:00'].plot(figsize=(20, 10), grid=True)\n",
    "plt.title('Цикличность числа заказов')\n",
    "plt.legend(['Число заказов'])\n",
    "plt.xlabel('День недели');"
   ]
  },
  {
   "cell_type": "markdown",
   "metadata": {},
   "source": [
    "Теперь можем сказать, что пиковые значения вызовов такси наблюдаются в районе полуночи, спад активности - около 6 утра. Локальный максимум активности так же показывают 10:00 и 16:00 - не совсем близко к реальности, но тем не менее в рамках исследованя можно предположить, что примерно в это время люди едут на/после работы, и как раз поскольку они находятся на работе - между этими максимумами наблюдается спад, - такси перестают так активно заказывать, так как все сидят в офисах"
   ]
  },
  {
   "cell_type": "code",
   "execution_count": 18,
   "metadata": {},
   "outputs": [
    {
     "data": {
      "image/png": "[encoded data removed]",
      "text/plain": [
       "<Figure size 1440x720 with 1 Axes>"
      ]
     },
     "metadata": {
      "needs_background": "light"
     },
     "output_type": "display_data"
    }
   ],
   "source": [
    "decomposed.resid.plot(figsize=(20, 10), grid=True)\n",
    "plt.title('Остатки декомпозиции')\n",
    "plt.legend(['Число заказов'])\n",
    "plt.xlabel('Дата');"
   ]
  },
  {
   "cell_type": "markdown",
   "metadata": {},
   "source": [
    "## Обучение"
   ]
  },
  {
   "cell_type": "markdown",
   "metadata": {},
   "source": [
    "### Разбиение данных на выборки и подготовка дополнительных признаков"
   ]
  },
  {
   "cell_type": "markdown",
   "metadata": {},
   "source": [
    "Так как нас интересуют предсказания на следующий час, то сделаем ресемплирование по часу:"
   ]
  },
  {
   "cell_type": "code",
   "execution_count": 19,
   "metadata": {},
   "outputs": [],
   "source": [
    "data_resampled = data.resample('1H').sum()"
   ]
  },
  {
   "cell_type": "markdown",
   "metadata": {},
   "source": [
    "Напишем функцию, которая создаст дополнительные признаки для обучения: месяц, день месяца, день недели и час, а так же добавит отстающие значения. По этому дополнительному набору данных модель сможет сделать предсказания более точными. "
   ]
  },
  {
   "cell_type": "code",
   "execution_count": 20,
   "metadata": {},
   "outputs": [],
   "source": [
    "def make_features(data, max_lag):\n",
    "    bonus_features_data = data.copy(deep = True)\n",
    "    bonus_features_data['month'] = data.index.month\n",
    "    bonus_features_data['day'] = data.index.day\n",
    "    bonus_features_data['dayofweek'] = data.index.dayofweek\n",
    "    bonus_features_data['hour'] = data.index.hour\n",
    "    \n",
    "    for lag in range(1, max_lag + 1):\n",
    "        bonus_features_data['lag_{}'.format(lag)] = bonus_features_data['num_orders'].shift(lag)\n",
    "        \n",
    "    return bonus_features_data"
   ]
  },
  {
   "cell_type": "markdown",
   "metadata": {},
   "source": [
    "Чем больше будет отстающих значений, тем болше будет разрастаться датафрейм, и тем дольше времени займет обучение, но как показала практика только на действительно большом наборе данных удалось добиться нужного значения метрики - поэтому по итогу данный параметр дошел до целых 15"
   ]
  },
  {
   "cell_type": "code",
   "execution_count": 21,
   "metadata": {},
   "outputs": [],
   "source": [
    "bonus_features_data = make_features(data_resampled, 15)"
   ]
  },
  {
   "cell_type": "markdown",
   "metadata": {},
   "source": [
    "Отделим от данных тестовую выборку. По условию она должна быть 10 %. Учтём тот факт, что данные нельзя перемешивать, так как в противном случае собьется хронология"
   ]
  },
  {
   "cell_type": "code",
   "execution_count": 22,
   "metadata": {},
   "outputs": [],
   "source": [
    "train, test = train_test_split(bonus_features_data, shuffle=False, test_size=0.1)"
   ]
  },
  {
   "cell_type": "markdown",
   "metadata": {},
   "source": [
    "Удалим пропущенные строки из тренировочной выборки, который получились из-за введения признаков отстающих значений"
   ]
  },
  {
   "cell_type": "code",
   "execution_count": 23,
   "metadata": {},
   "outputs": [],
   "source": [
    "train = train.dropna()"
   ]
  },
  {
   "cell_type": "code",
   "execution_count": 24,
   "metadata": {},
   "outputs": [
    {
     "name": "stdout",
     "output_type": "stream",
     "text": [
      "Временной диапазон обучающих данных: с 2018-03-01 15:00:00 до 2018-08-13 13:00:00 \n"
     ]
    }
   ],
   "source": [
    "print(f'Временной диапазон обучающих данных: с {train.index.min()} до {train.index.max()} ')"
   ]
  },
  {
   "cell_type": "code",
   "execution_count": 25,
   "metadata": {},
   "outputs": [
    {
     "name": "stdout",
     "output_type": "stream",
     "text": [
      "Временной диапазон тестовых данных: с 2018-08-13 14:00:00 до 2018-08-31 23:00:00 \n"
     ]
    }
   ],
   "source": [
    "print(f'Временной диапазон тестовых данных: с {test.index.min()} до {test.index.max()} ')"
   ]
  },
  {
   "cell_type": "markdown",
   "metadata": {},
   "source": [
    "Получается, задача будет по сути состоять в том, чтобы предсказать кол-во заказов такси в последние 2 недели августа"
   ]
  },
  {
   "cell_type": "markdown",
   "metadata": {},
   "source": [
    "Внутри тренировочной выборки сделаем так же разделение на 90% и 10 % для создания валидационной выборки, на которой можно будет проверять модели перед финальным тестированием"
   ]
  },
  {
   "cell_type": "code",
   "execution_count": 26,
   "metadata": {},
   "outputs": [],
   "source": [
    "train, valid = train_test_split(train, shuffle=False, test_size=0.1)"
   ]
  },
  {
   "cell_type": "markdown",
   "metadata": {},
   "source": [
    "Посмотрим на то какие выборки получились"
   ]
  },
  {
   "cell_type": "code",
   "execution_count": 27,
   "metadata": {},
   "outputs": [
    {
     "data": {
      "text/html": [
       "<div>\n",
       "<style scoped>\n",
       "    .dataframe tbody tr th:only-of-type {\n",
       "        vertical-align: middle;\n",
       "    }\n",
       "\n",
       "    .dataframe tbody tr th {\n",
       "        vertical-align: top;\n",
       "    }\n",
       "\n",
       "    .dataframe thead th {\n",
       "        text-align: right;\n",
       "    }\n",
       "</style>\n",
       "<table border=\"1\" class=\"dataframe\">\n",
       "  <thead>\n",
       "    <tr style=\"text-align: right;\">\n",
       "      <th></th>\n",
       "      <th>num_orders</th>\n",
       "      <th>month</th>\n",
       "      <th>day</th>\n",
       "      <th>dayofweek</th>\n",
       "      <th>hour</th>\n",
       "      <th>lag_1</th>\n",
       "      <th>lag_2</th>\n",
       "      <th>lag_3</th>\n",
       "      <th>lag_4</th>\n",
       "      <th>lag_5</th>\n",
       "      <th>lag_6</th>\n",
       "      <th>lag_7</th>\n",
       "      <th>lag_8</th>\n",
       "      <th>lag_9</th>\n",
       "      <th>lag_10</th>\n",
       "      <th>lag_11</th>\n",
       "      <th>lag_12</th>\n",
       "      <th>lag_13</th>\n",
       "      <th>lag_14</th>\n",
       "      <th>lag_15</th>\n",
       "    </tr>\n",
       "    <tr>\n",
       "      <th>datetime</th>\n",
       "      <th></th>\n",
       "      <th></th>\n",
       "      <th></th>\n",
       "      <th></th>\n",
       "      <th></th>\n",
       "      <th></th>\n",
       "      <th></th>\n",
       "      <th></th>\n",
       "      <th></th>\n",
       "      <th></th>\n",
       "      <th></th>\n",
       "      <th></th>\n",
       "      <th></th>\n",
       "      <th></th>\n",
       "      <th></th>\n",
       "      <th></th>\n",
       "      <th></th>\n",
       "      <th></th>\n",
       "      <th></th>\n",
       "      <th></th>\n",
       "    </tr>\n",
       "  </thead>\n",
       "  <tbody>\n",
       "    <tr>\n",
       "      <th>2018-03-01 15:00:00</th>\n",
       "      <td>66</td>\n",
       "      <td>3</td>\n",
       "      <td>1</td>\n",
       "      <td>3</td>\n",
       "      <td>15</td>\n",
       "      <td>48.0</td>\n",
       "      <td>32.0</td>\n",
       "      <td>30.0</td>\n",
       "      <td>96.0</td>\n",
       "      <td>64.0</td>\n",
       "      <td>69.0</td>\n",
       "      <td>34.0</td>\n",
       "      <td>15.0</td>\n",
       "      <td>12.0</td>\n",
       "      <td>6.0</td>\n",
       "      <td>43.0</td>\n",
       "      <td>66.0</td>\n",
       "      <td>71.0</td>\n",
       "      <td>85.0</td>\n",
       "      <td>124.0</td>\n",
       "    </tr>\n",
       "    <tr>\n",
       "      <th>2018-03-01 16:00:00</th>\n",
       "      <td>43</td>\n",
       "      <td>3</td>\n",
       "      <td>1</td>\n",
       "      <td>3</td>\n",
       "      <td>16</td>\n",
       "      <td>66.0</td>\n",
       "      <td>48.0</td>\n",
       "      <td>32.0</td>\n",
       "      <td>30.0</td>\n",
       "      <td>96.0</td>\n",
       "      <td>64.0</td>\n",
       "      <td>69.0</td>\n",
       "      <td>34.0</td>\n",
       "      <td>15.0</td>\n",
       "      <td>12.0</td>\n",
       "      <td>6.0</td>\n",
       "      <td>43.0</td>\n",
       "      <td>66.0</td>\n",
       "      <td>71.0</td>\n",
       "      <td>85.0</td>\n",
       "    </tr>\n",
       "    <tr>\n",
       "      <th>2018-03-01 17:00:00</th>\n",
       "      <td>44</td>\n",
       "      <td>3</td>\n",
       "      <td>1</td>\n",
       "      <td>3</td>\n",
       "      <td>17</td>\n",
       "      <td>43.0</td>\n",
       "      <td>66.0</td>\n",
       "      <td>48.0</td>\n",
       "      <td>32.0</td>\n",
       "      <td>30.0</td>\n",
       "      <td>96.0</td>\n",
       "      <td>64.0</td>\n",
       "      <td>69.0</td>\n",
       "      <td>34.0</td>\n",
       "      <td>15.0</td>\n",
       "      <td>12.0</td>\n",
       "      <td>6.0</td>\n",
       "      <td>43.0</td>\n",
       "      <td>66.0</td>\n",
       "      <td>71.0</td>\n",
       "    </tr>\n",
       "    <tr>\n",
       "      <th>2018-03-01 18:00:00</th>\n",
       "      <td>73</td>\n",
       "      <td>3</td>\n",
       "      <td>1</td>\n",
       "      <td>3</td>\n",
       "      <td>18</td>\n",
       "      <td>44.0</td>\n",
       "      <td>43.0</td>\n",
       "      <td>66.0</td>\n",
       "      <td>48.0</td>\n",
       "      <td>32.0</td>\n",
       "      <td>30.0</td>\n",
       "      <td>96.0</td>\n",
       "      <td>64.0</td>\n",
       "      <td>69.0</td>\n",
       "      <td>34.0</td>\n",
       "      <td>15.0</td>\n",
       "      <td>12.0</td>\n",
       "      <td>6.0</td>\n",
       "      <td>43.0</td>\n",
       "      <td>66.0</td>\n",
       "    </tr>\n",
       "    <tr>\n",
       "      <th>2018-03-01 19:00:00</th>\n",
       "      <td>45</td>\n",
       "      <td>3</td>\n",
       "      <td>1</td>\n",
       "      <td>3</td>\n",
       "      <td>19</td>\n",
       "      <td>73.0</td>\n",
       "      <td>44.0</td>\n",
       "      <td>43.0</td>\n",
       "      <td>66.0</td>\n",
       "      <td>48.0</td>\n",
       "      <td>32.0</td>\n",
       "      <td>30.0</td>\n",
       "      <td>96.0</td>\n",
       "      <td>64.0</td>\n",
       "      <td>69.0</td>\n",
       "      <td>34.0</td>\n",
       "      <td>15.0</td>\n",
       "      <td>12.0</td>\n",
       "      <td>6.0</td>\n",
       "      <td>43.0</td>\n",
       "    </tr>\n",
       "    <tr>\n",
       "      <th>...</th>\n",
       "      <td>...</td>\n",
       "      <td>...</td>\n",
       "      <td>...</td>\n",
       "      <td>...</td>\n",
       "      <td>...</td>\n",
       "      <td>...</td>\n",
       "      <td>...</td>\n",
       "      <td>...</td>\n",
       "      <td>...</td>\n",
       "      <td>...</td>\n",
       "      <td>...</td>\n",
       "      <td>...</td>\n",
       "      <td>...</td>\n",
       "      <td>...</td>\n",
       "      <td>...</td>\n",
       "      <td>...</td>\n",
       "      <td>...</td>\n",
       "      <td>...</td>\n",
       "      <td>...</td>\n",
       "      <td>...</td>\n",
       "    </tr>\n",
       "    <tr>\n",
       "      <th>2018-07-27 21:00:00</th>\n",
       "      <td>133</td>\n",
       "      <td>7</td>\n",
       "      <td>27</td>\n",
       "      <td>4</td>\n",
       "      <td>21</td>\n",
       "      <td>131.0</td>\n",
       "      <td>86.0</td>\n",
       "      <td>76.0</td>\n",
       "      <td>160.0</td>\n",
       "      <td>162.0</td>\n",
       "      <td>113.0</td>\n",
       "      <td>61.0</td>\n",
       "      <td>144.0</td>\n",
       "      <td>118.0</td>\n",
       "      <td>110.0</td>\n",
       "      <td>149.0</td>\n",
       "      <td>139.0</td>\n",
       "      <td>89.0</td>\n",
       "      <td>44.0</td>\n",
       "      <td>78.0</td>\n",
       "    </tr>\n",
       "    <tr>\n",
       "      <th>2018-07-27 22:00:00</th>\n",
       "      <td>213</td>\n",
       "      <td>7</td>\n",
       "      <td>27</td>\n",
       "      <td>4</td>\n",
       "      <td>22</td>\n",
       "      <td>133.0</td>\n",
       "      <td>131.0</td>\n",
       "      <td>86.0</td>\n",
       "      <td>76.0</td>\n",
       "      <td>160.0</td>\n",
       "      <td>162.0</td>\n",
       "      <td>113.0</td>\n",
       "      <td>61.0</td>\n",
       "      <td>144.0</td>\n",
       "      <td>118.0</td>\n",
       "      <td>110.0</td>\n",
       "      <td>149.0</td>\n",
       "      <td>139.0</td>\n",
       "      <td>89.0</td>\n",
       "      <td>44.0</td>\n",
       "    </tr>\n",
       "    <tr>\n",
       "      <th>2018-07-27 23:00:00</th>\n",
       "      <td>122</td>\n",
       "      <td>7</td>\n",
       "      <td>27</td>\n",
       "      <td>4</td>\n",
       "      <td>23</td>\n",
       "      <td>213.0</td>\n",
       "      <td>133.0</td>\n",
       "      <td>131.0</td>\n",
       "      <td>86.0</td>\n",
       "      <td>76.0</td>\n",
       "      <td>160.0</td>\n",
       "      <td>162.0</td>\n",
       "      <td>113.0</td>\n",
       "      <td>61.0</td>\n",
       "      <td>144.0</td>\n",
       "      <td>118.0</td>\n",
       "      <td>110.0</td>\n",
       "      <td>149.0</td>\n",
       "      <td>139.0</td>\n",
       "      <td>89.0</td>\n",
       "    </tr>\n",
       "    <tr>\n",
       "      <th>2018-07-28 00:00:00</th>\n",
       "      <td>192</td>\n",
       "      <td>7</td>\n",
       "      <td>28</td>\n",
       "      <td>5</td>\n",
       "      <td>0</td>\n",
       "      <td>122.0</td>\n",
       "      <td>213.0</td>\n",
       "      <td>133.0</td>\n",
       "      <td>131.0</td>\n",
       "      <td>86.0</td>\n",
       "      <td>76.0</td>\n",
       "      <td>160.0</td>\n",
       "      <td>162.0</td>\n",
       "      <td>113.0</td>\n",
       "      <td>61.0</td>\n",
       "      <td>144.0</td>\n",
       "      <td>118.0</td>\n",
       "      <td>110.0</td>\n",
       "      <td>149.0</td>\n",
       "      <td>139.0</td>\n",
       "    </tr>\n",
       "    <tr>\n",
       "      <th>2018-07-28 01:00:00</th>\n",
       "      <td>195</td>\n",
       "      <td>7</td>\n",
       "      <td>28</td>\n",
       "      <td>5</td>\n",
       "      <td>1</td>\n",
       "      <td>192.0</td>\n",
       "      <td>122.0</td>\n",
       "      <td>213.0</td>\n",
       "      <td>133.0</td>\n",
       "      <td>131.0</td>\n",
       "      <td>86.0</td>\n",
       "      <td>76.0</td>\n",
       "      <td>160.0</td>\n",
       "      <td>162.0</td>\n",
       "      <td>113.0</td>\n",
       "      <td>61.0</td>\n",
       "      <td>144.0</td>\n",
       "      <td>118.0</td>\n",
       "      <td>110.0</td>\n",
       "      <td>149.0</td>\n",
       "    </tr>\n",
       "  </tbody>\n",
       "</table>\n",
       "<p>3563 rows × 20 columns</p>\n",
       "</div>"
      ],
      "text/plain": [
       "                     num_orders  month  day  dayofweek  hour  lag_1  lag_2  \\\n",
       "datetime                                                                     \n",
       "2018-03-01 15:00:00          66      3    1          3    15   48.0   32.0   \n",
       "2018-03-01 16:00:00          43      3    1          3    16   66.0   48.0   \n",
       "2018-03-01 17:00:00          44      3    1          3    17   43.0   66.0   \n",
       "2018-03-01 18:00:00          73      3    1          3    18   44.0   43.0   \n",
       "2018-03-01 19:00:00          45      3    1          3    19   73.0   44.0   \n",
       "...                         ...    ...  ...        ...   ...    ...    ...   \n",
       "2018-07-27 21:00:00         133      7   27          4    21  131.0   86.0   \n",
       "2018-07-27 22:00:00         213      7   27          4    22  133.0  131.0   \n",
       "2018-07-27 23:00:00         122      7   27          4    23  213.0  133.0   \n",
       "2018-07-28 00:00:00         192      7   28          5     0  122.0  213.0   \n",
       "2018-07-28 01:00:00         195      7   28          5     1  192.0  122.0   \n",
       "\n",
       "                     lag_3  lag_4  lag_5  lag_6  lag_7  lag_8  lag_9  lag_10  \\\n",
       "datetime                                                                       \n",
       "2018-03-01 15:00:00   30.0   96.0   64.0   69.0   34.0   15.0   12.0     6.0   \n",
       "2018-03-01 16:00:00   32.0   30.0   96.0   64.0   69.0   34.0   15.0    12.0   \n",
       "2018-03-01 17:00:00   48.0   32.0   30.0   96.0   64.0   69.0   34.0    15.0   \n",
       "2018-03-01 18:00:00   66.0   48.0   32.0   30.0   96.0   64.0   69.0    34.0   \n",
       "2018-03-01 19:00:00   43.0   66.0   48.0   32.0   30.0   96.0   64.0    69.0   \n",
       "...                    ...    ...    ...    ...    ...    ...    ...     ...   \n",
       "2018-07-27 21:00:00   76.0  160.0  162.0  113.0   61.0  144.0  118.0   110.0   \n",
       "2018-07-27 22:00:00   86.0   76.0  160.0  162.0  113.0   61.0  144.0   118.0   \n",
       "2018-07-27 23:00:00  131.0   86.0   76.0  160.0  162.0  113.0   61.0   144.0   \n",
       "2018-07-28 00:00:00  133.0  131.0   86.0   76.0  160.0  162.0  113.0    61.0   \n",
       "2018-07-28 01:00:00  213.0  133.0  131.0   86.0   76.0  160.0  162.0   113.0   \n",
       "\n",
       "                     lag_11  lag_12  lag_13  lag_14  lag_15  \n",
       "datetime                                                     \n",
       "2018-03-01 15:00:00    43.0    66.0    71.0    85.0   124.0  \n",
       "2018-03-01 16:00:00     6.0    43.0    66.0    71.0    85.0  \n",
       "2018-03-01 17:00:00    12.0     6.0    43.0    66.0    71.0  \n",
       "2018-03-01 18:00:00    15.0    12.0     6.0    43.0    66.0  \n",
       "2018-03-01 19:00:00    34.0    15.0    12.0     6.0    43.0  \n",
       "...                     ...     ...     ...     ...     ...  \n",
       "2018-07-27 21:00:00   149.0   139.0    89.0    44.0    78.0  \n",
       "2018-07-27 22:00:00   110.0   149.0   139.0    89.0    44.0  \n",
       "2018-07-27 23:00:00   118.0   110.0   149.0   139.0    89.0  \n",
       "2018-07-28 00:00:00   144.0   118.0   110.0   149.0   139.0  \n",
       "2018-07-28 01:00:00    61.0   144.0   118.0   110.0   149.0  \n",
       "\n",
       "[3563 rows x 20 columns]"
      ]
     },
     "metadata": {},
     "output_type": "display_data"
    }
   ],
   "source": [
    "display(train)"
   ]
  },
  {
   "cell_type": "code",
   "execution_count": 28,
   "metadata": {},
   "outputs": [
    {
     "data": {
      "text/html": [
       "<div>\n",
       "<style scoped>\n",
       "    .dataframe tbody tr th:only-of-type {\n",
       "        vertical-align: middle;\n",
       "    }\n",
       "\n",
       "    .dataframe tbody tr th {\n",
       "        vertical-align: top;\n",
       "    }\n",
       "\n",
       "    .dataframe thead th {\n",
       "        text-align: right;\n",
       "    }\n",
       "</style>\n",
       "<table border=\"1\" class=\"dataframe\">\n",
       "  <thead>\n",
       "    <tr style=\"text-align: right;\">\n",
       "      <th></th>\n",
       "      <th>num_orders</th>\n",
       "      <th>month</th>\n",
       "      <th>day</th>\n",
       "      <th>dayofweek</th>\n",
       "      <th>hour</th>\n",
       "      <th>lag_1</th>\n",
       "      <th>lag_2</th>\n",
       "      <th>lag_3</th>\n",
       "      <th>lag_4</th>\n",
       "      <th>lag_5</th>\n",
       "      <th>lag_6</th>\n",
       "      <th>lag_7</th>\n",
       "      <th>lag_8</th>\n",
       "      <th>lag_9</th>\n",
       "      <th>lag_10</th>\n",
       "      <th>lag_11</th>\n",
       "      <th>lag_12</th>\n",
       "      <th>lag_13</th>\n",
       "      <th>lag_14</th>\n",
       "      <th>lag_15</th>\n",
       "    </tr>\n",
       "    <tr>\n",
       "      <th>datetime</th>\n",
       "      <th></th>\n",
       "      <th></th>\n",
       "      <th></th>\n",
       "      <th></th>\n",
       "      <th></th>\n",
       "      <th></th>\n",
       "      <th></th>\n",
       "      <th></th>\n",
       "      <th></th>\n",
       "      <th></th>\n",
       "      <th></th>\n",
       "      <th></th>\n",
       "      <th></th>\n",
       "      <th></th>\n",
       "      <th></th>\n",
       "      <th></th>\n",
       "      <th></th>\n",
       "      <th></th>\n",
       "      <th></th>\n",
       "      <th></th>\n",
       "    </tr>\n",
       "  </thead>\n",
       "  <tbody>\n",
       "    <tr>\n",
       "      <th>2018-07-28 02:00:00</th>\n",
       "      <td>145</td>\n",
       "      <td>7</td>\n",
       "      <td>28</td>\n",
       "      <td>5</td>\n",
       "      <td>2</td>\n",
       "      <td>195.0</td>\n",
       "      <td>192.0</td>\n",
       "      <td>122.0</td>\n",
       "      <td>213.0</td>\n",
       "      <td>133.0</td>\n",
       "      <td>131.0</td>\n",
       "      <td>86.0</td>\n",
       "      <td>76.0</td>\n",
       "      <td>160.0</td>\n",
       "      <td>162.0</td>\n",
       "      <td>113.0</td>\n",
       "      <td>61.0</td>\n",
       "      <td>144.0</td>\n",
       "      <td>118.0</td>\n",
       "      <td>110.0</td>\n",
       "    </tr>\n",
       "    <tr>\n",
       "      <th>2018-07-28 03:00:00</th>\n",
       "      <td>132</td>\n",
       "      <td>7</td>\n",
       "      <td>28</td>\n",
       "      <td>5</td>\n",
       "      <td>3</td>\n",
       "      <td>145.0</td>\n",
       "      <td>195.0</td>\n",
       "      <td>192.0</td>\n",
       "      <td>122.0</td>\n",
       "      <td>213.0</td>\n",
       "      <td>133.0</td>\n",
       "      <td>131.0</td>\n",
       "      <td>86.0</td>\n",
       "      <td>76.0</td>\n",
       "      <td>160.0</td>\n",
       "      <td>162.0</td>\n",
       "      <td>113.0</td>\n",
       "      <td>61.0</td>\n",
       "      <td>144.0</td>\n",
       "      <td>118.0</td>\n",
       "    </tr>\n",
       "    <tr>\n",
       "      <th>2018-07-28 04:00:00</th>\n",
       "      <td>215</td>\n",
       "      <td>7</td>\n",
       "      <td>28</td>\n",
       "      <td>5</td>\n",
       "      <td>4</td>\n",
       "      <td>132.0</td>\n",
       "      <td>145.0</td>\n",
       "      <td>195.0</td>\n",
       "      <td>192.0</td>\n",
       "      <td>122.0</td>\n",
       "      <td>213.0</td>\n",
       "      <td>133.0</td>\n",
       "      <td>131.0</td>\n",
       "      <td>86.0</td>\n",
       "      <td>76.0</td>\n",
       "      <td>160.0</td>\n",
       "      <td>162.0</td>\n",
       "      <td>113.0</td>\n",
       "      <td>61.0</td>\n",
       "      <td>144.0</td>\n",
       "    </tr>\n",
       "    <tr>\n",
       "      <th>2018-07-28 05:00:00</th>\n",
       "      <td>91</td>\n",
       "      <td>7</td>\n",
       "      <td>28</td>\n",
       "      <td>5</td>\n",
       "      <td>5</td>\n",
       "      <td>215.0</td>\n",
       "      <td>132.0</td>\n",
       "      <td>145.0</td>\n",
       "      <td>195.0</td>\n",
       "      <td>192.0</td>\n",
       "      <td>122.0</td>\n",
       "      <td>213.0</td>\n",
       "      <td>133.0</td>\n",
       "      <td>131.0</td>\n",
       "      <td>86.0</td>\n",
       "      <td>76.0</td>\n",
       "      <td>160.0</td>\n",
       "      <td>162.0</td>\n",
       "      <td>113.0</td>\n",
       "      <td>61.0</td>\n",
       "    </tr>\n",
       "    <tr>\n",
       "      <th>2018-07-28 06:00:00</th>\n",
       "      <td>44</td>\n",
       "      <td>7</td>\n",
       "      <td>28</td>\n",
       "      <td>5</td>\n",
       "      <td>6</td>\n",
       "      <td>91.0</td>\n",
       "      <td>215.0</td>\n",
       "      <td>132.0</td>\n",
       "      <td>145.0</td>\n",
       "      <td>195.0</td>\n",
       "      <td>192.0</td>\n",
       "      <td>122.0</td>\n",
       "      <td>213.0</td>\n",
       "      <td>133.0</td>\n",
       "      <td>131.0</td>\n",
       "      <td>86.0</td>\n",
       "      <td>76.0</td>\n",
       "      <td>160.0</td>\n",
       "      <td>162.0</td>\n",
       "      <td>113.0</td>\n",
       "    </tr>\n",
       "    <tr>\n",
       "      <th>...</th>\n",
       "      <td>...</td>\n",
       "      <td>...</td>\n",
       "      <td>...</td>\n",
       "      <td>...</td>\n",
       "      <td>...</td>\n",
       "      <td>...</td>\n",
       "      <td>...</td>\n",
       "      <td>...</td>\n",
       "      <td>...</td>\n",
       "      <td>...</td>\n",
       "      <td>...</td>\n",
       "      <td>...</td>\n",
       "      <td>...</td>\n",
       "      <td>...</td>\n",
       "      <td>...</td>\n",
       "      <td>...</td>\n",
       "      <td>...</td>\n",
       "      <td>...</td>\n",
       "      <td>...</td>\n",
       "      <td>...</td>\n",
       "    </tr>\n",
       "    <tr>\n",
       "      <th>2018-08-13 09:00:00</th>\n",
       "      <td>137</td>\n",
       "      <td>8</td>\n",
       "      <td>13</td>\n",
       "      <td>0</td>\n",
       "      <td>9</td>\n",
       "      <td>91.0</td>\n",
       "      <td>39.0</td>\n",
       "      <td>66.0</td>\n",
       "      <td>83.0</td>\n",
       "      <td>143.0</td>\n",
       "      <td>168.0</td>\n",
       "      <td>437.0</td>\n",
       "      <td>273.0</td>\n",
       "      <td>160.0</td>\n",
       "      <td>185.0</td>\n",
       "      <td>118.0</td>\n",
       "      <td>135.0</td>\n",
       "      <td>98.0</td>\n",
       "      <td>82.0</td>\n",
       "      <td>78.0</td>\n",
       "    </tr>\n",
       "    <tr>\n",
       "      <th>2018-08-13 10:00:00</th>\n",
       "      <td>156</td>\n",
       "      <td>8</td>\n",
       "      <td>13</td>\n",
       "      <td>0</td>\n",
       "      <td>10</td>\n",
       "      <td>137.0</td>\n",
       "      <td>91.0</td>\n",
       "      <td>39.0</td>\n",
       "      <td>66.0</td>\n",
       "      <td>83.0</td>\n",
       "      <td>143.0</td>\n",
       "      <td>168.0</td>\n",
       "      <td>437.0</td>\n",
       "      <td>273.0</td>\n",
       "      <td>160.0</td>\n",
       "      <td>185.0</td>\n",
       "      <td>118.0</td>\n",
       "      <td>135.0</td>\n",
       "      <td>98.0</td>\n",
       "      <td>82.0</td>\n",
       "    </tr>\n",
       "    <tr>\n",
       "      <th>2018-08-13 11:00:00</th>\n",
       "      <td>144</td>\n",
       "      <td>8</td>\n",
       "      <td>13</td>\n",
       "      <td>0</td>\n",
       "      <td>11</td>\n",
       "      <td>156.0</td>\n",
       "      <td>137.0</td>\n",
       "      <td>91.0</td>\n",
       "      <td>39.0</td>\n",
       "      <td>66.0</td>\n",
       "      <td>83.0</td>\n",
       "      <td>143.0</td>\n",
       "      <td>168.0</td>\n",
       "      <td>437.0</td>\n",
       "      <td>273.0</td>\n",
       "      <td>160.0</td>\n",
       "      <td>185.0</td>\n",
       "      <td>118.0</td>\n",
       "      <td>135.0</td>\n",
       "      <td>98.0</td>\n",
       "    </tr>\n",
       "    <tr>\n",
       "      <th>2018-08-13 12:00:00</th>\n",
       "      <td>92</td>\n",
       "      <td>8</td>\n",
       "      <td>13</td>\n",
       "      <td>0</td>\n",
       "      <td>12</td>\n",
       "      <td>144.0</td>\n",
       "      <td>156.0</td>\n",
       "      <td>137.0</td>\n",
       "      <td>91.0</td>\n",
       "      <td>39.0</td>\n",
       "      <td>66.0</td>\n",
       "      <td>83.0</td>\n",
       "      <td>143.0</td>\n",
       "      <td>168.0</td>\n",
       "      <td>437.0</td>\n",
       "      <td>273.0</td>\n",
       "      <td>160.0</td>\n",
       "      <td>185.0</td>\n",
       "      <td>118.0</td>\n",
       "      <td>135.0</td>\n",
       "    </tr>\n",
       "    <tr>\n",
       "      <th>2018-08-13 13:00:00</th>\n",
       "      <td>119</td>\n",
       "      <td>8</td>\n",
       "      <td>13</td>\n",
       "      <td>0</td>\n",
       "      <td>13</td>\n",
       "      <td>92.0</td>\n",
       "      <td>144.0</td>\n",
       "      <td>156.0</td>\n",
       "      <td>137.0</td>\n",
       "      <td>91.0</td>\n",
       "      <td>39.0</td>\n",
       "      <td>66.0</td>\n",
       "      <td>83.0</td>\n",
       "      <td>143.0</td>\n",
       "      <td>168.0</td>\n",
       "      <td>437.0</td>\n",
       "      <td>273.0</td>\n",
       "      <td>160.0</td>\n",
       "      <td>185.0</td>\n",
       "      <td>118.0</td>\n",
       "    </tr>\n",
       "  </tbody>\n",
       "</table>\n",
       "<p>396 rows × 20 columns</p>\n",
       "</div>"
      ],
      "text/plain": [
       "                     num_orders  month  day  dayofweek  hour  lag_1  lag_2  \\\n",
       "datetime                                                                     \n",
       "2018-07-28 02:00:00         145      7   28          5     2  195.0  192.0   \n",
       "2018-07-28 03:00:00         132      7   28          5     3  145.0  195.0   \n",
       "2018-07-28 04:00:00         215      7   28          5     4  132.0  145.0   \n",
       "2018-07-28 05:00:00          91      7   28          5     5  215.0  132.0   \n",
       "2018-07-28 06:00:00          44      7   28          5     6   91.0  215.0   \n",
       "...                         ...    ...  ...        ...   ...    ...    ...   \n",
       "2018-08-13 09:00:00         137      8   13          0     9   91.0   39.0   \n",
       "2018-08-13 10:00:00         156      8   13          0    10  137.0   91.0   \n",
       "2018-08-13 11:00:00         144      8   13          0    11  156.0  137.0   \n",
       "2018-08-13 12:00:00          92      8   13          0    12  144.0  156.0   \n",
       "2018-08-13 13:00:00         119      8   13          0    13   92.0  144.0   \n",
       "\n",
       "                     lag_3  lag_4  lag_5  lag_6  lag_7  lag_8  lag_9  lag_10  \\\n",
       "datetime                                                                       \n",
       "2018-07-28 02:00:00  122.0  213.0  133.0  131.0   86.0   76.0  160.0   162.0   \n",
       "2018-07-28 03:00:00  192.0  122.0  213.0  133.0  131.0   86.0   76.0   160.0   \n",
       "2018-07-28 04:00:00  195.0  192.0  122.0  213.0  133.0  131.0   86.0    76.0   \n",
       "2018-07-28 05:00:00  145.0  195.0  192.0  122.0  213.0  133.0  131.0    86.0   \n",
       "2018-07-28 06:00:00  132.0  145.0  195.0  192.0  122.0  213.0  133.0   131.0   \n",
       "...                    ...    ...    ...    ...    ...    ...    ...     ...   \n",
       "2018-08-13 09:00:00   66.0   83.0  143.0  168.0  437.0  273.0  160.0   185.0   \n",
       "2018-08-13 10:00:00   39.0   66.0   83.0  143.0  168.0  437.0  273.0   160.0   \n",
       "2018-08-13 11:00:00   91.0   39.0   66.0   83.0  143.0  168.0  437.0   273.0   \n",
       "2018-08-13 12:00:00  137.0   91.0   39.0   66.0   83.0  143.0  168.0   437.0   \n",
       "2018-08-13 13:00:00  156.0  137.0   91.0   39.0   66.0   83.0  143.0   168.0   \n",
       "\n",
       "                     lag_11  lag_12  lag_13  lag_14  lag_15  \n",
       "datetime                                                     \n",
       "2018-07-28 02:00:00   113.0    61.0   144.0   118.0   110.0  \n",
       "2018-07-28 03:00:00   162.0   113.0    61.0   144.0   118.0  \n",
       "2018-07-28 04:00:00   160.0   162.0   113.0    61.0   144.0  \n",
       "2018-07-28 05:00:00    76.0   160.0   162.0   113.0    61.0  \n",
       "2018-07-28 06:00:00    86.0    76.0   160.0   162.0   113.0  \n",
       "...                     ...     ...     ...     ...     ...  \n",
       "2018-08-13 09:00:00   118.0   135.0    98.0    82.0    78.0  \n",
       "2018-08-13 10:00:00   185.0   118.0   135.0    98.0    82.0  \n",
       "2018-08-13 11:00:00   160.0   185.0   118.0   135.0    98.0  \n",
       "2018-08-13 12:00:00   273.0   160.0   185.0   118.0   135.0  \n",
       "2018-08-13 13:00:00   437.0   273.0   160.0   185.0   118.0  \n",
       "\n",
       "[396 rows x 20 columns]"
      ]
     },
     "metadata": {},
     "output_type": "display_data"
    }
   ],
   "source": [
    "display(valid)"
   ]
  },
  {
   "cell_type": "code",
   "execution_count": 29,
   "metadata": {},
   "outputs": [
    {
     "data": {
      "text/html": [
       "<div>\n",
       "<style scoped>\n",
       "    .dataframe tbody tr th:only-of-type {\n",
       "        vertical-align: middle;\n",
       "    }\n",
       "\n",
       "    .dataframe tbody tr th {\n",
       "        vertical-align: top;\n",
       "    }\n",
       "\n",
       "    .dataframe thead th {\n",
       "        text-align: right;\n",
       "    }\n",
       "</style>\n",
       "<table border=\"1\" class=\"dataframe\">\n",
       "  <thead>\n",
       "    <tr style=\"text-align: right;\">\n",
       "      <th></th>\n",
       "      <th>num_orders</th>\n",
       "      <th>month</th>\n",
       "      <th>day</th>\n",
       "      <th>dayofweek</th>\n",
       "      <th>hour</th>\n",
       "      <th>lag_1</th>\n",
       "      <th>lag_2</th>\n",
       "      <th>lag_3</th>\n",
       "      <th>lag_4</th>\n",
       "      <th>lag_5</th>\n",
       "      <th>lag_6</th>\n",
       "      <th>lag_7</th>\n",
       "      <th>lag_8</th>\n",
       "      <th>lag_9</th>\n",
       "      <th>lag_10</th>\n",
       "      <th>lag_11</th>\n",
       "      <th>lag_12</th>\n",
       "      <th>lag_13</th>\n",
       "      <th>lag_14</th>\n",
       "      <th>lag_15</th>\n",
       "    </tr>\n",
       "    <tr>\n",
       "      <th>datetime</th>\n",
       "      <th></th>\n",
       "      <th></th>\n",
       "      <th></th>\n",
       "      <th></th>\n",
       "      <th></th>\n",
       "      <th></th>\n",
       "      <th></th>\n",
       "      <th></th>\n",
       "      <th></th>\n",
       "      <th></th>\n",
       "      <th></th>\n",
       "      <th></th>\n",
       "      <th></th>\n",
       "      <th></th>\n",
       "      <th></th>\n",
       "      <th></th>\n",
       "      <th></th>\n",
       "      <th></th>\n",
       "      <th></th>\n",
       "      <th></th>\n",
       "    </tr>\n",
       "  </thead>\n",
       "  <tbody>\n",
       "    <tr>\n",
       "      <th>2018-08-13 14:00:00</th>\n",
       "      <td>102</td>\n",
       "      <td>8</td>\n",
       "      <td>13</td>\n",
       "      <td>0</td>\n",
       "      <td>14</td>\n",
       "      <td>119.0</td>\n",
       "      <td>92.0</td>\n",
       "      <td>144.0</td>\n",
       "      <td>156.0</td>\n",
       "      <td>137.0</td>\n",
       "      <td>91.0</td>\n",
       "      <td>39.0</td>\n",
       "      <td>66.0</td>\n",
       "      <td>83.0</td>\n",
       "      <td>143.0</td>\n",
       "      <td>168.0</td>\n",
       "      <td>437.0</td>\n",
       "      <td>273.0</td>\n",
       "      <td>160.0</td>\n",
       "      <td>185.0</td>\n",
       "    </tr>\n",
       "    <tr>\n",
       "      <th>2018-08-13 15:00:00</th>\n",
       "      <td>175</td>\n",
       "      <td>8</td>\n",
       "      <td>13</td>\n",
       "      <td>0</td>\n",
       "      <td>15</td>\n",
       "      <td>102.0</td>\n",
       "      <td>119.0</td>\n",
       "      <td>92.0</td>\n",
       "      <td>144.0</td>\n",
       "      <td>156.0</td>\n",
       "      <td>137.0</td>\n",
       "      <td>91.0</td>\n",
       "      <td>39.0</td>\n",
       "      <td>66.0</td>\n",
       "      <td>83.0</td>\n",
       "      <td>143.0</td>\n",
       "      <td>168.0</td>\n",
       "      <td>437.0</td>\n",
       "      <td>273.0</td>\n",
       "      <td>160.0</td>\n",
       "    </tr>\n",
       "    <tr>\n",
       "      <th>2018-08-13 16:00:00</th>\n",
       "      <td>144</td>\n",
       "      <td>8</td>\n",
       "      <td>13</td>\n",
       "      <td>0</td>\n",
       "      <td>16</td>\n",
       "      <td>175.0</td>\n",
       "      <td>102.0</td>\n",
       "      <td>119.0</td>\n",
       "      <td>92.0</td>\n",
       "      <td>144.0</td>\n",
       "      <td>156.0</td>\n",
       "      <td>137.0</td>\n",
       "      <td>91.0</td>\n",
       "      <td>39.0</td>\n",
       "      <td>66.0</td>\n",
       "      <td>83.0</td>\n",
       "      <td>143.0</td>\n",
       "      <td>168.0</td>\n",
       "      <td>437.0</td>\n",
       "      <td>273.0</td>\n",
       "    </tr>\n",
       "    <tr>\n",
       "      <th>2018-08-13 17:00:00</th>\n",
       "      <td>152</td>\n",
       "      <td>8</td>\n",
       "      <td>13</td>\n",
       "      <td>0</td>\n",
       "      <td>17</td>\n",
       "      <td>144.0</td>\n",
       "      <td>175.0</td>\n",
       "      <td>102.0</td>\n",
       "      <td>119.0</td>\n",
       "      <td>92.0</td>\n",
       "      <td>144.0</td>\n",
       "      <td>156.0</td>\n",
       "      <td>137.0</td>\n",
       "      <td>91.0</td>\n",
       "      <td>39.0</td>\n",
       "      <td>66.0</td>\n",
       "      <td>83.0</td>\n",
       "      <td>143.0</td>\n",
       "      <td>168.0</td>\n",
       "      <td>437.0</td>\n",
       "    </tr>\n",
       "    <tr>\n",
       "      <th>2018-08-13 18:00:00</th>\n",
       "      <td>104</td>\n",
       "      <td>8</td>\n",
       "      <td>13</td>\n",
       "      <td>0</td>\n",
       "      <td>18</td>\n",
       "      <td>152.0</td>\n",
       "      <td>144.0</td>\n",
       "      <td>175.0</td>\n",
       "      <td>102.0</td>\n",
       "      <td>119.0</td>\n",
       "      <td>92.0</td>\n",
       "      <td>144.0</td>\n",
       "      <td>156.0</td>\n",
       "      <td>137.0</td>\n",
       "      <td>91.0</td>\n",
       "      <td>39.0</td>\n",
       "      <td>66.0</td>\n",
       "      <td>83.0</td>\n",
       "      <td>143.0</td>\n",
       "      <td>168.0</td>\n",
       "    </tr>\n",
       "    <tr>\n",
       "      <th>...</th>\n",
       "      <td>...</td>\n",
       "      <td>...</td>\n",
       "      <td>...</td>\n",
       "      <td>...</td>\n",
       "      <td>...</td>\n",
       "      <td>...</td>\n",
       "      <td>...</td>\n",
       "      <td>...</td>\n",
       "      <td>...</td>\n",
       "      <td>...</td>\n",
       "      <td>...</td>\n",
       "      <td>...</td>\n",
       "      <td>...</td>\n",
       "      <td>...</td>\n",
       "      <td>...</td>\n",
       "      <td>...</td>\n",
       "      <td>...</td>\n",
       "      <td>...</td>\n",
       "      <td>...</td>\n",
       "      <td>...</td>\n",
       "    </tr>\n",
       "    <tr>\n",
       "      <th>2018-08-31 19:00:00</th>\n",
       "      <td>136</td>\n",
       "      <td>8</td>\n",
       "      <td>31</td>\n",
       "      <td>4</td>\n",
       "      <td>19</td>\n",
       "      <td>207.0</td>\n",
       "      <td>217.0</td>\n",
       "      <td>197.0</td>\n",
       "      <td>116.0</td>\n",
       "      <td>133.0</td>\n",
       "      <td>166.0</td>\n",
       "      <td>136.0</td>\n",
       "      <td>167.0</td>\n",
       "      <td>191.0</td>\n",
       "      <td>203.0</td>\n",
       "      <td>182.0</td>\n",
       "      <td>46.0</td>\n",
       "      <td>35.0</td>\n",
       "      <td>78.0</td>\n",
       "      <td>268.0</td>\n",
       "    </tr>\n",
       "    <tr>\n",
       "      <th>2018-08-31 20:00:00</th>\n",
       "      <td>154</td>\n",
       "      <td>8</td>\n",
       "      <td>31</td>\n",
       "      <td>4</td>\n",
       "      <td>20</td>\n",
       "      <td>136.0</td>\n",
       "      <td>207.0</td>\n",
       "      <td>217.0</td>\n",
       "      <td>197.0</td>\n",
       "      <td>116.0</td>\n",
       "      <td>133.0</td>\n",
       "      <td>166.0</td>\n",
       "      <td>136.0</td>\n",
       "      <td>167.0</td>\n",
       "      <td>191.0</td>\n",
       "      <td>203.0</td>\n",
       "      <td>182.0</td>\n",
       "      <td>46.0</td>\n",
       "      <td>35.0</td>\n",
       "      <td>78.0</td>\n",
       "    </tr>\n",
       "    <tr>\n",
       "      <th>2018-08-31 21:00:00</th>\n",
       "      <td>159</td>\n",
       "      <td>8</td>\n",
       "      <td>31</td>\n",
       "      <td>4</td>\n",
       "      <td>21</td>\n",
       "      <td>154.0</td>\n",
       "      <td>136.0</td>\n",
       "      <td>207.0</td>\n",
       "      <td>217.0</td>\n",
       "      <td>197.0</td>\n",
       "      <td>116.0</td>\n",
       "      <td>133.0</td>\n",
       "      <td>166.0</td>\n",
       "      <td>136.0</td>\n",
       "      <td>167.0</td>\n",
       "      <td>191.0</td>\n",
       "      <td>203.0</td>\n",
       "      <td>182.0</td>\n",
       "      <td>46.0</td>\n",
       "      <td>35.0</td>\n",
       "    </tr>\n",
       "    <tr>\n",
       "      <th>2018-08-31 22:00:00</th>\n",
       "      <td>223</td>\n",
       "      <td>8</td>\n",
       "      <td>31</td>\n",
       "      <td>4</td>\n",
       "      <td>22</td>\n",
       "      <td>159.0</td>\n",
       "      <td>154.0</td>\n",
       "      <td>136.0</td>\n",
       "      <td>207.0</td>\n",
       "      <td>217.0</td>\n",
       "      <td>197.0</td>\n",
       "      <td>116.0</td>\n",
       "      <td>133.0</td>\n",
       "      <td>166.0</td>\n",
       "      <td>136.0</td>\n",
       "      <td>167.0</td>\n",
       "      <td>191.0</td>\n",
       "      <td>203.0</td>\n",
       "      <td>182.0</td>\n",
       "      <td>46.0</td>\n",
       "    </tr>\n",
       "    <tr>\n",
       "      <th>2018-08-31 23:00:00</th>\n",
       "      <td>205</td>\n",
       "      <td>8</td>\n",
       "      <td>31</td>\n",
       "      <td>4</td>\n",
       "      <td>23</td>\n",
       "      <td>223.0</td>\n",
       "      <td>159.0</td>\n",
       "      <td>154.0</td>\n",
       "      <td>136.0</td>\n",
       "      <td>207.0</td>\n",
       "      <td>217.0</td>\n",
       "      <td>197.0</td>\n",
       "      <td>116.0</td>\n",
       "      <td>133.0</td>\n",
       "      <td>166.0</td>\n",
       "      <td>136.0</td>\n",
       "      <td>167.0</td>\n",
       "      <td>191.0</td>\n",
       "      <td>203.0</td>\n",
       "      <td>182.0</td>\n",
       "    </tr>\n",
       "  </tbody>\n",
       "</table>\n",
       "<p>442 rows × 20 columns</p>\n",
       "</div>"
      ],
      "text/plain": [
       "                     num_orders  month  day  dayofweek  hour  lag_1  lag_2  \\\n",
       "datetime                                                                     \n",
       "2018-08-13 14:00:00         102      8   13          0    14  119.0   92.0   \n",
       "2018-08-13 15:00:00         175      8   13          0    15  102.0  119.0   \n",
       "2018-08-13 16:00:00         144      8   13          0    16  175.0  102.0   \n",
       "2018-08-13 17:00:00         152      8   13          0    17  144.0  175.0   \n",
       "2018-08-13 18:00:00         104      8   13          0    18  152.0  144.0   \n",
       "...                         ...    ...  ...        ...   ...    ...    ...   \n",
       "2018-08-31 19:00:00         136      8   31          4    19  207.0  217.0   \n",
       "2018-08-31 20:00:00         154      8   31          4    20  136.0  207.0   \n",
       "2018-08-31 21:00:00         159      8   31          4    21  154.0  136.0   \n",
       "2018-08-31 22:00:00         223      8   31          4    22  159.0  154.0   \n",
       "2018-08-31 23:00:00         205      8   31          4    23  223.0  159.0   \n",
       "\n",
       "                     lag_3  lag_4  lag_5  lag_6  lag_7  lag_8  lag_9  lag_10  \\\n",
       "datetime                                                                       \n",
       "2018-08-13 14:00:00  144.0  156.0  137.0   91.0   39.0   66.0   83.0   143.0   \n",
       "2018-08-13 15:00:00   92.0  144.0  156.0  137.0   91.0   39.0   66.0    83.0   \n",
       "2018-08-13 16:00:00  119.0   92.0  144.0  156.0  137.0   91.0   39.0    66.0   \n",
       "2018-08-13 17:00:00  102.0  119.0   92.0  144.0  156.0  137.0   91.0    39.0   \n",
       "2018-08-13 18:00:00  175.0  102.0  119.0   92.0  144.0  156.0  137.0    91.0   \n",
       "...                    ...    ...    ...    ...    ...    ...    ...     ...   \n",
       "2018-08-31 19:00:00  197.0  116.0  133.0  166.0  136.0  167.0  191.0   203.0   \n",
       "2018-08-31 20:00:00  217.0  197.0  116.0  133.0  166.0  136.0  167.0   191.0   \n",
       "2018-08-31 21:00:00  207.0  217.0  197.0  116.0  133.0  166.0  136.0   167.0   \n",
       "2018-08-31 22:00:00  136.0  207.0  217.0  197.0  116.0  133.0  166.0   136.0   \n",
       "2018-08-31 23:00:00  154.0  136.0  207.0  217.0  197.0  116.0  133.0   166.0   \n",
       "\n",
       "                     lag_11  lag_12  lag_13  lag_14  lag_15  \n",
       "datetime                                                     \n",
       "2018-08-13 14:00:00   168.0   437.0   273.0   160.0   185.0  \n",
       "2018-08-13 15:00:00   143.0   168.0   437.0   273.0   160.0  \n",
       "2018-08-13 16:00:00    83.0   143.0   168.0   437.0   273.0  \n",
       "2018-08-13 17:00:00    66.0    83.0   143.0   168.0   437.0  \n",
       "2018-08-13 18:00:00    39.0    66.0    83.0   143.0   168.0  \n",
       "...                     ...     ...     ...     ...     ...  \n",
       "2018-08-31 19:00:00   182.0    46.0    35.0    78.0   268.0  \n",
       "2018-08-31 20:00:00   203.0   182.0    46.0    35.0    78.0  \n",
       "2018-08-31 21:00:00   191.0   203.0   182.0    46.0    35.0  \n",
       "2018-08-31 22:00:00   167.0   191.0   203.0   182.0    46.0  \n",
       "2018-08-31 23:00:00   136.0   167.0   191.0   203.0   182.0  \n",
       "\n",
       "[442 rows x 20 columns]"
      ]
     },
     "metadata": {},
     "output_type": "display_data"
    }
   ],
   "source": [
    "display(test)"
   ]
  },
  {
   "cell_type": "markdown",
   "metadata": {},
   "source": [
    "Выделим в выборках целевой и обучающий признаки:"
   ]
  },
  {
   "cell_type": "code",
   "execution_count": 30,
   "metadata": {},
   "outputs": [],
   "source": [
    "train_features = train.drop(['num_orders'], axis = 1)\n",
    "train_target = train['num_orders']\n",
    "valid_features = valid.drop(['num_orders'], axis = 1)\n",
    "valid_target = valid['num_orders']\n",
    "test_features = test.drop(['num_orders'], axis = 1)\n",
    "test_target = test['num_orders']"
   ]
  },
  {
   "cell_type": "markdown",
   "metadata": {},
   "source": [
    "Теперь можно приступить к обучению моделей. Судя по графику зависимости числа заказов от времени сюда подойдет линейная регрессия. Так же попробуем случайный лес и Catboost"
   ]
  },
  {
   "cell_type": "markdown",
   "metadata": {},
   "source": [
    "### Обучение модели линейной регрессии"
   ]
  },
  {
   "cell_type": "code",
   "execution_count": 31,
   "metadata": {},
   "outputs": [],
   "source": [
    "linear_regressor_model = LinearRegression()"
   ]
  },
  {
   "cell_type": "code",
   "execution_count": 32,
   "metadata": {},
   "outputs": [],
   "source": [
    "linear_regressor_model.fit(train_features, train_target);"
   ]
  },
  {
   "cell_type": "code",
   "execution_count": 33,
   "metadata": {},
   "outputs": [],
   "source": [
    "linear_regressor_predictions = linear_regressor_model.predict(valid_features)"
   ]
  },
  {
   "cell_type": "code",
   "execution_count": 34,
   "metadata": {},
   "outputs": [],
   "source": [
    "rmse_linear_regressor = mean_squared_error(valid_target, linear_regressor_predictions)**0.5"
   ]
  },
  {
   "cell_type": "code",
   "execution_count": 35,
   "metadata": {},
   "outputs": [
    {
     "name": "stdout",
     "output_type": "stream",
     "text": [
      "Метрика RMSE модели линейной регрессии на валидационных данных: 39.823\n"
     ]
    }
   ],
   "source": [
    "print(f'Метрика RMSE модели линейной регрессии на валидационных данных: {rmse_linear_regressor:.3f}')"
   ]
  },
  {
   "cell_type": "markdown",
   "metadata": {},
   "source": [
    "Как видно предположение о том, что модель линейной регрессии хорошо сработает в данной ситуации, оказалось верным - получили значение RMSE сразу же лучше чем требуемые 48. Тем не менее посмотрим как себя покажут и другие модели"
   ]
  },
  {
   "cell_type": "markdown",
   "metadata": {},
   "source": [
    "### Обучение модели случайного леса"
   ]
  },
  {
   "cell_type": "code",
   "execution_count": 36,
   "metadata": {},
   "outputs": [],
   "source": [
    "random_forest_model = RandomForestRegressor(random_state = 12345)"
   ]
  },
  {
   "cell_type": "code",
   "execution_count": 37,
   "metadata": {},
   "outputs": [],
   "source": [
    "# зададим гиперпараметры для перебора:\n",
    "\n",
    "max_depth = [i for i in range(1, 11)]\n",
    "max_trees = [i for i in range(1, 11)]\n",
    "\n",
    "forest_params  = {'max_depth' : max_depth,\n",
    "                  'n_estimators' : max_trees}"
   ]
  },
  {
   "cell_type": "code",
   "execution_count": 38,
   "metadata": {},
   "outputs": [],
   "source": [
    "tscv = TimeSeriesSplit(n_splits=5)"
   ]
  },
  {
   "cell_type": "code",
   "execution_count": 39,
   "metadata": {},
   "outputs": [],
   "source": [
    "forest_grid_model = GridSearchCV(random_forest_model, forest_params, cv=tscv, scoring = 'neg_mean_squared_error', n_jobs = -1)"
   ]
  },
  {
   "cell_type": "code",
   "execution_count": 40,
   "metadata": {},
   "outputs": [],
   "source": [
    "forest_grid_model.fit(train_features, train_target);"
   ]
  },
  {
   "cell_type": "code",
   "execution_count": 41,
   "metadata": {},
   "outputs": [],
   "source": [
    "random_forest_predictions = forest_grid_model.predict(valid_features)"
   ]
  },
  {
   "cell_type": "code",
   "execution_count": 42,
   "metadata": {},
   "outputs": [],
   "source": [
    "rmse_random_forest = mean_squared_error(valid_target, random_forest_predictions)**0.5"
   ]
  },
  {
   "cell_type": "code",
   "execution_count": 43,
   "metadata": {},
   "outputs": [
    {
     "name": "stdout",
     "output_type": "stream",
     "text": [
      "Метрика RMSE модели случайного леса на валидационных данных: 31.493\n"
     ]
    }
   ],
   "source": [
    "print(f'Метрика RMSE модели случайного леса на валидационных данных: {rmse_random_forest:.3f}')"
   ]
  },
  {
   "cell_type": "markdown",
   "metadata": {},
   "source": [
    "После перебора гиперпараметров модель случайного леса показала себя даже лучше, чем линейная регрессия. Посмотрим какие успехи будут у модели градиентного бустинга"
   ]
  },
  {
   "cell_type": "markdown",
   "metadata": {},
   "source": [
    "### Обучение модели градиентного бустинга"
   ]
  },
  {
   "cell_type": "code",
   "execution_count": 44,
   "metadata": {},
   "outputs": [],
   "source": [
    "cat_regressor_model = CatBoostRegressor(loss_function = 'RMSE', random_state = 12345, verbose = False)"
   ]
  },
  {
   "cell_type": "code",
   "execution_count": 45,
   "metadata": {},
   "outputs": [],
   "source": [
    "# зададим гиперпараметры для перебора:\n",
    "\n",
    "learning_rate = [0.05, 0.1, 0.15]\n",
    "max_depth = [i for i in range(1, 5)]\n",
    "iteration = [i for i in range(500, 1101, 200)]"
   ]
  },
  {
   "cell_type": "code",
   "execution_count": 46,
   "metadata": {},
   "outputs": [],
   "source": [
    "parameters = {'depth' : max_depth, 'learning_rate' : learning_rate, 'iterations' : iteration}"
   ]
  },
  {
   "cell_type": "code",
   "execution_count": 47,
   "metadata": {},
   "outputs": [],
   "source": [
    "cat_grid_model = GridSearchCV(cat_regressor_model, parameters, cv=tscv, n_jobs = -1)"
   ]
  },
  {
   "cell_type": "code",
   "execution_count": 48,
   "metadata": {},
   "outputs": [],
   "source": [
    "cat_grid_model.fit(train_features, train_target);"
   ]
  },
  {
   "cell_type": "code",
   "execution_count": 49,
   "metadata": {},
   "outputs": [
    {
     "data": {
      "text/plain": [
       "{'depth': 4, 'iterations': 500, 'learning_rate': 0.1}"
      ]
     },
     "execution_count": 49,
     "metadata": {},
     "output_type": "execute_result"
    }
   ],
   "source": [
    "cat_grid_model.best_params_"
   ]
  },
  {
   "cell_type": "code",
   "execution_count": 50,
   "metadata": {},
   "outputs": [],
   "source": [
    "cat_model_predictions = cat_grid_model.predict(valid_features)"
   ]
  },
  {
   "cell_type": "code",
   "execution_count": 51,
   "metadata": {},
   "outputs": [],
   "source": [
    "rmse_cat_model = mean_squared_error(valid_target, cat_model_predictions)**0.5"
   ]
  },
  {
   "cell_type": "code",
   "execution_count": 52,
   "metadata": {},
   "outputs": [
    {
     "name": "stdout",
     "output_type": "stream",
     "text": [
      "Метрика RMSE модели градиентного бустинга на валидационных данных: 31.365\n"
     ]
    }
   ],
   "source": [
    "print(f'Метрика RMSE модели градиентного бустинга на валидационных данных: {rmse_cat_model:.3f}')"
   ]
  },
  {
   "cell_type": "markdown",
   "metadata": {},
   "source": [
    "### Показатели обученных моделей"
   ]
  },
  {
   "cell_type": "markdown",
   "metadata": {},
   "source": [
    "Создадим итоговый датафрейм со всеми показателями моделей:"
   ]
  },
  {
   "cell_type": "code",
   "execution_count": 53,
   "metadata": {},
   "outputs": [],
   "source": [
    "stats = {'RMSE' : [rmse_linear_regressor, rmse_random_forest, rmse_cat_model]}\n",
    "\n",
    "model_names = ['linear_regression', 'random_forest', 'catboost']\n",
    "\n",
    "models_stats_data = pd.DataFrame(stats, index = model_names)"
   ]
  },
  {
   "cell_type": "code",
   "execution_count": 54,
   "metadata": {},
   "outputs": [
    {
     "data": {
      "text/html": [
       "<div>\n",
       "<style scoped>\n",
       "    .dataframe tbody tr th:only-of-type {\n",
       "        vertical-align: middle;\n",
       "    }\n",
       "\n",
       "    .dataframe tbody tr th {\n",
       "        vertical-align: top;\n",
       "    }\n",
       "\n",
       "    .dataframe thead th {\n",
       "        text-align: right;\n",
       "    }\n",
       "</style>\n",
       "<table border=\"1\" class=\"dataframe\">\n",
       "  <thead>\n",
       "    <tr style=\"text-align: right;\">\n",
       "      <th></th>\n",
       "      <th>RMSE</th>\n",
       "    </tr>\n",
       "  </thead>\n",
       "  <tbody>\n",
       "    <tr>\n",
       "      <th>linear_regression</th>\n",
       "      <td>39.822737</td>\n",
       "    </tr>\n",
       "    <tr>\n",
       "      <th>random_forest</th>\n",
       "      <td>31.492912</td>\n",
       "    </tr>\n",
       "    <tr>\n",
       "      <th>catboost</th>\n",
       "      <td>31.364605</td>\n",
       "    </tr>\n",
       "  </tbody>\n",
       "</table>\n",
       "</div>"
      ],
      "text/plain": [
       "                        RMSE\n",
       "linear_regression  39.822737\n",
       "random_forest      31.492912\n",
       "catboost           31.364605"
      ]
     },
     "metadata": {},
     "output_type": "display_data"
    }
   ],
   "source": [
    "display(models_stats_data)"
   ]
  },
  {
   "cell_type": "markdown",
   "metadata": {},
   "source": [
    "Как видно, модель градиентного бустинга справилась лучше всех, её и будем использовать на тестовой выборке"
   ]
  },
  {
   "cell_type": "markdown",
   "metadata": {},
   "source": [
    "Ради интереса посмотрим какую метрику RMSE показывает глупая модель, выдающая просто среднее значение:"
   ]
  },
  {
   "cell_type": "code",
   "execution_count": 55,
   "metadata": {},
   "outputs": [],
   "source": [
    "dummy_model = DummyRegressor(strategy='mean')"
   ]
  },
  {
   "cell_type": "code",
   "execution_count": 56,
   "metadata": {},
   "outputs": [],
   "source": [
    "dummy_model.fit(train_features, train_target);"
   ]
  },
  {
   "cell_type": "code",
   "execution_count": 57,
   "metadata": {},
   "outputs": [],
   "source": [
    "predictions_dummy_model = dummy_model.predict(valid_features)"
   ]
  },
  {
   "cell_type": "code",
   "execution_count": 58,
   "metadata": {},
   "outputs": [],
   "source": [
    "rmse_dummy_model = mean_squared_error(valid_target, predictions_dummy_model)**0.5"
   ]
  },
  {
   "cell_type": "code",
   "execution_count": 59,
   "metadata": {},
   "outputs": [
    {
     "name": "stdout",
     "output_type": "stream",
     "text": [
      "Метрика RMSE глупой модели, которая просто предсказывала средние значения из обучающей выборки: 57.908\n"
     ]
    }
   ],
   "source": [
    "print(f'Метрика RMSE глупой модели, которая просто предсказывала средние значения из обучающей выборки: {rmse_dummy_model:.3f}')"
   ]
  },
  {
   "cell_type": "markdown",
   "metadata": {},
   "source": [
    "Как и ожидалось, обученные модели все прошли проверку на адекватность: глупая модель показывает гораздо худший результат"
   ]
  },
  {
   "cell_type": "markdown",
   "metadata": {},
   "source": [
    "## Тестирование"
   ]
  },
  {
   "cell_type": "markdown",
   "metadata": {},
   "source": [
    "Протестируем ранее выбранную в качестве лучшей модель градиентного бустинга"
   ]
  },
  {
   "cell_type": "code",
   "execution_count": 60,
   "metadata": {},
   "outputs": [],
   "source": [
    "catboost_predictions = cat_grid_model.predict(test_features)\n",
    "rmse_cat_grid_model = mean_squared_error(test_target, catboost_predictions)**0.5"
   ]
  },
  {
   "cell_type": "code",
   "execution_count": 61,
   "metadata": {},
   "outputs": [
    {
     "name": "stdout",
     "output_type": "stream",
     "text": [
      "Метрика RMSE модели градиентного бустинга на тестовых данных: 47.877\n"
     ]
    }
   ],
   "source": [
    "print(f'Метрика RMSE модели градиентного бустинга на тестовых данных: {rmse_cat_grid_model:.3f}')"
   ]
  },
  {
   "cell_type": "code",
   "execution_count": 62,
   "metadata": {},
   "outputs": [
    {
     "name": "stdout",
     "output_type": "stream",
     "text": [
      "Модель удовлетворяет требованиям качества\n"
     ]
    }
   ],
   "source": [
    "if rmse_cat_grid_model < 48 :\n",
    "    print('Модель удовлетворяет требованиям качества')\n",
    "else:\n",
    "    print('Модель не удовлетворяет требованиям качества')"
   ]
  },
  {
   "cell_type": "markdown",
   "metadata": {},
   "source": [
    "Как и ожидалось, модель показала себя достойно, и попала в требуемый диапазон качества"
   ]
  },
  {
   "cell_type": "markdown",
   "metadata": {},
   "source": [
    "Визуализируем предсказанные моделью значения на фоне настоящих:"
   ]
  },
  {
   "cell_type": "code",
   "execution_count": 63,
   "metadata": {},
   "outputs": [],
   "source": [
    "values = {'predictions' : catboost_predictions, 'real_values' : test_target}\n",
    "\n",
    "date = test.index\n",
    "\n",
    "predictions_vs_real_values = pd.DataFrame(values, index = date)"
   ]
  },
  {
   "cell_type": "code",
   "execution_count": 64,
   "metadata": {},
   "outputs": [
    {
     "data": {
      "image/png": "[encoded data removed]",
      "text/plain": [
       "<Figure size 1440x720 with 1 Axes>"
      ]
     },
     "metadata": {
      "needs_background": "light"
     },
     "output_type": "display_data"
    }
   ],
   "source": [
    "predictions_vs_real_values.resample('1D').sum().plot(figsize=(20, 10), grid=True);"
   ]
  },
  {
   "cell_type": "markdown",
   "metadata": {},
   "source": [
    "Можем сказать, что модель недооценила прирост числа заказов, и в конце лета он пошел даже более стремительными темпами, чем в тот период, на котором тренировалась модель делать предсказания - наблюдается фактичски постоянная разность между предсказаниями модели и реальными значениями заказов такси, которых оказывалось на несколько сотен больше каждый день"
   ]
  }
 ],
 "metadata": {
  "ExecuteTimeLog": [
   {
    "duration": 401,
    "start_time": "2022-05-07T09:14:29.423Z"
   },
   {
    "duration": 26,
    "start_time": "2022-05-07T09:14:47.441Z"
   },
   {
    "duration": 16,
    "start_time": "2022-05-07T09:14:56.213Z"
   },
   {
    "duration": 13,
    "start_time": "2022-05-07T09:15:40.839Z"
   },
   {
    "duration": 10,
    "start_time": "2022-05-07T09:38:48.952Z"
   },
   {
    "duration": 5,
    "start_time": "2022-05-07T09:39:25.914Z"
   },
   {
    "duration": 4,
    "start_time": "2022-05-07T09:40:02.164Z"
   },
   {
    "duration": 431,
    "start_time": "2022-05-07T09:40:46.583Z"
   },
   {
    "duration": 26,
    "start_time": "2022-05-07T09:40:47.017Z"
   },
   {
    "duration": 15,
    "start_time": "2022-05-07T09:40:47.045Z"
   },
   {
    "duration": 13,
    "start_time": "2022-05-07T09:40:47.061Z"
   },
   {
    "duration": 9,
    "start_time": "2022-05-07T09:40:47.075Z"
   },
   {
    "duration": 63,
    "start_time": "2022-05-07T09:40:47.108Z"
   },
   {
    "duration": 0,
    "start_time": "2022-05-07T09:40:47.173Z"
   },
   {
    "duration": 3,
    "start_time": "2022-05-07T09:40:58.045Z"
   },
   {
    "duration": 4,
    "start_time": "2022-05-07T09:41:00.664Z"
   },
   {
    "duration": 411,
    "start_time": "2022-05-07T09:41:37.021Z"
   },
   {
    "duration": 26,
    "start_time": "2022-05-07T09:41:37.435Z"
   },
   {
    "duration": 16,
    "start_time": "2022-05-07T09:41:37.462Z"
   },
   {
    "duration": 12,
    "start_time": "2022-05-07T09:41:37.479Z"
   },
   {
    "duration": 21,
    "start_time": "2022-05-07T09:41:37.493Z"
   },
   {
    "duration": 7,
    "start_time": "2022-05-07T09:41:37.516Z"
   },
   {
    "duration": 11,
    "start_time": "2022-05-07T09:41:37.525Z"
   },
   {
    "duration": 3,
    "start_time": "2022-05-07T09:41:53.019Z"
   },
   {
    "duration": 11,
    "start_time": "2022-05-07T09:41:54.085Z"
   },
   {
    "duration": 3,
    "start_time": "2022-05-07T09:42:01.845Z"
   },
   {
    "duration": 4,
    "start_time": "2022-05-07T09:42:02.510Z"
   },
   {
    "duration": 447,
    "start_time": "2022-05-07T09:42:33.875Z"
   },
   {
    "duration": 33,
    "start_time": "2022-05-07T09:42:34.324Z"
   },
   {
    "duration": 17,
    "start_time": "2022-05-07T09:42:34.359Z"
   },
   {
    "duration": 13,
    "start_time": "2022-05-07T09:42:34.378Z"
   },
   {
    "duration": 22,
    "start_time": "2022-05-07T09:42:34.393Z"
   },
   {
    "duration": 4,
    "start_time": "2022-05-07T09:42:34.417Z"
   },
   {
    "duration": 10,
    "start_time": "2022-05-07T09:42:34.423Z"
   },
   {
    "duration": 4,
    "start_time": "2022-05-07T09:43:26.555Z"
   },
   {
    "duration": 1081,
    "start_time": "2022-05-07T09:49:29.062Z"
   },
   {
    "duration": 852,
    "start_time": "2022-05-07T09:49:56.681Z"
   },
   {
    "duration": 200,
    "start_time": "2022-05-07T09:51:39.038Z"
   },
   {
    "duration": 255,
    "start_time": "2022-05-07T09:51:48.382Z"
   },
   {
    "duration": 240,
    "start_time": "2022-05-07T09:52:33.229Z"
   },
   {
    "duration": 6,
    "start_time": "2022-05-07T09:57:55.363Z"
   },
   {
    "duration": 5,
    "start_time": "2022-05-07T09:58:08.447Z"
   },
   {
    "duration": 396,
    "start_time": "2022-05-07T09:59:34.917Z"
   },
   {
    "duration": 27,
    "start_time": "2022-05-07T09:59:35.315Z"
   },
   {
    "duration": 16,
    "start_time": "2022-05-07T09:59:35.344Z"
   },
   {
    "duration": 7,
    "start_time": "2022-05-07T09:59:35.362Z"
   },
   {
    "duration": 14,
    "start_time": "2022-05-07T09:59:35.370Z"
   },
   {
    "duration": 29,
    "start_time": "2022-05-07T09:59:35.386Z"
   },
   {
    "duration": 10,
    "start_time": "2022-05-07T09:59:35.417Z"
   },
   {
    "duration": 5,
    "start_time": "2022-05-07T09:59:35.429Z"
   },
   {
    "duration": 9,
    "start_time": "2022-05-07T09:59:35.436Z"
   },
   {
    "duration": 5,
    "start_time": "2022-05-07T09:59:35.448Z"
   },
   {
    "duration": 943,
    "start_time": "2022-05-07T09:59:35.454Z"
   },
   {
    "duration": 300,
    "start_time": "2022-05-07T09:59:36.399Z"
   },
   {
    "duration": 9,
    "start_time": "2022-05-07T10:00:39.756Z"
   },
   {
    "duration": 9,
    "start_time": "2022-05-07T10:00:43.635Z"
   },
   {
    "duration": 400,
    "start_time": "2022-05-07T10:02:44.160Z"
   },
   {
    "duration": 26,
    "start_time": "2022-05-07T10:02:44.561Z"
   },
   {
    "duration": 20,
    "start_time": "2022-05-07T10:02:44.589Z"
   },
   {
    "duration": 8,
    "start_time": "2022-05-07T10:02:44.612Z"
   },
   {
    "duration": 13,
    "start_time": "2022-05-07T10:02:44.622Z"
   },
   {
    "duration": 11,
    "start_time": "2022-05-07T10:02:44.637Z"
   },
   {
    "duration": 10,
    "start_time": "2022-05-07T10:02:44.649Z"
   },
   {
    "duration": 6,
    "start_time": "2022-05-07T10:02:44.661Z"
   },
   {
    "duration": 42,
    "start_time": "2022-05-07T10:02:44.668Z"
   },
   {
    "duration": 4,
    "start_time": "2022-05-07T10:02:44.713Z"
   },
   {
    "duration": 920,
    "start_time": "2022-05-07T10:02:44.718Z"
   },
   {
    "duration": 303,
    "start_time": "2022-05-07T10:02:45.639Z"
   },
   {
    "duration": 626,
    "start_time": "2022-05-07T10:07:05.682Z"
   },
   {
    "duration": 5,
    "start_time": "2022-05-07T10:07:49.689Z"
   },
   {
    "duration": 110,
    "start_time": "2022-05-07T10:08:19.423Z"
   },
   {
    "duration": 3,
    "start_time": "2022-05-07T10:08:32.457Z"
   },
   {
    "duration": 4,
    "start_time": "2022-05-07T10:10:48.955Z"
   },
   {
    "duration": 3,
    "start_time": "2022-05-07T10:11:34.222Z"
   },
   {
    "duration": 7,
    "start_time": "2022-05-07T10:21:44.056Z"
   },
   {
    "duration": 1135,
    "start_time": "2022-05-07T10:22:01.782Z"
   },
   {
    "duration": 31,
    "start_time": "2022-05-07T10:22:02.919Z"
   },
   {
    "duration": 16,
    "start_time": "2022-05-07T10:22:02.952Z"
   },
   {
    "duration": 7,
    "start_time": "2022-05-07T10:22:02.970Z"
   },
   {
    "duration": 17,
    "start_time": "2022-05-07T10:22:02.979Z"
   },
   {
    "duration": 18,
    "start_time": "2022-05-07T10:22:02.998Z"
   },
   {
    "duration": 10,
    "start_time": "2022-05-07T10:22:03.018Z"
   },
   {
    "duration": 5,
    "start_time": "2022-05-07T10:22:03.029Z"
   },
   {
    "duration": 11,
    "start_time": "2022-05-07T10:22:03.035Z"
   },
   {
    "duration": 5,
    "start_time": "2022-05-07T10:22:03.047Z"
   },
   {
    "duration": 1009,
    "start_time": "2022-05-07T10:22:03.054Z"
   },
   {
    "duration": 259,
    "start_time": "2022-05-07T10:22:04.065Z"
   },
   {
    "duration": 7,
    "start_time": "2022-05-07T10:22:04.325Z"
   },
   {
    "duration": 10,
    "start_time": "2022-05-07T10:22:04.335Z"
   },
   {
    "duration": 13,
    "start_time": "2022-05-07T10:22:04.346Z"
   },
   {
    "duration": 7,
    "start_time": "2022-05-07T10:22:04.361Z"
   },
   {
    "duration": 5,
    "start_time": "2022-05-07T10:22:04.370Z"
   },
   {
    "duration": 4,
    "start_time": "2022-05-07T10:37:44.717Z"
   },
   {
    "duration": 1069,
    "start_time": "2022-05-07T10:39:59.345Z"
   },
   {
    "duration": 37,
    "start_time": "2022-05-07T10:40:00.418Z"
   },
   {
    "duration": 18,
    "start_time": "2022-05-07T10:40:00.456Z"
   },
   {
    "duration": 7,
    "start_time": "2022-05-07T10:40:00.476Z"
   },
   {
    "duration": 32,
    "start_time": "2022-05-07T10:40:00.484Z"
   },
   {
    "duration": 12,
    "start_time": "2022-05-07T10:40:00.518Z"
   },
   {
    "duration": 9,
    "start_time": "2022-05-07T10:40:00.532Z"
   },
   {
    "duration": 9,
    "start_time": "2022-05-07T10:40:00.543Z"
   },
   {
    "duration": 19,
    "start_time": "2022-05-07T10:40:00.554Z"
   },
   {
    "duration": 32,
    "start_time": "2022-05-07T10:40:00.576Z"
   },
   {
    "duration": 1001,
    "start_time": "2022-05-07T10:40:00.610Z"
   },
   {
    "duration": 267,
    "start_time": "2022-05-07T10:40:01.613Z"
   },
   {
    "duration": 7,
    "start_time": "2022-05-07T10:40:01.882Z"
   },
   {
    "duration": 4,
    "start_time": "2022-05-07T10:40:01.907Z"
   },
   {
    "duration": 15,
    "start_time": "2022-05-07T10:40:01.913Z"
   },
   {
    "duration": 135,
    "start_time": "2022-05-07T10:40:01.930Z"
   },
   {
    "duration": 0,
    "start_time": "2022-05-07T10:40:02.067Z"
   },
   {
    "duration": 0,
    "start_time": "2022-05-07T10:40:02.068Z"
   },
   {
    "duration": 0,
    "start_time": "2022-05-07T10:40:02.069Z"
   },
   {
    "duration": 1105,
    "start_time": "2022-05-07T10:40:19.338Z"
   },
   {
    "duration": 32,
    "start_time": "2022-05-07T10:40:20.445Z"
   },
   {
    "duration": 17,
    "start_time": "2022-05-07T10:40:20.479Z"
   },
   {
    "duration": 14,
    "start_time": "2022-05-07T10:40:20.498Z"
   },
   {
    "duration": 14,
    "start_time": "2022-05-07T10:40:20.514Z"
   },
   {
    "duration": 13,
    "start_time": "2022-05-07T10:40:20.530Z"
   },
   {
    "duration": 11,
    "start_time": "2022-05-07T10:40:20.546Z"
   },
   {
    "duration": 49,
    "start_time": "2022-05-07T10:40:20.559Z"
   },
   {
    "duration": 10,
    "start_time": "2022-05-07T10:40:20.610Z"
   },
   {
    "duration": 5,
    "start_time": "2022-05-07T10:40:20.622Z"
   },
   {
    "duration": 1027,
    "start_time": "2022-05-07T10:40:20.629Z"
   },
   {
    "duration": 264,
    "start_time": "2022-05-07T10:40:21.658Z"
   },
   {
    "duration": 11,
    "start_time": "2022-05-07T10:40:21.924Z"
   },
   {
    "duration": 6,
    "start_time": "2022-05-07T10:40:21.939Z"
   },
   {
    "duration": 8,
    "start_time": "2022-05-07T10:40:21.947Z"
   },
   {
    "duration": 23,
    "start_time": "2022-05-07T10:40:21.956Z"
   },
   {
    "duration": 4,
    "start_time": "2022-05-07T10:40:22.007Z"
   },
   {
    "duration": 4,
    "start_time": "2022-05-07T10:40:22.014Z"
   },
   {
    "duration": 4,
    "start_time": "2022-05-07T10:40:22.021Z"
   },
   {
    "duration": 1173,
    "start_time": "2022-05-07T10:40:48.400Z"
   },
   {
    "duration": 29,
    "start_time": "2022-05-07T10:40:49.575Z"
   },
   {
    "duration": 27,
    "start_time": "2022-05-07T10:40:49.606Z"
   },
   {
    "duration": 8,
    "start_time": "2022-05-07T10:40:49.635Z"
   },
   {
    "duration": 15,
    "start_time": "2022-05-07T10:40:49.645Z"
   },
   {
    "duration": 13,
    "start_time": "2022-05-07T10:40:49.662Z"
   },
   {
    "duration": 17,
    "start_time": "2022-05-07T10:40:49.707Z"
   },
   {
    "duration": 8,
    "start_time": "2022-05-07T10:40:49.727Z"
   },
   {
    "duration": 18,
    "start_time": "2022-05-07T10:40:49.737Z"
   },
   {
    "duration": 6,
    "start_time": "2022-05-07T10:40:49.757Z"
   },
   {
    "duration": 1168,
    "start_time": "2022-05-07T10:40:49.765Z"
   },
   {
    "duration": 291,
    "start_time": "2022-05-07T10:40:50.934Z"
   },
   {
    "duration": 8,
    "start_time": "2022-05-07T10:40:51.227Z"
   },
   {
    "duration": 6,
    "start_time": "2022-05-07T10:40:51.238Z"
   },
   {
    "duration": 16,
    "start_time": "2022-05-07T10:40:51.246Z"
   },
   {
    "duration": 6,
    "start_time": "2022-05-07T10:40:51.264Z"
   },
   {
    "duration": 39,
    "start_time": "2022-05-07T10:40:51.271Z"
   },
   {
    "duration": 6,
    "start_time": "2022-05-07T10:40:51.312Z"
   },
   {
    "duration": 6,
    "start_time": "2022-05-07T10:40:51.321Z"
   },
   {
    "duration": 36,
    "start_time": "2022-05-07T10:41:08.599Z"
   },
   {
    "duration": 25,
    "start_time": "2022-05-07T12:01:44.811Z"
   },
   {
    "duration": 26,
    "start_time": "2022-05-07T12:01:53.759Z"
   },
   {
    "duration": 1133,
    "start_time": "2022-05-07T12:02:11.993Z"
   },
   {
    "duration": 29,
    "start_time": "2022-05-07T12:02:13.128Z"
   },
   {
    "duration": 18,
    "start_time": "2022-05-07T12:02:13.158Z"
   },
   {
    "duration": 7,
    "start_time": "2022-05-07T12:02:13.178Z"
   },
   {
    "duration": 30,
    "start_time": "2022-05-07T12:02:13.186Z"
   },
   {
    "duration": 13,
    "start_time": "2022-05-07T12:02:13.217Z"
   },
   {
    "duration": 12,
    "start_time": "2022-05-07T12:02:13.231Z"
   },
   {
    "duration": 4,
    "start_time": "2022-05-07T12:02:13.244Z"
   },
   {
    "duration": 11,
    "start_time": "2022-05-07T12:02:13.250Z"
   },
   {
    "duration": 5,
    "start_time": "2022-05-07T12:02:13.263Z"
   },
   {
    "duration": 1035,
    "start_time": "2022-05-07T12:02:13.308Z"
   },
   {
    "duration": 266,
    "start_time": "2022-05-07T12:02:14.345Z"
   },
   {
    "duration": 7,
    "start_time": "2022-05-07T12:02:14.613Z"
   },
   {
    "duration": 5,
    "start_time": "2022-05-07T12:02:14.621Z"
   },
   {
    "duration": 17,
    "start_time": "2022-05-07T12:02:14.628Z"
   },
   {
    "duration": 5,
    "start_time": "2022-05-07T12:02:14.647Z"
   },
   {
    "duration": 59,
    "start_time": "2022-05-07T12:02:14.653Z"
   },
   {
    "duration": 27,
    "start_time": "2022-05-07T12:02:14.713Z"
   },
   {
    "duration": 4,
    "start_time": "2022-05-07T12:02:14.742Z"
   },
   {
    "duration": 6,
    "start_time": "2022-05-07T12:02:14.748Z"
   },
   {
    "duration": 4,
    "start_time": "2022-05-07T12:03:53.773Z"
   },
   {
    "duration": 1115,
    "start_time": "2022-05-07T12:03:59.658Z"
   },
   {
    "duration": 33,
    "start_time": "2022-05-07T12:04:00.775Z"
   },
   {
    "duration": 20,
    "start_time": "2022-05-07T12:04:00.811Z"
   },
   {
    "duration": 16,
    "start_time": "2022-05-07T12:04:00.834Z"
   },
   {
    "duration": 17,
    "start_time": "2022-05-07T12:04:00.852Z"
   },
   {
    "duration": 24,
    "start_time": "2022-05-07T12:04:00.871Z"
   },
   {
    "duration": 28,
    "start_time": "2022-05-07T12:04:00.897Z"
   },
   {
    "duration": 6,
    "start_time": "2022-05-07T12:04:00.927Z"
   },
   {
    "duration": 27,
    "start_time": "2022-05-07T12:04:00.934Z"
   },
   {
    "duration": 13,
    "start_time": "2022-05-07T12:04:00.964Z"
   },
   {
    "duration": 1101,
    "start_time": "2022-05-07T12:04:00.978Z"
   },
   {
    "duration": 292,
    "start_time": "2022-05-07T12:04:02.081Z"
   },
   {
    "duration": 6,
    "start_time": "2022-05-07T12:04:02.375Z"
   },
   {
    "duration": 4,
    "start_time": "2022-05-07T12:04:02.383Z"
   },
   {
    "duration": 43,
    "start_time": "2022-05-07T12:04:02.389Z"
   },
   {
    "duration": 5,
    "start_time": "2022-05-07T12:04:02.434Z"
   },
   {
    "duration": 25,
    "start_time": "2022-05-07T12:04:02.441Z"
   },
   {
    "duration": 48,
    "start_time": "2022-05-07T12:04:02.468Z"
   },
   {
    "duration": 6,
    "start_time": "2022-05-07T12:04:02.518Z"
   },
   {
    "duration": 4,
    "start_time": "2022-05-07T12:04:02.526Z"
   },
   {
    "duration": 8,
    "start_time": "2022-05-07T12:07:24.713Z"
   },
   {
    "duration": 5,
    "start_time": "2022-05-07T12:10:10.001Z"
   },
   {
    "duration": 5,
    "start_time": "2022-05-07T12:14:01.795Z"
   },
   {
    "duration": 105,
    "start_time": "2022-05-07T12:26:51.790Z"
   },
   {
    "duration": 1449,
    "start_time": "2022-05-07T12:26:57.190Z"
   },
   {
    "duration": 28,
    "start_time": "2022-05-07T12:26:58.640Z"
   },
   {
    "duration": 14,
    "start_time": "2022-05-07T12:26:58.669Z"
   },
   {
    "duration": 22,
    "start_time": "2022-05-07T12:26:58.686Z"
   },
   {
    "duration": 14,
    "start_time": "2022-05-07T12:26:58.710Z"
   },
   {
    "duration": 12,
    "start_time": "2022-05-07T12:26:58.726Z"
   },
   {
    "duration": 10,
    "start_time": "2022-05-07T12:26:58.741Z"
   },
   {
    "duration": 32,
    "start_time": "2022-05-07T12:26:58.753Z"
   },
   {
    "duration": 14,
    "start_time": "2022-05-07T12:26:58.787Z"
   },
   {
    "duration": 4,
    "start_time": "2022-05-07T12:26:58.809Z"
   },
   {
    "duration": 720,
    "start_time": "2022-05-07T12:26:58.815Z"
   },
   {
    "duration": 329,
    "start_time": "2022-05-07T12:26:59.537Z"
   },
   {
    "duration": 8,
    "start_time": "2022-05-07T12:26:59.868Z"
   },
   {
    "duration": 5,
    "start_time": "2022-05-07T12:26:59.877Z"
   },
   {
    "duration": 35,
    "start_time": "2022-05-07T12:26:59.884Z"
   },
   {
    "duration": 6,
    "start_time": "2022-05-07T12:26:59.921Z"
   },
   {
    "duration": 6,
    "start_time": "2022-05-07T12:26:59.928Z"
   },
   {
    "duration": 4,
    "start_time": "2022-05-07T12:26:59.936Z"
   },
   {
    "duration": 4,
    "start_time": "2022-05-07T12:26:59.941Z"
   },
   {
    "duration": 5,
    "start_time": "2022-05-07T12:26:59.947Z"
   },
   {
    "duration": 60,
    "start_time": "2022-05-07T12:26:59.953Z"
   },
   {
    "duration": 25,
    "start_time": "2022-05-07T12:27:00.015Z"
   },
   {
    "duration": 25,
    "start_time": "2022-05-07T12:27:00.042Z"
   },
   {
    "duration": 6,
    "start_time": "2022-05-07T12:27:00.068Z"
   },
   {
    "duration": 3,
    "start_time": "2022-05-07T12:29:51.467Z"
   },
   {
    "duration": 4,
    "start_time": "2022-05-07T12:30:15.796Z"
   },
   {
    "duration": 109,
    "start_time": "2022-05-07T12:31:25.138Z"
   },
   {
    "duration": 10,
    "start_time": "2022-05-07T12:31:34.040Z"
   },
   {
    "duration": 2,
    "start_time": "2022-05-07T12:31:54.972Z"
   },
   {
    "duration": 10,
    "start_time": "2022-05-07T12:31:57.288Z"
   },
   {
    "duration": 9,
    "start_time": "2022-05-07T12:32:08.948Z"
   },
   {
    "duration": 5,
    "start_time": "2022-05-07T12:33:14.841Z"
   },
   {
    "duration": 4,
    "start_time": "2022-05-07T12:34:00.100Z"
   },
   {
    "duration": 4,
    "start_time": "2022-05-07T12:34:37.809Z"
   },
   {
    "duration": 3,
    "start_time": "2022-05-07T12:34:52.147Z"
   },
   {
    "duration": 4,
    "start_time": "2022-05-07T12:35:19.306Z"
   },
   {
    "duration": 3,
    "start_time": "2022-05-07T12:37:32.964Z"
   },
   {
    "duration": 2193,
    "start_time": "2022-05-07T12:38:58.263Z"
   },
   {
    "duration": 3,
    "start_time": "2022-05-07T12:39:35.771Z"
   },
   {
    "duration": 4,
    "start_time": "2022-05-07T12:41:46.706Z"
   },
   {
    "duration": 1425,
    "start_time": "2022-05-07T12:44:54.734Z"
   },
   {
    "duration": 27,
    "start_time": "2022-05-07T12:44:56.161Z"
   },
   {
    "duration": 13,
    "start_time": "2022-05-07T12:44:56.190Z"
   },
   {
    "duration": 7,
    "start_time": "2022-05-07T12:44:56.208Z"
   },
   {
    "duration": 14,
    "start_time": "2022-05-07T12:44:56.217Z"
   },
   {
    "duration": 11,
    "start_time": "2022-05-07T12:44:56.233Z"
   },
   {
    "duration": 10,
    "start_time": "2022-05-07T12:44:56.246Z"
   },
   {
    "duration": 5,
    "start_time": "2022-05-07T12:44:56.258Z"
   },
   {
    "duration": 10,
    "start_time": "2022-05-07T12:44:56.264Z"
   },
   {
    "duration": 4,
    "start_time": "2022-05-07T12:44:56.307Z"
   },
   {
    "duration": 747,
    "start_time": "2022-05-07T12:44:56.312Z"
   },
   {
    "duration": 312,
    "start_time": "2022-05-07T12:44:57.061Z"
   },
   {
    "duration": 7,
    "start_time": "2022-05-07T12:44:57.374Z"
   },
   {
    "duration": 4,
    "start_time": "2022-05-07T12:44:57.383Z"
   },
   {
    "duration": 29,
    "start_time": "2022-05-07T12:44:57.389Z"
   },
   {
    "duration": 4,
    "start_time": "2022-05-07T12:44:57.420Z"
   },
   {
    "duration": 7,
    "start_time": "2022-05-07T12:44:57.426Z"
   },
   {
    "duration": 6,
    "start_time": "2022-05-07T12:44:57.434Z"
   },
   {
    "duration": 4,
    "start_time": "2022-05-07T12:44:57.441Z"
   },
   {
    "duration": 6,
    "start_time": "2022-05-07T12:44:57.447Z"
   },
   {
    "duration": 25,
    "start_time": "2022-05-07T12:44:57.455Z"
   },
   {
    "duration": 49,
    "start_time": "2022-05-07T12:44:57.481Z"
   },
   {
    "duration": 24,
    "start_time": "2022-05-07T12:44:57.532Z"
   },
   {
    "duration": 7,
    "start_time": "2022-05-07T12:44:57.558Z"
   },
   {
    "duration": 7,
    "start_time": "2022-05-07T12:44:57.567Z"
   },
   {
    "duration": 33,
    "start_time": "2022-05-07T12:44:57.576Z"
   },
   {
    "duration": 98,
    "start_time": "2022-05-07T12:44:57.612Z"
   },
   {
    "duration": 93,
    "start_time": "2022-05-07T12:44:57.715Z"
   },
   {
    "duration": 7,
    "start_time": "2022-05-07T12:44:57.810Z"
   },
   {
    "duration": 4,
    "start_time": "2022-05-07T12:44:57.819Z"
   },
   {
    "duration": 6,
    "start_time": "2022-05-07T12:44:57.824Z"
   },
   {
    "duration": 5,
    "start_time": "2022-05-07T12:44:57.831Z"
   },
   {
    "duration": 47425,
    "start_time": "2022-05-07T12:44:57.837Z"
   },
   {
    "duration": 16,
    "start_time": "2022-05-07T12:45:45.264Z"
   },
   {
    "duration": 4,
    "start_time": "2022-05-07T12:45:45.282Z"
   },
   {
    "duration": 6,
    "start_time": "2022-05-07T12:45:45.287Z"
   },
   {
    "duration": 2,
    "start_time": "2022-05-07T12:50:02.407Z"
   },
   {
    "duration": 4,
    "start_time": "2022-05-07T13:39:42.164Z"
   },
   {
    "duration": 4,
    "start_time": "2022-05-07T13:40:02.145Z"
   },
   {
    "duration": 128,
    "start_time": "2022-05-07T13:50:05.515Z"
   },
   {
    "duration": 3,
    "start_time": "2022-05-07T13:50:14.600Z"
   },
   {
    "duration": 2,
    "start_time": "2022-05-07T13:50:15.273Z"
   },
   {
    "duration": 3,
    "start_time": "2022-05-07T13:50:39.602Z"
   },
   {
    "duration": 1470,
    "start_time": "2022-05-07T13:51:39.494Z"
   },
   {
    "duration": 27,
    "start_time": "2022-05-07T13:51:40.966Z"
   },
   {
    "duration": 17,
    "start_time": "2022-05-07T13:51:40.995Z"
   },
   {
    "duration": 7,
    "start_time": "2022-05-07T13:51:41.014Z"
   },
   {
    "duration": 14,
    "start_time": "2022-05-07T13:51:41.023Z"
   },
   {
    "duration": 12,
    "start_time": "2022-05-07T13:51:41.038Z"
   },
   {
    "duration": 11,
    "start_time": "2022-05-07T13:51:41.052Z"
   },
   {
    "duration": 6,
    "start_time": "2022-05-07T13:51:41.065Z"
   },
   {
    "duration": 44,
    "start_time": "2022-05-07T13:51:41.073Z"
   },
   {
    "duration": 5,
    "start_time": "2022-05-07T13:51:41.120Z"
   },
   {
    "duration": 765,
    "start_time": "2022-05-07T13:51:41.127Z"
   },
   {
    "duration": 344,
    "start_time": "2022-05-07T13:51:41.895Z"
   },
   {
    "duration": 9,
    "start_time": "2022-05-07T13:51:42.241Z"
   },
   {
    "duration": 5,
    "start_time": "2022-05-07T13:51:42.252Z"
   },
   {
    "duration": 19,
    "start_time": "2022-05-07T13:51:42.259Z"
   },
   {
    "duration": 32,
    "start_time": "2022-05-07T13:51:42.280Z"
   },
   {
    "duration": 8,
    "start_time": "2022-05-07T13:51:42.313Z"
   },
   {
    "duration": 5,
    "start_time": "2022-05-07T13:51:42.323Z"
   },
   {
    "duration": 6,
    "start_time": "2022-05-07T13:51:42.330Z"
   },
   {
    "duration": 6,
    "start_time": "2022-05-07T13:51:42.337Z"
   },
   {
    "duration": 26,
    "start_time": "2022-05-07T13:51:42.345Z"
   },
   {
    "duration": 32,
    "start_time": "2022-05-07T13:51:42.406Z"
   },
   {
    "duration": 25,
    "start_time": "2022-05-07T13:51:42.440Z"
   },
   {
    "duration": 7,
    "start_time": "2022-05-07T13:51:42.468Z"
   },
   {
    "duration": 33,
    "start_time": "2022-05-07T13:51:42.477Z"
   },
   {
    "duration": 10,
    "start_time": "2022-05-07T13:51:42.512Z"
   },
   {
    "duration": 87,
    "start_time": "2022-05-07T13:51:42.524Z"
   },
   {
    "duration": 95,
    "start_time": "2022-05-07T13:51:42.616Z"
   },
   {
    "duration": 5,
    "start_time": "2022-05-07T13:51:42.713Z"
   },
   {
    "duration": 4,
    "start_time": "2022-05-07T13:51:42.720Z"
   },
   {
    "duration": 6,
    "start_time": "2022-05-07T13:51:42.725Z"
   },
   {
    "duration": 6,
    "start_time": "2022-05-07T13:51:42.732Z"
   },
   {
    "duration": 48615,
    "start_time": "2022-05-07T13:51:42.739Z"
   },
   {
    "duration": 17,
    "start_time": "2022-05-07T13:52:31.355Z"
   },
   {
    "duration": 4,
    "start_time": "2022-05-07T13:52:31.373Z"
   },
   {
    "duration": 12,
    "start_time": "2022-05-07T13:52:31.378Z"
   },
   {
    "duration": 15,
    "start_time": "2022-05-07T13:52:31.392Z"
   },
   {
    "duration": 10,
    "start_time": "2022-05-07T13:52:31.409Z"
   },
   {
    "duration": 6,
    "start_time": "2022-05-07T13:52:31.421Z"
   },
   {
    "duration": 13,
    "start_time": "2022-05-07T13:52:31.429Z"
   },
   {
    "duration": 1503,
    "start_time": "2022-05-07T14:04:35.420Z"
   },
   {
    "duration": 29,
    "start_time": "2022-05-07T14:04:36.925Z"
   },
   {
    "duration": 13,
    "start_time": "2022-05-07T14:04:36.956Z"
   },
   {
    "duration": 8,
    "start_time": "2022-05-07T14:04:36.971Z"
   },
   {
    "duration": 39,
    "start_time": "2022-05-07T14:04:36.981Z"
   },
   {
    "duration": 14,
    "start_time": "2022-05-07T14:04:37.023Z"
   },
   {
    "duration": 12,
    "start_time": "2022-05-07T14:04:37.039Z"
   },
   {
    "duration": 14,
    "start_time": "2022-05-07T14:04:37.053Z"
   },
   {
    "duration": 11,
    "start_time": "2022-05-07T14:04:37.069Z"
   },
   {
    "duration": 4,
    "start_time": "2022-05-07T14:04:37.083Z"
   },
   {
    "duration": 857,
    "start_time": "2022-05-07T14:04:37.089Z"
   },
   {
    "duration": 352,
    "start_time": "2022-05-07T14:04:37.948Z"
   },
   {
    "duration": 11,
    "start_time": "2022-05-07T14:04:38.301Z"
   },
   {
    "duration": 6,
    "start_time": "2022-05-07T14:04:38.317Z"
   },
   {
    "duration": 19,
    "start_time": "2022-05-07T14:04:38.324Z"
   },
   {
    "duration": 5,
    "start_time": "2022-05-07T14:04:38.345Z"
   },
   {
    "duration": 7,
    "start_time": "2022-05-07T14:04:38.352Z"
   },
   {
    "duration": 6,
    "start_time": "2022-05-07T14:04:38.361Z"
   },
   {
    "duration": 41,
    "start_time": "2022-05-07T14:04:38.369Z"
   },
   {
    "duration": 9,
    "start_time": "2022-05-07T14:04:38.414Z"
   },
   {
    "duration": 42,
    "start_time": "2022-05-07T14:04:38.425Z"
   },
   {
    "duration": 52,
    "start_time": "2022-05-07T14:04:38.470Z"
   },
   {
    "duration": 27,
    "start_time": "2022-05-07T14:04:38.527Z"
   },
   {
    "duration": 9,
    "start_time": "2022-05-07T14:04:38.557Z"
   },
   {
    "duration": 4,
    "start_time": "2022-05-07T14:04:38.568Z"
   },
   {
    "duration": 40,
    "start_time": "2022-05-07T14:04:38.573Z"
   },
   {
    "duration": 100,
    "start_time": "2022-05-07T14:04:38.615Z"
   },
   {
    "duration": 80,
    "start_time": "2022-05-07T14:04:38.727Z"
   },
   {
    "duration": 18,
    "start_time": "2022-05-07T14:04:38.810Z"
   },
   {
    "duration": 9,
    "start_time": "2022-05-07T14:04:38.830Z"
   },
   {
    "duration": 5,
    "start_time": "2022-05-07T14:04:38.912Z"
   },
   {
    "duration": 4,
    "start_time": "2022-05-07T14:04:38.922Z"
   },
   {
    "duration": 50778,
    "start_time": "2022-05-07T14:04:38.927Z"
   },
   {
    "duration": 20,
    "start_time": "2022-05-07T14:05:29.707Z"
   },
   {
    "duration": 4,
    "start_time": "2022-05-07T14:05:29.728Z"
   },
   {
    "duration": 5,
    "start_time": "2022-05-07T14:05:29.734Z"
   },
   {
    "duration": 4,
    "start_time": "2022-05-07T14:05:29.741Z"
   },
   {
    "duration": 4,
    "start_time": "2022-05-07T14:05:29.747Z"
   },
   {
    "duration": 4,
    "start_time": "2022-05-07T14:05:29.753Z"
   },
   {
    "duration": 5,
    "start_time": "2022-05-07T14:05:29.759Z"
   },
   {
    "duration": 4,
    "start_time": "2022-05-07T14:18:51.286Z"
   },
   {
    "duration": 56,
    "start_time": "2022-05-07T14:19:13.407Z"
   },
   {
    "duration": 7,
    "start_time": "2022-05-07T14:19:41.981Z"
   },
   {
    "duration": 1539,
    "start_time": "2022-05-07T14:20:10.488Z"
   },
   {
    "duration": 34,
    "start_time": "2022-05-07T14:20:12.029Z"
   },
   {
    "duration": 16,
    "start_time": "2022-05-07T14:20:12.064Z"
   },
   {
    "duration": 8,
    "start_time": "2022-05-07T14:20:12.082Z"
   },
   {
    "duration": 29,
    "start_time": "2022-05-07T14:20:12.092Z"
   },
   {
    "duration": 14,
    "start_time": "2022-05-07T14:20:12.123Z"
   },
   {
    "duration": 10,
    "start_time": "2022-05-07T14:20:12.139Z"
   },
   {
    "duration": 10,
    "start_time": "2022-05-07T14:20:12.151Z"
   },
   {
    "duration": 48,
    "start_time": "2022-05-07T14:20:12.163Z"
   },
   {
    "duration": 5,
    "start_time": "2022-05-07T14:20:12.215Z"
   },
   {
    "duration": 819,
    "start_time": "2022-05-07T14:20:12.223Z"
   },
   {
    "duration": 356,
    "start_time": "2022-05-07T14:20:13.044Z"
   },
   {
    "duration": 16,
    "start_time": "2022-05-07T14:20:13.402Z"
   },
   {
    "duration": 8,
    "start_time": "2022-05-07T14:20:13.420Z"
   },
   {
    "duration": 27,
    "start_time": "2022-05-07T14:20:13.430Z"
   },
   {
    "duration": 6,
    "start_time": "2022-05-07T14:20:13.459Z"
   },
   {
    "duration": 5,
    "start_time": "2022-05-07T14:20:13.467Z"
   },
   {
    "duration": 38,
    "start_time": "2022-05-07T14:20:13.474Z"
   },
   {
    "duration": 3,
    "start_time": "2022-05-07T14:20:13.514Z"
   },
   {
    "duration": 6,
    "start_time": "2022-05-07T14:20:13.519Z"
   },
   {
    "duration": 39,
    "start_time": "2022-05-07T14:20:13.526Z"
   },
   {
    "duration": 61,
    "start_time": "2022-05-07T14:20:13.567Z"
   },
   {
    "duration": 37,
    "start_time": "2022-05-07T14:20:13.631Z"
   },
   {
    "duration": 7,
    "start_time": "2022-05-07T14:20:13.670Z"
   },
   {
    "duration": 31,
    "start_time": "2022-05-07T14:20:13.679Z"
   },
   {
    "duration": 12,
    "start_time": "2022-05-07T14:20:13.713Z"
   },
   {
    "duration": 91,
    "start_time": "2022-05-07T14:20:13.727Z"
   },
   {
    "duration": 77,
    "start_time": "2022-05-07T14:20:13.832Z"
   },
   {
    "duration": 10,
    "start_time": "2022-05-07T14:20:13.912Z"
   },
   {
    "duration": 6,
    "start_time": "2022-05-07T14:20:13.926Z"
   },
   {
    "duration": 4,
    "start_time": "2022-05-07T14:20:13.934Z"
   },
   {
    "duration": 7,
    "start_time": "2022-05-07T14:20:13.939Z"
   },
   {
    "duration": 1321,
    "start_time": "2022-05-07T14:21:07.994Z"
   },
   {
    "duration": 29,
    "start_time": "2022-05-07T14:21:09.319Z"
   },
   {
    "duration": 20,
    "start_time": "2022-05-07T14:21:09.350Z"
   },
   {
    "duration": 9,
    "start_time": "2022-05-07T14:21:09.372Z"
   },
   {
    "duration": 39,
    "start_time": "2022-05-07T14:21:09.383Z"
   },
   {
    "duration": 20,
    "start_time": "2022-05-07T14:21:09.424Z"
   },
   {
    "duration": 15,
    "start_time": "2022-05-07T14:21:09.446Z"
   },
   {
    "duration": 5,
    "start_time": "2022-05-07T14:21:09.464Z"
   },
   {
    "duration": 39,
    "start_time": "2022-05-07T14:21:09.471Z"
   },
   {
    "duration": 8,
    "start_time": "2022-05-07T14:21:09.517Z"
   },
   {
    "duration": 1123,
    "start_time": "2022-05-07T14:21:09.528Z"
   },
   {
    "duration": 378,
    "start_time": "2022-05-07T14:21:10.653Z"
   },
   {
    "duration": 9,
    "start_time": "2022-05-07T14:21:11.033Z"
   },
   {
    "duration": 4,
    "start_time": "2022-05-07T14:21:11.044Z"
   },
   {
    "duration": 22,
    "start_time": "2022-05-07T14:21:11.050Z"
   },
   {
    "duration": 7,
    "start_time": "2022-05-07T14:21:11.073Z"
   },
   {
    "duration": 38,
    "start_time": "2022-05-07T14:21:11.081Z"
   },
   {
    "duration": 6,
    "start_time": "2022-05-07T14:21:11.121Z"
   },
   {
    "duration": 6,
    "start_time": "2022-05-07T14:21:11.129Z"
   },
   {
    "duration": 6,
    "start_time": "2022-05-07T14:21:11.137Z"
   },
   {
    "duration": 33,
    "start_time": "2022-05-07T14:21:11.145Z"
   },
   {
    "duration": 34,
    "start_time": "2022-05-07T14:21:11.208Z"
   },
   {
    "duration": 33,
    "start_time": "2022-05-07T14:21:11.244Z"
   },
   {
    "duration": 39,
    "start_time": "2022-05-07T14:21:11.280Z"
   },
   {
    "duration": 5,
    "start_time": "2022-05-07T14:21:11.322Z"
   },
   {
    "duration": 9,
    "start_time": "2022-05-07T14:21:11.329Z"
   },
   {
    "duration": 170,
    "start_time": "2022-05-07T14:21:11.342Z"
   },
   {
    "duration": 13,
    "start_time": "2022-05-07T14:21:11.521Z"
   },
   {
    "duration": 77,
    "start_time": "2022-05-07T14:21:11.537Z"
   },
   {
    "duration": 8,
    "start_time": "2022-05-07T14:21:11.621Z"
   },
   {
    "duration": 7,
    "start_time": "2022-05-07T14:21:11.631Z"
   },
   {
    "duration": 70,
    "start_time": "2022-05-07T14:21:11.640Z"
   },
   {
    "duration": 51741,
    "start_time": "2022-05-07T14:21:11.712Z"
   },
   {
    "duration": 17,
    "start_time": "2022-05-07T14:22:03.455Z"
   },
   {
    "duration": 3,
    "start_time": "2022-05-07T14:22:03.474Z"
   },
   {
    "duration": 12,
    "start_time": "2022-05-07T14:22:03.479Z"
   },
   {
    "duration": 20,
    "start_time": "2022-05-07T14:22:03.493Z"
   },
   {
    "duration": 11,
    "start_time": "2022-05-07T14:22:03.515Z"
   },
   {
    "duration": 6,
    "start_time": "2022-05-07T14:22:03.528Z"
   },
   {
    "duration": 8,
    "start_time": "2022-05-07T14:22:03.536Z"
   },
   {
    "duration": 1263,
    "start_time": "2022-05-07T14:30:31.035Z"
   },
   {
    "duration": 42,
    "start_time": "2022-05-07T14:30:32.301Z"
   },
   {
    "duration": 19,
    "start_time": "2022-05-07T14:30:32.345Z"
   },
   {
    "duration": 9,
    "start_time": "2022-05-07T14:30:32.367Z"
   },
   {
    "duration": 17,
    "start_time": "2022-05-07T14:30:32.377Z"
   },
   {
    "duration": 27,
    "start_time": "2022-05-07T14:30:32.411Z"
   },
   {
    "duration": 30,
    "start_time": "2022-05-07T14:30:32.441Z"
   },
   {
    "duration": 9,
    "start_time": "2022-05-07T14:30:32.473Z"
   },
   {
    "duration": 20,
    "start_time": "2022-05-07T14:30:32.484Z"
   },
   {
    "duration": 17,
    "start_time": "2022-05-07T14:30:32.507Z"
   },
   {
    "duration": 1096,
    "start_time": "2022-05-07T14:30:32.526Z"
   },
   {
    "duration": 349,
    "start_time": "2022-05-07T14:30:33.627Z"
   },
   {
    "duration": 7,
    "start_time": "2022-05-07T14:30:33.978Z"
   },
   {
    "duration": 4,
    "start_time": "2022-05-07T14:30:33.987Z"
   },
   {
    "duration": 40,
    "start_time": "2022-05-07T14:30:33.993Z"
   },
   {
    "duration": 6,
    "start_time": "2022-05-07T14:30:34.035Z"
   },
   {
    "duration": 7,
    "start_time": "2022-05-07T14:30:34.043Z"
   },
   {
    "duration": 4,
    "start_time": "2022-05-07T14:30:34.051Z"
   },
   {
    "duration": 6,
    "start_time": "2022-05-07T14:30:34.056Z"
   },
   {
    "duration": 6,
    "start_time": "2022-05-07T14:30:34.064Z"
   },
   {
    "duration": 67,
    "start_time": "2022-05-07T14:30:34.071Z"
   },
   {
    "duration": 27,
    "start_time": "2022-05-07T14:30:34.141Z"
   },
   {
    "duration": 26,
    "start_time": "2022-05-07T14:30:34.169Z"
   },
   {
    "duration": 11,
    "start_time": "2022-05-07T14:30:34.207Z"
   },
   {
    "duration": 4,
    "start_time": "2022-05-07T14:30:34.219Z"
   },
   {
    "duration": 14,
    "start_time": "2022-05-07T14:30:34.224Z"
   },
   {
    "duration": 81,
    "start_time": "2022-05-07T14:30:34.240Z"
   },
   {
    "duration": 87,
    "start_time": "2022-05-07T14:30:34.329Z"
   },
   {
    "duration": 8,
    "start_time": "2022-05-07T14:30:34.421Z"
   },
   {
    "duration": 3,
    "start_time": "2022-05-07T14:30:34.441Z"
   },
   {
    "duration": 8,
    "start_time": "2022-05-07T14:30:34.446Z"
   },
   {
    "duration": 4,
    "start_time": "2022-05-07T14:30:34.456Z"
   },
   {
    "duration": 1208,
    "start_time": "2022-05-07T14:31:27.882Z"
   },
   {
    "duration": 33,
    "start_time": "2022-05-07T14:31:29.092Z"
   },
   {
    "duration": 24,
    "start_time": "2022-05-07T14:31:29.127Z"
   },
   {
    "duration": 10,
    "start_time": "2022-05-07T14:31:29.154Z"
   },
   {
    "duration": 29,
    "start_time": "2022-05-07T14:31:29.165Z"
   },
   {
    "duration": 23,
    "start_time": "2022-05-07T14:31:29.196Z"
   },
   {
    "duration": 20,
    "start_time": "2022-05-07T14:31:29.220Z"
   },
   {
    "duration": 6,
    "start_time": "2022-05-07T14:31:29.241Z"
   },
   {
    "duration": 28,
    "start_time": "2022-05-07T14:31:29.249Z"
   },
   {
    "duration": 5,
    "start_time": "2022-05-07T14:31:29.281Z"
   },
   {
    "duration": 1084,
    "start_time": "2022-05-07T14:31:29.287Z"
   },
   {
    "duration": 369,
    "start_time": "2022-05-07T14:31:30.373Z"
   },
   {
    "duration": 8,
    "start_time": "2022-05-07T14:31:30.744Z"
   },
   {
    "duration": 5,
    "start_time": "2022-05-07T14:31:30.753Z"
   },
   {
    "duration": 31,
    "start_time": "2022-05-07T14:31:30.760Z"
   },
   {
    "duration": 27,
    "start_time": "2022-05-07T14:31:30.793Z"
   },
   {
    "duration": 28,
    "start_time": "2022-05-07T14:31:30.822Z"
   },
   {
    "duration": 5,
    "start_time": "2022-05-07T14:31:30.852Z"
   },
   {
    "duration": 14,
    "start_time": "2022-05-07T14:31:30.859Z"
   },
   {
    "duration": 12,
    "start_time": "2022-05-07T14:31:30.877Z"
   },
   {
    "duration": 53,
    "start_time": "2022-05-07T14:31:30.891Z"
   },
   {
    "duration": 37,
    "start_time": "2022-05-07T14:31:30.946Z"
   },
   {
    "duration": 45,
    "start_time": "2022-05-07T14:31:30.985Z"
   },
   {
    "duration": 10,
    "start_time": "2022-05-07T14:31:31.031Z"
   },
   {
    "duration": 6,
    "start_time": "2022-05-07T14:31:31.042Z"
   },
   {
    "duration": 14,
    "start_time": "2022-05-07T14:31:31.049Z"
   },
   {
    "duration": 77,
    "start_time": "2022-05-07T14:31:31.065Z"
   },
   {
    "duration": 13,
    "start_time": "2022-05-07T14:31:31.211Z"
   },
   {
    "duration": 19,
    "start_time": "2022-05-07T14:31:31.226Z"
   },
   {
    "duration": 12,
    "start_time": "2022-05-07T14:31:31.247Z"
   },
   {
    "duration": 14,
    "start_time": "2022-05-07T14:31:31.260Z"
   },
   {
    "duration": 12,
    "start_time": "2022-05-07T14:31:31.276Z"
   },
   {
    "duration": 53552,
    "start_time": "2022-05-07T14:31:31.290Z"
   },
   {
    "duration": 17,
    "start_time": "2022-05-07T14:32:24.844Z"
   },
   {
    "duration": 3,
    "start_time": "2022-05-07T14:32:24.863Z"
   },
   {
    "duration": 6,
    "start_time": "2022-05-07T14:32:24.868Z"
   },
   {
    "duration": 5,
    "start_time": "2022-05-07T14:32:24.875Z"
   },
   {
    "duration": 7,
    "start_time": "2022-05-07T14:32:24.881Z"
   },
   {
    "duration": 2,
    "start_time": "2022-05-07T14:32:24.909Z"
   },
   {
    "duration": 3,
    "start_time": "2022-05-07T14:32:24.913Z"
   },
   {
    "duration": 1241,
    "start_time": "2022-05-07T16:11:09.511Z"
   },
   {
    "duration": 33,
    "start_time": "2022-05-07T16:11:10.754Z"
   },
   {
    "duration": 22,
    "start_time": "2022-05-07T16:11:10.789Z"
   },
   {
    "duration": 12,
    "start_time": "2022-05-07T16:11:10.815Z"
   },
   {
    "duration": 14,
    "start_time": "2022-05-07T16:11:10.828Z"
   },
   {
    "duration": 13,
    "start_time": "2022-05-07T16:11:10.843Z"
   },
   {
    "duration": 11,
    "start_time": "2022-05-07T16:11:10.858Z"
   },
   {
    "duration": 6,
    "start_time": "2022-05-07T16:11:10.871Z"
   },
   {
    "duration": 12,
    "start_time": "2022-05-07T16:11:10.912Z"
   },
   {
    "duration": 5,
    "start_time": "2022-05-07T16:11:10.927Z"
   },
   {
    "duration": 1081,
    "start_time": "2022-05-07T16:11:10.934Z"
   },
   {
    "duration": 350,
    "start_time": "2022-05-07T16:11:12.019Z"
   },
   {
    "duration": 7,
    "start_time": "2022-05-07T16:11:12.371Z"
   },
   {
    "duration": 5,
    "start_time": "2022-05-07T16:11:12.379Z"
   },
   {
    "duration": 44,
    "start_time": "2022-05-07T16:11:12.385Z"
   },
   {
    "duration": 5,
    "start_time": "2022-05-07T16:11:12.431Z"
   },
   {
    "duration": 6,
    "start_time": "2022-05-07T16:11:12.438Z"
   },
   {
    "duration": 4,
    "start_time": "2022-05-07T16:11:12.446Z"
   },
   {
    "duration": 6,
    "start_time": "2022-05-07T16:11:12.451Z"
   },
   {
    "duration": 5,
    "start_time": "2022-05-07T16:11:12.459Z"
   },
   {
    "duration": 63,
    "start_time": "2022-05-07T16:11:12.466Z"
   },
   {
    "duration": 25,
    "start_time": "2022-05-07T16:11:12.531Z"
   },
   {
    "duration": 25,
    "start_time": "2022-05-07T16:11:12.557Z"
   },
   {
    "duration": 7,
    "start_time": "2022-05-07T16:11:12.609Z"
   },
   {
    "duration": 4,
    "start_time": "2022-05-07T16:11:12.619Z"
   },
   {
    "duration": 8,
    "start_time": "2022-05-07T16:11:12.625Z"
   },
   {
    "duration": 90,
    "start_time": "2022-05-07T16:11:12.636Z"
   },
   {
    "duration": 12,
    "start_time": "2022-05-07T16:11:12.810Z"
   },
   {
    "duration": 4,
    "start_time": "2022-05-07T16:11:12.824Z"
   },
   {
    "duration": 7,
    "start_time": "2022-05-07T16:11:12.830Z"
   },
   {
    "duration": 9,
    "start_time": "2022-05-07T16:11:12.839Z"
   },
   {
    "duration": 8,
    "start_time": "2022-05-07T16:11:12.850Z"
   },
   {
    "duration": 51567,
    "start_time": "2022-05-07T16:11:12.859Z"
   },
   {
    "duration": 22,
    "start_time": "2022-05-07T16:12:04.429Z"
   },
   {
    "duration": 4,
    "start_time": "2022-05-07T16:12:04.453Z"
   },
   {
    "duration": 5,
    "start_time": "2022-05-07T16:12:04.459Z"
   },
   {
    "duration": 5,
    "start_time": "2022-05-07T16:12:04.466Z"
   },
   {
    "duration": 5,
    "start_time": "2022-05-07T16:12:04.472Z"
   },
   {
    "duration": 4,
    "start_time": "2022-05-07T16:12:04.479Z"
   },
   {
    "duration": 11,
    "start_time": "2022-05-07T16:12:04.514Z"
   },
   {
    "duration": 242462,
    "start_time": "2022-05-07T16:12:04.527Z"
   },
   {
    "duration": 9,
    "start_time": "2022-05-07T16:16:06.991Z"
   },
   {
    "duration": 3,
    "start_time": "2022-05-07T16:16:07.002Z"
   },
   {
    "duration": 11,
    "start_time": "2022-05-07T16:16:07.006Z"
   },
   {
    "duration": 129,
    "start_time": "2022-05-07T16:16:07.018Z"
   },
   {
    "duration": 0,
    "start_time": "2022-05-07T16:16:07.149Z"
   },
   {
    "duration": 0,
    "start_time": "2022-05-07T16:16:07.150Z"
   },
   {
    "duration": 0,
    "start_time": "2022-05-07T16:16:07.151Z"
   },
   {
    "duration": 0,
    "start_time": "2022-05-07T16:16:07.152Z"
   },
   {
    "duration": 0,
    "start_time": "2022-05-07T16:16:07.153Z"
   },
   {
    "duration": 0,
    "start_time": "2022-05-07T16:16:07.154Z"
   },
   {
    "duration": 0,
    "start_time": "2022-05-07T16:16:07.155Z"
   },
   {
    "duration": 0,
    "start_time": "2022-05-07T16:16:07.156Z"
   },
   {
    "duration": 5,
    "start_time": "2022-05-07T16:16:37.064Z"
   },
   {
    "duration": 7,
    "start_time": "2022-05-07T16:16:54.032Z"
   },
   {
    "duration": 2,
    "start_time": "2022-05-07T16:17:55.190Z"
   },
   {
    "duration": 5,
    "start_time": "2022-05-07T16:17:55.652Z"
   },
   {
    "duration": 4,
    "start_time": "2022-05-07T16:17:56.348Z"
   },
   {
    "duration": 3,
    "start_time": "2022-05-07T16:18:02.233Z"
   },
   {
    "duration": 3,
    "start_time": "2022-05-07T16:18:02.920Z"
   },
   {
    "duration": 4,
    "start_time": "2022-05-07T16:18:03.484Z"
   },
   {
    "duration": 4,
    "start_time": "2022-05-07T16:18:03.980Z"
   },
   {
    "duration": 9,
    "start_time": "2022-05-07T16:18:08.523Z"
   },
   {
    "duration": 4,
    "start_time": "2022-05-07T16:18:09.317Z"
   },
   {
    "duration": 3,
    "start_time": "2022-05-07T16:18:15.055Z"
   },
   {
    "duration": 14,
    "start_time": "2022-05-07T16:20:42.732Z"
   },
   {
    "duration": 4,
    "start_time": "2022-05-07T16:20:43.570Z"
   },
   {
    "duration": 4,
    "start_time": "2022-05-07T16:20:52.474Z"
   },
   {
    "duration": 4,
    "start_time": "2022-05-07T16:22:25.740Z"
   },
   {
    "duration": 1279,
    "start_time": "2022-05-07T16:25:23.804Z"
   },
   {
    "duration": 30,
    "start_time": "2022-05-07T16:25:25.085Z"
   },
   {
    "duration": 21,
    "start_time": "2022-05-07T16:25:25.117Z"
   },
   {
    "duration": 7,
    "start_time": "2022-05-07T16:25:25.140Z"
   },
   {
    "duration": 15,
    "start_time": "2022-05-07T16:25:25.149Z"
   },
   {
    "duration": 12,
    "start_time": "2022-05-07T16:25:25.166Z"
   },
   {
    "duration": 42,
    "start_time": "2022-05-07T16:25:25.179Z"
   },
   {
    "duration": 4,
    "start_time": "2022-05-07T16:25:25.223Z"
   },
   {
    "duration": 10,
    "start_time": "2022-05-07T16:25:25.229Z"
   },
   {
    "duration": 5,
    "start_time": "2022-05-07T16:25:25.242Z"
   },
   {
    "duration": 1078,
    "start_time": "2022-05-07T16:25:25.248Z"
   },
   {
    "duration": 331,
    "start_time": "2022-05-07T16:25:26.328Z"
   },
   {
    "duration": 6,
    "start_time": "2022-05-07T16:25:26.661Z"
   },
   {
    "duration": 4,
    "start_time": "2022-05-07T16:25:26.669Z"
   },
   {
    "duration": 38,
    "start_time": "2022-05-07T16:25:26.675Z"
   },
   {
    "duration": 7,
    "start_time": "2022-05-07T16:25:26.715Z"
   },
   {
    "duration": 6,
    "start_time": "2022-05-07T16:25:26.724Z"
   },
   {
    "duration": 4,
    "start_time": "2022-05-07T16:25:26.731Z"
   },
   {
    "duration": 7,
    "start_time": "2022-05-07T16:25:26.737Z"
   },
   {
    "duration": 6,
    "start_time": "2022-05-07T16:25:26.746Z"
   },
   {
    "duration": 58,
    "start_time": "2022-05-07T16:25:26.753Z"
   },
   {
    "duration": 38,
    "start_time": "2022-05-07T16:25:26.817Z"
   },
   {
    "duration": 26,
    "start_time": "2022-05-07T16:25:26.857Z"
   },
   {
    "duration": 29,
    "start_time": "2022-05-07T16:25:26.885Z"
   },
   {
    "duration": 9,
    "start_time": "2022-05-07T16:25:26.916Z"
   },
   {
    "duration": 9,
    "start_time": "2022-05-07T16:25:26.927Z"
   },
   {
    "duration": 79,
    "start_time": "2022-05-07T16:25:26.940Z"
   },
   {
    "duration": 98,
    "start_time": "2022-05-07T16:25:27.025Z"
   },
   {
    "duration": 7,
    "start_time": "2022-05-07T16:25:27.128Z"
   },
   {
    "duration": 15,
    "start_time": "2022-05-07T16:25:27.211Z"
   },
   {
    "duration": 4,
    "start_time": "2022-05-07T16:25:27.228Z"
   },
   {
    "duration": 4,
    "start_time": "2022-05-07T16:25:27.233Z"
   },
   {
    "duration": 50706,
    "start_time": "2022-05-07T16:25:27.239Z"
   },
   {
    "duration": 18,
    "start_time": "2022-05-07T16:26:17.947Z"
   },
   {
    "duration": 4,
    "start_time": "2022-05-07T16:26:17.967Z"
   },
   {
    "duration": 5,
    "start_time": "2022-05-07T16:26:17.973Z"
   },
   {
    "duration": 5,
    "start_time": "2022-05-07T16:26:17.980Z"
   },
   {
    "duration": 4,
    "start_time": "2022-05-07T16:26:18.009Z"
   },
   {
    "duration": 5,
    "start_time": "2022-05-07T16:26:18.019Z"
   },
   {
    "duration": 6,
    "start_time": "2022-05-07T16:26:18.026Z"
   },
   {
    "duration": 1178,
    "start_time": "2022-05-07T16:26:34.951Z"
   },
   {
    "duration": 27,
    "start_time": "2022-05-07T16:26:36.131Z"
   },
   {
    "duration": 18,
    "start_time": "2022-05-07T16:26:36.160Z"
   },
   {
    "duration": 7,
    "start_time": "2022-05-07T16:26:36.181Z"
   },
   {
    "duration": 21,
    "start_time": "2022-05-07T16:26:36.207Z"
   },
   {
    "duration": 16,
    "start_time": "2022-05-07T16:26:36.230Z"
   },
   {
    "duration": 13,
    "start_time": "2022-05-07T16:26:36.248Z"
   },
   {
    "duration": 5,
    "start_time": "2022-05-07T16:26:36.263Z"
   },
   {
    "duration": 41,
    "start_time": "2022-05-07T16:26:36.270Z"
   },
   {
    "duration": 5,
    "start_time": "2022-05-07T16:26:36.315Z"
   },
   {
    "duration": 1077,
    "start_time": "2022-05-07T16:26:36.321Z"
   },
   {
    "duration": 343,
    "start_time": "2022-05-07T16:26:37.400Z"
   },
   {
    "duration": 7,
    "start_time": "2022-05-07T16:26:37.745Z"
   },
   {
    "duration": 5,
    "start_time": "2022-05-07T16:26:37.753Z"
   },
   {
    "duration": 18,
    "start_time": "2022-05-07T16:26:37.760Z"
   },
   {
    "duration": 33,
    "start_time": "2022-05-07T16:26:37.780Z"
   },
   {
    "duration": 7,
    "start_time": "2022-05-07T16:26:37.815Z"
   },
   {
    "duration": 4,
    "start_time": "2022-05-07T16:26:37.824Z"
   },
   {
    "duration": 6,
    "start_time": "2022-05-07T16:26:37.830Z"
   },
   {
    "duration": 6,
    "start_time": "2022-05-07T16:26:37.837Z"
   },
   {
    "duration": 26,
    "start_time": "2022-05-07T16:26:37.844Z"
   },
   {
    "duration": 71,
    "start_time": "2022-05-07T16:26:37.873Z"
   },
   {
    "duration": 31,
    "start_time": "2022-05-07T16:26:37.946Z"
   },
   {
    "duration": 6,
    "start_time": "2022-05-07T16:26:37.979Z"
   },
   {
    "duration": 4,
    "start_time": "2022-05-07T16:26:37.987Z"
   },
   {
    "duration": 34,
    "start_time": "2022-05-07T16:26:37.992Z"
   },
   {
    "duration": 89,
    "start_time": "2022-05-07T16:26:38.029Z"
   },
   {
    "duration": 16,
    "start_time": "2022-05-07T16:26:38.209Z"
   },
   {
    "duration": 5,
    "start_time": "2022-05-07T16:26:38.227Z"
   },
   {
    "duration": 7,
    "start_time": "2022-05-07T16:26:38.234Z"
   },
   {
    "duration": 8,
    "start_time": "2022-05-07T16:26:38.242Z"
   },
   {
    "duration": 5,
    "start_time": "2022-05-07T16:26:38.252Z"
   },
   {
    "duration": 50927,
    "start_time": "2022-05-07T16:26:38.259Z"
   },
   {
    "duration": 24,
    "start_time": "2022-05-07T16:27:29.188Z"
   },
   {
    "duration": 6,
    "start_time": "2022-05-07T16:27:29.214Z"
   },
   {
    "duration": 9,
    "start_time": "2022-05-07T16:27:29.222Z"
   },
   {
    "duration": 8,
    "start_time": "2022-05-07T16:27:29.232Z"
   },
   {
    "duration": 4,
    "start_time": "2022-05-07T16:27:29.242Z"
   },
   {
    "duration": 5,
    "start_time": "2022-05-07T16:27:29.248Z"
   },
   {
    "duration": 4,
    "start_time": "2022-05-07T16:27:29.255Z"
   },
   {
    "duration": 241965,
    "start_time": "2022-05-07T16:27:29.261Z"
   },
   {
    "duration": 12,
    "start_time": "2022-05-07T16:31:31.228Z"
   },
   {
    "duration": 4,
    "start_time": "2022-05-07T16:31:31.242Z"
   },
   {
    "duration": 8,
    "start_time": "2022-05-07T16:31:31.247Z"
   },
   {
    "duration": 8,
    "start_time": "2022-05-07T16:31:31.257Z"
   },
   {
    "duration": 9,
    "start_time": "2022-05-07T16:31:31.267Z"
   },
   {
    "duration": 36,
    "start_time": "2022-05-07T16:31:31.278Z"
   },
   {
    "duration": 38,
    "start_time": "2022-05-07T16:31:31.316Z"
   },
   {
    "duration": 8,
    "start_time": "2022-05-07T16:31:31.355Z"
   },
   {
    "duration": 9,
    "start_time": "2022-05-07T16:31:31.365Z"
   },
   {
    "duration": 12,
    "start_time": "2022-05-07T16:31:31.376Z"
   },
   {
    "duration": 15,
    "start_time": "2022-05-07T16:31:31.391Z"
   },
   {
    "duration": 7,
    "start_time": "2022-05-07T16:31:31.408Z"
   },
   {
    "duration": 7,
    "start_time": "2022-05-07T16:31:31.417Z"
   },
   {
    "duration": 5,
    "start_time": "2022-05-07T16:39:28.705Z"
   },
   {
    "duration": 1271,
    "start_time": "2022-05-07T16:42:51.605Z"
   },
   {
    "duration": 28,
    "start_time": "2022-05-07T16:42:52.879Z"
   },
   {
    "duration": 20,
    "start_time": "2022-05-07T16:42:52.914Z"
   },
   {
    "duration": 9,
    "start_time": "2022-05-07T16:42:52.936Z"
   },
   {
    "duration": 15,
    "start_time": "2022-05-07T16:42:52.948Z"
   },
   {
    "duration": 15,
    "start_time": "2022-05-07T16:42:52.965Z"
   },
   {
    "duration": 39,
    "start_time": "2022-05-07T16:42:52.982Z"
   },
   {
    "duration": 5,
    "start_time": "2022-05-07T16:42:53.024Z"
   },
   {
    "duration": 12,
    "start_time": "2022-05-07T16:42:53.031Z"
   },
   {
    "duration": 5,
    "start_time": "2022-05-07T16:42:53.045Z"
   },
   {
    "duration": 1032,
    "start_time": "2022-05-07T16:42:53.052Z"
   },
   {
    "duration": 343,
    "start_time": "2022-05-07T16:42:54.086Z"
   },
   {
    "duration": 7,
    "start_time": "2022-05-07T16:42:54.431Z"
   },
   {
    "duration": 5,
    "start_time": "2022-05-07T16:42:54.441Z"
   },
   {
    "duration": 17,
    "start_time": "2022-05-07T16:42:54.447Z"
   },
   {
    "duration": 5,
    "start_time": "2022-05-07T16:42:54.466Z"
   },
   {
    "duration": 5,
    "start_time": "2022-05-07T16:42:54.472Z"
   },
   {
    "duration": 34,
    "start_time": "2022-05-07T16:42:54.479Z"
   },
   {
    "duration": 8,
    "start_time": "2022-05-07T16:42:54.516Z"
   },
   {
    "duration": 7,
    "start_time": "2022-05-07T16:42:54.526Z"
   },
   {
    "duration": 28,
    "start_time": "2022-05-07T16:42:54.535Z"
   },
   {
    "duration": 25,
    "start_time": "2022-05-07T16:42:54.565Z"
   },
   {
    "duration": 30,
    "start_time": "2022-05-07T16:42:54.611Z"
   },
   {
    "duration": 6,
    "start_time": "2022-05-07T16:42:54.643Z"
   },
   {
    "duration": 5,
    "start_time": "2022-05-07T16:42:54.651Z"
   },
   {
    "duration": 9,
    "start_time": "2022-05-07T16:42:54.658Z"
   },
   {
    "duration": 98,
    "start_time": "2022-05-07T16:42:54.710Z"
   },
   {
    "duration": 7,
    "start_time": "2022-05-07T16:42:54.810Z"
   },
   {
    "duration": 93,
    "start_time": "2022-05-07T16:42:54.820Z"
   },
   {
    "duration": 8,
    "start_time": "2022-05-07T16:42:54.917Z"
   },
   {
    "duration": 5,
    "start_time": "2022-05-07T16:42:54.927Z"
   },
   {
    "duration": 6,
    "start_time": "2022-05-07T16:42:54.933Z"
   },
   {
    "duration": 59807,
    "start_time": "2022-05-07T16:42:54.940Z"
   },
   {
    "duration": 27,
    "start_time": "2022-05-07T16:43:54.749Z"
   },
   {
    "duration": 3,
    "start_time": "2022-05-07T16:43:54.778Z"
   },
   {
    "duration": 6,
    "start_time": "2022-05-07T16:43:54.782Z"
   },
   {
    "duration": 21,
    "start_time": "2022-05-07T16:43:54.789Z"
   },
   {
    "duration": 4,
    "start_time": "2022-05-07T16:43:54.814Z"
   },
   {
    "duration": 4,
    "start_time": "2022-05-07T16:43:54.820Z"
   },
   {
    "duration": 4,
    "start_time": "2022-05-07T16:43:54.826Z"
   },
   {
    "duration": 245731,
    "start_time": "2022-05-07T16:43:54.834Z"
   },
   {
    "duration": 10,
    "start_time": "2022-05-07T16:48:00.566Z"
   },
   {
    "duration": 4,
    "start_time": "2022-05-07T16:48:00.577Z"
   },
   {
    "duration": 6,
    "start_time": "2022-05-07T16:48:00.583Z"
   },
   {
    "duration": 22,
    "start_time": "2022-05-07T16:48:00.590Z"
   },
   {
    "duration": 12,
    "start_time": "2022-05-07T16:48:00.620Z"
   },
   {
    "duration": 7,
    "start_time": "2022-05-07T16:48:00.634Z"
   },
   {
    "duration": 23,
    "start_time": "2022-05-07T16:48:00.642Z"
   },
   {
    "duration": 7,
    "start_time": "2022-05-07T16:48:00.666Z"
   },
   {
    "duration": 14,
    "start_time": "2022-05-07T16:48:00.674Z"
   },
   {
    "duration": 7,
    "start_time": "2022-05-07T16:48:00.690Z"
   },
   {
    "duration": 26,
    "start_time": "2022-05-07T16:48:00.699Z"
   },
   {
    "duration": 3,
    "start_time": "2022-05-07T16:48:00.728Z"
   },
   {
    "duration": 19,
    "start_time": "2022-05-07T16:48:00.733Z"
   },
   {
    "duration": 111,
    "start_time": "2022-05-07T16:56:47.486Z"
   },
   {
    "duration": 4,
    "start_time": "2022-05-07T16:57:02.475Z"
   },
   {
    "duration": 5,
    "start_time": "2022-05-07T16:57:05.207Z"
   },
   {
    "duration": 1217,
    "start_time": "2022-05-07T16:58:52.971Z"
   },
   {
    "duration": 28,
    "start_time": "2022-05-07T16:58:54.190Z"
   },
   {
    "duration": 19,
    "start_time": "2022-05-07T16:58:54.221Z"
   },
   {
    "duration": 8,
    "start_time": "2022-05-07T16:58:54.242Z"
   },
   {
    "duration": 15,
    "start_time": "2022-05-07T16:58:54.251Z"
   },
   {
    "duration": 13,
    "start_time": "2022-05-07T16:58:54.267Z"
   },
   {
    "duration": 34,
    "start_time": "2022-05-07T16:58:54.282Z"
   },
   {
    "duration": 4,
    "start_time": "2022-05-07T16:58:54.319Z"
   },
   {
    "duration": 11,
    "start_time": "2022-05-07T16:58:54.325Z"
   },
   {
    "duration": 5,
    "start_time": "2022-05-07T16:58:54.339Z"
   },
   {
    "duration": 1040,
    "start_time": "2022-05-07T16:58:54.345Z"
   },
   {
    "duration": 328,
    "start_time": "2022-05-07T16:58:55.387Z"
   },
   {
    "duration": 9,
    "start_time": "2022-05-07T16:58:55.716Z"
   },
   {
    "duration": 4,
    "start_time": "2022-05-07T16:58:55.728Z"
   },
   {
    "duration": 20,
    "start_time": "2022-05-07T16:58:55.733Z"
   },
   {
    "duration": 5,
    "start_time": "2022-05-07T16:58:55.755Z"
   },
   {
    "duration": 9,
    "start_time": "2022-05-07T16:58:55.762Z"
   },
   {
    "duration": 4,
    "start_time": "2022-05-07T16:58:55.773Z"
   },
   {
    "duration": 5,
    "start_time": "2022-05-07T16:58:55.814Z"
   },
   {
    "duration": 8,
    "start_time": "2022-05-07T16:58:55.820Z"
   },
   {
    "duration": 25,
    "start_time": "2022-05-07T16:58:55.830Z"
   },
   {
    "duration": 25,
    "start_time": "2022-05-07T16:58:55.857Z"
   },
   {
    "duration": 58,
    "start_time": "2022-05-07T16:58:55.884Z"
   },
   {
    "duration": 7,
    "start_time": "2022-05-07T16:58:55.943Z"
   },
   {
    "duration": 5,
    "start_time": "2022-05-07T16:58:55.951Z"
   },
   {
    "duration": 8,
    "start_time": "2022-05-07T16:58:55.958Z"
   },
   {
    "duration": 49,
    "start_time": "2022-05-07T16:58:55.969Z"
   },
   {
    "duration": 5,
    "start_time": "2022-05-07T16:58:56.023Z"
   },
   {
    "duration": 80,
    "start_time": "2022-05-07T16:58:56.030Z"
   },
   {
    "duration": 11,
    "start_time": "2022-05-07T16:58:56.112Z"
   },
   {
    "duration": 13,
    "start_time": "2022-05-07T16:58:56.125Z"
   },
   {
    "duration": 9,
    "start_time": "2022-05-07T16:58:56.140Z"
   },
   {
    "duration": 1206,
    "start_time": "2022-05-07T17:11:34.225Z"
   },
   {
    "duration": 28,
    "start_time": "2022-05-07T17:11:35.433Z"
   },
   {
    "duration": 19,
    "start_time": "2022-05-07T17:11:35.462Z"
   },
   {
    "duration": 9,
    "start_time": "2022-05-07T17:11:35.484Z"
   },
   {
    "duration": 18,
    "start_time": "2022-05-07T17:11:35.507Z"
   },
   {
    "duration": 12,
    "start_time": "2022-05-07T17:11:35.527Z"
   },
   {
    "duration": 18,
    "start_time": "2022-05-07T17:11:35.541Z"
   },
   {
    "duration": 6,
    "start_time": "2022-05-07T17:11:35.560Z"
   },
   {
    "duration": 13,
    "start_time": "2022-05-07T17:11:35.568Z"
   },
   {
    "duration": 11,
    "start_time": "2022-05-07T17:11:35.606Z"
   },
   {
    "duration": 1064,
    "start_time": "2022-05-07T17:11:35.619Z"
   },
   {
    "duration": 358,
    "start_time": "2022-05-07T17:11:36.685Z"
   },
   {
    "duration": 7,
    "start_time": "2022-05-07T17:11:37.045Z"
   },
   {
    "duration": 6,
    "start_time": "2022-05-07T17:11:37.053Z"
   },
   {
    "duration": 15,
    "start_time": "2022-05-07T17:11:37.060Z"
   },
   {
    "duration": 5,
    "start_time": "2022-05-07T17:11:37.077Z"
   },
   {
    "duration": 34,
    "start_time": "2022-05-07T17:11:37.083Z"
   },
   {
    "duration": 5,
    "start_time": "2022-05-07T17:11:37.120Z"
   },
   {
    "duration": 4,
    "start_time": "2022-05-07T17:11:37.127Z"
   },
   {
    "duration": 5,
    "start_time": "2022-05-07T17:11:37.133Z"
   },
   {
    "duration": 20,
    "start_time": "2022-05-07T17:11:37.140Z"
   },
   {
    "duration": 53,
    "start_time": "2022-05-07T17:11:37.161Z"
   },
   {
    "duration": 20,
    "start_time": "2022-05-07T17:11:37.216Z"
   },
   {
    "duration": 6,
    "start_time": "2022-05-07T17:11:37.238Z"
   },
   {
    "duration": 4,
    "start_time": "2022-05-07T17:11:37.246Z"
   },
   {
    "duration": 11,
    "start_time": "2022-05-07T17:11:37.251Z"
   },
   {
    "duration": 48,
    "start_time": "2022-05-07T17:11:37.264Z"
   },
   {
    "duration": 7,
    "start_time": "2022-05-07T17:11:37.318Z"
   },
   {
    "duration": 6,
    "start_time": "2022-05-07T17:11:37.328Z"
   },
   {
    "duration": 4,
    "start_time": "2022-05-07T17:11:37.336Z"
   },
   {
    "duration": 7,
    "start_time": "2022-05-07T17:11:37.411Z"
   },
   {
    "duration": 4,
    "start_time": "2022-05-07T17:11:37.420Z"
   },
   {
    "duration": 1263,
    "start_time": "2022-05-07T17:40:56.166Z"
   },
   {
    "duration": 28,
    "start_time": "2022-05-07T17:40:57.431Z"
   },
   {
    "duration": 18,
    "start_time": "2022-05-07T17:40:57.460Z"
   },
   {
    "duration": 8,
    "start_time": "2022-05-07T17:40:57.480Z"
   },
   {
    "duration": 42,
    "start_time": "2022-05-07T17:40:57.490Z"
   },
   {
    "duration": 19,
    "start_time": "2022-05-07T17:40:57.534Z"
   },
   {
    "duration": 12,
    "start_time": "2022-05-07T17:40:57.555Z"
   },
   {
    "duration": 9,
    "start_time": "2022-05-07T17:40:57.569Z"
   },
   {
    "duration": 15,
    "start_time": "2022-05-07T17:40:57.580Z"
   },
   {
    "duration": 4,
    "start_time": "2022-05-07T17:40:57.607Z"
   },
   {
    "duration": 1103,
    "start_time": "2022-05-07T17:40:57.613Z"
   },
   {
    "duration": 359,
    "start_time": "2022-05-07T17:40:58.718Z"
   },
   {
    "duration": 7,
    "start_time": "2022-05-07T17:40:59.079Z"
   },
   {
    "duration": 5,
    "start_time": "2022-05-07T17:40:59.087Z"
   },
   {
    "duration": 16,
    "start_time": "2022-05-07T17:40:59.109Z"
   },
   {
    "duration": 6,
    "start_time": "2022-05-07T17:40:59.127Z"
   },
   {
    "duration": 6,
    "start_time": "2022-05-07T17:40:59.134Z"
   },
   {
    "duration": 4,
    "start_time": "2022-05-07T17:40:59.142Z"
   },
   {
    "duration": 4,
    "start_time": "2022-05-07T17:40:59.147Z"
   },
   {
    "duration": 5,
    "start_time": "2022-05-07T17:40:59.153Z"
   },
   {
    "duration": 65,
    "start_time": "2022-05-07T17:40:59.160Z"
   },
   {
    "duration": 18,
    "start_time": "2022-05-07T17:40:59.227Z"
   },
   {
    "duration": 20,
    "start_time": "2022-05-07T17:40:59.247Z"
   },
   {
    "duration": 7,
    "start_time": "2022-05-07T17:40:59.268Z"
   },
   {
    "duration": 4,
    "start_time": "2022-05-07T17:40:59.277Z"
   },
   {
    "duration": 28,
    "start_time": "2022-05-07T17:40:59.283Z"
   },
   {
    "duration": 11,
    "start_time": "2022-05-07T17:40:59.319Z"
   },
   {
    "duration": 4,
    "start_time": "2022-05-07T17:40:59.336Z"
   },
   {
    "duration": 12,
    "start_time": "2022-05-07T17:40:59.409Z"
   },
   {
    "duration": 5,
    "start_time": "2022-05-07T17:40:59.424Z"
   },
   {
    "duration": 6,
    "start_time": "2022-05-07T17:40:59.431Z"
   },
   {
    "duration": 5,
    "start_time": "2022-05-07T17:40:59.438Z"
   },
   {
    "duration": 1212,
    "start_time": "2022-05-07T17:44:24.558Z"
   },
   {
    "duration": 31,
    "start_time": "2022-05-07T17:44:25.772Z"
   },
   {
    "duration": 26,
    "start_time": "2022-05-07T17:44:25.805Z"
   },
   {
    "duration": 7,
    "start_time": "2022-05-07T17:44:25.833Z"
   },
   {
    "duration": 14,
    "start_time": "2022-05-07T17:44:25.842Z"
   },
   {
    "duration": 13,
    "start_time": "2022-05-07T17:44:25.858Z"
   },
   {
    "duration": 41,
    "start_time": "2022-05-07T17:44:25.873Z"
   },
   {
    "duration": 10,
    "start_time": "2022-05-07T17:44:25.915Z"
   },
   {
    "duration": 11,
    "start_time": "2022-05-07T17:44:25.927Z"
   },
   {
    "duration": 5,
    "start_time": "2022-05-07T17:44:25.942Z"
   },
   {
    "duration": 1125,
    "start_time": "2022-05-07T17:44:25.949Z"
   },
   {
    "duration": 381,
    "start_time": "2022-05-07T17:44:27.076Z"
   },
   {
    "duration": 8,
    "start_time": "2022-05-07T17:44:27.459Z"
   },
   {
    "duration": 5,
    "start_time": "2022-05-07T17:44:27.470Z"
   },
   {
    "duration": 39,
    "start_time": "2022-05-07T17:44:27.477Z"
   },
   {
    "duration": 8,
    "start_time": "2022-05-07T17:44:27.518Z"
   },
   {
    "duration": 7,
    "start_time": "2022-05-07T17:44:27.528Z"
   },
   {
    "duration": 4,
    "start_time": "2022-05-07T17:44:27.537Z"
   },
   {
    "duration": 4,
    "start_time": "2022-05-07T17:44:27.543Z"
   },
   {
    "duration": 7,
    "start_time": "2022-05-07T17:44:27.549Z"
   },
   {
    "duration": 57,
    "start_time": "2022-05-07T17:44:27.558Z"
   },
   {
    "duration": 21,
    "start_time": "2022-05-07T17:44:27.617Z"
   },
   {
    "duration": 30,
    "start_time": "2022-05-07T17:44:27.640Z"
   },
   {
    "duration": 7,
    "start_time": "2022-05-07T17:44:27.673Z"
   },
   {
    "duration": 5,
    "start_time": "2022-05-07T17:44:27.682Z"
   },
   {
    "duration": 8,
    "start_time": "2022-05-07T17:44:27.716Z"
   },
   {
    "duration": 10,
    "start_time": "2022-05-07T17:44:27.727Z"
   },
   {
    "duration": 5,
    "start_time": "2022-05-07T17:44:27.743Z"
   },
   {
    "duration": 20,
    "start_time": "2022-05-07T17:44:27.808Z"
   },
   {
    "duration": 5,
    "start_time": "2022-05-07T17:44:27.831Z"
   },
   {
    "duration": 75,
    "start_time": "2022-05-07T17:44:27.838Z"
   },
   {
    "duration": 5,
    "start_time": "2022-05-07T17:44:27.917Z"
   },
   {
    "duration": 532046,
    "start_time": "2022-05-07T17:44:27.926Z"
   },
   {
    "duration": 16,
    "start_time": "2022-05-07T17:53:19.974Z"
   },
   {
    "duration": 4,
    "start_time": "2022-05-07T17:53:19.992Z"
   },
   {
    "duration": 16,
    "start_time": "2022-05-07T17:53:20.008Z"
   },
   {
    "duration": 4,
    "start_time": "2022-05-07T17:53:20.027Z"
   },
   {
    "duration": 7,
    "start_time": "2022-05-07T17:53:20.033Z"
   },
   {
    "duration": 7,
    "start_time": "2022-05-07T17:53:20.042Z"
   },
   {
    "duration": 8,
    "start_time": "2022-05-07T17:53:20.051Z"
   },
   {
    "duration": 1224,
    "start_time": "2022-05-07T18:13:44.316Z"
   },
   {
    "duration": 28,
    "start_time": "2022-05-07T18:13:45.542Z"
   },
   {
    "duration": 17,
    "start_time": "2022-05-07T18:13:45.571Z"
   },
   {
    "duration": 26,
    "start_time": "2022-05-07T18:13:45.590Z"
   },
   {
    "duration": 15,
    "start_time": "2022-05-07T18:13:45.618Z"
   },
   {
    "duration": 12,
    "start_time": "2022-05-07T18:13:45.635Z"
   },
   {
    "duration": 11,
    "start_time": "2022-05-07T18:13:45.648Z"
   },
   {
    "duration": 6,
    "start_time": "2022-05-07T18:13:45.661Z"
   },
   {
    "duration": 10,
    "start_time": "2022-05-07T18:13:45.669Z"
   },
   {
    "duration": 30,
    "start_time": "2022-05-07T18:13:45.681Z"
   },
   {
    "duration": 1076,
    "start_time": "2022-05-07T18:13:45.715Z"
   },
   {
    "duration": 358,
    "start_time": "2022-05-07T18:13:46.793Z"
   },
   {
    "duration": 7,
    "start_time": "2022-05-07T18:13:47.153Z"
   },
   {
    "duration": 4,
    "start_time": "2022-05-07T18:13:47.164Z"
   },
   {
    "duration": 14,
    "start_time": "2022-05-07T18:13:47.170Z"
   },
   {
    "duration": 30,
    "start_time": "2022-05-07T18:13:47.186Z"
   },
   {
    "duration": 10,
    "start_time": "2022-05-07T18:13:47.218Z"
   },
   {
    "duration": 4,
    "start_time": "2022-05-07T18:13:47.231Z"
   },
   {
    "duration": 5,
    "start_time": "2022-05-07T18:13:47.237Z"
   },
   {
    "duration": 5,
    "start_time": "2022-05-07T18:13:47.244Z"
   },
   {
    "duration": 26,
    "start_time": "2022-05-07T18:13:47.252Z"
   },
   {
    "duration": 31,
    "start_time": "2022-05-07T18:13:47.307Z"
   },
   {
    "duration": 18,
    "start_time": "2022-05-07T18:13:47.340Z"
   },
   {
    "duration": 6,
    "start_time": "2022-05-07T18:13:47.360Z"
   },
   {
    "duration": 6,
    "start_time": "2022-05-07T18:13:47.368Z"
   },
   {
    "duration": 45,
    "start_time": "2022-05-07T18:13:47.376Z"
   },
   {
    "duration": 7,
    "start_time": "2022-05-07T18:13:47.423Z"
   },
   {
    "duration": 5,
    "start_time": "2022-05-07T18:13:47.432Z"
   },
   {
    "duration": 80,
    "start_time": "2022-05-07T18:13:47.439Z"
   },
   {
    "duration": 35,
    "start_time": "2022-05-07T18:13:47.521Z"
   },
   {
    "duration": 6,
    "start_time": "2022-05-07T18:13:47.558Z"
   },
   {
    "duration": 4,
    "start_time": "2022-05-07T18:13:47.566Z"
   },
   {
    "duration": 1259,
    "start_time": "2022-05-07T18:15:24.950Z"
   },
   {
    "duration": 32,
    "start_time": "2022-05-07T18:15:26.211Z"
   },
   {
    "duration": 18,
    "start_time": "2022-05-07T18:15:26.245Z"
   },
   {
    "duration": 8,
    "start_time": "2022-05-07T18:15:26.265Z"
   },
   {
    "duration": 39,
    "start_time": "2022-05-07T18:15:26.275Z"
   },
   {
    "duration": 15,
    "start_time": "2022-05-07T18:15:26.316Z"
   },
   {
    "duration": 17,
    "start_time": "2022-05-07T18:15:26.333Z"
   },
   {
    "duration": 4,
    "start_time": "2022-05-07T18:15:26.352Z"
   },
   {
    "duration": 14,
    "start_time": "2022-05-07T18:15:26.358Z"
   },
   {
    "duration": 4,
    "start_time": "2022-05-07T18:15:26.375Z"
   },
   {
    "duration": 1105,
    "start_time": "2022-05-07T18:15:26.380Z"
   },
   {
    "duration": 351,
    "start_time": "2022-05-07T18:15:27.487Z"
   },
   {
    "duration": 7,
    "start_time": "2022-05-07T18:15:27.840Z"
   },
   {
    "duration": 5,
    "start_time": "2022-05-07T18:15:27.848Z"
   },
   {
    "duration": 16,
    "start_time": "2022-05-07T18:15:27.855Z"
   },
   {
    "duration": 5,
    "start_time": "2022-05-07T18:15:27.873Z"
   },
   {
    "duration": 10,
    "start_time": "2022-05-07T18:15:27.907Z"
   },
   {
    "duration": 4,
    "start_time": "2022-05-07T18:15:27.919Z"
   },
   {
    "duration": 6,
    "start_time": "2022-05-07T18:15:27.925Z"
   },
   {
    "duration": 5,
    "start_time": "2022-05-07T18:15:27.933Z"
   },
   {
    "duration": 27,
    "start_time": "2022-05-07T18:15:27.940Z"
   },
   {
    "duration": 68,
    "start_time": "2022-05-07T18:15:27.969Z"
   },
   {
    "duration": 26,
    "start_time": "2022-05-07T18:15:28.039Z"
   },
   {
    "duration": 8,
    "start_time": "2022-05-07T18:15:28.067Z"
   },
   {
    "duration": 5,
    "start_time": "2022-05-07T18:15:28.077Z"
   },
   {
    "duration": 35,
    "start_time": "2022-05-07T18:15:28.084Z"
   },
   {
    "duration": 10,
    "start_time": "2022-05-07T18:15:28.122Z"
   },
   {
    "duration": 5,
    "start_time": "2022-05-07T18:15:28.138Z"
   },
   {
    "duration": 9,
    "start_time": "2022-05-07T18:15:28.213Z"
   },
   {
    "duration": 9,
    "start_time": "2022-05-07T18:15:28.224Z"
   },
   {
    "duration": 78,
    "start_time": "2022-05-07T18:15:28.236Z"
   },
   {
    "duration": 9,
    "start_time": "2022-05-07T18:15:28.316Z"
   },
   {
    "duration": 1238,
    "start_time": "2022-05-07T18:15:55.895Z"
   },
   {
    "duration": 27,
    "start_time": "2022-05-07T18:15:57.136Z"
   },
   {
    "duration": 18,
    "start_time": "2022-05-07T18:15:57.165Z"
   },
   {
    "duration": 8,
    "start_time": "2022-05-07T18:15:57.185Z"
   },
   {
    "duration": 31,
    "start_time": "2022-05-07T18:15:57.194Z"
   },
   {
    "duration": 16,
    "start_time": "2022-05-07T18:15:57.228Z"
   },
   {
    "duration": 15,
    "start_time": "2022-05-07T18:15:57.246Z"
   },
   {
    "duration": 6,
    "start_time": "2022-05-07T18:15:57.263Z"
   },
   {
    "duration": 11,
    "start_time": "2022-05-07T18:15:57.270Z"
   },
   {
    "duration": 5,
    "start_time": "2022-05-07T18:15:57.317Z"
   },
   {
    "duration": 1099,
    "start_time": "2022-05-07T18:15:57.323Z"
   },
   {
    "duration": 346,
    "start_time": "2022-05-07T18:15:58.424Z"
   },
   {
    "duration": 7,
    "start_time": "2022-05-07T18:15:58.772Z"
   },
   {
    "duration": 5,
    "start_time": "2022-05-07T18:15:58.780Z"
   },
   {
    "duration": 30,
    "start_time": "2022-05-07T18:15:58.787Z"
   },
   {
    "duration": 8,
    "start_time": "2022-05-07T18:15:58.819Z"
   },
   {
    "duration": 7,
    "start_time": "2022-05-07T18:15:58.829Z"
   },
   {
    "duration": 5,
    "start_time": "2022-05-07T18:15:58.837Z"
   },
   {
    "duration": 5,
    "start_time": "2022-05-07T18:15:58.843Z"
   },
   {
    "duration": 5,
    "start_time": "2022-05-07T18:15:58.850Z"
   },
   {
    "duration": 58,
    "start_time": "2022-05-07T18:15:58.857Z"
   },
   {
    "duration": 22,
    "start_time": "2022-05-07T18:15:58.916Z"
   },
   {
    "duration": 18,
    "start_time": "2022-05-07T18:15:58.940Z"
   },
   {
    "duration": 8,
    "start_time": "2022-05-07T18:15:58.960Z"
   },
   {
    "duration": 8,
    "start_time": "2022-05-07T18:15:58.970Z"
   },
   {
    "duration": 37,
    "start_time": "2022-05-07T18:15:58.980Z"
   },
   {
    "duration": 10,
    "start_time": "2022-05-07T18:15:59.021Z"
   },
   {
    "duration": 4,
    "start_time": "2022-05-07T18:15:59.035Z"
   },
   {
    "duration": 72,
    "start_time": "2022-05-07T18:15:59.042Z"
   },
   {
    "duration": 8,
    "start_time": "2022-05-07T18:15:59.116Z"
   },
   {
    "duration": 8,
    "start_time": "2022-05-07T18:15:59.126Z"
   },
   {
    "duration": 73,
    "start_time": "2022-05-07T18:15:59.136Z"
   },
   {
    "duration": 1244,
    "start_time": "2022-05-07T18:59:03.884Z"
   },
   {
    "duration": 28,
    "start_time": "2022-05-07T18:59:05.130Z"
   },
   {
    "duration": 17,
    "start_time": "2022-05-07T18:59:05.160Z"
   },
   {
    "duration": 7,
    "start_time": "2022-05-07T18:59:05.180Z"
   },
   {
    "duration": 29,
    "start_time": "2022-05-07T18:59:05.188Z"
   },
   {
    "duration": 14,
    "start_time": "2022-05-07T18:59:05.219Z"
   },
   {
    "duration": 13,
    "start_time": "2022-05-07T18:59:05.234Z"
   },
   {
    "duration": 6,
    "start_time": "2022-05-07T18:59:05.249Z"
   },
   {
    "duration": 12,
    "start_time": "2022-05-07T18:59:05.256Z"
   },
   {
    "duration": 4,
    "start_time": "2022-05-07T18:59:05.272Z"
   },
   {
    "duration": 1047,
    "start_time": "2022-05-07T18:59:05.277Z"
   },
   {
    "duration": 339,
    "start_time": "2022-05-07T18:59:06.326Z"
   },
   {
    "duration": 8,
    "start_time": "2022-05-07T18:59:06.667Z"
   },
   {
    "duration": 4,
    "start_time": "2022-05-07T18:59:06.677Z"
   },
   {
    "duration": 33,
    "start_time": "2022-05-07T18:59:06.683Z"
   },
   {
    "duration": 6,
    "start_time": "2022-05-07T18:59:06.717Z"
   },
   {
    "duration": 6,
    "start_time": "2022-05-07T18:59:06.725Z"
   },
   {
    "duration": 4,
    "start_time": "2022-05-07T18:59:06.733Z"
   },
   {
    "duration": 5,
    "start_time": "2022-05-07T18:59:06.738Z"
   },
   {
    "duration": 11,
    "start_time": "2022-05-07T18:59:06.745Z"
   },
   {
    "duration": 50,
    "start_time": "2022-05-07T18:59:06.758Z"
   },
   {
    "duration": 19,
    "start_time": "2022-05-07T18:59:06.810Z"
   },
   {
    "duration": 19,
    "start_time": "2022-05-07T18:59:06.831Z"
   },
   {
    "duration": 6,
    "start_time": "2022-05-07T18:59:06.852Z"
   },
   {
    "duration": 5,
    "start_time": "2022-05-07T18:59:06.859Z"
   },
   {
    "duration": 50,
    "start_time": "2022-05-07T18:59:06.865Z"
   },
   {
    "duration": 5,
    "start_time": "2022-05-07T18:59:06.917Z"
   },
   {
    "duration": 5,
    "start_time": "2022-05-07T18:59:06.929Z"
   },
   {
    "duration": 75,
    "start_time": "2022-05-07T18:59:06.936Z"
   },
   {
    "duration": 6,
    "start_time": "2022-05-07T18:59:07.013Z"
   },
   {
    "duration": 6,
    "start_time": "2022-05-07T18:59:07.020Z"
   },
   {
    "duration": 9,
    "start_time": "2022-05-07T18:59:07.027Z"
   },
   {
    "duration": 704,
    "start_time": "2022-05-07T18:59:07.038Z"
   },
   {
    "duration": 7,
    "start_time": "2022-05-07T18:59:07.744Z"
   },
   {
    "duration": 11,
    "start_time": "2022-05-07T18:59:07.754Z"
   },
   {
    "duration": 9,
    "start_time": "2022-05-07T18:59:07.767Z"
   },
   {
    "duration": 9,
    "start_time": "2022-05-07T18:59:07.778Z"
   },
   {
    "duration": 21,
    "start_time": "2022-05-07T18:59:07.790Z"
   },
   {
    "duration": 4,
    "start_time": "2022-05-07T18:59:07.813Z"
   },
   {
    "duration": 5,
    "start_time": "2022-05-07T18:59:07.819Z"
   },
   {
    "duration": 1281,
    "start_time": "2022-05-07T19:00:25.974Z"
   },
   {
    "duration": 32,
    "start_time": "2022-05-07T19:00:27.257Z"
   },
   {
    "duration": 17,
    "start_time": "2022-05-07T19:00:27.290Z"
   },
   {
    "duration": 6,
    "start_time": "2022-05-07T19:00:27.310Z"
   },
   {
    "duration": 16,
    "start_time": "2022-05-07T19:00:27.318Z"
   },
   {
    "duration": 11,
    "start_time": "2022-05-07T19:00:27.336Z"
   },
   {
    "duration": 11,
    "start_time": "2022-05-07T19:00:27.349Z"
   },
   {
    "duration": 5,
    "start_time": "2022-05-07T19:00:27.361Z"
   },
   {
    "duration": 39,
    "start_time": "2022-05-07T19:00:27.368Z"
   },
   {
    "duration": 4,
    "start_time": "2022-05-07T19:00:27.410Z"
   },
   {
    "duration": 983,
    "start_time": "2022-05-07T19:00:27.416Z"
   },
   {
    "duration": 328,
    "start_time": "2022-05-07T19:00:28.400Z"
   },
   {
    "duration": 7,
    "start_time": "2022-05-07T19:00:28.730Z"
   },
   {
    "duration": 5,
    "start_time": "2022-05-07T19:00:28.739Z"
   },
   {
    "duration": 16,
    "start_time": "2022-05-07T19:00:28.745Z"
   },
   {
    "duration": 4,
    "start_time": "2022-05-07T19:00:28.763Z"
   },
   {
    "duration": 6,
    "start_time": "2022-05-07T19:00:28.769Z"
   },
   {
    "duration": 6,
    "start_time": "2022-05-07T19:00:28.807Z"
   },
   {
    "duration": 6,
    "start_time": "2022-05-07T19:00:28.815Z"
   },
   {
    "duration": 7,
    "start_time": "2022-05-07T19:00:28.823Z"
   },
   {
    "duration": 21,
    "start_time": "2022-05-07T19:00:28.832Z"
   },
   {
    "duration": 20,
    "start_time": "2022-05-07T19:00:28.855Z"
   },
   {
    "duration": 44,
    "start_time": "2022-05-07T19:00:28.877Z"
   },
   {
    "duration": 9,
    "start_time": "2022-05-07T19:00:28.923Z"
   },
   {
    "duration": 23,
    "start_time": "2022-05-07T19:00:28.934Z"
   },
   {
    "duration": 25,
    "start_time": "2022-05-07T19:00:28.959Z"
   },
   {
    "duration": 36,
    "start_time": "2022-05-07T19:00:28.986Z"
   },
   {
    "duration": 9,
    "start_time": "2022-05-07T19:00:29.029Z"
   },
   {
    "duration": 69,
    "start_time": "2022-05-07T19:00:29.041Z"
   },
   {
    "duration": 24,
    "start_time": "2022-05-07T19:00:29.112Z"
   },
   {
    "duration": 17,
    "start_time": "2022-05-07T19:00:29.139Z"
   },
   {
    "duration": 19,
    "start_time": "2022-05-07T19:00:29.158Z"
   },
   {
    "duration": 638,
    "start_time": "2022-05-07T19:00:29.179Z"
   },
   {
    "duration": 5,
    "start_time": "2022-05-07T19:00:29.819Z"
   },
   {
    "duration": 7,
    "start_time": "2022-05-07T19:00:29.826Z"
   },
   {
    "duration": 5,
    "start_time": "2022-05-07T19:00:29.834Z"
   },
   {
    "duration": 6,
    "start_time": "2022-05-07T19:00:29.840Z"
   },
   {
    "duration": 4,
    "start_time": "2022-05-07T19:00:29.848Z"
   },
   {
    "duration": 4,
    "start_time": "2022-05-07T19:00:29.854Z"
   },
   {
    "duration": 4,
    "start_time": "2022-05-07T19:00:29.859Z"
   },
   {
    "duration": 27347,
    "start_time": "2022-05-07T19:00:29.865Z"
   },
   {
    "duration": 4,
    "start_time": "2022-05-07T19:00:57.213Z"
   },
   {
    "duration": 5,
    "start_time": "2022-05-07T19:00:57.219Z"
   },
   {
    "duration": 5,
    "start_time": "2022-05-07T19:00:57.226Z"
   },
   {
    "duration": 5,
    "start_time": "2022-05-07T19:00:57.233Z"
   },
   {
    "duration": 9,
    "start_time": "2022-05-07T19:00:57.239Z"
   },
   {
    "duration": 5,
    "start_time": "2022-05-07T19:00:57.250Z"
   },
   {
    "duration": 5,
    "start_time": "2022-05-07T19:00:57.257Z"
   },
   {
    "duration": 5,
    "start_time": "2022-05-07T19:00:57.264Z"
   },
   {
    "duration": 8,
    "start_time": "2022-05-07T19:00:57.270Z"
   },
   {
    "duration": 30,
    "start_time": "2022-05-07T19:00:57.279Z"
   },
   {
    "duration": 8,
    "start_time": "2022-05-07T19:00:57.311Z"
   },
   {
    "duration": 6,
    "start_time": "2022-05-07T19:00:57.321Z"
   },
   {
    "duration": 6,
    "start_time": "2022-05-07T19:00:57.329Z"
   },
   {
    "duration": 5,
    "start_time": "2022-05-07T19:02:12.922Z"
   },
   {
    "duration": 4,
    "start_time": "2022-05-07T19:02:13.891Z"
   },
   {
    "duration": 6,
    "start_time": "2022-05-07T19:02:57.258Z"
   },
   {
    "duration": 4,
    "start_time": "2022-05-07T19:02:57.657Z"
   },
   {
    "duration": 1177,
    "start_time": "2022-05-07T19:03:54.307Z"
   },
   {
    "duration": 28,
    "start_time": "2022-05-07T19:03:55.486Z"
   },
   {
    "duration": 17,
    "start_time": "2022-05-07T19:03:55.515Z"
   },
   {
    "duration": 7,
    "start_time": "2022-05-07T19:03:55.534Z"
   },
   {
    "duration": 14,
    "start_time": "2022-05-07T19:03:55.543Z"
   },
   {
    "duration": 11,
    "start_time": "2022-05-07T19:03:55.559Z"
   },
   {
    "duration": 37,
    "start_time": "2022-05-07T19:03:55.572Z"
   },
   {
    "duration": 5,
    "start_time": "2022-05-07T19:03:55.611Z"
   },
   {
    "duration": 11,
    "start_time": "2022-05-07T19:03:55.618Z"
   },
   {
    "duration": 6,
    "start_time": "2022-05-07T19:03:55.630Z"
   },
   {
    "duration": 979,
    "start_time": "2022-05-07T19:03:55.637Z"
   },
   {
    "duration": 331,
    "start_time": "2022-05-07T19:03:56.618Z"
   },
   {
    "duration": 7,
    "start_time": "2022-05-07T19:03:56.951Z"
   },
   {
    "duration": 5,
    "start_time": "2022-05-07T19:03:56.961Z"
   },
   {
    "duration": 18,
    "start_time": "2022-05-07T19:03:56.967Z"
   },
   {
    "duration": 24,
    "start_time": "2022-05-07T19:03:56.987Z"
   },
   {
    "duration": 7,
    "start_time": "2022-05-07T19:03:57.012Z"
   },
   {
    "duration": 4,
    "start_time": "2022-05-07T19:03:57.021Z"
   },
   {
    "duration": 5,
    "start_time": "2022-05-07T19:03:57.026Z"
   },
   {
    "duration": 6,
    "start_time": "2022-05-07T19:03:57.032Z"
   },
   {
    "duration": 27,
    "start_time": "2022-05-07T19:03:57.039Z"
   },
   {
    "duration": 62,
    "start_time": "2022-05-07T19:03:57.068Z"
   },
   {
    "duration": 32,
    "start_time": "2022-05-07T19:03:57.132Z"
   },
   {
    "duration": 7,
    "start_time": "2022-05-07T19:03:57.166Z"
   },
   {
    "duration": 6,
    "start_time": "2022-05-07T19:03:57.174Z"
   },
   {
    "duration": 34,
    "start_time": "2022-05-07T19:03:57.181Z"
   },
   {
    "duration": 6,
    "start_time": "2022-05-07T19:03:57.217Z"
   },
   {
    "duration": 83,
    "start_time": "2022-05-07T19:03:57.225Z"
   },
   {
    "duration": 5,
    "start_time": "2022-05-07T19:03:57.310Z"
   },
   {
    "duration": 4,
    "start_time": "2022-05-07T19:03:57.317Z"
   },
   {
    "duration": 84,
    "start_time": "2022-05-07T19:03:57.324Z"
   },
   {
    "duration": 6,
    "start_time": "2022-05-07T19:03:57.410Z"
   },
   {
    "duration": 787,
    "start_time": "2022-05-07T19:03:57.418Z"
   },
   {
    "duration": 6,
    "start_time": "2022-05-07T19:03:58.207Z"
   },
   {
    "duration": 5,
    "start_time": "2022-05-07T19:03:58.215Z"
   },
   {
    "duration": 5,
    "start_time": "2022-05-07T19:03:58.222Z"
   },
   {
    "duration": 5,
    "start_time": "2022-05-07T19:03:58.228Z"
   },
   {
    "duration": 5,
    "start_time": "2022-05-07T19:03:58.235Z"
   },
   {
    "duration": 5,
    "start_time": "2022-05-07T19:03:58.242Z"
   },
   {
    "duration": 4,
    "start_time": "2022-05-07T19:03:58.249Z"
   },
   {
    "duration": 33036,
    "start_time": "2022-05-07T19:03:58.258Z"
   },
   {
    "duration": 5,
    "start_time": "2022-05-07T19:04:31.297Z"
   },
   {
    "duration": 6,
    "start_time": "2022-05-07T19:04:31.303Z"
   },
   {
    "duration": 10,
    "start_time": "2022-05-07T19:04:31.311Z"
   },
   {
    "duration": 6,
    "start_time": "2022-05-07T19:04:31.322Z"
   },
   {
    "duration": 10,
    "start_time": "2022-05-07T19:04:31.330Z"
   },
   {
    "duration": 6,
    "start_time": "2022-05-07T19:04:31.341Z"
   },
   {
    "duration": 7,
    "start_time": "2022-05-07T19:04:31.348Z"
   },
   {
    "duration": 6,
    "start_time": "2022-05-07T19:04:31.356Z"
   },
   {
    "duration": 17,
    "start_time": "2022-05-07T19:04:31.363Z"
   },
   {
    "duration": 6,
    "start_time": "2022-05-07T19:04:31.382Z"
   },
   {
    "duration": 18,
    "start_time": "2022-05-07T19:04:31.389Z"
   },
   {
    "duration": 3,
    "start_time": "2022-05-07T19:04:31.409Z"
   },
   {
    "duration": 7,
    "start_time": "2022-05-07T19:04:31.413Z"
   },
   {
    "duration": 7,
    "start_time": "2022-05-07T19:04:31.421Z"
   },
   {
    "duration": 4,
    "start_time": "2022-05-07T19:04:31.430Z"
   },
   {
    "duration": 5,
    "start_time": "2022-05-07T19:04:31.436Z"
   },
   {
    "duration": 5,
    "start_time": "2022-05-07T19:04:31.443Z"
   },
   {
    "duration": 1181,
    "start_time": "2022-05-07T19:05:35.028Z"
   },
   {
    "duration": 27,
    "start_time": "2022-05-07T19:05:36.211Z"
   },
   {
    "duration": 17,
    "start_time": "2022-05-07T19:05:36.240Z"
   },
   {
    "duration": 8,
    "start_time": "2022-05-07T19:05:36.259Z"
   },
   {
    "duration": 13,
    "start_time": "2022-05-07T19:05:36.269Z"
   },
   {
    "duration": 33,
    "start_time": "2022-05-07T19:05:36.284Z"
   },
   {
    "duration": 9,
    "start_time": "2022-05-07T19:05:36.319Z"
   },
   {
    "duration": 5,
    "start_time": "2022-05-07T19:05:36.330Z"
   },
   {
    "duration": 10,
    "start_time": "2022-05-07T19:05:36.337Z"
   },
   {
    "duration": 4,
    "start_time": "2022-05-07T19:05:36.350Z"
   },
   {
    "duration": 1016,
    "start_time": "2022-05-07T19:05:36.355Z"
   },
   {
    "duration": 317,
    "start_time": "2022-05-07T19:05:37.373Z"
   },
   {
    "duration": 15,
    "start_time": "2022-05-07T19:05:37.692Z"
   },
   {
    "duration": 4,
    "start_time": "2022-05-07T19:05:37.708Z"
   },
   {
    "duration": 17,
    "start_time": "2022-05-07T19:05:37.714Z"
   },
   {
    "duration": 5,
    "start_time": "2022-05-07T19:05:37.733Z"
   },
   {
    "duration": 6,
    "start_time": "2022-05-07T19:05:37.739Z"
   },
   {
    "duration": 4,
    "start_time": "2022-05-07T19:05:37.747Z"
   },
   {
    "duration": 4,
    "start_time": "2022-05-07T19:05:37.752Z"
   },
   {
    "duration": 6,
    "start_time": "2022-05-07T19:05:37.758Z"
   },
   {
    "duration": 63,
    "start_time": "2022-05-07T19:05:37.765Z"
   },
   {
    "duration": 25,
    "start_time": "2022-05-07T19:05:37.830Z"
   },
   {
    "duration": 25,
    "start_time": "2022-05-07T19:05:37.857Z"
   },
   {
    "duration": 7,
    "start_time": "2022-05-07T19:05:37.909Z"
   },
   {
    "duration": 4,
    "start_time": "2022-05-07T19:05:37.917Z"
   },
   {
    "duration": 8,
    "start_time": "2022-05-07T19:05:37.923Z"
   },
   {
    "duration": 5,
    "start_time": "2022-05-07T19:05:37.933Z"
   },
   {
    "duration": 4,
    "start_time": "2022-05-07T19:05:38.008Z"
   },
   {
    "duration": 5,
    "start_time": "2022-05-07T19:05:38.014Z"
   },
   {
    "duration": 4,
    "start_time": "2022-05-07T19:05:38.021Z"
   },
   {
    "duration": 82,
    "start_time": "2022-05-07T19:05:38.027Z"
   },
   {
    "duration": 8,
    "start_time": "2022-05-07T19:05:38.111Z"
   },
   {
    "duration": 781,
    "start_time": "2022-05-07T19:05:38.120Z"
   },
   {
    "duration": 8,
    "start_time": "2022-05-07T19:05:38.902Z"
   },
   {
    "duration": 8,
    "start_time": "2022-05-07T19:05:38.911Z"
   },
   {
    "duration": 8,
    "start_time": "2022-05-07T19:05:38.920Z"
   },
   {
    "duration": 4,
    "start_time": "2022-05-07T19:05:38.929Z"
   },
   {
    "duration": 7,
    "start_time": "2022-05-07T19:05:38.935Z"
   },
   {
    "duration": 7,
    "start_time": "2022-05-07T19:05:38.944Z"
   },
   {
    "duration": 7,
    "start_time": "2022-05-07T19:05:38.953Z"
   },
   {
    "duration": 1248,
    "start_time": "2022-05-07T19:20:04.566Z"
   },
   {
    "duration": 29,
    "start_time": "2022-05-07T19:20:05.817Z"
   },
   {
    "duration": 21,
    "start_time": "2022-05-07T19:20:05.848Z"
   },
   {
    "duration": 9,
    "start_time": "2022-05-07T19:20:05.872Z"
   },
   {
    "duration": 38,
    "start_time": "2022-05-07T19:20:05.883Z"
   },
   {
    "duration": 15,
    "start_time": "2022-05-07T19:20:05.923Z"
   },
   {
    "duration": 14,
    "start_time": "2022-05-07T19:20:05.940Z"
   },
   {
    "duration": 7,
    "start_time": "2022-05-07T19:20:05.956Z"
   },
   {
    "duration": 12,
    "start_time": "2022-05-07T19:20:05.965Z"
   },
   {
    "duration": 5,
    "start_time": "2022-05-07T19:20:06.007Z"
   },
   {
    "duration": 1048,
    "start_time": "2022-05-07T19:20:06.013Z"
   },
   {
    "duration": 369,
    "start_time": "2022-05-07T19:20:07.064Z"
   },
   {
    "duration": 7,
    "start_time": "2022-05-07T19:20:07.435Z"
   },
   {
    "duration": 10,
    "start_time": "2022-05-07T19:20:07.444Z"
   },
   {
    "duration": 19,
    "start_time": "2022-05-07T19:20:07.456Z"
   },
   {
    "duration": 6,
    "start_time": "2022-05-07T19:20:07.476Z"
   },
   {
    "duration": 27,
    "start_time": "2022-05-07T19:20:07.484Z"
   },
   {
    "duration": 5,
    "start_time": "2022-05-07T19:20:07.513Z"
   },
   {
    "duration": 5,
    "start_time": "2022-05-07T19:20:07.520Z"
   },
   {
    "duration": 6,
    "start_time": "2022-05-07T19:20:07.527Z"
   },
   {
    "duration": 28,
    "start_time": "2022-05-07T19:20:07.535Z"
   },
   {
    "duration": 62,
    "start_time": "2022-05-07T19:20:07.564Z"
   },
   {
    "duration": 34,
    "start_time": "2022-05-07T19:20:07.628Z"
   },
   {
    "duration": 7,
    "start_time": "2022-05-07T19:20:07.664Z"
   },
   {
    "duration": 5,
    "start_time": "2022-05-07T19:20:07.674Z"
   },
   {
    "duration": 10,
    "start_time": "2022-05-07T19:20:07.707Z"
   },
   {
    "duration": 6,
    "start_time": "2022-05-07T19:20:07.720Z"
   },
   {
    "duration": 78,
    "start_time": "2022-05-07T19:20:07.732Z"
   },
   {
    "duration": 8,
    "start_time": "2022-05-07T19:20:07.813Z"
   },
   {
    "duration": 84,
    "start_time": "2022-05-07T19:20:07.824Z"
   },
   {
    "duration": 4,
    "start_time": "2022-05-07T19:20:07.910Z"
   },
   {
    "duration": 6,
    "start_time": "2022-05-07T19:20:07.916Z"
   },
   {
    "duration": 262,
    "start_time": "2022-05-07T19:20:07.924Z"
   },
   {
    "duration": 6,
    "start_time": "2022-05-07T19:20:08.188Z"
   },
   {
    "duration": 11,
    "start_time": "2022-05-07T19:20:08.196Z"
   },
   {
    "duration": 4,
    "start_time": "2022-05-07T19:20:08.209Z"
   },
   {
    "duration": 6,
    "start_time": "2022-05-07T19:20:08.214Z"
   },
   {
    "duration": 5,
    "start_time": "2022-05-07T19:20:08.222Z"
   },
   {
    "duration": 5,
    "start_time": "2022-05-07T19:20:08.228Z"
   },
   {
    "duration": 144,
    "start_time": "2022-05-07T19:20:08.234Z"
   },
   {
    "duration": 0,
    "start_time": "2022-05-07T19:20:08.379Z"
   },
   {
    "duration": 0,
    "start_time": "2022-05-07T19:20:08.381Z"
   },
   {
    "duration": 0,
    "start_time": "2022-05-07T19:20:08.382Z"
   },
   {
    "duration": 0,
    "start_time": "2022-05-07T19:20:08.384Z"
   },
   {
    "duration": 0,
    "start_time": "2022-05-07T19:20:08.385Z"
   },
   {
    "duration": 0,
    "start_time": "2022-05-07T19:20:08.386Z"
   },
   {
    "duration": 0,
    "start_time": "2022-05-07T19:20:08.387Z"
   },
   {
    "duration": 0,
    "start_time": "2022-05-07T19:20:08.407Z"
   },
   {
    "duration": 0,
    "start_time": "2022-05-07T19:20:08.408Z"
   },
   {
    "duration": 0,
    "start_time": "2022-05-07T19:20:08.410Z"
   },
   {
    "duration": 0,
    "start_time": "2022-05-07T19:20:08.411Z"
   },
   {
    "duration": 0,
    "start_time": "2022-05-07T19:20:08.413Z"
   },
   {
    "duration": 0,
    "start_time": "2022-05-07T19:20:08.414Z"
   },
   {
    "duration": 0,
    "start_time": "2022-05-07T19:20:08.415Z"
   },
   {
    "duration": 0,
    "start_time": "2022-05-07T19:20:08.416Z"
   },
   {
    "duration": 1,
    "start_time": "2022-05-07T19:20:08.417Z"
   },
   {
    "duration": 0,
    "start_time": "2022-05-07T19:20:08.419Z"
   },
   {
    "duration": 0,
    "start_time": "2022-05-07T19:20:08.420Z"
   },
   {
    "duration": 1246,
    "start_time": "2022-05-07T19:20:28.075Z"
   },
   {
    "duration": 28,
    "start_time": "2022-05-07T19:20:29.323Z"
   },
   {
    "duration": 21,
    "start_time": "2022-05-07T19:20:29.353Z"
   },
   {
    "duration": 9,
    "start_time": "2022-05-07T19:20:29.376Z"
   },
   {
    "duration": 30,
    "start_time": "2022-05-07T19:20:29.388Z"
   },
   {
    "duration": 12,
    "start_time": "2022-05-07T19:20:29.420Z"
   },
   {
    "duration": 10,
    "start_time": "2022-05-07T19:20:29.434Z"
   },
   {
    "duration": 10,
    "start_time": "2022-05-07T19:20:29.446Z"
   },
   {
    "duration": 14,
    "start_time": "2022-05-07T19:20:29.458Z"
   },
   {
    "duration": 34,
    "start_time": "2022-05-07T19:20:29.475Z"
   },
   {
    "duration": 1031,
    "start_time": "2022-05-07T19:20:29.511Z"
   },
   {
    "duration": 385,
    "start_time": "2022-05-07T19:20:30.544Z"
   },
   {
    "duration": 8,
    "start_time": "2022-05-07T19:20:30.931Z"
   },
   {
    "duration": 8,
    "start_time": "2022-05-07T19:20:30.941Z"
   },
   {
    "duration": 28,
    "start_time": "2022-05-07T19:20:30.952Z"
   },
   {
    "duration": 30,
    "start_time": "2022-05-07T19:20:30.982Z"
   },
   {
    "duration": 9,
    "start_time": "2022-05-07T19:20:31.014Z"
   },
   {
    "duration": 8,
    "start_time": "2022-05-07T19:20:31.025Z"
   },
   {
    "duration": 6,
    "start_time": "2022-05-07T19:20:31.035Z"
   },
   {
    "duration": 9,
    "start_time": "2022-05-07T19:20:31.042Z"
   },
   {
    "duration": 30,
    "start_time": "2022-05-07T19:20:31.052Z"
   },
   {
    "duration": 45,
    "start_time": "2022-05-07T19:20:31.084Z"
   },
   {
    "duration": 31,
    "start_time": "2022-05-07T19:20:31.130Z"
   },
   {
    "duration": 13,
    "start_time": "2022-05-07T19:20:31.162Z"
   },
   {
    "duration": 9,
    "start_time": "2022-05-07T19:20:31.177Z"
   },
   {
    "duration": 23,
    "start_time": "2022-05-07T19:20:31.188Z"
   },
   {
    "duration": 7,
    "start_time": "2022-05-07T19:20:31.214Z"
   },
   {
    "duration": 82,
    "start_time": "2022-05-07T19:20:31.226Z"
   },
   {
    "duration": 5,
    "start_time": "2022-05-07T19:20:31.310Z"
   },
   {
    "duration": 91,
    "start_time": "2022-05-07T19:20:31.317Z"
   },
   {
    "duration": 4,
    "start_time": "2022-05-07T19:20:31.409Z"
   },
   {
    "duration": 6,
    "start_time": "2022-05-07T19:20:31.415Z"
   },
   {
    "duration": 239,
    "start_time": "2022-05-07T19:20:31.423Z"
   },
   {
    "duration": 6,
    "start_time": "2022-05-07T19:20:31.664Z"
   },
   {
    "duration": 5,
    "start_time": "2022-05-07T19:20:31.672Z"
   },
   {
    "duration": 5,
    "start_time": "2022-05-07T19:20:31.679Z"
   },
   {
    "duration": 26,
    "start_time": "2022-05-07T19:20:31.685Z"
   },
   {
    "duration": 4,
    "start_time": "2022-05-07T19:20:31.713Z"
   },
   {
    "duration": 5,
    "start_time": "2022-05-07T19:20:31.719Z"
   },
   {
    "duration": 4,
    "start_time": "2022-05-07T19:20:31.726Z"
   },
   {
    "duration": 15255,
    "start_time": "2022-05-07T19:20:31.732Z"
   },
   {
    "duration": 4,
    "start_time": "2022-05-07T19:20:46.988Z"
   },
   {
    "duration": 9,
    "start_time": "2022-05-07T19:20:46.994Z"
   },
   {
    "duration": 27,
    "start_time": "2022-05-07T19:20:47.004Z"
   },
   {
    "duration": 21,
    "start_time": "2022-05-07T19:20:47.032Z"
   },
   {
    "duration": 13,
    "start_time": "2022-05-07T19:20:47.055Z"
   },
   {
    "duration": 14,
    "start_time": "2022-05-07T19:20:47.070Z"
   },
   {
    "duration": 13,
    "start_time": "2022-05-07T19:20:47.086Z"
   },
   {
    "duration": 15,
    "start_time": "2022-05-07T19:20:47.101Z"
   },
   {
    "duration": 6,
    "start_time": "2022-05-07T19:20:47.118Z"
   },
   {
    "duration": 22,
    "start_time": "2022-05-07T19:20:47.126Z"
   },
   {
    "duration": 20,
    "start_time": "2022-05-07T19:20:47.150Z"
   },
   {
    "duration": 17,
    "start_time": "2022-05-07T19:20:47.171Z"
   },
   {
    "duration": 11,
    "start_time": "2022-05-07T19:20:47.189Z"
   },
   {
    "duration": 17,
    "start_time": "2022-05-07T19:20:47.201Z"
   },
   {
    "duration": 14,
    "start_time": "2022-05-07T19:20:47.220Z"
   },
   {
    "duration": 11,
    "start_time": "2022-05-07T19:20:47.236Z"
   },
   {
    "duration": 6,
    "start_time": "2022-05-07T19:20:47.249Z"
   },
   {
    "duration": 1171,
    "start_time": "2022-05-07T19:21:05.732Z"
   },
   {
    "duration": 27,
    "start_time": "2022-05-07T19:21:06.905Z"
   },
   {
    "duration": 18,
    "start_time": "2022-05-07T19:21:06.934Z"
   },
   {
    "duration": 8,
    "start_time": "2022-05-07T19:21:06.954Z"
   },
   {
    "duration": 14,
    "start_time": "2022-05-07T19:21:06.964Z"
   },
   {
    "duration": 35,
    "start_time": "2022-05-07T19:21:06.980Z"
   },
   {
    "duration": 13,
    "start_time": "2022-05-07T19:21:07.017Z"
   },
   {
    "duration": 6,
    "start_time": "2022-05-07T19:21:07.032Z"
   },
   {
    "duration": 12,
    "start_time": "2022-05-07T19:21:07.040Z"
   },
   {
    "duration": 9,
    "start_time": "2022-05-07T19:21:07.056Z"
   },
   {
    "duration": 1009,
    "start_time": "2022-05-07T19:21:07.067Z"
   },
   {
    "duration": 329,
    "start_time": "2022-05-07T19:21:08.078Z"
   },
   {
    "duration": 6,
    "start_time": "2022-05-07T19:21:08.409Z"
   },
   {
    "duration": 4,
    "start_time": "2022-05-07T19:21:08.417Z"
   },
   {
    "duration": 18,
    "start_time": "2022-05-07T19:21:08.423Z"
   },
   {
    "duration": 5,
    "start_time": "2022-05-07T19:21:08.442Z"
   },
   {
    "duration": 6,
    "start_time": "2022-05-07T19:21:08.448Z"
   },
   {
    "duration": 4,
    "start_time": "2022-05-07T19:21:08.455Z"
   },
   {
    "duration": 5,
    "start_time": "2022-05-07T19:21:08.461Z"
   },
   {
    "duration": 41,
    "start_time": "2022-05-07T19:21:08.468Z"
   },
   {
    "duration": 28,
    "start_time": "2022-05-07T19:21:08.511Z"
   },
   {
    "duration": 25,
    "start_time": "2022-05-07T19:21:08.541Z"
   },
   {
    "duration": 47,
    "start_time": "2022-05-07T19:21:08.568Z"
   },
   {
    "duration": 7,
    "start_time": "2022-05-07T19:21:08.617Z"
   },
   {
    "duration": 5,
    "start_time": "2022-05-07T19:21:08.626Z"
   },
   {
    "duration": 9,
    "start_time": "2022-05-07T19:21:08.632Z"
   },
   {
    "duration": 6,
    "start_time": "2022-05-07T19:21:08.643Z"
   },
   {
    "duration": 57,
    "start_time": "2022-05-07T19:21:08.653Z"
   },
   {
    "duration": 6,
    "start_time": "2022-05-07T19:21:08.712Z"
   },
   {
    "duration": 87,
    "start_time": "2022-05-07T19:21:08.720Z"
   },
   {
    "duration": 3,
    "start_time": "2022-05-07T19:21:08.809Z"
   },
   {
    "duration": 5,
    "start_time": "2022-05-07T19:21:08.814Z"
   },
   {
    "duration": 262,
    "start_time": "2022-05-07T19:21:08.821Z"
   },
   {
    "duration": 5,
    "start_time": "2022-05-07T19:21:09.085Z"
   },
   {
    "duration": 15,
    "start_time": "2022-05-07T19:21:09.092Z"
   },
   {
    "duration": 3,
    "start_time": "2022-05-07T19:21:09.109Z"
   },
   {
    "duration": 7,
    "start_time": "2022-05-07T19:21:09.114Z"
   },
   {
    "duration": 5,
    "start_time": "2022-05-07T19:21:09.123Z"
   },
   {
    "duration": 5,
    "start_time": "2022-05-07T19:21:09.129Z"
   },
   {
    "duration": 5,
    "start_time": "2022-05-07T19:21:09.136Z"
   },
   {
    "duration": 26771,
    "start_time": "2022-05-07T19:21:09.142Z"
   },
   {
    "duration": 4,
    "start_time": "2022-05-07T19:21:35.915Z"
   },
   {
    "duration": 16,
    "start_time": "2022-05-07T19:21:35.921Z"
   },
   {
    "duration": 16,
    "start_time": "2022-05-07T19:21:35.938Z"
   },
   {
    "duration": 21,
    "start_time": "2022-05-07T19:21:35.955Z"
   },
   {
    "duration": 22,
    "start_time": "2022-05-07T19:21:35.977Z"
   },
   {
    "duration": 11,
    "start_time": "2022-05-07T19:21:36.002Z"
   },
   {
    "duration": 10,
    "start_time": "2022-05-07T19:21:36.015Z"
   },
   {
    "duration": 15,
    "start_time": "2022-05-07T19:21:36.027Z"
   },
   {
    "duration": 8,
    "start_time": "2022-05-07T19:21:36.044Z"
   },
   {
    "duration": 19,
    "start_time": "2022-05-07T19:21:36.053Z"
   },
   {
    "duration": 11,
    "start_time": "2022-05-07T19:21:36.073Z"
   },
   {
    "duration": 20,
    "start_time": "2022-05-07T19:21:36.085Z"
   },
   {
    "duration": 6,
    "start_time": "2022-05-07T19:21:36.108Z"
   },
   {
    "duration": 7,
    "start_time": "2022-05-07T19:21:36.116Z"
   },
   {
    "duration": 5,
    "start_time": "2022-05-07T19:21:36.125Z"
   },
   {
    "duration": 9,
    "start_time": "2022-05-07T19:21:36.132Z"
   },
   {
    "duration": 6,
    "start_time": "2022-05-07T19:21:36.143Z"
   },
   {
    "duration": 1194,
    "start_time": "2022-05-07T19:21:55.330Z"
   },
   {
    "duration": 31,
    "start_time": "2022-05-07T19:21:56.526Z"
   },
   {
    "duration": 17,
    "start_time": "2022-05-07T19:21:56.558Z"
   },
   {
    "duration": 8,
    "start_time": "2022-05-07T19:21:56.577Z"
   },
   {
    "duration": 30,
    "start_time": "2022-05-07T19:21:56.587Z"
   },
   {
    "duration": 12,
    "start_time": "2022-05-07T19:21:56.619Z"
   },
   {
    "duration": 11,
    "start_time": "2022-05-07T19:21:56.633Z"
   },
   {
    "duration": 4,
    "start_time": "2022-05-07T19:21:56.645Z"
   },
   {
    "duration": 10,
    "start_time": "2022-05-07T19:21:56.651Z"
   },
   {
    "duration": 9,
    "start_time": "2022-05-07T19:21:56.665Z"
   },
   {
    "duration": 1358,
    "start_time": "2022-05-07T19:21:56.676Z"
   },
   {
    "duration": 338,
    "start_time": "2022-05-07T19:21:58.036Z"
   },
   {
    "duration": 8,
    "start_time": "2022-05-07T19:21:58.377Z"
   },
   {
    "duration": 20,
    "start_time": "2022-05-07T19:21:58.387Z"
   },
   {
    "duration": 17,
    "start_time": "2022-05-07T19:21:58.409Z"
   },
   {
    "duration": 5,
    "start_time": "2022-05-07T19:21:58.427Z"
   },
   {
    "duration": 9,
    "start_time": "2022-05-07T19:21:58.434Z"
   },
   {
    "duration": 4,
    "start_time": "2022-05-07T19:21:58.445Z"
   },
   {
    "duration": 5,
    "start_time": "2022-05-07T19:21:58.451Z"
   },
   {
    "duration": 6,
    "start_time": "2022-05-07T19:21:58.457Z"
   },
   {
    "duration": 75,
    "start_time": "2022-05-07T19:21:58.465Z"
   },
   {
    "duration": 30,
    "start_time": "2022-05-07T19:21:58.542Z"
   },
   {
    "duration": 43,
    "start_time": "2022-05-07T19:21:58.574Z"
   },
   {
    "duration": 6,
    "start_time": "2022-05-07T19:21:58.620Z"
   },
   {
    "duration": 5,
    "start_time": "2022-05-07T19:21:58.628Z"
   },
   {
    "duration": 9,
    "start_time": "2022-05-07T19:21:58.634Z"
   },
   {
    "duration": 63,
    "start_time": "2022-05-07T19:21:58.646Z"
   },
   {
    "duration": 7,
    "start_time": "2022-05-07T19:21:58.715Z"
   },
   {
    "duration": 85,
    "start_time": "2022-05-07T19:21:58.724Z"
   },
   {
    "duration": 10,
    "start_time": "2022-05-07T19:21:58.810Z"
   },
   {
    "duration": 7,
    "start_time": "2022-05-07T19:21:58.822Z"
   },
   {
    "duration": 5,
    "start_time": "2022-05-07T19:21:58.830Z"
   },
   {
    "duration": 241,
    "start_time": "2022-05-07T19:21:58.837Z"
   },
   {
    "duration": 6,
    "start_time": "2022-05-07T19:21:59.080Z"
   },
   {
    "duration": 20,
    "start_time": "2022-05-07T19:21:59.088Z"
   },
   {
    "duration": 8,
    "start_time": "2022-05-07T19:21:59.110Z"
   },
   {
    "duration": 5,
    "start_time": "2022-05-07T19:21:59.120Z"
   },
   {
    "duration": 9,
    "start_time": "2022-05-07T19:21:59.126Z"
   },
   {
    "duration": 4,
    "start_time": "2022-05-07T19:21:59.137Z"
   },
   {
    "duration": 6,
    "start_time": "2022-05-07T19:21:59.142Z"
   },
   {
    "duration": 1222,
    "start_time": "2022-05-07T19:29:31.885Z"
   },
   {
    "duration": 31,
    "start_time": "2022-05-07T19:29:33.110Z"
   },
   {
    "duration": 17,
    "start_time": "2022-05-07T19:29:33.143Z"
   },
   {
    "duration": 7,
    "start_time": "2022-05-07T19:29:33.162Z"
   },
   {
    "duration": 14,
    "start_time": "2022-05-07T19:29:33.171Z"
   },
   {
    "duration": 29,
    "start_time": "2022-05-07T19:29:33.186Z"
   },
   {
    "duration": 10,
    "start_time": "2022-05-07T19:29:33.217Z"
   },
   {
    "duration": 5,
    "start_time": "2022-05-07T19:29:33.228Z"
   },
   {
    "duration": 10,
    "start_time": "2022-05-07T19:29:33.234Z"
   },
   {
    "duration": 4,
    "start_time": "2022-05-07T19:29:33.247Z"
   },
   {
    "duration": 990,
    "start_time": "2022-05-07T19:29:33.253Z"
   },
   {
    "duration": 316,
    "start_time": "2022-05-07T19:29:34.245Z"
   },
   {
    "duration": 6,
    "start_time": "2022-05-07T19:29:34.563Z"
   },
   {
    "duration": 4,
    "start_time": "2022-05-07T19:29:34.571Z"
   },
   {
    "duration": 36,
    "start_time": "2022-05-07T19:29:34.576Z"
   },
   {
    "duration": 5,
    "start_time": "2022-05-07T19:29:34.614Z"
   },
   {
    "duration": 6,
    "start_time": "2022-05-07T19:29:34.621Z"
   },
   {
    "duration": 5,
    "start_time": "2022-05-07T19:29:34.628Z"
   },
   {
    "duration": 4,
    "start_time": "2022-05-07T19:29:34.635Z"
   },
   {
    "duration": 6,
    "start_time": "2022-05-07T19:29:34.641Z"
   },
   {
    "duration": 28,
    "start_time": "2022-05-07T19:29:34.648Z"
   },
   {
    "duration": 52,
    "start_time": "2022-05-07T19:29:34.678Z"
   },
   {
    "duration": 25,
    "start_time": "2022-05-07T19:29:34.732Z"
   },
   {
    "duration": 7,
    "start_time": "2022-05-07T19:29:34.758Z"
   },
   {
    "duration": 4,
    "start_time": "2022-05-07T19:29:34.767Z"
   },
   {
    "duration": 8,
    "start_time": "2022-05-07T19:29:34.772Z"
   },
   {
    "duration": 35,
    "start_time": "2022-05-07T19:29:34.781Z"
   },
   {
    "duration": 5,
    "start_time": "2022-05-07T19:29:34.822Z"
   },
   {
    "duration": 4,
    "start_time": "2022-05-07T19:29:34.908Z"
   },
   {
    "duration": 5,
    "start_time": "2022-05-07T19:29:34.914Z"
   },
   {
    "duration": 4,
    "start_time": "2022-05-07T19:29:34.921Z"
   },
   {
    "duration": 4,
    "start_time": "2022-05-07T19:29:34.927Z"
   },
   {
    "duration": 243,
    "start_time": "2022-05-07T19:29:34.932Z"
   },
   {
    "duration": 5,
    "start_time": "2022-05-07T19:29:35.177Z"
   },
   {
    "duration": 10,
    "start_time": "2022-05-07T19:29:35.183Z"
   },
   {
    "duration": 13,
    "start_time": "2022-05-07T19:29:35.194Z"
   },
   {
    "duration": 5,
    "start_time": "2022-05-07T19:29:35.209Z"
   },
   {
    "duration": 6,
    "start_time": "2022-05-07T19:29:35.215Z"
   },
   {
    "duration": 4,
    "start_time": "2022-05-07T19:29:35.223Z"
   },
   {
    "duration": 5,
    "start_time": "2022-05-07T19:29:35.228Z"
   },
   {
    "duration": 1213,
    "start_time": "2022-05-07T19:30:18.332Z"
   },
   {
    "duration": 28,
    "start_time": "2022-05-07T19:30:19.547Z"
   },
   {
    "duration": 18,
    "start_time": "2022-05-07T19:30:19.577Z"
   },
   {
    "duration": 8,
    "start_time": "2022-05-07T19:30:19.606Z"
   },
   {
    "duration": 15,
    "start_time": "2022-05-07T19:30:19.616Z"
   },
   {
    "duration": 13,
    "start_time": "2022-05-07T19:30:19.633Z"
   },
   {
    "duration": 10,
    "start_time": "2022-05-07T19:30:19.647Z"
   },
   {
    "duration": 7,
    "start_time": "2022-05-07T19:30:19.658Z"
   },
   {
    "duration": 43,
    "start_time": "2022-05-07T19:30:19.666Z"
   },
   {
    "duration": 4,
    "start_time": "2022-05-07T19:30:19.712Z"
   },
   {
    "duration": 1042,
    "start_time": "2022-05-07T19:30:19.718Z"
   },
   {
    "duration": 337,
    "start_time": "2022-05-07T19:30:20.761Z"
   },
   {
    "duration": 12,
    "start_time": "2022-05-07T19:30:21.100Z"
   },
   {
    "duration": 5,
    "start_time": "2022-05-07T19:30:21.114Z"
   },
   {
    "duration": 18,
    "start_time": "2022-05-07T19:30:21.122Z"
   },
   {
    "duration": 6,
    "start_time": "2022-05-07T19:30:21.142Z"
   },
   {
    "duration": 15,
    "start_time": "2022-05-07T19:30:21.150Z"
   },
   {
    "duration": 6,
    "start_time": "2022-05-07T19:30:21.167Z"
   },
   {
    "duration": 33,
    "start_time": "2022-05-07T19:30:21.174Z"
   },
   {
    "duration": 6,
    "start_time": "2022-05-07T19:30:21.209Z"
   },
   {
    "duration": 27,
    "start_time": "2022-05-07T19:30:21.217Z"
   },
   {
    "duration": 26,
    "start_time": "2022-05-07T19:30:21.245Z"
   },
   {
    "duration": 55,
    "start_time": "2022-05-07T19:30:21.273Z"
   },
   {
    "duration": 8,
    "start_time": "2022-05-07T19:30:21.331Z"
   },
   {
    "duration": 5,
    "start_time": "2022-05-07T19:30:21.341Z"
   },
   {
    "duration": 9,
    "start_time": "2022-05-07T19:30:21.349Z"
   },
   {
    "duration": 52,
    "start_time": "2022-05-07T19:30:21.360Z"
   },
   {
    "duration": 8,
    "start_time": "2022-05-07T19:30:21.418Z"
   },
   {
    "duration": 5,
    "start_time": "2022-05-07T19:30:21.507Z"
   },
   {
    "duration": 4,
    "start_time": "2022-05-07T19:30:21.514Z"
   },
   {
    "duration": 7,
    "start_time": "2022-05-07T19:30:21.520Z"
   },
   {
    "duration": 7,
    "start_time": "2022-05-07T19:30:21.528Z"
   },
   {
    "duration": 1569,
    "start_time": "2022-05-07T19:30:21.536Z"
   },
   {
    "duration": 6,
    "start_time": "2022-05-07T19:30:23.107Z"
   },
   {
    "duration": 18,
    "start_time": "2022-05-07T19:30:23.115Z"
   },
   {
    "duration": 9,
    "start_time": "2022-05-07T19:30:23.135Z"
   },
   {
    "duration": 11,
    "start_time": "2022-05-07T19:30:23.146Z"
   },
   {
    "duration": 4,
    "start_time": "2022-05-07T19:30:23.159Z"
   },
   {
    "duration": 4,
    "start_time": "2022-05-07T19:30:23.164Z"
   },
   {
    "duration": 5,
    "start_time": "2022-05-07T19:30:23.170Z"
   },
   {
    "duration": 91140,
    "start_time": "2022-05-07T19:30:23.177Z"
   },
   {
    "duration": 5,
    "start_time": "2022-05-07T19:31:54.318Z"
   },
   {
    "duration": 4,
    "start_time": "2022-05-07T19:31:54.325Z"
   },
   {
    "duration": 5,
    "start_time": "2022-05-07T19:31:54.331Z"
   },
   {
    "duration": 5,
    "start_time": "2022-05-07T19:31:54.338Z"
   },
   {
    "duration": 8,
    "start_time": "2022-05-07T19:31:54.345Z"
   },
   {
    "duration": 4,
    "start_time": "2022-05-07T19:31:54.355Z"
   },
   {
    "duration": 4,
    "start_time": "2022-05-07T19:31:54.361Z"
   },
   {
    "duration": 7,
    "start_time": "2022-05-07T19:31:54.366Z"
   },
   {
    "duration": 5,
    "start_time": "2022-05-07T19:31:54.375Z"
   },
   {
    "duration": 27,
    "start_time": "2022-05-07T19:31:54.381Z"
   },
   {
    "duration": 7,
    "start_time": "2022-05-07T19:31:54.410Z"
   },
   {
    "duration": 6,
    "start_time": "2022-05-07T19:31:54.418Z"
   },
   {
    "duration": 4,
    "start_time": "2022-05-07T19:31:54.425Z"
   },
   {
    "duration": 7,
    "start_time": "2022-05-07T19:31:54.431Z"
   },
   {
    "duration": 5,
    "start_time": "2022-05-07T19:31:54.439Z"
   },
   {
    "duration": 7,
    "start_time": "2022-05-07T19:31:54.445Z"
   },
   {
    "duration": 5,
    "start_time": "2022-05-07T19:31:54.453Z"
   },
   {
    "duration": 4,
    "start_time": "2022-05-07T19:32:40.245Z"
   },
   {
    "duration": 1192,
    "start_time": "2022-05-07T19:33:48.353Z"
   },
   {
    "duration": 28,
    "start_time": "2022-05-07T19:33:49.547Z"
   },
   {
    "duration": 18,
    "start_time": "2022-05-07T19:33:49.608Z"
   },
   {
    "duration": 8,
    "start_time": "2022-05-07T19:33:49.628Z"
   },
   {
    "duration": 16,
    "start_time": "2022-05-07T19:33:49.638Z"
   },
   {
    "duration": 58,
    "start_time": "2022-05-07T19:33:49.656Z"
   },
   {
    "duration": 10,
    "start_time": "2022-05-07T19:33:49.716Z"
   },
   {
    "duration": 4,
    "start_time": "2022-05-07T19:33:49.728Z"
   },
   {
    "duration": 10,
    "start_time": "2022-05-07T19:33:49.734Z"
   },
   {
    "duration": 5,
    "start_time": "2022-05-07T19:33:49.747Z"
   },
   {
    "duration": 1006,
    "start_time": "2022-05-07T19:33:49.754Z"
   },
   {
    "duration": 315,
    "start_time": "2022-05-07T19:33:50.763Z"
   },
   {
    "duration": 8,
    "start_time": "2022-05-07T19:33:51.080Z"
   },
   {
    "duration": 20,
    "start_time": "2022-05-07T19:33:51.089Z"
   },
   {
    "duration": 20,
    "start_time": "2022-05-07T19:33:51.110Z"
   },
   {
    "duration": 6,
    "start_time": "2022-05-07T19:33:51.132Z"
   },
   {
    "duration": 7,
    "start_time": "2022-05-07T19:33:51.139Z"
   },
   {
    "duration": 4,
    "start_time": "2022-05-07T19:33:51.147Z"
   },
   {
    "duration": 4,
    "start_time": "2022-05-07T19:33:51.153Z"
   },
   {
    "duration": 5,
    "start_time": "2022-05-07T19:33:51.159Z"
   },
   {
    "duration": 61,
    "start_time": "2022-05-07T19:33:51.166Z"
   },
   {
    "duration": 25,
    "start_time": "2022-05-07T19:33:51.229Z"
   },
   {
    "duration": 25,
    "start_time": "2022-05-07T19:33:51.256Z"
   },
   {
    "duration": 28,
    "start_time": "2022-05-07T19:33:51.283Z"
   },
   {
    "duration": 5,
    "start_time": "2022-05-07T19:33:51.312Z"
   },
   {
    "duration": 9,
    "start_time": "2022-05-07T19:33:51.318Z"
   },
   {
    "duration": 6,
    "start_time": "2022-05-07T19:33:51.330Z"
   },
   {
    "duration": 4,
    "start_time": "2022-05-07T19:33:51.407Z"
   },
   {
    "duration": 6,
    "start_time": "2022-05-07T19:33:51.413Z"
   },
   {
    "duration": 4,
    "start_time": "2022-05-07T19:33:51.421Z"
   },
   {
    "duration": 4,
    "start_time": "2022-05-07T19:33:51.508Z"
   },
   {
    "duration": 5,
    "start_time": "2022-05-07T19:33:51.513Z"
   },
   {
    "duration": 1464,
    "start_time": "2022-05-07T19:33:51.519Z"
   },
   {
    "duration": 6,
    "start_time": "2022-05-07T19:33:52.985Z"
   },
   {
    "duration": 6,
    "start_time": "2022-05-07T19:33:52.992Z"
   },
   {
    "duration": 10,
    "start_time": "2022-05-07T19:33:52.999Z"
   },
   {
    "duration": 4,
    "start_time": "2022-05-07T19:33:53.011Z"
   },
   {
    "duration": 4,
    "start_time": "2022-05-07T19:33:53.016Z"
   },
   {
    "duration": 5,
    "start_time": "2022-05-07T19:33:53.022Z"
   },
   {
    "duration": 7,
    "start_time": "2022-05-07T19:33:53.028Z"
   },
   {
    "duration": 1245,
    "start_time": "2022-05-07T19:36:13.683Z"
   },
   {
    "duration": 28,
    "start_time": "2022-05-07T19:36:14.930Z"
   },
   {
    "duration": 18,
    "start_time": "2022-05-07T19:36:14.960Z"
   },
   {
    "duration": 8,
    "start_time": "2022-05-07T19:36:14.980Z"
   },
   {
    "duration": 30,
    "start_time": "2022-05-07T19:36:14.990Z"
   },
   {
    "duration": 12,
    "start_time": "2022-05-07T19:36:15.022Z"
   },
   {
    "duration": 11,
    "start_time": "2022-05-07T19:36:15.035Z"
   },
   {
    "duration": 5,
    "start_time": "2022-05-07T19:36:15.048Z"
   },
   {
    "duration": 11,
    "start_time": "2022-05-07T19:36:15.054Z"
   },
   {
    "duration": 5,
    "start_time": "2022-05-07T19:36:15.067Z"
   },
   {
    "duration": 1035,
    "start_time": "2022-05-07T19:36:15.074Z"
   },
   {
    "duration": 335,
    "start_time": "2022-05-07T19:36:16.111Z"
   },
   {
    "duration": 6,
    "start_time": "2022-05-07T19:36:16.448Z"
   },
   {
    "duration": 4,
    "start_time": "2022-05-07T19:36:16.456Z"
   },
   {
    "duration": 21,
    "start_time": "2022-05-07T19:36:16.462Z"
   },
   {
    "duration": 5,
    "start_time": "2022-05-07T19:36:16.484Z"
   },
   {
    "duration": 6,
    "start_time": "2022-05-07T19:36:16.507Z"
   },
   {
    "duration": 3,
    "start_time": "2022-05-07T19:36:16.515Z"
   },
   {
    "duration": 5,
    "start_time": "2022-05-07T19:36:16.520Z"
   },
   {
    "duration": 5,
    "start_time": "2022-05-07T19:36:16.527Z"
   },
   {
    "duration": 27,
    "start_time": "2022-05-07T19:36:16.534Z"
   },
   {
    "duration": 59,
    "start_time": "2022-05-07T19:36:16.563Z"
   },
   {
    "duration": 25,
    "start_time": "2022-05-07T19:36:16.623Z"
   },
   {
    "duration": 6,
    "start_time": "2022-05-07T19:36:16.650Z"
   },
   {
    "duration": 5,
    "start_time": "2022-05-07T19:36:16.658Z"
   },
   {
    "duration": 44,
    "start_time": "2022-05-07T19:36:16.664Z"
   },
   {
    "duration": 8,
    "start_time": "2022-05-07T19:36:16.710Z"
   },
   {
    "duration": 84,
    "start_time": "2022-05-07T19:36:16.724Z"
   },
   {
    "duration": 8,
    "start_time": "2022-05-07T19:36:16.810Z"
   },
   {
    "duration": 10,
    "start_time": "2022-05-07T19:36:16.820Z"
   },
   {
    "duration": 6,
    "start_time": "2022-05-07T19:36:16.832Z"
   },
   {
    "duration": 8,
    "start_time": "2022-05-07T19:36:16.839Z"
   },
   {
    "duration": 1568,
    "start_time": "2022-05-07T19:36:16.849Z"
   },
   {
    "duration": 7,
    "start_time": "2022-05-07T19:36:18.418Z"
   },
   {
    "duration": 4,
    "start_time": "2022-05-07T19:36:18.427Z"
   },
   {
    "duration": 5,
    "start_time": "2022-05-07T19:36:18.433Z"
   },
   {
    "duration": 3,
    "start_time": "2022-05-07T19:36:18.440Z"
   },
   {
    "duration": 5,
    "start_time": "2022-05-07T19:36:18.445Z"
   },
   {
    "duration": 4,
    "start_time": "2022-05-07T19:36:18.452Z"
   },
   {
    "duration": 4,
    "start_time": "2022-05-07T19:36:18.458Z"
   },
   {
    "duration": 1165,
    "start_time": "2022-05-07T19:36:32.334Z"
   },
   {
    "duration": 27,
    "start_time": "2022-05-07T19:36:33.501Z"
   },
   {
    "duration": 19,
    "start_time": "2022-05-07T19:36:33.530Z"
   },
   {
    "duration": 8,
    "start_time": "2022-05-07T19:36:33.551Z"
   },
   {
    "duration": 14,
    "start_time": "2022-05-07T19:36:33.561Z"
   },
   {
    "duration": 33,
    "start_time": "2022-05-07T19:36:33.577Z"
   },
   {
    "duration": 12,
    "start_time": "2022-05-07T19:36:33.611Z"
   },
   {
    "duration": 9,
    "start_time": "2022-05-07T19:36:33.625Z"
   },
   {
    "duration": 13,
    "start_time": "2022-05-07T19:36:33.636Z"
   },
   {
    "duration": 5,
    "start_time": "2022-05-07T19:36:33.653Z"
   },
   {
    "duration": 1002,
    "start_time": "2022-05-07T19:36:33.659Z"
   },
   {
    "duration": 319,
    "start_time": "2022-05-07T19:36:34.662Z"
   },
   {
    "duration": 8,
    "start_time": "2022-05-07T19:36:34.982Z"
   },
   {
    "duration": 17,
    "start_time": "2022-05-07T19:36:34.991Z"
   },
   {
    "duration": 19,
    "start_time": "2022-05-07T19:36:35.010Z"
   },
   {
    "duration": 6,
    "start_time": "2022-05-07T19:36:35.030Z"
   },
   {
    "duration": 7,
    "start_time": "2022-05-07T19:36:35.037Z"
   },
   {
    "duration": 4,
    "start_time": "2022-05-07T19:36:35.046Z"
   },
   {
    "duration": 4,
    "start_time": "2022-05-07T19:36:35.052Z"
   },
   {
    "duration": 5,
    "start_time": "2022-05-07T19:36:35.058Z"
   },
   {
    "duration": 64,
    "start_time": "2022-05-07T19:36:35.064Z"
   },
   {
    "duration": 25,
    "start_time": "2022-05-07T19:36:35.129Z"
   },
   {
    "duration": 24,
    "start_time": "2022-05-07T19:36:35.156Z"
   },
   {
    "duration": 25,
    "start_time": "2022-05-07T19:36:35.182Z"
   },
   {
    "duration": 3,
    "start_time": "2022-05-07T19:36:35.209Z"
   },
   {
    "duration": 11,
    "start_time": "2022-05-07T19:36:35.213Z"
   },
   {
    "duration": 7,
    "start_time": "2022-05-07T19:36:35.226Z"
   },
   {
    "duration": 5,
    "start_time": "2022-05-07T19:36:35.309Z"
   },
   {
    "duration": 9,
    "start_time": "2022-05-07T19:36:35.317Z"
   },
   {
    "duration": 3,
    "start_time": "2022-05-07T19:36:35.407Z"
   },
   {
    "duration": 6,
    "start_time": "2022-05-07T19:36:35.411Z"
   },
   {
    "duration": 5,
    "start_time": "2022-05-07T19:36:35.419Z"
   },
   {
    "duration": 13709,
    "start_time": "2022-05-07T19:36:35.427Z"
   },
   {
    "duration": 7,
    "start_time": "2022-05-07T19:36:49.138Z"
   },
   {
    "duration": 5,
    "start_time": "2022-05-07T19:36:49.146Z"
   },
   {
    "duration": 7,
    "start_time": "2022-05-07T19:36:49.153Z"
   },
   {
    "duration": 5,
    "start_time": "2022-05-07T19:36:49.162Z"
   },
   {
    "duration": 4,
    "start_time": "2022-05-07T19:36:49.169Z"
   },
   {
    "duration": 5,
    "start_time": "2022-05-07T19:36:49.175Z"
   },
   {
    "duration": 27,
    "start_time": "2022-05-07T19:36:49.182Z"
   },
   {
    "duration": 85595,
    "start_time": "2022-05-07T19:36:49.211Z"
   },
   {
    "duration": 4,
    "start_time": "2022-05-07T19:38:14.808Z"
   },
   {
    "duration": 6,
    "start_time": "2022-05-07T19:38:14.814Z"
   },
   {
    "duration": 9,
    "start_time": "2022-05-07T19:38:14.821Z"
   },
   {
    "duration": 11,
    "start_time": "2022-05-07T19:38:14.831Z"
   },
   {
    "duration": 10,
    "start_time": "2022-05-07T19:38:14.843Z"
   },
   {
    "duration": 4,
    "start_time": "2022-05-07T19:38:14.855Z"
   },
   {
    "duration": 7,
    "start_time": "2022-05-07T19:38:14.861Z"
   },
   {
    "duration": 4,
    "start_time": "2022-05-07T19:38:14.870Z"
   },
   {
    "duration": 5,
    "start_time": "2022-05-07T19:38:14.876Z"
   },
   {
    "duration": 4,
    "start_time": "2022-05-07T19:38:14.907Z"
   },
   {
    "duration": 8,
    "start_time": "2022-05-07T19:38:14.913Z"
   },
   {
    "duration": 130,
    "start_time": "2022-05-07T19:38:14.923Z"
   },
   {
    "duration": 0,
    "start_time": "2022-05-07T19:38:15.055Z"
   },
   {
    "duration": 4,
    "start_time": "2022-05-07T19:38:18.037Z"
   },
   {
    "duration": 4,
    "start_time": "2022-05-07T19:38:34.908Z"
   },
   {
    "duration": 3,
    "start_time": "2022-05-07T19:38:36.650Z"
   },
   {
    "duration": 1202,
    "start_time": "2022-05-07T19:39:59.371Z"
   },
   {
    "duration": 33,
    "start_time": "2022-05-07T19:40:00.575Z"
   },
   {
    "duration": 17,
    "start_time": "2022-05-07T19:40:00.610Z"
   },
   {
    "duration": 12,
    "start_time": "2022-05-07T19:40:00.629Z"
   },
   {
    "duration": 28,
    "start_time": "2022-05-07T19:40:00.643Z"
   },
   {
    "duration": 30,
    "start_time": "2022-05-07T19:40:00.673Z"
   },
   {
    "duration": 24,
    "start_time": "2022-05-07T19:40:00.705Z"
   },
   {
    "duration": 7,
    "start_time": "2022-05-07T19:40:00.730Z"
   },
   {
    "duration": 15,
    "start_time": "2022-05-07T19:40:00.739Z"
   },
   {
    "duration": 9,
    "start_time": "2022-05-07T19:40:00.757Z"
   },
   {
    "duration": 1017,
    "start_time": "2022-05-07T19:40:00.768Z"
   },
   {
    "duration": 322,
    "start_time": "2022-05-07T19:40:01.788Z"
   },
   {
    "duration": 7,
    "start_time": "2022-05-07T19:40:02.111Z"
   },
   {
    "duration": 5,
    "start_time": "2022-05-07T19:40:02.120Z"
   },
   {
    "duration": 19,
    "start_time": "2022-05-07T19:40:02.127Z"
   },
   {
    "duration": 5,
    "start_time": "2022-05-07T19:40:02.148Z"
   },
   {
    "duration": 19,
    "start_time": "2022-05-07T19:40:02.155Z"
   },
   {
    "duration": 18,
    "start_time": "2022-05-07T19:40:02.176Z"
   },
   {
    "duration": 13,
    "start_time": "2022-05-07T19:40:02.196Z"
   },
   {
    "duration": 11,
    "start_time": "2022-05-07T19:40:02.211Z"
   },
   {
    "duration": 28,
    "start_time": "2022-05-07T19:40:02.224Z"
   },
   {
    "duration": 26,
    "start_time": "2022-05-07T19:40:02.254Z"
   },
   {
    "duration": 44,
    "start_time": "2022-05-07T19:40:02.282Z"
   },
   {
    "duration": 9,
    "start_time": "2022-05-07T19:40:02.328Z"
   },
   {
    "duration": 4,
    "start_time": "2022-05-07T19:40:02.339Z"
   },
   {
    "duration": 12,
    "start_time": "2022-05-07T19:40:02.345Z"
   },
   {
    "duration": 6,
    "start_time": "2022-05-07T19:40:02.360Z"
   },
   {
    "duration": 4,
    "start_time": "2022-05-07T19:40:02.413Z"
   },
   {
    "duration": 7,
    "start_time": "2022-05-07T19:40:02.419Z"
   },
   {
    "duration": 3,
    "start_time": "2022-05-07T19:40:02.508Z"
   },
   {
    "duration": 8,
    "start_time": "2022-05-07T19:40:02.513Z"
   },
   {
    "duration": 12,
    "start_time": "2022-05-07T19:40:02.523Z"
   },
   {
    "duration": 14441,
    "start_time": "2022-05-07T19:40:02.538Z"
   },
   {
    "duration": 7,
    "start_time": "2022-05-07T19:40:16.981Z"
   },
   {
    "duration": 4,
    "start_time": "2022-05-07T19:40:16.990Z"
   },
   {
    "duration": 13,
    "start_time": "2022-05-07T19:40:16.996Z"
   },
   {
    "duration": 8,
    "start_time": "2022-05-07T19:40:17.011Z"
   },
   {
    "duration": 4,
    "start_time": "2022-05-07T19:40:17.021Z"
   },
   {
    "duration": 4,
    "start_time": "2022-05-07T19:40:17.027Z"
   },
   {
    "duration": 4,
    "start_time": "2022-05-07T19:40:17.033Z"
   },
   {
    "duration": 58378,
    "start_time": "2022-05-07T19:40:17.038Z"
   },
   {
    "duration": 4,
    "start_time": "2022-05-07T19:41:15.417Z"
   },
   {
    "duration": 7,
    "start_time": "2022-05-07T19:41:15.423Z"
   },
   {
    "duration": 5,
    "start_time": "2022-05-07T19:41:15.432Z"
   },
   {
    "duration": 5,
    "start_time": "2022-05-07T19:41:15.439Z"
   },
   {
    "duration": 5,
    "start_time": "2022-05-07T19:41:15.446Z"
   },
   {
    "duration": 9,
    "start_time": "2022-05-07T19:41:15.453Z"
   },
   {
    "duration": 42,
    "start_time": "2022-05-07T19:41:15.464Z"
   },
   {
    "duration": 4,
    "start_time": "2022-05-07T19:41:15.508Z"
   },
   {
    "duration": 5,
    "start_time": "2022-05-07T19:41:15.514Z"
   },
   {
    "duration": 5,
    "start_time": "2022-05-07T19:41:15.520Z"
   },
   {
    "duration": 5,
    "start_time": "2022-05-07T19:41:15.527Z"
   },
   {
    "duration": 13,
    "start_time": "2022-05-07T19:41:15.533Z"
   },
   {
    "duration": 7,
    "start_time": "2022-05-07T19:41:15.548Z"
   },
   {
    "duration": 5,
    "start_time": "2022-05-07T19:41:15.556Z"
   },
   {
    "duration": 1245,
    "start_time": "2022-05-07T19:41:52.875Z"
   },
   {
    "duration": 32,
    "start_time": "2022-05-07T19:41:54.122Z"
   },
   {
    "duration": 16,
    "start_time": "2022-05-07T19:41:54.157Z"
   },
   {
    "duration": 6,
    "start_time": "2022-05-07T19:41:54.175Z"
   },
   {
    "duration": 25,
    "start_time": "2022-05-07T19:41:54.183Z"
   },
   {
    "duration": 13,
    "start_time": "2022-05-07T19:41:54.209Z"
   },
   {
    "duration": 11,
    "start_time": "2022-05-07T19:41:54.224Z"
   },
   {
    "duration": 5,
    "start_time": "2022-05-07T19:41:54.236Z"
   },
   {
    "duration": 12,
    "start_time": "2022-05-07T19:41:54.243Z"
   },
   {
    "duration": 5,
    "start_time": "2022-05-07T19:41:54.257Z"
   },
   {
    "duration": 1026,
    "start_time": "2022-05-07T19:41:54.263Z"
   },
   {
    "duration": 313,
    "start_time": "2022-05-07T19:41:55.290Z"
   },
   {
    "duration": 7,
    "start_time": "2022-05-07T19:41:55.609Z"
   },
   {
    "duration": 7,
    "start_time": "2022-05-07T19:41:55.618Z"
   },
   {
    "duration": 20,
    "start_time": "2022-05-07T19:41:55.626Z"
   },
   {
    "duration": 5,
    "start_time": "2022-05-07T19:41:55.647Z"
   },
   {
    "duration": 5,
    "start_time": "2022-05-07T19:41:55.654Z"
   },
   {
    "duration": 4,
    "start_time": "2022-05-07T19:41:55.660Z"
   },
   {
    "duration": 5,
    "start_time": "2022-05-07T19:41:55.666Z"
   },
   {
    "duration": 37,
    "start_time": "2022-05-07T19:41:55.672Z"
   },
   {
    "duration": 26,
    "start_time": "2022-05-07T19:41:55.711Z"
   },
   {
    "duration": 24,
    "start_time": "2022-05-07T19:41:55.739Z"
   },
   {
    "duration": 50,
    "start_time": "2022-05-07T19:41:55.765Z"
   },
   {
    "duration": 6,
    "start_time": "2022-05-07T19:41:55.816Z"
   },
   {
    "duration": 7,
    "start_time": "2022-05-07T19:41:55.824Z"
   },
   {
    "duration": 8,
    "start_time": "2022-05-07T19:41:55.833Z"
   },
   {
    "duration": 7,
    "start_time": "2022-05-07T19:41:55.843Z"
   },
   {
    "duration": 5,
    "start_time": "2022-05-07T19:41:55.908Z"
   },
   {
    "duration": 4,
    "start_time": "2022-05-07T19:41:55.916Z"
   },
   {
    "duration": 4,
    "start_time": "2022-05-07T19:41:55.922Z"
   },
   {
    "duration": 3,
    "start_time": "2022-05-07T19:41:56.008Z"
   },
   {
    "duration": 4,
    "start_time": "2022-05-07T19:41:56.013Z"
   },
   {
    "duration": 14285,
    "start_time": "2022-05-07T19:41:56.019Z"
   },
   {
    "duration": 6,
    "start_time": "2022-05-07T19:42:10.307Z"
   },
   {
    "duration": 4,
    "start_time": "2022-05-07T19:42:10.315Z"
   },
   {
    "duration": 5,
    "start_time": "2022-05-07T19:42:10.320Z"
   },
   {
    "duration": 5,
    "start_time": "2022-05-07T19:42:10.326Z"
   },
   {
    "duration": 4,
    "start_time": "2022-05-07T19:42:10.333Z"
   },
   {
    "duration": 4,
    "start_time": "2022-05-07T19:42:10.339Z"
   },
   {
    "duration": 2,
    "start_time": "2022-05-07T19:42:10.347Z"
   },
   {
    "duration": 200912,
    "start_time": "2022-05-07T19:42:10.351Z"
   },
   {
    "duration": 4,
    "start_time": "2022-05-07T19:45:31.265Z"
   },
   {
    "duration": 11,
    "start_time": "2022-05-07T19:45:31.270Z"
   },
   {
    "duration": 6,
    "start_time": "2022-05-07T19:45:31.283Z"
   },
   {
    "duration": 6,
    "start_time": "2022-05-07T19:45:31.291Z"
   },
   {
    "duration": 8,
    "start_time": "2022-05-07T19:45:31.298Z"
   },
   {
    "duration": 11,
    "start_time": "2022-05-07T19:45:31.308Z"
   },
   {
    "duration": 6,
    "start_time": "2022-05-07T19:45:31.321Z"
   },
   {
    "duration": 7,
    "start_time": "2022-05-07T19:45:31.328Z"
   },
   {
    "duration": 11,
    "start_time": "2022-05-07T19:45:31.337Z"
   },
   {
    "duration": 6,
    "start_time": "2022-05-07T19:45:31.350Z"
   },
   {
    "duration": 7,
    "start_time": "2022-05-07T19:45:31.357Z"
   },
   {
    "duration": 9,
    "start_time": "2022-05-07T19:45:31.365Z"
   },
   {
    "duration": 3,
    "start_time": "2022-05-07T19:45:31.376Z"
   },
   {
    "duration": 5,
    "start_time": "2022-05-07T19:45:31.381Z"
   },
   {
    "duration": 1181,
    "start_time": "2022-05-07T19:46:32.213Z"
   },
   {
    "duration": 27,
    "start_time": "2022-05-07T19:46:33.396Z"
   },
   {
    "duration": 18,
    "start_time": "2022-05-07T19:46:33.424Z"
   },
   {
    "duration": 7,
    "start_time": "2022-05-07T19:46:33.445Z"
   },
   {
    "duration": 25,
    "start_time": "2022-05-07T19:46:33.454Z"
   },
   {
    "duration": 12,
    "start_time": "2022-05-07T19:46:33.481Z"
   },
   {
    "duration": 10,
    "start_time": "2022-05-07T19:46:33.507Z"
   },
   {
    "duration": 4,
    "start_time": "2022-05-07T19:46:33.519Z"
   },
   {
    "duration": 9,
    "start_time": "2022-05-07T19:46:33.525Z"
   },
   {
    "duration": 4,
    "start_time": "2022-05-07T19:46:33.537Z"
   },
   {
    "duration": 1009,
    "start_time": "2022-05-07T19:46:33.543Z"
   },
   {
    "duration": 322,
    "start_time": "2022-05-07T19:46:34.553Z"
   },
   {
    "duration": 7,
    "start_time": "2022-05-07T19:46:34.876Z"
   },
   {
    "duration": 4,
    "start_time": "2022-05-07T19:46:34.885Z"
   },
   {
    "duration": 30,
    "start_time": "2022-05-07T19:46:34.891Z"
   },
   {
    "duration": 5,
    "start_time": "2022-05-07T19:46:34.923Z"
   },
   {
    "duration": 5,
    "start_time": "2022-05-07T19:46:34.930Z"
   },
   {
    "duration": 4,
    "start_time": "2022-05-07T19:46:34.937Z"
   },
   {
    "duration": 4,
    "start_time": "2022-05-07T19:46:34.942Z"
   },
   {
    "duration": 6,
    "start_time": "2022-05-07T19:46:34.948Z"
   },
   {
    "duration": 58,
    "start_time": "2022-05-07T19:46:34.955Z"
   },
   {
    "duration": 25,
    "start_time": "2022-05-07T19:46:35.015Z"
   },
   {
    "duration": 26,
    "start_time": "2022-05-07T19:46:35.041Z"
   },
   {
    "duration": 9,
    "start_time": "2022-05-07T19:46:35.068Z"
   },
   {
    "duration": 4,
    "start_time": "2022-05-07T19:46:35.079Z"
   },
   {
    "duration": 8,
    "start_time": "2022-05-07T19:46:35.108Z"
   },
   {
    "duration": 7,
    "start_time": "2022-05-07T19:46:35.118Z"
   },
   {
    "duration": 79,
    "start_time": "2022-05-07T19:46:35.130Z"
   },
   {
    "duration": 6,
    "start_time": "2022-05-07T19:46:35.212Z"
   },
   {
    "duration": 4,
    "start_time": "2022-05-07T19:46:35.220Z"
   },
   {
    "duration": 4,
    "start_time": "2022-05-07T19:46:35.306Z"
   },
   {
    "duration": 4,
    "start_time": "2022-05-07T19:46:35.312Z"
   },
   {
    "duration": 13862,
    "start_time": "2022-05-07T19:46:35.318Z"
   },
   {
    "duration": 7,
    "start_time": "2022-05-07T19:46:49.182Z"
   },
   {
    "duration": 4,
    "start_time": "2022-05-07T19:46:49.190Z"
   },
   {
    "duration": 13,
    "start_time": "2022-05-07T19:46:49.196Z"
   },
   {
    "duration": 5,
    "start_time": "2022-05-07T19:46:49.210Z"
   },
   {
    "duration": 5,
    "start_time": "2022-05-07T19:46:49.216Z"
   },
   {
    "duration": 4,
    "start_time": "2022-05-07T19:46:49.222Z"
   },
   {
    "duration": 5,
    "start_time": "2022-05-07T19:46:49.228Z"
   },
   {
    "duration": 51321,
    "start_time": "2022-05-07T19:46:49.235Z"
   },
   {
    "duration": 4,
    "start_time": "2022-05-07T19:47:40.558Z"
   },
   {
    "duration": 7,
    "start_time": "2022-05-07T19:47:40.563Z"
   },
   {
    "duration": 4,
    "start_time": "2022-05-07T19:47:40.572Z"
   },
   {
    "duration": 5,
    "start_time": "2022-05-07T19:47:40.578Z"
   },
   {
    "duration": 5,
    "start_time": "2022-05-07T19:47:40.585Z"
   },
   {
    "duration": 8,
    "start_time": "2022-05-07T19:47:40.592Z"
   },
   {
    "duration": 3,
    "start_time": "2022-05-07T19:47:40.602Z"
   },
   {
    "duration": 5,
    "start_time": "2022-05-07T19:47:40.607Z"
   },
   {
    "duration": 4,
    "start_time": "2022-05-07T19:47:40.614Z"
   },
   {
    "duration": 6,
    "start_time": "2022-05-07T19:47:40.620Z"
   },
   {
    "duration": 5,
    "start_time": "2022-05-07T19:47:40.628Z"
   },
   {
    "duration": 8,
    "start_time": "2022-05-07T19:47:40.635Z"
   },
   {
    "duration": 5,
    "start_time": "2022-05-07T19:47:40.644Z"
   },
   {
    "duration": 4,
    "start_time": "2022-05-07T19:47:40.651Z"
   },
   {
    "duration": 1190,
    "start_time": "2022-05-07T19:52:15.962Z"
   },
   {
    "duration": 27,
    "start_time": "2022-05-07T19:52:17.154Z"
   },
   {
    "duration": 17,
    "start_time": "2022-05-07T19:52:17.183Z"
   },
   {
    "duration": 8,
    "start_time": "2022-05-07T19:52:17.206Z"
   },
   {
    "duration": 16,
    "start_time": "2022-05-07T19:52:17.216Z"
   },
   {
    "duration": 12,
    "start_time": "2022-05-07T19:52:17.234Z"
   },
   {
    "duration": 11,
    "start_time": "2022-05-07T19:52:17.248Z"
   },
   {
    "duration": 3,
    "start_time": "2022-05-07T19:52:17.261Z"
   },
   {
    "duration": 45,
    "start_time": "2022-05-07T19:52:17.266Z"
   },
   {
    "duration": 4,
    "start_time": "2022-05-07T19:52:17.313Z"
   },
   {
    "duration": 1030,
    "start_time": "2022-05-07T19:52:17.319Z"
   },
   {
    "duration": 338,
    "start_time": "2022-05-07T19:52:18.351Z"
   },
   {
    "duration": 18,
    "start_time": "2022-05-07T19:52:18.691Z"
   },
   {
    "duration": 7,
    "start_time": "2022-05-07T19:52:18.711Z"
   },
   {
    "duration": 21,
    "start_time": "2022-05-07T19:52:18.720Z"
   },
   {
    "duration": 6,
    "start_time": "2022-05-07T19:52:18.742Z"
   },
   {
    "duration": 6,
    "start_time": "2022-05-07T19:52:18.749Z"
   },
   {
    "duration": 3,
    "start_time": "2022-05-07T19:52:18.757Z"
   },
   {
    "duration": 7,
    "start_time": "2022-05-07T19:52:18.762Z"
   },
   {
    "duration": 38,
    "start_time": "2022-05-07T19:52:18.770Z"
   },
   {
    "duration": 28,
    "start_time": "2022-05-07T19:52:18.809Z"
   },
   {
    "duration": 25,
    "start_time": "2022-05-07T19:52:18.838Z"
   },
   {
    "duration": 47,
    "start_time": "2022-05-07T19:52:18.865Z"
   },
   {
    "duration": 6,
    "start_time": "2022-05-07T19:52:18.914Z"
   },
   {
    "duration": 6,
    "start_time": "2022-05-07T19:52:18.922Z"
   },
   {
    "duration": 8,
    "start_time": "2022-05-07T19:52:18.930Z"
   },
   {
    "duration": 6,
    "start_time": "2022-05-07T19:52:18.940Z"
   },
   {
    "duration": 5,
    "start_time": "2022-05-07T19:52:19.008Z"
   },
   {
    "duration": 4,
    "start_time": "2022-05-07T19:52:19.016Z"
   },
   {
    "duration": 86,
    "start_time": "2022-05-07T19:52:19.022Z"
   },
   {
    "duration": 4,
    "start_time": "2022-05-07T19:52:19.110Z"
   },
   {
    "duration": 4,
    "start_time": "2022-05-07T19:52:19.116Z"
   },
   {
    "duration": 14020,
    "start_time": "2022-05-07T19:52:19.122Z"
   },
   {
    "duration": 7,
    "start_time": "2022-05-07T19:52:33.143Z"
   },
   {
    "duration": 3,
    "start_time": "2022-05-07T19:52:33.152Z"
   },
   {
    "duration": 4,
    "start_time": "2022-05-07T19:52:33.157Z"
   },
   {
    "duration": 4,
    "start_time": "2022-05-07T19:52:33.163Z"
   },
   {
    "duration": 4,
    "start_time": "2022-05-07T19:52:33.169Z"
   },
   {
    "duration": 5,
    "start_time": "2022-05-07T19:52:33.174Z"
   },
   {
    "duration": 4,
    "start_time": "2022-05-07T19:52:33.180Z"
   },
   {
    "duration": 18293,
    "start_time": "2022-05-07T19:52:33.208Z"
   },
   {
    "duration": 3,
    "start_time": "2022-05-07T19:52:51.503Z"
   },
   {
    "duration": 5,
    "start_time": "2022-05-07T19:52:51.508Z"
   },
   {
    "duration": 4,
    "start_time": "2022-05-07T19:52:51.515Z"
   },
   {
    "duration": 5,
    "start_time": "2022-05-07T19:52:51.520Z"
   },
   {
    "duration": 5,
    "start_time": "2022-05-07T19:52:51.527Z"
   },
   {
    "duration": 8,
    "start_time": "2022-05-07T19:52:51.533Z"
   },
   {
    "duration": 4,
    "start_time": "2022-05-07T19:52:51.543Z"
   },
   {
    "duration": 6,
    "start_time": "2022-05-07T19:52:51.548Z"
   },
   {
    "duration": 8,
    "start_time": "2022-05-07T19:52:51.555Z"
   },
   {
    "duration": 5,
    "start_time": "2022-05-07T19:52:51.564Z"
   },
   {
    "duration": 37,
    "start_time": "2022-05-07T19:52:51.570Z"
   },
   {
    "duration": 6,
    "start_time": "2022-05-07T19:52:51.609Z"
   },
   {
    "duration": 5,
    "start_time": "2022-05-07T19:52:51.616Z"
   },
   {
    "duration": 5,
    "start_time": "2022-05-07T19:52:51.623Z"
   },
   {
    "duration": 1176,
    "start_time": "2022-05-07T19:53:25.219Z"
   },
   {
    "duration": 26,
    "start_time": "2022-05-07T19:53:26.397Z"
   },
   {
    "duration": 17,
    "start_time": "2022-05-07T19:53:26.424Z"
   },
   {
    "duration": 7,
    "start_time": "2022-05-07T19:53:26.443Z"
   },
   {
    "duration": 13,
    "start_time": "2022-05-07T19:53:26.451Z"
   },
   {
    "duration": 12,
    "start_time": "2022-05-07T19:53:26.466Z"
   },
   {
    "duration": 36,
    "start_time": "2022-05-07T19:53:26.480Z"
   },
   {
    "duration": 4,
    "start_time": "2022-05-07T19:53:26.518Z"
   },
   {
    "duration": 10,
    "start_time": "2022-05-07T19:53:26.524Z"
   },
   {
    "duration": 4,
    "start_time": "2022-05-07T19:53:26.537Z"
   },
   {
    "duration": 1008,
    "start_time": "2022-05-07T19:53:26.543Z"
   },
   {
    "duration": 321,
    "start_time": "2022-05-07T19:53:27.553Z"
   },
   {
    "duration": 8,
    "start_time": "2022-05-07T19:53:27.876Z"
   },
   {
    "duration": 23,
    "start_time": "2022-05-07T19:53:27.885Z"
   },
   {
    "duration": 15,
    "start_time": "2022-05-07T19:53:27.910Z"
   },
   {
    "duration": 6,
    "start_time": "2022-05-07T19:53:27.927Z"
   },
   {
    "duration": 7,
    "start_time": "2022-05-07T19:53:27.934Z"
   },
   {
    "duration": 4,
    "start_time": "2022-05-07T19:53:27.943Z"
   },
   {
    "duration": 5,
    "start_time": "2022-05-07T19:53:27.949Z"
   },
   {
    "duration": 6,
    "start_time": "2022-05-07T19:53:27.955Z"
   },
   {
    "duration": 61,
    "start_time": "2022-05-07T19:53:27.963Z"
   },
   {
    "duration": 26,
    "start_time": "2022-05-07T19:53:28.026Z"
   },
   {
    "duration": 25,
    "start_time": "2022-05-07T19:53:28.055Z"
   },
   {
    "duration": 8,
    "start_time": "2022-05-07T19:53:28.108Z"
   },
   {
    "duration": 4,
    "start_time": "2022-05-07T19:53:28.118Z"
   },
   {
    "duration": 9,
    "start_time": "2022-05-07T19:53:28.123Z"
   },
   {
    "duration": 76,
    "start_time": "2022-05-07T19:53:28.134Z"
   },
   {
    "duration": 4,
    "start_time": "2022-05-07T19:53:28.216Z"
   },
   {
    "duration": 5,
    "start_time": "2022-05-07T19:53:28.222Z"
   },
   {
    "duration": 4,
    "start_time": "2022-05-07T19:53:28.308Z"
   },
   {
    "duration": 3,
    "start_time": "2022-05-07T19:53:28.314Z"
   },
   {
    "duration": 4,
    "start_time": "2022-05-07T19:53:28.319Z"
   },
   {
    "duration": 13829,
    "start_time": "2022-05-07T19:53:28.325Z"
   },
   {
    "duration": 8,
    "start_time": "2022-05-07T19:53:42.156Z"
   },
   {
    "duration": 3,
    "start_time": "2022-05-07T19:53:42.167Z"
   },
   {
    "duration": 5,
    "start_time": "2022-05-07T19:53:42.172Z"
   },
   {
    "duration": 6,
    "start_time": "2022-05-07T19:53:42.179Z"
   },
   {
    "duration": 20,
    "start_time": "2022-05-07T19:53:42.187Z"
   },
   {
    "duration": 4,
    "start_time": "2022-05-07T19:53:42.209Z"
   },
   {
    "duration": 4,
    "start_time": "2022-05-07T19:53:42.215Z"
   },
   {
    "duration": 42727,
    "start_time": "2022-05-07T19:53:42.221Z"
   },
   {
    "duration": 4,
    "start_time": "2022-05-07T19:54:24.950Z"
   },
   {
    "duration": 8,
    "start_time": "2022-05-07T19:54:24.956Z"
   },
   {
    "duration": 16,
    "start_time": "2022-05-07T19:54:24.966Z"
   },
   {
    "duration": 4,
    "start_time": "2022-05-07T19:54:24.984Z"
   },
   {
    "duration": 9,
    "start_time": "2022-05-07T19:54:24.990Z"
   },
   {
    "duration": 19,
    "start_time": "2022-05-07T19:54:25.000Z"
   },
   {
    "duration": 6,
    "start_time": "2022-05-07T19:54:25.020Z"
   },
   {
    "duration": 7,
    "start_time": "2022-05-07T19:54:25.027Z"
   },
   {
    "duration": 8,
    "start_time": "2022-05-07T19:54:25.035Z"
   },
   {
    "duration": 8,
    "start_time": "2022-05-07T19:54:25.045Z"
   },
   {
    "duration": 7,
    "start_time": "2022-05-07T19:54:25.055Z"
   },
   {
    "duration": 10,
    "start_time": "2022-05-07T19:54:25.064Z"
   },
   {
    "duration": 4,
    "start_time": "2022-05-07T19:54:25.078Z"
   },
   {
    "duration": 5,
    "start_time": "2022-05-07T19:54:25.084Z"
   },
   {
    "duration": 1187,
    "start_time": "2022-05-07T19:55:52.969Z"
   },
   {
    "duration": 33,
    "start_time": "2022-05-07T19:55:54.158Z"
   },
   {
    "duration": 18,
    "start_time": "2022-05-07T19:55:54.192Z"
   },
   {
    "duration": 7,
    "start_time": "2022-05-07T19:55:54.212Z"
   },
   {
    "duration": 14,
    "start_time": "2022-05-07T19:55:54.221Z"
   },
   {
    "duration": 12,
    "start_time": "2022-05-07T19:55:54.237Z"
   },
   {
    "duration": 10,
    "start_time": "2022-05-07T19:55:54.252Z"
   },
   {
    "duration": 5,
    "start_time": "2022-05-07T19:55:54.264Z"
   },
   {
    "duration": 40,
    "start_time": "2022-05-07T19:55:54.271Z"
   },
   {
    "duration": 5,
    "start_time": "2022-05-07T19:55:54.315Z"
   },
   {
    "duration": 985,
    "start_time": "2022-05-07T19:55:54.322Z"
   },
   {
    "duration": 326,
    "start_time": "2022-05-07T19:55:55.309Z"
   },
   {
    "duration": 7,
    "start_time": "2022-05-07T19:55:55.637Z"
   },
   {
    "duration": 4,
    "start_time": "2022-05-07T19:55:55.645Z"
   },
   {
    "duration": 16,
    "start_time": "2022-05-07T19:55:55.651Z"
   },
   {
    "duration": 4,
    "start_time": "2022-05-07T19:55:55.669Z"
   },
   {
    "duration": 32,
    "start_time": "2022-05-07T19:55:55.675Z"
   },
   {
    "duration": 4,
    "start_time": "2022-05-07T19:55:55.709Z"
   },
   {
    "duration": 5,
    "start_time": "2022-05-07T19:55:55.715Z"
   },
   {
    "duration": 5,
    "start_time": "2022-05-07T19:55:55.722Z"
   },
   {
    "duration": 28,
    "start_time": "2022-05-07T19:55:55.729Z"
   },
   {
    "duration": 48,
    "start_time": "2022-05-07T19:55:55.758Z"
   },
   {
    "duration": 26,
    "start_time": "2022-05-07T19:55:55.808Z"
   },
   {
    "duration": 6,
    "start_time": "2022-05-07T19:55:55.836Z"
   },
   {
    "duration": 7,
    "start_time": "2022-05-07T19:55:55.843Z"
   },
   {
    "duration": 9,
    "start_time": "2022-05-07T19:55:55.852Z"
   },
   {
    "duration": 7,
    "start_time": "2022-05-07T19:55:55.908Z"
   },
   {
    "duration": 4,
    "start_time": "2022-05-07T19:55:55.922Z"
   },
   {
    "duration": 3,
    "start_time": "2022-05-07T19:55:56.007Z"
   },
   {
    "duration": 4,
    "start_time": "2022-05-07T19:55:56.012Z"
   },
   {
    "duration": 5,
    "start_time": "2022-05-07T19:55:56.017Z"
   },
   {
    "duration": 5,
    "start_time": "2022-05-07T19:55:56.023Z"
   },
   {
    "duration": 14115,
    "start_time": "2022-05-07T19:55:56.029Z"
   },
   {
    "duration": 8,
    "start_time": "2022-05-07T19:56:10.146Z"
   },
   {
    "duration": 5,
    "start_time": "2022-05-07T19:56:10.155Z"
   },
   {
    "duration": 4,
    "start_time": "2022-05-07T19:56:10.163Z"
   },
   {
    "duration": 4,
    "start_time": "2022-05-07T19:56:10.168Z"
   },
   {
    "duration": 9,
    "start_time": "2022-05-07T19:56:10.174Z"
   },
   {
    "duration": 23,
    "start_time": "2022-05-07T19:56:10.185Z"
   },
   {
    "duration": 5,
    "start_time": "2022-05-07T19:56:10.210Z"
   },
   {
    "duration": 252184,
    "start_time": "2022-05-07T19:56:10.216Z"
   },
   {
    "duration": 4,
    "start_time": "2022-05-07T20:00:22.402Z"
   },
   {
    "duration": 5,
    "start_time": "2022-05-07T20:00:22.408Z"
   },
   {
    "duration": 4,
    "start_time": "2022-05-07T20:00:22.415Z"
   },
   {
    "duration": 5,
    "start_time": "2022-05-07T20:00:22.420Z"
   },
   {
    "duration": 5,
    "start_time": "2022-05-07T20:00:22.427Z"
   },
   {
    "duration": 8,
    "start_time": "2022-05-07T20:00:22.433Z"
   },
   {
    "duration": 3,
    "start_time": "2022-05-07T20:00:22.443Z"
   },
   {
    "duration": 5,
    "start_time": "2022-05-07T20:00:22.448Z"
   },
   {
    "duration": 4,
    "start_time": "2022-05-07T20:00:22.454Z"
   },
   {
    "duration": 5,
    "start_time": "2022-05-07T20:00:22.460Z"
   },
   {
    "duration": 8,
    "start_time": "2022-05-07T20:00:22.466Z"
   },
   {
    "duration": 37,
    "start_time": "2022-05-07T20:00:22.475Z"
   },
   {
    "duration": 4,
    "start_time": "2022-05-07T20:00:22.514Z"
   },
   {
    "duration": 5,
    "start_time": "2022-05-07T20:00:22.519Z"
   },
   {
    "duration": 1179,
    "start_time": "2022-05-07T20:02:22.767Z"
   },
   {
    "duration": 28,
    "start_time": "2022-05-07T20:02:23.948Z"
   },
   {
    "duration": 17,
    "start_time": "2022-05-07T20:02:23.978Z"
   },
   {
    "duration": 16,
    "start_time": "2022-05-07T20:02:23.997Z"
   },
   {
    "duration": 15,
    "start_time": "2022-05-07T20:02:24.014Z"
   },
   {
    "duration": 11,
    "start_time": "2022-05-07T20:02:24.031Z"
   },
   {
    "duration": 9,
    "start_time": "2022-05-07T20:02:24.044Z"
   },
   {
    "duration": 5,
    "start_time": "2022-05-07T20:02:24.055Z"
   },
   {
    "duration": 10,
    "start_time": "2022-05-07T20:02:24.062Z"
   },
   {
    "duration": 34,
    "start_time": "2022-05-07T20:02:24.075Z"
   },
   {
    "duration": 1039,
    "start_time": "2022-05-07T20:02:24.111Z"
   },
   {
    "duration": 337,
    "start_time": "2022-05-07T20:02:25.152Z"
   },
   {
    "duration": 7,
    "start_time": "2022-05-07T20:02:25.491Z"
   },
   {
    "duration": 11,
    "start_time": "2022-05-07T20:02:25.499Z"
   },
   {
    "duration": 19,
    "start_time": "2022-05-07T20:02:25.511Z"
   },
   {
    "duration": 5,
    "start_time": "2022-05-07T20:02:25.532Z"
   },
   {
    "duration": 7,
    "start_time": "2022-05-07T20:02:25.539Z"
   },
   {
    "duration": 5,
    "start_time": "2022-05-07T20:02:25.547Z"
   },
   {
    "duration": 6,
    "start_time": "2022-05-07T20:02:25.554Z"
   },
   {
    "duration": 8,
    "start_time": "2022-05-07T20:02:25.562Z"
   },
   {
    "duration": 56,
    "start_time": "2022-05-07T20:02:25.572Z"
   },
   {
    "duration": 26,
    "start_time": "2022-05-07T20:02:25.629Z"
   },
   {
    "duration": 25,
    "start_time": "2022-05-07T20:02:25.657Z"
   },
   {
    "duration": 28,
    "start_time": "2022-05-07T20:02:25.684Z"
   },
   {
    "duration": 5,
    "start_time": "2022-05-07T20:02:25.713Z"
   },
   {
    "duration": 9,
    "start_time": "2022-05-07T20:02:25.720Z"
   },
   {
    "duration": 5,
    "start_time": "2022-05-07T20:02:25.731Z"
   },
   {
    "duration": 5,
    "start_time": "2022-05-07T20:02:25.807Z"
   },
   {
    "duration": 5,
    "start_time": "2022-05-07T20:02:25.815Z"
   },
   {
    "duration": 87,
    "start_time": "2022-05-07T20:02:25.822Z"
   },
   {
    "duration": 5,
    "start_time": "2022-05-07T20:02:25.910Z"
   },
   {
    "duration": 5,
    "start_time": "2022-05-07T20:02:25.917Z"
   },
   {
    "duration": 14052,
    "start_time": "2022-05-07T20:02:25.923Z"
   },
   {
    "duration": 7,
    "start_time": "2022-05-07T20:02:39.977Z"
   },
   {
    "duration": 4,
    "start_time": "2022-05-07T20:02:39.985Z"
   },
   {
    "duration": 16,
    "start_time": "2022-05-07T20:02:39.991Z"
   },
   {
    "duration": 3,
    "start_time": "2022-05-07T20:02:40.009Z"
   },
   {
    "duration": 6,
    "start_time": "2022-05-07T20:02:40.014Z"
   },
   {
    "duration": 10,
    "start_time": "2022-05-07T20:02:40.022Z"
   },
   {
    "duration": 8,
    "start_time": "2022-05-07T20:02:40.033Z"
   },
   {
    "duration": 8051,
    "start_time": "2022-05-07T20:02:40.042Z"
   },
   {
    "duration": 5,
    "start_time": "2022-05-07T20:02:48.095Z"
   },
   {
    "duration": 13,
    "start_time": "2022-05-07T20:02:48.101Z"
   },
   {
    "duration": 7,
    "start_time": "2022-05-07T20:02:48.116Z"
   },
   {
    "duration": 8,
    "start_time": "2022-05-07T20:02:48.124Z"
   },
   {
    "duration": 6,
    "start_time": "2022-05-07T20:02:48.133Z"
   },
   {
    "duration": 10,
    "start_time": "2022-05-07T20:02:48.140Z"
   },
   {
    "duration": 9,
    "start_time": "2022-05-07T20:02:48.151Z"
   },
   {
    "duration": 14,
    "start_time": "2022-05-07T20:02:48.162Z"
   },
   {
    "duration": 9,
    "start_time": "2022-05-07T20:02:48.178Z"
   },
   {
    "duration": 6,
    "start_time": "2022-05-07T20:02:48.188Z"
   },
   {
    "duration": 5,
    "start_time": "2022-05-07T20:02:48.196Z"
   },
   {
    "duration": 15,
    "start_time": "2022-05-07T20:02:48.203Z"
   },
   {
    "duration": 8,
    "start_time": "2022-05-07T20:02:48.220Z"
   },
   {
    "duration": 6,
    "start_time": "2022-05-07T20:02:48.230Z"
   },
   {
    "duration": 1231,
    "start_time": "2022-05-07T20:04:32.387Z"
   },
   {
    "duration": 27,
    "start_time": "2022-05-07T20:04:33.620Z"
   },
   {
    "duration": 17,
    "start_time": "2022-05-07T20:04:33.652Z"
   },
   {
    "duration": 7,
    "start_time": "2022-05-07T20:04:33.670Z"
   },
   {
    "duration": 35,
    "start_time": "2022-05-07T20:04:33.678Z"
   },
   {
    "duration": 12,
    "start_time": "2022-05-07T20:04:33.715Z"
   },
   {
    "duration": 10,
    "start_time": "2022-05-07T20:04:33.729Z"
   },
   {
    "duration": 4,
    "start_time": "2022-05-07T20:04:33.741Z"
   },
   {
    "duration": 11,
    "start_time": "2022-05-07T20:04:33.748Z"
   },
   {
    "duration": 4,
    "start_time": "2022-05-07T20:04:33.761Z"
   },
   {
    "duration": 1067,
    "start_time": "2022-05-07T20:04:33.767Z"
   },
   {
    "duration": 339,
    "start_time": "2022-05-07T20:04:34.835Z"
   },
   {
    "duration": 7,
    "start_time": "2022-05-07T20:04:35.176Z"
   },
   {
    "duration": 4,
    "start_time": "2022-05-07T20:04:35.185Z"
   },
   {
    "duration": 16,
    "start_time": "2022-05-07T20:04:35.207Z"
   },
   {
    "duration": 6,
    "start_time": "2022-05-07T20:04:35.224Z"
   },
   {
    "duration": 5,
    "start_time": "2022-05-07T20:04:35.232Z"
   },
   {
    "duration": 4,
    "start_time": "2022-05-07T20:04:35.239Z"
   },
   {
    "duration": 5,
    "start_time": "2022-05-07T20:04:35.244Z"
   },
   {
    "duration": 5,
    "start_time": "2022-05-07T20:04:35.251Z"
   },
   {
    "duration": 58,
    "start_time": "2022-05-07T20:04:35.257Z"
   },
   {
    "duration": 25,
    "start_time": "2022-05-07T20:04:35.317Z"
   },
   {
    "duration": 26,
    "start_time": "2022-05-07T20:04:35.344Z"
   },
   {
    "duration": 7,
    "start_time": "2022-05-07T20:04:35.372Z"
   },
   {
    "duration": 26,
    "start_time": "2022-05-07T20:04:35.381Z"
   },
   {
    "duration": 10,
    "start_time": "2022-05-07T20:04:35.409Z"
   },
   {
    "duration": 7,
    "start_time": "2022-05-07T20:04:35.425Z"
   },
   {
    "duration": 5,
    "start_time": "2022-05-07T20:04:35.508Z"
   },
   {
    "duration": 6,
    "start_time": "2022-05-07T20:04:35.515Z"
   },
   {
    "duration": 85,
    "start_time": "2022-05-07T20:04:35.523Z"
   },
   {
    "duration": 5,
    "start_time": "2022-05-07T20:04:35.610Z"
   },
   {
    "duration": 8,
    "start_time": "2022-05-07T20:04:35.616Z"
   },
   {
    "duration": 12818,
    "start_time": "2022-05-07T20:04:35.625Z"
   },
   {
    "duration": 6,
    "start_time": "2022-05-07T20:04:48.445Z"
   },
   {
    "duration": 4,
    "start_time": "2022-05-07T20:04:48.453Z"
   },
   {
    "duration": 5,
    "start_time": "2022-05-07T20:04:48.458Z"
   },
   {
    "duration": 3,
    "start_time": "2022-05-07T20:04:48.465Z"
   },
   {
    "duration": 5,
    "start_time": "2022-05-07T20:04:48.469Z"
   },
   {
    "duration": 4,
    "start_time": "2022-05-07T20:04:48.475Z"
   },
   {
    "duration": 29,
    "start_time": "2022-05-07T20:04:48.480Z"
   },
   {
    "duration": 11341,
    "start_time": "2022-05-07T20:04:48.511Z"
   },
   {
    "duration": 5,
    "start_time": "2022-05-07T20:04:59.853Z"
   },
   {
    "duration": 7,
    "start_time": "2022-05-07T20:04:59.859Z"
   },
   {
    "duration": 4,
    "start_time": "2022-05-07T20:04:59.868Z"
   },
   {
    "duration": 5,
    "start_time": "2022-05-07T20:04:59.873Z"
   },
   {
    "duration": 4,
    "start_time": "2022-05-07T20:04:59.880Z"
   },
   {
    "duration": 9,
    "start_time": "2022-05-07T20:04:59.886Z"
   },
   {
    "duration": 3,
    "start_time": "2022-05-07T20:04:59.897Z"
   },
   {
    "duration": 5,
    "start_time": "2022-05-07T20:04:59.902Z"
   },
   {
    "duration": 4,
    "start_time": "2022-05-07T20:04:59.909Z"
   },
   {
    "duration": 5,
    "start_time": "2022-05-07T20:04:59.916Z"
   },
   {
    "duration": 7,
    "start_time": "2022-05-07T20:04:59.923Z"
   },
   {
    "duration": 7,
    "start_time": "2022-05-07T20:04:59.932Z"
   },
   {
    "duration": 4,
    "start_time": "2022-05-07T20:04:59.941Z"
   },
   {
    "duration": 5,
    "start_time": "2022-05-07T20:04:59.947Z"
   },
   {
    "duration": 1162,
    "start_time": "2022-05-07T20:05:19.156Z"
   },
   {
    "duration": 28,
    "start_time": "2022-05-07T20:05:20.320Z"
   },
   {
    "duration": 18,
    "start_time": "2022-05-07T20:05:20.350Z"
   },
   {
    "duration": 7,
    "start_time": "2022-05-07T20:05:20.370Z"
   },
   {
    "duration": 30,
    "start_time": "2022-05-07T20:05:20.378Z"
   },
   {
    "duration": 12,
    "start_time": "2022-05-07T20:05:20.410Z"
   },
   {
    "duration": 9,
    "start_time": "2022-05-07T20:05:20.424Z"
   },
   {
    "duration": 7,
    "start_time": "2022-05-07T20:05:20.434Z"
   },
   {
    "duration": 11,
    "start_time": "2022-05-07T20:05:20.442Z"
   },
   {
    "duration": 4,
    "start_time": "2022-05-07T20:05:20.457Z"
   },
   {
    "duration": 1076,
    "start_time": "2022-05-07T20:05:20.463Z"
   },
   {
    "duration": 342,
    "start_time": "2022-05-07T20:05:21.541Z"
   },
   {
    "duration": 7,
    "start_time": "2022-05-07T20:05:21.885Z"
   },
   {
    "duration": 16,
    "start_time": "2022-05-07T20:05:21.894Z"
   },
   {
    "duration": 19,
    "start_time": "2022-05-07T20:05:21.912Z"
   },
   {
    "duration": 6,
    "start_time": "2022-05-07T20:05:21.932Z"
   },
   {
    "duration": 30,
    "start_time": "2022-05-07T20:05:21.939Z"
   },
   {
    "duration": 4,
    "start_time": "2022-05-07T20:05:21.971Z"
   },
   {
    "duration": 10,
    "start_time": "2022-05-07T20:05:21.977Z"
   },
   {
    "duration": 15,
    "start_time": "2022-05-07T20:05:21.989Z"
   },
   {
    "duration": 33,
    "start_time": "2022-05-07T20:05:22.006Z"
   },
   {
    "duration": 30,
    "start_time": "2022-05-07T20:05:22.041Z"
   },
   {
    "duration": 45,
    "start_time": "2022-05-07T20:05:22.073Z"
   },
   {
    "duration": 6,
    "start_time": "2022-05-07T20:05:22.120Z"
   },
   {
    "duration": 8,
    "start_time": "2022-05-07T20:05:22.128Z"
   },
   {
    "duration": 8,
    "start_time": "2022-05-07T20:05:22.139Z"
   },
   {
    "duration": 59,
    "start_time": "2022-05-07T20:05:22.149Z"
   },
   {
    "duration": 4,
    "start_time": "2022-05-07T20:05:22.215Z"
   },
   {
    "duration": 89,
    "start_time": "2022-05-07T20:05:22.222Z"
   },
   {
    "duration": 6,
    "start_time": "2022-05-07T20:05:22.313Z"
   },
   {
    "duration": 5,
    "start_time": "2022-05-07T20:05:22.320Z"
   },
   {
    "duration": 4,
    "start_time": "2022-05-07T20:05:22.327Z"
   },
   {
    "duration": 16791,
    "start_time": "2022-05-07T20:05:22.333Z"
   },
   {
    "duration": 7,
    "start_time": "2022-05-07T20:05:39.126Z"
   },
   {
    "duration": 5,
    "start_time": "2022-05-07T20:05:39.134Z"
   },
   {
    "duration": 7,
    "start_time": "2022-05-07T20:05:39.140Z"
   },
   {
    "duration": 4,
    "start_time": "2022-05-07T20:05:39.148Z"
   },
   {
    "duration": 5,
    "start_time": "2022-05-07T20:05:39.154Z"
   },
   {
    "duration": 8,
    "start_time": "2022-05-07T20:05:39.161Z"
   },
   {
    "duration": 9,
    "start_time": "2022-05-07T20:05:39.170Z"
   },
   {
    "duration": 9023,
    "start_time": "2022-05-07T20:05:39.181Z"
   },
   {
    "duration": 4,
    "start_time": "2022-05-07T20:05:48.206Z"
   },
   {
    "duration": 6,
    "start_time": "2022-05-07T20:05:48.211Z"
   },
   {
    "duration": 4,
    "start_time": "2022-05-07T20:05:48.218Z"
   },
   {
    "duration": 4,
    "start_time": "2022-05-07T20:05:48.224Z"
   },
   {
    "duration": 4,
    "start_time": "2022-05-07T20:05:48.230Z"
   },
   {
    "duration": 8,
    "start_time": "2022-05-07T20:05:48.236Z"
   },
   {
    "duration": 4,
    "start_time": "2022-05-07T20:05:48.245Z"
   },
   {
    "duration": 4,
    "start_time": "2022-05-07T20:05:48.251Z"
   },
   {
    "duration": 4,
    "start_time": "2022-05-07T20:05:48.257Z"
   },
   {
    "duration": 45,
    "start_time": "2022-05-07T20:05:48.263Z"
   },
   {
    "duration": 5,
    "start_time": "2022-05-07T20:05:48.310Z"
   },
   {
    "duration": 7,
    "start_time": "2022-05-07T20:05:48.317Z"
   },
   {
    "duration": 3,
    "start_time": "2022-05-07T20:05:48.326Z"
   },
   {
    "duration": 4,
    "start_time": "2022-05-07T20:05:48.331Z"
   },
   {
    "duration": 1221,
    "start_time": "2022-05-07T20:11:51.477Z"
   },
   {
    "duration": 29,
    "start_time": "2022-05-07T20:11:52.701Z"
   },
   {
    "duration": 18,
    "start_time": "2022-05-07T20:11:52.732Z"
   },
   {
    "duration": 9,
    "start_time": "2022-05-07T20:11:52.752Z"
   },
   {
    "duration": 19,
    "start_time": "2022-05-07T20:11:52.763Z"
   },
   {
    "duration": 29,
    "start_time": "2022-05-07T20:11:52.784Z"
   },
   {
    "duration": 10,
    "start_time": "2022-05-07T20:11:52.814Z"
   },
   {
    "duration": 6,
    "start_time": "2022-05-07T20:11:52.825Z"
   },
   {
    "duration": 10,
    "start_time": "2022-05-07T20:11:52.833Z"
   },
   {
    "duration": 4,
    "start_time": "2022-05-07T20:11:52.846Z"
   },
   {
    "duration": 1048,
    "start_time": "2022-05-07T20:11:52.852Z"
   },
   {
    "duration": 329,
    "start_time": "2022-05-07T20:11:53.902Z"
   },
   {
    "duration": 7,
    "start_time": "2022-05-07T20:11:54.233Z"
   },
   {
    "duration": 20,
    "start_time": "2022-05-07T20:11:54.242Z"
   },
   {
    "duration": 20,
    "start_time": "2022-05-07T20:11:54.264Z"
   },
   {
    "duration": 5,
    "start_time": "2022-05-07T20:11:54.285Z"
   },
   {
    "duration": 15,
    "start_time": "2022-05-07T20:11:54.292Z"
   },
   {
    "duration": 3,
    "start_time": "2022-05-07T20:11:54.309Z"
   },
   {
    "duration": 5,
    "start_time": "2022-05-07T20:11:54.314Z"
   },
   {
    "duration": 9,
    "start_time": "2022-05-07T20:11:54.321Z"
   },
   {
    "duration": 31,
    "start_time": "2022-05-07T20:11:54.332Z"
   },
   {
    "duration": 47,
    "start_time": "2022-05-07T20:11:54.365Z"
   },
   {
    "duration": 29,
    "start_time": "2022-05-07T20:11:54.414Z"
   },
   {
    "duration": 7,
    "start_time": "2022-05-07T20:11:54.446Z"
   },
   {
    "duration": 5,
    "start_time": "2022-05-07T20:11:54.454Z"
   },
   {
    "duration": 53,
    "start_time": "2022-05-07T20:11:54.461Z"
   },
   {
    "duration": 7,
    "start_time": "2022-05-07T20:11:54.516Z"
   },
   {
    "duration": 4,
    "start_time": "2022-05-07T20:11:54.609Z"
   },
   {
    "duration": 5,
    "start_time": "2022-05-07T20:11:54.615Z"
   },
   {
    "duration": 4,
    "start_time": "2022-05-07T20:11:54.622Z"
   },
   {
    "duration": 4,
    "start_time": "2022-05-07T20:11:54.628Z"
   },
   {
    "duration": 5,
    "start_time": "2022-05-07T20:11:54.633Z"
   },
   {
    "duration": 17200,
    "start_time": "2022-05-07T20:11:54.639Z"
   },
   {
    "duration": 7,
    "start_time": "2022-05-07T20:12:11.841Z"
   },
   {
    "duration": 5,
    "start_time": "2022-05-07T20:12:11.849Z"
   },
   {
    "duration": 5,
    "start_time": "2022-05-07T20:12:11.855Z"
   },
   {
    "duration": 5,
    "start_time": "2022-05-07T20:12:11.862Z"
   },
   {
    "duration": 5,
    "start_time": "2022-05-07T20:12:11.868Z"
   },
   {
    "duration": 6,
    "start_time": "2022-05-07T20:12:11.874Z"
   },
   {
    "duration": 29,
    "start_time": "2022-05-07T20:12:11.881Z"
   },
   {
    "duration": 642138,
    "start_time": "2022-05-07T20:12:11.912Z"
   },
   {
    "duration": 5,
    "start_time": "2022-05-07T20:22:54.052Z"
   },
   {
    "duration": 7,
    "start_time": "2022-05-07T20:22:54.059Z"
   },
   {
    "duration": 5,
    "start_time": "2022-05-07T20:22:54.067Z"
   },
   {
    "duration": 5,
    "start_time": "2022-05-07T20:22:54.074Z"
   },
   {
    "duration": 8,
    "start_time": "2022-05-07T20:22:54.081Z"
   },
   {
    "duration": 11,
    "start_time": "2022-05-07T20:22:54.090Z"
   },
   {
    "duration": 3,
    "start_time": "2022-05-07T20:22:54.103Z"
   },
   {
    "duration": 7,
    "start_time": "2022-05-07T20:22:54.107Z"
   },
   {
    "duration": 5,
    "start_time": "2022-05-07T20:22:54.115Z"
   },
   {
    "duration": 4,
    "start_time": "2022-05-07T20:22:54.122Z"
   },
   {
    "duration": 5,
    "start_time": "2022-05-07T20:22:54.127Z"
   },
   {
    "duration": 7,
    "start_time": "2022-05-07T20:22:54.133Z"
   },
   {
    "duration": 4,
    "start_time": "2022-05-07T20:22:54.141Z"
   },
   {
    "duration": 4,
    "start_time": "2022-05-07T20:22:54.147Z"
   },
   {
    "duration": 4,
    "start_time": "2022-05-07T20:23:51.997Z"
   },
   {
    "duration": 267,
    "start_time": "2022-05-07T20:23:53.211Z"
   },
   {
    "duration": 281,
    "start_time": "2022-05-07T20:24:32.115Z"
   },
   {
    "duration": 252,
    "start_time": "2022-05-07T20:24:48.336Z"
   },
   {
    "duration": 302,
    "start_time": "2022-05-07T20:25:01.089Z"
   },
   {
    "duration": 1236,
    "start_time": "2022-05-07T20:29:04.616Z"
   },
   {
    "duration": 32,
    "start_time": "2022-05-07T20:29:05.854Z"
   },
   {
    "duration": 18,
    "start_time": "2022-05-07T20:29:05.888Z"
   },
   {
    "duration": 8,
    "start_time": "2022-05-07T20:29:05.907Z"
   },
   {
    "duration": 13,
    "start_time": "2022-05-07T20:29:05.918Z"
   },
   {
    "duration": 13,
    "start_time": "2022-05-07T20:29:05.933Z"
   },
   {
    "duration": 14,
    "start_time": "2022-05-07T20:29:05.948Z"
   },
   {
    "duration": 5,
    "start_time": "2022-05-07T20:29:05.964Z"
   },
   {
    "duration": 42,
    "start_time": "2022-05-07T20:29:05.971Z"
   },
   {
    "duration": 6,
    "start_time": "2022-05-07T20:29:06.015Z"
   },
   {
    "duration": 1045,
    "start_time": "2022-05-07T20:29:06.023Z"
   },
   {
    "duration": 329,
    "start_time": "2022-05-07T20:29:07.070Z"
   },
   {
    "duration": 10,
    "start_time": "2022-05-07T20:29:07.401Z"
   },
   {
    "duration": 4,
    "start_time": "2022-05-07T20:29:07.414Z"
   },
   {
    "duration": 20,
    "start_time": "2022-05-07T20:29:07.419Z"
   },
   {
    "duration": 5,
    "start_time": "2022-05-07T20:29:07.441Z"
   },
   {
    "duration": 6,
    "start_time": "2022-05-07T20:29:07.448Z"
   },
   {
    "duration": 6,
    "start_time": "2022-05-07T20:29:07.455Z"
   },
   {
    "duration": 6,
    "start_time": "2022-05-07T20:29:07.463Z"
   },
   {
    "duration": 37,
    "start_time": "2022-05-07T20:29:07.471Z"
   },
   {
    "duration": 31,
    "start_time": "2022-05-07T20:29:07.510Z"
   },
   {
    "duration": 31,
    "start_time": "2022-05-07T20:29:07.543Z"
   },
   {
    "duration": 53,
    "start_time": "2022-05-07T20:29:07.576Z"
   },
   {
    "duration": 6,
    "start_time": "2022-05-07T20:29:07.631Z"
   },
   {
    "duration": 8,
    "start_time": "2022-05-07T20:29:07.639Z"
   },
   {
    "duration": 9,
    "start_time": "2022-05-07T20:29:07.649Z"
   },
   {
    "duration": 51,
    "start_time": "2022-05-07T20:29:07.661Z"
   },
   {
    "duration": 8,
    "start_time": "2022-05-07T20:29:07.715Z"
   },
   {
    "duration": 5,
    "start_time": "2022-05-07T20:29:07.807Z"
   },
   {
    "duration": 7,
    "start_time": "2022-05-07T20:29:07.814Z"
   },
   {
    "duration": 5,
    "start_time": "2022-05-07T20:29:07.823Z"
   },
   {
    "duration": 4,
    "start_time": "2022-05-07T20:29:07.830Z"
   },
   {
    "duration": 17203,
    "start_time": "2022-05-07T20:29:07.835Z"
   },
   {
    "duration": 7,
    "start_time": "2022-05-07T20:29:25.039Z"
   },
   {
    "duration": 5,
    "start_time": "2022-05-07T20:29:25.047Z"
   },
   {
    "duration": 6,
    "start_time": "2022-05-07T20:29:25.054Z"
   },
   {
    "duration": 7,
    "start_time": "2022-05-07T20:29:25.061Z"
   },
   {
    "duration": 5,
    "start_time": "2022-05-07T20:29:25.070Z"
   },
   {
    "duration": 6,
    "start_time": "2022-05-07T20:29:25.076Z"
   },
   {
    "duration": 24,
    "start_time": "2022-05-07T20:29:25.083Z"
   },
   {
    "duration": 465924,
    "start_time": "2022-05-07T20:29:25.111Z"
   },
   {
    "duration": 4,
    "start_time": "2022-05-07T20:37:11.038Z"
   },
   {
    "duration": 10,
    "start_time": "2022-05-07T20:37:11.044Z"
   },
   {
    "duration": 5,
    "start_time": "2022-05-07T20:37:11.055Z"
   },
   {
    "duration": 5,
    "start_time": "2022-05-07T20:37:11.062Z"
   },
   {
    "duration": 6,
    "start_time": "2022-05-07T20:37:11.069Z"
   },
   {
    "duration": 8,
    "start_time": "2022-05-07T20:37:11.077Z"
   },
   {
    "duration": 5,
    "start_time": "2022-05-07T20:37:11.087Z"
   },
   {
    "duration": 13,
    "start_time": "2022-05-07T20:37:11.094Z"
   },
   {
    "duration": 3,
    "start_time": "2022-05-07T20:37:11.109Z"
   },
   {
    "duration": 5,
    "start_time": "2022-05-07T20:37:11.114Z"
   },
   {
    "duration": 5,
    "start_time": "2022-05-07T20:37:11.120Z"
   },
   {
    "duration": 7,
    "start_time": "2022-05-07T20:37:11.127Z"
   },
   {
    "duration": 4,
    "start_time": "2022-05-07T20:37:11.135Z"
   },
   {
    "duration": 6,
    "start_time": "2022-05-07T20:37:11.141Z"
   },
   {
    "duration": 6,
    "start_time": "2022-05-07T20:37:11.149Z"
   },
   {
    "duration": 356,
    "start_time": "2022-05-07T20:37:11.156Z"
   },
   {
    "duration": 1210,
    "start_time": "2022-05-07T20:39:02.848Z"
   },
   {
    "duration": 29,
    "start_time": "2022-05-07T20:39:04.060Z"
   },
   {
    "duration": 24,
    "start_time": "2022-05-07T20:39:04.091Z"
   },
   {
    "duration": 9,
    "start_time": "2022-05-07T20:39:04.117Z"
   },
   {
    "duration": 13,
    "start_time": "2022-05-07T20:39:04.128Z"
   },
   {
    "duration": 13,
    "start_time": "2022-05-07T20:39:04.142Z"
   },
   {
    "duration": 10,
    "start_time": "2022-05-07T20:39:04.157Z"
   },
   {
    "duration": 38,
    "start_time": "2022-05-07T20:39:04.169Z"
   },
   {
    "duration": 8,
    "start_time": "2022-05-07T20:39:04.210Z"
   },
   {
    "duration": 4,
    "start_time": "2022-05-07T20:39:04.221Z"
   },
   {
    "duration": 1064,
    "start_time": "2022-05-07T20:39:04.227Z"
   },
   {
    "duration": 353,
    "start_time": "2022-05-07T20:39:05.293Z"
   },
   {
    "duration": 7,
    "start_time": "2022-05-07T20:39:05.648Z"
   },
   {
    "duration": 4,
    "start_time": "2022-05-07T20:39:05.656Z"
   },
   {
    "duration": 19,
    "start_time": "2022-05-07T20:39:05.662Z"
   },
   {
    "duration": 26,
    "start_time": "2022-05-07T20:39:05.683Z"
   },
   {
    "duration": 7,
    "start_time": "2022-05-07T20:39:05.711Z"
   },
   {
    "duration": 3,
    "start_time": "2022-05-07T20:39:05.720Z"
   },
   {
    "duration": 5,
    "start_time": "2022-05-07T20:39:05.725Z"
   },
   {
    "duration": 6,
    "start_time": "2022-05-07T20:39:05.732Z"
   },
   {
    "duration": 68,
    "start_time": "2022-05-07T20:39:05.739Z"
   },
   {
    "duration": 32,
    "start_time": "2022-05-07T20:39:05.809Z"
   },
   {
    "duration": 33,
    "start_time": "2022-05-07T20:39:05.843Z"
   },
   {
    "duration": 30,
    "start_time": "2022-05-07T20:39:05.878Z"
   },
   {
    "duration": 4,
    "start_time": "2022-05-07T20:39:05.910Z"
   },
   {
    "duration": 11,
    "start_time": "2022-05-07T20:39:05.916Z"
   },
   {
    "duration": 81,
    "start_time": "2022-05-07T20:39:05.930Z"
   },
   {
    "duration": 4,
    "start_time": "2022-05-07T20:39:06.017Z"
   },
   {
    "duration": 5,
    "start_time": "2022-05-07T20:39:06.108Z"
   },
   {
    "duration": 4,
    "start_time": "2022-05-07T20:39:06.115Z"
   },
   {
    "duration": 6,
    "start_time": "2022-05-07T20:39:06.121Z"
   },
   {
    "duration": 4,
    "start_time": "2022-05-07T20:39:06.129Z"
   },
   {
    "duration": 17747,
    "start_time": "2022-05-07T20:39:06.135Z"
   },
   {
    "duration": 7,
    "start_time": "2022-05-07T20:39:23.884Z"
   },
   {
    "duration": 4,
    "start_time": "2022-05-07T20:39:23.893Z"
   },
   {
    "duration": 4,
    "start_time": "2022-05-07T20:39:23.908Z"
   },
   {
    "duration": 4,
    "start_time": "2022-05-07T20:39:23.914Z"
   },
   {
    "duration": 4,
    "start_time": "2022-05-07T20:39:23.919Z"
   },
   {
    "duration": 4,
    "start_time": "2022-05-07T20:39:23.925Z"
   },
   {
    "duration": 4,
    "start_time": "2022-05-07T20:39:23.931Z"
   },
   {
    "duration": 225299,
    "start_time": "2022-05-07T20:39:23.936Z"
   },
   {
    "duration": 4,
    "start_time": "2022-05-07T20:43:09.237Z"
   },
   {
    "duration": 6,
    "start_time": "2022-05-07T20:43:09.243Z"
   },
   {
    "duration": 4,
    "start_time": "2022-05-07T20:43:09.251Z"
   },
   {
    "duration": 4,
    "start_time": "2022-05-07T20:43:09.257Z"
   },
   {
    "duration": 5,
    "start_time": "2022-05-07T20:43:09.263Z"
   },
   {
    "duration": 8,
    "start_time": "2022-05-07T20:43:09.269Z"
   },
   {
    "duration": 3,
    "start_time": "2022-05-07T20:43:09.279Z"
   },
   {
    "duration": 6,
    "start_time": "2022-05-07T20:43:09.283Z"
   },
   {
    "duration": 18,
    "start_time": "2022-05-07T20:43:09.290Z"
   },
   {
    "duration": 4,
    "start_time": "2022-05-07T20:43:09.309Z"
   },
   {
    "duration": 5,
    "start_time": "2022-05-07T20:43:09.314Z"
   },
   {
    "duration": 7,
    "start_time": "2022-05-07T20:43:09.321Z"
   },
   {
    "duration": 4,
    "start_time": "2022-05-07T20:43:09.329Z"
   },
   {
    "duration": 5,
    "start_time": "2022-05-07T20:43:09.334Z"
   },
   {
    "duration": 5,
    "start_time": "2022-05-07T20:43:09.341Z"
   },
   {
    "duration": 344,
    "start_time": "2022-05-07T20:43:09.348Z"
   },
   {
    "duration": 301,
    "start_time": "2022-05-07T20:45:12.280Z"
   },
   {
    "duration": 1168,
    "start_time": "2022-05-07T20:45:22.970Z"
   },
   {
    "duration": 27,
    "start_time": "2022-05-07T20:45:24.140Z"
   },
   {
    "duration": 16,
    "start_time": "2022-05-07T20:45:24.169Z"
   },
   {
    "duration": 7,
    "start_time": "2022-05-07T20:45:24.187Z"
   },
   {
    "duration": 21,
    "start_time": "2022-05-07T20:45:24.196Z"
   },
   {
    "duration": 11,
    "start_time": "2022-05-07T20:45:24.219Z"
   },
   {
    "duration": 14,
    "start_time": "2022-05-07T20:45:24.232Z"
   },
   {
    "duration": 6,
    "start_time": "2022-05-07T20:45:24.247Z"
   },
   {
    "duration": 10,
    "start_time": "2022-05-07T20:45:24.255Z"
   },
   {
    "duration": 4,
    "start_time": "2022-05-07T20:45:24.269Z"
   },
   {
    "duration": 1004,
    "start_time": "2022-05-07T20:45:24.275Z"
   },
   {
    "duration": 329,
    "start_time": "2022-05-07T20:45:25.281Z"
   },
   {
    "duration": 8,
    "start_time": "2022-05-07T20:45:25.612Z"
   },
   {
    "duration": 4,
    "start_time": "2022-05-07T20:45:25.622Z"
   },
   {
    "duration": 19,
    "start_time": "2022-05-07T20:45:25.628Z"
   },
   {
    "duration": 7,
    "start_time": "2022-05-07T20:45:25.648Z"
   },
   {
    "duration": 6,
    "start_time": "2022-05-07T20:45:25.657Z"
   },
   {
    "duration": 44,
    "start_time": "2022-05-07T20:45:25.664Z"
   },
   {
    "duration": 4,
    "start_time": "2022-05-07T20:45:25.711Z"
   },
   {
    "duration": 5,
    "start_time": "2022-05-07T20:45:25.717Z"
   },
   {
    "duration": 30,
    "start_time": "2022-05-07T20:45:25.723Z"
   },
   {
    "duration": 54,
    "start_time": "2022-05-07T20:45:25.755Z"
   },
   {
    "duration": 29,
    "start_time": "2022-05-07T20:45:25.811Z"
   },
   {
    "duration": 6,
    "start_time": "2022-05-07T20:45:25.842Z"
   },
   {
    "duration": 5,
    "start_time": "2022-05-07T20:45:25.850Z"
   },
   {
    "duration": 10,
    "start_time": "2022-05-07T20:45:25.856Z"
   },
   {
    "duration": 6,
    "start_time": "2022-05-07T20:45:25.908Z"
   },
   {
    "duration": 90,
    "start_time": "2022-05-07T20:45:25.919Z"
   },
   {
    "duration": 6,
    "start_time": "2022-05-07T20:45:26.010Z"
   },
   {
    "duration": 4,
    "start_time": "2022-05-07T20:45:26.018Z"
   },
   {
    "duration": 5,
    "start_time": "2022-05-07T20:45:26.023Z"
   },
   {
    "duration": 4,
    "start_time": "2022-05-07T20:45:26.030Z"
   },
   {
    "duration": 16724,
    "start_time": "2022-05-07T20:45:26.035Z"
   },
   {
    "duration": 7,
    "start_time": "2022-05-07T20:45:42.761Z"
   },
   {
    "duration": 3,
    "start_time": "2022-05-07T20:45:42.770Z"
   },
   {
    "duration": 5,
    "start_time": "2022-05-07T20:45:42.775Z"
   },
   {
    "duration": 4,
    "start_time": "2022-05-07T20:45:42.781Z"
   },
   {
    "duration": 20,
    "start_time": "2022-05-07T20:45:42.787Z"
   },
   {
    "duration": 3,
    "start_time": "2022-05-07T20:45:42.809Z"
   },
   {
    "duration": 4,
    "start_time": "2022-05-07T20:45:42.814Z"
   },
   {
    "duration": 786317,
    "start_time": "2022-05-07T20:45:42.820Z"
   },
   {
    "duration": 4,
    "start_time": "2022-05-07T20:58:49.139Z"
   },
   {
    "duration": 7,
    "start_time": "2022-05-07T20:58:49.145Z"
   },
   {
    "duration": 4,
    "start_time": "2022-05-07T20:58:49.154Z"
   },
   {
    "duration": 4,
    "start_time": "2022-05-07T20:58:49.160Z"
   },
   {
    "duration": 5,
    "start_time": "2022-05-07T20:58:49.166Z"
   },
   {
    "duration": 9,
    "start_time": "2022-05-07T20:58:49.173Z"
   },
   {
    "duration": 3,
    "start_time": "2022-05-07T20:58:49.184Z"
   },
   {
    "duration": 4,
    "start_time": "2022-05-07T20:58:49.189Z"
   },
   {
    "duration": 6,
    "start_time": "2022-05-07T20:58:49.208Z"
   },
   {
    "duration": 4,
    "start_time": "2022-05-07T20:58:49.216Z"
   },
   {
    "duration": 5,
    "start_time": "2022-05-07T20:58:49.222Z"
   },
   {
    "duration": 9,
    "start_time": "2022-05-07T20:58:49.229Z"
   },
   {
    "duration": 4,
    "start_time": "2022-05-07T20:58:49.240Z"
   },
   {
    "duration": 5,
    "start_time": "2022-05-07T20:58:49.245Z"
   },
   {
    "duration": 6,
    "start_time": "2022-05-07T20:58:49.252Z"
   },
   {
    "duration": 329,
    "start_time": "2022-05-07T20:58:49.259Z"
   },
   {
    "duration": 1200,
    "start_time": "2022-05-07T20:59:29.131Z"
   },
   {
    "duration": 28,
    "start_time": "2022-05-07T20:59:30.333Z"
   },
   {
    "duration": 18,
    "start_time": "2022-05-07T20:59:30.363Z"
   },
   {
    "duration": 8,
    "start_time": "2022-05-07T20:59:30.383Z"
   },
   {
    "duration": 13,
    "start_time": "2022-05-07T20:59:30.407Z"
   },
   {
    "duration": 12,
    "start_time": "2022-05-07T20:59:30.422Z"
   },
   {
    "duration": 9,
    "start_time": "2022-05-07T20:59:30.436Z"
   },
   {
    "duration": 7,
    "start_time": "2022-05-07T20:59:30.447Z"
   },
   {
    "duration": 13,
    "start_time": "2022-05-07T20:59:30.455Z"
   },
   {
    "duration": 6,
    "start_time": "2022-05-07T20:59:30.470Z"
   },
   {
    "duration": 1000,
    "start_time": "2022-05-07T20:59:30.478Z"
   },
   {
    "duration": 321,
    "start_time": "2022-05-07T20:59:31.479Z"
   },
   {
    "duration": 9,
    "start_time": "2022-05-07T20:59:31.802Z"
   },
   {
    "duration": 7,
    "start_time": "2022-05-07T20:59:31.812Z"
   },
   {
    "duration": 23,
    "start_time": "2022-05-07T20:59:31.820Z"
   },
   {
    "duration": 4,
    "start_time": "2022-05-07T20:59:31.845Z"
   },
   {
    "duration": 12,
    "start_time": "2022-05-07T20:59:31.851Z"
   },
   {
    "duration": 4,
    "start_time": "2022-05-07T20:59:31.865Z"
   },
   {
    "duration": 8,
    "start_time": "2022-05-07T20:59:31.871Z"
   },
   {
    "duration": 29,
    "start_time": "2022-05-07T20:59:31.881Z"
   },
   {
    "duration": 36,
    "start_time": "2022-05-07T20:59:31.912Z"
   },
   {
    "duration": 29,
    "start_time": "2022-05-07T20:59:31.950Z"
   },
   {
    "duration": 44,
    "start_time": "2022-05-07T20:59:31.981Z"
   },
   {
    "duration": 7,
    "start_time": "2022-05-07T20:59:32.027Z"
   },
   {
    "duration": 8,
    "start_time": "2022-05-07T20:59:32.036Z"
   },
   {
    "duration": 12,
    "start_time": "2022-05-07T20:59:32.045Z"
   },
   {
    "duration": 51,
    "start_time": "2022-05-07T20:59:32.060Z"
   },
   {
    "duration": 5,
    "start_time": "2022-05-07T20:59:32.117Z"
   },
   {
    "duration": 4,
    "start_time": "2022-05-07T20:59:32.208Z"
   },
   {
    "duration": 9,
    "start_time": "2022-05-07T20:59:32.214Z"
   },
   {
    "duration": 6,
    "start_time": "2022-05-07T20:59:32.224Z"
   },
   {
    "duration": 8,
    "start_time": "2022-05-07T20:59:32.232Z"
   },
   {
    "duration": 16500,
    "start_time": "2022-05-07T20:59:32.242Z"
   },
   {
    "duration": 7,
    "start_time": "2022-05-07T20:59:48.743Z"
   },
   {
    "duration": 4,
    "start_time": "2022-05-07T20:59:48.751Z"
   },
   {
    "duration": 9,
    "start_time": "2022-05-07T20:59:48.757Z"
   },
   {
    "duration": 9,
    "start_time": "2022-05-07T20:59:48.767Z"
   },
   {
    "duration": 4,
    "start_time": "2022-05-07T20:59:48.778Z"
   },
   {
    "duration": 5,
    "start_time": "2022-05-07T20:59:48.784Z"
   },
   {
    "duration": 3,
    "start_time": "2022-05-07T20:59:48.807Z"
   },
   {
    "duration": 942109,
    "start_time": "2022-05-07T20:59:48.811Z"
   },
   {
    "duration": 4,
    "start_time": "2022-05-07T21:15:30.922Z"
   },
   {
    "duration": 7,
    "start_time": "2022-05-07T21:15:30.928Z"
   },
   {
    "duration": 5,
    "start_time": "2022-05-07T21:15:30.937Z"
   },
   {
    "duration": 7,
    "start_time": "2022-05-07T21:15:30.944Z"
   },
   {
    "duration": 13,
    "start_time": "2022-05-07T21:15:30.952Z"
   },
   {
    "duration": 15,
    "start_time": "2022-05-07T21:15:30.967Z"
   },
   {
    "duration": 9,
    "start_time": "2022-05-07T21:15:30.984Z"
   },
   {
    "duration": 11,
    "start_time": "2022-05-07T21:15:30.996Z"
   },
   {
    "duration": 15,
    "start_time": "2022-05-07T21:15:31.009Z"
   },
   {
    "duration": 7,
    "start_time": "2022-05-07T21:15:31.025Z"
   },
   {
    "duration": 8,
    "start_time": "2022-05-07T21:15:31.034Z"
   },
   {
    "duration": 9,
    "start_time": "2022-05-07T21:15:31.044Z"
   },
   {
    "duration": 15,
    "start_time": "2022-05-07T21:15:31.055Z"
   },
   {
    "duration": 6,
    "start_time": "2022-05-07T21:15:31.072Z"
   },
   {
    "duration": 20,
    "start_time": "2022-05-07T21:15:31.080Z"
   },
   {
    "duration": 305,
    "start_time": "2022-05-07T21:15:31.102Z"
   },
   {
    "duration": 44,
    "start_time": "2022-05-08T14:58:11.660Z"
   },
   {
    "duration": 1147,
    "start_time": "2022-05-08T14:58:29.103Z"
   },
   {
    "duration": 1278,
    "start_time": "2022-05-08T14:58:56.696Z"
   },
   {
    "duration": 30,
    "start_time": "2022-05-08T14:58:57.977Z"
   },
   {
    "duration": 18,
    "start_time": "2022-05-08T14:58:58.009Z"
   },
   {
    "duration": 6,
    "start_time": "2022-05-08T14:58:58.028Z"
   },
   {
    "duration": 12,
    "start_time": "2022-05-08T14:58:58.048Z"
   },
   {
    "duration": 11,
    "start_time": "2022-05-08T14:58:58.061Z"
   },
   {
    "duration": 9,
    "start_time": "2022-05-08T14:58:58.073Z"
   },
   {
    "duration": 6,
    "start_time": "2022-05-08T14:58:58.083Z"
   },
   {
    "duration": 9,
    "start_time": "2022-05-08T14:58:58.090Z"
   },
   {
    "duration": 4,
    "start_time": "2022-05-08T14:58:58.101Z"
   },
   {
    "duration": 1157,
    "start_time": "2022-05-08T14:58:58.107Z"
   },
   {
    "duration": 215,
    "start_time": "2022-05-08T14:58:59.266Z"
   },
   {
    "duration": 122,
    "start_time": "2022-05-08T14:58:59.482Z"
   },
   {
    "duration": 13,
    "start_time": "2022-05-08T15:08:51.343Z"
   },
   {
    "duration": 9,
    "start_time": "2022-05-08T15:11:53.433Z"
   },
   {
    "duration": 3,
    "start_time": "2022-05-08T15:15:00.265Z"
   },
   {
    "duration": 210,
    "start_time": "2022-05-08T15:15:49.157Z"
   },
   {
    "duration": 299,
    "start_time": "2022-05-08T15:16:00.545Z"
   },
   {
    "duration": 250,
    "start_time": "2022-05-08T15:16:21.630Z"
   },
   {
    "duration": 269,
    "start_time": "2022-05-08T15:16:40.803Z"
   },
   {
    "duration": 240,
    "start_time": "2022-05-08T15:17:27.985Z"
   },
   {
    "duration": 409,
    "start_time": "2022-05-08T15:18:59.774Z"
   },
   {
    "duration": 289,
    "start_time": "2022-05-08T15:19:03.558Z"
   },
   {
    "duration": 97,
    "start_time": "2022-05-08T15:19:46.894Z"
   },
   {
    "duration": 256,
    "start_time": "2022-05-08T15:19:50.272Z"
   },
   {
    "duration": 174,
    "start_time": "2022-05-08T15:20:10.312Z"
   },
   {
    "duration": 193,
    "start_time": "2022-05-08T15:20:17.692Z"
   },
   {
    "duration": 183,
    "start_time": "2022-05-08T15:20:56.077Z"
   },
   {
    "duration": 11,
    "start_time": "2022-05-08T15:21:51.490Z"
   },
   {
    "duration": 320,
    "start_time": "2022-05-08T15:22:26.613Z"
   },
   {
    "duration": 4,
    "start_time": "2022-05-08T15:25:59.730Z"
   },
   {
    "duration": 203,
    "start_time": "2022-05-08T15:26:53.998Z"
   },
   {
    "duration": 204,
    "start_time": "2022-05-08T15:27:37.962Z"
   },
   {
    "duration": 347,
    "start_time": "2022-05-08T15:27:44.095Z"
   },
   {
    "duration": 210,
    "start_time": "2022-05-08T15:29:25.958Z"
   },
   {
    "duration": 281,
    "start_time": "2022-05-08T15:38:07.103Z"
   },
   {
    "duration": 109,
    "start_time": "2022-05-08T15:41:09.595Z"
   },
   {
    "duration": 3,
    "start_time": "2022-05-08T15:45:30.983Z"
   },
   {
    "duration": 1727,
    "start_time": "2022-05-08T15:55:25.962Z"
   },
   {
    "duration": 31,
    "start_time": "2022-05-08T15:55:27.691Z"
   },
   {
    "duration": 22,
    "start_time": "2022-05-08T15:55:27.724Z"
   },
   {
    "duration": 9,
    "start_time": "2022-05-08T15:55:27.749Z"
   },
   {
    "duration": 15,
    "start_time": "2022-05-08T15:55:27.760Z"
   },
   {
    "duration": 14,
    "start_time": "2022-05-08T15:55:27.777Z"
   },
   {
    "duration": 8,
    "start_time": "2022-05-08T15:55:27.792Z"
   },
   {
    "duration": 5,
    "start_time": "2022-05-08T15:55:27.802Z"
   },
   {
    "duration": 40,
    "start_time": "2022-05-08T15:55:27.808Z"
   },
   {
    "duration": 6,
    "start_time": "2022-05-08T15:55:27.851Z"
   },
   {
    "duration": 721,
    "start_time": "2022-05-08T15:55:27.859Z"
   },
   {
    "duration": 279,
    "start_time": "2022-05-08T15:55:28.581Z"
   },
   {
    "duration": 9,
    "start_time": "2022-05-08T15:55:28.862Z"
   },
   {
    "duration": 263,
    "start_time": "2022-05-08T15:55:28.872Z"
   },
   {
    "duration": 332,
    "start_time": "2022-05-08T15:55:29.136Z"
   },
   {
    "duration": 220,
    "start_time": "2022-05-08T15:55:29.470Z"
   },
   {
    "duration": 216,
    "start_time": "2022-05-08T15:55:29.691Z"
   },
   {
    "duration": 292,
    "start_time": "2022-05-08T15:55:29.909Z"
   },
   {
    "duration": 6,
    "start_time": "2022-05-08T15:55:30.203Z"
   },
   {
    "duration": 8,
    "start_time": "2022-05-08T15:55:30.210Z"
   },
   {
    "duration": 31,
    "start_time": "2022-05-08T15:55:30.219Z"
   },
   {
    "duration": 4,
    "start_time": "2022-05-08T15:55:30.252Z"
   },
   {
    "duration": 13,
    "start_time": "2022-05-08T15:55:30.258Z"
   },
   {
    "duration": 7,
    "start_time": "2022-05-08T15:55:30.273Z"
   },
   {
    "duration": 11,
    "start_time": "2022-05-08T15:55:30.281Z"
   },
   {
    "duration": 20,
    "start_time": "2022-05-08T15:55:30.294Z"
   },
   {
    "duration": 40,
    "start_time": "2022-05-08T15:55:30.317Z"
   },
   {
    "duration": 24,
    "start_time": "2022-05-08T15:55:30.361Z"
   },
   {
    "duration": 30,
    "start_time": "2022-05-08T15:55:30.387Z"
   },
   {
    "duration": 12,
    "start_time": "2022-05-08T15:55:30.418Z"
   },
   {
    "duration": 19,
    "start_time": "2022-05-08T15:55:30.432Z"
   },
   {
    "duration": 19,
    "start_time": "2022-05-08T15:55:30.453Z"
   },
   {
    "duration": 11,
    "start_time": "2022-05-08T15:55:30.474Z"
   },
   {
    "duration": 6,
    "start_time": "2022-05-08T15:55:30.548Z"
   },
   {
    "duration": 91,
    "start_time": "2022-05-08T15:55:30.556Z"
   },
   {
    "duration": 16,
    "start_time": "2022-05-08T15:55:30.649Z"
   },
   {
    "duration": 15,
    "start_time": "2022-05-08T15:55:30.666Z"
   },
   {
    "duration": 19,
    "start_time": "2022-05-08T15:55:30.683Z"
   },
   {
    "duration": 13,
    "start_time": "2022-05-08T15:55:30.704Z"
   },
   {
    "duration": 11815,
    "start_time": "2022-05-08T15:55:30.718Z"
   },
   {
    "duration": 12,
    "start_time": "2022-05-08T15:55:42.535Z"
   },
   {
    "duration": 2,
    "start_time": "2022-05-08T15:55:42.549Z"
   },
   {
    "duration": 5,
    "start_time": "2022-05-08T15:55:42.553Z"
   },
   {
    "duration": 5,
    "start_time": "2022-05-08T15:55:42.559Z"
   },
   {
    "duration": 4,
    "start_time": "2022-05-08T15:55:42.565Z"
   },
   {
    "duration": 4,
    "start_time": "2022-05-08T15:55:42.570Z"
   },
   {
    "duration": 3,
    "start_time": "2022-05-08T15:55:42.576Z"
   },
   {
    "duration": 813367,
    "start_time": "2022-05-08T15:55:42.581Z"
   },
   {
    "duration": 4,
    "start_time": "2022-05-08T16:09:15.949Z"
   },
   {
    "duration": 7,
    "start_time": "2022-05-08T16:09:15.954Z"
   },
   {
    "duration": 5,
    "start_time": "2022-05-08T16:09:15.962Z"
   },
   {
    "duration": 6,
    "start_time": "2022-05-08T16:09:15.968Z"
   },
   {
    "duration": 5,
    "start_time": "2022-05-08T16:09:15.976Z"
   },
   {
    "duration": 10,
    "start_time": "2022-05-08T16:09:15.982Z"
   },
   {
    "duration": 5,
    "start_time": "2022-05-08T16:09:15.994Z"
   },
   {
    "duration": 7,
    "start_time": "2022-05-08T16:09:16.001Z"
   },
   {
    "duration": 4,
    "start_time": "2022-05-08T16:09:16.010Z"
   },
   {
    "duration": 33,
    "start_time": "2022-05-08T16:09:16.016Z"
   },
   {
    "duration": 4,
    "start_time": "2022-05-08T16:09:16.052Z"
   },
   {
    "duration": 8,
    "start_time": "2022-05-08T16:09:16.057Z"
   },
   {
    "duration": 3,
    "start_time": "2022-05-08T16:09:16.067Z"
   },
   {
    "duration": 6,
    "start_time": "2022-05-08T16:09:16.072Z"
   },
   {
    "duration": 5,
    "start_time": "2022-05-08T16:09:16.079Z"
   },
   {
    "duration": 283,
    "start_time": "2022-05-08T16:09:16.086Z"
   },
   {
    "duration": 1665,
    "start_time": "2022-05-08T16:12:40.349Z"
   },
   {
    "duration": 27,
    "start_time": "2022-05-08T16:12:42.016Z"
   },
   {
    "duration": 13,
    "start_time": "2022-05-08T16:12:42.044Z"
   },
   {
    "duration": 7,
    "start_time": "2022-05-08T16:12:42.059Z"
   },
   {
    "duration": 14,
    "start_time": "2022-05-08T16:12:42.069Z"
   },
   {
    "duration": 13,
    "start_time": "2022-05-08T16:12:42.085Z"
   },
   {
    "duration": 8,
    "start_time": "2022-05-08T16:12:42.100Z"
   },
   {
    "duration": 38,
    "start_time": "2022-05-08T16:12:42.110Z"
   },
   {
    "duration": 9,
    "start_time": "2022-05-08T16:12:42.150Z"
   },
   {
    "duration": 5,
    "start_time": "2022-05-08T16:12:42.160Z"
   },
   {
    "duration": 774,
    "start_time": "2022-05-08T16:12:42.167Z"
   },
   {
    "duration": 306,
    "start_time": "2022-05-08T16:12:42.942Z"
   },
   {
    "duration": 10,
    "start_time": "2022-05-08T16:12:43.250Z"
   },
   {
    "duration": 302,
    "start_time": "2022-05-08T16:12:43.263Z"
   },
   {
    "duration": 350,
    "start_time": "2022-05-08T16:12:43.567Z"
   },
   {
    "duration": 229,
    "start_time": "2022-05-08T16:12:43.919Z"
   },
   {
    "duration": 227,
    "start_time": "2022-05-08T16:12:44.149Z"
   },
   {
    "duration": 310,
    "start_time": "2022-05-08T16:12:44.378Z"
   },
   {
    "duration": 6,
    "start_time": "2022-05-08T16:12:44.689Z"
   },
   {
    "duration": 4,
    "start_time": "2022-05-08T16:12:44.697Z"
   },
   {
    "duration": 19,
    "start_time": "2022-05-08T16:12:44.703Z"
   },
   {
    "duration": 26,
    "start_time": "2022-05-08T16:12:44.724Z"
   },
   {
    "duration": 6,
    "start_time": "2022-05-08T16:12:44.752Z"
   },
   {
    "duration": 4,
    "start_time": "2022-05-08T16:12:44.759Z"
   },
   {
    "duration": 7,
    "start_time": "2022-05-08T16:12:44.764Z"
   },
   {
    "duration": 5,
    "start_time": "2022-05-08T16:12:44.773Z"
   },
   {
    "duration": 28,
    "start_time": "2022-05-08T16:12:44.780Z"
   },
   {
    "duration": 52,
    "start_time": "2022-05-08T16:12:44.809Z"
   },
   {
    "duration": 26,
    "start_time": "2022-05-08T16:12:44.863Z"
   },
   {
    "duration": 6,
    "start_time": "2022-05-08T16:12:44.890Z"
   },
   {
    "duration": 6,
    "start_time": "2022-05-08T16:12:44.897Z"
   },
   {
    "duration": 51,
    "start_time": "2022-05-08T16:12:44.904Z"
   },
   {
    "duration": 97,
    "start_time": "2022-05-08T16:12:44.958Z"
   },
   {
    "duration": 95,
    "start_time": "2022-05-08T16:12:45.057Z"
   },
   {
    "duration": 98,
    "start_time": "2022-05-08T16:12:45.158Z"
   },
   {
    "duration": 4,
    "start_time": "2022-05-08T16:12:45.258Z"
   },
   {
    "duration": 5,
    "start_time": "2022-05-08T16:12:45.264Z"
   },
   {
    "duration": 7,
    "start_time": "2022-05-08T16:12:45.271Z"
   },
   {
    "duration": 6,
    "start_time": "2022-05-08T16:12:45.279Z"
   },
   {
    "duration": 14680,
    "start_time": "2022-05-08T16:12:45.286Z"
   },
   {
    "duration": 6,
    "start_time": "2022-05-08T16:12:59.971Z"
   },
   {
    "duration": 5,
    "start_time": "2022-05-08T16:12:59.978Z"
   },
   {
    "duration": 6,
    "start_time": "2022-05-08T16:12:59.984Z"
   },
   {
    "duration": 3,
    "start_time": "2022-05-08T16:12:59.992Z"
   },
   {
    "duration": 6,
    "start_time": "2022-05-08T16:12:59.997Z"
   },
   {
    "duration": 5,
    "start_time": "2022-05-08T16:13:00.005Z"
   },
   {
    "duration": 5,
    "start_time": "2022-05-08T16:13:00.012Z"
   },
   {
    "duration": 1108684,
    "start_time": "2022-05-08T16:13:00.019Z"
   },
   {
    "duration": 5,
    "start_time": "2022-05-08T16:31:28.705Z"
   },
   {
    "duration": 7,
    "start_time": "2022-05-08T16:31:28.712Z"
   },
   {
    "duration": 4,
    "start_time": "2022-05-08T16:31:28.720Z"
   },
   {
    "duration": 5,
    "start_time": "2022-05-08T16:31:28.726Z"
   },
   {
    "duration": 6,
    "start_time": "2022-05-08T16:31:28.732Z"
   },
   {
    "duration": 13,
    "start_time": "2022-05-08T16:31:28.739Z"
   },
   {
    "duration": 14,
    "start_time": "2022-05-08T16:31:28.754Z"
   },
   {
    "duration": 5,
    "start_time": "2022-05-08T16:31:28.770Z"
   },
   {
    "duration": 4,
    "start_time": "2022-05-08T16:31:28.776Z"
   },
   {
    "duration": 5,
    "start_time": "2022-05-08T16:31:28.781Z"
   },
   {
    "duration": 5,
    "start_time": "2022-05-08T16:31:28.788Z"
   },
   {
    "duration": 8,
    "start_time": "2022-05-08T16:31:28.795Z"
   },
   {
    "duration": 5,
    "start_time": "2022-05-08T16:31:28.804Z"
   },
   {
    "duration": 6,
    "start_time": "2022-05-08T16:31:28.810Z"
   },
   {
    "duration": 6,
    "start_time": "2022-05-08T16:31:28.817Z"
   },
   {
    "duration": 271,
    "start_time": "2022-05-08T16:31:28.825Z"
   },
   {
    "duration": 1480,
    "start_time": "2022-05-08T16:34:00.566Z"
   },
   {
    "duration": 33,
    "start_time": "2022-05-08T16:34:02.050Z"
   },
   {
    "duration": 16,
    "start_time": "2022-05-08T16:34:02.085Z"
   },
   {
    "duration": 9,
    "start_time": "2022-05-08T16:34:02.103Z"
   },
   {
    "duration": 15,
    "start_time": "2022-05-08T16:34:02.114Z"
   },
   {
    "duration": 26,
    "start_time": "2022-05-08T16:34:02.131Z"
   },
   {
    "duration": 14,
    "start_time": "2022-05-08T16:34:02.159Z"
   },
   {
    "duration": 4,
    "start_time": "2022-05-08T16:34:02.175Z"
   },
   {
    "duration": 11,
    "start_time": "2022-05-08T16:34:02.181Z"
   },
   {
    "duration": 6,
    "start_time": "2022-05-08T16:34:02.195Z"
   },
   {
    "duration": 1027,
    "start_time": "2022-05-08T16:34:02.202Z"
   },
   {
    "duration": 397,
    "start_time": "2022-05-08T16:34:03.231Z"
   },
   {
    "duration": 8,
    "start_time": "2022-05-08T16:34:03.631Z"
   },
   {
    "duration": 282,
    "start_time": "2022-05-08T16:34:03.641Z"
   },
   {
    "duration": 365,
    "start_time": "2022-05-08T16:34:03.925Z"
   },
   {
    "duration": 311,
    "start_time": "2022-05-08T16:34:04.292Z"
   },
   {
    "duration": 310,
    "start_time": "2022-05-08T16:34:04.605Z"
   },
   {
    "duration": 417,
    "start_time": "2022-05-08T16:34:04.917Z"
   },
   {
    "duration": 16,
    "start_time": "2022-05-08T16:34:05.336Z"
   },
   {
    "duration": 14,
    "start_time": "2022-05-08T16:34:05.353Z"
   },
   {
    "duration": 26,
    "start_time": "2022-05-08T16:34:05.369Z"
   },
   {
    "duration": 5,
    "start_time": "2022-05-08T16:34:05.397Z"
   },
   {
    "duration": 6,
    "start_time": "2022-05-08T16:34:05.404Z"
   },
   {
    "duration": 8,
    "start_time": "2022-05-08T16:34:05.411Z"
   },
   {
    "duration": 5,
    "start_time": "2022-05-08T16:34:05.420Z"
   },
   {
    "duration": 23,
    "start_time": "2022-05-08T16:34:05.427Z"
   },
   {
    "duration": 46,
    "start_time": "2022-05-08T16:34:05.452Z"
   },
   {
    "duration": 34,
    "start_time": "2022-05-08T16:34:05.503Z"
   },
   {
    "duration": 37,
    "start_time": "2022-05-08T16:34:05.538Z"
   },
   {
    "duration": 5,
    "start_time": "2022-05-08T16:34:05.577Z"
   },
   {
    "duration": 4,
    "start_time": "2022-05-08T16:34:05.584Z"
   },
   {
    "duration": 11,
    "start_time": "2022-05-08T16:34:05.590Z"
   },
   {
    "duration": 50,
    "start_time": "2022-05-08T16:34:05.603Z"
   },
   {
    "duration": 89,
    "start_time": "2022-05-08T16:34:05.660Z"
   },
   {
    "duration": 3,
    "start_time": "2022-05-08T16:34:05.756Z"
   },
   {
    "duration": 9,
    "start_time": "2022-05-08T16:34:05.760Z"
   },
   {
    "duration": 5,
    "start_time": "2022-05-08T16:34:05.771Z"
   },
   {
    "duration": 6,
    "start_time": "2022-05-08T16:34:05.777Z"
   },
   {
    "duration": 6,
    "start_time": "2022-05-08T16:34:05.784Z"
   },
   {
    "duration": 20382,
    "start_time": "2022-05-08T16:34:05.791Z"
   },
   {
    "duration": 6,
    "start_time": "2022-05-08T16:34:26.175Z"
   },
   {
    "duration": 5,
    "start_time": "2022-05-08T16:34:26.183Z"
   },
   {
    "duration": 5,
    "start_time": "2022-05-08T16:34:26.190Z"
   },
   {
    "duration": 4,
    "start_time": "2022-05-08T16:34:26.197Z"
   },
   {
    "duration": 4,
    "start_time": "2022-05-08T16:34:26.202Z"
   },
   {
    "duration": 8,
    "start_time": "2022-05-08T16:34:26.207Z"
   },
   {
    "duration": 6,
    "start_time": "2022-05-08T16:34:26.216Z"
   },
   {
    "duration": 1077177,
    "start_time": "2022-05-08T16:34:26.224Z"
   },
   {
    "duration": 5,
    "start_time": "2022-05-08T16:52:23.402Z"
   },
   {
    "duration": 6,
    "start_time": "2022-05-08T16:52:23.409Z"
   },
   {
    "duration": 4,
    "start_time": "2022-05-08T16:52:23.416Z"
   },
   {
    "duration": 6,
    "start_time": "2022-05-08T16:52:23.422Z"
   },
   {
    "duration": 5,
    "start_time": "2022-05-08T16:52:23.430Z"
   },
   {
    "duration": 8,
    "start_time": "2022-05-08T16:52:23.436Z"
   },
   {
    "duration": 4,
    "start_time": "2022-05-08T16:52:23.446Z"
   },
   {
    "duration": 6,
    "start_time": "2022-05-08T16:52:23.451Z"
   },
   {
    "duration": 8,
    "start_time": "2022-05-08T16:52:23.458Z"
   },
   {
    "duration": 6,
    "start_time": "2022-05-08T16:52:23.468Z"
   },
   {
    "duration": 6,
    "start_time": "2022-05-08T16:52:23.475Z"
   },
   {
    "duration": 8,
    "start_time": "2022-05-08T16:52:23.483Z"
   },
   {
    "duration": 3,
    "start_time": "2022-05-08T16:52:23.493Z"
   },
   {
    "duration": 8,
    "start_time": "2022-05-08T16:52:23.498Z"
   },
   {
    "duration": 6,
    "start_time": "2022-05-08T16:52:23.507Z"
   },
   {
    "duration": 275,
    "start_time": "2022-05-08T16:52:23.514Z"
   },
   {
    "duration": 1398,
    "start_time": "2022-05-08T16:53:58.133Z"
   },
   {
    "duration": 25,
    "start_time": "2022-05-08T16:53:59.533Z"
   },
   {
    "duration": 12,
    "start_time": "2022-05-08T16:53:59.560Z"
   },
   {
    "duration": 7,
    "start_time": "2022-05-08T16:53:59.574Z"
   },
   {
    "duration": 12,
    "start_time": "2022-05-08T16:53:59.582Z"
   },
   {
    "duration": 11,
    "start_time": "2022-05-08T16:53:59.596Z"
   },
   {
    "duration": 42,
    "start_time": "2022-05-08T16:53:59.609Z"
   },
   {
    "duration": 4,
    "start_time": "2022-05-08T16:53:59.653Z"
   },
   {
    "duration": 9,
    "start_time": "2022-05-08T16:53:59.659Z"
   },
   {
    "duration": 6,
    "start_time": "2022-05-08T16:53:59.671Z"
   },
   {
    "duration": 747,
    "start_time": "2022-05-08T16:53:59.678Z"
   },
   {
    "duration": 289,
    "start_time": "2022-05-08T16:54:00.427Z"
   },
   {
    "duration": 9,
    "start_time": "2022-05-08T16:54:00.718Z"
   },
   {
    "duration": 271,
    "start_time": "2022-05-08T16:54:00.728Z"
   },
   {
    "duration": 349,
    "start_time": "2022-05-08T16:54:01.001Z"
   },
   {
    "duration": 226,
    "start_time": "2022-05-08T16:54:01.353Z"
   },
   {
    "duration": 223,
    "start_time": "2022-05-08T16:54:01.581Z"
   },
   {
    "duration": 302,
    "start_time": "2022-05-08T16:54:01.806Z"
   },
   {
    "duration": 6,
    "start_time": "2022-05-08T16:54:02.110Z"
   },
   {
    "duration": 4,
    "start_time": "2022-05-08T16:54:02.118Z"
   },
   {
    "duration": 34,
    "start_time": "2022-05-08T16:54:02.124Z"
   },
   {
    "duration": 4,
    "start_time": "2022-05-08T16:54:02.160Z"
   },
   {
    "duration": 7,
    "start_time": "2022-05-08T16:54:02.166Z"
   },
   {
    "duration": 6,
    "start_time": "2022-05-08T16:54:02.174Z"
   },
   {
    "duration": 5,
    "start_time": "2022-05-08T16:54:02.182Z"
   },
   {
    "duration": 6,
    "start_time": "2022-05-08T16:54:02.189Z"
   },
   {
    "duration": 52,
    "start_time": "2022-05-08T16:54:02.196Z"
   },
   {
    "duration": 25,
    "start_time": "2022-05-08T16:54:02.252Z"
   },
   {
    "duration": 25,
    "start_time": "2022-05-08T16:54:02.279Z"
   },
   {
    "duration": 7,
    "start_time": "2022-05-08T16:54:02.306Z"
   },
   {
    "duration": 32,
    "start_time": "2022-05-08T16:54:02.315Z"
   },
   {
    "duration": 9,
    "start_time": "2022-05-08T16:54:02.349Z"
   },
   {
    "duration": 87,
    "start_time": "2022-05-08T16:54:02.361Z"
   },
   {
    "duration": 10,
    "start_time": "2022-05-08T16:54:02.450Z"
   },
   {
    "duration": 89,
    "start_time": "2022-05-08T16:54:02.462Z"
   },
   {
    "duration": 6,
    "start_time": "2022-05-08T16:54:02.552Z"
   },
   {
    "duration": 8,
    "start_time": "2022-05-08T16:54:02.559Z"
   },
   {
    "duration": 5,
    "start_time": "2022-05-08T16:54:02.568Z"
   },
   {
    "duration": 4,
    "start_time": "2022-05-08T16:54:02.574Z"
   },
   {
    "duration": 1384,
    "start_time": "2022-05-08T16:54:22.012Z"
   },
   {
    "duration": 26,
    "start_time": "2022-05-08T16:54:23.398Z"
   },
   {
    "duration": 13,
    "start_time": "2022-05-08T16:54:23.425Z"
   },
   {
    "duration": 7,
    "start_time": "2022-05-08T16:54:23.448Z"
   },
   {
    "duration": 13,
    "start_time": "2022-05-08T16:54:23.457Z"
   },
   {
    "duration": 12,
    "start_time": "2022-05-08T16:54:23.472Z"
   },
   {
    "duration": 9,
    "start_time": "2022-05-08T16:54:23.486Z"
   },
   {
    "duration": 5,
    "start_time": "2022-05-08T16:54:23.497Z"
   },
   {
    "duration": 44,
    "start_time": "2022-05-08T16:54:23.503Z"
   },
   {
    "duration": 4,
    "start_time": "2022-05-08T16:54:23.551Z"
   },
   {
    "duration": 733,
    "start_time": "2022-05-08T16:54:23.556Z"
   },
   {
    "duration": 269,
    "start_time": "2022-05-08T16:54:24.291Z"
   },
   {
    "duration": 8,
    "start_time": "2022-05-08T16:54:24.562Z"
   },
   {
    "duration": 269,
    "start_time": "2022-05-08T16:54:24.572Z"
   },
   {
    "duration": 337,
    "start_time": "2022-05-08T16:54:24.842Z"
   },
   {
    "duration": 216,
    "start_time": "2022-05-08T16:54:25.181Z"
   },
   {
    "duration": 224,
    "start_time": "2022-05-08T16:54:25.399Z"
   },
   {
    "duration": 300,
    "start_time": "2022-05-08T16:54:25.625Z"
   },
   {
    "duration": 6,
    "start_time": "2022-05-08T16:54:25.927Z"
   },
   {
    "duration": 14,
    "start_time": "2022-05-08T16:54:25.934Z"
   },
   {
    "duration": 18,
    "start_time": "2022-05-08T16:54:25.950Z"
   },
   {
    "duration": 4,
    "start_time": "2022-05-08T16:54:25.970Z"
   },
   {
    "duration": 5,
    "start_time": "2022-05-08T16:54:25.976Z"
   },
   {
    "duration": 4,
    "start_time": "2022-05-08T16:54:25.982Z"
   },
   {
    "duration": 5,
    "start_time": "2022-05-08T16:54:25.987Z"
   },
   {
    "duration": 6,
    "start_time": "2022-05-08T16:54:25.994Z"
   },
   {
    "duration": 71,
    "start_time": "2022-05-08T16:54:26.001Z"
   },
   {
    "duration": 25,
    "start_time": "2022-05-08T16:54:26.077Z"
   },
   {
    "duration": 46,
    "start_time": "2022-05-08T16:54:26.104Z"
   },
   {
    "duration": 7,
    "start_time": "2022-05-08T16:54:26.151Z"
   },
   {
    "duration": 5,
    "start_time": "2022-05-08T16:54:26.159Z"
   },
   {
    "duration": 10,
    "start_time": "2022-05-08T16:54:26.165Z"
   },
   {
    "duration": 74,
    "start_time": "2022-05-08T16:54:26.178Z"
   },
   {
    "duration": 93,
    "start_time": "2022-05-08T16:54:26.255Z"
   },
   {
    "duration": 5,
    "start_time": "2022-05-08T16:54:26.350Z"
   },
   {
    "duration": 5,
    "start_time": "2022-05-08T16:54:26.356Z"
   },
   {
    "duration": 5,
    "start_time": "2022-05-08T16:54:26.362Z"
   },
   {
    "duration": 3,
    "start_time": "2022-05-08T16:54:26.369Z"
   },
   {
    "duration": 4,
    "start_time": "2022-05-08T16:54:26.374Z"
   },
   {
    "duration": 26169,
    "start_time": "2022-05-08T16:54:26.380Z"
   },
   {
    "duration": 8,
    "start_time": "2022-05-08T16:54:52.551Z"
   },
   {
    "duration": 4,
    "start_time": "2022-05-08T16:54:52.561Z"
   },
   {
    "duration": 4,
    "start_time": "2022-05-08T16:54:52.567Z"
   },
   {
    "duration": 5,
    "start_time": "2022-05-08T16:54:52.573Z"
   },
   {
    "duration": 4,
    "start_time": "2022-05-08T16:54:52.580Z"
   },
   {
    "duration": 4,
    "start_time": "2022-05-08T16:54:52.585Z"
   },
   {
    "duration": 4,
    "start_time": "2022-05-08T16:54:52.591Z"
   },
   {
    "duration": 1449,
    "start_time": "2022-05-08T16:58:13.442Z"
   },
   {
    "duration": 24,
    "start_time": "2022-05-08T16:58:14.893Z"
   },
   {
    "duration": 11,
    "start_time": "2022-05-08T16:58:14.919Z"
   },
   {
    "duration": 6,
    "start_time": "2022-05-08T16:58:14.932Z"
   },
   {
    "duration": 12,
    "start_time": "2022-05-08T16:58:14.947Z"
   },
   {
    "duration": 10,
    "start_time": "2022-05-08T16:58:14.960Z"
   },
   {
    "duration": 10,
    "start_time": "2022-05-08T16:58:14.971Z"
   },
   {
    "duration": 4,
    "start_time": "2022-05-08T16:58:14.983Z"
   },
   {
    "duration": 9,
    "start_time": "2022-05-08T16:58:14.989Z"
   },
   {
    "duration": 7,
    "start_time": "2022-05-08T16:58:15.001Z"
   },
   {
    "duration": 761,
    "start_time": "2022-05-08T16:58:15.009Z"
   },
   {
    "duration": 276,
    "start_time": "2022-05-08T16:58:15.772Z"
   },
   {
    "duration": 11,
    "start_time": "2022-05-08T16:58:16.050Z"
   },
   {
    "duration": 287,
    "start_time": "2022-05-08T16:58:16.063Z"
   },
   {
    "duration": 346,
    "start_time": "2022-05-08T16:58:16.353Z"
   },
   {
    "duration": 217,
    "start_time": "2022-05-08T16:58:16.701Z"
   },
   {
    "duration": 222,
    "start_time": "2022-05-08T16:58:16.920Z"
   },
   {
    "duration": 292,
    "start_time": "2022-05-08T16:58:17.146Z"
   },
   {
    "duration": 6,
    "start_time": "2022-05-08T16:58:17.447Z"
   },
   {
    "duration": 4,
    "start_time": "2022-05-08T16:58:17.454Z"
   },
   {
    "duration": 16,
    "start_time": "2022-05-08T16:58:17.460Z"
   },
   {
    "duration": 5,
    "start_time": "2022-05-08T16:58:17.478Z"
   },
   {
    "duration": 5,
    "start_time": "2022-05-08T16:58:17.484Z"
   },
   {
    "duration": 3,
    "start_time": "2022-05-08T16:58:17.491Z"
   },
   {
    "duration": 5,
    "start_time": "2022-05-08T16:58:17.495Z"
   },
   {
    "duration": 5,
    "start_time": "2022-05-08T16:58:17.502Z"
   },
   {
    "duration": 58,
    "start_time": "2022-05-08T16:58:17.509Z"
   },
   {
    "duration": 24,
    "start_time": "2022-05-08T16:58:17.571Z"
   },
   {
    "duration": 23,
    "start_time": "2022-05-08T16:58:17.597Z"
   },
   {
    "duration": 28,
    "start_time": "2022-05-08T16:58:17.622Z"
   },
   {
    "duration": 5,
    "start_time": "2022-05-08T16:58:17.652Z"
   },
   {
    "duration": 17,
    "start_time": "2022-05-08T16:58:17.659Z"
   },
   {
    "duration": 74,
    "start_time": "2022-05-08T16:58:17.678Z"
   },
   {
    "duration": 94,
    "start_time": "2022-05-08T16:58:17.754Z"
   },
   {
    "duration": 6,
    "start_time": "2022-05-08T16:58:17.849Z"
   },
   {
    "duration": 6,
    "start_time": "2022-05-08T16:58:17.856Z"
   },
   {
    "duration": 7,
    "start_time": "2022-05-08T16:58:17.863Z"
   },
   {
    "duration": 4,
    "start_time": "2022-05-08T16:58:17.871Z"
   },
   {
    "duration": 6,
    "start_time": "2022-05-08T16:58:17.876Z"
   },
   {
    "duration": 19557,
    "start_time": "2022-05-08T16:58:17.883Z"
   },
   {
    "duration": 11,
    "start_time": "2022-05-08T16:58:37.441Z"
   },
   {
    "duration": 3,
    "start_time": "2022-05-08T16:58:37.454Z"
   },
   {
    "duration": 4,
    "start_time": "2022-05-08T16:58:37.459Z"
   },
   {
    "duration": 4,
    "start_time": "2022-05-08T16:58:37.465Z"
   },
   {
    "duration": 4,
    "start_time": "2022-05-08T16:58:37.471Z"
   },
   {
    "duration": 6,
    "start_time": "2022-05-08T16:58:37.477Z"
   },
   {
    "duration": 5,
    "start_time": "2022-05-08T16:58:37.484Z"
   },
   {
    "duration": 1670429,
    "start_time": "2022-05-08T16:58:37.490Z"
   },
   {
    "duration": 5,
    "start_time": "2022-05-08T17:26:27.921Z"
   },
   {
    "duration": 9,
    "start_time": "2022-05-08T17:26:27.927Z"
   },
   {
    "duration": 4,
    "start_time": "2022-05-08T17:26:27.938Z"
   },
   {
    "duration": 5,
    "start_time": "2022-05-08T17:26:27.944Z"
   },
   {
    "duration": 6,
    "start_time": "2022-05-08T17:26:27.950Z"
   },
   {
    "duration": 19,
    "start_time": "2022-05-08T17:26:27.957Z"
   },
   {
    "duration": 12,
    "start_time": "2022-05-08T17:26:27.978Z"
   },
   {
    "duration": 9,
    "start_time": "2022-05-08T17:26:27.992Z"
   },
   {
    "duration": 11,
    "start_time": "2022-05-08T17:26:28.003Z"
   },
   {
    "duration": 7,
    "start_time": "2022-05-08T17:26:28.016Z"
   },
   {
    "duration": 9,
    "start_time": "2022-05-08T17:26:28.025Z"
   },
   {
    "duration": 10,
    "start_time": "2022-05-08T17:26:28.037Z"
   },
   {
    "duration": 4,
    "start_time": "2022-05-08T17:26:28.049Z"
   },
   {
    "duration": 5,
    "start_time": "2022-05-08T17:26:28.055Z"
   },
   {
    "duration": 11,
    "start_time": "2022-05-08T17:26:28.062Z"
   },
   {
    "duration": 266,
    "start_time": "2022-05-08T17:26:28.074Z"
   },
   {
    "duration": 108,
    "start_time": "2022-05-08T17:28:01.913Z"
   },
   {
    "duration": 3,
    "start_time": "2022-05-08T17:28:13.506Z"
   },
   {
    "duration": 3,
    "start_time": "2022-05-08T17:28:14.143Z"
   },
   {
    "duration": 1465,
    "start_time": "2022-05-08T17:28:21.125Z"
   },
   {
    "duration": 26,
    "start_time": "2022-05-08T17:28:22.592Z"
   },
   {
    "duration": 12,
    "start_time": "2022-05-08T17:28:22.620Z"
   },
   {
    "duration": 8,
    "start_time": "2022-05-08T17:28:22.647Z"
   },
   {
    "duration": 18,
    "start_time": "2022-05-08T17:28:22.656Z"
   },
   {
    "duration": 11,
    "start_time": "2022-05-08T17:28:22.675Z"
   },
   {
    "duration": 10,
    "start_time": "2022-05-08T17:28:22.688Z"
   },
   {
    "duration": 6,
    "start_time": "2022-05-08T17:28:22.700Z"
   },
   {
    "duration": 13,
    "start_time": "2022-05-08T17:28:22.708Z"
   },
   {
    "duration": 5,
    "start_time": "2022-05-08T17:28:22.750Z"
   },
   {
    "duration": 830,
    "start_time": "2022-05-08T17:28:22.757Z"
   },
   {
    "duration": 279,
    "start_time": "2022-05-08T17:28:23.589Z"
   },
   {
    "duration": 8,
    "start_time": "2022-05-08T17:28:23.870Z"
   },
   {
    "duration": 260,
    "start_time": "2022-05-08T17:28:23.880Z"
   },
   {
    "duration": 332,
    "start_time": "2022-05-08T17:28:24.142Z"
   },
   {
    "duration": 225,
    "start_time": "2022-05-08T17:28:24.476Z"
   },
   {
    "duration": 223,
    "start_time": "2022-05-08T17:28:24.703Z"
   },
   {
    "duration": 306,
    "start_time": "2022-05-08T17:28:24.928Z"
   },
   {
    "duration": 16,
    "start_time": "2022-05-08T17:28:25.236Z"
   },
   {
    "duration": 4,
    "start_time": "2022-05-08T17:28:25.254Z"
   },
   {
    "duration": 17,
    "start_time": "2022-05-08T17:28:25.260Z"
   },
   {
    "duration": 5,
    "start_time": "2022-05-08T17:28:25.279Z"
   },
   {
    "duration": 5,
    "start_time": "2022-05-08T17:28:25.285Z"
   },
   {
    "duration": 5,
    "start_time": "2022-05-08T17:28:25.292Z"
   },
   {
    "duration": 6,
    "start_time": "2022-05-08T17:28:25.298Z"
   },
   {
    "duration": 5,
    "start_time": "2022-05-08T17:28:25.306Z"
   },
   {
    "duration": 58,
    "start_time": "2022-05-08T17:28:25.313Z"
   },
   {
    "duration": 24,
    "start_time": "2022-05-08T17:28:25.374Z"
   },
   {
    "duration": 23,
    "start_time": "2022-05-08T17:28:25.400Z"
   },
   {
    "duration": 7,
    "start_time": "2022-05-08T17:28:25.449Z"
   },
   {
    "duration": 8,
    "start_time": "2022-05-08T17:28:25.458Z"
   },
   {
    "duration": 10,
    "start_time": "2022-05-08T17:28:25.468Z"
   },
   {
    "duration": 70,
    "start_time": "2022-05-08T17:28:25.480Z"
   },
   {
    "duration": 7,
    "start_time": "2022-05-08T17:28:25.552Z"
   },
   {
    "duration": 89,
    "start_time": "2022-05-08T17:28:25.560Z"
   },
   {
    "duration": 5,
    "start_time": "2022-05-08T17:28:25.651Z"
   },
   {
    "duration": 6,
    "start_time": "2022-05-08T17:28:25.658Z"
   },
   {
    "duration": 5,
    "start_time": "2022-05-08T17:28:25.666Z"
   },
   {
    "duration": 8,
    "start_time": "2022-05-08T17:28:25.672Z"
   },
   {
    "duration": 25639,
    "start_time": "2022-05-08T17:28:25.681Z"
   },
   {
    "duration": 8,
    "start_time": "2022-05-08T17:28:51.323Z"
   },
   {
    "duration": 8,
    "start_time": "2022-05-08T17:28:51.332Z"
   },
   {
    "duration": 6,
    "start_time": "2022-05-08T17:28:51.347Z"
   },
   {
    "duration": 7,
    "start_time": "2022-05-08T17:28:51.354Z"
   },
   {
    "duration": 7,
    "start_time": "2022-05-08T17:28:51.363Z"
   },
   {
    "duration": 4,
    "start_time": "2022-05-08T17:28:51.372Z"
   },
   {
    "duration": 4,
    "start_time": "2022-05-08T17:28:51.378Z"
   },
   {
    "duration": 733,
    "start_time": "2022-05-08T17:28:51.384Z"
   },
   {
    "duration": 0,
    "start_time": "2022-05-08T17:28:52.119Z"
   },
   {
    "duration": 0,
    "start_time": "2022-05-08T17:28:52.120Z"
   },
   {
    "duration": 0,
    "start_time": "2022-05-08T17:28:52.121Z"
   },
   {
    "duration": 0,
    "start_time": "2022-05-08T17:28:52.122Z"
   },
   {
    "duration": 0,
    "start_time": "2022-05-08T17:28:52.124Z"
   },
   {
    "duration": 0,
    "start_time": "2022-05-08T17:28:52.125Z"
   },
   {
    "duration": 0,
    "start_time": "2022-05-08T17:28:52.126Z"
   },
   {
    "duration": 0,
    "start_time": "2022-05-08T17:28:52.128Z"
   },
   {
    "duration": 0,
    "start_time": "2022-05-08T17:28:52.129Z"
   },
   {
    "duration": 0,
    "start_time": "2022-05-08T17:28:52.130Z"
   },
   {
    "duration": 0,
    "start_time": "2022-05-08T17:28:52.149Z"
   },
   {
    "duration": 0,
    "start_time": "2022-05-08T17:28:52.150Z"
   },
   {
    "duration": 0,
    "start_time": "2022-05-08T17:28:52.151Z"
   },
   {
    "duration": 0,
    "start_time": "2022-05-08T17:28:52.153Z"
   },
   {
    "duration": 0,
    "start_time": "2022-05-08T17:28:52.154Z"
   },
   {
    "duration": 0,
    "start_time": "2022-05-08T17:28:52.155Z"
   },
   {
    "duration": 3,
    "start_time": "2022-05-08T17:31:11.793Z"
   },
   {
    "duration": 3,
    "start_time": "2022-05-08T17:31:13.286Z"
   },
   {
    "duration": 12589,
    "start_time": "2022-05-08T17:31:14.505Z"
   },
   {
    "duration": 4,
    "start_time": "2022-05-08T17:31:33.449Z"
   },
   {
    "duration": 6,
    "start_time": "2022-05-08T17:31:33.909Z"
   },
   {
    "duration": 4,
    "start_time": "2022-05-08T17:31:34.886Z"
   },
   {
    "duration": 3,
    "start_time": "2022-05-08T17:31:35.352Z"
   },
   {
    "duration": 4,
    "start_time": "2022-05-08T17:31:36.462Z"
   },
   {
    "duration": 7,
    "start_time": "2022-05-08T17:31:36.825Z"
   },
   {
    "duration": 3,
    "start_time": "2022-05-08T17:31:37.714Z"
   },
   {
    "duration": 4,
    "start_time": "2022-05-08T17:31:38.025Z"
   },
   {
    "duration": 3,
    "start_time": "2022-05-08T17:31:38.184Z"
   },
   {
    "duration": 4,
    "start_time": "2022-05-08T17:31:38.383Z"
   },
   {
    "duration": 4,
    "start_time": "2022-05-08T17:31:38.675Z"
   },
   {
    "duration": 8,
    "start_time": "2022-05-08T17:31:43.277Z"
   },
   {
    "duration": 3,
    "start_time": "2022-05-08T17:31:43.954Z"
   },
   {
    "duration": 1730,
    "start_time": "2022-05-08T17:32:08.808Z"
   },
   {
    "duration": 36,
    "start_time": "2022-05-08T17:32:10.540Z"
   },
   {
    "duration": 15,
    "start_time": "2022-05-08T17:32:10.578Z"
   },
   {
    "duration": 9,
    "start_time": "2022-05-08T17:32:10.595Z"
   },
   {
    "duration": 14,
    "start_time": "2022-05-08T17:32:10.605Z"
   },
   {
    "duration": 32,
    "start_time": "2022-05-08T17:32:10.620Z"
   },
   {
    "duration": 11,
    "start_time": "2022-05-08T17:32:10.653Z"
   },
   {
    "duration": 4,
    "start_time": "2022-05-08T17:32:10.666Z"
   },
   {
    "duration": 12,
    "start_time": "2022-05-08T17:32:10.671Z"
   },
   {
    "duration": 4,
    "start_time": "2022-05-08T17:32:10.685Z"
   },
   {
    "duration": 775,
    "start_time": "2022-05-08T17:32:10.691Z"
   },
   {
    "duration": 276,
    "start_time": "2022-05-08T17:32:11.468Z"
   },
   {
    "duration": 9,
    "start_time": "2022-05-08T17:32:11.746Z"
   },
   {
    "duration": 278,
    "start_time": "2022-05-08T17:32:11.757Z"
   },
   {
    "duration": 330,
    "start_time": "2022-05-08T17:32:12.037Z"
   },
   {
    "duration": 215,
    "start_time": "2022-05-08T17:32:12.369Z"
   },
   {
    "duration": 214,
    "start_time": "2022-05-08T17:32:12.586Z"
   },
   {
    "duration": 296,
    "start_time": "2022-05-08T17:32:12.802Z"
   },
   {
    "duration": 5,
    "start_time": "2022-05-08T17:32:13.100Z"
   },
   {
    "duration": 4,
    "start_time": "2022-05-08T17:32:13.106Z"
   },
   {
    "duration": 36,
    "start_time": "2022-05-08T17:32:13.112Z"
   },
   {
    "duration": 5,
    "start_time": "2022-05-08T17:32:13.150Z"
   },
   {
    "duration": 6,
    "start_time": "2022-05-08T17:32:13.156Z"
   },
   {
    "duration": 4,
    "start_time": "2022-05-08T17:32:13.164Z"
   },
   {
    "duration": 8,
    "start_time": "2022-05-08T17:32:13.169Z"
   },
   {
    "duration": 7,
    "start_time": "2022-05-08T17:32:13.178Z"
   },
   {
    "duration": 25,
    "start_time": "2022-05-08T17:32:13.187Z"
   },
   {
    "duration": 49,
    "start_time": "2022-05-08T17:32:13.216Z"
   },
   {
    "duration": 26,
    "start_time": "2022-05-08T17:32:13.267Z"
   },
   {
    "duration": 6,
    "start_time": "2022-05-08T17:32:13.294Z"
   },
   {
    "duration": 4,
    "start_time": "2022-05-08T17:32:13.302Z"
   },
   {
    "duration": 9,
    "start_time": "2022-05-08T17:32:13.307Z"
   },
   {
    "duration": 39,
    "start_time": "2022-05-08T17:32:13.317Z"
   },
   {
    "duration": 89,
    "start_time": "2022-05-08T17:32:13.358Z"
   },
   {
    "duration": 4,
    "start_time": "2022-05-08T17:32:13.450Z"
   },
   {
    "duration": 6,
    "start_time": "2022-05-08T17:32:13.455Z"
   },
   {
    "duration": 5,
    "start_time": "2022-05-08T17:32:13.462Z"
   },
   {
    "duration": 4,
    "start_time": "2022-05-08T17:32:13.469Z"
   },
   {
    "duration": 5,
    "start_time": "2022-05-08T17:32:13.475Z"
   },
   {
    "duration": 19748,
    "start_time": "2022-05-08T17:32:13.481Z"
   },
   {
    "duration": 7,
    "start_time": "2022-05-08T17:32:33.231Z"
   },
   {
    "duration": 4,
    "start_time": "2022-05-08T17:32:33.247Z"
   },
   {
    "duration": 5,
    "start_time": "2022-05-08T17:32:33.253Z"
   },
   {
    "duration": 7,
    "start_time": "2022-05-08T17:32:33.259Z"
   },
   {
    "duration": 5,
    "start_time": "2022-05-08T17:32:33.267Z"
   },
   {
    "duration": 7,
    "start_time": "2022-05-08T17:32:33.273Z"
   },
   {
    "duration": 5,
    "start_time": "2022-05-08T17:32:33.281Z"
   },
   {
    "duration": 11974,
    "start_time": "2022-05-08T17:32:33.288Z"
   },
   {
    "duration": 4,
    "start_time": "2022-05-08T17:32:45.264Z"
   },
   {
    "duration": 6,
    "start_time": "2022-05-08T17:32:45.269Z"
   },
   {
    "duration": 4,
    "start_time": "2022-05-08T17:32:45.277Z"
   },
   {
    "duration": 5,
    "start_time": "2022-05-08T17:32:45.282Z"
   },
   {
    "duration": 8,
    "start_time": "2022-05-08T17:32:45.288Z"
   },
   {
    "duration": 8,
    "start_time": "2022-05-08T17:32:45.298Z"
   },
   {
    "duration": 4,
    "start_time": "2022-05-08T17:32:45.307Z"
   },
   {
    "duration": 6,
    "start_time": "2022-05-08T17:32:45.312Z"
   },
   {
    "duration": 6,
    "start_time": "2022-05-08T17:32:45.319Z"
   },
   {
    "duration": 6,
    "start_time": "2022-05-08T17:32:45.326Z"
   },
   {
    "duration": 16,
    "start_time": "2022-05-08T17:32:45.333Z"
   },
   {
    "duration": 9,
    "start_time": "2022-05-08T17:32:45.350Z"
   },
   {
    "duration": 3,
    "start_time": "2022-05-08T17:32:45.361Z"
   },
   {
    "duration": 4,
    "start_time": "2022-05-08T17:32:45.365Z"
   },
   {
    "duration": 4,
    "start_time": "2022-05-08T17:32:45.371Z"
   },
   {
    "duration": 289,
    "start_time": "2022-05-08T17:32:45.376Z"
   },
   {
    "duration": 1426,
    "start_time": "2022-05-08T17:33:05.775Z"
   },
   {
    "duration": 26,
    "start_time": "2022-05-08T17:33:07.203Z"
   },
   {
    "duration": 21,
    "start_time": "2022-05-08T17:33:07.231Z"
   },
   {
    "duration": 6,
    "start_time": "2022-05-08T17:33:07.255Z"
   },
   {
    "duration": 13,
    "start_time": "2022-05-08T17:33:07.262Z"
   },
   {
    "duration": 10,
    "start_time": "2022-05-08T17:33:07.277Z"
   },
   {
    "duration": 9,
    "start_time": "2022-05-08T17:33:07.288Z"
   },
   {
    "duration": 9,
    "start_time": "2022-05-08T17:33:07.298Z"
   },
   {
    "duration": 12,
    "start_time": "2022-05-08T17:33:07.308Z"
   },
   {
    "duration": 4,
    "start_time": "2022-05-08T17:33:07.347Z"
   },
   {
    "duration": 732,
    "start_time": "2022-05-08T17:33:07.353Z"
   },
   {
    "duration": 277,
    "start_time": "2022-05-08T17:33:08.087Z"
   },
   {
    "duration": 8,
    "start_time": "2022-05-08T17:33:08.366Z"
   },
   {
    "duration": 262,
    "start_time": "2022-05-08T17:33:08.376Z"
   },
   {
    "duration": 330,
    "start_time": "2022-05-08T17:33:08.639Z"
   },
   {
    "duration": 214,
    "start_time": "2022-05-08T17:33:08.970Z"
   },
   {
    "duration": 214,
    "start_time": "2022-05-08T17:33:09.186Z"
   },
   {
    "duration": 294,
    "start_time": "2022-05-08T17:33:09.402Z"
   },
   {
    "duration": 6,
    "start_time": "2022-05-08T17:33:09.698Z"
   },
   {
    "duration": 4,
    "start_time": "2022-05-08T17:33:09.706Z"
   },
   {
    "duration": 37,
    "start_time": "2022-05-08T17:33:09.711Z"
   },
   {
    "duration": 5,
    "start_time": "2022-05-08T17:33:09.750Z"
   },
   {
    "duration": 6,
    "start_time": "2022-05-08T17:33:09.756Z"
   },
   {
    "duration": 4,
    "start_time": "2022-05-08T17:33:09.763Z"
   },
   {
    "duration": 5,
    "start_time": "2022-05-08T17:33:09.769Z"
   },
   {
    "duration": 6,
    "start_time": "2022-05-08T17:33:09.775Z"
   },
   {
    "duration": 27,
    "start_time": "2022-05-08T17:33:09.782Z"
   },
   {
    "duration": 54,
    "start_time": "2022-05-08T17:33:09.813Z"
   },
   {
    "duration": 24,
    "start_time": "2022-05-08T17:33:09.869Z"
   },
   {
    "duration": 6,
    "start_time": "2022-05-08T17:33:09.895Z"
   },
   {
    "duration": 5,
    "start_time": "2022-05-08T17:33:09.902Z"
   },
   {
    "duration": 47,
    "start_time": "2022-05-08T17:33:09.908Z"
   },
   {
    "duration": 7,
    "start_time": "2022-05-08T17:33:09.957Z"
   },
   {
    "duration": 93,
    "start_time": "2022-05-08T17:33:09.966Z"
   },
   {
    "duration": 18,
    "start_time": "2022-05-08T17:33:10.061Z"
   },
   {
    "duration": 3,
    "start_time": "2022-05-08T17:33:10.081Z"
   },
   {
    "duration": 6,
    "start_time": "2022-05-08T17:33:10.086Z"
   },
   {
    "duration": 4,
    "start_time": "2022-05-08T17:33:10.094Z"
   },
   {
    "duration": 4,
    "start_time": "2022-05-08T17:33:10.100Z"
   },
   {
    "duration": 25462,
    "start_time": "2022-05-08T17:33:10.105Z"
   },
   {
    "duration": 8,
    "start_time": "2022-05-08T17:33:35.569Z"
   },
   {
    "duration": 4,
    "start_time": "2022-05-08T17:33:35.578Z"
   },
   {
    "duration": 5,
    "start_time": "2022-05-08T17:33:35.584Z"
   },
   {
    "duration": 4,
    "start_time": "2022-05-08T17:33:35.590Z"
   },
   {
    "duration": 4,
    "start_time": "2022-05-08T17:33:35.596Z"
   },
   {
    "duration": 4,
    "start_time": "2022-05-08T17:33:35.602Z"
   },
   {
    "duration": 5,
    "start_time": "2022-05-08T17:33:35.608Z"
   },
   {
    "duration": 12778,
    "start_time": "2022-05-08T17:33:35.615Z"
   },
   {
    "duration": 5,
    "start_time": "2022-05-08T17:33:48.395Z"
   },
   {
    "duration": 8,
    "start_time": "2022-05-08T17:33:48.402Z"
   },
   {
    "duration": 4,
    "start_time": "2022-05-08T17:33:48.411Z"
   },
   {
    "duration": 7,
    "start_time": "2022-05-08T17:33:48.416Z"
   },
   {
    "duration": 7,
    "start_time": "2022-05-08T17:33:48.424Z"
   },
   {
    "duration": 17,
    "start_time": "2022-05-08T17:33:48.433Z"
   },
   {
    "duration": 3,
    "start_time": "2022-05-08T17:33:48.452Z"
   },
   {
    "duration": 6,
    "start_time": "2022-05-08T17:33:48.457Z"
   },
   {
    "duration": 6,
    "start_time": "2022-05-08T17:33:48.464Z"
   },
   {
    "duration": 6,
    "start_time": "2022-05-08T17:33:48.471Z"
   },
   {
    "duration": 5,
    "start_time": "2022-05-08T17:33:48.478Z"
   },
   {
    "duration": 8,
    "start_time": "2022-05-08T17:33:48.484Z"
   },
   {
    "duration": 4,
    "start_time": "2022-05-08T17:33:48.494Z"
   },
   {
    "duration": 5,
    "start_time": "2022-05-08T17:33:48.499Z"
   },
   {
    "duration": 5,
    "start_time": "2022-05-08T17:33:48.505Z"
   },
   {
    "duration": 267,
    "start_time": "2022-05-08T17:33:48.512Z"
   },
   {
    "duration": 1459,
    "start_time": "2022-05-08T17:36:39.039Z"
   },
   {
    "duration": 26,
    "start_time": "2022-05-08T17:36:40.500Z"
   },
   {
    "duration": 21,
    "start_time": "2022-05-08T17:36:40.528Z"
   },
   {
    "duration": 8,
    "start_time": "2022-05-08T17:36:40.550Z"
   },
   {
    "duration": 12,
    "start_time": "2022-05-08T17:36:40.561Z"
   },
   {
    "duration": 12,
    "start_time": "2022-05-08T17:36:40.575Z"
   },
   {
    "duration": 12,
    "start_time": "2022-05-08T17:36:40.588Z"
   },
   {
    "duration": 5,
    "start_time": "2022-05-08T17:36:40.601Z"
   },
   {
    "duration": 43,
    "start_time": "2022-05-08T17:36:40.608Z"
   },
   {
    "duration": 5,
    "start_time": "2022-05-08T17:36:40.652Z"
   },
   {
    "duration": 739,
    "start_time": "2022-05-08T17:36:40.659Z"
   },
   {
    "duration": 276,
    "start_time": "2022-05-08T17:36:41.400Z"
   },
   {
    "duration": 10,
    "start_time": "2022-05-08T17:36:41.678Z"
   },
   {
    "duration": 271,
    "start_time": "2022-05-08T17:36:41.692Z"
   },
   {
    "duration": 347,
    "start_time": "2022-05-08T17:36:41.965Z"
   },
   {
    "duration": 214,
    "start_time": "2022-05-08T17:36:42.314Z"
   },
   {
    "duration": 222,
    "start_time": "2022-05-08T17:36:42.529Z"
   },
   {
    "duration": 303,
    "start_time": "2022-05-08T17:36:42.753Z"
   },
   {
    "duration": 6,
    "start_time": "2022-05-08T17:36:43.057Z"
   },
   {
    "duration": 6,
    "start_time": "2022-05-08T17:36:43.065Z"
   },
   {
    "duration": 20,
    "start_time": "2022-05-08T17:36:43.072Z"
   },
   {
    "duration": 6,
    "start_time": "2022-05-08T17:36:43.094Z"
   },
   {
    "duration": 8,
    "start_time": "2022-05-08T17:36:43.102Z"
   },
   {
    "duration": 7,
    "start_time": "2022-05-08T17:36:43.111Z"
   },
   {
    "duration": 27,
    "start_time": "2022-05-08T17:36:43.119Z"
   },
   {
    "duration": 5,
    "start_time": "2022-05-08T17:36:43.148Z"
   },
   {
    "duration": 27,
    "start_time": "2022-05-08T17:36:43.154Z"
   },
   {
    "duration": 27,
    "start_time": "2022-05-08T17:36:43.183Z"
   },
   {
    "duration": 52,
    "start_time": "2022-05-08T17:36:43.211Z"
   },
   {
    "duration": 5,
    "start_time": "2022-05-08T17:36:43.264Z"
   },
   {
    "duration": 5,
    "start_time": "2022-05-08T17:36:43.271Z"
   },
   {
    "duration": 9,
    "start_time": "2022-05-08T17:36:43.277Z"
   },
   {
    "duration": 61,
    "start_time": "2022-05-08T17:36:43.288Z"
   },
   {
    "duration": 9,
    "start_time": "2022-05-08T17:36:43.351Z"
   },
   {
    "duration": 87,
    "start_time": "2022-05-08T17:36:43.363Z"
   },
   {
    "duration": 7,
    "start_time": "2022-05-08T17:36:43.451Z"
   },
   {
    "duration": 6,
    "start_time": "2022-05-08T17:36:43.460Z"
   },
   {
    "duration": 9,
    "start_time": "2022-05-08T17:36:43.468Z"
   },
   {
    "duration": 5,
    "start_time": "2022-05-08T17:36:43.478Z"
   },
   {
    "duration": 20537,
    "start_time": "2022-05-08T17:36:43.485Z"
   },
   {
    "duration": 6,
    "start_time": "2022-05-08T17:37:04.027Z"
   },
   {
    "duration": 18,
    "start_time": "2022-05-08T17:37:04.035Z"
   },
   {
    "duration": 14,
    "start_time": "2022-05-08T17:37:04.054Z"
   },
   {
    "duration": 14,
    "start_time": "2022-05-08T17:37:04.069Z"
   },
   {
    "duration": 7,
    "start_time": "2022-05-08T17:37:04.085Z"
   },
   {
    "duration": 6,
    "start_time": "2022-05-08T17:37:04.093Z"
   },
   {
    "duration": 6,
    "start_time": "2022-05-08T17:37:04.100Z"
   },
   {
    "duration": 398835,
    "start_time": "2022-05-08T17:37:04.108Z"
   },
   {
    "duration": 5,
    "start_time": "2022-05-08T17:43:42.944Z"
   },
   {
    "duration": 5,
    "start_time": "2022-05-08T17:43:42.951Z"
   },
   {
    "duration": 8,
    "start_time": "2022-05-08T17:43:42.958Z"
   },
   {
    "duration": 7,
    "start_time": "2022-05-08T17:43:42.968Z"
   },
   {
    "duration": 5,
    "start_time": "2022-05-08T17:43:42.977Z"
   },
   {
    "duration": 10,
    "start_time": "2022-05-08T17:43:42.984Z"
   },
   {
    "duration": 6,
    "start_time": "2022-05-08T17:43:42.996Z"
   },
   {
    "duration": 7,
    "start_time": "2022-05-08T17:43:43.004Z"
   },
   {
    "duration": 7,
    "start_time": "2022-05-08T17:43:43.012Z"
   },
   {
    "duration": 28,
    "start_time": "2022-05-08T17:43:43.020Z"
   },
   {
    "duration": 5,
    "start_time": "2022-05-08T17:43:43.049Z"
   },
   {
    "duration": 7,
    "start_time": "2022-05-08T17:43:43.056Z"
   },
   {
    "duration": 4,
    "start_time": "2022-05-08T17:43:43.065Z"
   },
   {
    "duration": 5,
    "start_time": "2022-05-08T17:43:43.071Z"
   },
   {
    "duration": 5,
    "start_time": "2022-05-08T17:43:43.078Z"
   },
   {
    "duration": 267,
    "start_time": "2022-05-08T17:43:43.085Z"
   },
   {
    "duration": 1454,
    "start_time": "2022-05-08T17:45:05.015Z"
   },
   {
    "duration": 25,
    "start_time": "2022-05-08T17:45:06.471Z"
   },
   {
    "duration": 19,
    "start_time": "2022-05-08T17:45:06.498Z"
   },
   {
    "duration": 8,
    "start_time": "2022-05-08T17:45:06.519Z"
   },
   {
    "duration": 23,
    "start_time": "2022-05-08T17:45:06.529Z"
   },
   {
    "duration": 12,
    "start_time": "2022-05-08T17:45:06.554Z"
   },
   {
    "duration": 14,
    "start_time": "2022-05-08T17:45:06.567Z"
   },
   {
    "duration": 13,
    "start_time": "2022-05-08T17:45:06.582Z"
   },
   {
    "duration": 13,
    "start_time": "2022-05-08T17:45:06.596Z"
   },
   {
    "duration": 4,
    "start_time": "2022-05-08T17:45:06.611Z"
   },
   {
    "duration": 768,
    "start_time": "2022-05-08T17:45:06.617Z"
   },
   {
    "duration": 305,
    "start_time": "2022-05-08T17:45:07.387Z"
   },
   {
    "duration": 9,
    "start_time": "2022-05-08T17:45:07.694Z"
   },
   {
    "duration": 269,
    "start_time": "2022-05-08T17:45:07.705Z"
   },
   {
    "duration": 348,
    "start_time": "2022-05-08T17:45:07.976Z"
   },
   {
    "duration": 230,
    "start_time": "2022-05-08T17:45:08.326Z"
   },
   {
    "duration": 302,
    "start_time": "2022-05-08T17:45:08.558Z"
   },
   {
    "duration": 304,
    "start_time": "2022-05-08T17:45:08.862Z"
   },
   {
    "duration": 5,
    "start_time": "2022-05-08T17:45:09.168Z"
   },
   {
    "duration": 4,
    "start_time": "2022-05-08T17:45:09.175Z"
   },
   {
    "duration": 23,
    "start_time": "2022-05-08T17:45:09.181Z"
   },
   {
    "duration": 5,
    "start_time": "2022-05-08T17:45:09.206Z"
   },
   {
    "duration": 6,
    "start_time": "2022-05-08T17:45:09.213Z"
   },
   {
    "duration": 4,
    "start_time": "2022-05-08T17:45:09.247Z"
   },
   {
    "duration": 13,
    "start_time": "2022-05-08T17:45:09.253Z"
   },
   {
    "duration": 6,
    "start_time": "2022-05-08T17:45:09.268Z"
   },
   {
    "duration": 27,
    "start_time": "2022-05-08T17:45:09.276Z"
   },
   {
    "duration": 42,
    "start_time": "2022-05-08T17:45:09.308Z"
   },
   {
    "duration": 24,
    "start_time": "2022-05-08T17:45:09.352Z"
   },
   {
    "duration": 6,
    "start_time": "2022-05-08T17:45:09.378Z"
   },
   {
    "duration": 4,
    "start_time": "2022-05-08T17:45:09.386Z"
   },
   {
    "duration": 58,
    "start_time": "2022-05-08T17:45:09.392Z"
   },
   {
    "duration": 5,
    "start_time": "2022-05-08T17:45:09.452Z"
   },
   {
    "duration": 89,
    "start_time": "2022-05-08T17:45:09.459Z"
   },
   {
    "duration": 6,
    "start_time": "2022-05-08T17:45:09.550Z"
   },
   {
    "duration": 9,
    "start_time": "2022-05-08T17:45:09.558Z"
   },
   {
    "duration": 7,
    "start_time": "2022-05-08T17:45:09.569Z"
   },
   {
    "duration": 7,
    "start_time": "2022-05-08T17:45:09.578Z"
   },
   {
    "duration": 4,
    "start_time": "2022-05-08T17:45:09.586Z"
   },
   {
    "duration": 19769,
    "start_time": "2022-05-08T17:45:09.592Z"
   },
   {
    "duration": 6,
    "start_time": "2022-05-08T17:45:29.362Z"
   },
   {
    "duration": 4,
    "start_time": "2022-05-08T17:45:29.369Z"
   },
   {
    "duration": 5,
    "start_time": "2022-05-08T17:45:29.375Z"
   },
   {
    "duration": 4,
    "start_time": "2022-05-08T17:45:29.381Z"
   },
   {
    "duration": 7,
    "start_time": "2022-05-08T17:45:29.386Z"
   },
   {
    "duration": 5,
    "start_time": "2022-05-08T17:45:29.394Z"
   },
   {
    "duration": 5,
    "start_time": "2022-05-08T17:45:29.400Z"
   },
   {
    "duration": 376377,
    "start_time": "2022-05-08T17:45:29.406Z"
   },
   {
    "duration": 3,
    "start_time": "2022-05-08T17:51:45.785Z"
   },
   {
    "duration": 7,
    "start_time": "2022-05-08T17:51:45.790Z"
   },
   {
    "duration": 6,
    "start_time": "2022-05-08T17:51:45.798Z"
   },
   {
    "duration": 5,
    "start_time": "2022-05-08T17:51:45.805Z"
   },
   {
    "duration": 13,
    "start_time": "2022-05-08T17:51:45.812Z"
   },
   {
    "duration": 13,
    "start_time": "2022-05-08T17:51:45.826Z"
   },
   {
    "duration": 6,
    "start_time": "2022-05-08T17:51:45.841Z"
   },
   {
    "duration": 11,
    "start_time": "2022-05-08T17:51:45.849Z"
   },
   {
    "duration": 6,
    "start_time": "2022-05-08T17:51:45.861Z"
   },
   {
    "duration": 6,
    "start_time": "2022-05-08T17:51:45.868Z"
   },
   {
    "duration": 5,
    "start_time": "2022-05-08T17:51:45.876Z"
   },
   {
    "duration": 8,
    "start_time": "2022-05-08T17:51:45.883Z"
   },
   {
    "duration": 4,
    "start_time": "2022-05-08T17:51:45.893Z"
   },
   {
    "duration": 5,
    "start_time": "2022-05-08T17:51:45.899Z"
   },
   {
    "duration": 12,
    "start_time": "2022-05-08T17:51:45.905Z"
   },
   {
    "duration": 254,
    "start_time": "2022-05-08T17:51:45.919Z"
   }
  ],
  "kernelspec": {
   "display_name": "Python 3 (ipykernel)",
   "language": "python",
   "name": "python3"
  },
  "language_info": {
   "codemirror_mode": {
    "name": "ipython",
    "version": 3
   },
   "file_extension": ".py",
   "mimetype": "text/x-python",
   "name": "python",
   "nbconvert_exporter": "python",
   "pygments_lexer": "ipython3",
   "version": "3.9.5"
  },
  "toc": {
   "base_numbering": 1,
   "nav_menu": {},
   "number_sections": true,
   "sideBar": true,
   "skip_h1_title": true,
   "title_cell": "Содержание",
   "title_sidebar": "Contents",
   "toc_cell": true,
   "toc_position": {},
   "toc_section_display": true,
   "toc_window_display": false
  }
 },
 "nbformat": 4,
 "nbformat_minor": 2
}
