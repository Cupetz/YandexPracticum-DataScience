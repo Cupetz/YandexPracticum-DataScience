{
 "cells": [
  {
   "cell_type": "markdown",
   "metadata": {},
   "source": [
    "# Рекомендация тарифов"
   ]
  },
  {
   "cell_type": "markdown",
   "metadata": {},
   "source": [
    "В вашем распоряжении данные о поведении клиентов, которые уже перешли на эти тарифы (из проекта курса «Статистический анализ данных»). Нужно построить модель для задачи классификации, которая выберет подходящий тариф. Предобработка данных не понадобится — вы её уже сделали.\n",
    "\n",
    "Постройте модель с максимально большим значением *accuracy*. Чтобы сдать проект успешно, нужно довести долю правильных ответов по крайней мере до 0.75. Проверьте *accuracy* на тестовой выборке самостоятельно."
   ]
  },
  {
   "cell_type": "markdown",
   "metadata": {},
   "source": [
    "Импортируем библиотеки, которые пригодятся в исследовании:"
   ]
  },
  {
   "cell_type": "code",
   "execution_count": 1,
   "metadata": {},
   "outputs": [],
   "source": [
    "import pandas as pd\n",
    "import numpy as np\n",
    "from sklearn.tree import DecisionTreeClassifier\n",
    "from sklearn.metrics import accuracy_score\n",
    "from sklearn.model_selection import train_test_split\n",
    "from sklearn.ensemble import RandomForestClassifier\n",
    "from sklearn.linear_model import LogisticRegression\n",
    "import random\n",
    "import time"
   ]
  },
  {
   "cell_type": "markdown",
   "metadata": {},
   "source": [
    "## Откройте и изучите файл"
   ]
  },
  {
   "cell_type": "code",
   "execution_count": 2,
   "metadata": {},
   "outputs": [],
   "source": [
    "data = pd.read_csv('/datasets/users_behavior.csv')"
   ]
  },
  {
   "cell_type": "code",
   "execution_count": 3,
   "metadata": {},
   "outputs": [
    {
     "data": {
      "text/html": [
       "<div>\n",
       "<style scoped>\n",
       "    .dataframe tbody tr th:only-of-type {\n",
       "        vertical-align: middle;\n",
       "    }\n",
       "\n",
       "    .dataframe tbody tr th {\n",
       "        vertical-align: top;\n",
       "    }\n",
       "\n",
       "    .dataframe thead th {\n",
       "        text-align: right;\n",
       "    }\n",
       "</style>\n",
       "<table border=\"1\" class=\"dataframe\">\n",
       "  <thead>\n",
       "    <tr style=\"text-align: right;\">\n",
       "      <th></th>\n",
       "      <th>calls</th>\n",
       "      <th>minutes</th>\n",
       "      <th>messages</th>\n",
       "      <th>mb_used</th>\n",
       "      <th>is_ultra</th>\n",
       "    </tr>\n",
       "  </thead>\n",
       "  <tbody>\n",
       "    <tr>\n",
       "      <td>0</td>\n",
       "      <td>40.0</td>\n",
       "      <td>311.90</td>\n",
       "      <td>83.0</td>\n",
       "      <td>19915.42</td>\n",
       "      <td>0</td>\n",
       "    </tr>\n",
       "    <tr>\n",
       "      <td>1</td>\n",
       "      <td>85.0</td>\n",
       "      <td>516.75</td>\n",
       "      <td>56.0</td>\n",
       "      <td>22696.96</td>\n",
       "      <td>0</td>\n",
       "    </tr>\n",
       "    <tr>\n",
       "      <td>2</td>\n",
       "      <td>77.0</td>\n",
       "      <td>467.66</td>\n",
       "      <td>86.0</td>\n",
       "      <td>21060.45</td>\n",
       "      <td>0</td>\n",
       "    </tr>\n",
       "    <tr>\n",
       "      <td>3</td>\n",
       "      <td>106.0</td>\n",
       "      <td>745.53</td>\n",
       "      <td>81.0</td>\n",
       "      <td>8437.39</td>\n",
       "      <td>1</td>\n",
       "    </tr>\n",
       "    <tr>\n",
       "      <td>4</td>\n",
       "      <td>66.0</td>\n",
       "      <td>418.74</td>\n",
       "      <td>1.0</td>\n",
       "      <td>14502.75</td>\n",
       "      <td>0</td>\n",
       "    </tr>\n",
       "    <tr>\n",
       "      <td>...</td>\n",
       "      <td>...</td>\n",
       "      <td>...</td>\n",
       "      <td>...</td>\n",
       "      <td>...</td>\n",
       "      <td>...</td>\n",
       "    </tr>\n",
       "    <tr>\n",
       "      <td>3209</td>\n",
       "      <td>122.0</td>\n",
       "      <td>910.98</td>\n",
       "      <td>20.0</td>\n",
       "      <td>35124.90</td>\n",
       "      <td>1</td>\n",
       "    </tr>\n",
       "    <tr>\n",
       "      <td>3210</td>\n",
       "      <td>25.0</td>\n",
       "      <td>190.36</td>\n",
       "      <td>0.0</td>\n",
       "      <td>3275.61</td>\n",
       "      <td>0</td>\n",
       "    </tr>\n",
       "    <tr>\n",
       "      <td>3211</td>\n",
       "      <td>97.0</td>\n",
       "      <td>634.44</td>\n",
       "      <td>70.0</td>\n",
       "      <td>13974.06</td>\n",
       "      <td>0</td>\n",
       "    </tr>\n",
       "    <tr>\n",
       "      <td>3212</td>\n",
       "      <td>64.0</td>\n",
       "      <td>462.32</td>\n",
       "      <td>90.0</td>\n",
       "      <td>31239.78</td>\n",
       "      <td>0</td>\n",
       "    </tr>\n",
       "    <tr>\n",
       "      <td>3213</td>\n",
       "      <td>80.0</td>\n",
       "      <td>566.09</td>\n",
       "      <td>6.0</td>\n",
       "      <td>29480.52</td>\n",
       "      <td>1</td>\n",
       "    </tr>\n",
       "  </tbody>\n",
       "</table>\n",
       "<p>3214 rows × 5 columns</p>\n",
       "</div>"
      ],
      "text/plain": [
       "      calls  minutes  messages   mb_used  is_ultra\n",
       "0      40.0   311.90      83.0  19915.42         0\n",
       "1      85.0   516.75      56.0  22696.96         0\n",
       "2      77.0   467.66      86.0  21060.45         0\n",
       "3     106.0   745.53      81.0   8437.39         1\n",
       "4      66.0   418.74       1.0  14502.75         0\n",
       "...     ...      ...       ...       ...       ...\n",
       "3209  122.0   910.98      20.0  35124.90         1\n",
       "3210   25.0   190.36       0.0   3275.61         0\n",
       "3211   97.0   634.44      70.0  13974.06         0\n",
       "3212   64.0   462.32      90.0  31239.78         0\n",
       "3213   80.0   566.09       6.0  29480.52         1\n",
       "\n",
       "[3214 rows x 5 columns]"
      ]
     },
     "metadata": {},
     "output_type": "display_data"
    }
   ],
   "source": [
    "display(data)"
   ]
  },
  {
   "cell_type": "markdown",
   "metadata": {},
   "source": [
    "**сalls** — количество звонков\n",
    "\n",
    "**minutes** — суммарная длительность звонков в минутах\n",
    "\n",
    "**messages** — количество sms-сообщений\n",
    "\n",
    "**mb_used** — израсходованный интернет-трафик в Мб\n",
    "\n",
    "**is_ultra** — каким тарифом пользовался в течение месяца («Ультра» — 1, «Смарт» — 0)"
   ]
  },
  {
   "cell_type": "markdown",
   "metadata": {},
   "source": [
    "Соответственно логика в данном датафрейме такая,  что при **is_ultra** = 1 - клиенту подойдёт тариф ultra исходя из признаков в остальных столбцах, при **is_ultra** = 0, вероятнее всего, - smart"
   ]
  },
  {
   "cell_type": "markdown",
   "metadata": {},
   "source": [
    "## Разбейте данные на выборки"
   ]
  },
  {
   "cell_type": "markdown",
   "metadata": {},
   "source": [
    "В теоретической части не нашел такого, но вроде нагуглил как с привлечением библиотеки numpy можно перемешать данные и потом разделить их сразу на 3 категории. Соответственно, пусть 60 % - будут обучающей выборкой, 20 % - валидационной, а 20 % - тестовой"
   ]
  },
  {
   "cell_type": "code",
   "execution_count": 4,
   "metadata": {},
   "outputs": [],
   "source": [
    "train, validate, test = np.split(data.sample(frac=1, random_state=42), [int(0.6*len(data)), int(0.8*len(data))])"
   ]
  },
  {
   "cell_type": "code",
   "execution_count": 5,
   "metadata": {},
   "outputs": [
    {
     "data": {
      "text/html": [
       "<div>\n",
       "<style scoped>\n",
       "    .dataframe tbody tr th:only-of-type {\n",
       "        vertical-align: middle;\n",
       "    }\n",
       "\n",
       "    .dataframe tbody tr th {\n",
       "        vertical-align: top;\n",
       "    }\n",
       "\n",
       "    .dataframe thead th {\n",
       "        text-align: right;\n",
       "    }\n",
       "</style>\n",
       "<table border=\"1\" class=\"dataframe\">\n",
       "  <thead>\n",
       "    <tr style=\"text-align: right;\">\n",
       "      <th></th>\n",
       "      <th>calls</th>\n",
       "      <th>minutes</th>\n",
       "      <th>messages</th>\n",
       "      <th>mb_used</th>\n",
       "      <th>is_ultra</th>\n",
       "    </tr>\n",
       "  </thead>\n",
       "  <tbody>\n",
       "    <tr>\n",
       "      <td>506</td>\n",
       "      <td>46.0</td>\n",
       "      <td>338.60</td>\n",
       "      <td>35.0</td>\n",
       "      <td>11428.54</td>\n",
       "      <td>0</td>\n",
       "    </tr>\n",
       "    <tr>\n",
       "      <td>2513</td>\n",
       "      <td>39.0</td>\n",
       "      <td>242.71</td>\n",
       "      <td>0.0</td>\n",
       "      <td>20480.11</td>\n",
       "      <td>0</td>\n",
       "    </tr>\n",
       "    <tr>\n",
       "      <td>354</td>\n",
       "      <td>39.0</td>\n",
       "      <td>258.02</td>\n",
       "      <td>0.0</td>\n",
       "      <td>19998.80</td>\n",
       "      <td>0</td>\n",
       "    </tr>\n",
       "    <tr>\n",
       "      <td>1080</td>\n",
       "      <td>36.0</td>\n",
       "      <td>230.99</td>\n",
       "      <td>19.0</td>\n",
       "      <td>23525.07</td>\n",
       "      <td>1</td>\n",
       "    </tr>\n",
       "    <tr>\n",
       "      <td>2389</td>\n",
       "      <td>35.0</td>\n",
       "      <td>205.35</td>\n",
       "      <td>52.0</td>\n",
       "      <td>35177.94</td>\n",
       "      <td>1</td>\n",
       "    </tr>\n",
       "    <tr>\n",
       "      <td>...</td>\n",
       "      <td>...</td>\n",
       "      <td>...</td>\n",
       "      <td>...</td>\n",
       "      <td>...</td>\n",
       "      <td>...</td>\n",
       "    </tr>\n",
       "    <tr>\n",
       "      <td>3177</td>\n",
       "      <td>114.0</td>\n",
       "      <td>731.76</td>\n",
       "      <td>10.0</td>\n",
       "      <td>25311.22</td>\n",
       "      <td>0</td>\n",
       "    </tr>\n",
       "    <tr>\n",
       "      <td>2519</td>\n",
       "      <td>57.0</td>\n",
       "      <td>454.05</td>\n",
       "      <td>13.0</td>\n",
       "      <td>17220.68</td>\n",
       "      <td>0</td>\n",
       "    </tr>\n",
       "    <tr>\n",
       "      <td>1508</td>\n",
       "      <td>80.0</td>\n",
       "      <td>574.98</td>\n",
       "      <td>75.0</td>\n",
       "      <td>23750.99</td>\n",
       "      <td>0</td>\n",
       "    </tr>\n",
       "    <tr>\n",
       "      <td>1750</td>\n",
       "      <td>28.0</td>\n",
       "      <td>169.93</td>\n",
       "      <td>49.0</td>\n",
       "      <td>21232.14</td>\n",
       "      <td>0</td>\n",
       "    </tr>\n",
       "    <tr>\n",
       "      <td>1104</td>\n",
       "      <td>17.0</td>\n",
       "      <td>141.05</td>\n",
       "      <td>14.0</td>\n",
       "      <td>9850.74</td>\n",
       "      <td>0</td>\n",
       "    </tr>\n",
       "  </tbody>\n",
       "</table>\n",
       "<p>1928 rows × 5 columns</p>\n",
       "</div>"
      ],
      "text/plain": [
       "      calls  minutes  messages   mb_used  is_ultra\n",
       "506    46.0   338.60      35.0  11428.54         0\n",
       "2513   39.0   242.71       0.0  20480.11         0\n",
       "354    39.0   258.02       0.0  19998.80         0\n",
       "1080   36.0   230.99      19.0  23525.07         1\n",
       "2389   35.0   205.35      52.0  35177.94         1\n",
       "...     ...      ...       ...       ...       ...\n",
       "3177  114.0   731.76      10.0  25311.22         0\n",
       "2519   57.0   454.05      13.0  17220.68         0\n",
       "1508   80.0   574.98      75.0  23750.99         0\n",
       "1750   28.0   169.93      49.0  21232.14         0\n",
       "1104   17.0   141.05      14.0   9850.74         0\n",
       "\n",
       "[1928 rows x 5 columns]"
      ]
     },
     "metadata": {},
     "output_type": "display_data"
    }
   ],
   "source": [
    "display(train)"
   ]
  },
  {
   "cell_type": "code",
   "execution_count": 6,
   "metadata": {},
   "outputs": [
    {
     "data": {
      "text/html": [
       "<div>\n",
       "<style scoped>\n",
       "    .dataframe tbody tr th:only-of-type {\n",
       "        vertical-align: middle;\n",
       "    }\n",
       "\n",
       "    .dataframe tbody tr th {\n",
       "        vertical-align: top;\n",
       "    }\n",
       "\n",
       "    .dataframe thead th {\n",
       "        text-align: right;\n",
       "    }\n",
       "</style>\n",
       "<table border=\"1\" class=\"dataframe\">\n",
       "  <thead>\n",
       "    <tr style=\"text-align: right;\">\n",
       "      <th></th>\n",
       "      <th>calls</th>\n",
       "      <th>minutes</th>\n",
       "      <th>messages</th>\n",
       "      <th>mb_used</th>\n",
       "      <th>is_ultra</th>\n",
       "    </tr>\n",
       "  </thead>\n",
       "  <tbody>\n",
       "    <tr>\n",
       "      <td>660</td>\n",
       "      <td>11.0</td>\n",
       "      <td>66.00</td>\n",
       "      <td>0.0</td>\n",
       "      <td>7039.12</td>\n",
       "      <td>0</td>\n",
       "    </tr>\n",
       "    <tr>\n",
       "      <td>2878</td>\n",
       "      <td>90.0</td>\n",
       "      <td>738.58</td>\n",
       "      <td>8.0</td>\n",
       "      <td>22070.76</td>\n",
       "      <td>0</td>\n",
       "    </tr>\n",
       "    <tr>\n",
       "      <td>338</td>\n",
       "      <td>55.0</td>\n",
       "      <td>363.71</td>\n",
       "      <td>31.0</td>\n",
       "      <td>16303.01</td>\n",
       "      <td>0</td>\n",
       "    </tr>\n",
       "    <tr>\n",
       "      <td>215</td>\n",
       "      <td>35.0</td>\n",
       "      <td>267.67</td>\n",
       "      <td>25.0</td>\n",
       "      <td>18231.83</td>\n",
       "      <td>0</td>\n",
       "    </tr>\n",
       "    <tr>\n",
       "      <td>1615</td>\n",
       "      <td>91.0</td>\n",
       "      <td>643.90</td>\n",
       "      <td>103.0</td>\n",
       "      <td>22197.84</td>\n",
       "      <td>0</td>\n",
       "    </tr>\n",
       "    <tr>\n",
       "      <td>...</td>\n",
       "      <td>...</td>\n",
       "      <td>...</td>\n",
       "      <td>...</td>\n",
       "      <td>...</td>\n",
       "      <td>...</td>\n",
       "    </tr>\n",
       "    <tr>\n",
       "      <td>79</td>\n",
       "      <td>43.0</td>\n",
       "      <td>303.51</td>\n",
       "      <td>37.0</td>\n",
       "      <td>15063.41</td>\n",
       "      <td>0</td>\n",
       "    </tr>\n",
       "    <tr>\n",
       "      <td>1172</td>\n",
       "      <td>144.0</td>\n",
       "      <td>1031.79</td>\n",
       "      <td>99.0</td>\n",
       "      <td>40174.34</td>\n",
       "      <td>1</td>\n",
       "    </tr>\n",
       "    <tr>\n",
       "      <td>814</td>\n",
       "      <td>114.0</td>\n",
       "      <td>793.69</td>\n",
       "      <td>15.0</td>\n",
       "      <td>23225.78</td>\n",
       "      <td>0</td>\n",
       "    </tr>\n",
       "    <tr>\n",
       "      <td>1852</td>\n",
       "      <td>74.0</td>\n",
       "      <td>563.59</td>\n",
       "      <td>30.0</td>\n",
       "      <td>10781.76</td>\n",
       "      <td>0</td>\n",
       "    </tr>\n",
       "    <tr>\n",
       "      <td>2220</td>\n",
       "      <td>72.0</td>\n",
       "      <td>512.50</td>\n",
       "      <td>0.0</td>\n",
       "      <td>21285.79</td>\n",
       "      <td>0</td>\n",
       "    </tr>\n",
       "  </tbody>\n",
       "</table>\n",
       "<p>643 rows × 5 columns</p>\n",
       "</div>"
      ],
      "text/plain": [
       "      calls  minutes  messages   mb_used  is_ultra\n",
       "660    11.0    66.00       0.0   7039.12         0\n",
       "2878   90.0   738.58       8.0  22070.76         0\n",
       "338    55.0   363.71      31.0  16303.01         0\n",
       "215    35.0   267.67      25.0  18231.83         0\n",
       "1615   91.0   643.90     103.0  22197.84         0\n",
       "...     ...      ...       ...       ...       ...\n",
       "79     43.0   303.51      37.0  15063.41         0\n",
       "1172  144.0  1031.79      99.0  40174.34         1\n",
       "814   114.0   793.69      15.0  23225.78         0\n",
       "1852   74.0   563.59      30.0  10781.76         0\n",
       "2220   72.0   512.50       0.0  21285.79         0\n",
       "\n",
       "[643 rows x 5 columns]"
      ]
     },
     "metadata": {},
     "output_type": "display_data"
    }
   ],
   "source": [
    "display(validate)"
   ]
  },
  {
   "cell_type": "code",
   "execution_count": 7,
   "metadata": {},
   "outputs": [
    {
     "data": {
      "text/html": [
       "<div>\n",
       "<style scoped>\n",
       "    .dataframe tbody tr th:only-of-type {\n",
       "        vertical-align: middle;\n",
       "    }\n",
       "\n",
       "    .dataframe tbody tr th {\n",
       "        vertical-align: top;\n",
       "    }\n",
       "\n",
       "    .dataframe thead th {\n",
       "        text-align: right;\n",
       "    }\n",
       "</style>\n",
       "<table border=\"1\" class=\"dataframe\">\n",
       "  <thead>\n",
       "    <tr style=\"text-align: right;\">\n",
       "      <th></th>\n",
       "      <th>calls</th>\n",
       "      <th>minutes</th>\n",
       "      <th>messages</th>\n",
       "      <th>mb_used</th>\n",
       "      <th>is_ultra</th>\n",
       "    </tr>\n",
       "  </thead>\n",
       "  <tbody>\n",
       "    <tr>\n",
       "      <td>2817</td>\n",
       "      <td>12.0</td>\n",
       "      <td>86.62</td>\n",
       "      <td>22.0</td>\n",
       "      <td>36628.85</td>\n",
       "      <td>1</td>\n",
       "    </tr>\n",
       "    <tr>\n",
       "      <td>2105</td>\n",
       "      <td>102.0</td>\n",
       "      <td>760.64</td>\n",
       "      <td>0.0</td>\n",
       "      <td>23166.00</td>\n",
       "      <td>1</td>\n",
       "    </tr>\n",
       "    <tr>\n",
       "      <td>133</td>\n",
       "      <td>109.0</td>\n",
       "      <td>704.30</td>\n",
       "      <td>79.0</td>\n",
       "      <td>10603.12</td>\n",
       "      <td>0</td>\n",
       "    </tr>\n",
       "    <tr>\n",
       "      <td>1140</td>\n",
       "      <td>40.0</td>\n",
       "      <td>195.79</td>\n",
       "      <td>55.0</td>\n",
       "      <td>19493.38</td>\n",
       "      <td>0</td>\n",
       "    </tr>\n",
       "    <tr>\n",
       "      <td>933</td>\n",
       "      <td>2.0</td>\n",
       "      <td>2.00</td>\n",
       "      <td>28.0</td>\n",
       "      <td>9173.78</td>\n",
       "      <td>0</td>\n",
       "    </tr>\n",
       "    <tr>\n",
       "      <td>...</td>\n",
       "      <td>...</td>\n",
       "      <td>...</td>\n",
       "      <td>...</td>\n",
       "      <td>...</td>\n",
       "      <td>...</td>\n",
       "    </tr>\n",
       "    <tr>\n",
       "      <td>1095</td>\n",
       "      <td>62.0</td>\n",
       "      <td>454.02</td>\n",
       "      <td>35.0</td>\n",
       "      <td>15018.46</td>\n",
       "      <td>0</td>\n",
       "    </tr>\n",
       "    <tr>\n",
       "      <td>1130</td>\n",
       "      <td>69.0</td>\n",
       "      <td>465.96</td>\n",
       "      <td>12.0</td>\n",
       "      <td>14982.27</td>\n",
       "      <td>0</td>\n",
       "    </tr>\n",
       "    <tr>\n",
       "      <td>1294</td>\n",
       "      <td>40.0</td>\n",
       "      <td>280.44</td>\n",
       "      <td>2.0</td>\n",
       "      <td>13934.54</td>\n",
       "      <td>0</td>\n",
       "    </tr>\n",
       "    <tr>\n",
       "      <td>860</td>\n",
       "      <td>72.0</td>\n",
       "      <td>410.23</td>\n",
       "      <td>68.0</td>\n",
       "      <td>16006.55</td>\n",
       "      <td>0</td>\n",
       "    </tr>\n",
       "    <tr>\n",
       "      <td>3174</td>\n",
       "      <td>79.0</td>\n",
       "      <td>537.10</td>\n",
       "      <td>25.0</td>\n",
       "      <td>21223.37</td>\n",
       "      <td>0</td>\n",
       "    </tr>\n",
       "  </tbody>\n",
       "</table>\n",
       "<p>643 rows × 5 columns</p>\n",
       "</div>"
      ],
      "text/plain": [
       "      calls  minutes  messages   mb_used  is_ultra\n",
       "2817   12.0    86.62      22.0  36628.85         1\n",
       "2105  102.0   760.64       0.0  23166.00         1\n",
       "133   109.0   704.30      79.0  10603.12         0\n",
       "1140   40.0   195.79      55.0  19493.38         0\n",
       "933     2.0     2.00      28.0   9173.78         0\n",
       "...     ...      ...       ...       ...       ...\n",
       "1095   62.0   454.02      35.0  15018.46         0\n",
       "1130   69.0   465.96      12.0  14982.27         0\n",
       "1294   40.0   280.44       2.0  13934.54         0\n",
       "860    72.0   410.23      68.0  16006.55         0\n",
       "3174   79.0   537.10      25.0  21223.37         0\n",
       "\n",
       "[643 rows x 5 columns]"
      ]
     },
     "metadata": {},
     "output_type": "display_data"
    }
   ],
   "source": [
    "display(test)"
   ]
  },
  {
   "cell_type": "markdown",
   "metadata": {},
   "source": [
    "Вроде бы выглядит вполне успешно. Теперь разобьём каждую из этих выборок на признаки features и целевой признак target"
   ]
  },
  {
   "cell_type": "code",
   "execution_count": 8,
   "metadata": {},
   "outputs": [],
   "source": [
    "features_train = train.drop(['is_ultra'], axis=1)\n",
    "target_train = train['is_ultra']\n",
    "features_validate = validate.drop(['is_ultra'], axis=1)\n",
    "target_validate = validate['is_ultra']\n",
    "features_test = test.drop(['is_ultra'], axis=1)\n",
    "target_test = test['is_ultra']"
   ]
  },
  {
   "cell_type": "markdown",
   "metadata": {},
   "source": [
    "## Исследуйте модели"
   ]
  },
  {
   "cell_type": "markdown",
   "metadata": {},
   "source": [
    "Для задач классификации используются решающее дерево (быстрая скорость обучения, но низкое качество), случайный лес (высокое качество, но низкая скорость обучения), логистическая регрессия(средняя качество ответов, но высокая скорость обучения). Попробуем обучения при помощи всех этих трёх моделей и выберем лучшую"
   ]
  },
  {
   "cell_type": "markdown",
   "metadata": {},
   "source": [
    "### Решающее дерево"
   ]
  },
  {
   "cell_type": "markdown",
   "metadata": {},
   "source": [
    "У решающего дерева есть 3 гиперпараметра, которые были рассмотрены: глубина дерева, которая не должна быть слишком большой для избежания переобучения, но и не слишком малой для недообучения; min_samples_split - минимальное кол-во выборок для разделения внутреннего узла; min_samples_leaf - минимальное кол-во образцов в листовом узле"
   ]
  },
  {
   "cell_type": "markdown",
   "metadata": {},
   "source": [
    "Напишем цикл, который прогонит каждый из этих параметров в определённом диапазоне и найдём их наилучшую комбинацию. Так как решающее дерево самая быстрообучаемая модель, вроде бы не особо нагружающая систему, позволим себе сделать диапазоны достаточно большими:"
   ]
  },
  {
   "cell_type": "code",
   "execution_count": 9,
   "metadata": {},
   "outputs": [
    {
     "name": "stdout",
     "output_type": "stream",
     "text": [
      "Лучшая точность наблюдается при глубине:11\n",
      "Лучшая точность наблюдается при минимальном кол-ве выборок для разделения: 2\n",
      "Лушчая точность наблюдается при минимальном кол-ве образцов в одном листе: 8\n",
      "Лучшая точность решающего дерева: 0.8087091757387247\n",
      "\n",
      "Затраченное время на обучения наилучшего решаюшего дерева: 6.320871017873287 секунд\n"
     ]
    }
   ],
   "source": [
    "best_tree_accuracy = 0\n",
    "best_tree_depth = None\n",
    "best_samples_split = None\n",
    "best_samples_leaf = None\n",
    "\n",
    "start_time = time.perf_counter()\n",
    "\n",
    "for depth in range(1,15):\n",
    "    for split in range(2,10):\n",
    "        for leaf in range(1,10):\n",
    "            model = DecisionTreeClassifier(random_state=12345, max_depth=depth, min_samples_split=split, min_samples_leaf=leaf)\n",
    "            model.fit(features_train, target_train)\n",
    "            answer = model.predict(features_validate)\n",
    "            accuracy = accuracy_score(answer, target_validate)\n",
    "            if accuracy > best_tree_accuracy:\n",
    "                best_tree_accuracy = accuracy\n",
    "                best_tree_depth = depth\n",
    "                best_samples_split = split\n",
    "                best_samples_leaf = leaf\n",
    "\n",
    "finish_time = time.perf_counter()                \n",
    "\n",
    "tree_study_time = finish_time - start_time\n",
    "\n",
    "print(f'Лучшая точность наблюдается при глубине:{best_tree_depth}')\n",
    "print(f'Лучшая точность наблюдается при минимальном кол-ве выборок для разделения: {best_samples_split}')\n",
    "print(f'Лушчая точность наблюдается при минимальном кол-ве образцов в одном листе: {best_samples_leaf}')\n",
    "print(f'Лучшая точность решающего дерева: {best_tree_accuracy}')\n",
    "print()\n",
    "print(f'Затраченное время на обучения наилучшего решаюшего дерева: {tree_study_time} секунд')"
   ]
  },
  {
   "cell_type": "markdown",
   "metadata": {},
   "source": [
    "Приятно заметить, что лучшими оказались некие средние параметры, а не крайние - как я понимаю это значит, что мы попали в экстремум между недообучением и переобучением, получив максимальную точность"
   ]
  },
  {
   "cell_type": "markdown",
   "metadata": {},
   "source": [
    "### Случайный лес:"
   ]
  },
  {
   "cell_type": "markdown",
   "metadata": {},
   "source": [
    "Случайный лес по сути зависит от того, сколько деревьев он выращивает для принятия решения какие ответы взять за лучшие. Тут так же, как я понял, работает логика, что таких деревьев не должно быть слишком много для переобучения, но и не слишком мало для недообучения. Так что как раз сдеалем число деревьев изменяемым параметров в цикле"
   ]
  },
  {
   "cell_type": "code",
   "execution_count": 10,
   "metadata": {},
   "outputs": [
    {
     "name": "stdout",
     "output_type": "stream",
     "text": [
      "Лучшая точность наблюдается при числе деревьев: 4\n",
      "Лучшая точность случайного леса: 0.7884914463452566\n",
      "\n",
      "Затраченное время на обучения случайного леса: 0.2093927264213562 секунд\n"
     ]
    }
   ],
   "source": [
    "best_forest_accuracy = 0\n",
    "best_tree_number = None\n",
    "\n",
    "start_time = time.perf_counter()\n",
    "\n",
    "for tree in range(1,10):\n",
    "    model = RandomForestClassifier(random_state=12345, n_estimators=tree)\n",
    "    model.fit(features_train, target_train)\n",
    "    answer = model.predict(features_validate)\n",
    "    accuracy = accuracy_score(answer, target_validate)\n",
    "    if accuracy > best_forest_accuracy:\n",
    "        best_forest_accuracy = accuracy\n",
    "        best_tree_number = tree\n",
    "\n",
    "finish_time = time.perf_counter()                \n",
    "\n",
    "forest_study_time = finish_time - start_time\n",
    "\n",
    "print(f'Лучшая точность наблюдается при числе деревьев: {best_tree_number}')\n",
    "print(f'Лучшая точность случайного леса: {best_forest_accuracy}')\n",
    "print()\n",
    "print(f'Затраченное время на обучения случайного леса: {forest_study_time} секунд')"
   ]
  },
  {
   "cell_type": "markdown",
   "metadata": {},
   "source": [
    "Оказалось, что лес деревьев в данной ситуации выучился гораздо быстрее, чем дерево решений. Думаю это связано с тем, что датафрейм в принципе не очень большой, и таким образом выходит гораздо дольше пебирать комбинации гиперпараметров решающего дерева по вложенным циклам для выбора наилучшей его модели, чем прогнать всего 1 цикл с выбором оптимального числа деревьев для случайного леса, который на небольшом датафрейме учится почти с той же скоростью, что и обычное дерево решений"
   ]
  },
  {
   "cell_type": "markdown",
   "metadata": {},
   "source": [
    "### Логистическая регрессия"
   ]
  },
  {
   "cell_type": "markdown",
   "metadata": {},
   "source": [
    "Для логистической регрессии из теоретической части и из свободных источников я не очень понял, какими гиперпараметрами вообще можно оперировать и вообще стоит ли с точки зрения здравого смысла в них копаться, но если такие есть, то буду рад если подскажешь их краткое описание и что конкретно они меняют"
   ]
  },
  {
   "cell_type": "code",
   "execution_count": 11,
   "metadata": {},
   "outputs": [
    {
     "name": "stdout",
     "output_type": "stream",
     "text": [
      "Точность логистической регрессии: 0.7013996889580093\n",
      "\n",
      "Затраченное время на обучения модели логистической регрессии: 0.017170555889606476 секунд\n"
     ]
    }
   ],
   "source": [
    "start_time = time.perf_counter()\n",
    "\n",
    "model = LogisticRegression(random_state=12345, solver='lbfgs')\n",
    "# не очень уверен что такое solver, но без него вылезало предупреждение, что его по-хорошему надо указать как lbfgs\n",
    "model.fit(features_train, target_train)\n",
    "answer = model.predict(features_validate)\n",
    "accuracy = accuracy_score(answer, target_validate)\n",
    "\n",
    "finish_time = time.perf_counter()\n",
    "\n",
    "logreg_study_time = finish_time - start_time\n",
    "\n",
    "print(f'Точность логистической регрессии: {accuracy}')\n",
    "print()\n",
    "print(f'Затраченное время на обучения модели логистической регрессии: {logreg_study_time} секунд')"
   ]
  },
  {
   "cell_type": "markdown",
   "metadata": {},
   "source": [
    "**Общий вывод по сравнению моделей:** Оказалось, что у логистической регрессии в данном случае самая низкая точность, но при этом сама быстрая скорость обучения (естественно вероятно потому, что не было никакого цикла с изменением гиперпараметров) ; у случайного леса весьма быстрая скорость обучения и при этом весьма высокая точность; у дерева решений вероятно всего при незменных гиперпараметрах была бы точнсть ниже, чем у случайного леса, но из-за того что мы потратили достаточного много времени на их перебор через вложенные циклы, то удалось добиться такой комбинации, что она даже перебила лес деревьев. Попроуем использовать именно эту модель для проверки точности по тестовой выборке"
   ]
  },
  {
   "cell_type": "markdown",
   "metadata": {},
   "source": [
    "## Проверьте модель на тестовой выборке"
   ]
  },
  {
   "cell_type": "markdown",
   "metadata": {},
   "source": [
    "Ещё раз выведем какие гиперпараметры были выбраны, как наилучшие для дерева решений:"
   ]
  },
  {
   "cell_type": "code",
   "execution_count": 12,
   "metadata": {},
   "outputs": [
    {
     "name": "stdout",
     "output_type": "stream",
     "text": [
      "Лучшая точность наблюдается при глубине:11\n",
      "Лучшая точность наблюдается при минимальном кол-ве выборок для разделения: 2\n",
      "Лушчая точность наблюдается при минимальном кол-ве образцов в одном листе: 8\n"
     ]
    }
   ],
   "source": [
    "print(f'Лучшая точность наблюдается при глубине:{best_tree_depth}')\n",
    "print(f'Лучшая точность наблюдается при минимальном кол-ве выборок для разделения: {best_samples_split}')\n",
    "print(f'Лушчая точность наблюдается при минимальном кол-ве образцов в одном листе: {best_samples_leaf}')"
   ]
  },
  {
   "cell_type": "code",
   "execution_count": 13,
   "metadata": {},
   "outputs": [],
   "source": [
    "best_model = DecisionTreeClassifier(random_state=12345, \n",
    "                                    max_depth=best_tree_depth, \n",
    "                                    min_samples_split=best_samples_split, \n",
    "                                    min_samples_leaf=best_samples_leaf)"
   ]
  },
  {
   "cell_type": "code",
   "execution_count": 14,
   "metadata": {},
   "outputs": [
    {
     "name": "stdout",
     "output_type": "stream",
     "text": [
      "Вычисленная ранее точность модели на валидационной выборке: 0.8087091757387247\n"
     ]
    }
   ],
   "source": [
    "best_model.fit(features_train, target_train)\n",
    "answer = best_model.predict(features_validate)\n",
    "accuracy = accuracy_score(answer, target_validate)\n",
    "print(f'Вычисленная ранее точность модели на валидационной выборке: {accuracy}')"
   ]
  },
  {
   "cell_type": "markdown",
   "metadata": {},
   "source": [
    "Теперь проверим, какую точность модель покажет на тестовой выборке:"
   ]
  },
  {
   "cell_type": "code",
   "execution_count": 15,
   "metadata": {},
   "outputs": [
    {
     "name": "stdout",
     "output_type": "stream",
     "text": [
      "Точность модели на тестовой выборке: 0.80248833592535\n"
     ]
    }
   ],
   "source": [
    "answer = best_model.predict(features_test)\n",
    "accuracy = accuracy_score(answer, target_test)\n",
    "print(f'Точность модели на тестовой выборке: {accuracy}')"
   ]
  },
  {
   "cell_type": "markdown",
   "metadata": {},
   "source": [
    "Требуемая точность ответов была заявлена, как 0.75, соответственно можем сказать, что всё выполнено успешно:"
   ]
  },
  {
   "cell_type": "code",
   "execution_count": 16,
   "metadata": {},
   "outputs": [
    {
     "name": "stdout",
     "output_type": "stream",
     "text": [
      "модель работает достаточно точно\n"
     ]
    }
   ],
   "source": [
    "required_accuracy = 0.75\n",
    "if accuracy >= required_accuracy:\n",
    "    print('модель работает достаточно точно')\n",
    "else:\n",
    "    print('модель не выдаёт нужной точности')"
   ]
  },
  {
   "cell_type": "markdown",
   "metadata": {},
   "source": [
    "## (бонус) Проверьте модели на адекватность"
   ]
  },
  {
   "cell_type": "markdown",
   "metadata": {},
   "source": [
    "Насколько я понял из теории, проверка модели на адекватность - это проверка на то, насколько она вообще работает лучше, чем в лоб записанные предсказания без какого-либо машинного обучения. Если модель оказывается даже худшим предсказателем, то по сути она невменяема и не несёт никакой пользы. Попробуем при помощи библиотеки random просто записать ряд 0 и 1 и сравнить насколько высокую точность покажет такое предсказание, чтобы знать, ниже какой точности модели в данном проекте можно считать невменяемыми"
   ]
  },
  {
   "cell_type": "code",
   "execution_count": 17,
   "metadata": {},
   "outputs": [],
   "source": [
    "random_predictions = []\n",
    "for number in range(len(target_test)):\n",
    "    random_predictions.append(random.randint(0,1))"
   ]
  },
  {
   "cell_type": "code",
   "execution_count": 18,
   "metadata": {},
   "outputs": [],
   "source": [
    "random_accuracy = accuracy_score(pd.Series(random_predictions), target_test)"
   ]
  },
  {
   "cell_type": "code",
   "execution_count": 19,
   "metadata": {},
   "outputs": [
    {
     "data": {
      "text/plain": [
       "0.5023328149300156"
      ]
     },
     "execution_count": 19,
     "metadata": {},
     "output_type": "execute_result"
    }
   ],
   "source": [
    "random_accuracy"
   ]
  },
  {
   "cell_type": "markdown",
   "metadata": {},
   "source": [
    "В целом было ожидаемо, что когда мы говорим о предсказании ряда из 0 и 1, то просто на рандоме можно его угадывать примерно с вероятностью 50 на 50. Все выше обученные модели имели точность предсказаний в диапазоне 0.7 - 0.8, так что могут считаться адекватными, но при определённых неудачных параметрах (например слишком большой глубине дерева или слишком большом размере леса деревьев при переобучении, или наоборот их малом числе при недообучении, полученное значение **random_accuracy** может служить своеобразным фильтром чтобы сразу отказаться от модели, так как даже рандомный генератор чисел работает эффективнее"
   ]
  },
  {
   "cell_type": "code",
   "execution_count": 20,
   "metadata": {},
   "outputs": [],
   "source": [
    "from sklearn.dummy import DummyClassifier"
   ]
  },
  {
   "cell_type": "markdown",
   "metadata": {},
   "source": [
    "Сначала вручную проверим с какой точностью работают модели, где предсказаны просто 0 или 1, так как по сути это 2 единственно возможных предсказания в данной задаче."
   ]
  },
  {
   "cell_type": "code",
   "execution_count": 21,
   "metadata": {},
   "outputs": [],
   "source": [
    "zero_predictions = []\n",
    "for number in range(len(target_test)):\n",
    "    zero_predictions.append(0)\n",
    "one_predictions = []\n",
    "for number in range(len(target_test)):\n",
    "    one_predictions.append(1)"
   ]
  },
  {
   "cell_type": "code",
   "execution_count": 22,
   "metadata": {},
   "outputs": [
    {
     "name": "stdout",
     "output_type": "stream",
     "text": [
      "Точность предсказаний из одних только нулей: 0.6905132192846034\n",
      "Точность предсказаний из одних только единиц: 0.3094867807153966\n"
     ]
    }
   ],
   "source": [
    "zero_accuracy = accuracy_score(pd.Series(zero_predictions), target_test)\n",
    "one_accuracy = accuracy_score(pd.Series(one_predictions), target_test)\n",
    "print(f'Точность предсказаний из одних только нулей: {zero_accuracy}')\n",
    "print(f'Точность предсказаний из одних только единиц: {one_accuracy}')"
   ]
  },
  {
   "cell_type": "markdown",
   "metadata": {},
   "source": [
    "Очевидно чаще в тестовой выборке встречаются именно 0 в качестве правильных предсказаний, то есть большинство использует тариф smart. Попробуем заставить об этом догадаться и \"глупую модель\" посмотрев, что она выберет"
   ]
  },
  {
   "cell_type": "code",
   "execution_count": 23,
   "metadata": {},
   "outputs": [],
   "source": [
    "dummy_clf = DummyClassifier(strategy=\"most_frequent\") \n",
    "# модель решит, что резоннее всего выбрать самый часто встречающийся ответ в качестве верного предсказания"
   ]
  },
  {
   "cell_type": "code",
   "execution_count": 24,
   "metadata": {},
   "outputs": [
    {
     "name": "stdout",
     "output_type": "stream",
     "text": [
      "Точность \"глупой\" модели на тестовой выборке: 0.6905132192846034\n"
     ]
    }
   ],
   "source": [
    "dummy_clf.fit(features_train, target_train)\n",
    "answer = dummy_clf.predict(features_test)\n",
    "accuracy = accuracy_score(answer, target_test)\n",
    "print(f'Точность \"глупой\" модели на тестовой выборке: {accuracy}')"
   ]
  },
  {
   "cell_type": "code",
   "execution_count": 25,
   "metadata": {},
   "outputs": [
    {
     "data": {
      "text/plain": [
       "array([0, 0, 0, 0, 0, 0, 0, 0, 0, 0, 0, 0, 0, 0, 0, 0, 0, 0, 0, 0, 0, 0,\n",
       "       0, 0, 0, 0, 0, 0, 0, 0, 0, 0, 0, 0, 0, 0, 0, 0, 0, 0, 0, 0, 0, 0,\n",
       "       0, 0, 0, 0, 0, 0, 0, 0, 0, 0, 0, 0, 0, 0, 0, 0, 0, 0, 0, 0, 0, 0,\n",
       "       0, 0, 0, 0, 0, 0, 0, 0, 0, 0, 0, 0, 0, 0, 0, 0, 0, 0, 0, 0, 0, 0,\n",
       "       0, 0, 0, 0, 0, 0, 0, 0, 0, 0, 0, 0, 0, 0, 0, 0, 0, 0, 0, 0, 0, 0,\n",
       "       0, 0, 0, 0, 0, 0, 0, 0, 0, 0, 0, 0, 0, 0, 0, 0, 0, 0, 0, 0, 0, 0,\n",
       "       0, 0, 0, 0, 0, 0, 0, 0, 0, 0, 0, 0, 0, 0, 0, 0, 0, 0, 0, 0, 0, 0,\n",
       "       0, 0, 0, 0, 0, 0, 0, 0, 0, 0, 0, 0, 0, 0, 0, 0, 0, 0, 0, 0, 0, 0,\n",
       "       0, 0, 0, 0, 0, 0, 0, 0, 0, 0, 0, 0, 0, 0, 0, 0, 0, 0, 0, 0, 0, 0,\n",
       "       0, 0, 0, 0, 0, 0, 0, 0, 0, 0, 0, 0, 0, 0, 0, 0, 0, 0, 0, 0, 0, 0,\n",
       "       0, 0, 0, 0, 0, 0, 0, 0, 0, 0, 0, 0, 0, 0, 0, 0, 0, 0, 0, 0, 0, 0,\n",
       "       0, 0, 0, 0, 0, 0, 0, 0, 0, 0, 0, 0, 0, 0, 0, 0, 0, 0, 0, 0, 0, 0,\n",
       "       0, 0, 0, 0, 0, 0, 0, 0, 0, 0, 0, 0, 0, 0, 0, 0, 0, 0, 0, 0, 0, 0,\n",
       "       0, 0, 0, 0, 0, 0, 0, 0, 0, 0, 0, 0, 0, 0, 0, 0, 0, 0, 0, 0, 0, 0,\n",
       "       0, 0, 0, 0, 0, 0, 0, 0, 0, 0, 0, 0, 0, 0, 0, 0, 0, 0, 0, 0, 0, 0,\n",
       "       0, 0, 0, 0, 0, 0, 0, 0, 0, 0, 0, 0, 0, 0, 0, 0, 0, 0, 0, 0, 0, 0,\n",
       "       0, 0, 0, 0, 0, 0, 0, 0, 0, 0, 0, 0, 0, 0, 0, 0, 0, 0, 0, 0, 0, 0,\n",
       "       0, 0, 0, 0, 0, 0, 0, 0, 0, 0, 0, 0, 0, 0, 0, 0, 0, 0, 0, 0, 0, 0,\n",
       "       0, 0, 0, 0, 0, 0, 0, 0, 0, 0, 0, 0, 0, 0, 0, 0, 0, 0, 0, 0, 0, 0,\n",
       "       0, 0, 0, 0, 0, 0, 0, 0, 0, 0, 0, 0, 0, 0, 0, 0, 0, 0, 0, 0, 0, 0,\n",
       "       0, 0, 0, 0, 0, 0, 0, 0, 0, 0, 0, 0, 0, 0, 0, 0, 0, 0, 0, 0, 0, 0,\n",
       "       0, 0, 0, 0, 0, 0, 0, 0, 0, 0, 0, 0, 0, 0, 0, 0, 0, 0, 0, 0, 0, 0,\n",
       "       0, 0, 0, 0, 0, 0, 0, 0, 0, 0, 0, 0, 0, 0, 0, 0, 0, 0, 0, 0, 0, 0,\n",
       "       0, 0, 0, 0, 0, 0, 0, 0, 0, 0, 0, 0, 0, 0, 0, 0, 0, 0, 0, 0, 0, 0,\n",
       "       0, 0, 0, 0, 0, 0, 0, 0, 0, 0, 0, 0, 0, 0, 0, 0, 0, 0, 0, 0, 0, 0,\n",
       "       0, 0, 0, 0, 0, 0, 0, 0, 0, 0, 0, 0, 0, 0, 0, 0, 0, 0, 0, 0, 0, 0,\n",
       "       0, 0, 0, 0, 0, 0, 0, 0, 0, 0, 0, 0, 0, 0, 0, 0, 0, 0, 0, 0, 0, 0,\n",
       "       0, 0, 0, 0, 0, 0, 0, 0, 0, 0, 0, 0, 0, 0, 0, 0, 0, 0, 0, 0, 0, 0,\n",
       "       0, 0, 0, 0, 0, 0, 0, 0, 0, 0, 0, 0, 0, 0, 0, 0, 0, 0, 0, 0, 0, 0,\n",
       "       0, 0, 0, 0, 0])"
      ]
     },
     "execution_count": 25,
     "metadata": {},
     "output_type": "execute_result"
    }
   ],
   "source": [
    "answer"
   ]
  },
  {
   "cell_type": "markdown",
   "metadata": {},
   "source": [
    "Собственно, как я понимаю всё вышло по плану: \"глупая модель\" догадалась, что чаще всего встречается именно 0 в качестве правильного ответа в тренировочной выборке, и решила просто всегда отвечать 0 в качестве предсказаний и на тестовой. В целом, точность почти в 0.7 в данном случае вполне конкурентна даже на фоне полученных выше обученных моделей, поэтому оказалось весьма интересно. Спасибо что дал ссылку ознакомиться с такими моделями"
   ]
  }
 ],
 "metadata": {
  "ExecuteTimeLog": [
   {
    "duration": 388,
    "start_time": "2022-02-12T08:25:14.874Z"
   },
   {
    "duration": 3,
    "start_time": "2022-02-12T08:25:54.501Z"
   },
   {
    "duration": 274,
    "start_time": "2022-02-12T08:27:14.262Z"
   },
   {
    "duration": 12,
    "start_time": "2022-02-12T08:27:21.422Z"
   },
   {
    "duration": 19,
    "start_time": "2022-02-12T08:27:31.423Z"
   },
   {
    "duration": 4,
    "start_time": "2022-02-12T08:35:14.605Z"
   },
   {
    "duration": 6,
    "start_time": "2022-02-12T08:35:53.596Z"
   },
   {
    "duration": 12,
    "start_time": "2022-02-12T08:36:04.513Z"
   },
   {
    "duration": 230,
    "start_time": "2022-02-12T08:36:20.156Z"
   },
   {
    "duration": 13,
    "start_time": "2022-02-12T08:36:25.215Z"
   },
   {
    "duration": 12,
    "start_time": "2022-02-12T08:36:37.151Z"
   },
   {
    "duration": 5,
    "start_time": "2022-02-12T08:40:17.347Z"
   },
   {
    "duration": 11,
    "start_time": "2022-02-12T08:40:32.400Z"
   },
   {
    "duration": 5,
    "start_time": "2022-02-12T08:40:45.404Z"
   },
   {
    "duration": 10,
    "start_time": "2022-02-12T08:40:57.557Z"
   },
   {
    "duration": 5,
    "start_time": "2022-02-12T08:41:10.054Z"
   },
   {
    "duration": 10,
    "start_time": "2022-02-12T08:41:15.880Z"
   },
   {
    "duration": 5,
    "start_time": "2022-02-12T08:41:21.706Z"
   },
   {
    "duration": 258,
    "start_time": "2022-02-12T09:15:49.547Z"
   },
   {
    "duration": 205,
    "start_time": "2022-02-12T09:16:10.337Z"
   },
   {
    "duration": 181,
    "start_time": "2022-02-12T09:16:51.450Z"
   },
   {
    "duration": 366,
    "start_time": "2022-02-12T09:17:06.156Z"
   },
   {
    "duration": 5695,
    "start_time": "2022-02-12T09:18:54.486Z"
   },
   {
    "duration": 1015,
    "start_time": "2022-02-12T09:34:12.142Z"
   },
   {
    "duration": 14,
    "start_time": "2022-02-12T09:34:13.159Z"
   },
   {
    "duration": 22,
    "start_time": "2022-02-12T09:34:13.175Z"
   },
   {
    "duration": 7,
    "start_time": "2022-02-12T09:34:13.199Z"
   },
   {
    "duration": 17,
    "start_time": "2022-02-12T09:34:13.212Z"
   },
   {
    "duration": 17,
    "start_time": "2022-02-12T09:34:13.230Z"
   },
   {
    "duration": 15,
    "start_time": "2022-02-12T09:34:13.248Z"
   },
   {
    "duration": 18,
    "start_time": "2022-02-12T09:34:13.265Z"
   },
   {
    "duration": 6137,
    "start_time": "2022-02-12T09:34:13.284Z"
   },
   {
    "duration": -93,
    "start_time": "2022-02-12T09:34:19.516Z"
   },
   {
    "duration": 5736,
    "start_time": "2022-02-12T09:34:43.106Z"
   },
   {
    "duration": 5768,
    "start_time": "2022-02-12T09:35:18.644Z"
   },
   {
    "duration": 5672,
    "start_time": "2022-02-12T09:35:36.003Z"
   },
   {
    "duration": 78,
    "start_time": "2022-02-12T09:41:39.803Z"
   },
   {
    "duration": 68,
    "start_time": "2022-02-12T09:41:53.344Z"
   },
   {
    "duration": 195,
    "start_time": "2022-02-12T09:42:06.454Z"
   },
   {
    "duration": 194,
    "start_time": "2022-02-12T09:43:12.105Z"
   },
   {
    "duration": 206,
    "start_time": "2022-02-12T09:43:25.928Z"
   },
   {
    "duration": 14,
    "start_time": "2022-02-12T10:02:53.566Z"
   },
   {
    "duration": 13,
    "start_time": "2022-02-12T10:03:04.788Z"
   },
   {
    "duration": 20,
    "start_time": "2022-02-12T10:04:47.860Z"
   },
   {
    "duration": 20,
    "start_time": "2022-02-12T10:05:40.743Z"
   },
   {
    "duration": 20,
    "start_time": "2022-02-12T10:05:54.621Z"
   },
   {
    "duration": 20,
    "start_time": "2022-02-12T10:06:27.978Z"
   },
   {
    "duration": 4,
    "start_time": "2022-02-12T10:12:21.022Z"
   },
   {
    "duration": 3,
    "start_time": "2022-02-12T10:13:59.208Z"
   },
   {
    "duration": 13,
    "start_time": "2022-02-12T10:14:29.666Z"
   },
   {
    "duration": 13,
    "start_time": "2022-02-12T10:15:20.000Z"
   },
   {
    "duration": 13,
    "start_time": "2022-02-12T10:15:27.062Z"
   },
   {
    "duration": 13,
    "start_time": "2022-02-12T10:16:24.142Z"
   },
   {
    "duration": 6,
    "start_time": "2022-02-12T10:17:32.873Z"
   },
   {
    "duration": 3,
    "start_time": "2022-02-12T10:20:16.699Z"
   },
   {
    "duration": 198,
    "start_time": "2022-02-12T10:25:18.211Z"
   },
   {
    "duration": 179,
    "start_time": "2022-02-12T10:25:28.512Z"
   },
   {
    "duration": 186,
    "start_time": "2022-02-12T10:25:42.777Z"
   },
   {
    "duration": 193,
    "start_time": "2022-02-12T10:25:53.082Z"
   },
   {
    "duration": 4,
    "start_time": "2022-02-12T10:26:57.139Z"
   },
   {
    "duration": 6,
    "start_time": "2022-02-12T10:27:32.976Z"
   },
   {
    "duration": 3,
    "start_time": "2022-02-12T10:27:41.783Z"
   },
   {
    "duration": 1143,
    "start_time": "2022-02-12T10:33:16.012Z"
   },
   {
    "duration": 13,
    "start_time": "2022-02-12T10:33:17.157Z"
   },
   {
    "duration": 17,
    "start_time": "2022-02-12T10:33:17.172Z"
   },
   {
    "duration": 15,
    "start_time": "2022-02-12T10:33:17.190Z"
   },
   {
    "duration": 16,
    "start_time": "2022-02-12T10:33:17.206Z"
   },
   {
    "duration": 11,
    "start_time": "2022-02-12T10:33:17.224Z"
   },
   {
    "duration": 20,
    "start_time": "2022-02-12T10:33:17.237Z"
   },
   {
    "duration": 20,
    "start_time": "2022-02-12T10:33:17.260Z"
   },
   {
    "duration": 5791,
    "start_time": "2022-02-12T10:33:17.282Z"
   },
   {
    "duration": 207,
    "start_time": "2022-02-12T10:33:23.075Z"
   },
   {
    "duration": 35,
    "start_time": "2022-02-12T10:33:23.284Z"
   },
   {
    "duration": 5,
    "start_time": "2022-02-12T10:33:23.321Z"
   },
   {
    "duration": 13,
    "start_time": "2022-02-12T10:33:23.328Z"
   },
   {
    "duration": 13,
    "start_time": "2022-02-12T10:33:23.343Z"
   },
   {
    "duration": 4,
    "start_time": "2022-02-12T10:33:23.358Z"
   },
   {
    "duration": 7,
    "start_time": "2022-02-12T10:33:23.364Z"
   },
   {
    "duration": 8,
    "start_time": "2022-02-12T10:33:23.372Z"
   },
   {
    "duration": 10,
    "start_time": "2022-02-12T10:33:23.381Z"
   },
   {
    "duration": 4,
    "start_time": "2022-02-12T10:33:23.412Z"
   },
   {
    "duration": 997,
    "start_time": "2022-02-12T10:43:48.761Z"
   },
   {
    "duration": 13,
    "start_time": "2022-02-12T10:43:49.760Z"
   },
   {
    "duration": 24,
    "start_time": "2022-02-12T10:43:49.775Z"
   },
   {
    "duration": 17,
    "start_time": "2022-02-12T10:43:49.801Z"
   },
   {
    "duration": 38,
    "start_time": "2022-02-12T10:43:49.820Z"
   },
   {
    "duration": 21,
    "start_time": "2022-02-12T10:43:49.859Z"
   },
   {
    "duration": 33,
    "start_time": "2022-02-12T10:43:49.881Z"
   },
   {
    "duration": 35,
    "start_time": "2022-02-12T10:43:49.916Z"
   },
   {
    "duration": 5670,
    "start_time": "2022-02-12T10:43:49.953Z"
   },
   {
    "duration": 208,
    "start_time": "2022-02-12T10:43:55.625Z"
   },
   {
    "duration": 20,
    "start_time": "2022-02-12T10:43:55.834Z"
   },
   {
    "duration": 15,
    "start_time": "2022-02-12T10:43:55.856Z"
   },
   {
    "duration": 33,
    "start_time": "2022-02-12T10:43:55.873Z"
   },
   {
    "duration": 40,
    "start_time": "2022-02-12T10:43:55.907Z"
   },
   {
    "duration": 5,
    "start_time": "2022-02-12T10:43:55.948Z"
   },
   {
    "duration": 22,
    "start_time": "2022-02-12T10:43:55.955Z"
   },
   {
    "duration": 18,
    "start_time": "2022-02-12T10:43:55.978Z"
   },
   {
    "duration": 18,
    "start_time": "2022-02-12T10:43:55.998Z"
   },
   {
    "duration": 21,
    "start_time": "2022-02-12T10:43:56.018Z"
   },
   {
    "duration": 592,
    "start_time": "2022-02-12T12:33:26.225Z"
   },
   {
    "duration": 1264,
    "start_time": "2022-02-12T12:33:37.306Z"
   },
   {
    "duration": 16,
    "start_time": "2022-02-12T12:33:38.573Z"
   },
   {
    "duration": 28,
    "start_time": "2022-02-12T12:33:38.592Z"
   },
   {
    "duration": 7,
    "start_time": "2022-02-12T12:33:38.623Z"
   },
   {
    "duration": 30,
    "start_time": "2022-02-12T12:33:38.632Z"
   },
   {
    "duration": 28,
    "start_time": "2022-02-12T12:33:38.665Z"
   },
   {
    "duration": 32,
    "start_time": "2022-02-12T12:33:38.694Z"
   },
   {
    "duration": 27,
    "start_time": "2022-02-12T12:33:38.729Z"
   },
   {
    "duration": 7311,
    "start_time": "2022-02-12T12:33:38.759Z"
   },
   {
    "duration": 262,
    "start_time": "2022-02-12T12:33:46.073Z"
   },
   {
    "duration": 25,
    "start_time": "2022-02-12T12:33:46.338Z"
   },
   {
    "duration": 4,
    "start_time": "2022-02-12T12:33:46.365Z"
   },
   {
    "duration": 9,
    "start_time": "2022-02-12T12:33:46.371Z"
   },
   {
    "duration": 37,
    "start_time": "2022-02-12T12:33:46.383Z"
   },
   {
    "duration": 6,
    "start_time": "2022-02-12T12:33:46.422Z"
   },
   {
    "duration": 16,
    "start_time": "2022-02-12T12:33:46.430Z"
   },
   {
    "duration": 8,
    "start_time": "2022-02-12T12:33:46.447Z"
   },
   {
    "duration": 10,
    "start_time": "2022-02-12T12:33:46.457Z"
   },
   {
    "duration": 7,
    "start_time": "2022-02-12T12:33:46.469Z"
   },
   {
    "duration": 11,
    "start_time": "2022-02-12T12:33:46.477Z"
   },
   {
    "duration": 5,
    "start_time": "2022-02-12T12:37:39.026Z"
   },
   {
    "duration": 8,
    "start_time": "2022-02-12T12:39:23.562Z"
   },
   {
    "duration": 5,
    "start_time": "2022-02-12T12:40:01.713Z"
   },
   {
    "duration": 3,
    "start_time": "2022-02-12T12:43:02.031Z"
   },
   {
    "duration": 7,
    "start_time": "2022-02-12T12:43:33.663Z"
   },
   {
    "duration": 330,
    "start_time": "2022-02-12T12:43:48.752Z"
   },
   {
    "duration": 6,
    "start_time": "2022-02-12T12:44:02.258Z"
   },
   {
    "duration": 241,
    "start_time": "2022-02-12T12:44:13.671Z"
   },
   {
    "duration": 5,
    "start_time": "2022-02-12T12:44:18.916Z"
   },
   {
    "duration": 4,
    "start_time": "2022-02-12T12:44:23.487Z"
   },
   {
    "duration": 6,
    "start_time": "2022-02-12T12:46:40.471Z"
   },
   {
    "duration": 5,
    "start_time": "2022-02-12T12:47:03.188Z"
   },
   {
    "duration": 341,
    "start_time": "2022-02-12T12:47:16.144Z"
   },
   {
    "duration": 6,
    "start_time": "2022-02-12T12:47:21.796Z"
   },
   {
    "duration": 1151,
    "start_time": "2022-02-12T12:50:21.913Z"
   },
   {
    "duration": 14,
    "start_time": "2022-02-12T12:50:23.066Z"
   },
   {
    "duration": 28,
    "start_time": "2022-02-12T12:50:23.082Z"
   },
   {
    "duration": 20,
    "start_time": "2022-02-12T12:50:23.112Z"
   },
   {
    "duration": 42,
    "start_time": "2022-02-12T12:50:23.134Z"
   },
   {
    "duration": 24,
    "start_time": "2022-02-12T12:50:23.178Z"
   },
   {
    "duration": 30,
    "start_time": "2022-02-12T12:50:23.204Z"
   },
   {
    "duration": 19,
    "start_time": "2022-02-12T12:50:23.237Z"
   },
   {
    "duration": 6305,
    "start_time": "2022-02-12T12:50:23.259Z"
   },
   {
    "duration": 220,
    "start_time": "2022-02-12T12:50:29.566Z"
   },
   {
    "duration": 33,
    "start_time": "2022-02-12T12:50:29.788Z"
   },
   {
    "duration": 4,
    "start_time": "2022-02-12T12:50:29.823Z"
   },
   {
    "duration": 27,
    "start_time": "2022-02-12T12:50:29.828Z"
   },
   {
    "duration": 35,
    "start_time": "2022-02-12T12:50:29.857Z"
   },
   {
    "duration": 14,
    "start_time": "2022-02-12T12:50:29.894Z"
   },
   {
    "duration": 23,
    "start_time": "2022-02-12T12:50:29.910Z"
   },
   {
    "duration": 21,
    "start_time": "2022-02-12T12:50:29.935Z"
   },
   {
    "duration": 23,
    "start_time": "2022-02-12T12:50:29.958Z"
   },
   {
    "duration": 29,
    "start_time": "2022-02-12T12:50:29.983Z"
   },
   {
    "duration": 25,
    "start_time": "2022-02-12T12:50:30.015Z"
   },
   {
    "duration": 25,
    "start_time": "2022-02-12T12:50:30.042Z"
   },
   {
    "duration": 25,
    "start_time": "2022-02-12T12:50:30.069Z"
   },
   {
    "duration": 28,
    "start_time": "2022-02-12T12:50:30.098Z"
   },
   {
    "duration": 18,
    "start_time": "2022-02-12T12:50:30.129Z"
   },
   {
    "duration": 21,
    "start_time": "2022-02-12T12:50:30.150Z"
   },
   {
    "duration": 15,
    "start_time": "2022-02-12T12:50:30.174Z"
   },
   {
    "duration": 1231,
    "start_time": "2022-02-12T12:51:31.213Z"
   },
   {
    "duration": 17,
    "start_time": "2022-02-12T12:51:32.448Z"
   },
   {
    "duration": 72,
    "start_time": "2022-02-12T12:51:32.469Z"
   },
   {
    "duration": 8,
    "start_time": "2022-02-12T12:51:32.544Z"
   },
   {
    "duration": 40,
    "start_time": "2022-02-12T12:51:32.555Z"
   },
   {
    "duration": 19,
    "start_time": "2022-02-12T12:51:32.597Z"
   },
   {
    "duration": 22,
    "start_time": "2022-02-12T12:51:32.617Z"
   },
   {
    "duration": 27,
    "start_time": "2022-02-12T12:51:32.643Z"
   },
   {
    "duration": 6341,
    "start_time": "2022-02-12T12:51:32.673Z"
   },
   {
    "duration": 215,
    "start_time": "2022-02-12T12:51:39.016Z"
   },
   {
    "duration": 22,
    "start_time": "2022-02-12T12:51:39.233Z"
   },
   {
    "duration": 4,
    "start_time": "2022-02-12T12:51:39.258Z"
   },
   {
    "duration": 16,
    "start_time": "2022-02-12T12:51:39.264Z"
   },
   {
    "duration": 35,
    "start_time": "2022-02-12T12:51:39.282Z"
   },
   {
    "duration": 7,
    "start_time": "2022-02-12T12:51:39.319Z"
   },
   {
    "duration": 12,
    "start_time": "2022-02-12T12:51:39.328Z"
   },
   {
    "duration": 6,
    "start_time": "2022-02-12T12:51:39.342Z"
   },
   {
    "duration": 21,
    "start_time": "2022-02-12T12:51:39.350Z"
   },
   {
    "duration": 7,
    "start_time": "2022-02-12T12:51:39.374Z"
   },
   {
    "duration": 18,
    "start_time": "2022-02-12T12:51:39.383Z"
   },
   {
    "duration": 7,
    "start_time": "2022-02-12T12:51:39.403Z"
   },
   {
    "duration": 16,
    "start_time": "2022-02-12T12:51:39.412Z"
   },
   {
    "duration": 8,
    "start_time": "2022-02-12T12:51:39.431Z"
   },
   {
    "duration": 14,
    "start_time": "2022-02-12T12:51:39.442Z"
   },
   {
    "duration": 12,
    "start_time": "2022-02-12T12:51:39.457Z"
   }
  ],
  "kernelspec": {
   "display_name": "Python 3",
   "language": "python",
   "name": "python3"
  },
  "language_info": {
   "codemirror_mode": {
    "name": "ipython",
    "version": 3
   },
   "file_extension": ".py",
   "mimetype": "text/x-python",
   "name": "python",
   "nbconvert_exporter": "python",
   "pygments_lexer": "ipython3",
   "version": "3.8.8"
  },
  "toc": {
   "base_numbering": 1,
   "nav_menu": {},
   "number_sections": true,
   "sideBar": true,
   "skip_h1_title": true,
   "title_cell": "Table of Contents",
   "title_sidebar": "Contents",
   "toc_cell": false,
   "toc_position": {},
   "toc_section_display": true,
   "toc_window_display": false
  }
 },
 "nbformat": 4,
 "nbformat_minor": 2
}
