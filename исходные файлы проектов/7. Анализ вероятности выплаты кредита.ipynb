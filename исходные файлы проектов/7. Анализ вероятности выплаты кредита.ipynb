{
 "cells": [
  {
   "cell_type": "markdown",
   "metadata": {},
   "source": [
    "# Исследование надёжности заёмщиков\n",
    "\n",
    "Заказчик — кредитный отдел банка. Нужно разобраться, влияет ли семейное положение и количество детей клиента на факт погашения кредита в срок. Входные данные от банка — статистика о платёжеспособности клиентов.\n",
    "\n",
    "Результаты исследования будут учтены при построении модели **кредитного скоринга** — специальной системы, которая оценивает способность потенциального заёмщика вернуть кредит банку."
   ]
  },
  {
   "cell_type": "markdown",
   "metadata": {},
   "source": [
    "## Шаг 1. Откройте файл с данными и изучите общую информацию"
   ]
  },
  {
   "cell_type": "code",
   "execution_count": 1,
   "metadata": {
    "scrolled": true
   },
   "outputs": [
    {
     "data": {
      "text/html": [
       "<div>\n",
       "<style scoped>\n",
       "    .dataframe tbody tr th:only-of-type {\n",
       "        vertical-align: middle;\n",
       "    }\n",
       "\n",
       "    .dataframe tbody tr th {\n",
       "        vertical-align: top;\n",
       "    }\n",
       "\n",
       "    .dataframe thead th {\n",
       "        text-align: right;\n",
       "    }\n",
       "</style>\n",
       "<table border=\"1\" class=\"dataframe\">\n",
       "  <thead>\n",
       "    <tr style=\"text-align: right;\">\n",
       "      <th></th>\n",
       "      <th>children</th>\n",
       "      <th>days_employed</th>\n",
       "      <th>dob_years</th>\n",
       "      <th>education</th>\n",
       "      <th>education_id</th>\n",
       "      <th>family_status</th>\n",
       "      <th>family_status_id</th>\n",
       "      <th>gender</th>\n",
       "      <th>income_type</th>\n",
       "      <th>debt</th>\n",
       "      <th>total_income</th>\n",
       "      <th>purpose</th>\n",
       "    </tr>\n",
       "  </thead>\n",
       "  <tbody>\n",
       "    <tr>\n",
       "      <td>0</td>\n",
       "      <td>1</td>\n",
       "      <td>-8437.673028</td>\n",
       "      <td>42</td>\n",
       "      <td>высшее</td>\n",
       "      <td>0</td>\n",
       "      <td>женат / замужем</td>\n",
       "      <td>0</td>\n",
       "      <td>F</td>\n",
       "      <td>сотрудник</td>\n",
       "      <td>0</td>\n",
       "      <td>253875.639453</td>\n",
       "      <td>покупка жилья</td>\n",
       "    </tr>\n",
       "    <tr>\n",
       "      <td>1</td>\n",
       "      <td>1</td>\n",
       "      <td>-4024.803754</td>\n",
       "      <td>36</td>\n",
       "      <td>среднее</td>\n",
       "      <td>1</td>\n",
       "      <td>женат / замужем</td>\n",
       "      <td>0</td>\n",
       "      <td>F</td>\n",
       "      <td>сотрудник</td>\n",
       "      <td>0</td>\n",
       "      <td>112080.014102</td>\n",
       "      <td>приобретение автомобиля</td>\n",
       "    </tr>\n",
       "    <tr>\n",
       "      <td>2</td>\n",
       "      <td>0</td>\n",
       "      <td>-5623.422610</td>\n",
       "      <td>33</td>\n",
       "      <td>Среднее</td>\n",
       "      <td>1</td>\n",
       "      <td>женат / замужем</td>\n",
       "      <td>0</td>\n",
       "      <td>M</td>\n",
       "      <td>сотрудник</td>\n",
       "      <td>0</td>\n",
       "      <td>145885.952297</td>\n",
       "      <td>покупка жилья</td>\n",
       "    </tr>\n",
       "    <tr>\n",
       "      <td>3</td>\n",
       "      <td>3</td>\n",
       "      <td>-4124.747207</td>\n",
       "      <td>32</td>\n",
       "      <td>среднее</td>\n",
       "      <td>1</td>\n",
       "      <td>женат / замужем</td>\n",
       "      <td>0</td>\n",
       "      <td>M</td>\n",
       "      <td>сотрудник</td>\n",
       "      <td>0</td>\n",
       "      <td>267628.550329</td>\n",
       "      <td>дополнительное образование</td>\n",
       "    </tr>\n",
       "    <tr>\n",
       "      <td>4</td>\n",
       "      <td>0</td>\n",
       "      <td>340266.072047</td>\n",
       "      <td>53</td>\n",
       "      <td>среднее</td>\n",
       "      <td>1</td>\n",
       "      <td>гражданский брак</td>\n",
       "      <td>1</td>\n",
       "      <td>F</td>\n",
       "      <td>пенсионер</td>\n",
       "      <td>0</td>\n",
       "      <td>158616.077870</td>\n",
       "      <td>сыграть свадьбу</td>\n",
       "    </tr>\n",
       "    <tr>\n",
       "      <td>...</td>\n",
       "      <td>...</td>\n",
       "      <td>...</td>\n",
       "      <td>...</td>\n",
       "      <td>...</td>\n",
       "      <td>...</td>\n",
       "      <td>...</td>\n",
       "      <td>...</td>\n",
       "      <td>...</td>\n",
       "      <td>...</td>\n",
       "      <td>...</td>\n",
       "      <td>...</td>\n",
       "      <td>...</td>\n",
       "    </tr>\n",
       "    <tr>\n",
       "      <td>21520</td>\n",
       "      <td>1</td>\n",
       "      <td>-4529.316663</td>\n",
       "      <td>43</td>\n",
       "      <td>среднее</td>\n",
       "      <td>1</td>\n",
       "      <td>гражданский брак</td>\n",
       "      <td>1</td>\n",
       "      <td>F</td>\n",
       "      <td>компаньон</td>\n",
       "      <td>0</td>\n",
       "      <td>224791.862382</td>\n",
       "      <td>операции с жильем</td>\n",
       "    </tr>\n",
       "    <tr>\n",
       "      <td>21521</td>\n",
       "      <td>0</td>\n",
       "      <td>343937.404131</td>\n",
       "      <td>67</td>\n",
       "      <td>среднее</td>\n",
       "      <td>1</td>\n",
       "      <td>женат / замужем</td>\n",
       "      <td>0</td>\n",
       "      <td>F</td>\n",
       "      <td>пенсионер</td>\n",
       "      <td>0</td>\n",
       "      <td>155999.806512</td>\n",
       "      <td>сделка с автомобилем</td>\n",
       "    </tr>\n",
       "    <tr>\n",
       "      <td>21522</td>\n",
       "      <td>1</td>\n",
       "      <td>-2113.346888</td>\n",
       "      <td>38</td>\n",
       "      <td>среднее</td>\n",
       "      <td>1</td>\n",
       "      <td>гражданский брак</td>\n",
       "      <td>1</td>\n",
       "      <td>M</td>\n",
       "      <td>сотрудник</td>\n",
       "      <td>1</td>\n",
       "      <td>89672.561153</td>\n",
       "      <td>недвижимость</td>\n",
       "    </tr>\n",
       "    <tr>\n",
       "      <td>21523</td>\n",
       "      <td>3</td>\n",
       "      <td>-3112.481705</td>\n",
       "      <td>38</td>\n",
       "      <td>среднее</td>\n",
       "      <td>1</td>\n",
       "      <td>женат / замужем</td>\n",
       "      <td>0</td>\n",
       "      <td>M</td>\n",
       "      <td>сотрудник</td>\n",
       "      <td>1</td>\n",
       "      <td>244093.050500</td>\n",
       "      <td>на покупку своего автомобиля</td>\n",
       "    </tr>\n",
       "    <tr>\n",
       "      <td>21524</td>\n",
       "      <td>2</td>\n",
       "      <td>-1984.507589</td>\n",
       "      <td>40</td>\n",
       "      <td>среднее</td>\n",
       "      <td>1</td>\n",
       "      <td>женат / замужем</td>\n",
       "      <td>0</td>\n",
       "      <td>F</td>\n",
       "      <td>сотрудник</td>\n",
       "      <td>0</td>\n",
       "      <td>82047.418899</td>\n",
       "      <td>на покупку автомобиля</td>\n",
       "    </tr>\n",
       "  </tbody>\n",
       "</table>\n",
       "<p>21525 rows × 12 columns</p>\n",
       "</div>"
      ],
      "text/plain": [
       "       children  days_employed  dob_years education  education_id  \\\n",
       "0             1   -8437.673028         42    высшее             0   \n",
       "1             1   -4024.803754         36   среднее             1   \n",
       "2             0   -5623.422610         33   Среднее             1   \n",
       "3             3   -4124.747207         32   среднее             1   \n",
       "4             0  340266.072047         53   среднее             1   \n",
       "...         ...            ...        ...       ...           ...   \n",
       "21520         1   -4529.316663         43   среднее             1   \n",
       "21521         0  343937.404131         67   среднее             1   \n",
       "21522         1   -2113.346888         38   среднее             1   \n",
       "21523         3   -3112.481705         38   среднее             1   \n",
       "21524         2   -1984.507589         40   среднее             1   \n",
       "\n",
       "          family_status  family_status_id gender income_type  debt  \\\n",
       "0       женат / замужем                 0      F   сотрудник     0   \n",
       "1       женат / замужем                 0      F   сотрудник     0   \n",
       "2       женат / замужем                 0      M   сотрудник     0   \n",
       "3       женат / замужем                 0      M   сотрудник     0   \n",
       "4      гражданский брак                 1      F   пенсионер     0   \n",
       "...                 ...               ...    ...         ...   ...   \n",
       "21520  гражданский брак                 1      F   компаньон     0   \n",
       "21521   женат / замужем                 0      F   пенсионер     0   \n",
       "21522  гражданский брак                 1      M   сотрудник     1   \n",
       "21523   женат / замужем                 0      M   сотрудник     1   \n",
       "21524   женат / замужем                 0      F   сотрудник     0   \n",
       "\n",
       "        total_income                       purpose  \n",
       "0      253875.639453                 покупка жилья  \n",
       "1      112080.014102       приобретение автомобиля  \n",
       "2      145885.952297                 покупка жилья  \n",
       "3      267628.550329    дополнительное образование  \n",
       "4      158616.077870               сыграть свадьбу  \n",
       "...              ...                           ...  \n",
       "21520  224791.862382             операции с жильем  \n",
       "21521  155999.806512          сделка с автомобилем  \n",
       "21522   89672.561153                  недвижимость  \n",
       "21523  244093.050500  на покупку своего автомобиля  \n",
       "21524   82047.418899         на покупку автомобиля  \n",
       "\n",
       "[21525 rows x 12 columns]"
      ]
     },
     "metadata": {},
     "output_type": "display_data"
    }
   ],
   "source": [
    "import pandas as pd\n",
    "data = pd.read_csv('/datasets/data.csv')\n",
    "display(data)"
   ]
  },
  {
   "cell_type": "code",
   "execution_count": 2,
   "metadata": {},
   "outputs": [
    {
     "data": {
      "text/plain": [
       "0    19784\n",
       "1     1741\n",
       "Name: debt, dtype: int64"
      ]
     },
     "execution_count": 2,
     "metadata": {},
     "output_type": "execute_result"
    }
   ],
   "source": [
    "data['debt'].value_counts()"
   ]
  },
  {
   "cell_type": "markdown",
   "metadata": {},
   "source": [
    "сразу можно заметить, что кредит в срок закрывал вообще мало кто - стоит ожидать в любом случае довольно малых шансов закрытия в срок от всех категорий клиентов"
   ]
  },
  {
   "cell_type": "code",
   "execution_count": 3,
   "metadata": {
    "scrolled": true
   },
   "outputs": [
    {
     "name": "stdout",
     "output_type": "stream",
     "text": [
      "<class 'pandas.core.frame.DataFrame'>\n",
      "RangeIndex: 21525 entries, 0 to 21524\n",
      "Data columns (total 12 columns):\n",
      "children            21525 non-null int64\n",
      "days_employed       19351 non-null float64\n",
      "dob_years           21525 non-null int64\n",
      "education           21525 non-null object\n",
      "education_id        21525 non-null int64\n",
      "family_status       21525 non-null object\n",
      "family_status_id    21525 non-null int64\n",
      "gender              21525 non-null object\n",
      "income_type         21525 non-null object\n",
      "debt                21525 non-null int64\n",
      "total_income        19351 non-null float64\n",
      "purpose             21525 non-null object\n",
      "dtypes: float64(2), int64(5), object(5)\n",
      "memory usage: 2.0+ MB\n"
     ]
    }
   ],
   "source": [
    "data.info()"
   ]
  },
  {
   "cell_type": "markdown",
   "metadata": {},
   "source": [
    "значения в столбах **days_employed** и **total_income** для удобства просмотра можно будет перевести в int. все столбцы названы верно с точки зрения хорошего стиля"
   ]
  },
  {
   "cell_type": "code",
   "execution_count": 4,
   "metadata": {
    "scrolled": true
   },
   "outputs": [
    {
     "data": {
      "text/plain": [
       "children               0\n",
       "days_employed       2174\n",
       "dob_years              0\n",
       "education              0\n",
       "education_id           0\n",
       "family_status          0\n",
       "family_status_id       0\n",
       "gender                 0\n",
       "income_type            0\n",
       "debt                   0\n",
       "total_income        2174\n",
       "purpose                0\n",
       "dtype: int64"
      ]
     },
     "execution_count": 4,
     "metadata": {},
     "output_type": "execute_result"
    }
   ],
   "source": [
    "data.isna().sum()\n",
    "# посмотрим в каких столбцах имеются пропуски"
   ]
  },
  {
   "cell_type": "markdown",
   "metadata": {},
   "source": [
    "пропуски зафиксированы в столбцах с уровнем дохода и с данными о времени трудоустройства. вполне логично предположить, что у речь идет о клиентах вообще без трудового стажа, которым и в качестве дохода было указывать нечего. заменим такие значения на 0 в обоих таблицах"
   ]
  },
  {
   "cell_type": "code",
   "execution_count": 5,
   "metadata": {
    "scrolled": true
   },
   "outputs": [
    {
     "data": {
      "text/html": [
       "<div>\n",
       "<style scoped>\n",
       "    .dataframe tbody tr th:only-of-type {\n",
       "        vertical-align: middle;\n",
       "    }\n",
       "\n",
       "    .dataframe tbody tr th {\n",
       "        vertical-align: top;\n",
       "    }\n",
       "\n",
       "    .dataframe thead th {\n",
       "        text-align: right;\n",
       "    }\n",
       "</style>\n",
       "<table border=\"1\" class=\"dataframe\">\n",
       "  <thead>\n",
       "    <tr style=\"text-align: right;\">\n",
       "      <th></th>\n",
       "      <th>children</th>\n",
       "      <th>days_employed</th>\n",
       "      <th>dob_years</th>\n",
       "      <th>education</th>\n",
       "      <th>education_id</th>\n",
       "      <th>family_status</th>\n",
       "      <th>family_status_id</th>\n",
       "      <th>gender</th>\n",
       "      <th>income_type</th>\n",
       "      <th>debt</th>\n",
       "      <th>total_income</th>\n",
       "      <th>purpose</th>\n",
       "    </tr>\n",
       "  </thead>\n",
       "  <tbody>\n",
       "    <tr>\n",
       "      <td>12</td>\n",
       "      <td>0</td>\n",
       "      <td>NaN</td>\n",
       "      <td>65</td>\n",
       "      <td>среднее</td>\n",
       "      <td>1</td>\n",
       "      <td>гражданский брак</td>\n",
       "      <td>1</td>\n",
       "      <td>M</td>\n",
       "      <td>пенсионер</td>\n",
       "      <td>0</td>\n",
       "      <td>NaN</td>\n",
       "      <td>сыграть свадьбу</td>\n",
       "    </tr>\n",
       "    <tr>\n",
       "      <td>26</td>\n",
       "      <td>0</td>\n",
       "      <td>NaN</td>\n",
       "      <td>41</td>\n",
       "      <td>среднее</td>\n",
       "      <td>1</td>\n",
       "      <td>женат / замужем</td>\n",
       "      <td>0</td>\n",
       "      <td>M</td>\n",
       "      <td>госслужащий</td>\n",
       "      <td>0</td>\n",
       "      <td>NaN</td>\n",
       "      <td>образование</td>\n",
       "    </tr>\n",
       "    <tr>\n",
       "      <td>29</td>\n",
       "      <td>0</td>\n",
       "      <td>NaN</td>\n",
       "      <td>63</td>\n",
       "      <td>среднее</td>\n",
       "      <td>1</td>\n",
       "      <td>Не женат / не замужем</td>\n",
       "      <td>4</td>\n",
       "      <td>F</td>\n",
       "      <td>пенсионер</td>\n",
       "      <td>0</td>\n",
       "      <td>NaN</td>\n",
       "      <td>строительство жилой недвижимости</td>\n",
       "    </tr>\n",
       "    <tr>\n",
       "      <td>41</td>\n",
       "      <td>0</td>\n",
       "      <td>NaN</td>\n",
       "      <td>50</td>\n",
       "      <td>среднее</td>\n",
       "      <td>1</td>\n",
       "      <td>женат / замужем</td>\n",
       "      <td>0</td>\n",
       "      <td>F</td>\n",
       "      <td>госслужащий</td>\n",
       "      <td>0</td>\n",
       "      <td>NaN</td>\n",
       "      <td>сделка с подержанным автомобилем</td>\n",
       "    </tr>\n",
       "    <tr>\n",
       "      <td>55</td>\n",
       "      <td>0</td>\n",
       "      <td>NaN</td>\n",
       "      <td>54</td>\n",
       "      <td>среднее</td>\n",
       "      <td>1</td>\n",
       "      <td>гражданский брак</td>\n",
       "      <td>1</td>\n",
       "      <td>F</td>\n",
       "      <td>пенсионер</td>\n",
       "      <td>1</td>\n",
       "      <td>NaN</td>\n",
       "      <td>сыграть свадьбу</td>\n",
       "    </tr>\n",
       "    <tr>\n",
       "      <td>...</td>\n",
       "      <td>...</td>\n",
       "      <td>...</td>\n",
       "      <td>...</td>\n",
       "      <td>...</td>\n",
       "      <td>...</td>\n",
       "      <td>...</td>\n",
       "      <td>...</td>\n",
       "      <td>...</td>\n",
       "      <td>...</td>\n",
       "      <td>...</td>\n",
       "      <td>...</td>\n",
       "      <td>...</td>\n",
       "    </tr>\n",
       "    <tr>\n",
       "      <td>21489</td>\n",
       "      <td>2</td>\n",
       "      <td>NaN</td>\n",
       "      <td>47</td>\n",
       "      <td>Среднее</td>\n",
       "      <td>1</td>\n",
       "      <td>женат / замужем</td>\n",
       "      <td>0</td>\n",
       "      <td>M</td>\n",
       "      <td>компаньон</td>\n",
       "      <td>0</td>\n",
       "      <td>NaN</td>\n",
       "      <td>сделка с автомобилем</td>\n",
       "    </tr>\n",
       "    <tr>\n",
       "      <td>21495</td>\n",
       "      <td>1</td>\n",
       "      <td>NaN</td>\n",
       "      <td>50</td>\n",
       "      <td>среднее</td>\n",
       "      <td>1</td>\n",
       "      <td>гражданский брак</td>\n",
       "      <td>1</td>\n",
       "      <td>F</td>\n",
       "      <td>сотрудник</td>\n",
       "      <td>0</td>\n",
       "      <td>NaN</td>\n",
       "      <td>свадьба</td>\n",
       "    </tr>\n",
       "    <tr>\n",
       "      <td>21497</td>\n",
       "      <td>0</td>\n",
       "      <td>NaN</td>\n",
       "      <td>48</td>\n",
       "      <td>ВЫСШЕЕ</td>\n",
       "      <td>0</td>\n",
       "      <td>женат / замужем</td>\n",
       "      <td>0</td>\n",
       "      <td>F</td>\n",
       "      <td>компаньон</td>\n",
       "      <td>0</td>\n",
       "      <td>NaN</td>\n",
       "      <td>строительство недвижимости</td>\n",
       "    </tr>\n",
       "    <tr>\n",
       "      <td>21502</td>\n",
       "      <td>1</td>\n",
       "      <td>NaN</td>\n",
       "      <td>42</td>\n",
       "      <td>среднее</td>\n",
       "      <td>1</td>\n",
       "      <td>женат / замужем</td>\n",
       "      <td>0</td>\n",
       "      <td>F</td>\n",
       "      <td>сотрудник</td>\n",
       "      <td>0</td>\n",
       "      <td>NaN</td>\n",
       "      <td>строительство жилой недвижимости</td>\n",
       "    </tr>\n",
       "    <tr>\n",
       "      <td>21510</td>\n",
       "      <td>2</td>\n",
       "      <td>NaN</td>\n",
       "      <td>28</td>\n",
       "      <td>среднее</td>\n",
       "      <td>1</td>\n",
       "      <td>женат / замужем</td>\n",
       "      <td>0</td>\n",
       "      <td>F</td>\n",
       "      <td>сотрудник</td>\n",
       "      <td>0</td>\n",
       "      <td>NaN</td>\n",
       "      <td>приобретение автомобиля</td>\n",
       "    </tr>\n",
       "  </tbody>\n",
       "</table>\n",
       "<p>2174 rows × 12 columns</p>\n",
       "</div>"
      ],
      "text/plain": [
       "       children  days_employed  dob_years education  education_id  \\\n",
       "12            0            NaN         65   среднее             1   \n",
       "26            0            NaN         41   среднее             1   \n",
       "29            0            NaN         63   среднее             1   \n",
       "41            0            NaN         50   среднее             1   \n",
       "55            0            NaN         54   среднее             1   \n",
       "...         ...            ...        ...       ...           ...   \n",
       "21489         2            NaN         47   Среднее             1   \n",
       "21495         1            NaN         50   среднее             1   \n",
       "21497         0            NaN         48    ВЫСШЕЕ             0   \n",
       "21502         1            NaN         42   среднее             1   \n",
       "21510         2            NaN         28   среднее             1   \n",
       "\n",
       "               family_status  family_status_id gender  income_type  debt  \\\n",
       "12          гражданский брак                 1      M    пенсионер     0   \n",
       "26           женат / замужем                 0      M  госслужащий     0   \n",
       "29     Не женат / не замужем                 4      F    пенсионер     0   \n",
       "41           женат / замужем                 0      F  госслужащий     0   \n",
       "55          гражданский брак                 1      F    пенсионер     1   \n",
       "...                      ...               ...    ...          ...   ...   \n",
       "21489        женат / замужем                 0      M    компаньон     0   \n",
       "21495       гражданский брак                 1      F    сотрудник     0   \n",
       "21497        женат / замужем                 0      F    компаньон     0   \n",
       "21502        женат / замужем                 0      F    сотрудник     0   \n",
       "21510        женат / замужем                 0      F    сотрудник     0   \n",
       "\n",
       "       total_income                           purpose  \n",
       "12              NaN                   сыграть свадьбу  \n",
       "26              NaN                       образование  \n",
       "29              NaN  строительство жилой недвижимости  \n",
       "41              NaN  сделка с подержанным автомобилем  \n",
       "55              NaN                   сыграть свадьбу  \n",
       "...             ...                               ...  \n",
       "21489           NaN              сделка с автомобилем  \n",
       "21495           NaN                           свадьба  \n",
       "21497           NaN        строительство недвижимости  \n",
       "21502           NaN  строительство жилой недвижимости  \n",
       "21510           NaN           приобретение автомобиля  \n",
       "\n",
       "[2174 rows x 12 columns]"
      ]
     },
     "metadata": {},
     "output_type": "display_data"
    }
   ],
   "source": [
    "data_none = data[data['days_employed'].isna() == True]\n",
    "display(data_none)"
   ]
  },
  {
   "cell_type": "code",
   "execution_count": 6,
   "metadata": {},
   "outputs": [
    {
     "data": {
      "text/plain": [
       "сотрудник          1105\n",
       "компаньон           508\n",
       "пенсионер           413\n",
       "госслужащий         147\n",
       "предприниматель       1\n",
       "Name: income_type, dtype: int64"
      ]
     },
     "execution_count": 6,
     "metadata": {},
     "output_type": "execute_result"
    }
   ],
   "source": [
    "data_none['income_type'].value_counts()"
   ]
  },
  {
   "cell_type": "code",
   "execution_count": 7,
   "metadata": {},
   "outputs": [],
   "source": [
    "del data['days_employed']"
   ]
  },
  {
   "cell_type": "code",
   "execution_count": 8,
   "metadata": {},
   "outputs": [
    {
     "data": {
      "text/plain": [
       "income_type\n",
       "безработный        131339.751676\n",
       "в декрете           53829.130729\n",
       "госслужащий        170898.309923\n",
       "компаньон          202417.461462\n",
       "пенсионер          137127.465690\n",
       "предприниматель    499163.144947\n",
       "сотрудник          161380.260488\n",
       "студент             98201.625314\n",
       "Name: total_income, dtype: float64"
      ]
     },
     "metadata": {},
     "output_type": "display_data"
    }
   ],
   "source": [
    "display(data.groupby('income_type')['total_income'].mean())"
   ]
  },
  {
   "cell_type": "code",
   "execution_count": 9,
   "metadata": {},
   "outputs": [
    {
     "data": {
      "text/html": [
       "<div>\n",
       "<style scoped>\n",
       "    .dataframe tbody tr th:only-of-type {\n",
       "        vertical-align: middle;\n",
       "    }\n",
       "\n",
       "    .dataframe tbody tr th {\n",
       "        vertical-align: top;\n",
       "    }\n",
       "\n",
       "    .dataframe thead th {\n",
       "        text-align: right;\n",
       "    }\n",
       "</style>\n",
       "<table border=\"1\" class=\"dataframe\">\n",
       "  <thead>\n",
       "    <tr style=\"text-align: right;\">\n",
       "      <th></th>\n",
       "      <th>children</th>\n",
       "      <th>dob_years</th>\n",
       "      <th>education</th>\n",
       "      <th>education_id</th>\n",
       "      <th>family_status</th>\n",
       "      <th>family_status_id</th>\n",
       "      <th>gender</th>\n",
       "      <th>income_type</th>\n",
       "      <th>debt</th>\n",
       "      <th>total_income</th>\n",
       "      <th>purpose</th>\n",
       "    </tr>\n",
       "  </thead>\n",
       "  <tbody>\n",
       "    <tr>\n",
       "      <td>0</td>\n",
       "      <td>1</td>\n",
       "      <td>42</td>\n",
       "      <td>высшее</td>\n",
       "      <td>0</td>\n",
       "      <td>женат / замужем</td>\n",
       "      <td>0</td>\n",
       "      <td>F</td>\n",
       "      <td>сотрудник</td>\n",
       "      <td>0</td>\n",
       "      <td>253875</td>\n",
       "      <td>покупка жилья</td>\n",
       "    </tr>\n",
       "    <tr>\n",
       "      <td>1</td>\n",
       "      <td>1</td>\n",
       "      <td>36</td>\n",
       "      <td>среднее</td>\n",
       "      <td>1</td>\n",
       "      <td>женат / замужем</td>\n",
       "      <td>0</td>\n",
       "      <td>F</td>\n",
       "      <td>сотрудник</td>\n",
       "      <td>0</td>\n",
       "      <td>112080</td>\n",
       "      <td>приобретение автомобиля</td>\n",
       "    </tr>\n",
       "    <tr>\n",
       "      <td>2</td>\n",
       "      <td>0</td>\n",
       "      <td>33</td>\n",
       "      <td>Среднее</td>\n",
       "      <td>1</td>\n",
       "      <td>женат / замужем</td>\n",
       "      <td>0</td>\n",
       "      <td>M</td>\n",
       "      <td>сотрудник</td>\n",
       "      <td>0</td>\n",
       "      <td>145885</td>\n",
       "      <td>покупка жилья</td>\n",
       "    </tr>\n",
       "    <tr>\n",
       "      <td>3</td>\n",
       "      <td>3</td>\n",
       "      <td>32</td>\n",
       "      <td>среднее</td>\n",
       "      <td>1</td>\n",
       "      <td>женат / замужем</td>\n",
       "      <td>0</td>\n",
       "      <td>M</td>\n",
       "      <td>сотрудник</td>\n",
       "      <td>0</td>\n",
       "      <td>267628</td>\n",
       "      <td>дополнительное образование</td>\n",
       "    </tr>\n",
       "    <tr>\n",
       "      <td>4</td>\n",
       "      <td>0</td>\n",
       "      <td>53</td>\n",
       "      <td>среднее</td>\n",
       "      <td>1</td>\n",
       "      <td>гражданский брак</td>\n",
       "      <td>1</td>\n",
       "      <td>F</td>\n",
       "      <td>пенсионер</td>\n",
       "      <td>0</td>\n",
       "      <td>158616</td>\n",
       "      <td>сыграть свадьбу</td>\n",
       "    </tr>\n",
       "    <tr>\n",
       "      <td>5</td>\n",
       "      <td>0</td>\n",
       "      <td>27</td>\n",
       "      <td>высшее</td>\n",
       "      <td>0</td>\n",
       "      <td>гражданский брак</td>\n",
       "      <td>1</td>\n",
       "      <td>M</td>\n",
       "      <td>компаньон</td>\n",
       "      <td>0</td>\n",
       "      <td>255763</td>\n",
       "      <td>покупка жилья</td>\n",
       "    </tr>\n",
       "    <tr>\n",
       "      <td>6</td>\n",
       "      <td>0</td>\n",
       "      <td>43</td>\n",
       "      <td>высшее</td>\n",
       "      <td>0</td>\n",
       "      <td>женат / замужем</td>\n",
       "      <td>0</td>\n",
       "      <td>F</td>\n",
       "      <td>компаньон</td>\n",
       "      <td>0</td>\n",
       "      <td>240525</td>\n",
       "      <td>операции с жильем</td>\n",
       "    </tr>\n",
       "    <tr>\n",
       "      <td>7</td>\n",
       "      <td>0</td>\n",
       "      <td>50</td>\n",
       "      <td>СРЕДНЕЕ</td>\n",
       "      <td>1</td>\n",
       "      <td>женат / замужем</td>\n",
       "      <td>0</td>\n",
       "      <td>M</td>\n",
       "      <td>сотрудник</td>\n",
       "      <td>0</td>\n",
       "      <td>135823</td>\n",
       "      <td>образование</td>\n",
       "    </tr>\n",
       "    <tr>\n",
       "      <td>8</td>\n",
       "      <td>2</td>\n",
       "      <td>35</td>\n",
       "      <td>ВЫСШЕЕ</td>\n",
       "      <td>0</td>\n",
       "      <td>гражданский брак</td>\n",
       "      <td>1</td>\n",
       "      <td>F</td>\n",
       "      <td>сотрудник</td>\n",
       "      <td>0</td>\n",
       "      <td>95856</td>\n",
       "      <td>на проведение свадьбы</td>\n",
       "    </tr>\n",
       "    <tr>\n",
       "      <td>9</td>\n",
       "      <td>0</td>\n",
       "      <td>41</td>\n",
       "      <td>среднее</td>\n",
       "      <td>1</td>\n",
       "      <td>женат / замужем</td>\n",
       "      <td>0</td>\n",
       "      <td>M</td>\n",
       "      <td>сотрудник</td>\n",
       "      <td>0</td>\n",
       "      <td>144425</td>\n",
       "      <td>покупка жилья для семьи</td>\n",
       "    </tr>\n",
       "    <tr>\n",
       "      <td>10</td>\n",
       "      <td>2</td>\n",
       "      <td>36</td>\n",
       "      <td>высшее</td>\n",
       "      <td>0</td>\n",
       "      <td>женат / замужем</td>\n",
       "      <td>0</td>\n",
       "      <td>M</td>\n",
       "      <td>компаньон</td>\n",
       "      <td>0</td>\n",
       "      <td>113943</td>\n",
       "      <td>покупка недвижимости</td>\n",
       "    </tr>\n",
       "    <tr>\n",
       "      <td>11</td>\n",
       "      <td>0</td>\n",
       "      <td>40</td>\n",
       "      <td>среднее</td>\n",
       "      <td>1</td>\n",
       "      <td>женат / замужем</td>\n",
       "      <td>0</td>\n",
       "      <td>F</td>\n",
       "      <td>сотрудник</td>\n",
       "      <td>0</td>\n",
       "      <td>77069</td>\n",
       "      <td>покупка коммерческой недвижимости</td>\n",
       "    </tr>\n",
       "    <tr>\n",
       "      <td>12</td>\n",
       "      <td>0</td>\n",
       "      <td>65</td>\n",
       "      <td>среднее</td>\n",
       "      <td>1</td>\n",
       "      <td>гражданский брак</td>\n",
       "      <td>1</td>\n",
       "      <td>M</td>\n",
       "      <td>пенсионер</td>\n",
       "      <td>0</td>\n",
       "      <td>137127</td>\n",
       "      <td>сыграть свадьбу</td>\n",
       "    </tr>\n",
       "    <tr>\n",
       "      <td>13</td>\n",
       "      <td>0</td>\n",
       "      <td>54</td>\n",
       "      <td>неоконченное высшее</td>\n",
       "      <td>2</td>\n",
       "      <td>женат / замужем</td>\n",
       "      <td>0</td>\n",
       "      <td>F</td>\n",
       "      <td>сотрудник</td>\n",
       "      <td>0</td>\n",
       "      <td>130458</td>\n",
       "      <td>приобретение автомобиля</td>\n",
       "    </tr>\n",
       "    <tr>\n",
       "      <td>14</td>\n",
       "      <td>0</td>\n",
       "      <td>56</td>\n",
       "      <td>высшее</td>\n",
       "      <td>0</td>\n",
       "      <td>гражданский брак</td>\n",
       "      <td>1</td>\n",
       "      <td>F</td>\n",
       "      <td>компаньон</td>\n",
       "      <td>1</td>\n",
       "      <td>165127</td>\n",
       "      <td>покупка жилой недвижимости</td>\n",
       "    </tr>\n",
       "    <tr>\n",
       "      <td>15</td>\n",
       "      <td>1</td>\n",
       "      <td>26</td>\n",
       "      <td>среднее</td>\n",
       "      <td>1</td>\n",
       "      <td>женат / замужем</td>\n",
       "      <td>0</td>\n",
       "      <td>F</td>\n",
       "      <td>сотрудник</td>\n",
       "      <td>0</td>\n",
       "      <td>116820</td>\n",
       "      <td>строительство собственной недвижимости</td>\n",
       "    </tr>\n",
       "    <tr>\n",
       "      <td>16</td>\n",
       "      <td>0</td>\n",
       "      <td>35</td>\n",
       "      <td>среднее</td>\n",
       "      <td>1</td>\n",
       "      <td>женат / замужем</td>\n",
       "      <td>0</td>\n",
       "      <td>F</td>\n",
       "      <td>сотрудник</td>\n",
       "      <td>0</td>\n",
       "      <td>289202</td>\n",
       "      <td>недвижимость</td>\n",
       "    </tr>\n",
       "    <tr>\n",
       "      <td>17</td>\n",
       "      <td>0</td>\n",
       "      <td>33</td>\n",
       "      <td>высшее</td>\n",
       "      <td>0</td>\n",
       "      <td>гражданский брак</td>\n",
       "      <td>1</td>\n",
       "      <td>M</td>\n",
       "      <td>сотрудник</td>\n",
       "      <td>0</td>\n",
       "      <td>90410</td>\n",
       "      <td>строительство недвижимости</td>\n",
       "    </tr>\n",
       "    <tr>\n",
       "      <td>18</td>\n",
       "      <td>0</td>\n",
       "      <td>53</td>\n",
       "      <td>среднее</td>\n",
       "      <td>1</td>\n",
       "      <td>вдовец / вдова</td>\n",
       "      <td>2</td>\n",
       "      <td>F</td>\n",
       "      <td>пенсионер</td>\n",
       "      <td>0</td>\n",
       "      <td>56823</td>\n",
       "      <td>на покупку подержанного автомобиля</td>\n",
       "    </tr>\n",
       "    <tr>\n",
       "      <td>19</td>\n",
       "      <td>0</td>\n",
       "      <td>48</td>\n",
       "      <td>СРЕДНЕЕ</td>\n",
       "      <td>1</td>\n",
       "      <td>в разводе</td>\n",
       "      <td>3</td>\n",
       "      <td>F</td>\n",
       "      <td>сотрудник</td>\n",
       "      <td>0</td>\n",
       "      <td>242831</td>\n",
       "      <td>на покупку своего автомобиля</td>\n",
       "    </tr>\n",
       "    <tr>\n",
       "      <td>20</td>\n",
       "      <td>1</td>\n",
       "      <td>36</td>\n",
       "      <td>среднее</td>\n",
       "      <td>1</td>\n",
       "      <td>женат / замужем</td>\n",
       "      <td>0</td>\n",
       "      <td>M</td>\n",
       "      <td>сотрудник</td>\n",
       "      <td>0</td>\n",
       "      <td>209552</td>\n",
       "      <td>недвижимость</td>\n",
       "    </tr>\n",
       "    <tr>\n",
       "      <td>21</td>\n",
       "      <td>1</td>\n",
       "      <td>33</td>\n",
       "      <td>среднее</td>\n",
       "      <td>1</td>\n",
       "      <td>гражданский брак</td>\n",
       "      <td>1</td>\n",
       "      <td>F</td>\n",
       "      <td>сотрудник</td>\n",
       "      <td>0</td>\n",
       "      <td>131812</td>\n",
       "      <td>приобретение автомобиля</td>\n",
       "    </tr>\n",
       "    <tr>\n",
       "      <td>22</td>\n",
       "      <td>1</td>\n",
       "      <td>24</td>\n",
       "      <td>среднее</td>\n",
       "      <td>1</td>\n",
       "      <td>гражданский брак</td>\n",
       "      <td>1</td>\n",
       "      <td>F</td>\n",
       "      <td>сотрудник</td>\n",
       "      <td>0</td>\n",
       "      <td>149681</td>\n",
       "      <td>на покупку подержанного автомобиля</td>\n",
       "    </tr>\n",
       "    <tr>\n",
       "      <td>23</td>\n",
       "      <td>0</td>\n",
       "      <td>21</td>\n",
       "      <td>высшее</td>\n",
       "      <td>0</td>\n",
       "      <td>гражданский брак</td>\n",
       "      <td>1</td>\n",
       "      <td>M</td>\n",
       "      <td>сотрудник</td>\n",
       "      <td>0</td>\n",
       "      <td>128265</td>\n",
       "      <td>сыграть свадьбу</td>\n",
       "    </tr>\n",
       "    <tr>\n",
       "      <td>24</td>\n",
       "      <td>1</td>\n",
       "      <td>57</td>\n",
       "      <td>среднее</td>\n",
       "      <td>1</td>\n",
       "      <td>Не женат / не замужем</td>\n",
       "      <td>4</td>\n",
       "      <td>F</td>\n",
       "      <td>пенсионер</td>\n",
       "      <td>0</td>\n",
       "      <td>290547</td>\n",
       "      <td>операции с коммерческой недвижимостью</td>\n",
       "    </tr>\n",
       "    <tr>\n",
       "      <td>25</td>\n",
       "      <td>0</td>\n",
       "      <td>67</td>\n",
       "      <td>среднее</td>\n",
       "      <td>1</td>\n",
       "      <td>женат / замужем</td>\n",
       "      <td>0</td>\n",
       "      <td>M</td>\n",
       "      <td>пенсионер</td>\n",
       "      <td>0</td>\n",
       "      <td>55112</td>\n",
       "      <td>покупка недвижимости</td>\n",
       "    </tr>\n",
       "    <tr>\n",
       "      <td>26</td>\n",
       "      <td>0</td>\n",
       "      <td>41</td>\n",
       "      <td>среднее</td>\n",
       "      <td>1</td>\n",
       "      <td>женат / замужем</td>\n",
       "      <td>0</td>\n",
       "      <td>M</td>\n",
       "      <td>госслужащий</td>\n",
       "      <td>0</td>\n",
       "      <td>170898</td>\n",
       "      <td>образование</td>\n",
       "    </tr>\n",
       "    <tr>\n",
       "      <td>27</td>\n",
       "      <td>0</td>\n",
       "      <td>28</td>\n",
       "      <td>высшее</td>\n",
       "      <td>0</td>\n",
       "      <td>женат / замужем</td>\n",
       "      <td>0</td>\n",
       "      <td>M</td>\n",
       "      <td>сотрудник</td>\n",
       "      <td>0</td>\n",
       "      <td>308848</td>\n",
       "      <td>строительство собственной недвижимости</td>\n",
       "    </tr>\n",
       "    <tr>\n",
       "      <td>28</td>\n",
       "      <td>1</td>\n",
       "      <td>26</td>\n",
       "      <td>высшее</td>\n",
       "      <td>0</td>\n",
       "      <td>женат / замужем</td>\n",
       "      <td>0</td>\n",
       "      <td>F</td>\n",
       "      <td>сотрудник</td>\n",
       "      <td>0</td>\n",
       "      <td>187863</td>\n",
       "      <td>строительство собственной недвижимости</td>\n",
       "    </tr>\n",
       "    <tr>\n",
       "      <td>29</td>\n",
       "      <td>0</td>\n",
       "      <td>63</td>\n",
       "      <td>среднее</td>\n",
       "      <td>1</td>\n",
       "      <td>Не женат / не замужем</td>\n",
       "      <td>4</td>\n",
       "      <td>F</td>\n",
       "      <td>пенсионер</td>\n",
       "      <td>0</td>\n",
       "      <td>137127</td>\n",
       "      <td>строительство жилой недвижимости</td>\n",
       "    </tr>\n",
       "  </tbody>\n",
       "</table>\n",
       "</div>"
      ],
      "text/plain": [
       "    children  dob_years            education  education_id  \\\n",
       "0          1         42               высшее             0   \n",
       "1          1         36              среднее             1   \n",
       "2          0         33              Среднее             1   \n",
       "3          3         32              среднее             1   \n",
       "4          0         53              среднее             1   \n",
       "5          0         27               высшее             0   \n",
       "6          0         43               высшее             0   \n",
       "7          0         50              СРЕДНЕЕ             1   \n",
       "8          2         35               ВЫСШЕЕ             0   \n",
       "9          0         41              среднее             1   \n",
       "10         2         36               высшее             0   \n",
       "11         0         40              среднее             1   \n",
       "12         0         65              среднее             1   \n",
       "13         0         54  неоконченное высшее             2   \n",
       "14         0         56               высшее             0   \n",
       "15         1         26              среднее             1   \n",
       "16         0         35              среднее             1   \n",
       "17         0         33               высшее             0   \n",
       "18         0         53              среднее             1   \n",
       "19         0         48              СРЕДНЕЕ             1   \n",
       "20         1         36              среднее             1   \n",
       "21         1         33              среднее             1   \n",
       "22         1         24              среднее             1   \n",
       "23         0         21               высшее             0   \n",
       "24         1         57              среднее             1   \n",
       "25         0         67              среднее             1   \n",
       "26         0         41              среднее             1   \n",
       "27         0         28               высшее             0   \n",
       "28         1         26               высшее             0   \n",
       "29         0         63              среднее             1   \n",
       "\n",
       "            family_status  family_status_id gender  income_type  debt  \\\n",
       "0         женат / замужем                 0      F    сотрудник     0   \n",
       "1         женат / замужем                 0      F    сотрудник     0   \n",
       "2         женат / замужем                 0      M    сотрудник     0   \n",
       "3         женат / замужем                 0      M    сотрудник     0   \n",
       "4        гражданский брак                 1      F    пенсионер     0   \n",
       "5        гражданский брак                 1      M    компаньон     0   \n",
       "6         женат / замужем                 0      F    компаньон     0   \n",
       "7         женат / замужем                 0      M    сотрудник     0   \n",
       "8        гражданский брак                 1      F    сотрудник     0   \n",
       "9         женат / замужем                 0      M    сотрудник     0   \n",
       "10        женат / замужем                 0      M    компаньон     0   \n",
       "11        женат / замужем                 0      F    сотрудник     0   \n",
       "12       гражданский брак                 1      M    пенсионер     0   \n",
       "13        женат / замужем                 0      F    сотрудник     0   \n",
       "14       гражданский брак                 1      F    компаньон     1   \n",
       "15        женат / замужем                 0      F    сотрудник     0   \n",
       "16        женат / замужем                 0      F    сотрудник     0   \n",
       "17       гражданский брак                 1      M    сотрудник     0   \n",
       "18         вдовец / вдова                 2      F    пенсионер     0   \n",
       "19              в разводе                 3      F    сотрудник     0   \n",
       "20        женат / замужем                 0      M    сотрудник     0   \n",
       "21       гражданский брак                 1      F    сотрудник     0   \n",
       "22       гражданский брак                 1      F    сотрудник     0   \n",
       "23       гражданский брак                 1      M    сотрудник     0   \n",
       "24  Не женат / не замужем                 4      F    пенсионер     0   \n",
       "25        женат / замужем                 0      M    пенсионер     0   \n",
       "26        женат / замужем                 0      M  госслужащий     0   \n",
       "27        женат / замужем                 0      M    сотрудник     0   \n",
       "28        женат / замужем                 0      F    сотрудник     0   \n",
       "29  Не женат / не замужем                 4      F    пенсионер     0   \n",
       "\n",
       "    total_income                                 purpose  \n",
       "0         253875                           покупка жилья  \n",
       "1         112080                 приобретение автомобиля  \n",
       "2         145885                           покупка жилья  \n",
       "3         267628              дополнительное образование  \n",
       "4         158616                         сыграть свадьбу  \n",
       "5         255763                           покупка жилья  \n",
       "6         240525                       операции с жильем  \n",
       "7         135823                             образование  \n",
       "8          95856                   на проведение свадьбы  \n",
       "9         144425                 покупка жилья для семьи  \n",
       "10        113943                    покупка недвижимости  \n",
       "11         77069       покупка коммерческой недвижимости  \n",
       "12        137127                         сыграть свадьбу  \n",
       "13        130458                 приобретение автомобиля  \n",
       "14        165127              покупка жилой недвижимости  \n",
       "15        116820  строительство собственной недвижимости  \n",
       "16        289202                            недвижимость  \n",
       "17         90410              строительство недвижимости  \n",
       "18         56823      на покупку подержанного автомобиля  \n",
       "19        242831            на покупку своего автомобиля  \n",
       "20        209552                            недвижимость  \n",
       "21        131812                 приобретение автомобиля  \n",
       "22        149681      на покупку подержанного автомобиля  \n",
       "23        128265                         сыграть свадьбу  \n",
       "24        290547   операции с коммерческой недвижимостью  \n",
       "25         55112                    покупка недвижимости  \n",
       "26        170898                             образование  \n",
       "27        308848  строительство собственной недвижимости  \n",
       "28        187863  строительство собственной недвижимости  \n",
       "29        137127        строительство жилой недвижимости  "
      ]
     },
     "metadata": {},
     "output_type": "display_data"
    }
   ],
   "source": [
    "mean_income = data.groupby('income_type')['total_income'].transform('mean')\n",
    "data['total_income'].fillna(mean_income, inplace=True)\n",
    "data['total_income'] = data['total_income'].astype('int')                      # для удобства просмотра переведём float в int\n",
    "display(data.head(30))"
   ]
  },
  {
   "cell_type": "code",
   "execution_count": 10,
   "metadata": {},
   "outputs": [
    {
     "data": {
      "text/plain": [
       "children            0\n",
       "dob_years           0\n",
       "education           0\n",
       "education_id        0\n",
       "family_status       0\n",
       "family_status_id    0\n",
       "gender              0\n",
       "income_type         0\n",
       "debt                0\n",
       "total_income        0\n",
       "purpose             0\n",
       "dtype: int64"
      ]
     },
     "execution_count": 10,
     "metadata": {},
     "output_type": "execute_result"
    }
   ],
   "source": [
    "data.isna().sum()"
   ]
  },
  {
   "cell_type": "markdown",
   "metadata": {},
   "source": [
    "Теперь проверим столбец **dob_years**"
   ]
  },
  {
   "cell_type": "code",
   "execution_count": 11,
   "metadata": {
    "scrolled": true
   },
   "outputs": [
    {
     "data": {
      "text/plain": [
       "[0,\n",
       " 19,\n",
       " 20,\n",
       " 21,\n",
       " 22,\n",
       " 23,\n",
       " 24,\n",
       " 25,\n",
       " 26,\n",
       " 27,\n",
       " 28,\n",
       " 29,\n",
       " 30,\n",
       " 31,\n",
       " 32,\n",
       " 33,\n",
       " 34,\n",
       " 35,\n",
       " 36,\n",
       " 37,\n",
       " 38,\n",
       " 39,\n",
       " 40,\n",
       " 41,\n",
       " 42,\n",
       " 43,\n",
       " 44,\n",
       " 45,\n",
       " 46,\n",
       " 47,\n",
       " 48,\n",
       " 49,\n",
       " 50,\n",
       " 51,\n",
       " 52,\n",
       " 53,\n",
       " 54,\n",
       " 55,\n",
       " 56,\n",
       " 57,\n",
       " 58,\n",
       " 59,\n",
       " 60,\n",
       " 61,\n",
       " 62,\n",
       " 63,\n",
       " 64,\n",
       " 65,\n",
       " 66,\n",
       " 67,\n",
       " 68,\n",
       " 69,\n",
       " 70,\n",
       " 71,\n",
       " 72,\n",
       " 73,\n",
       " 74,\n",
       " 75]"
      ]
     },
     "execution_count": 11,
     "metadata": {},
     "output_type": "execute_result"
    }
   ],
   "source": [
    "sorted(data['dob_years'].unique())"
   ]
  },
  {
   "cell_type": "code",
   "execution_count": 12,
   "metadata": {},
   "outputs": [
    {
     "data": {
      "text/html": [
       "<div>\n",
       "<style scoped>\n",
       "    .dataframe tbody tr th:only-of-type {\n",
       "        vertical-align: middle;\n",
       "    }\n",
       "\n",
       "    .dataframe tbody tr th {\n",
       "        vertical-align: top;\n",
       "    }\n",
       "\n",
       "    .dataframe thead th {\n",
       "        text-align: right;\n",
       "    }\n",
       "</style>\n",
       "<table border=\"1\" class=\"dataframe\">\n",
       "  <thead>\n",
       "    <tr style=\"text-align: right;\">\n",
       "      <th></th>\n",
       "      <th>children</th>\n",
       "      <th>dob_years</th>\n",
       "      <th>education</th>\n",
       "      <th>education_id</th>\n",
       "      <th>family_status</th>\n",
       "      <th>family_status_id</th>\n",
       "      <th>gender</th>\n",
       "      <th>income_type</th>\n",
       "      <th>debt</th>\n",
       "      <th>total_income</th>\n",
       "      <th>purpose</th>\n",
       "    </tr>\n",
       "  </thead>\n",
       "  <tbody>\n",
       "    <tr>\n",
       "      <td>99</td>\n",
       "      <td>0</td>\n",
       "      <td>0</td>\n",
       "      <td>Среднее</td>\n",
       "      <td>1</td>\n",
       "      <td>женат / замужем</td>\n",
       "      <td>0</td>\n",
       "      <td>F</td>\n",
       "      <td>пенсионер</td>\n",
       "      <td>0</td>\n",
       "      <td>71291</td>\n",
       "      <td>автомобиль</td>\n",
       "    </tr>\n",
       "    <tr>\n",
       "      <td>149</td>\n",
       "      <td>0</td>\n",
       "      <td>0</td>\n",
       "      <td>среднее</td>\n",
       "      <td>1</td>\n",
       "      <td>в разводе</td>\n",
       "      <td>3</td>\n",
       "      <td>F</td>\n",
       "      <td>сотрудник</td>\n",
       "      <td>0</td>\n",
       "      <td>70176</td>\n",
       "      <td>операции с жильем</td>\n",
       "    </tr>\n",
       "    <tr>\n",
       "      <td>270</td>\n",
       "      <td>3</td>\n",
       "      <td>0</td>\n",
       "      <td>среднее</td>\n",
       "      <td>1</td>\n",
       "      <td>женат / замужем</td>\n",
       "      <td>0</td>\n",
       "      <td>F</td>\n",
       "      <td>сотрудник</td>\n",
       "      <td>0</td>\n",
       "      <td>102166</td>\n",
       "      <td>ремонт жилью</td>\n",
       "    </tr>\n",
       "    <tr>\n",
       "      <td>578</td>\n",
       "      <td>0</td>\n",
       "      <td>0</td>\n",
       "      <td>среднее</td>\n",
       "      <td>1</td>\n",
       "      <td>женат / замужем</td>\n",
       "      <td>0</td>\n",
       "      <td>F</td>\n",
       "      <td>пенсионер</td>\n",
       "      <td>0</td>\n",
       "      <td>97620</td>\n",
       "      <td>строительство собственной недвижимости</td>\n",
       "    </tr>\n",
       "    <tr>\n",
       "      <td>1040</td>\n",
       "      <td>0</td>\n",
       "      <td>0</td>\n",
       "      <td>высшее</td>\n",
       "      <td>0</td>\n",
       "      <td>в разводе</td>\n",
       "      <td>3</td>\n",
       "      <td>F</td>\n",
       "      <td>компаньон</td>\n",
       "      <td>0</td>\n",
       "      <td>303994</td>\n",
       "      <td>свой автомобиль</td>\n",
       "    </tr>\n",
       "    <tr>\n",
       "      <td>...</td>\n",
       "      <td>...</td>\n",
       "      <td>...</td>\n",
       "      <td>...</td>\n",
       "      <td>...</td>\n",
       "      <td>...</td>\n",
       "      <td>...</td>\n",
       "      <td>...</td>\n",
       "      <td>...</td>\n",
       "      <td>...</td>\n",
       "      <td>...</td>\n",
       "      <td>...</td>\n",
       "    </tr>\n",
       "    <tr>\n",
       "      <td>19829</td>\n",
       "      <td>0</td>\n",
       "      <td>0</td>\n",
       "      <td>среднее</td>\n",
       "      <td>1</td>\n",
       "      <td>женат / замужем</td>\n",
       "      <td>0</td>\n",
       "      <td>F</td>\n",
       "      <td>сотрудник</td>\n",
       "      <td>0</td>\n",
       "      <td>161380</td>\n",
       "      <td>жилье</td>\n",
       "    </tr>\n",
       "    <tr>\n",
       "      <td>20462</td>\n",
       "      <td>0</td>\n",
       "      <td>0</td>\n",
       "      <td>среднее</td>\n",
       "      <td>1</td>\n",
       "      <td>женат / замужем</td>\n",
       "      <td>0</td>\n",
       "      <td>F</td>\n",
       "      <td>пенсионер</td>\n",
       "      <td>0</td>\n",
       "      <td>259193</td>\n",
       "      <td>покупка своего жилья</td>\n",
       "    </tr>\n",
       "    <tr>\n",
       "      <td>20577</td>\n",
       "      <td>0</td>\n",
       "      <td>0</td>\n",
       "      <td>среднее</td>\n",
       "      <td>1</td>\n",
       "      <td>Не женат / не замужем</td>\n",
       "      <td>4</td>\n",
       "      <td>F</td>\n",
       "      <td>пенсионер</td>\n",
       "      <td>0</td>\n",
       "      <td>129788</td>\n",
       "      <td>недвижимость</td>\n",
       "    </tr>\n",
       "    <tr>\n",
       "      <td>21179</td>\n",
       "      <td>2</td>\n",
       "      <td>0</td>\n",
       "      <td>высшее</td>\n",
       "      <td>0</td>\n",
       "      <td>женат / замужем</td>\n",
       "      <td>0</td>\n",
       "      <td>M</td>\n",
       "      <td>компаньон</td>\n",
       "      <td>0</td>\n",
       "      <td>240702</td>\n",
       "      <td>строительство жилой недвижимости</td>\n",
       "    </tr>\n",
       "    <tr>\n",
       "      <td>21313</td>\n",
       "      <td>0</td>\n",
       "      <td>0</td>\n",
       "      <td>среднее</td>\n",
       "      <td>1</td>\n",
       "      <td>Не женат / не замужем</td>\n",
       "      <td>4</td>\n",
       "      <td>M</td>\n",
       "      <td>сотрудник</td>\n",
       "      <td>0</td>\n",
       "      <td>152419</td>\n",
       "      <td>операции с жильем</td>\n",
       "    </tr>\n",
       "  </tbody>\n",
       "</table>\n",
       "<p>101 rows × 11 columns</p>\n",
       "</div>"
      ],
      "text/plain": [
       "       children  dob_years education  education_id          family_status  \\\n",
       "99            0          0   Среднее             1        женат / замужем   \n",
       "149           0          0   среднее             1              в разводе   \n",
       "270           3          0   среднее             1        женат / замужем   \n",
       "578           0          0   среднее             1        женат / замужем   \n",
       "1040          0          0    высшее             0              в разводе   \n",
       "...         ...        ...       ...           ...                    ...   \n",
       "19829         0          0   среднее             1        женат / замужем   \n",
       "20462         0          0   среднее             1        женат / замужем   \n",
       "20577         0          0   среднее             1  Не женат / не замужем   \n",
       "21179         2          0    высшее             0        женат / замужем   \n",
       "21313         0          0   среднее             1  Не женат / не замужем   \n",
       "\n",
       "       family_status_id gender income_type  debt  total_income  \\\n",
       "99                    0      F   пенсионер     0         71291   \n",
       "149                   3      F   сотрудник     0         70176   \n",
       "270                   0      F   сотрудник     0        102166   \n",
       "578                   0      F   пенсионер     0         97620   \n",
       "1040                  3      F   компаньон     0        303994   \n",
       "...                 ...    ...         ...   ...           ...   \n",
       "19829                 0      F   сотрудник     0        161380   \n",
       "20462                 0      F   пенсионер     0        259193   \n",
       "20577                 4      F   пенсионер     0        129788   \n",
       "21179                 0      M   компаньон     0        240702   \n",
       "21313                 4      M   сотрудник     0        152419   \n",
       "\n",
       "                                      purpose  \n",
       "99                                 автомобиль  \n",
       "149                         операции с жильем  \n",
       "270                              ремонт жилью  \n",
       "578    строительство собственной недвижимости  \n",
       "1040                          свой автомобиль  \n",
       "...                                       ...  \n",
       "19829                                   жилье  \n",
       "20462                    покупка своего жилья  \n",
       "20577                            недвижимость  \n",
       "21179        строительство жилой недвижимости  \n",
       "21313                       операции с жильем  \n",
       "\n",
       "[101 rows x 11 columns]"
      ]
     },
     "metadata": {},
     "output_type": "display_data"
    }
   ],
   "source": [
    "display(data[data['dob_years'] == 0])"
   ]
  },
  {
   "cell_type": "markdown",
   "metadata": {},
   "source": [
    "Какой-то закономерности относительно данных в других столбцах тут нельзя рассмотреть, но 101 строка - достаточно немалый срез, чтобы его просто удалять. Поскольку финальное исследование, которое мы делаем - не зависит от возраста клиента, предварительно данные строки можно оставить и списать их на техническую ошибку при заполнении данных, как мне кажется, и если потребуется в дальнейшем исследование именно по возрастному критерию - запросить данные по этим пропущенным позициям, если это будет возможно. Однако поскольку данные в этом столбце в отличие от days_employed в своей общей массе выглядят вполне адекватно, по аналогии с заполнением среднего уровня дохода я решил попробовать заполнить их, опираясь на столбец income_type. Конечно \"безработный\" или \"сотрудник\" - могут быть почти любого возраста, но например для таких клиентов как \"студент\" или \"пенсионер\" вывод их среднего возраста может быть вполне хорошим решением"
   ]
  },
  {
   "cell_type": "code",
   "execution_count": 13,
   "metadata": {},
   "outputs": [
    {
     "data": {
      "text/plain": [
       "income_type\n",
       "безработный        38.000000\n",
       "в декрете          39.000000\n",
       "госслужащий        40.636737\n",
       "компаньон          39.697542\n",
       "пенсионер          59.063019\n",
       "предприниматель    42.500000\n",
       "сотрудник          39.821027\n",
       "студент            22.000000\n",
       "Name: dob_years, dtype: float64"
      ]
     },
     "metadata": {},
     "output_type": "display_data"
    }
   ],
   "source": [
    "age_classification = data.groupby('income_type')['dob_years'].mean()\n",
    "display(age_classification)"
   ]
  },
  {
   "cell_type": "markdown",
   "metadata": {},
   "source": [
    "в своём большинстве соответствия выглядят даже вполне адекватно - студенты действительно чуть старше 20, а пенсионерам около 60. думаю можно попытаться заполнить 0 в возрастах полагаясь именно на эту таблицу"
   ]
  },
  {
   "cell_type": "code",
   "execution_count": 14,
   "metadata": {
    "scrolled": true
   },
   "outputs": [],
   "source": [
    "def fullfill_zeros(data):\n",
    "    global age_classification\n",
    "    if data['dob_years'] == 0:\n",
    "        return age_classification[data['income_type']]\n",
    "    else:\n",
    "        return data['dob_years']\n",
    "\n",
    "\n",
    "data['dob_years'] = data.apply(fullfill_zeros, axis=1)"
   ]
  },
  {
   "cell_type": "code",
   "execution_count": 15,
   "metadata": {},
   "outputs": [],
   "source": [
    "data['dob_years'] = data['dob_years'].astype('int') \n",
    "# так как годы должны быть целыми числами, хоть и были получены усредненными значениями, переведем float в int"
   ]
  },
  {
   "cell_type": "code",
   "execution_count": 16,
   "metadata": {},
   "outputs": [
    {
     "name": "stdout",
     "output_type": "stream",
     "text": [
      "19\n"
     ]
    },
    {
     "data": {
      "text/plain": [
       "75"
      ]
     },
     "execution_count": 16,
     "metadata": {},
     "output_type": "execute_result"
    }
   ],
   "source": [
    "print(data['dob_years'].min())    # проверим теперь минимальный и максимальный возраст\n",
    "data['dob_years'].max()"
   ]
  },
  {
   "cell_type": "code",
   "execution_count": 17,
   "metadata": {},
   "outputs": [
    {
     "data": {
      "text/plain": [
       "39"
      ]
     },
     "execution_count": 17,
     "metadata": {},
     "output_type": "execute_result"
    }
   ],
   "source": [
    "data.loc[1040, 'dob_years']        # возьмем в качестве проверки одну из строк, где ранее был возраст = 0"
   ]
  },
  {
   "cell_type": "markdown",
   "metadata": {},
   "source": [
    "Как видно, замена была проведена успешно, и хоть и с натянутой точностью, но технические ошибки при заполнении столбца с возрастом клиентов были устранены, и вместо 0 вставлены усредненные значения из общей статистики"
   ]
  },
  {
   "cell_type": "markdown",
   "metadata": {},
   "source": [
    "Теперь проверим данные в столбце о кол-ве детей **children**:"
   ]
  },
  {
   "cell_type": "code",
   "execution_count": 18,
   "metadata": {},
   "outputs": [
    {
     "data": {
      "text/plain": [
       "20"
      ]
     },
     "execution_count": 18,
     "metadata": {},
     "output_type": "execute_result"
    }
   ],
   "source": [
    "data['children'].max()"
   ]
  },
  {
   "cell_type": "code",
   "execution_count": 19,
   "metadata": {},
   "outputs": [
    {
     "data": {
      "text/plain": [
       "-1"
      ]
     },
     "execution_count": 19,
     "metadata": {},
     "output_type": "execute_result"
    }
   ],
   "source": [
    "data['children'].min()"
   ]
  },
  {
   "cell_type": "code",
   "execution_count": 20,
   "metadata": {
    "scrolled": true
   },
   "outputs": [
    {
     "data": {
      "text/plain": [
       " 0     14149\n",
       " 1      4818\n",
       " 2      2055\n",
       " 3       330\n",
       " 20       76\n",
       "-1        47\n",
       " 4        41\n",
       " 5         9\n",
       "Name: children, dtype: int64"
      ]
     },
     "execution_count": 20,
     "metadata": {},
     "output_type": "execute_result"
    }
   ],
   "source": [
    "data['children'].value_counts()"
   ]
  },
  {
   "cell_type": "markdown",
   "metadata": {},
   "source": [
    "Число детей может быть = 0 , но не отрицательным, так же довольно сомнительно выглядит 20 детей - скорее всего имели ввиду 2 "
   ]
  },
  {
   "cell_type": "code",
   "execution_count": 21,
   "metadata": {},
   "outputs": [],
   "source": [
    "data['children']=data['children'].replace(-1,1)\n",
    "data['children']=data['children'].replace(20,2)"
   ]
  },
  {
   "cell_type": "code",
   "execution_count": 22,
   "metadata": {},
   "outputs": [
    {
     "data": {
      "text/plain": [
       "0    14149\n",
       "1     4865\n",
       "2     2131\n",
       "3      330\n",
       "4       41\n",
       "5        9\n",
       "Name: children, dtype: int64"
      ]
     },
     "execution_count": 22,
     "metadata": {},
     "output_type": "execute_result"
    }
   ],
   "source": [
    "data['children'].value_counts()"
   ]
  },
  {
   "cell_type": "markdown",
   "metadata": {},
   "source": [
    "Проверим значения в столбце **education**:"
   ]
  },
  {
   "cell_type": "code",
   "execution_count": 23,
   "metadata": {
    "scrolled": true
   },
   "outputs": [
    {
     "data": {
      "text/plain": [
       "array(['высшее', 'среднее', 'Среднее', 'СРЕДНЕЕ', 'ВЫСШЕЕ',\n",
       "       'неоконченное высшее', 'начальное', 'Высшее',\n",
       "       'НЕОКОНЧЕННОЕ ВЫСШЕЕ', 'Неоконченное высшее', 'НАЧАЛЬНОЕ',\n",
       "       'Начальное', 'Ученая степень', 'УЧЕНАЯ СТЕПЕНЬ', 'ученая степень'],\n",
       "      dtype=object)"
      ]
     },
     "execution_count": 23,
     "metadata": {},
     "output_type": "execute_result"
    }
   ],
   "source": [
    "data['education'].unique()"
   ]
  },
  {
   "cell_type": "code",
   "execution_count": 24,
   "metadata": {
    "scrolled": false
   },
   "outputs": [
    {
     "data": {
      "text/plain": [
       "array([0, 1, 2, 3, 4])"
      ]
     },
     "execution_count": 24,
     "metadata": {},
     "output_type": "execute_result"
    }
   ],
   "source": [
    "data['education_id'].unique()"
   ]
  },
  {
   "cell_type": "markdown",
   "metadata": {},
   "source": [
    "видно что столбец **education** содержит дубликаты, которые далее стоит обработать"
   ]
  },
  {
   "cell_type": "markdown",
   "metadata": {},
   "source": [
    "Проверим значения в столбце **family_status** и **family_status_id**"
   ]
  },
  {
   "cell_type": "code",
   "execution_count": 25,
   "metadata": {
    "scrolled": true
   },
   "outputs": [
    {
     "data": {
      "text/plain": [
       "array(['женат / замужем', 'гражданский брак', 'вдовец / вдова',\n",
       "       'в разводе', 'Не женат / не замужем'], dtype=object)"
      ]
     },
     "execution_count": 25,
     "metadata": {},
     "output_type": "execute_result"
    }
   ],
   "source": [
    "data['family_status'].unique()"
   ]
  },
  {
   "cell_type": "code",
   "execution_count": 26,
   "metadata": {
    "scrolled": false
   },
   "outputs": [
    {
     "data": {
      "text/plain": [
       "array([0, 1, 2, 3, 4])"
      ]
     },
     "execution_count": 26,
     "metadata": {},
     "output_type": "execute_result"
    }
   ],
   "source": [
    "data['family_status_id'].unique()"
   ]
  },
  {
   "cell_type": "markdown",
   "metadata": {},
   "source": [
    "хоть кол-во уникальных **family_status_id** совпадает с кол-вом уникальных **family_status** - однако глобально нам не нужно целых 5 категорий в данных столбцах. можно лишь просто разделить всё в дальнейшем на *не в браке* и *в браке* - так как все 5 уникальных значений по сути являются дубликатами этих двух. пропущенных значений в данных столбцах нету"
   ]
  },
  {
   "cell_type": "code",
   "execution_count": 27,
   "metadata": {
    "scrolled": true
   },
   "outputs": [
    {
     "data": {
      "text/plain": [
       "array(['F', 'M', 'XNA'], dtype=object)"
      ]
     },
     "execution_count": 27,
     "metadata": {},
     "output_type": "execute_result"
    }
   ],
   "source": [
    "data['gender'].unique()"
   ]
  },
  {
   "cell_type": "code",
   "execution_count": 28,
   "metadata": {
    "scrolled": true
   },
   "outputs": [
    {
     "data": {
      "text/plain": [
       "F      14236\n",
       "M       7288\n",
       "XNA        1\n",
       "Name: gender, dtype: int64"
      ]
     },
     "execution_count": 28,
     "metadata": {},
     "output_type": "execute_result"
    }
   ],
   "source": [
    "data['gender'].value_counts()"
   ]
  },
  {
   "cell_type": "code",
   "execution_count": 29,
   "metadata": {
    "scrolled": true
   },
   "outputs": [],
   "source": [
    "data = data[data['gender'] != 'XNA'].reset_index(drop=True)"
   ]
  },
  {
   "cell_type": "markdown",
   "metadata": {},
   "source": [
    "в столбце **gender** было одно значение, видимо записанное по ошибке. при его удалении мы потеряли всего одну строку, так что эту неточность можно не обсуждать отдельно с заказчиком, так как сильно на итоговый результат отсутствие данной одной строки не повлияет"
   ]
  },
  {
   "cell_type": "code",
   "execution_count": 30,
   "metadata": {
    "scrolled": true
   },
   "outputs": [
    {
     "data": {
      "text/plain": [
       "array(['сотрудник', 'пенсионер', 'компаньон', 'госслужащий',\n",
       "       'безработный', 'предприниматель', 'студент', 'в декрете'],\n",
       "      dtype=object)"
      ]
     },
     "execution_count": 30,
     "metadata": {},
     "output_type": "execute_result"
    }
   ],
   "source": [
    "data['income_type'].unique()"
   ]
  },
  {
   "cell_type": "markdown",
   "metadata": {},
   "source": [
    "в целом, все значения в **income_type** достаточно уникальные по смыслу, но для наглядности исследования можно будет разделить на работающих и безработных клиентов"
   ]
  },
  {
   "cell_type": "code",
   "execution_count": 31,
   "metadata": {
    "scrolled": true
   },
   "outputs": [
    {
     "data": {
      "text/plain": [
       "array([0, 1])"
      ]
     },
     "execution_count": 31,
     "metadata": {},
     "output_type": "execute_result"
    }
   ],
   "source": [
    "data['debt'].unique()"
   ]
  },
  {
   "cell_type": "markdown",
   "metadata": {},
   "source": [
    "к столбцу **debt** претензий нету"
   ]
  },
  {
   "cell_type": "code",
   "execution_count": 32,
   "metadata": {
    "scrolled": false
   },
   "outputs": [
    {
     "data": {
      "text/plain": [
       "20667"
      ]
     },
     "execution_count": 32,
     "metadata": {},
     "output_type": "execute_result"
    }
   ],
   "source": [
    "data['total_income'].min()"
   ]
  },
  {
   "cell_type": "markdown",
   "metadata": {},
   "source": [
    "правдоподобность значений доходов мы не можем оценить, однако хотя бы убедились, что среди них нет отрицательных значений. так что столбцу **total_income** можно довериться"
   ]
  },
  {
   "cell_type": "code",
   "execution_count": 33,
   "metadata": {
    "scrolled": true
   },
   "outputs": [
    {
     "data": {
      "text/plain": [
       "array(['покупка жилья', 'приобретение автомобиля',\n",
       "       'дополнительное образование', 'сыграть свадьбу',\n",
       "       'операции с жильем', 'образование', 'на проведение свадьбы',\n",
       "       'покупка жилья для семьи', 'покупка недвижимости',\n",
       "       'покупка коммерческой недвижимости', 'покупка жилой недвижимости',\n",
       "       'строительство собственной недвижимости', 'недвижимость',\n",
       "       'строительство недвижимости', 'на покупку подержанного автомобиля',\n",
       "       'на покупку своего автомобиля',\n",
       "       'операции с коммерческой недвижимостью',\n",
       "       'строительство жилой недвижимости', 'жилье',\n",
       "       'операции со своей недвижимостью', 'автомобили',\n",
       "       'заняться образованием', 'сделка с подержанным автомобилем',\n",
       "       'получение образования', 'автомобиль', 'свадьба',\n",
       "       'получение дополнительного образования', 'покупка своего жилья',\n",
       "       'операции с недвижимостью', 'получение высшего образования',\n",
       "       'свой автомобиль', 'сделка с автомобилем',\n",
       "       'профильное образование', 'высшее образование',\n",
       "       'покупка жилья для сдачи', 'на покупку автомобиля', 'ремонт жилью',\n",
       "       'заняться высшим образованием'], dtype=object)"
      ]
     },
     "execution_count": 33,
     "metadata": {},
     "output_type": "execute_result"
    }
   ],
   "source": [
    "data['purpose'].unique()"
   ]
  },
  {
   "cell_type": "markdown",
   "metadata": {},
   "source": [
    "на первый взгляд можно различить здесь взятие средств для оплаты машины, недвижимости или обрзования, поэтому для более наглядного анализа значения данного столбца **purpose** можно при помощи лемматиизации сгруппировать"
   ]
  },
  {
   "cell_type": "markdown",
   "metadata": {},
   "source": [
    "## Шаг 2. Предобработка данных"
   ]
  },
  {
   "cell_type": "markdown",
   "metadata": {},
   "source": [
    "### Обработка пропусков"
   ]
  },
  {
   "cell_type": "markdown",
   "metadata": {},
   "source": [
    "пропуски были заполнены выше сразу после их обнаружения"
   ]
  },
  {
   "cell_type": "markdown",
   "metadata": {},
   "source": [
    "### Замена типа данных"
   ]
  },
  {
   "cell_type": "markdown",
   "metadata": {},
   "source": [
    "столбцы с типом данных float были заменены на int выше"
   ]
  },
  {
   "cell_type": "markdown",
   "metadata": {},
   "source": [
    "### Обработка дубликатов"
   ]
  },
  {
   "cell_type": "markdown",
   "metadata": {},
   "source": [
    "Дубликаты стоит обработать в столбце **education**. Выше при выводе уникальных значений было явно показано, что проблема в том, что значения в данном стобце не приведены к одному регистру. Приведём их все к нижнему регистру и проверим уникальные значения снова"
   ]
  },
  {
   "cell_type": "code",
   "execution_count": 34,
   "metadata": {},
   "outputs": [
    {
     "data": {
      "text/plain": [
       "array(['высшее', 'среднее', 'неоконченное высшее', 'начальное',\n",
       "       'ученая степень'], dtype=object)"
      ]
     },
     "execution_count": 34,
     "metadata": {},
     "output_type": "execute_result"
    }
   ],
   "source": [
    "data['education'] = data['education'].str.lower()\n",
    "data['education'].unique()"
   ]
  },
  {
   "cell_type": "code",
   "execution_count": 35,
   "metadata": {
    "scrolled": true
   },
   "outputs": [
    {
     "data": {
      "text/plain": [
       "среднее                15233\n",
       "высшее                  5260\n",
       "неоконченное высшее      743\n",
       "начальное                282\n",
       "ученая степень             6\n",
       "Name: education, dtype: int64"
      ]
     },
     "execution_count": 35,
     "metadata": {},
     "output_type": "execute_result"
    }
   ],
   "source": [
    "data['education'].value_counts()"
   ]
  },
  {
   "cell_type": "code",
   "execution_count": 36,
   "metadata": {
    "scrolled": true
   },
   "outputs": [
    {
     "data": {
      "text/plain": [
       "1    15233\n",
       "0     5260\n",
       "2      743\n",
       "3      282\n",
       "4        6\n",
       "Name: education_id, dtype: int64"
      ]
     },
     "execution_count": 36,
     "metadata": {},
     "output_type": "execute_result"
    }
   ],
   "source": [
    "data['education_id'].value_counts()"
   ]
  },
  {
   "cell_type": "markdown",
   "metadata": {},
   "source": [
    "Как и ожидалось, после удаления всех дубликатов столбца **education** выяснилось, что в столбце **education_id** каждой степени образования соответствует определённый идентификатор. Чтобы разгрузить общий датафрейм, но и не забыть чему равно каждое из данных значений - создадим словарь с парами ключ - **id** и значение - **уровень образования** , а столбец **education** удалим, так как пользоваться идентификаторами проще, чем полными названиями величин, которым они соответствуют. "
   ]
  },
  {
   "cell_type": "code",
   "execution_count": 37,
   "metadata": {},
   "outputs": [
    {
     "data": {
      "text/plain": [
       "education_id\n",
       "0                 высшее\n",
       "1                среднее\n",
       "2    неоконченное высшее\n",
       "3              начальное\n",
       "4         ученая степень\n",
       "Name: education, dtype: object"
      ]
     },
     "execution_count": 37,
     "metadata": {},
     "output_type": "execute_result"
    }
   ],
   "source": [
    "# к размышлению\n",
    "data.groupby('education_id')['education'].first()"
   ]
  },
  {
   "cell_type": "code",
   "execution_count": 38,
   "metadata": {
    "scrolled": false
   },
   "outputs": [
    {
     "data": {
      "text/plain": [
       "{0: ['высшее'],\n",
       " 1: ['среднее'],\n",
       " 2: ['неоконченное высшее'],\n",
       " 3: ['начальное'],\n",
       " 4: ['ученая степень']}"
      ]
     },
     "execution_count": 38,
     "metadata": {},
     "output_type": "execute_result"
    }
   ],
   "source": [
    "education_data = data[['education', 'education_id']].drop_duplicates()\n",
    "education_dict = education_data.groupby('education_id')['education'].apply(list).to_dict()\n",
    "education_dict"
   ]
  },
  {
   "cell_type": "markdown",
   "metadata": {},
   "source": [
    "так как мы сохранили данные о том, чему соответствуют id - идентификаторы, можно убрать столбец education для разгрузки памяти"
   ]
  },
  {
   "cell_type": "code",
   "execution_count": 39,
   "metadata": {},
   "outputs": [],
   "source": [
    "del data['education']"
   ]
  },
  {
   "cell_type": "markdown",
   "metadata": {},
   "source": [
    "Обработка столбца **family status**"
   ]
  },
  {
   "cell_type": "code",
   "execution_count": 40,
   "metadata": {},
   "outputs": [
    {
     "data": {
      "text/plain": [
       "женат / замужем          12380\n",
       "гражданский брак          4176\n",
       "Не женат / не замужем     2813\n",
       "в разводе                 1195\n",
       "вдовец / вдова             960\n",
       "Name: family_status, dtype: int64"
      ]
     },
     "execution_count": 40,
     "metadata": {},
     "output_type": "execute_result"
    }
   ],
   "source": [
    "data['family_status'].value_counts()"
   ]
  },
  {
   "cell_type": "code",
   "execution_count": 41,
   "metadata": {},
   "outputs": [
    {
     "data": {
      "text/plain": [
       "0    12380\n",
       "1     4176\n",
       "4     2813\n",
       "3     1195\n",
       "2      960\n",
       "Name: family_status_id, dtype: int64"
      ]
     },
     "execution_count": 41,
     "metadata": {},
     "output_type": "execute_result"
    }
   ],
   "source": [
    "data['family_status_id'].value_counts()"
   ]
  },
  {
   "cell_type": "code",
   "execution_count": 42,
   "metadata": {},
   "outputs": [
    {
     "data": {
      "text/plain": [
       "{0: ['женат / замужем'],\n",
       " 1: ['гражданский брак'],\n",
       " 2: ['вдовец / вдова'],\n",
       " 3: ['в разводе'],\n",
       " 4: ['Не женат / не замужем']}"
      ]
     },
     "execution_count": 42,
     "metadata": {},
     "output_type": "execute_result"
    }
   ],
   "source": [
    "family_status_data = data[['family_status', 'family_status_id']].drop_duplicates()\n",
    "family_id_dict = family_status_data.groupby('family_status_id')['family_status'].apply(list).to_dict()\n",
    "family_id_dict"
   ]
  },
  {
   "cell_type": "markdown",
   "metadata": {},
   "source": [
    "теперь расшифровка столбца записана в словарь, и столбец family_status просто дублирует данный словарь и занимает место - можно удалить его"
   ]
  },
  {
   "cell_type": "code",
   "execution_count": 43,
   "metadata": {},
   "outputs": [],
   "source": [
    "del data['family_status']"
   ]
  },
  {
   "cell_type": "code",
   "execution_count": 44,
   "metadata": {},
   "outputs": [
    {
     "data": {
      "text/plain": [
       "71"
      ]
     },
     "execution_count": 44,
     "metadata": {},
     "output_type": "execute_result"
    }
   ],
   "source": [
    "data.duplicated().sum()"
   ]
  },
  {
   "cell_type": "code",
   "execution_count": 45,
   "metadata": {},
   "outputs": [],
   "source": [
    "data = data.drop_duplicates().reset_index(drop=True)"
   ]
  },
  {
   "cell_type": "code",
   "execution_count": 46,
   "metadata": {},
   "outputs": [
    {
     "data": {
      "text/plain": [
       "0"
      ]
     },
     "execution_count": 46,
     "metadata": {},
     "output_type": "execute_result"
    }
   ],
   "source": [
    "data.duplicated().sum()     # строки-дубликаты успешно удалены"
   ]
  },
  {
   "cell_type": "markdown",
   "metadata": {},
   "source": [
    "### Лемматизация"
   ]
  },
  {
   "cell_type": "markdown",
   "metadata": {},
   "source": [
    "как обсуждалось выше, лемматизацию можно применить к столбцу **purpose** , так как глобально там описывается лишь трата денег на *жилье*, *образование* , *автомобиль* или *свадьба*"
   ]
  },
  {
   "cell_type": "code",
   "execution_count": 47,
   "metadata": {},
   "outputs": [
    {
     "data": {
      "text/plain": [
       "array(['покупка жилья', 'приобретение автомобиля',\n",
       "       'дополнительное образование', 'сыграть свадьбу',\n",
       "       'операции с жильем', 'образование', 'на проведение свадьбы',\n",
       "       'покупка жилья для семьи', 'покупка недвижимости',\n",
       "       'покупка коммерческой недвижимости', 'покупка жилой недвижимости',\n",
       "       'строительство собственной недвижимости', 'недвижимость',\n",
       "       'строительство недвижимости', 'на покупку подержанного автомобиля',\n",
       "       'на покупку своего автомобиля',\n",
       "       'операции с коммерческой недвижимостью',\n",
       "       'строительство жилой недвижимости', 'жилье',\n",
       "       'операции со своей недвижимостью', 'автомобили',\n",
       "       'заняться образованием', 'сделка с подержанным автомобилем',\n",
       "       'получение образования', 'автомобиль', 'свадьба',\n",
       "       'получение дополнительного образования', 'покупка своего жилья',\n",
       "       'операции с недвижимостью', 'получение высшего образования',\n",
       "       'свой автомобиль', 'сделка с автомобилем',\n",
       "       'профильное образование', 'высшее образование',\n",
       "       'покупка жилья для сдачи', 'на покупку автомобиля', 'ремонт жилью',\n",
       "       'заняться высшим образованием'], dtype=object)"
      ]
     },
     "execution_count": 47,
     "metadata": {},
     "output_type": "execute_result"
    }
   ],
   "source": [
    "data['purpose'].unique()"
   ]
  },
  {
   "cell_type": "code",
   "execution_count": 48,
   "metadata": {
    "scrolled": true
   },
   "outputs": [
    {
     "data": {
      "text/plain": [
       "['\\n',\n",
       " ' ',\n",
       " 'автомобиль',\n",
       " 'высокий',\n",
       " 'для',\n",
       " 'дополнительный',\n",
       " 'жилой',\n",
       " 'жилье',\n",
       " 'заниматься',\n",
       " 'коммерческий',\n",
       " 'на',\n",
       " 'недвижимость',\n",
       " 'образование',\n",
       " 'операция',\n",
       " 'подержать',\n",
       " 'покупка',\n",
       " 'получение',\n",
       " 'приобретение',\n",
       " 'проведение',\n",
       " 'профильный',\n",
       " 'ремонт',\n",
       " 'с',\n",
       " 'свадьба',\n",
       " 'свой',\n",
       " 'сдача',\n",
       " 'сделка',\n",
       " 'семья',\n",
       " 'со',\n",
       " 'собственный',\n",
       " 'строительство',\n",
       " 'сыграть']"
      ]
     },
     "execution_count": 48,
     "metadata": {},
     "output_type": "execute_result"
    }
   ],
   "source": [
    "from pymystem3 import Mystem\n",
    "m = Mystem()\n",
    "\n",
    "purposes = ' '.join(list(data['purpose'].unique()))         # создание текстовой строки из списка уникальных значений\n",
    "lemmas = m.lemmatize(purposes)\n",
    "\n",
    "unique_lemmas = []                                          # для наглядности выведем только уникальные значения\n",
    "for lemma in lemmas:\n",
    "    if lemma not in unique_lemmas:\n",
    "        unique_lemmas.append(lemma)\n",
    "\n",
    "sorted(unique_lemmas)"
   ]
  },
  {
   "cell_type": "markdown",
   "metadata": {},
   "source": [
    "на основе полученного списка напишем функцию, которая создаст новый столбец, опираясь на ключевые слова из старых значений"
   ]
  },
  {
   "cell_type": "code",
   "execution_count": 49,
   "metadata": {},
   "outputs": [
    {
     "data": {
      "text/html": [
       "<div>\n",
       "<style scoped>\n",
       "    .dataframe tbody tr th:only-of-type {\n",
       "        vertical-align: middle;\n",
       "    }\n",
       "\n",
       "    .dataframe tbody tr th {\n",
       "        vertical-align: top;\n",
       "    }\n",
       "\n",
       "    .dataframe thead th {\n",
       "        text-align: right;\n",
       "    }\n",
       "</style>\n",
       "<table border=\"1\" class=\"dataframe\">\n",
       "  <thead>\n",
       "    <tr style=\"text-align: right;\">\n",
       "      <th></th>\n",
       "      <th>children</th>\n",
       "      <th>dob_years</th>\n",
       "      <th>education_id</th>\n",
       "      <th>family_status_id</th>\n",
       "      <th>gender</th>\n",
       "      <th>income_type</th>\n",
       "      <th>debt</th>\n",
       "      <th>total_income</th>\n",
       "      <th>purpose</th>\n",
       "      <th>purpose_category</th>\n",
       "    </tr>\n",
       "  </thead>\n",
       "  <tbody>\n",
       "    <tr>\n",
       "      <td>0</td>\n",
       "      <td>1</td>\n",
       "      <td>42</td>\n",
       "      <td>0</td>\n",
       "      <td>0</td>\n",
       "      <td>F</td>\n",
       "      <td>сотрудник</td>\n",
       "      <td>0</td>\n",
       "      <td>253875</td>\n",
       "      <td>покупка жилья</td>\n",
       "      <td>недвижимость</td>\n",
       "    </tr>\n",
       "    <tr>\n",
       "      <td>1</td>\n",
       "      <td>1</td>\n",
       "      <td>36</td>\n",
       "      <td>1</td>\n",
       "      <td>0</td>\n",
       "      <td>F</td>\n",
       "      <td>сотрудник</td>\n",
       "      <td>0</td>\n",
       "      <td>112080</td>\n",
       "      <td>приобретение автомобиля</td>\n",
       "      <td>автомобиль</td>\n",
       "    </tr>\n",
       "    <tr>\n",
       "      <td>2</td>\n",
       "      <td>0</td>\n",
       "      <td>33</td>\n",
       "      <td>1</td>\n",
       "      <td>0</td>\n",
       "      <td>M</td>\n",
       "      <td>сотрудник</td>\n",
       "      <td>0</td>\n",
       "      <td>145885</td>\n",
       "      <td>покупка жилья</td>\n",
       "      <td>недвижимость</td>\n",
       "    </tr>\n",
       "    <tr>\n",
       "      <td>3</td>\n",
       "      <td>3</td>\n",
       "      <td>32</td>\n",
       "      <td>1</td>\n",
       "      <td>0</td>\n",
       "      <td>M</td>\n",
       "      <td>сотрудник</td>\n",
       "      <td>0</td>\n",
       "      <td>267628</td>\n",
       "      <td>дополнительное образование</td>\n",
       "      <td>образование</td>\n",
       "    </tr>\n",
       "    <tr>\n",
       "      <td>4</td>\n",
       "      <td>0</td>\n",
       "      <td>53</td>\n",
       "      <td>1</td>\n",
       "      <td>1</td>\n",
       "      <td>F</td>\n",
       "      <td>пенсионер</td>\n",
       "      <td>0</td>\n",
       "      <td>158616</td>\n",
       "      <td>сыграть свадьбу</td>\n",
       "      <td>свадба</td>\n",
       "    </tr>\n",
       "    <tr>\n",
       "      <td>...</td>\n",
       "      <td>...</td>\n",
       "      <td>...</td>\n",
       "      <td>...</td>\n",
       "      <td>...</td>\n",
       "      <td>...</td>\n",
       "      <td>...</td>\n",
       "      <td>...</td>\n",
       "      <td>...</td>\n",
       "      <td>...</td>\n",
       "      <td>...</td>\n",
       "    </tr>\n",
       "    <tr>\n",
       "      <td>21448</td>\n",
       "      <td>1</td>\n",
       "      <td>43</td>\n",
       "      <td>1</td>\n",
       "      <td>1</td>\n",
       "      <td>F</td>\n",
       "      <td>компаньон</td>\n",
       "      <td>0</td>\n",
       "      <td>224791</td>\n",
       "      <td>операции с жильем</td>\n",
       "      <td>недвижимость</td>\n",
       "    </tr>\n",
       "    <tr>\n",
       "      <td>21449</td>\n",
       "      <td>0</td>\n",
       "      <td>67</td>\n",
       "      <td>1</td>\n",
       "      <td>0</td>\n",
       "      <td>F</td>\n",
       "      <td>пенсионер</td>\n",
       "      <td>0</td>\n",
       "      <td>155999</td>\n",
       "      <td>сделка с автомобилем</td>\n",
       "      <td>автомобиль</td>\n",
       "    </tr>\n",
       "    <tr>\n",
       "      <td>21450</td>\n",
       "      <td>1</td>\n",
       "      <td>38</td>\n",
       "      <td>1</td>\n",
       "      <td>1</td>\n",
       "      <td>M</td>\n",
       "      <td>сотрудник</td>\n",
       "      <td>1</td>\n",
       "      <td>89672</td>\n",
       "      <td>недвижимость</td>\n",
       "      <td>недвижимость</td>\n",
       "    </tr>\n",
       "    <tr>\n",
       "      <td>21451</td>\n",
       "      <td>3</td>\n",
       "      <td>38</td>\n",
       "      <td>1</td>\n",
       "      <td>0</td>\n",
       "      <td>M</td>\n",
       "      <td>сотрудник</td>\n",
       "      <td>1</td>\n",
       "      <td>244093</td>\n",
       "      <td>на покупку своего автомобиля</td>\n",
       "      <td>автомобиль</td>\n",
       "    </tr>\n",
       "    <tr>\n",
       "      <td>21452</td>\n",
       "      <td>2</td>\n",
       "      <td>40</td>\n",
       "      <td>1</td>\n",
       "      <td>0</td>\n",
       "      <td>F</td>\n",
       "      <td>сотрудник</td>\n",
       "      <td>0</td>\n",
       "      <td>82047</td>\n",
       "      <td>на покупку автомобиля</td>\n",
       "      <td>автомобиль</td>\n",
       "    </tr>\n",
       "  </tbody>\n",
       "</table>\n",
       "<p>21453 rows × 10 columns</p>\n",
       "</div>"
      ],
      "text/plain": [
       "       children  dob_years  education_id  family_status_id gender income_type  \\\n",
       "0             1         42             0                 0      F   сотрудник   \n",
       "1             1         36             1                 0      F   сотрудник   \n",
       "2             0         33             1                 0      M   сотрудник   \n",
       "3             3         32             1                 0      M   сотрудник   \n",
       "4             0         53             1                 1      F   пенсионер   \n",
       "...         ...        ...           ...               ...    ...         ...   \n",
       "21448         1         43             1                 1      F   компаньон   \n",
       "21449         0         67             1                 0      F   пенсионер   \n",
       "21450         1         38             1                 1      M   сотрудник   \n",
       "21451         3         38             1                 0      M   сотрудник   \n",
       "21452         2         40             1                 0      F   сотрудник   \n",
       "\n",
       "       debt  total_income                       purpose purpose_category  \n",
       "0         0        253875                 покупка жилья     недвижимость  \n",
       "1         0        112080       приобретение автомобиля       автомобиль  \n",
       "2         0        145885                 покупка жилья     недвижимость  \n",
       "3         0        267628    дополнительное образование      образование  \n",
       "4         0        158616               сыграть свадьбу           свадба  \n",
       "...     ...           ...                           ...              ...  \n",
       "21448     0        224791             операции с жильем     недвижимость  \n",
       "21449     0        155999          сделка с автомобилем       автомобиль  \n",
       "21450     1         89672                  недвижимость     недвижимость  \n",
       "21451     1        244093  на покупку своего автомобиля       автомобиль  \n",
       "21452     0         82047         на покупку автомобиля       автомобиль  \n",
       "\n",
       "[21453 rows x 10 columns]"
      ]
     },
     "metadata": {},
     "output_type": "display_data"
    }
   ],
   "source": [
    "def purpose_def(purpose):\n",
    "    lemma = m.lemmatize(purpose)\n",
    "    if 'автомобиль' in lemma:\n",
    "        return 'автомобиль'\n",
    "    elif ('жилье' in lemma\n",
    "        or 'жилой' in lemma\n",
    "        or 'недвижимость' in lemma):\n",
    "        return 'недвижимость'\n",
    "    elif 'свадьба' in lemma:\n",
    "        return 'свадба'\n",
    "    elif 'образование' in lemma:\n",
    "        return 'образование'\n",
    "    else:\n",
    "        return 'не удалось определить категорию'\n",
    "\n",
    "\n",
    "data['purpose_category'] = data['purpose'].apply(purpose_def)\n",
    "display(data)"
   ]
  },
  {
   "cell_type": "code",
   "execution_count": 50,
   "metadata": {},
   "outputs": [
    {
     "data": {
      "text/plain": [
       "недвижимость    10810\n",
       "автомобиль       4306\n",
       "образование      4013\n",
       "свадба           2324\n",
       "Name: purpose_category, dtype: int64"
      ]
     },
     "execution_count": 50,
     "metadata": {},
     "output_type": "execute_result"
    }
   ],
   "source": [
    "data['purpose_category'].value_counts()"
   ]
  },
  {
   "cell_type": "markdown",
   "metadata": {},
   "source": [
    "как видно, функция сработала верно, плюс не вывела значений \"не удалось определить категорию\" - можем удалить старый столбец"
   ]
  },
  {
   "cell_type": "code",
   "execution_count": 51,
   "metadata": {},
   "outputs": [
    {
     "data": {
      "text/html": [
       "<div>\n",
       "<style scoped>\n",
       "    .dataframe tbody tr th:only-of-type {\n",
       "        vertical-align: middle;\n",
       "    }\n",
       "\n",
       "    .dataframe tbody tr th {\n",
       "        vertical-align: top;\n",
       "    }\n",
       "\n",
       "    .dataframe thead th {\n",
       "        text-align: right;\n",
       "    }\n",
       "</style>\n",
       "<table border=\"1\" class=\"dataframe\">\n",
       "  <thead>\n",
       "    <tr style=\"text-align: right;\">\n",
       "      <th></th>\n",
       "      <th>children</th>\n",
       "      <th>dob_years</th>\n",
       "      <th>education_id</th>\n",
       "      <th>family_status_id</th>\n",
       "      <th>gender</th>\n",
       "      <th>income_type</th>\n",
       "      <th>debt</th>\n",
       "      <th>total_income</th>\n",
       "      <th>purpose_category</th>\n",
       "    </tr>\n",
       "  </thead>\n",
       "  <tbody>\n",
       "    <tr>\n",
       "      <td>0</td>\n",
       "      <td>1</td>\n",
       "      <td>42</td>\n",
       "      <td>0</td>\n",
       "      <td>0</td>\n",
       "      <td>F</td>\n",
       "      <td>сотрудник</td>\n",
       "      <td>0</td>\n",
       "      <td>253875</td>\n",
       "      <td>недвижимость</td>\n",
       "    </tr>\n",
       "    <tr>\n",
       "      <td>1</td>\n",
       "      <td>1</td>\n",
       "      <td>36</td>\n",
       "      <td>1</td>\n",
       "      <td>0</td>\n",
       "      <td>F</td>\n",
       "      <td>сотрудник</td>\n",
       "      <td>0</td>\n",
       "      <td>112080</td>\n",
       "      <td>автомобиль</td>\n",
       "    </tr>\n",
       "    <tr>\n",
       "      <td>2</td>\n",
       "      <td>0</td>\n",
       "      <td>33</td>\n",
       "      <td>1</td>\n",
       "      <td>0</td>\n",
       "      <td>M</td>\n",
       "      <td>сотрудник</td>\n",
       "      <td>0</td>\n",
       "      <td>145885</td>\n",
       "      <td>недвижимость</td>\n",
       "    </tr>\n",
       "    <tr>\n",
       "      <td>3</td>\n",
       "      <td>3</td>\n",
       "      <td>32</td>\n",
       "      <td>1</td>\n",
       "      <td>0</td>\n",
       "      <td>M</td>\n",
       "      <td>сотрудник</td>\n",
       "      <td>0</td>\n",
       "      <td>267628</td>\n",
       "      <td>образование</td>\n",
       "    </tr>\n",
       "    <tr>\n",
       "      <td>4</td>\n",
       "      <td>0</td>\n",
       "      <td>53</td>\n",
       "      <td>1</td>\n",
       "      <td>1</td>\n",
       "      <td>F</td>\n",
       "      <td>пенсионер</td>\n",
       "      <td>0</td>\n",
       "      <td>158616</td>\n",
       "      <td>свадба</td>\n",
       "    </tr>\n",
       "    <tr>\n",
       "      <td>...</td>\n",
       "      <td>...</td>\n",
       "      <td>...</td>\n",
       "      <td>...</td>\n",
       "      <td>...</td>\n",
       "      <td>...</td>\n",
       "      <td>...</td>\n",
       "      <td>...</td>\n",
       "      <td>...</td>\n",
       "      <td>...</td>\n",
       "    </tr>\n",
       "    <tr>\n",
       "      <td>21448</td>\n",
       "      <td>1</td>\n",
       "      <td>43</td>\n",
       "      <td>1</td>\n",
       "      <td>1</td>\n",
       "      <td>F</td>\n",
       "      <td>компаньон</td>\n",
       "      <td>0</td>\n",
       "      <td>224791</td>\n",
       "      <td>недвижимость</td>\n",
       "    </tr>\n",
       "    <tr>\n",
       "      <td>21449</td>\n",
       "      <td>0</td>\n",
       "      <td>67</td>\n",
       "      <td>1</td>\n",
       "      <td>0</td>\n",
       "      <td>F</td>\n",
       "      <td>пенсионер</td>\n",
       "      <td>0</td>\n",
       "      <td>155999</td>\n",
       "      <td>автомобиль</td>\n",
       "    </tr>\n",
       "    <tr>\n",
       "      <td>21450</td>\n",
       "      <td>1</td>\n",
       "      <td>38</td>\n",
       "      <td>1</td>\n",
       "      <td>1</td>\n",
       "      <td>M</td>\n",
       "      <td>сотрудник</td>\n",
       "      <td>1</td>\n",
       "      <td>89672</td>\n",
       "      <td>недвижимость</td>\n",
       "    </tr>\n",
       "    <tr>\n",
       "      <td>21451</td>\n",
       "      <td>3</td>\n",
       "      <td>38</td>\n",
       "      <td>1</td>\n",
       "      <td>0</td>\n",
       "      <td>M</td>\n",
       "      <td>сотрудник</td>\n",
       "      <td>1</td>\n",
       "      <td>244093</td>\n",
       "      <td>автомобиль</td>\n",
       "    </tr>\n",
       "    <tr>\n",
       "      <td>21452</td>\n",
       "      <td>2</td>\n",
       "      <td>40</td>\n",
       "      <td>1</td>\n",
       "      <td>0</td>\n",
       "      <td>F</td>\n",
       "      <td>сотрудник</td>\n",
       "      <td>0</td>\n",
       "      <td>82047</td>\n",
       "      <td>автомобиль</td>\n",
       "    </tr>\n",
       "  </tbody>\n",
       "</table>\n",
       "<p>21453 rows × 9 columns</p>\n",
       "</div>"
      ],
      "text/plain": [
       "       children  dob_years  education_id  family_status_id gender income_type  \\\n",
       "0             1         42             0                 0      F   сотрудник   \n",
       "1             1         36             1                 0      F   сотрудник   \n",
       "2             0         33             1                 0      M   сотрудник   \n",
       "3             3         32             1                 0      M   сотрудник   \n",
       "4             0         53             1                 1      F   пенсионер   \n",
       "...         ...        ...           ...               ...    ...         ...   \n",
       "21448         1         43             1                 1      F   компаньон   \n",
       "21449         0         67             1                 0      F   пенсионер   \n",
       "21450         1         38             1                 1      M   сотрудник   \n",
       "21451         3         38             1                 0      M   сотрудник   \n",
       "21452         2         40             1                 0      F   сотрудник   \n",
       "\n",
       "       debt  total_income purpose_category  \n",
       "0         0        253875     недвижимость  \n",
       "1         0        112080       автомобиль  \n",
       "2         0        145885     недвижимость  \n",
       "3         0        267628      образование  \n",
       "4         0        158616           свадба  \n",
       "...     ...           ...              ...  \n",
       "21448     0        224791     недвижимость  \n",
       "21449     0        155999       автомобиль  \n",
       "21450     1         89672     недвижимость  \n",
       "21451     1        244093       автомобиль  \n",
       "21452     0         82047       автомобиль  \n",
       "\n",
       "[21453 rows x 9 columns]"
      ]
     },
     "metadata": {},
     "output_type": "display_data"
    }
   ],
   "source": [
    "del data['purpose']\n",
    "display(data)"
   ]
  },
  {
   "cell_type": "markdown",
   "metadata": {},
   "source": [
    "### Категоризация данных"
   ]
  },
  {
   "cell_type": "markdown",
   "metadata": {},
   "source": [
    "в исследуемом наборе данных можно разбить некоторые столбцы на категории для удобства анализа. например столбец **children** поделить на семьи *бездетные* , *обычное число детей* и *многодетные*. Так же большой набор численных данных в столбцах **total_income** и **dob_years** можно вполне разбить на категории для удобства анализа"
   ]
  },
  {
   "cell_type": "markdown",
   "metadata": {},
   "source": [
    "разделим семьи на многодетные (3 и больше детей) , обычное число детей (1-2) и бездетные (0):"
   ]
  },
  {
   "cell_type": "code",
   "execution_count": 52,
   "metadata": {
    "scrolled": true
   },
   "outputs": [
    {
     "data": {
      "text/html": [
       "<div>\n",
       "<style scoped>\n",
       "    .dataframe tbody tr th:only-of-type {\n",
       "        vertical-align: middle;\n",
       "    }\n",
       "\n",
       "    .dataframe tbody tr th {\n",
       "        vertical-align: top;\n",
       "    }\n",
       "\n",
       "    .dataframe thead th {\n",
       "        text-align: right;\n",
       "    }\n",
       "</style>\n",
       "<table border=\"1\" class=\"dataframe\">\n",
       "  <thead>\n",
       "    <tr style=\"text-align: right;\">\n",
       "      <th></th>\n",
       "      <th>children</th>\n",
       "      <th>dob_years</th>\n",
       "      <th>education_id</th>\n",
       "      <th>family_status_id</th>\n",
       "      <th>gender</th>\n",
       "      <th>income_type</th>\n",
       "      <th>debt</th>\n",
       "      <th>total_income</th>\n",
       "      <th>purpose_category</th>\n",
       "      <th>children_category</th>\n",
       "    </tr>\n",
       "  </thead>\n",
       "  <tbody>\n",
       "    <tr>\n",
       "      <td>0</td>\n",
       "      <td>1</td>\n",
       "      <td>42</td>\n",
       "      <td>0</td>\n",
       "      <td>0</td>\n",
       "      <td>F</td>\n",
       "      <td>сотрудник</td>\n",
       "      <td>0</td>\n",
       "      <td>253875</td>\n",
       "      <td>недвижимость</td>\n",
       "      <td>обычное число детей</td>\n",
       "    </tr>\n",
       "    <tr>\n",
       "      <td>1</td>\n",
       "      <td>1</td>\n",
       "      <td>36</td>\n",
       "      <td>1</td>\n",
       "      <td>0</td>\n",
       "      <td>F</td>\n",
       "      <td>сотрудник</td>\n",
       "      <td>0</td>\n",
       "      <td>112080</td>\n",
       "      <td>автомобиль</td>\n",
       "      <td>обычное число детей</td>\n",
       "    </tr>\n",
       "    <tr>\n",
       "      <td>2</td>\n",
       "      <td>0</td>\n",
       "      <td>33</td>\n",
       "      <td>1</td>\n",
       "      <td>0</td>\n",
       "      <td>M</td>\n",
       "      <td>сотрудник</td>\n",
       "      <td>0</td>\n",
       "      <td>145885</td>\n",
       "      <td>недвижимость</td>\n",
       "      <td>бездетные</td>\n",
       "    </tr>\n",
       "    <tr>\n",
       "      <td>3</td>\n",
       "      <td>3</td>\n",
       "      <td>32</td>\n",
       "      <td>1</td>\n",
       "      <td>0</td>\n",
       "      <td>M</td>\n",
       "      <td>сотрудник</td>\n",
       "      <td>0</td>\n",
       "      <td>267628</td>\n",
       "      <td>образование</td>\n",
       "      <td>многодетные</td>\n",
       "    </tr>\n",
       "    <tr>\n",
       "      <td>4</td>\n",
       "      <td>0</td>\n",
       "      <td>53</td>\n",
       "      <td>1</td>\n",
       "      <td>1</td>\n",
       "      <td>F</td>\n",
       "      <td>пенсионер</td>\n",
       "      <td>0</td>\n",
       "      <td>158616</td>\n",
       "      <td>свадба</td>\n",
       "      <td>бездетные</td>\n",
       "    </tr>\n",
       "    <tr>\n",
       "      <td>...</td>\n",
       "      <td>...</td>\n",
       "      <td>...</td>\n",
       "      <td>...</td>\n",
       "      <td>...</td>\n",
       "      <td>...</td>\n",
       "      <td>...</td>\n",
       "      <td>...</td>\n",
       "      <td>...</td>\n",
       "      <td>...</td>\n",
       "      <td>...</td>\n",
       "    </tr>\n",
       "    <tr>\n",
       "      <td>21448</td>\n",
       "      <td>1</td>\n",
       "      <td>43</td>\n",
       "      <td>1</td>\n",
       "      <td>1</td>\n",
       "      <td>F</td>\n",
       "      <td>компаньон</td>\n",
       "      <td>0</td>\n",
       "      <td>224791</td>\n",
       "      <td>недвижимость</td>\n",
       "      <td>обычное число детей</td>\n",
       "    </tr>\n",
       "    <tr>\n",
       "      <td>21449</td>\n",
       "      <td>0</td>\n",
       "      <td>67</td>\n",
       "      <td>1</td>\n",
       "      <td>0</td>\n",
       "      <td>F</td>\n",
       "      <td>пенсионер</td>\n",
       "      <td>0</td>\n",
       "      <td>155999</td>\n",
       "      <td>автомобиль</td>\n",
       "      <td>бездетные</td>\n",
       "    </tr>\n",
       "    <tr>\n",
       "      <td>21450</td>\n",
       "      <td>1</td>\n",
       "      <td>38</td>\n",
       "      <td>1</td>\n",
       "      <td>1</td>\n",
       "      <td>M</td>\n",
       "      <td>сотрудник</td>\n",
       "      <td>1</td>\n",
       "      <td>89672</td>\n",
       "      <td>недвижимость</td>\n",
       "      <td>обычное число детей</td>\n",
       "    </tr>\n",
       "    <tr>\n",
       "      <td>21451</td>\n",
       "      <td>3</td>\n",
       "      <td>38</td>\n",
       "      <td>1</td>\n",
       "      <td>0</td>\n",
       "      <td>M</td>\n",
       "      <td>сотрудник</td>\n",
       "      <td>1</td>\n",
       "      <td>244093</td>\n",
       "      <td>автомобиль</td>\n",
       "      <td>многодетные</td>\n",
       "    </tr>\n",
       "    <tr>\n",
       "      <td>21452</td>\n",
       "      <td>2</td>\n",
       "      <td>40</td>\n",
       "      <td>1</td>\n",
       "      <td>0</td>\n",
       "      <td>F</td>\n",
       "      <td>сотрудник</td>\n",
       "      <td>0</td>\n",
       "      <td>82047</td>\n",
       "      <td>автомобиль</td>\n",
       "      <td>обычное число детей</td>\n",
       "    </tr>\n",
       "  </tbody>\n",
       "</table>\n",
       "<p>21453 rows × 10 columns</p>\n",
       "</div>"
      ],
      "text/plain": [
       "       children  dob_years  education_id  family_status_id gender income_type  \\\n",
       "0             1         42             0                 0      F   сотрудник   \n",
       "1             1         36             1                 0      F   сотрудник   \n",
       "2             0         33             1                 0      M   сотрудник   \n",
       "3             3         32             1                 0      M   сотрудник   \n",
       "4             0         53             1                 1      F   пенсионер   \n",
       "...         ...        ...           ...               ...    ...         ...   \n",
       "21448         1         43             1                 1      F   компаньон   \n",
       "21449         0         67             1                 0      F   пенсионер   \n",
       "21450         1         38             1                 1      M   сотрудник   \n",
       "21451         3         38             1                 0      M   сотрудник   \n",
       "21452         2         40             1                 0      F   сотрудник   \n",
       "\n",
       "       debt  total_income purpose_category    children_category  \n",
       "0         0        253875     недвижимость  обычное число детей  \n",
       "1         0        112080       автомобиль  обычное число детей  \n",
       "2         0        145885     недвижимость            бездетные  \n",
       "3         0        267628      образование          многодетные  \n",
       "4         0        158616           свадба            бездетные  \n",
       "...     ...           ...              ...                  ...  \n",
       "21448     0        224791     недвижимость  обычное число детей  \n",
       "21449     0        155999       автомобиль            бездетные  \n",
       "21450     1         89672     недвижимость  обычное число детей  \n",
       "21451     1        244093       автомобиль          многодетные  \n",
       "21452     0         82047       автомобиль  обычное число детей  \n",
       "\n",
       "[21453 rows x 10 columns]"
      ]
     },
     "metadata": {},
     "output_type": "display_data"
    }
   ],
   "source": [
    "def children_number(number):\n",
    "    if number == 0:\n",
    "        return 'бездетные'\n",
    "    elif 1 <= number < 3:\n",
    "        return 'обычное число детей'\n",
    "    elif number >= 3:\n",
    "        return 'многодетные'\n",
    "    else:\n",
    "        return 'не обработано'\n",
    "    \n",
    "    \n",
    "data['children_category'] = data['children'].apply(children_number)\n",
    "display(data)"
   ]
  },
  {
   "cell_type": "code",
   "execution_count": 53,
   "metadata": {
    "scrolled": true
   },
   "outputs": [
    {
     "data": {
      "text/plain": [
       "бездетные              14090\n",
       "обычное число детей     6983\n",
       "многодетные              380\n",
       "Name: children_category, dtype: int64"
      ]
     },
     "execution_count": 53,
     "metadata": {},
     "output_type": "execute_result"
    }
   ],
   "source": [
    "data['children_category'].value_counts()"
   ]
  },
  {
   "cell_type": "markdown",
   "metadata": {},
   "source": [
    "как видно, все значения удалось обработать и категоризировать. теперь более наглядно видно распределение по кол-ву детей у клиентов банка. можно удалить старый столбец, так как точное число детей в данном случае уже не сильно важный фактор"
   ]
  },
  {
   "cell_type": "code",
   "execution_count": 54,
   "metadata": {},
   "outputs": [],
   "source": [
    "del data['children']"
   ]
  },
  {
   "cell_type": "markdown",
   "metadata": {},
   "source": [
    "следующим столбцом обработаем **dob_years** - разделим так же его на категории. пусть меньше 25 будут молодые, от 26 до 50 клиенты среднего возраста, а старше - пожилые"
   ]
  },
  {
   "cell_type": "code",
   "execution_count": 55,
   "metadata": {},
   "outputs": [],
   "source": [
    "data['age_category'] = pd.qcut(data['dob_years'], q=4, precision=0)   \n",
    "# разобьем все значения возраста клиентов на 4 группы"
   ]
  },
  {
   "cell_type": "code",
   "execution_count": 56,
   "metadata": {},
   "outputs": [
    {
     "data": {
      "text/html": [
       "<div>\n",
       "<style scoped>\n",
       "    .dataframe tbody tr th:only-of-type {\n",
       "        vertical-align: middle;\n",
       "    }\n",
       "\n",
       "    .dataframe tbody tr th {\n",
       "        vertical-align: top;\n",
       "    }\n",
       "\n",
       "    .dataframe thead th {\n",
       "        text-align: right;\n",
       "    }\n",
       "</style>\n",
       "<table border=\"1\" class=\"dataframe\">\n",
       "  <thead>\n",
       "    <tr style=\"text-align: right;\">\n",
       "      <th></th>\n",
       "      <th>dob_years</th>\n",
       "      <th>education_id</th>\n",
       "      <th>family_status_id</th>\n",
       "      <th>gender</th>\n",
       "      <th>income_type</th>\n",
       "      <th>debt</th>\n",
       "      <th>total_income</th>\n",
       "      <th>purpose_category</th>\n",
       "      <th>children_category</th>\n",
       "      <th>age_category</th>\n",
       "    </tr>\n",
       "  </thead>\n",
       "  <tbody>\n",
       "    <tr>\n",
       "      <td>0</td>\n",
       "      <td>42</td>\n",
       "      <td>0</td>\n",
       "      <td>0</td>\n",
       "      <td>F</td>\n",
       "      <td>сотрудник</td>\n",
       "      <td>0</td>\n",
       "      <td>253875</td>\n",
       "      <td>недвижимость</td>\n",
       "      <td>обычное число детей</td>\n",
       "      <td>(33, 42]</td>\n",
       "    </tr>\n",
       "    <tr>\n",
       "      <td>1</td>\n",
       "      <td>36</td>\n",
       "      <td>1</td>\n",
       "      <td>0</td>\n",
       "      <td>F</td>\n",
       "      <td>сотрудник</td>\n",
       "      <td>0</td>\n",
       "      <td>112080</td>\n",
       "      <td>автомобиль</td>\n",
       "      <td>обычное число детей</td>\n",
       "      <td>(33, 42]</td>\n",
       "    </tr>\n",
       "    <tr>\n",
       "      <td>2</td>\n",
       "      <td>33</td>\n",
       "      <td>1</td>\n",
       "      <td>0</td>\n",
       "      <td>M</td>\n",
       "      <td>сотрудник</td>\n",
       "      <td>0</td>\n",
       "      <td>145885</td>\n",
       "      <td>недвижимость</td>\n",
       "      <td>бездетные</td>\n",
       "      <td>(18, 33]</td>\n",
       "    </tr>\n",
       "    <tr>\n",
       "      <td>3</td>\n",
       "      <td>32</td>\n",
       "      <td>1</td>\n",
       "      <td>0</td>\n",
       "      <td>M</td>\n",
       "      <td>сотрудник</td>\n",
       "      <td>0</td>\n",
       "      <td>267628</td>\n",
       "      <td>образование</td>\n",
       "      <td>многодетные</td>\n",
       "      <td>(18, 33]</td>\n",
       "    </tr>\n",
       "    <tr>\n",
       "      <td>4</td>\n",
       "      <td>53</td>\n",
       "      <td>1</td>\n",
       "      <td>1</td>\n",
       "      <td>F</td>\n",
       "      <td>пенсионер</td>\n",
       "      <td>0</td>\n",
       "      <td>158616</td>\n",
       "      <td>свадба</td>\n",
       "      <td>бездетные</td>\n",
       "      <td>(42, 53]</td>\n",
       "    </tr>\n",
       "    <tr>\n",
       "      <td>5</td>\n",
       "      <td>27</td>\n",
       "      <td>0</td>\n",
       "      <td>1</td>\n",
       "      <td>M</td>\n",
       "      <td>компаньон</td>\n",
       "      <td>0</td>\n",
       "      <td>255763</td>\n",
       "      <td>недвижимость</td>\n",
       "      <td>бездетные</td>\n",
       "      <td>(18, 33]</td>\n",
       "    </tr>\n",
       "    <tr>\n",
       "      <td>6</td>\n",
       "      <td>43</td>\n",
       "      <td>0</td>\n",
       "      <td>0</td>\n",
       "      <td>F</td>\n",
       "      <td>компаньон</td>\n",
       "      <td>0</td>\n",
       "      <td>240525</td>\n",
       "      <td>недвижимость</td>\n",
       "      <td>бездетные</td>\n",
       "      <td>(42, 53]</td>\n",
       "    </tr>\n",
       "    <tr>\n",
       "      <td>7</td>\n",
       "      <td>50</td>\n",
       "      <td>1</td>\n",
       "      <td>0</td>\n",
       "      <td>M</td>\n",
       "      <td>сотрудник</td>\n",
       "      <td>0</td>\n",
       "      <td>135823</td>\n",
       "      <td>образование</td>\n",
       "      <td>бездетные</td>\n",
       "      <td>(42, 53]</td>\n",
       "    </tr>\n",
       "    <tr>\n",
       "      <td>8</td>\n",
       "      <td>35</td>\n",
       "      <td>0</td>\n",
       "      <td>1</td>\n",
       "      <td>F</td>\n",
       "      <td>сотрудник</td>\n",
       "      <td>0</td>\n",
       "      <td>95856</td>\n",
       "      <td>свадба</td>\n",
       "      <td>обычное число детей</td>\n",
       "      <td>(33, 42]</td>\n",
       "    </tr>\n",
       "    <tr>\n",
       "      <td>9</td>\n",
       "      <td>41</td>\n",
       "      <td>1</td>\n",
       "      <td>0</td>\n",
       "      <td>M</td>\n",
       "      <td>сотрудник</td>\n",
       "      <td>0</td>\n",
       "      <td>144425</td>\n",
       "      <td>недвижимость</td>\n",
       "      <td>бездетные</td>\n",
       "      <td>(33, 42]</td>\n",
       "    </tr>\n",
       "  </tbody>\n",
       "</table>\n",
       "</div>"
      ],
      "text/plain": [
       "   dob_years  education_id  family_status_id gender income_type  debt  \\\n",
       "0         42             0                 0      F   сотрудник     0   \n",
       "1         36             1                 0      F   сотрудник     0   \n",
       "2         33             1                 0      M   сотрудник     0   \n",
       "3         32             1                 0      M   сотрудник     0   \n",
       "4         53             1                 1      F   пенсионер     0   \n",
       "5         27             0                 1      M   компаньон     0   \n",
       "6         43             0                 0      F   компаньон     0   \n",
       "7         50             1                 0      M   сотрудник     0   \n",
       "8         35             0                 1      F   сотрудник     0   \n",
       "9         41             1                 0      M   сотрудник     0   \n",
       "\n",
       "   total_income purpose_category    children_category age_category  \n",
       "0        253875     недвижимость  обычное число детей     (33, 42]  \n",
       "1        112080       автомобиль  обычное число детей     (33, 42]  \n",
       "2        145885     недвижимость            бездетные     (18, 33]  \n",
       "3        267628      образование          многодетные     (18, 33]  \n",
       "4        158616           свадба            бездетные     (42, 53]  \n",
       "5        255763     недвижимость            бездетные     (18, 33]  \n",
       "6        240525     недвижимость            бездетные     (42, 53]  \n",
       "7        135823      образование            бездетные     (42, 53]  \n",
       "8         95856           свадба  обычное число детей     (33, 42]  \n",
       "9        144425     недвижимость            бездетные     (33, 42]  "
      ]
     },
     "metadata": {},
     "output_type": "display_data"
    }
   ],
   "source": [
    "display(data.head(10))"
   ]
  },
  {
   "cell_type": "code",
   "execution_count": 57,
   "metadata": {},
   "outputs": [
    {
     "data": {
      "text/plain": [
       "(42, 53]    5448\n",
       "(33, 42]    5365\n",
       "(18, 33]    5365\n",
       "(53, 75]    5275\n",
       "Name: age_category, dtype: int64"
      ]
     },
     "execution_count": 57,
     "metadata": {},
     "output_type": "execute_result"
    }
   ],
   "source": [
    "data['age_category'].value_counts()"
   ]
  },
  {
   "cell_type": "markdown",
   "metadata": {},
   "source": [
    "Для столбца **total_income** попробуем выполнить подобную процедуру и разбить всё на 4 интервала:"
   ]
  },
  {
   "cell_type": "code",
   "execution_count": 58,
   "metadata": {},
   "outputs": [
    {
     "data": {
      "text/html": [
       "<div>\n",
       "<style scoped>\n",
       "    .dataframe tbody tr th:only-of-type {\n",
       "        vertical-align: middle;\n",
       "    }\n",
       "\n",
       "    .dataframe tbody tr th {\n",
       "        vertical-align: top;\n",
       "    }\n",
       "\n",
       "    .dataframe thead th {\n",
       "        text-align: right;\n",
       "    }\n",
       "</style>\n",
       "<table border=\"1\" class=\"dataframe\">\n",
       "  <thead>\n",
       "    <tr style=\"text-align: right;\">\n",
       "      <th></th>\n",
       "      <th>dob_years</th>\n",
       "      <th>education_id</th>\n",
       "      <th>family_status_id</th>\n",
       "      <th>gender</th>\n",
       "      <th>income_type</th>\n",
       "      <th>debt</th>\n",
       "      <th>total_income</th>\n",
       "      <th>purpose_category</th>\n",
       "      <th>children_category</th>\n",
       "      <th>age_category</th>\n",
       "      <th>income_category</th>\n",
       "    </tr>\n",
       "  </thead>\n",
       "  <tbody>\n",
       "    <tr>\n",
       "      <td>0</td>\n",
       "      <td>42</td>\n",
       "      <td>0</td>\n",
       "      <td>0</td>\n",
       "      <td>F</td>\n",
       "      <td>сотрудник</td>\n",
       "      <td>0</td>\n",
       "      <td>253875</td>\n",
       "      <td>недвижимость</td>\n",
       "      <td>обычное число детей</td>\n",
       "      <td>(33, 42]</td>\n",
       "      <td>(202417, 2265604]</td>\n",
       "    </tr>\n",
       "    <tr>\n",
       "      <td>1</td>\n",
       "      <td>36</td>\n",
       "      <td>1</td>\n",
       "      <td>0</td>\n",
       "      <td>F</td>\n",
       "      <td>сотрудник</td>\n",
       "      <td>0</td>\n",
       "      <td>112080</td>\n",
       "      <td>автомобиль</td>\n",
       "      <td>обычное число детей</td>\n",
       "      <td>(33, 42]</td>\n",
       "      <td>(107620, 151876]</td>\n",
       "    </tr>\n",
       "    <tr>\n",
       "      <td>2</td>\n",
       "      <td>33</td>\n",
       "      <td>1</td>\n",
       "      <td>0</td>\n",
       "      <td>M</td>\n",
       "      <td>сотрудник</td>\n",
       "      <td>0</td>\n",
       "      <td>145885</td>\n",
       "      <td>недвижимость</td>\n",
       "      <td>бездетные</td>\n",
       "      <td>(18, 33]</td>\n",
       "      <td>(107620, 151876]</td>\n",
       "    </tr>\n",
       "    <tr>\n",
       "      <td>3</td>\n",
       "      <td>32</td>\n",
       "      <td>1</td>\n",
       "      <td>0</td>\n",
       "      <td>M</td>\n",
       "      <td>сотрудник</td>\n",
       "      <td>0</td>\n",
       "      <td>267628</td>\n",
       "      <td>образование</td>\n",
       "      <td>многодетные</td>\n",
       "      <td>(18, 33]</td>\n",
       "      <td>(202417, 2265604]</td>\n",
       "    </tr>\n",
       "    <tr>\n",
       "      <td>4</td>\n",
       "      <td>53</td>\n",
       "      <td>1</td>\n",
       "      <td>1</td>\n",
       "      <td>F</td>\n",
       "      <td>пенсионер</td>\n",
       "      <td>0</td>\n",
       "      <td>158616</td>\n",
       "      <td>свадба</td>\n",
       "      <td>бездетные</td>\n",
       "      <td>(42, 53]</td>\n",
       "      <td>(151876, 202417]</td>\n",
       "    </tr>\n",
       "    <tr>\n",
       "      <td>...</td>\n",
       "      <td>...</td>\n",
       "      <td>...</td>\n",
       "      <td>...</td>\n",
       "      <td>...</td>\n",
       "      <td>...</td>\n",
       "      <td>...</td>\n",
       "      <td>...</td>\n",
       "      <td>...</td>\n",
       "      <td>...</td>\n",
       "      <td>...</td>\n",
       "      <td>...</td>\n",
       "    </tr>\n",
       "    <tr>\n",
       "      <td>21448</td>\n",
       "      <td>43</td>\n",
       "      <td>1</td>\n",
       "      <td>1</td>\n",
       "      <td>F</td>\n",
       "      <td>компаньон</td>\n",
       "      <td>0</td>\n",
       "      <td>224791</td>\n",
       "      <td>недвижимость</td>\n",
       "      <td>обычное число детей</td>\n",
       "      <td>(42, 53]</td>\n",
       "      <td>(202417, 2265604]</td>\n",
       "    </tr>\n",
       "    <tr>\n",
       "      <td>21449</td>\n",
       "      <td>67</td>\n",
       "      <td>1</td>\n",
       "      <td>0</td>\n",
       "      <td>F</td>\n",
       "      <td>пенсионер</td>\n",
       "      <td>0</td>\n",
       "      <td>155999</td>\n",
       "      <td>автомобиль</td>\n",
       "      <td>бездетные</td>\n",
       "      <td>(53, 75]</td>\n",
       "      <td>(151876, 202417]</td>\n",
       "    </tr>\n",
       "    <tr>\n",
       "      <td>21450</td>\n",
       "      <td>38</td>\n",
       "      <td>1</td>\n",
       "      <td>1</td>\n",
       "      <td>M</td>\n",
       "      <td>сотрудник</td>\n",
       "      <td>1</td>\n",
       "      <td>89672</td>\n",
       "      <td>недвижимость</td>\n",
       "      <td>обычное число детей</td>\n",
       "      <td>(33, 42]</td>\n",
       "      <td>(20666, 107620]</td>\n",
       "    </tr>\n",
       "    <tr>\n",
       "      <td>21451</td>\n",
       "      <td>38</td>\n",
       "      <td>1</td>\n",
       "      <td>0</td>\n",
       "      <td>M</td>\n",
       "      <td>сотрудник</td>\n",
       "      <td>1</td>\n",
       "      <td>244093</td>\n",
       "      <td>автомобиль</td>\n",
       "      <td>многодетные</td>\n",
       "      <td>(33, 42]</td>\n",
       "      <td>(202417, 2265604]</td>\n",
       "    </tr>\n",
       "    <tr>\n",
       "      <td>21452</td>\n",
       "      <td>40</td>\n",
       "      <td>1</td>\n",
       "      <td>0</td>\n",
       "      <td>F</td>\n",
       "      <td>сотрудник</td>\n",
       "      <td>0</td>\n",
       "      <td>82047</td>\n",
       "      <td>автомобиль</td>\n",
       "      <td>обычное число детей</td>\n",
       "      <td>(33, 42]</td>\n",
       "      <td>(20666, 107620]</td>\n",
       "    </tr>\n",
       "  </tbody>\n",
       "</table>\n",
       "<p>21453 rows × 11 columns</p>\n",
       "</div>"
      ],
      "text/plain": [
       "       dob_years  education_id  family_status_id gender income_type  debt  \\\n",
       "0             42             0                 0      F   сотрудник     0   \n",
       "1             36             1                 0      F   сотрудник     0   \n",
       "2             33             1                 0      M   сотрудник     0   \n",
       "3             32             1                 0      M   сотрудник     0   \n",
       "4             53             1                 1      F   пенсионер     0   \n",
       "...          ...           ...               ...    ...         ...   ...   \n",
       "21448         43             1                 1      F   компаньон     0   \n",
       "21449         67             1                 0      F   пенсионер     0   \n",
       "21450         38             1                 1      M   сотрудник     1   \n",
       "21451         38             1                 0      M   сотрудник     1   \n",
       "21452         40             1                 0      F   сотрудник     0   \n",
       "\n",
       "       total_income purpose_category    children_category age_category  \\\n",
       "0            253875     недвижимость  обычное число детей     (33, 42]   \n",
       "1            112080       автомобиль  обычное число детей     (33, 42]   \n",
       "2            145885     недвижимость            бездетные     (18, 33]   \n",
       "3            267628      образование          многодетные     (18, 33]   \n",
       "4            158616           свадба            бездетные     (42, 53]   \n",
       "...             ...              ...                  ...          ...   \n",
       "21448        224791     недвижимость  обычное число детей     (42, 53]   \n",
       "21449        155999       автомобиль            бездетные     (53, 75]   \n",
       "21450         89672     недвижимость  обычное число детей     (33, 42]   \n",
       "21451        244093       автомобиль          многодетные     (33, 42]   \n",
       "21452         82047       автомобиль  обычное число детей     (33, 42]   \n",
       "\n",
       "         income_category  \n",
       "0      (202417, 2265604]  \n",
       "1       (107620, 151876]  \n",
       "2       (107620, 151876]  \n",
       "3      (202417, 2265604]  \n",
       "4       (151876, 202417]  \n",
       "...                  ...  \n",
       "21448  (202417, 2265604]  \n",
       "21449   (151876, 202417]  \n",
       "21450    (20666, 107620]  \n",
       "21451  (202417, 2265604]  \n",
       "21452    (20666, 107620]  \n",
       "\n",
       "[21453 rows x 11 columns]"
      ]
     },
     "metadata": {},
     "output_type": "display_data"
    }
   ],
   "source": [
    "data['income_category'] = pd.qcut(data['total_income'], q=4, precision=0)\n",
    "display(data)"
   ]
  },
  {
   "cell_type": "code",
   "execution_count": 59,
   "metadata": {},
   "outputs": [
    {
     "data": {
      "text/plain": [
       "(151876, 202417]     5818\n",
       "(20666, 107620]      5364\n",
       "(107620, 151876]     5363\n",
       "(202417, 2265604]    4908\n",
       "Name: income_category, dtype: int64"
      ]
     },
     "execution_count": 59,
     "metadata": {},
     "output_type": "execute_result"
    }
   ],
   "source": [
    "data['income_category'].value_counts()"
   ]
  },
  {
   "cell_type": "code",
   "execution_count": 60,
   "metadata": {},
   "outputs": [
    {
     "data": {
      "text/html": [
       "<div>\n",
       "<style scoped>\n",
       "    .dataframe tbody tr th:only-of-type {\n",
       "        vertical-align: middle;\n",
       "    }\n",
       "\n",
       "    .dataframe tbody tr th {\n",
       "        vertical-align: top;\n",
       "    }\n",
       "\n",
       "    .dataframe thead th {\n",
       "        text-align: right;\n",
       "    }\n",
       "</style>\n",
       "<table border=\"1\" class=\"dataframe\">\n",
       "  <thead>\n",
       "    <tr style=\"text-align: right;\">\n",
       "      <th></th>\n",
       "      <th>dob_years</th>\n",
       "      <th>education_id</th>\n",
       "      <th>family_status_id</th>\n",
       "      <th>gender</th>\n",
       "      <th>income_type</th>\n",
       "      <th>debt</th>\n",
       "      <th>total_income</th>\n",
       "      <th>purpose_category</th>\n",
       "      <th>children_category</th>\n",
       "      <th>age_category</th>\n",
       "      <th>income_category</th>\n",
       "    </tr>\n",
       "  </thead>\n",
       "  <tbody>\n",
       "    <tr>\n",
       "      <td>0</td>\n",
       "      <td>42</td>\n",
       "      <td>0</td>\n",
       "      <td>0</td>\n",
       "      <td>F</td>\n",
       "      <td>сотрудник</td>\n",
       "      <td>0</td>\n",
       "      <td>253875</td>\n",
       "      <td>недвижимость</td>\n",
       "      <td>обычное число детей</td>\n",
       "      <td>(33, 42]</td>\n",
       "      <td>(202417, 2265604]</td>\n",
       "    </tr>\n",
       "    <tr>\n",
       "      <td>1</td>\n",
       "      <td>36</td>\n",
       "      <td>1</td>\n",
       "      <td>0</td>\n",
       "      <td>F</td>\n",
       "      <td>сотрудник</td>\n",
       "      <td>0</td>\n",
       "      <td>112080</td>\n",
       "      <td>автомобиль</td>\n",
       "      <td>обычное число детей</td>\n",
       "      <td>(33, 42]</td>\n",
       "      <td>(107620, 151876]</td>\n",
       "    </tr>\n",
       "    <tr>\n",
       "      <td>2</td>\n",
       "      <td>33</td>\n",
       "      <td>1</td>\n",
       "      <td>0</td>\n",
       "      <td>M</td>\n",
       "      <td>сотрудник</td>\n",
       "      <td>0</td>\n",
       "      <td>145885</td>\n",
       "      <td>недвижимость</td>\n",
       "      <td>бездетные</td>\n",
       "      <td>(18, 33]</td>\n",
       "      <td>(107620, 151876]</td>\n",
       "    </tr>\n",
       "    <tr>\n",
       "      <td>3</td>\n",
       "      <td>32</td>\n",
       "      <td>1</td>\n",
       "      <td>0</td>\n",
       "      <td>M</td>\n",
       "      <td>сотрудник</td>\n",
       "      <td>0</td>\n",
       "      <td>267628</td>\n",
       "      <td>образование</td>\n",
       "      <td>многодетные</td>\n",
       "      <td>(18, 33]</td>\n",
       "      <td>(202417, 2265604]</td>\n",
       "    </tr>\n",
       "    <tr>\n",
       "      <td>4</td>\n",
       "      <td>53</td>\n",
       "      <td>1</td>\n",
       "      <td>1</td>\n",
       "      <td>F</td>\n",
       "      <td>пенсионер</td>\n",
       "      <td>0</td>\n",
       "      <td>158616</td>\n",
       "      <td>свадба</td>\n",
       "      <td>бездетные</td>\n",
       "      <td>(42, 53]</td>\n",
       "      <td>(151876, 202417]</td>\n",
       "    </tr>\n",
       "    <tr>\n",
       "      <td>...</td>\n",
       "      <td>...</td>\n",
       "      <td>...</td>\n",
       "      <td>...</td>\n",
       "      <td>...</td>\n",
       "      <td>...</td>\n",
       "      <td>...</td>\n",
       "      <td>...</td>\n",
       "      <td>...</td>\n",
       "      <td>...</td>\n",
       "      <td>...</td>\n",
       "      <td>...</td>\n",
       "    </tr>\n",
       "    <tr>\n",
       "      <td>21448</td>\n",
       "      <td>43</td>\n",
       "      <td>1</td>\n",
       "      <td>1</td>\n",
       "      <td>F</td>\n",
       "      <td>компаньон</td>\n",
       "      <td>0</td>\n",
       "      <td>224791</td>\n",
       "      <td>недвижимость</td>\n",
       "      <td>обычное число детей</td>\n",
       "      <td>(42, 53]</td>\n",
       "      <td>(202417, 2265604]</td>\n",
       "    </tr>\n",
       "    <tr>\n",
       "      <td>21449</td>\n",
       "      <td>67</td>\n",
       "      <td>1</td>\n",
       "      <td>0</td>\n",
       "      <td>F</td>\n",
       "      <td>пенсионер</td>\n",
       "      <td>0</td>\n",
       "      <td>155999</td>\n",
       "      <td>автомобиль</td>\n",
       "      <td>бездетные</td>\n",
       "      <td>(53, 75]</td>\n",
       "      <td>(151876, 202417]</td>\n",
       "    </tr>\n",
       "    <tr>\n",
       "      <td>21450</td>\n",
       "      <td>38</td>\n",
       "      <td>1</td>\n",
       "      <td>1</td>\n",
       "      <td>M</td>\n",
       "      <td>сотрудник</td>\n",
       "      <td>1</td>\n",
       "      <td>89672</td>\n",
       "      <td>недвижимость</td>\n",
       "      <td>обычное число детей</td>\n",
       "      <td>(33, 42]</td>\n",
       "      <td>(20666, 107620]</td>\n",
       "    </tr>\n",
       "    <tr>\n",
       "      <td>21451</td>\n",
       "      <td>38</td>\n",
       "      <td>1</td>\n",
       "      <td>0</td>\n",
       "      <td>M</td>\n",
       "      <td>сотрудник</td>\n",
       "      <td>1</td>\n",
       "      <td>244093</td>\n",
       "      <td>автомобиль</td>\n",
       "      <td>многодетные</td>\n",
       "      <td>(33, 42]</td>\n",
       "      <td>(202417, 2265604]</td>\n",
       "    </tr>\n",
       "    <tr>\n",
       "      <td>21452</td>\n",
       "      <td>40</td>\n",
       "      <td>1</td>\n",
       "      <td>0</td>\n",
       "      <td>F</td>\n",
       "      <td>сотрудник</td>\n",
       "      <td>0</td>\n",
       "      <td>82047</td>\n",
       "      <td>автомобиль</td>\n",
       "      <td>обычное число детей</td>\n",
       "      <td>(33, 42]</td>\n",
       "      <td>(20666, 107620]</td>\n",
       "    </tr>\n",
       "  </tbody>\n",
       "</table>\n",
       "<p>21453 rows × 11 columns</p>\n",
       "</div>"
      ],
      "text/plain": [
       "       dob_years  education_id  family_status_id gender income_type  debt  \\\n",
       "0             42             0                 0      F   сотрудник     0   \n",
       "1             36             1                 0      F   сотрудник     0   \n",
       "2             33             1                 0      M   сотрудник     0   \n",
       "3             32             1                 0      M   сотрудник     0   \n",
       "4             53             1                 1      F   пенсионер     0   \n",
       "...          ...           ...               ...    ...         ...   ...   \n",
       "21448         43             1                 1      F   компаньон     0   \n",
       "21449         67             1                 0      F   пенсионер     0   \n",
       "21450         38             1                 1      M   сотрудник     1   \n",
       "21451         38             1                 0      M   сотрудник     1   \n",
       "21452         40             1                 0      F   сотрудник     0   \n",
       "\n",
       "       total_income purpose_category    children_category age_category  \\\n",
       "0            253875     недвижимость  обычное число детей     (33, 42]   \n",
       "1            112080       автомобиль  обычное число детей     (33, 42]   \n",
       "2            145885     недвижимость            бездетные     (18, 33]   \n",
       "3            267628      образование          многодетные     (18, 33]   \n",
       "4            158616           свадба            бездетные     (42, 53]   \n",
       "...             ...              ...                  ...          ...   \n",
       "21448        224791     недвижимость  обычное число детей     (42, 53]   \n",
       "21449        155999       автомобиль            бездетные     (53, 75]   \n",
       "21450         89672     недвижимость  обычное число детей     (33, 42]   \n",
       "21451        244093       автомобиль          многодетные     (33, 42]   \n",
       "21452         82047       автомобиль  обычное число детей     (33, 42]   \n",
       "\n",
       "         income_category  \n",
       "0      (202417, 2265604]  \n",
       "1       (107620, 151876]  \n",
       "2       (107620, 151876]  \n",
       "3      (202417, 2265604]  \n",
       "4       (151876, 202417]  \n",
       "...                  ...  \n",
       "21448  (202417, 2265604]  \n",
       "21449   (151876, 202417]  \n",
       "21450    (20666, 107620]  \n",
       "21451  (202417, 2265604]  \n",
       "21452    (20666, 107620]  \n",
       "\n",
       "[21453 rows x 11 columns]"
      ]
     },
     "metadata": {},
     "output_type": "display_data"
    }
   ],
   "source": [
    "# распечатаем финальный вид данных для анализа в следующих пунктах:\n",
    "display(data)"
   ]
  },
  {
   "cell_type": "markdown",
   "metadata": {},
   "source": [
    "## Шаг 3. Ответьте на вопросы"
   ]
  },
  {
   "cell_type": "markdown",
   "metadata": {},
   "source": [
    "- Есть ли зависимость между наличием детей и возвратом кредита в срок?"
   ]
  },
  {
   "cell_type": "code",
   "execution_count": 61,
   "metadata": {},
   "outputs": [
    {
     "data": {
      "text/plain": [
       "children_category\n",
       "бездетные              7.544358\n",
       "многодетные            8.157895\n",
       "обычное число детей    9.265359\n",
       "Name: debt, dtype: float64"
      ]
     },
     "metadata": {},
     "output_type": "display_data"
    }
   ],
   "source": [
    "display(data.groupby('children_category')['debt'].mean()*100)"
   ]
  },
  {
   "cell_type": "markdown",
   "metadata": {},
   "source": [
    "**Вывод** : если наличие задолженности по кредиту - это единица в соответствующем столбце **debt**, то получается чем меньше процент в данной таблице, тем меньше шансов её встретить у соответствующего клиента задолженность. Получается - самая маленькая задолженность у клиентов без детей (около 7.5 %) , самая большая у семей с обчным числом детей в 1-2 ребёнка (больше 9 %) - и средний показатель между ними это многодетные семьи с более чем 2 детьми (3-5 детей в данном датафрейме)"
   ]
  },
  {
   "cell_type": "markdown",
   "metadata": {},
   "source": [
    "- Есть ли зависимость между семейным положением и возвратом кредита в срок?"
   ]
  },
  {
   "cell_type": "code",
   "execution_count": 62,
   "metadata": {},
   "outputs": [
    {
     "data": {
      "text/plain": [
       "family_status_id\n",
       "0    7.545182\n",
       "1    9.349398\n",
       "2    6.569343\n",
       "3    7.112971\n",
       "4    9.750890\n",
       "Name: debt, dtype: float64"
      ]
     },
     "metadata": {},
     "output_type": "display_data"
    }
   ],
   "source": [
    "display(data.groupby('family_status_id')['debt'].mean()*100)"
   ]
  },
  {
   "cell_type": "code",
   "execution_count": 63,
   "metadata": {},
   "outputs": [
    {
     "data": {
      "text/plain": [
       "{0: ['женат / замужем'],\n",
       " 1: ['гражданский брак'],\n",
       " 2: ['вдовец / вдова'],\n",
       " 3: ['в разводе'],\n",
       " 4: ['Не женат / не замужем']}"
      ]
     },
     "execution_count": 63,
     "metadata": {},
     "output_type": "execute_result"
    }
   ],
   "source": [
    "family_id_dict"
   ]
  },
  {
   "cell_type": "markdown",
   "metadata": {},
   "source": [
    "**Вывод** : меньше всего шанс встретить задолженность у вдов/вдовцов - 6.5 % , большие показатели у женатых/замужних или наоборот разведенных клиентов - чуть больше 7%. Самый большой процент закрытия долга не в назначенный срок у клиентов в гражданском браке и еще не вступивших в брак - больше 9%."
   ]
  },
  {
   "cell_type": "markdown",
   "metadata": {},
   "source": [
    "- Есть ли зависимость между уровнем дохода и возвратом кредита в срок?"
   ]
  },
  {
   "cell_type": "code",
   "execution_count": 64,
   "metadata": {},
   "outputs": [
    {
     "data": {
      "text/plain": [
       "income_category\n",
       "(20666, 107620]      7.960477\n",
       "(107620, 151876]     8.856983\n",
       "(151876, 202417]     8.490890\n",
       "(202417, 2265604]    7.029340\n",
       "Name: debt, dtype: float64"
      ]
     },
     "metadata": {},
     "output_type": "display_data"
    }
   ],
   "source": [
    "display(data.groupby('income_category')['debt'].mean()*100)"
   ]
  },
  {
   "cell_type": "markdown",
   "metadata": {},
   "source": [
    "**Вывод**: зависимось примерно параболическая, если говорить о вероятности закрытия в срок кредита в зависимости от дохода. У клиентов, доход которых был при разбиении в группе с самым низким доходом (20 000 - 107 000) и наоборот самым высоким (202 000 - 2 265 000) - вероятность просрочки около 7 - 8 процентов. Клиенты же со средним доходом - от 107 000 до 202 000 имели уже шансы невыплаты побольше - 8 - 9 %"
   ]
  },
  {
   "cell_type": "markdown",
   "metadata": {},
   "source": [
    "- Как разные цели кредита влияют на его возврат в срок?"
   ]
  },
  {
   "cell_type": "code",
   "execution_count": 65,
   "metadata": {},
   "outputs": [
    {
     "data": {
      "text/plain": [
       "purpose_category\n",
       "автомобиль      9.359034\n",
       "недвижимость    7.234043\n",
       "образование     9.220035\n",
       "свадба          8.003442\n",
       "Name: debt, dtype: float64"
      ]
     },
     "metadata": {},
     "output_type": "display_data"
    }
   ],
   "source": [
    "display(data.groupby('purpose_category')['debt'].mean()*100)"
   ]
  },
  {
   "cell_type": "markdown",
   "metadata": {},
   "source": [
    "**Вывод** выплата кредита в зависимости от цели трат средств с него показала - вероятнее всего кредит отдадут вовремя, если брали его на покупку недвижимости (невыплаты в срок всего 7.23 %) , и вероятнее всего получить просрочку по выплате, если будет идти речь о покупке машины (шанс невыплаты 9.35 %)"
   ]
  },
  {
   "cell_type": "code",
   "execution_count": 66,
   "metadata": {},
   "outputs": [
    {
     "data": {
      "text/plain": [
       "education_id\n",
       "0     5.295238\n",
       "1     8.990245\n",
       "2     9.152086\n",
       "3    10.992908\n",
       "4     0.000000\n",
       "Name: debt, dtype: float64"
      ]
     },
     "metadata": {},
     "output_type": "display_data"
    }
   ],
   "source": [
    "display(data.groupby('education_id')['debt'].mean()*100)"
   ]
  },
  {
   "cell_type": "code",
   "execution_count": 67,
   "metadata": {},
   "outputs": [
    {
     "data": {
      "text/plain": [
       "{0: ['высшее'],\n",
       " 1: ['среднее'],\n",
       " 2: ['неоконченное высшее'],\n",
       " 3: ['начальное'],\n",
       " 4: ['ученая степень']}"
      ]
     },
     "execution_count": 67,
     "metadata": {},
     "output_type": "execute_result"
    }
   ],
   "source": [
    "education_dict"
   ]
  },
  {
   "cell_type": "markdown",
   "metadata": {},
   "source": [
    "Поскольку ранее разбивались на категории так же степени образования - по ним так же можно сделать анализ. Тут уже есть более резонансные выводы - клиенты с учёной степенью закрывали долг вообще всегда в назначенный срок, а вот у клиентов с начальным образованием/средним/неоконченным высшим - такой шанс незакрытия в сроки уже 9-10 %. Средний показатель в 5 % занимают клиенты с высшим образованием"
   ]
  },
  {
   "cell_type": "markdown",
   "metadata": {},
   "source": [
    "Чтобы не пропадали зря оставшиеся без внимания столбцы, а так же проявил себя pivot_table, можем посмотреть с какой вероятностью погасят в срок кредит мужчины и женщины в зависимости от их возраста:"
   ]
  },
  {
   "cell_type": "code",
   "execution_count": 68,
   "metadata": {
    "scrolled": true
   },
   "outputs": [
    {
     "data": {
      "text/html": [
       "<div>\n",
       "<style scoped>\n",
       "    .dataframe tbody tr th:only-of-type {\n",
       "        vertical-align: middle;\n",
       "    }\n",
       "\n",
       "    .dataframe tbody tr th {\n",
       "        vertical-align: top;\n",
       "    }\n",
       "\n",
       "    .dataframe thead th {\n",
       "        text-align: right;\n",
       "    }\n",
       "</style>\n",
       "<table border=\"1\" class=\"dataframe\">\n",
       "  <thead>\n",
       "    <tr style=\"text-align: right;\">\n",
       "      <th>age_category</th>\n",
       "      <th>(18, 33]</th>\n",
       "      <th>(33, 42]</th>\n",
       "      <th>(42, 53]</th>\n",
       "      <th>(53, 75]</th>\n",
       "    </tr>\n",
       "    <tr>\n",
       "      <th>gender</th>\n",
       "      <th></th>\n",
       "      <th></th>\n",
       "      <th></th>\n",
       "      <th></th>\n",
       "    </tr>\n",
       "  </thead>\n",
       "  <tbody>\n",
       "    <tr>\n",
       "      <td>F</td>\n",
       "      <td>0.101884</td>\n",
       "      <td>0.078227</td>\n",
       "      <td>0.061147</td>\n",
       "      <td>0.046675</td>\n",
       "    </tr>\n",
       "    <tr>\n",
       "      <td>M</td>\n",
       "      <td>0.119964</td>\n",
       "      <td>0.098352</td>\n",
       "      <td>0.098744</td>\n",
       "      <td>0.084496</td>\n",
       "    </tr>\n",
       "  </tbody>\n",
       "</table>\n",
       "</div>"
      ],
      "text/plain": [
       "age_category  (18, 33]  (33, 42]  (42, 53]  (53, 75]\n",
       "gender                                              \n",
       "F             0.101884  0.078227  0.061147  0.046675\n",
       "M             0.119964  0.098352  0.098744  0.084496"
      ]
     },
     "metadata": {},
     "output_type": "display_data"
    }
   ],
   "source": [
    "data_pivot = data.pivot_table(index=['gender'], columns='age_category', values = 'debt')\n",
    "display(data_pivot)"
   ]
  },
  {
   "cell_type": "markdown",
   "metadata": {},
   "source": [
    "по данной таблице можем сказать, что вероятнее всего задолженность по кредиту получит молодой мужчина в из возрастной группы 18-33 года (12%), и менее вероятно задолженность будет у пожилой женщины с возрастом 53-75 лет (около 4.5%)"
   ]
  },
  {
   "cell_type": "markdown",
   "metadata": {},
   "source": [
    "## Шаг 4. Общий вывод"
   ]
  },
  {
   "cell_type": "markdown",
   "metadata": {},
   "source": [
    "Желательно чтобы потенциальный заёмщик был бездетным, так же был вдовцом/вдовой, имел высокий заработок, высшее образование или даже учёную степень, а так же чтобы его целью займа была покупка недвижимости. Так же желательно, чтобы это была женщина, так как из общей статистики для всех возрастных групп именно у мужчин чаще наблюдается задолженность.\n",
    "Хуже всего давать займ семьям с 1-2 детьми, раведенным или состоящим в гражданском браке, с средним уровнем дохода и рассматривающим трату средств на автомобиль или образование"
   ]
  }
 ],
 "metadata": {
  "ExecuteTimeLog": [
   {
    "duration": 886,
    "start_time": "2021-12-08T10:48:01.200Z"
   },
   {
    "duration": 17,
    "start_time": "2021-12-08T11:05:29.704Z"
   },
   {
    "duration": 20,
    "start_time": "2021-12-08T11:09:44.516Z"
   },
   {
    "duration": 38,
    "start_time": "2021-12-08T11:09:55.124Z"
   },
   {
    "duration": 37,
    "start_time": "2021-12-08T11:10:15.923Z"
   },
   {
    "duration": 992,
    "start_time": "2021-12-08T11:15:18.884Z"
   },
   {
    "duration": 1161,
    "start_time": "2021-12-08T11:15:26.829Z"
   },
   {
    "duration": 15,
    "start_time": "2021-12-08T11:15:27.993Z"
   },
   {
    "duration": 8874,
    "start_time": "2021-12-08T11:15:28.011Z"
   },
   {
    "duration": 888,
    "start_time": "2021-12-08T11:16:00.887Z"
   },
   {
    "duration": 15,
    "start_time": "2021-12-08T11:16:01.778Z"
   },
   {
    "duration": 74,
    "start_time": "2021-12-08T11:16:01.796Z"
   },
   {
    "duration": 528,
    "start_time": "2021-12-08T11:51:57.771Z"
   },
   {
    "duration": 46,
    "start_time": "2021-12-08T11:53:13.317Z"
   },
   {
    "duration": 541,
    "start_time": "2021-12-08T12:00:46.722Z"
   },
   {
    "duration": 903,
    "start_time": "2021-12-08T12:02:27.225Z"
   },
   {
    "duration": 15,
    "start_time": "2021-12-08T12:02:28.131Z"
   },
   {
    "duration": 57,
    "start_time": "2021-12-08T12:02:28.149Z"
   },
   {
    "duration": 36,
    "start_time": "2021-12-08T12:02:28.209Z"
   },
   {
    "duration": 38,
    "start_time": "2021-12-08T12:04:24.364Z"
   },
   {
    "duration": 36,
    "start_time": "2021-12-08T12:07:16.957Z"
   },
   {
    "duration": 37,
    "start_time": "2021-12-08T12:07:32.514Z"
   },
   {
    "duration": 36,
    "start_time": "2021-12-08T12:09:24.102Z"
   },
   {
    "duration": 7,
    "start_time": "2021-12-08T12:15:52.041Z"
   },
   {
    "duration": 6,
    "start_time": "2021-12-08T12:16:12.455Z"
   },
   {
    "duration": 488,
    "start_time": "2021-12-08T14:03:00.996Z"
   },
   {
    "duration": 511,
    "start_time": "2021-12-08T14:03:08.270Z"
   },
   {
    "duration": 6,
    "start_time": "2021-12-08T14:03:25.093Z"
   },
   {
    "duration": 7,
    "start_time": "2021-12-08T14:03:59.745Z"
   },
   {
    "duration": 106,
    "start_time": "2021-12-08T14:04:42.849Z"
   },
   {
    "duration": 7,
    "start_time": "2021-12-08T14:10:41.438Z"
   },
   {
    "duration": 6,
    "start_time": "2021-12-08T14:11:02.787Z"
   },
   {
    "duration": 8520,
    "start_time": "2021-12-08T14:20:46.490Z"
   },
   {
    "duration": 7,
    "start_time": "2021-12-08T14:20:59.510Z"
   },
   {
    "duration": 7,
    "start_time": "2021-12-08T14:21:19.830Z"
   },
   {
    "duration": 7,
    "start_time": "2021-12-08T14:30:09.805Z"
   },
   {
    "duration": 7,
    "start_time": "2021-12-08T14:30:13.845Z"
   },
   {
    "duration": 9,
    "start_time": "2021-12-08T14:31:30.468Z"
   },
   {
    "duration": 7,
    "start_time": "2021-12-08T14:31:33.273Z"
   },
   {
    "duration": 6,
    "start_time": "2021-12-08T14:32:25.153Z"
   },
   {
    "duration": 6,
    "start_time": "2021-12-08T14:33:15.058Z"
   },
   {
    "duration": 9,
    "start_time": "2021-12-08T14:34:06.371Z"
   },
   {
    "duration": 37,
    "start_time": "2021-12-08T14:35:01.578Z"
   },
   {
    "duration": 8,
    "start_time": "2021-12-08T14:38:34.358Z"
   },
   {
    "duration": 8,
    "start_time": "2021-12-08T14:39:25.285Z"
   },
   {
    "duration": 12,
    "start_time": "2021-12-08T14:42:03.271Z"
   },
   {
    "duration": 1861,
    "start_time": "2021-12-08T14:43:14.791Z"
   },
   {
    "duration": 29,
    "start_time": "2021-12-08T14:43:16.655Z"
   },
   {
    "duration": 15,
    "start_time": "2021-12-08T14:43:16.688Z"
   },
   {
    "duration": 69,
    "start_time": "2021-12-08T14:43:16.706Z"
   },
   {
    "duration": 48,
    "start_time": "2021-12-08T14:43:16.778Z"
   },
   {
    "duration": 7,
    "start_time": "2021-12-08T14:43:16.829Z"
   },
   {
    "duration": 10,
    "start_time": "2021-12-08T14:43:16.867Z"
   },
   {
    "duration": 35,
    "start_time": "2021-12-08T14:43:16.881Z"
   },
   {
    "duration": 13,
    "start_time": "2021-12-08T14:43:16.920Z"
   },
   {
    "duration": 22,
    "start_time": "2021-12-08T14:43:16.935Z"
   },
   {
    "duration": 35,
    "start_time": "2021-12-08T14:43:16.960Z"
   },
   {
    "duration": 23,
    "start_time": "2021-12-08T14:43:16.997Z"
   },
   {
    "duration": 10,
    "start_time": "2021-12-08T14:43:17.023Z"
   },
   {
    "duration": 36,
    "start_time": "2021-12-08T14:43:17.036Z"
   },
   {
    "duration": 32,
    "start_time": "2021-12-08T14:43:17.076Z"
   },
   {
    "duration": 14,
    "start_time": "2021-12-08T14:43:17.111Z"
   },
   {
    "duration": 20,
    "start_time": "2021-12-08T14:43:17.128Z"
   },
   {
    "duration": 25,
    "start_time": "2021-12-08T14:43:17.151Z"
   },
   {
    "duration": 31,
    "start_time": "2021-12-08T14:43:17.179Z"
   },
   {
    "duration": 21,
    "start_time": "2021-12-08T14:43:17.212Z"
   },
   {
    "duration": 61,
    "start_time": "2021-12-08T14:43:17.235Z"
   },
   {
    "duration": 6,
    "start_time": "2021-12-08T14:43:17.298Z"
   },
   {
    "duration": 28,
    "start_time": "2021-12-08T14:43:17.308Z"
   },
   {
    "duration": 13,
    "start_time": "2021-12-08T14:44:30.789Z"
   },
   {
    "duration": 14,
    "start_time": "2021-12-08T14:46:04.789Z"
   },
   {
    "duration": 882,
    "start_time": "2021-12-08T14:46:16.173Z"
   },
   {
    "duration": 30,
    "start_time": "2021-12-08T14:46:17.058Z"
   },
   {
    "duration": 13,
    "start_time": "2021-12-08T14:46:17.092Z"
   },
   {
    "duration": 62,
    "start_time": "2021-12-08T14:46:17.108Z"
   },
   {
    "duration": 42,
    "start_time": "2021-12-08T14:46:17.173Z"
   },
   {
    "duration": 7,
    "start_time": "2021-12-08T14:46:17.217Z"
   },
   {
    "duration": 43,
    "start_time": "2021-12-08T14:46:17.226Z"
   },
   {
    "duration": 7,
    "start_time": "2021-12-08T14:46:17.273Z"
   },
   {
    "duration": 9,
    "start_time": "2021-12-08T14:46:17.283Z"
   },
   {
    "duration": 7,
    "start_time": "2021-12-08T14:46:17.294Z"
   },
   {
    "duration": 8,
    "start_time": "2021-12-08T14:46:17.304Z"
   },
   {
    "duration": 54,
    "start_time": "2021-12-08T14:46:17.315Z"
   },
   {
    "duration": 38,
    "start_time": "2021-12-08T14:46:17.373Z"
   },
   {
    "duration": 44,
    "start_time": "2021-12-08T14:46:17.413Z"
   },
   {
    "duration": 45,
    "start_time": "2021-12-08T14:46:17.459Z"
   },
   {
    "duration": 41,
    "start_time": "2021-12-08T14:46:17.507Z"
   },
   {
    "duration": 26,
    "start_time": "2021-12-08T14:46:17.550Z"
   },
   {
    "duration": 28,
    "start_time": "2021-12-08T14:46:17.579Z"
   },
   {
    "duration": 24,
    "start_time": "2021-12-08T14:46:17.609Z"
   },
   {
    "duration": 35,
    "start_time": "2021-12-08T14:46:17.636Z"
   },
   {
    "duration": 76,
    "start_time": "2021-12-08T14:46:17.674Z"
   },
   {
    "duration": 6,
    "start_time": "2021-12-08T14:46:17.752Z"
   },
   {
    "duration": 30,
    "start_time": "2021-12-08T14:46:17.762Z"
   },
   {
    "duration": 923,
    "start_time": "2021-12-08T14:50:25.628Z"
   },
   {
    "duration": 15,
    "start_time": "2021-12-08T14:50:26.553Z"
   },
   {
    "duration": 31,
    "start_time": "2021-12-08T14:50:26.571Z"
   },
   {
    "duration": 59,
    "start_time": "2021-12-08T14:50:26.604Z"
   },
   {
    "duration": 42,
    "start_time": "2021-12-08T14:50:26.666Z"
   },
   {
    "duration": 12,
    "start_time": "2021-12-08T14:50:26.711Z"
   },
   {
    "duration": 24,
    "start_time": "2021-12-08T14:50:26.725Z"
   },
   {
    "duration": 19,
    "start_time": "2021-12-08T14:50:26.752Z"
   },
   {
    "duration": 35,
    "start_time": "2021-12-08T14:50:26.774Z"
   },
   {
    "duration": 26,
    "start_time": "2021-12-08T14:50:26.811Z"
   },
   {
    "duration": 22,
    "start_time": "2021-12-08T14:50:26.840Z"
   },
   {
    "duration": 29,
    "start_time": "2021-12-08T14:50:26.864Z"
   },
   {
    "duration": 16,
    "start_time": "2021-12-08T14:50:26.895Z"
   },
   {
    "duration": 24,
    "start_time": "2021-12-08T14:50:26.913Z"
   },
   {
    "duration": 50,
    "start_time": "2021-12-08T14:50:26.940Z"
   },
   {
    "duration": 7,
    "start_time": "2021-12-08T14:50:26.993Z"
   },
   {
    "duration": 870,
    "start_time": "2021-12-08T14:53:38.690Z"
   },
   {
    "duration": 21,
    "start_time": "2021-12-08T14:53:39.563Z"
   },
   {
    "duration": 14,
    "start_time": "2021-12-08T14:53:39.588Z"
   },
   {
    "duration": 64,
    "start_time": "2021-12-08T14:53:39.605Z"
   },
   {
    "duration": 131,
    "start_time": "2021-12-08T14:53:39.672Z"
   },
   {
    "duration": -16,
    "start_time": "2021-12-08T14:53:39.822Z"
   },
   {
    "duration": -19,
    "start_time": "2021-12-08T14:53:39.826Z"
   },
   {
    "duration": -22,
    "start_time": "2021-12-08T14:53:39.830Z"
   },
   {
    "duration": -25,
    "start_time": "2021-12-08T14:53:39.835Z"
   },
   {
    "duration": -27,
    "start_time": "2021-12-08T14:53:39.838Z"
   },
   {
    "duration": -28,
    "start_time": "2021-12-08T14:53:39.841Z"
   },
   {
    "duration": -30,
    "start_time": "2021-12-08T14:53:39.844Z"
   },
   {
    "duration": -34,
    "start_time": "2021-12-08T14:53:39.849Z"
   },
   {
    "duration": -36,
    "start_time": "2021-12-08T14:53:39.853Z"
   },
   {
    "duration": -38,
    "start_time": "2021-12-08T14:53:39.856Z"
   },
   {
    "duration": -40,
    "start_time": "2021-12-08T14:53:39.859Z"
   },
   {
    "duration": 983,
    "start_time": "2021-12-08T14:55:20.428Z"
   },
   {
    "duration": 15,
    "start_time": "2021-12-08T14:55:21.413Z"
   },
   {
    "duration": 15,
    "start_time": "2021-12-08T14:55:21.432Z"
   },
   {
    "duration": 57,
    "start_time": "2021-12-08T14:55:21.468Z"
   },
   {
    "duration": 60,
    "start_time": "2021-12-08T14:55:21.528Z"
   },
   {
    "duration": 17,
    "start_time": "2021-12-08T14:55:21.591Z"
   },
   {
    "duration": 8,
    "start_time": "2021-12-08T14:55:21.612Z"
   },
   {
    "duration": 44,
    "start_time": "2021-12-08T14:55:21.624Z"
   },
   {
    "duration": 7,
    "start_time": "2021-12-08T14:55:21.673Z"
   },
   {
    "duration": 6,
    "start_time": "2021-12-08T14:55:21.682Z"
   },
   {
    "duration": 9,
    "start_time": "2021-12-08T14:55:21.690Z"
   },
   {
    "duration": 6,
    "start_time": "2021-12-08T14:55:21.701Z"
   },
   {
    "duration": 59,
    "start_time": "2021-12-08T14:55:21.710Z"
   },
   {
    "duration": 13,
    "start_time": "2021-12-08T14:55:21.771Z"
   },
   {
    "duration": 39,
    "start_time": "2021-12-08T14:55:21.787Z"
   },
   {
    "duration": 7,
    "start_time": "2021-12-08T14:55:21.829Z"
   },
   {
    "duration": 881,
    "start_time": "2021-12-08T14:57:46.317Z"
   },
   {
    "duration": 18,
    "start_time": "2021-12-08T14:57:47.201Z"
   },
   {
    "duration": 528,
    "start_time": "2021-12-08T14:57:47.222Z"
   },
   {
    "duration": -31,
    "start_time": "2021-12-08T14:57:47.785Z"
   },
   {
    "duration": -36,
    "start_time": "2021-12-08T14:57:47.792Z"
   },
   {
    "duration": -37,
    "start_time": "2021-12-08T14:57:47.795Z"
   },
   {
    "duration": -43,
    "start_time": "2021-12-08T14:57:47.803Z"
   },
   {
    "duration": -49,
    "start_time": "2021-12-08T14:57:47.810Z"
   },
   {
    "duration": -49,
    "start_time": "2021-12-08T14:57:47.812Z"
   },
   {
    "duration": -50,
    "start_time": "2021-12-08T14:57:47.815Z"
   },
   {
    "duration": -51,
    "start_time": "2021-12-08T14:57:47.818Z"
   },
   {
    "duration": -52,
    "start_time": "2021-12-08T14:57:47.821Z"
   },
   {
    "duration": -53,
    "start_time": "2021-12-08T14:57:47.824Z"
   },
   {
    "duration": -56,
    "start_time": "2021-12-08T14:57:47.828Z"
   },
   {
    "duration": -57,
    "start_time": "2021-12-08T14:57:47.831Z"
   },
   {
    "duration": -58,
    "start_time": "2021-12-08T14:57:47.834Z"
   },
   {
    "duration": -61,
    "start_time": "2021-12-08T14:57:47.838Z"
   },
   {
    "duration": -61,
    "start_time": "2021-12-08T14:57:47.840Z"
   },
   {
    "duration": 938,
    "start_time": "2021-12-08T15:04:57.555Z"
   },
   {
    "duration": 16,
    "start_time": "2021-12-08T15:04:58.496Z"
   },
   {
    "duration": 13,
    "start_time": "2021-12-08T15:04:58.515Z"
   },
   {
    "duration": 80,
    "start_time": "2021-12-08T15:04:58.530Z"
   },
   {
    "duration": 39,
    "start_time": "2021-12-08T15:04:58.612Z"
   },
   {
    "duration": 24,
    "start_time": "2021-12-08T15:04:58.653Z"
   },
   {
    "duration": 14,
    "start_time": "2021-12-08T15:04:58.680Z"
   },
   {
    "duration": 34,
    "start_time": "2021-12-08T15:04:58.698Z"
   },
   {
    "duration": 38,
    "start_time": "2021-12-08T15:04:58.735Z"
   },
   {
    "duration": 10,
    "start_time": "2021-12-08T15:04:58.776Z"
   },
   {
    "duration": 6,
    "start_time": "2021-12-08T15:04:58.789Z"
   },
   {
    "duration": 7,
    "start_time": "2021-12-08T15:04:58.798Z"
   },
   {
    "duration": 11,
    "start_time": "2021-12-08T15:04:58.807Z"
   },
   {
    "duration": 7,
    "start_time": "2021-12-08T15:04:58.869Z"
   },
   {
    "duration": 10,
    "start_time": "2021-12-08T15:04:58.880Z"
   },
   {
    "duration": 11,
    "start_time": "2021-12-08T15:04:58.892Z"
   },
   {
    "duration": 72,
    "start_time": "2021-12-08T15:04:58.905Z"
   },
   {
    "duration": 11,
    "start_time": "2021-12-08T15:04:58.980Z"
   },
   {
    "duration": 817,
    "start_time": "2021-12-08T15:08:37.311Z"
   },
   {
    "duration": 16,
    "start_time": "2021-12-08T15:08:38.131Z"
   },
   {
    "duration": 22,
    "start_time": "2021-12-08T15:08:38.150Z"
   },
   {
    "duration": 44,
    "start_time": "2021-12-08T15:08:38.175Z"
   },
   {
    "duration": 67,
    "start_time": "2021-12-08T15:08:38.222Z"
   },
   {
    "duration": 11,
    "start_time": "2021-12-08T15:08:38.292Z"
   },
   {
    "duration": 14,
    "start_time": "2021-12-08T15:08:38.308Z"
   },
   {
    "duration": 43,
    "start_time": "2021-12-08T15:08:38.325Z"
   },
   {
    "duration": 6,
    "start_time": "2021-12-08T15:08:38.371Z"
   },
   {
    "duration": 11,
    "start_time": "2021-12-08T15:08:38.379Z"
   },
   {
    "duration": 6,
    "start_time": "2021-12-08T15:08:38.392Z"
   },
   {
    "duration": 8,
    "start_time": "2021-12-08T15:08:38.401Z"
   },
   {
    "duration": 6,
    "start_time": "2021-12-08T15:08:38.411Z"
   },
   {
    "duration": 49,
    "start_time": "2021-12-08T15:08:38.419Z"
   },
   {
    "duration": 9,
    "start_time": "2021-12-08T15:08:38.471Z"
   },
   {
    "duration": 38,
    "start_time": "2021-12-08T15:08:38.483Z"
   },
   {
    "duration": 45,
    "start_time": "2021-12-08T15:08:38.524Z"
   },
   {
    "duration": 845,
    "start_time": "2021-12-08T15:11:25.410Z"
   },
   {
    "duration": 18,
    "start_time": "2021-12-08T15:11:26.258Z"
   },
   {
    "duration": 16,
    "start_time": "2021-12-08T15:11:26.279Z"
   },
   {
    "duration": 69,
    "start_time": "2021-12-08T15:11:26.298Z"
   },
   {
    "duration": 37,
    "start_time": "2021-12-08T15:11:26.370Z"
   },
   {
    "duration": 12,
    "start_time": "2021-12-08T15:11:26.409Z"
   },
   {
    "duration": 46,
    "start_time": "2021-12-08T15:11:26.423Z"
   },
   {
    "duration": 6,
    "start_time": "2021-12-08T15:11:26.472Z"
   },
   {
    "duration": 14,
    "start_time": "2021-12-08T15:11:26.480Z"
   },
   {
    "duration": 11,
    "start_time": "2021-12-08T15:11:26.496Z"
   },
   {
    "duration": 6,
    "start_time": "2021-12-08T15:11:26.509Z"
   },
   {
    "duration": 9,
    "start_time": "2021-12-08T15:11:26.517Z"
   },
   {
    "duration": 41,
    "start_time": "2021-12-08T15:11:26.529Z"
   },
   {
    "duration": 6,
    "start_time": "2021-12-08T15:11:26.573Z"
   },
   {
    "duration": 15,
    "start_time": "2021-12-08T15:11:26.581Z"
   },
   {
    "duration": 70,
    "start_time": "2021-12-08T15:11:26.599Z"
   },
   {
    "duration": 7,
    "start_time": "2021-12-08T15:11:26.672Z"
   },
   {
    "duration": 856,
    "start_time": "2021-12-08T15:12:34.906Z"
   },
   {
    "duration": 17,
    "start_time": "2021-12-08T15:12:35.764Z"
   },
   {
    "duration": 20,
    "start_time": "2021-12-08T15:12:35.784Z"
   },
   {
    "duration": 47,
    "start_time": "2021-12-08T15:12:35.807Z"
   },
   {
    "duration": 440,
    "start_time": "2021-12-08T15:12:35.867Z"
   },
   {
    "duration": -25,
    "start_time": "2021-12-08T15:12:36.335Z"
   },
   {
    "duration": -27,
    "start_time": "2021-12-08T15:12:36.339Z"
   },
   {
    "duration": -29,
    "start_time": "2021-12-08T15:12:36.342Z"
   },
   {
    "duration": -31,
    "start_time": "2021-12-08T15:12:36.346Z"
   },
   {
    "duration": -34,
    "start_time": "2021-12-08T15:12:36.351Z"
   },
   {
    "duration": -35,
    "start_time": "2021-12-08T15:12:36.353Z"
   },
   {
    "duration": -35,
    "start_time": "2021-12-08T15:12:36.355Z"
   },
   {
    "duration": -36,
    "start_time": "2021-12-08T15:12:36.357Z"
   },
   {
    "duration": -38,
    "start_time": "2021-12-08T15:12:36.360Z"
   },
   {
    "duration": -39,
    "start_time": "2021-12-08T15:12:36.363Z"
   },
   {
    "duration": -41,
    "start_time": "2021-12-08T15:12:36.366Z"
   },
   {
    "duration": -41,
    "start_time": "2021-12-08T15:12:36.368Z"
   },
   {
    "duration": 850,
    "start_time": "2021-12-08T15:14:36.387Z"
   },
   {
    "duration": 16,
    "start_time": "2021-12-08T15:14:37.240Z"
   },
   {
    "duration": 15,
    "start_time": "2021-12-08T15:14:37.269Z"
   },
   {
    "duration": 44,
    "start_time": "2021-12-08T15:14:37.287Z"
   },
   {
    "duration": 39,
    "start_time": "2021-12-08T15:14:37.366Z"
   },
   {
    "duration": 14,
    "start_time": "2021-12-08T15:14:37.408Z"
   },
   {
    "duration": 49,
    "start_time": "2021-12-08T15:14:37.427Z"
   },
   {
    "duration": 18,
    "start_time": "2021-12-08T15:14:37.479Z"
   },
   {
    "duration": 8,
    "start_time": "2021-12-08T15:14:37.500Z"
   },
   {
    "duration": 10,
    "start_time": "2021-12-08T15:14:37.511Z"
   },
   {
    "duration": 11,
    "start_time": "2021-12-08T15:14:37.524Z"
   },
   {
    "duration": 6,
    "start_time": "2021-12-08T15:14:37.567Z"
   },
   {
    "duration": 6,
    "start_time": "2021-12-08T15:14:37.576Z"
   },
   {
    "duration": 9,
    "start_time": "2021-12-08T15:14:37.584Z"
   },
   {
    "duration": 10,
    "start_time": "2021-12-08T15:14:37.595Z"
   },
   {
    "duration": 73,
    "start_time": "2021-12-08T15:14:37.607Z"
   },
   {
    "duration": 6,
    "start_time": "2021-12-08T15:14:37.683Z"
   },
   {
    "duration": 839,
    "start_time": "2021-12-08T15:22:41.220Z"
   },
   {
    "duration": 18,
    "start_time": "2021-12-08T15:22:42.061Z"
   },
   {
    "duration": 12,
    "start_time": "2021-12-08T15:22:42.083Z"
   },
   {
    "duration": 70,
    "start_time": "2021-12-08T15:22:42.098Z"
   },
   {
    "duration": 39,
    "start_time": "2021-12-08T15:22:42.171Z"
   },
   {
    "duration": 13,
    "start_time": "2021-12-08T15:22:42.212Z"
   },
   {
    "duration": 42,
    "start_time": "2021-12-08T15:22:42.228Z"
   },
   {
    "duration": 7,
    "start_time": "2021-12-08T15:22:42.273Z"
   },
   {
    "duration": 8,
    "start_time": "2021-12-08T15:22:42.282Z"
   },
   {
    "duration": 19,
    "start_time": "2021-12-08T15:22:42.292Z"
   },
   {
    "duration": 7,
    "start_time": "2021-12-08T15:22:42.313Z"
   },
   {
    "duration": 43,
    "start_time": "2021-12-08T15:22:42.323Z"
   },
   {
    "duration": 41,
    "start_time": "2021-12-08T15:22:42.369Z"
   },
   {
    "duration": 30,
    "start_time": "2021-12-08T15:22:42.412Z"
   },
   {
    "duration": 59,
    "start_time": "2021-12-08T15:22:42.445Z"
   },
   {
    "duration": 62,
    "start_time": "2021-12-08T15:22:42.506Z"
   },
   {
    "duration": 8,
    "start_time": "2021-12-08T15:22:42.571Z"
   },
   {
    "duration": 5,
    "start_time": "2021-12-08T15:25:28.351Z"
   },
   {
    "duration": 32,
    "start_time": "2021-12-08T15:29:00.977Z"
   },
   {
    "duration": 6,
    "start_time": "2021-12-08T15:29:40.509Z"
   },
   {
    "duration": 7,
    "start_time": "2021-12-08T15:32:07.892Z"
   },
   {
    "duration": 390,
    "start_time": "2021-12-08T15:48:18.553Z"
   },
   {
    "duration": 18,
    "start_time": "2021-12-08T15:48:26.539Z"
   },
   {
    "duration": 11,
    "start_time": "2021-12-08T15:55:31.915Z"
   },
   {
    "duration": 8,
    "start_time": "2021-12-08T15:56:04.359Z"
   },
   {
    "duration": 4,
    "start_time": "2021-12-08T16:04:13.986Z"
   },
   {
    "duration": 637,
    "start_time": "2021-12-08T16:04:36.045Z"
   },
   {
    "duration": 5,
    "start_time": "2021-12-08T16:04:59.845Z"
   },
   {
    "duration": 32,
    "start_time": "2021-12-08T16:06:05.705Z"
   },
   {
    "duration": 6,
    "start_time": "2021-12-08T16:07:17.206Z"
   },
   {
    "duration": 5,
    "start_time": "2021-12-08T16:07:23.295Z"
   },
   {
    "duration": 291,
    "start_time": "2021-12-08T16:08:00.498Z"
   },
   {
    "duration": 29,
    "start_time": "2021-12-08T16:08:24.512Z"
   },
   {
    "duration": 10,
    "start_time": "2021-12-08T16:12:00.088Z"
   },
   {
    "duration": 889,
    "start_time": "2021-12-08T16:14:22.570Z"
   },
   {
    "duration": 18,
    "start_time": "2021-12-08T16:14:23.462Z"
   },
   {
    "duration": 14,
    "start_time": "2021-12-08T16:14:23.483Z"
   },
   {
    "duration": 69,
    "start_time": "2021-12-08T16:14:23.501Z"
   },
   {
    "duration": 37,
    "start_time": "2021-12-08T16:14:23.573Z"
   },
   {
    "duration": 14,
    "start_time": "2021-12-08T16:14:23.612Z"
   },
   {
    "duration": 46,
    "start_time": "2021-12-08T16:14:23.629Z"
   },
   {
    "duration": 6,
    "start_time": "2021-12-08T16:14:23.679Z"
   },
   {
    "duration": 6,
    "start_time": "2021-12-08T16:14:23.689Z"
   },
   {
    "duration": 7,
    "start_time": "2021-12-08T16:14:23.697Z"
   },
   {
    "duration": 13,
    "start_time": "2021-12-08T16:14:23.706Z"
   },
   {
    "duration": 48,
    "start_time": "2021-12-08T16:14:23.721Z"
   },
   {
    "duration": 8,
    "start_time": "2021-12-08T16:14:23.772Z"
   },
   {
    "duration": 33,
    "start_time": "2021-12-08T16:14:23.783Z"
   },
   {
    "duration": 12,
    "start_time": "2021-12-08T16:14:23.819Z"
   },
   {
    "duration": 7,
    "start_time": "2021-12-08T16:14:23.867Z"
   },
   {
    "duration": 13,
    "start_time": "2021-12-08T16:14:23.876Z"
   },
   {
    "duration": 7,
    "start_time": "2021-12-08T16:14:23.892Z"
   },
   {
    "duration": 90,
    "start_time": "2021-12-08T16:14:23.902Z"
   },
   {
    "duration": -33,
    "start_time": "2021-12-08T16:14:24.028Z"
   },
   {
    "duration": -33,
    "start_time": "2021-12-08T16:14:24.030Z"
   },
   {
    "duration": -35,
    "start_time": "2021-12-08T16:14:24.033Z"
   },
   {
    "duration": -35,
    "start_time": "2021-12-08T16:14:24.035Z"
   },
   {
    "duration": -38,
    "start_time": "2021-12-08T16:14:24.039Z"
   },
   {
    "duration": -39,
    "start_time": "2021-12-08T16:14:24.042Z"
   },
   {
    "duration": -40,
    "start_time": "2021-12-08T16:14:24.044Z"
   },
   {
    "duration": -42,
    "start_time": "2021-12-08T16:14:24.048Z"
   },
   {
    "duration": -43,
    "start_time": "2021-12-08T16:14:24.050Z"
   },
   {
    "duration": -44,
    "start_time": "2021-12-08T16:14:24.053Z"
   },
   {
    "duration": -46,
    "start_time": "2021-12-08T16:14:24.056Z"
   },
   {
    "duration": -48,
    "start_time": "2021-12-08T16:14:24.059Z"
   },
   {
    "duration": -48,
    "start_time": "2021-12-08T16:14:24.061Z"
   },
   {
    "duration": 890,
    "start_time": "2021-12-08T16:18:20.982Z"
   },
   {
    "duration": 20,
    "start_time": "2021-12-08T16:18:21.875Z"
   },
   {
    "duration": 15,
    "start_time": "2021-12-08T16:18:21.898Z"
   },
   {
    "duration": 78,
    "start_time": "2021-12-08T16:18:21.916Z"
   },
   {
    "duration": 38,
    "start_time": "2021-12-08T16:18:21.997Z"
   },
   {
    "duration": 38,
    "start_time": "2021-12-08T16:18:22.038Z"
   },
   {
    "duration": 14,
    "start_time": "2021-12-08T16:18:22.078Z"
   },
   {
    "duration": 6,
    "start_time": "2021-12-08T16:18:22.096Z"
   },
   {
    "duration": 8,
    "start_time": "2021-12-08T16:18:22.106Z"
   },
   {
    "duration": 51,
    "start_time": "2021-12-08T16:18:22.116Z"
   },
   {
    "duration": 7,
    "start_time": "2021-12-08T16:18:22.171Z"
   },
   {
    "duration": 11,
    "start_time": "2021-12-08T16:18:22.181Z"
   },
   {
    "duration": 11,
    "start_time": "2021-12-08T16:18:22.195Z"
   },
   {
    "duration": 89,
    "start_time": "2021-12-08T16:18:22.209Z"
   },
   {
    "duration": 16,
    "start_time": "2021-12-08T16:18:22.301Z"
   },
   {
    "duration": 8,
    "start_time": "2021-12-08T16:18:22.320Z"
   },
   {
    "duration": 40,
    "start_time": "2021-12-08T16:18:22.330Z"
   },
   {
    "duration": 7,
    "start_time": "2021-12-08T16:18:22.372Z"
   },
   {
    "duration": 98,
    "start_time": "2021-12-08T16:18:22.381Z"
   },
   {
    "duration": 22,
    "start_time": "2021-12-08T16:18:22.460Z"
   },
   {
    "duration": 19,
    "start_time": "2021-12-08T16:18:22.464Z"
   },
   {
    "duration": 17,
    "start_time": "2021-12-08T16:18:22.468Z"
   },
   {
    "duration": 16,
    "start_time": "2021-12-08T16:18:22.470Z"
   },
   {
    "duration": 15,
    "start_time": "2021-12-08T16:18:22.473Z"
   },
   {
    "duration": 11,
    "start_time": "2021-12-08T16:18:22.478Z"
   },
   {
    "duration": 7,
    "start_time": "2021-12-08T16:18:22.483Z"
   },
   {
    "duration": -1,
    "start_time": "2021-12-08T16:18:22.493Z"
   },
   {
    "duration": -2,
    "start_time": "2021-12-08T16:18:22.496Z"
   },
   {
    "duration": -4,
    "start_time": "2021-12-08T16:18:22.500Z"
   },
   {
    "duration": -4,
    "start_time": "2021-12-08T16:18:22.502Z"
   },
   {
    "duration": -5,
    "start_time": "2021-12-08T16:18:22.505Z"
   },
   {
    "duration": -8,
    "start_time": "2021-12-08T16:18:22.510Z"
   },
   {
    "duration": 884,
    "start_time": "2021-12-08T16:19:46.930Z"
   },
   {
    "duration": 16,
    "start_time": "2021-12-08T16:19:47.820Z"
   },
   {
    "duration": 35,
    "start_time": "2021-12-08T16:19:47.839Z"
   },
   {
    "duration": 48,
    "start_time": "2021-12-08T16:19:47.877Z"
   },
   {
    "duration": 57,
    "start_time": "2021-12-08T16:19:47.928Z"
   },
   {
    "duration": 13,
    "start_time": "2021-12-08T16:19:47.987Z"
   },
   {
    "duration": 15,
    "start_time": "2021-12-08T16:19:48.002Z"
   },
   {
    "duration": 6,
    "start_time": "2021-12-08T16:19:48.021Z"
   },
   {
    "duration": 6,
    "start_time": "2021-12-08T16:19:48.067Z"
   },
   {
    "duration": 8,
    "start_time": "2021-12-08T16:19:48.075Z"
   },
   {
    "duration": 6,
    "start_time": "2021-12-08T16:19:48.086Z"
   },
   {
    "duration": 8,
    "start_time": "2021-12-08T16:19:48.095Z"
   },
   {
    "duration": 10,
    "start_time": "2021-12-08T16:19:48.105Z"
   },
   {
    "duration": 80,
    "start_time": "2021-12-08T16:19:48.117Z"
   },
   {
    "duration": 7,
    "start_time": "2021-12-08T16:19:48.200Z"
   },
   {
    "duration": 6,
    "start_time": "2021-12-08T16:19:48.210Z"
   },
   {
    "duration": 8,
    "start_time": "2021-12-08T16:19:48.218Z"
   },
   {
    "duration": 6,
    "start_time": "2021-12-08T16:19:48.267Z"
   },
   {
    "duration": 131,
    "start_time": "2021-12-08T16:19:48.275Z"
   },
   {
    "duration": 35,
    "start_time": "2021-12-08T16:19:48.374Z"
   },
   {
    "duration": 23,
    "start_time": "2021-12-08T16:19:48.387Z"
   },
   {
    "duration": 19,
    "start_time": "2021-12-08T16:19:48.393Z"
   },
   {
    "duration": 18,
    "start_time": "2021-12-08T16:19:48.396Z"
   },
   {
    "duration": 18,
    "start_time": "2021-12-08T16:19:48.399Z"
   },
   {
    "duration": 18,
    "start_time": "2021-12-08T16:19:48.402Z"
   },
   {
    "duration": 9,
    "start_time": "2021-12-08T16:19:48.413Z"
   },
   {
    "duration": 8,
    "start_time": "2021-12-08T16:19:48.416Z"
   },
   {
    "duration": 7,
    "start_time": "2021-12-08T16:19:48.419Z"
   },
   {
    "duration": 6,
    "start_time": "2021-12-08T16:19:48.422Z"
   },
   {
    "duration": 4,
    "start_time": "2021-12-08T16:19:48.426Z"
   },
   {
    "duration": 3,
    "start_time": "2021-12-08T16:19:48.429Z"
   },
   {
    "duration": 2,
    "start_time": "2021-12-08T16:19:48.432Z"
   },
   {
    "duration": 7,
    "start_time": "2021-12-08T16:21:43.349Z"
   },
   {
    "duration": 10,
    "start_time": "2021-12-08T16:21:51.748Z"
   },
   {
    "duration": 852,
    "start_time": "2021-12-08T16:21:59.162Z"
   },
   {
    "duration": 18,
    "start_time": "2021-12-08T16:22:00.018Z"
   },
   {
    "duration": 36,
    "start_time": "2021-12-08T16:22:00.039Z"
   },
   {
    "duration": 46,
    "start_time": "2021-12-08T16:22:00.078Z"
   },
   {
    "duration": 67,
    "start_time": "2021-12-08T16:22:00.128Z"
   },
   {
    "duration": 12,
    "start_time": "2021-12-08T16:22:00.198Z"
   },
   {
    "duration": 22,
    "start_time": "2021-12-08T16:22:00.213Z"
   },
   {
    "duration": 30,
    "start_time": "2021-12-08T16:22:00.239Z"
   },
   {
    "duration": 15,
    "start_time": "2021-12-08T16:22:00.272Z"
   },
   {
    "duration": 31,
    "start_time": "2021-12-08T16:22:00.289Z"
   },
   {
    "duration": 22,
    "start_time": "2021-12-08T16:22:00.322Z"
   },
   {
    "duration": 30,
    "start_time": "2021-12-08T16:22:00.347Z"
   },
   {
    "duration": 20,
    "start_time": "2021-12-08T16:22:00.381Z"
   },
   {
    "duration": 58,
    "start_time": "2021-12-08T16:22:00.403Z"
   },
   {
    "duration": 13,
    "start_time": "2021-12-08T16:22:00.464Z"
   },
   {
    "duration": 8,
    "start_time": "2021-12-08T16:22:00.479Z"
   },
   {
    "duration": 23,
    "start_time": "2021-12-08T16:22:00.489Z"
   },
   {
    "duration": 16,
    "start_time": "2021-12-08T16:22:00.514Z"
   },
   {
    "duration": 16,
    "start_time": "2021-12-08T16:22:00.533Z"
   },
   {
    "duration": 18,
    "start_time": "2021-12-08T16:22:00.551Z"
   },
   {
    "duration": 44,
    "start_time": "2021-12-08T16:22:00.571Z"
   },
   {
    "duration": 6,
    "start_time": "2021-12-08T16:22:00.618Z"
   },
   {
    "duration": 9,
    "start_time": "2021-12-08T16:22:00.629Z"
   },
   {
    "duration": 54,
    "start_time": "2021-12-08T16:22:00.640Z"
   },
   {
    "duration": 5,
    "start_time": "2021-12-08T16:22:00.697Z"
   },
   {
    "duration": 17,
    "start_time": "2021-12-08T16:22:00.705Z"
   },
   {
    "duration": 26,
    "start_time": "2021-12-08T16:22:00.724Z"
   },
   {
    "duration": 19,
    "start_time": "2021-12-08T16:22:00.752Z"
   },
   {
    "duration": 37,
    "start_time": "2021-12-08T16:22:00.774Z"
   },
   {
    "duration": 33,
    "start_time": "2021-12-08T16:22:00.814Z"
   },
   {
    "duration": 37,
    "start_time": "2021-12-08T16:22:00.850Z"
   },
   {
    "duration": 32,
    "start_time": "2021-12-08T16:22:00.890Z"
   },
   {
    "duration": 7,
    "start_time": "2021-12-08T16:29:09.828Z"
   },
   {
    "duration": 10,
    "start_time": "2021-12-08T16:36:14.986Z"
   },
   {
    "duration": 12,
    "start_time": "2021-12-08T16:36:47.917Z"
   },
   {
    "duration": 460,
    "start_time": "2021-12-08T16:50:08.432Z"
   },
   {
    "duration": 1677,
    "start_time": "2021-12-08T16:50:28.499Z"
   },
   {
    "duration": 41,
    "start_time": "2021-12-08T16:50:43.689Z"
   },
   {
    "duration": 9,
    "start_time": "2021-12-08T16:51:49.167Z"
   },
   {
    "duration": 27,
    "start_time": "2021-12-08T16:54:27.831Z"
   },
   {
    "duration": 8,
    "start_time": "2021-12-08T17:11:11.084Z"
   },
   {
    "duration": 1000,
    "start_time": "2021-12-08T17:18:16.723Z"
   },
   {
    "duration": 806,
    "start_time": "2021-12-08T17:21:36.177Z"
   },
   {
    "duration": 305,
    "start_time": "2021-12-08T17:25:54.371Z"
   },
   {
    "duration": 1031,
    "start_time": "2021-12-08T17:31:23.938Z"
   },
   {
    "duration": 949,
    "start_time": "2021-12-08T18:01:03.187Z"
   },
   {
    "duration": 930,
    "start_time": "2021-12-08T18:02:56.379Z"
   },
   {
    "duration": 963,
    "start_time": "2021-12-08T18:07:09.461Z"
   },
   {
    "duration": 2758,
    "start_time": "2021-12-08T18:12:56.144Z"
   },
   {
    "duration": 11,
    "start_time": "2021-12-08T18:13:50.297Z"
   },
   {
    "duration": 2826,
    "start_time": "2021-12-08T18:14:34.941Z"
   },
   {
    "duration": 9,
    "start_time": "2021-12-08T18:15:06.947Z"
   },
   {
    "duration": 2951,
    "start_time": "2021-12-08T18:21:36.577Z"
   },
   {
    "duration": 10,
    "start_time": "2021-12-08T18:21:57.575Z"
   },
   {
    "duration": 2030,
    "start_time": "2021-12-08T18:25:12.296Z"
   },
   {
    "duration": 8363,
    "start_time": "2021-12-08T18:25:25.468Z"
   },
   {
    "duration": 8628,
    "start_time": "2021-12-08T18:26:15.819Z"
   },
   {
    "duration": 855,
    "start_time": "2021-12-08T18:27:08.424Z"
   },
   {
    "duration": 15,
    "start_time": "2021-12-08T18:27:09.282Z"
   },
   {
    "duration": 20,
    "start_time": "2021-12-08T18:27:09.301Z"
   },
   {
    "duration": 64,
    "start_time": "2021-12-08T18:27:09.324Z"
   },
   {
    "duration": 36,
    "start_time": "2021-12-08T18:27:09.390Z"
   },
   {
    "duration": 38,
    "start_time": "2021-12-08T18:27:09.429Z"
   },
   {
    "duration": 14,
    "start_time": "2021-12-08T18:27:09.469Z"
   },
   {
    "duration": 6,
    "start_time": "2021-12-08T18:27:09.487Z"
   },
   {
    "duration": 11,
    "start_time": "2021-12-08T18:27:09.496Z"
   },
   {
    "duration": 24,
    "start_time": "2021-12-08T18:27:09.510Z"
   },
   {
    "duration": 16,
    "start_time": "2021-12-08T18:27:09.536Z"
   },
   {
    "duration": 8,
    "start_time": "2021-12-08T18:27:09.568Z"
   },
   {
    "duration": 10,
    "start_time": "2021-12-08T18:27:09.579Z"
   },
   {
    "duration": 34,
    "start_time": "2021-12-08T18:27:09.592Z"
   },
   {
    "duration": 39,
    "start_time": "2021-12-08T18:27:09.628Z"
   },
   {
    "duration": 9,
    "start_time": "2021-12-08T18:27:09.669Z"
   },
   {
    "duration": 21,
    "start_time": "2021-12-08T18:27:09.681Z"
   },
   {
    "duration": 14,
    "start_time": "2021-12-08T18:27:09.704Z"
   },
   {
    "duration": 19,
    "start_time": "2021-12-08T18:27:09.720Z"
   },
   {
    "duration": 26,
    "start_time": "2021-12-08T18:27:09.741Z"
   },
   {
    "duration": 46,
    "start_time": "2021-12-08T18:27:09.769Z"
   },
   {
    "duration": 6,
    "start_time": "2021-12-08T18:27:09.818Z"
   },
   {
    "duration": 23,
    "start_time": "2021-12-08T18:27:09.830Z"
   },
   {
    "duration": 41,
    "start_time": "2021-12-08T18:27:09.856Z"
   },
   {
    "duration": 5,
    "start_time": "2021-12-08T18:27:09.900Z"
   },
   {
    "duration": 21,
    "start_time": "2021-12-08T18:27:09.907Z"
   },
   {
    "duration": 11,
    "start_time": "2021-12-08T18:27:09.930Z"
   },
   {
    "duration": 16,
    "start_time": "2021-12-08T18:27:09.944Z"
   },
   {
    "duration": 40,
    "start_time": "2021-12-08T18:27:09.963Z"
   },
   {
    "duration": 11,
    "start_time": "2021-12-08T18:27:10.005Z"
   },
   {
    "duration": 19,
    "start_time": "2021-12-08T18:27:10.018Z"
   },
   {
    "duration": 37,
    "start_time": "2021-12-08T18:27:10.040Z"
   },
   {
    "duration": 6,
    "start_time": "2021-12-08T18:27:10.080Z"
   },
   {
    "duration": 15,
    "start_time": "2021-12-08T18:27:10.088Z"
   },
   {
    "duration": 30,
    "start_time": "2021-12-08T18:27:10.105Z"
   },
   {
    "duration": 34,
    "start_time": "2021-12-08T18:27:10.137Z"
   },
   {
    "duration": 16,
    "start_time": "2021-12-08T18:27:10.173Z"
   },
   {
    "duration": 42,
    "start_time": "2021-12-08T18:27:10.192Z"
   },
   {
    "duration": 8,
    "start_time": "2021-12-08T18:27:10.236Z"
   },
   {
    "duration": 953,
    "start_time": "2021-12-08T18:27:10.246Z"
   },
   {
    "duration": 2765,
    "start_time": "2021-12-08T18:27:11.202Z"
   },
   {
    "duration": 11,
    "start_time": "2021-12-08T18:27:13.969Z"
   },
   {
    "duration": 8,
    "start_time": "2021-12-08T18:27:13.983Z"
   },
   {
    "duration": 8754,
    "start_time": "2021-12-08T18:27:30.989Z"
   },
   {
    "duration": 7466,
    "start_time": "2021-12-08T18:27:54.805Z"
   },
   {
    "duration": 312,
    "start_time": "2021-12-08T18:28:14.785Z"
   },
   {
    "duration": 6,
    "start_time": "2021-12-08T18:28:20.598Z"
   },
   {
    "duration": 25,
    "start_time": "2021-12-08T18:28:53.293Z"
   },
   {
    "duration": 1017,
    "start_time": "2021-12-08T18:29:47.068Z"
   },
   {
    "duration": 17,
    "start_time": "2021-12-08T18:29:48.088Z"
   },
   {
    "duration": 13,
    "start_time": "2021-12-08T18:29:48.109Z"
   },
   {
    "duration": 93,
    "start_time": "2021-12-08T18:29:48.126Z"
   },
   {
    "duration": 53,
    "start_time": "2021-12-08T18:29:48.222Z"
   },
   {
    "duration": 17,
    "start_time": "2021-12-08T18:29:48.277Z"
   },
   {
    "duration": 17,
    "start_time": "2021-12-08T18:29:48.298Z"
   },
   {
    "duration": 50,
    "start_time": "2021-12-08T18:29:48.321Z"
   },
   {
    "duration": 7,
    "start_time": "2021-12-08T18:29:48.375Z"
   },
   {
    "duration": 16,
    "start_time": "2021-12-08T18:29:48.385Z"
   },
   {
    "duration": 12,
    "start_time": "2021-12-08T18:29:48.404Z"
   },
   {
    "duration": 11,
    "start_time": "2021-12-08T18:29:48.422Z"
   },
   {
    "duration": 10,
    "start_time": "2021-12-08T18:29:48.468Z"
   },
   {
    "duration": 35,
    "start_time": "2021-12-08T18:29:48.480Z"
   },
   {
    "duration": 50,
    "start_time": "2021-12-08T18:29:48.519Z"
   },
   {
    "duration": 8,
    "start_time": "2021-12-08T18:29:48.572Z"
   },
   {
    "duration": 10,
    "start_time": "2021-12-08T18:29:48.583Z"
   },
   {
    "duration": 8,
    "start_time": "2021-12-08T18:29:48.596Z"
   },
   {
    "duration": 8,
    "start_time": "2021-12-08T18:29:48.607Z"
   },
   {
    "duration": 9,
    "start_time": "2021-12-08T18:29:48.668Z"
   },
   {
    "duration": 40,
    "start_time": "2021-12-08T18:29:48.680Z"
   },
   {
    "duration": 46,
    "start_time": "2021-12-08T18:29:48.722Z"
   },
   {
    "duration": 6,
    "start_time": "2021-12-08T18:29:48.776Z"
   },
   {
    "duration": 52,
    "start_time": "2021-12-08T18:29:48.785Z"
   },
   {
    "duration": 28,
    "start_time": "2021-12-08T18:29:48.840Z"
   },
   {
    "duration": 8,
    "start_time": "2021-12-08T18:29:48.870Z"
   },
   {
    "duration": 6,
    "start_time": "2021-12-08T18:29:48.881Z"
   },
   {
    "duration": 6,
    "start_time": "2021-12-08T18:29:48.891Z"
   },
   {
    "duration": 67,
    "start_time": "2021-12-08T18:29:48.900Z"
   },
   {
    "duration": 17,
    "start_time": "2021-12-08T18:29:48.970Z"
   },
   {
    "duration": 24,
    "start_time": "2021-12-08T18:29:48.990Z"
   },
   {
    "duration": 53,
    "start_time": "2021-12-08T18:29:49.016Z"
   },
   {
    "duration": 8,
    "start_time": "2021-12-08T18:29:49.071Z"
   },
   {
    "duration": 9,
    "start_time": "2021-12-08T18:29:49.082Z"
   },
   {
    "duration": 12,
    "start_time": "2021-12-08T18:29:49.094Z"
   },
   {
    "duration": 77,
    "start_time": "2021-12-08T18:29:49.109Z"
   },
   {
    "duration": 42,
    "start_time": "2021-12-08T18:29:49.188Z"
   },
   {
    "duration": 64,
    "start_time": "2021-12-08T18:29:49.232Z"
   },
   {
    "duration": 11,
    "start_time": "2021-12-08T18:29:49.299Z"
   },
   {
    "duration": 1006,
    "start_time": "2021-12-08T18:29:49.313Z"
   },
   {
    "duration": 2860,
    "start_time": "2021-12-08T18:29:50.322Z"
   },
   {
    "duration": 11,
    "start_time": "2021-12-08T18:29:53.184Z"
   },
   {
    "duration": 33,
    "start_time": "2021-12-08T18:29:53.198Z"
   },
   {
    "duration": 26,
    "start_time": "2021-12-08T18:30:30.069Z"
   },
   {
    "duration": 37,
    "start_time": "2021-12-08T18:42:36.759Z"
   },
   {
    "duration": 33,
    "start_time": "2021-12-08T18:43:56.977Z"
   },
   {
    "duration": 10,
    "start_time": "2021-12-08T18:44:30.232Z"
   },
   {
    "duration": 5,
    "start_time": "2021-12-08T18:47:01.605Z"
   },
   {
    "duration": 35,
    "start_time": "2021-12-08T18:52:59.292Z"
   },
   {
    "duration": 7384,
    "start_time": "2021-12-08T18:53:35.929Z"
   },
   {
    "duration": 9,
    "start_time": "2021-12-08T18:53:46.853Z"
   },
   {
    "duration": 5,
    "start_time": "2021-12-08T18:56:07.618Z"
   },
   {
    "duration": 37,
    "start_time": "2021-12-08T19:00:03.729Z"
   },
   {
    "duration": 9,
    "start_time": "2021-12-08T19:00:45.622Z"
   },
   {
    "duration": 5,
    "start_time": "2021-12-08T19:03:36.545Z"
   },
   {
    "duration": 6,
    "start_time": "2021-12-08T19:06:00.588Z"
   },
   {
    "duration": 142,
    "start_time": "2021-12-08T19:07:16.845Z"
   },
   {
    "duration": 7,
    "start_time": "2021-12-08T19:07:47.377Z"
   },
   {
    "duration": 2566,
    "start_time": "2021-12-08T19:12:34.437Z"
   },
   {
    "duration": 9,
    "start_time": "2021-12-08T19:13:40.869Z"
   },
   {
    "duration": 4,
    "start_time": "2021-12-08T19:14:51.127Z"
   },
   {
    "duration": 7,
    "start_time": "2021-12-08T19:19:51.987Z"
   },
   {
    "duration": 37,
    "start_time": "2021-12-08T19:25:00.836Z"
   },
   {
    "duration": 31,
    "start_time": "2021-12-08T19:25:26.306Z"
   },
   {
    "duration": 31,
    "start_time": "2021-12-08T19:25:49.193Z"
   },
   {
    "duration": 35,
    "start_time": "2021-12-08T19:26:09.716Z"
   },
   {
    "duration": 6875,
    "start_time": "2021-12-08T19:26:38.180Z"
   },
   {
    "duration": 9,
    "start_time": "2021-12-08T19:27:00.882Z"
   },
   {
    "duration": 899,
    "start_time": "2021-12-08T19:27:53.047Z"
   },
   {
    "duration": 26,
    "start_time": "2021-12-08T19:27:53.950Z"
   },
   {
    "duration": 14,
    "start_time": "2021-12-08T19:27:53.980Z"
   },
   {
    "duration": 76,
    "start_time": "2021-12-08T19:27:53.998Z"
   },
   {
    "duration": 37,
    "start_time": "2021-12-08T19:27:54.077Z"
   },
   {
    "duration": 13,
    "start_time": "2021-12-08T19:27:54.116Z"
   },
   {
    "duration": 42,
    "start_time": "2021-12-08T19:27:54.132Z"
   },
   {
    "duration": 6,
    "start_time": "2021-12-08T19:27:54.178Z"
   },
   {
    "duration": 14,
    "start_time": "2021-12-08T19:27:54.187Z"
   },
   {
    "duration": 9,
    "start_time": "2021-12-08T19:27:54.204Z"
   },
   {
    "duration": 7,
    "start_time": "2021-12-08T19:27:54.215Z"
   },
   {
    "duration": 45,
    "start_time": "2021-12-08T19:27:54.224Z"
   },
   {
    "duration": 10,
    "start_time": "2021-12-08T19:27:54.271Z"
   },
   {
    "duration": 29,
    "start_time": "2021-12-08T19:27:54.284Z"
   },
   {
    "duration": 9,
    "start_time": "2021-12-08T19:27:54.316Z"
   },
   {
    "duration": 44,
    "start_time": "2021-12-08T19:27:54.327Z"
   },
   {
    "duration": 13,
    "start_time": "2021-12-08T19:27:54.374Z"
   },
   {
    "duration": 6,
    "start_time": "2021-12-08T19:27:54.390Z"
   },
   {
    "duration": 7,
    "start_time": "2021-12-08T19:27:54.398Z"
   },
   {
    "duration": 10,
    "start_time": "2021-12-08T19:27:54.408Z"
   },
   {
    "duration": 73,
    "start_time": "2021-12-08T19:27:54.420Z"
   },
   {
    "duration": 6,
    "start_time": "2021-12-08T19:27:54.496Z"
   },
   {
    "duration": 5,
    "start_time": "2021-12-08T19:27:54.507Z"
   },
   {
    "duration": 61,
    "start_time": "2021-12-08T19:27:54.516Z"
   },
   {
    "duration": 6,
    "start_time": "2021-12-08T19:27:54.579Z"
   },
   {
    "duration": 10,
    "start_time": "2021-12-08T19:27:54.589Z"
   },
   {
    "duration": 4,
    "start_time": "2021-12-08T19:27:54.602Z"
   },
   {
    "duration": 10,
    "start_time": "2021-12-08T19:27:54.608Z"
   },
   {
    "duration": 60,
    "start_time": "2021-12-08T19:27:54.621Z"
   },
   {
    "duration": 10,
    "start_time": "2021-12-08T19:27:54.683Z"
   },
   {
    "duration": 9,
    "start_time": "2021-12-08T19:27:54.696Z"
   },
   {
    "duration": 61,
    "start_time": "2021-12-08T19:27:54.708Z"
   },
   {
    "duration": 9,
    "start_time": "2021-12-08T19:27:54.771Z"
   },
   {
    "duration": 10,
    "start_time": "2021-12-08T19:27:54.782Z"
   },
   {
    "duration": 14,
    "start_time": "2021-12-08T19:27:54.794Z"
   },
   {
    "duration": 17,
    "start_time": "2021-12-08T19:27:54.810Z"
   },
   {
    "duration": 42,
    "start_time": "2021-12-08T19:27:54.830Z"
   },
   {
    "duration": 26,
    "start_time": "2021-12-08T19:27:54.874Z"
   },
   {
    "duration": 7,
    "start_time": "2021-12-08T19:27:54.902Z"
   },
   {
    "duration": 981,
    "start_time": "2021-12-08T19:27:54.912Z"
   },
   {
    "duration": 2727,
    "start_time": "2021-12-08T19:27:55.896Z"
   },
   {
    "duration": 10,
    "start_time": "2021-12-08T19:27:58.625Z"
   },
   {
    "duration": 45,
    "start_time": "2021-12-08T19:27:58.638Z"
   },
   {
    "duration": 34,
    "start_time": "2021-12-08T19:27:58.685Z"
   },
   {
    "duration": 12,
    "start_time": "2021-12-08T19:27:58.722Z"
   },
   {
    "duration": 33,
    "start_time": "2021-12-08T19:27:58.737Z"
   },
   {
    "duration": 37,
    "start_time": "2021-12-08T19:27:58.774Z"
   },
   {
    "duration": 10,
    "start_time": "2021-12-08T19:27:58.814Z"
   },
   {
    "duration": 5,
    "start_time": "2021-12-08T19:27:58.867Z"
   },
   {
    "duration": 38,
    "start_time": "2021-12-08T19:27:58.875Z"
   },
   {
    "duration": 12,
    "start_time": "2021-12-08T19:27:58.916Z"
   },
   {
    "duration": 5,
    "start_time": "2021-12-08T19:27:58.967Z"
   },
   {
    "duration": 16,
    "start_time": "2021-12-08T19:27:58.975Z"
   },
   {
    "duration": 2247,
    "start_time": "2021-12-08T19:27:58.993Z"
   },
   {
    "duration": 10,
    "start_time": "2021-12-08T19:28:01.242Z"
   },
   {
    "duration": 21,
    "start_time": "2021-12-08T19:28:01.268Z"
   },
   {
    "duration": 25,
    "start_time": "2021-12-08T19:28:01.292Z"
   },
   {
    "duration": 10,
    "start_time": "2021-12-08T19:28:31.643Z"
   },
   {
    "duration": 27,
    "start_time": "2021-12-08T19:32:41.070Z"
   },
   {
    "duration": 498,
    "start_time": "2021-12-08T20:10:14.520Z"
   },
   {
    "duration": 12,
    "start_time": "2021-12-08T20:10:50.299Z"
   },
   {
    "duration": 12,
    "start_time": "2021-12-08T20:11:22.550Z"
   },
   {
    "duration": 13,
    "start_time": "2021-12-08T20:11:30.756Z"
   },
   {
    "duration": 12,
    "start_time": "2021-12-08T20:11:39.353Z"
   },
   {
    "duration": 29,
    "start_time": "2021-12-08T20:26:34.817Z"
   },
   {
    "duration": 31,
    "start_time": "2021-12-08T20:27:07.054Z"
   },
   {
    "duration": 29,
    "start_time": "2021-12-08T20:27:48.194Z"
   },
   {
    "duration": 28,
    "start_time": "2021-12-08T20:28:02.559Z"
   },
   {
    "duration": 29,
    "start_time": "2021-12-08T20:28:51.431Z"
   },
   {
    "duration": 37,
    "start_time": "2021-12-08T20:33:56.146Z"
   },
   {
    "duration": 10,
    "start_time": "2021-12-08T20:47:21.278Z"
   },
   {
    "duration": 10,
    "start_time": "2021-12-08T20:47:53.352Z"
   },
   {
    "duration": 10,
    "start_time": "2021-12-08T20:48:05.708Z"
   },
   {
    "duration": 12,
    "start_time": "2021-12-08T20:48:20.125Z"
   },
   {
    "duration": 10,
    "start_time": "2021-12-08T20:48:29.393Z"
   },
   {
    "duration": 8,
    "start_time": "2021-12-08T20:50:34.852Z"
   },
   {
    "duration": 990,
    "start_time": "2021-12-08T20:54:04.147Z"
   },
   {
    "duration": 8,
    "start_time": "2021-12-08T20:54:05.139Z"
   },
   {
    "duration": 15,
    "start_time": "2021-12-08T20:54:05.168Z"
   },
   {
    "duration": 25,
    "start_time": "2021-12-08T20:54:05.186Z"
   },
   {
    "duration": 55,
    "start_time": "2021-12-08T20:54:05.214Z"
   },
   {
    "duration": 37,
    "start_time": "2021-12-08T20:54:05.272Z"
   },
   {
    "duration": 12,
    "start_time": "2021-12-08T20:54:05.311Z"
   },
   {
    "duration": 46,
    "start_time": "2021-12-08T20:54:05.327Z"
   },
   {
    "duration": 6,
    "start_time": "2021-12-08T20:54:05.376Z"
   },
   {
    "duration": 45,
    "start_time": "2021-12-08T20:54:05.384Z"
   },
   {
    "duration": 13,
    "start_time": "2021-12-08T20:54:05.431Z"
   },
   {
    "duration": 8,
    "start_time": "2021-12-08T20:54:05.447Z"
   },
   {
    "duration": 14,
    "start_time": "2021-12-08T20:54:05.457Z"
   },
   {
    "duration": 14,
    "start_time": "2021-12-08T20:54:05.473Z"
   },
   {
    "duration": 30,
    "start_time": "2021-12-08T20:54:05.489Z"
   },
   {
    "duration": 7,
    "start_time": "2021-12-08T20:54:05.522Z"
   },
   {
    "duration": 38,
    "start_time": "2021-12-08T20:54:05.531Z"
   },
   {
    "duration": 9,
    "start_time": "2021-12-08T20:54:05.572Z"
   },
   {
    "duration": 7,
    "start_time": "2021-12-08T20:54:05.583Z"
   },
   {
    "duration": 9,
    "start_time": "2021-12-08T20:54:05.593Z"
   },
   {
    "duration": 11,
    "start_time": "2021-12-08T20:54:05.605Z"
   },
   {
    "duration": 69,
    "start_time": "2021-12-08T20:54:05.619Z"
   },
   {
    "duration": 7,
    "start_time": "2021-12-08T20:54:05.695Z"
   },
   {
    "duration": 7,
    "start_time": "2021-12-08T20:54:05.705Z"
   },
   {
    "duration": 64,
    "start_time": "2021-12-08T20:54:05.714Z"
   },
   {
    "duration": 7,
    "start_time": "2021-12-08T20:54:05.781Z"
   },
   {
    "duration": 10,
    "start_time": "2021-12-08T20:54:05.791Z"
   },
   {
    "duration": 3,
    "start_time": "2021-12-08T20:54:05.804Z"
   },
   {
    "duration": 12,
    "start_time": "2021-12-08T20:54:05.810Z"
   },
   {
    "duration": 55,
    "start_time": "2021-12-08T20:54:05.824Z"
   },
   {
    "duration": 11,
    "start_time": "2021-12-08T20:54:05.882Z"
   },
   {
    "duration": 12,
    "start_time": "2021-12-08T20:54:05.895Z"
   },
   {
    "duration": 58,
    "start_time": "2021-12-08T20:54:05.910Z"
   },
   {
    "duration": 7,
    "start_time": "2021-12-08T20:54:05.970Z"
   },
   {
    "duration": 9,
    "start_time": "2021-12-08T20:54:05.979Z"
   },
   {
    "duration": 10,
    "start_time": "2021-12-08T20:54:05.990Z"
   },
   {
    "duration": 16,
    "start_time": "2021-12-08T20:54:06.002Z"
   },
   {
    "duration": 51,
    "start_time": "2021-12-08T20:54:06.021Z"
   },
   {
    "duration": 27,
    "start_time": "2021-12-08T20:54:06.075Z"
   },
   {
    "duration": 13,
    "start_time": "2021-12-08T20:54:06.105Z"
   },
   {
    "duration": 974,
    "start_time": "2021-12-08T20:54:06.120Z"
   },
   {
    "duration": 3104,
    "start_time": "2021-12-08T20:54:07.097Z"
   },
   {
    "duration": 10,
    "start_time": "2021-12-08T20:54:10.204Z"
   },
   {
    "duration": 30,
    "start_time": "2021-12-08T20:54:10.216Z"
   },
   {
    "duration": 49,
    "start_time": "2021-12-08T20:54:10.248Z"
   },
   {
    "duration": 9,
    "start_time": "2021-12-08T20:54:10.300Z"
   },
   {
    "duration": 5,
    "start_time": "2021-12-08T20:54:10.312Z"
   },
   {
    "duration": 72,
    "start_time": "2021-12-08T20:54:10.320Z"
   },
   {
    "duration": 9,
    "start_time": "2021-12-08T20:54:10.394Z"
   },
   {
    "duration": 6,
    "start_time": "2021-12-08T20:54:10.406Z"
   },
   {
    "duration": 68,
    "start_time": "2021-12-08T20:54:10.414Z"
   },
   {
    "duration": 10,
    "start_time": "2021-12-08T20:54:10.485Z"
   },
   {
    "duration": 9,
    "start_time": "2021-12-08T20:54:10.497Z"
   },
   {
    "duration": 12,
    "start_time": "2021-12-08T20:54:10.508Z"
   },
   {
    "duration": 2289,
    "start_time": "2021-12-08T20:54:10.522Z"
   },
   {
    "duration": 10,
    "start_time": "2021-12-08T20:54:12.813Z"
   },
   {
    "duration": 6,
    "start_time": "2021-12-08T20:54:12.825Z"
   },
   {
    "duration": 35,
    "start_time": "2021-12-08T20:54:12.835Z"
   },
   {
    "duration": 11,
    "start_time": "2021-12-08T20:54:12.872Z"
   },
   {
    "duration": 31,
    "start_time": "2021-12-08T20:54:12.886Z"
   },
   {
    "duration": 50,
    "start_time": "2021-12-08T20:54:12.920Z"
   },
   {
    "duration": 8,
    "start_time": "2021-12-08T20:54:12.972Z"
   },
   {
    "duration": 9,
    "start_time": "2021-12-08T20:57:08.656Z"
   },
   {
    "duration": 10,
    "start_time": "2021-12-08T21:00:02.163Z"
   },
   {
    "duration": 10,
    "start_time": "2021-12-08T21:02:30.654Z"
   },
   {
    "duration": 11,
    "start_time": "2021-12-08T21:04:59.274Z"
   },
   {
    "duration": 5,
    "start_time": "2021-12-08T21:05:39.345Z"
   },
   {
    "duration": 99,
    "start_time": "2021-12-08T21:07:52.925Z"
   },
   {
    "duration": 6,
    "start_time": "2021-12-08T21:08:06.937Z"
   },
   {
    "duration": 28,
    "start_time": "2021-12-08T21:16:02.513Z"
   },
   {
    "duration": 25,
    "start_time": "2021-12-08T21:16:16.925Z"
   },
   {
    "duration": 39,
    "start_time": "2021-12-08T21:16:33.097Z"
   },
   {
    "duration": 399,
    "start_time": "2021-12-08T21:17:03.999Z"
   },
   {
    "duration": 31,
    "start_time": "2021-12-08T21:17:14.832Z"
   },
   {
    "duration": 30,
    "start_time": "2021-12-08T21:28:28.286Z"
   },
   {
    "duration": 913,
    "start_time": "2021-12-08T21:30:24.202Z"
   },
   {
    "duration": 8,
    "start_time": "2021-12-08T21:30:25.117Z"
   },
   {
    "duration": 39,
    "start_time": "2021-12-08T21:30:25.128Z"
   },
   {
    "duration": 14,
    "start_time": "2021-12-08T21:30:25.170Z"
   },
   {
    "duration": 45,
    "start_time": "2021-12-08T21:30:25.187Z"
   },
   {
    "duration": 81,
    "start_time": "2021-12-08T21:30:25.235Z"
   },
   {
    "duration": 16,
    "start_time": "2021-12-08T21:30:25.320Z"
   },
   {
    "duration": 35,
    "start_time": "2021-12-08T21:30:25.339Z"
   },
   {
    "duration": 5,
    "start_time": "2021-12-08T21:30:25.377Z"
   },
   {
    "duration": 7,
    "start_time": "2021-12-08T21:30:25.384Z"
   },
   {
    "duration": 7,
    "start_time": "2021-12-08T21:30:25.393Z"
   },
   {
    "duration": 6,
    "start_time": "2021-12-08T21:30:25.402Z"
   },
   {
    "duration": 9,
    "start_time": "2021-12-08T21:30:25.410Z"
   },
   {
    "duration": 10,
    "start_time": "2021-12-08T21:30:25.468Z"
   },
   {
    "duration": 30,
    "start_time": "2021-12-08T21:30:25.481Z"
   },
   {
    "duration": 7,
    "start_time": "2021-12-08T21:30:25.514Z"
   },
   {
    "duration": 45,
    "start_time": "2021-12-08T21:30:25.523Z"
   },
   {
    "duration": 7,
    "start_time": "2021-12-08T21:30:25.570Z"
   },
   {
    "duration": 7,
    "start_time": "2021-12-08T21:30:25.579Z"
   },
   {
    "duration": 9,
    "start_time": "2021-12-08T21:30:25.589Z"
   },
   {
    "duration": 9,
    "start_time": "2021-12-08T21:30:25.601Z"
   },
   {
    "duration": 85,
    "start_time": "2021-12-08T21:30:25.613Z"
   },
   {
    "duration": 7,
    "start_time": "2021-12-08T21:30:25.704Z"
   },
   {
    "duration": 16,
    "start_time": "2021-12-08T21:30:25.715Z"
   },
   {
    "duration": 59,
    "start_time": "2021-12-08T21:30:25.734Z"
   },
   {
    "duration": 8,
    "start_time": "2021-12-08T21:30:25.796Z"
   },
   {
    "duration": 7,
    "start_time": "2021-12-08T21:30:25.807Z"
   },
   {
    "duration": 4,
    "start_time": "2021-12-08T21:30:25.817Z"
   },
   {
    "duration": 43,
    "start_time": "2021-12-08T21:30:25.824Z"
   },
   {
    "duration": 24,
    "start_time": "2021-12-08T21:30:25.870Z"
   },
   {
    "duration": 12,
    "start_time": "2021-12-08T21:30:25.897Z"
   },
   {
    "duration": 12,
    "start_time": "2021-12-08T21:30:25.912Z"
   },
   {
    "duration": 70,
    "start_time": "2021-12-08T21:30:25.926Z"
   },
   {
    "duration": 6,
    "start_time": "2021-12-08T21:30:25.999Z"
   },
   {
    "duration": 15,
    "start_time": "2021-12-08T21:30:26.008Z"
   },
   {
    "duration": 46,
    "start_time": "2021-12-08T21:30:26.026Z"
   },
   {
    "duration": 17,
    "start_time": "2021-12-08T21:30:26.075Z"
   },
   {
    "duration": 11,
    "start_time": "2021-12-08T21:30:26.095Z"
   },
   {
    "duration": 64,
    "start_time": "2021-12-08T21:30:26.109Z"
   },
   {
    "duration": 8,
    "start_time": "2021-12-08T21:30:26.176Z"
   },
   {
    "duration": 974,
    "start_time": "2021-12-08T21:30:26.186Z"
   },
   {
    "duration": 2776,
    "start_time": "2021-12-08T21:30:27.163Z"
   },
   {
    "duration": 25,
    "start_time": "2021-12-08T21:30:29.942Z"
   },
   {
    "duration": 26,
    "start_time": "2021-12-08T21:30:29.970Z"
   },
   {
    "duration": 33,
    "start_time": "2021-12-08T21:30:29.998Z"
   },
   {
    "duration": 43,
    "start_time": "2021-12-08T21:30:30.033Z"
   },
   {
    "duration": 7,
    "start_time": "2021-12-08T21:30:30.079Z"
   },
   {
    "duration": 41,
    "start_time": "2021-12-08T21:30:30.089Z"
   },
   {
    "duration": 39,
    "start_time": "2021-12-08T21:30:30.133Z"
   },
   {
    "duration": 21,
    "start_time": "2021-12-08T21:30:30.175Z"
   },
   {
    "duration": 38,
    "start_time": "2021-12-08T21:30:30.199Z"
   },
   {
    "duration": 10,
    "start_time": "2021-12-08T21:30:30.239Z"
   },
   {
    "duration": 6,
    "start_time": "2021-12-08T21:30:30.268Z"
   },
   {
    "duration": 11,
    "start_time": "2021-12-08T21:30:30.277Z"
   },
   {
    "duration": 2175,
    "start_time": "2021-12-08T21:30:30.291Z"
   },
   {
    "duration": 10,
    "start_time": "2021-12-08T21:30:32.469Z"
   },
   {
    "duration": 5,
    "start_time": "2021-12-08T21:30:32.481Z"
   },
   {
    "duration": 10,
    "start_time": "2021-12-08T21:30:32.488Z"
   },
   {
    "duration": 9,
    "start_time": "2021-12-08T21:30:32.501Z"
   },
   {
    "duration": 70,
    "start_time": "2021-12-08T21:30:32.512Z"
   },
   {
    "duration": 18,
    "start_time": "2021-12-08T21:30:32.584Z"
   },
   {
    "duration": 8,
    "start_time": "2021-12-08T21:30:32.604Z"
   },
   {
    "duration": 12,
    "start_time": "2021-12-08T21:30:32.614Z"
   },
   {
    "duration": 47,
    "start_time": "2021-12-08T21:30:32.629Z"
   },
   {
    "duration": 9,
    "start_time": "2021-12-08T21:30:32.679Z"
   },
   {
    "duration": 9,
    "start_time": "2021-12-08T21:30:32.690Z"
   },
   {
    "duration": 5,
    "start_time": "2021-12-08T21:30:32.702Z"
   },
   {
    "duration": 78,
    "start_time": "2021-12-08T21:30:32.715Z"
   },
   {
    "duration": 27,
    "start_time": "2021-12-08T21:30:32.796Z"
   },
   {
    "duration": 1181,
    "start_time": "2021-12-08T21:49:03.690Z"
   },
   {
    "duration": 11,
    "start_time": "2021-12-08T21:49:04.874Z"
   },
   {
    "duration": 15,
    "start_time": "2021-12-08T21:49:04.888Z"
   },
   {
    "duration": 12,
    "start_time": "2021-12-08T21:49:04.907Z"
   },
   {
    "duration": 79,
    "start_time": "2021-12-08T21:49:04.922Z"
   },
   {
    "duration": 36,
    "start_time": "2021-12-08T21:49:05.003Z"
   },
   {
    "duration": 30,
    "start_time": "2021-12-08T21:49:05.041Z"
   },
   {
    "duration": 14,
    "start_time": "2021-12-08T21:49:05.073Z"
   },
   {
    "duration": 6,
    "start_time": "2021-12-08T21:49:05.091Z"
   },
   {
    "duration": 7,
    "start_time": "2021-12-08T21:49:05.101Z"
   },
   {
    "duration": 9,
    "start_time": "2021-12-08T21:49:05.111Z"
   },
   {
    "duration": 7,
    "start_time": "2021-12-08T21:49:05.167Z"
   },
   {
    "duration": 12,
    "start_time": "2021-12-08T21:49:05.176Z"
   },
   {
    "duration": 12,
    "start_time": "2021-12-08T21:49:05.191Z"
   },
   {
    "duration": 65,
    "start_time": "2021-12-08T21:49:05.206Z"
   },
   {
    "duration": 6,
    "start_time": "2021-12-08T21:49:05.274Z"
   },
   {
    "duration": 25,
    "start_time": "2021-12-08T21:49:05.283Z"
   },
   {
    "duration": 18,
    "start_time": "2021-12-08T21:49:05.310Z"
   },
   {
    "duration": 18,
    "start_time": "2021-12-08T21:49:05.330Z"
   },
   {
    "duration": 31,
    "start_time": "2021-12-08T21:49:05.350Z"
   },
   {
    "duration": 36,
    "start_time": "2021-12-08T21:49:05.383Z"
   },
   {
    "duration": 41,
    "start_time": "2021-12-08T21:49:05.422Z"
   },
   {
    "duration": 6,
    "start_time": "2021-12-08T21:49:05.465Z"
   },
   {
    "duration": 17,
    "start_time": "2021-12-08T21:49:05.473Z"
   },
   {
    "duration": 40,
    "start_time": "2021-12-08T21:49:05.492Z"
   },
   {
    "duration": 5,
    "start_time": "2021-12-08T21:49:05.535Z"
   },
   {
    "duration": 23,
    "start_time": "2021-12-08T21:49:05.547Z"
   },
   {
    "duration": 3,
    "start_time": "2021-12-08T21:49:05.574Z"
   },
   {
    "duration": 8,
    "start_time": "2021-12-08T21:49:05.579Z"
   },
   {
    "duration": 22,
    "start_time": "2021-12-08T21:49:05.590Z"
   },
   {
    "duration": 9,
    "start_time": "2021-12-08T21:49:05.615Z"
   },
   {
    "duration": 8,
    "start_time": "2021-12-08T21:49:05.668Z"
   },
   {
    "duration": 32,
    "start_time": "2021-12-08T21:49:05.679Z"
   },
   {
    "duration": 10,
    "start_time": "2021-12-08T21:49:05.713Z"
   },
   {
    "duration": 10,
    "start_time": "2021-12-08T21:49:05.767Z"
   },
   {
    "duration": 17,
    "start_time": "2021-12-08T21:49:05.779Z"
   },
   {
    "duration": 19,
    "start_time": "2021-12-08T21:49:05.799Z"
   },
   {
    "duration": 47,
    "start_time": "2021-12-08T21:49:05.820Z"
   },
   {
    "duration": 30,
    "start_time": "2021-12-08T21:49:05.870Z"
   },
   {
    "duration": 11,
    "start_time": "2021-12-08T21:49:05.903Z"
   },
   {
    "duration": 1001,
    "start_time": "2021-12-08T21:49:05.917Z"
   },
   {
    "duration": 3106,
    "start_time": "2021-12-08T21:49:06.922Z"
   },
   {
    "duration": 10,
    "start_time": "2021-12-08T21:49:10.031Z"
   },
   {
    "duration": 48,
    "start_time": "2021-12-08T21:49:10.045Z"
   },
   {
    "duration": 33,
    "start_time": "2021-12-08T21:49:10.095Z"
   },
   {
    "duration": 41,
    "start_time": "2021-12-08T21:49:10.131Z"
   },
   {
    "duration": 7,
    "start_time": "2021-12-08T21:49:10.175Z"
   },
   {
    "duration": 37,
    "start_time": "2021-12-08T21:49:10.184Z"
   },
   {
    "duration": 43,
    "start_time": "2021-12-08T21:49:10.224Z"
   },
   {
    "duration": 6,
    "start_time": "2021-12-08T21:49:10.271Z"
   },
   {
    "duration": 37,
    "start_time": "2021-12-08T21:49:10.280Z"
   },
   {
    "duration": 49,
    "start_time": "2021-12-08T21:49:10.320Z"
   },
   {
    "duration": 17,
    "start_time": "2021-12-08T21:49:10.371Z"
   },
   {
    "duration": 25,
    "start_time": "2021-12-08T21:49:10.391Z"
   },
   {
    "duration": 2170,
    "start_time": "2021-12-08T21:49:10.418Z"
   },
   {
    "duration": 10,
    "start_time": "2021-12-08T21:49:12.590Z"
   },
   {
    "duration": 8,
    "start_time": "2021-12-08T21:49:12.602Z"
   },
   {
    "duration": 10,
    "start_time": "2021-12-08T21:49:12.613Z"
   },
   {
    "duration": 43,
    "start_time": "2021-12-08T21:49:12.626Z"
   },
   {
    "duration": 27,
    "start_time": "2021-12-08T21:49:12.672Z"
   },
   {
    "duration": 19,
    "start_time": "2021-12-08T21:49:12.701Z"
   },
   {
    "duration": 9,
    "start_time": "2021-12-08T21:49:12.722Z"
   },
   {
    "duration": 9,
    "start_time": "2021-12-08T21:49:12.768Z"
   },
   {
    "duration": 16,
    "start_time": "2021-12-08T21:49:12.780Z"
   },
   {
    "duration": 9,
    "start_time": "2021-12-08T21:49:12.799Z"
   },
   {
    "duration": 14,
    "start_time": "2021-12-08T21:49:12.810Z"
   },
   {
    "duration": 43,
    "start_time": "2021-12-08T21:49:12.826Z"
   },
   {
    "duration": 29,
    "start_time": "2021-12-08T21:49:12.872Z"
   },
   {
    "duration": 30,
    "start_time": "2021-12-08T21:49:12.903Z"
   },
   {
    "duration": 874,
    "start_time": "2021-12-08T21:56:24.282Z"
   },
   {
    "duration": 14,
    "start_time": "2021-12-08T21:56:25.159Z"
   },
   {
    "duration": 15,
    "start_time": "2021-12-08T21:56:25.177Z"
   },
   {
    "duration": 13,
    "start_time": "2021-12-08T21:56:25.196Z"
   },
   {
    "duration": 61,
    "start_time": "2021-12-08T21:56:25.212Z"
   },
   {
    "duration": 401,
    "start_time": "2021-12-08T21:56:25.275Z"
   },
   {
    "duration": 44,
    "start_time": "2021-12-08T21:56:25.639Z"
   },
   {
    "duration": 39,
    "start_time": "2021-12-08T21:56:25.646Z"
   },
   {
    "duration": 33,
    "start_time": "2021-12-08T21:56:25.653Z"
   },
   {
    "duration": 28,
    "start_time": "2021-12-08T21:56:25.660Z"
   },
   {
    "duration": 24,
    "start_time": "2021-12-08T21:56:25.665Z"
   },
   {
    "duration": 21,
    "start_time": "2021-12-08T21:56:25.669Z"
   },
   {
    "duration": 18,
    "start_time": "2021-12-08T21:56:25.673Z"
   },
   {
    "duration": 15,
    "start_time": "2021-12-08T21:56:25.677Z"
   },
   {
    "duration": 12,
    "start_time": "2021-12-08T21:56:25.681Z"
   },
   {
    "duration": 10,
    "start_time": "2021-12-08T21:56:25.685Z"
   },
   {
    "duration": 8,
    "start_time": "2021-12-08T21:56:25.688Z"
   },
   {
    "duration": 4,
    "start_time": "2021-12-08T21:56:25.693Z"
   },
   {
    "duration": 2,
    "start_time": "2021-12-08T21:56:25.697Z"
   },
   {
    "duration": -1,
    "start_time": "2021-12-08T21:56:25.701Z"
   },
   {
    "duration": -3,
    "start_time": "2021-12-08T21:56:25.704Z"
   },
   {
    "duration": -6,
    "start_time": "2021-12-08T21:56:25.708Z"
   },
   {
    "duration": -9,
    "start_time": "2021-12-08T21:56:25.712Z"
   },
   {
    "duration": -19,
    "start_time": "2021-12-08T21:56:25.724Z"
   },
   {
    "duration": -23,
    "start_time": "2021-12-08T21:56:25.729Z"
   },
   {
    "duration": -26,
    "start_time": "2021-12-08T21:56:25.733Z"
   },
   {
    "duration": -28,
    "start_time": "2021-12-08T21:56:25.736Z"
   },
   {
    "duration": -31,
    "start_time": "2021-12-08T21:56:25.740Z"
   },
   {
    "duration": -33,
    "start_time": "2021-12-08T21:56:25.744Z"
   },
   {
    "duration": -36,
    "start_time": "2021-12-08T21:56:25.748Z"
   },
   {
    "duration": -39,
    "start_time": "2021-12-08T21:56:25.752Z"
   },
   {
    "duration": -43,
    "start_time": "2021-12-08T21:56:25.757Z"
   },
   {
    "duration": -45,
    "start_time": "2021-12-08T21:56:25.761Z"
   },
   {
    "duration": -47,
    "start_time": "2021-12-08T21:56:25.764Z"
   },
   {
    "duration": -50,
    "start_time": "2021-12-08T21:56:25.768Z"
   },
   {
    "duration": -5,
    "start_time": "2021-12-08T21:56:25.772Z"
   },
   {
    "duration": -7,
    "start_time": "2021-12-08T21:56:25.776Z"
   },
   {
    "duration": -9,
    "start_time": "2021-12-08T21:56:25.779Z"
   },
   {
    "duration": -12,
    "start_time": "2021-12-08T21:56:25.783Z"
   },
   {
    "duration": -15,
    "start_time": "2021-12-08T21:56:25.787Z"
   },
   {
    "duration": -17,
    "start_time": "2021-12-08T21:56:25.791Z"
   },
   {
    "duration": -20,
    "start_time": "2021-12-08T21:56:25.795Z"
   },
   {
    "duration": -23,
    "start_time": "2021-12-08T21:56:25.799Z"
   },
   {
    "duration": -25,
    "start_time": "2021-12-08T21:56:25.803Z"
   },
   {
    "duration": -27,
    "start_time": "2021-12-08T21:56:25.806Z"
   },
   {
    "duration": -111,
    "start_time": "2021-12-08T21:56:25.891Z"
   },
   {
    "duration": -114,
    "start_time": "2021-12-08T21:56:25.895Z"
   },
   {
    "duration": -116,
    "start_time": "2021-12-08T21:56:25.899Z"
   },
   {
    "duration": -117,
    "start_time": "2021-12-08T21:56:25.902Z"
   },
   {
    "duration": -166,
    "start_time": "2021-12-08T21:56:25.952Z"
   },
   {
    "duration": -168,
    "start_time": "2021-12-08T21:56:25.955Z"
   },
   {
    "duration": -170,
    "start_time": "2021-12-08T21:56:25.959Z"
   },
   {
    "duration": -172,
    "start_time": "2021-12-08T21:56:25.962Z"
   },
   {
    "duration": -175,
    "start_time": "2021-12-08T21:56:25.966Z"
   },
   {
    "duration": -177,
    "start_time": "2021-12-08T21:56:25.970Z"
   },
   {
    "duration": -179,
    "start_time": "2021-12-08T21:56:25.973Z"
   },
   {
    "duration": -181,
    "start_time": "2021-12-08T21:56:25.976Z"
   },
   {
    "duration": -189,
    "start_time": "2021-12-08T21:56:25.986Z"
   },
   {
    "duration": -191,
    "start_time": "2021-12-08T21:56:25.989Z"
   },
   {
    "duration": -199,
    "start_time": "2021-12-08T21:56:25.998Z"
   },
   {
    "duration": -206,
    "start_time": "2021-12-08T21:56:26.006Z"
   },
   {
    "duration": -208,
    "start_time": "2021-12-08T21:56:26.010Z"
   },
   {
    "duration": -214,
    "start_time": "2021-12-08T21:56:26.017Z"
   },
   {
    "duration": -216,
    "start_time": "2021-12-08T21:56:26.020Z"
   },
   {
    "duration": -218,
    "start_time": "2021-12-08T21:56:26.023Z"
   },
   {
    "duration": -164,
    "start_time": "2021-12-08T21:56:26.030Z"
   },
   {
    "duration": -203,
    "start_time": "2021-12-08T21:56:26.071Z"
   },
   {
    "duration": -218,
    "start_time": "2021-12-08T21:56:26.087Z"
   },
   {
    "duration": -226,
    "start_time": "2021-12-08T21:56:26.096Z"
   },
   {
    "duration": -228,
    "start_time": "2021-12-08T21:56:26.100Z"
   },
   {
    "duration": -230,
    "start_time": "2021-12-08T21:56:26.103Z"
   },
   {
    "duration": 877,
    "start_time": "2021-12-08T21:57:14.293Z"
   },
   {
    "duration": 8,
    "start_time": "2021-12-08T21:57:15.174Z"
   },
   {
    "duration": 20,
    "start_time": "2021-12-08T21:57:15.186Z"
   },
   {
    "duration": 12,
    "start_time": "2021-12-08T21:57:15.208Z"
   },
   {
    "duration": 53,
    "start_time": "2021-12-08T21:57:15.223Z"
   },
   {
    "duration": 367,
    "start_time": "2021-12-08T21:57:15.279Z"
   },
   {
    "duration": 57,
    "start_time": "2021-12-08T21:57:15.595Z"
   },
   {
    "duration": 54,
    "start_time": "2021-12-08T21:57:15.600Z"
   },
   {
    "duration": 51,
    "start_time": "2021-12-08T21:57:15.604Z"
   },
   {
    "duration": 50,
    "start_time": "2021-12-08T21:57:15.607Z"
   },
   {
    "duration": 46,
    "start_time": "2021-12-08T21:57:15.612Z"
   },
   {
    "duration": 43,
    "start_time": "2021-12-08T21:57:15.616Z"
   },
   {
    "duration": 41,
    "start_time": "2021-12-08T21:57:15.620Z"
   },
   {
    "duration": 38,
    "start_time": "2021-12-08T21:57:15.624Z"
   },
   {
    "duration": 35,
    "start_time": "2021-12-08T21:57:15.628Z"
   },
   {
    "duration": 33,
    "start_time": "2021-12-08T21:57:15.632Z"
   },
   {
    "duration": 30,
    "start_time": "2021-12-08T21:57:15.636Z"
   },
   {
    "duration": 28,
    "start_time": "2021-12-08T21:57:15.640Z"
   },
   {
    "duration": 26,
    "start_time": "2021-12-08T21:57:15.643Z"
   },
   {
    "duration": 24,
    "start_time": "2021-12-08T21:57:15.647Z"
   },
   {
    "duration": 21,
    "start_time": "2021-12-08T21:57:15.651Z"
   },
   {
    "duration": 18,
    "start_time": "2021-12-08T21:57:15.655Z"
   },
   {
    "duration": 16,
    "start_time": "2021-12-08T21:57:15.659Z"
   },
   {
    "duration": 13,
    "start_time": "2021-12-08T21:57:15.663Z"
   },
   {
    "duration": 1,
    "start_time": "2021-12-08T21:57:15.677Z"
   },
   {
    "duration": -3,
    "start_time": "2021-12-08T21:57:15.682Z"
   },
   {
    "duration": -6,
    "start_time": "2021-12-08T21:57:15.686Z"
   },
   {
    "duration": -9,
    "start_time": "2021-12-08T21:57:15.691Z"
   },
   {
    "duration": -12,
    "start_time": "2021-12-08T21:57:15.696Z"
   },
   {
    "duration": -15,
    "start_time": "2021-12-08T21:57:15.700Z"
   },
   {
    "duration": -24,
    "start_time": "2021-12-08T21:57:15.711Z"
   },
   {
    "duration": -27,
    "start_time": "2021-12-08T21:57:15.715Z"
   },
   {
    "duration": -28,
    "start_time": "2021-12-08T21:57:15.718Z"
   },
   {
    "duration": -30,
    "start_time": "2021-12-08T21:57:15.721Z"
   },
   {
    "duration": -32,
    "start_time": "2021-12-08T21:57:15.725Z"
   },
   {
    "duration": -36,
    "start_time": "2021-12-08T21:57:15.730Z"
   },
   {
    "duration": -37,
    "start_time": "2021-12-08T21:57:15.733Z"
   },
   {
    "duration": -39,
    "start_time": "2021-12-08T21:57:15.736Z"
   },
   {
    "duration": -52,
    "start_time": "2021-12-08T21:57:15.751Z"
   },
   {
    "duration": -55,
    "start_time": "2021-12-08T21:57:15.755Z"
   },
   {
    "duration": -56,
    "start_time": "2021-12-08T21:57:15.758Z"
   },
   {
    "duration": -59,
    "start_time": "2021-12-08T21:57:15.762Z"
   },
   {
    "duration": -74,
    "start_time": "2021-12-08T21:57:15.779Z"
   },
   {
    "duration": -77,
    "start_time": "2021-12-08T21:57:15.783Z"
   },
   {
    "duration": -34,
    "start_time": "2021-12-08T21:57:15.801Z"
   },
   {
    "duration": -38,
    "start_time": "2021-12-08T21:57:15.806Z"
   },
   {
    "duration": -75,
    "start_time": "2021-12-08T21:57:15.844Z"
   },
   {
    "duration": -196,
    "start_time": "2021-12-08T21:57:15.967Z"
   },
   {
    "duration": -270,
    "start_time": "2021-12-08T21:57:16.042Z"
   },
   {
    "duration": -274,
    "start_time": "2021-12-08T21:57:16.047Z"
   },
   {
    "duration": -275,
    "start_time": "2021-12-08T21:57:16.050Z"
   },
   {
    "duration": -279,
    "start_time": "2021-12-08T21:57:16.055Z"
   },
   {
    "duration": -281,
    "start_time": "2021-12-08T21:57:16.058Z"
   },
   {
    "duration": -284,
    "start_time": "2021-12-08T21:57:16.062Z"
   },
   {
    "duration": -295,
    "start_time": "2021-12-08T21:57:16.075Z"
   },
   {
    "duration": -298,
    "start_time": "2021-12-08T21:57:16.079Z"
   },
   {
    "duration": -320,
    "start_time": "2021-12-08T21:57:16.102Z"
   },
   {
    "duration": -328,
    "start_time": "2021-12-08T21:57:16.112Z"
   },
   {
    "duration": -331,
    "start_time": "2021-12-08T21:57:16.116Z"
   },
   {
    "duration": -333,
    "start_time": "2021-12-08T21:57:16.119Z"
   },
   {
    "duration": -336,
    "start_time": "2021-12-08T21:57:16.123Z"
   },
   {
    "duration": -339,
    "start_time": "2021-12-08T21:57:16.127Z"
   },
   {
    "duration": -341,
    "start_time": "2021-12-08T21:57:16.130Z"
   },
   {
    "duration": -343,
    "start_time": "2021-12-08T21:57:16.134Z"
   },
   {
    "duration": -345,
    "start_time": "2021-12-08T21:57:16.137Z"
   },
   {
    "duration": -358,
    "start_time": "2021-12-08T21:57:16.151Z"
   },
   {
    "duration": -360,
    "start_time": "2021-12-08T21:57:16.154Z"
   },
   {
    "duration": -362,
    "start_time": "2021-12-08T21:57:16.158Z"
   },
   {
    "duration": -374,
    "start_time": "2021-12-08T21:57:16.171Z"
   },
   {
    "duration": -381,
    "start_time": "2021-12-08T21:57:16.179Z"
   },
   {
    "duration": -384,
    "start_time": "2021-12-08T21:57:16.183Z"
   },
   {
    "duration": 931,
    "start_time": "2021-12-08T21:57:43.844Z"
   },
   {
    "duration": 11,
    "start_time": "2021-12-08T21:57:44.778Z"
   },
   {
    "duration": 16,
    "start_time": "2021-12-08T21:57:44.793Z"
   },
   {
    "duration": 14,
    "start_time": "2021-12-08T21:57:44.813Z"
   },
   {
    "duration": 19,
    "start_time": "2021-12-08T21:57:44.868Z"
   },
   {
    "duration": 15,
    "start_time": "2021-12-08T21:57:44.889Z"
   },
   {
    "duration": 77,
    "start_time": "2021-12-08T21:57:44.907Z"
   },
   {
    "duration": 38,
    "start_time": "2021-12-08T21:57:44.989Z"
   },
   {
    "duration": 39,
    "start_time": "2021-12-08T21:57:45.030Z"
   },
   {
    "duration": 14,
    "start_time": "2021-12-08T21:57:45.071Z"
   },
   {
    "duration": 7,
    "start_time": "2021-12-08T21:57:45.087Z"
   },
   {
    "duration": 9,
    "start_time": "2021-12-08T21:57:45.096Z"
   },
   {
    "duration": 7,
    "start_time": "2021-12-08T21:57:45.107Z"
   },
   {
    "duration": 5,
    "start_time": "2021-12-08T21:57:45.116Z"
   },
   {
    "duration": 50,
    "start_time": "2021-12-08T21:57:45.123Z"
   },
   {
    "duration": 11,
    "start_time": "2021-12-08T21:57:45.175Z"
   },
   {
    "duration": 31,
    "start_time": "2021-12-08T21:57:45.188Z"
   },
   {
    "duration": 7,
    "start_time": "2021-12-08T21:57:45.222Z"
   },
   {
    "duration": 41,
    "start_time": "2021-12-08T21:57:45.231Z"
   },
   {
    "duration": 9,
    "start_time": "2021-12-08T21:57:45.274Z"
   },
   {
    "duration": 6,
    "start_time": "2021-12-08T21:57:45.285Z"
   },
   {
    "duration": 8,
    "start_time": "2021-12-08T21:57:45.293Z"
   },
   {
    "duration": 9,
    "start_time": "2021-12-08T21:57:45.308Z"
   },
   {
    "duration": 80,
    "start_time": "2021-12-08T21:57:45.320Z"
   },
   {
    "duration": 6,
    "start_time": "2021-12-08T21:57:45.403Z"
   },
   {
    "duration": 22,
    "start_time": "2021-12-08T21:57:45.411Z"
   },
   {
    "duration": 51,
    "start_time": "2021-12-08T21:57:45.435Z"
   },
   {
    "duration": 6,
    "start_time": "2021-12-08T21:57:45.488Z"
   },
   {
    "duration": 20,
    "start_time": "2021-12-08T21:57:45.497Z"
   },
   {
    "duration": 13,
    "start_time": "2021-12-08T21:57:45.520Z"
   },
   {
    "duration": 22,
    "start_time": "2021-12-08T21:57:45.535Z"
   },
   {
    "duration": 31,
    "start_time": "2021-12-08T21:57:45.560Z"
   },
   {
    "duration": 22,
    "start_time": "2021-12-08T21:57:45.594Z"
   },
   {
    "duration": 19,
    "start_time": "2021-12-08T21:57:45.619Z"
   },
   {
    "duration": 39,
    "start_time": "2021-12-08T21:57:45.641Z"
   },
   {
    "duration": 26,
    "start_time": "2021-12-08T21:57:45.682Z"
   },
   {
    "duration": 9,
    "start_time": "2021-12-08T21:57:45.711Z"
   },
   {
    "duration": 19,
    "start_time": "2021-12-08T21:57:45.723Z"
   },
   {
    "duration": 31,
    "start_time": "2021-12-08T21:57:45.745Z"
   },
   {
    "duration": 19,
    "start_time": "2021-12-08T21:57:45.778Z"
   },
   {
    "duration": 28,
    "start_time": "2021-12-08T21:57:45.800Z"
   },
   {
    "duration": 7,
    "start_time": "2021-12-08T21:57:45.831Z"
   },
   {
    "duration": 978,
    "start_time": "2021-12-08T21:57:45.841Z"
   },
   {
    "duration": 3159,
    "start_time": "2021-12-08T21:57:46.821Z"
   },
   {
    "duration": 10,
    "start_time": "2021-12-08T21:57:49.983Z"
   },
   {
    "duration": 38,
    "start_time": "2021-12-08T21:57:49.995Z"
   },
   {
    "duration": 55,
    "start_time": "2021-12-08T21:57:50.035Z"
   },
   {
    "duration": 13,
    "start_time": "2021-12-08T21:57:50.093Z"
   },
   {
    "duration": 9,
    "start_time": "2021-12-08T21:57:50.108Z"
   },
   {
    "duration": 57,
    "start_time": "2021-12-08T21:57:50.120Z"
   },
   {
    "duration": 10,
    "start_time": "2021-12-08T21:57:50.179Z"
   },
   {
    "duration": 11,
    "start_time": "2021-12-08T21:57:50.192Z"
   },
   {
    "duration": 61,
    "start_time": "2021-12-08T21:57:50.206Z"
   },
   {
    "duration": 11,
    "start_time": "2021-12-08T21:57:50.270Z"
   },
   {
    "duration": 9,
    "start_time": "2021-12-08T21:57:50.284Z"
   },
   {
    "duration": 10,
    "start_time": "2021-12-08T21:57:50.296Z"
   },
   {
    "duration": 2568,
    "start_time": "2021-12-08T21:57:50.308Z"
   },
   {
    "duration": 10,
    "start_time": "2021-12-08T21:57:52.879Z"
   },
   {
    "duration": 10,
    "start_time": "2021-12-08T21:57:52.891Z"
   },
   {
    "duration": 10,
    "start_time": "2021-12-08T21:57:52.904Z"
   },
   {
    "duration": 10,
    "start_time": "2021-12-08T21:57:52.917Z"
   },
   {
    "duration": 65,
    "start_time": "2021-12-08T21:57:52.929Z"
   },
   {
    "duration": 18,
    "start_time": "2021-12-08T21:57:52.996Z"
   },
   {
    "duration": 8,
    "start_time": "2021-12-08T21:57:53.016Z"
   },
   {
    "duration": 42,
    "start_time": "2021-12-08T21:57:53.026Z"
   },
   {
    "duration": 11,
    "start_time": "2021-12-08T21:57:53.071Z"
   },
   {
    "duration": 9,
    "start_time": "2021-12-08T21:57:53.085Z"
   },
   {
    "duration": 8,
    "start_time": "2021-12-08T21:57:53.102Z"
   },
   {
    "duration": 4,
    "start_time": "2021-12-08T21:57:53.113Z"
   },
   {
    "duration": 73,
    "start_time": "2021-12-08T21:57:53.119Z"
   },
   {
    "duration": 31,
    "start_time": "2021-12-08T21:57:53.195Z"
   },
   {
    "duration": 3,
    "start_time": "2021-12-08T22:01:59.427Z"
   },
   {
    "duration": 940,
    "start_time": "2021-12-08T22:23:19.001Z"
   },
   {
    "duration": 22,
    "start_time": "2021-12-08T22:23:19.944Z"
   },
   {
    "duration": 23,
    "start_time": "2021-12-08T22:23:19.970Z"
   },
   {
    "duration": 31,
    "start_time": "2021-12-08T22:23:19.996Z"
   },
   {
    "duration": 39,
    "start_time": "2021-12-08T22:23:20.030Z"
   },
   {
    "duration": 16,
    "start_time": "2021-12-08T22:23:20.071Z"
   },
   {
    "duration": 45,
    "start_time": "2021-12-08T22:23:20.091Z"
   },
   {
    "duration": 64,
    "start_time": "2021-12-08T22:23:20.139Z"
   },
   {
    "duration": 5,
    "start_time": "2021-12-08T22:23:20.206Z"
   },
   {
    "duration": 16,
    "start_time": "2021-12-08T22:23:20.214Z"
   },
   {
    "duration": 9,
    "start_time": "2021-12-08T22:23:20.232Z"
   },
   {
    "duration": 7,
    "start_time": "2021-12-08T22:23:20.268Z"
   },
   {
    "duration": 14,
    "start_time": "2021-12-08T22:23:20.277Z"
   },
   {
    "duration": 14,
    "start_time": "2021-12-08T22:23:20.294Z"
   },
   {
    "duration": 68,
    "start_time": "2021-12-08T22:23:20.310Z"
   },
   {
    "duration": 11,
    "start_time": "2021-12-08T22:23:20.381Z"
   },
   {
    "duration": 8,
    "start_time": "2021-12-08T22:23:20.395Z"
   },
   {
    "duration": 13,
    "start_time": "2021-12-08T22:23:20.406Z"
   },
   {
    "duration": 46,
    "start_time": "2021-12-08T22:23:20.422Z"
   },
   {
    "duration": 8,
    "start_time": "2021-12-08T22:23:20.471Z"
   },
   {
    "duration": 12,
    "start_time": "2021-12-08T22:23:20.482Z"
   },
   {
    "duration": 39,
    "start_time": "2021-12-08T22:23:20.496Z"
   },
   {
    "duration": 6,
    "start_time": "2021-12-08T22:23:20.571Z"
   },
   {
    "duration": 6,
    "start_time": "2021-12-08T22:23:20.580Z"
   },
   {
    "duration": 34,
    "start_time": "2021-12-08T22:23:20.588Z"
   },
   {
    "duration": 6,
    "start_time": "2021-12-08T22:23:20.624Z"
   },
   {
    "duration": 9,
    "start_time": "2021-12-08T22:23:20.668Z"
   },
   {
    "duration": 3,
    "start_time": "2021-12-08T22:23:20.681Z"
   },
   {
    "duration": 5,
    "start_time": "2021-12-08T22:23:20.688Z"
   },
   {
    "duration": 31,
    "start_time": "2021-12-08T22:23:20.696Z"
   },
   {
    "duration": 46,
    "start_time": "2021-12-08T22:23:20.730Z"
   },
   {
    "duration": 11,
    "start_time": "2021-12-08T22:23:20.780Z"
   },
   {
    "duration": 79,
    "start_time": "2021-12-08T22:23:20.794Z"
   },
   {
    "duration": 10,
    "start_time": "2021-12-08T22:23:20.876Z"
   },
   {
    "duration": 13,
    "start_time": "2021-12-08T22:23:20.889Z"
   },
   {
    "duration": 12,
    "start_time": "2021-12-08T22:23:20.905Z"
   },
   {
    "duration": 68,
    "start_time": "2021-12-08T22:23:20.920Z"
   },
   {
    "duration": 12,
    "start_time": "2021-12-08T22:23:20.991Z"
   },
   {
    "duration": 61,
    "start_time": "2021-12-08T22:23:21.006Z"
   },
   {
    "duration": 10,
    "start_time": "2021-12-08T22:23:21.070Z"
   },
   {
    "duration": 1005,
    "start_time": "2021-12-08T22:23:21.083Z"
   },
   {
    "duration": 3378,
    "start_time": "2021-12-08T22:23:22.091Z"
   },
   {
    "duration": 10,
    "start_time": "2021-12-08T22:23:25.471Z"
   },
   {
    "duration": 32,
    "start_time": "2021-12-08T22:23:25.483Z"
   },
   {
    "duration": 67,
    "start_time": "2021-12-08T22:23:25.517Z"
   },
   {
    "duration": 10,
    "start_time": "2021-12-08T22:23:25.586Z"
   },
   {
    "duration": 9,
    "start_time": "2021-12-08T22:23:25.598Z"
   },
   {
    "duration": 68,
    "start_time": "2021-12-08T22:23:25.610Z"
   },
   {
    "duration": 10,
    "start_time": "2021-12-08T22:23:25.681Z"
   },
   {
    "duration": 16,
    "start_time": "2021-12-08T22:23:25.693Z"
   },
   {
    "duration": 50,
    "start_time": "2021-12-08T22:23:25.712Z"
   },
   {
    "duration": 10,
    "start_time": "2021-12-08T22:23:25.767Z"
   },
   {
    "duration": 19,
    "start_time": "2021-12-08T22:23:25.780Z"
   },
   {
    "duration": 19,
    "start_time": "2021-12-08T22:23:25.802Z"
   },
   {
    "duration": 2563,
    "start_time": "2021-12-08T22:23:25.824Z"
   },
   {
    "duration": 9,
    "start_time": "2021-12-08T22:23:28.389Z"
   },
   {
    "duration": 16,
    "start_time": "2021-12-08T22:23:28.400Z"
   },
   {
    "duration": 12,
    "start_time": "2021-12-08T22:23:28.418Z"
   },
   {
    "duration": 12,
    "start_time": "2021-12-08T22:23:28.432Z"
   },
   {
    "duration": 58,
    "start_time": "2021-12-08T22:23:28.445Z"
   },
   {
    "duration": 10,
    "start_time": "2021-12-08T22:23:28.505Z"
   },
   {
    "duration": 7,
    "start_time": "2021-12-08T22:23:28.517Z"
   },
   {
    "duration": 62,
    "start_time": "2021-12-08T22:23:28.527Z"
   },
   {
    "duration": 15,
    "start_time": "2021-12-08T22:23:28.592Z"
   },
   {
    "duration": 8,
    "start_time": "2021-12-08T22:23:28.610Z"
   },
   {
    "duration": 48,
    "start_time": "2021-12-08T22:23:28.621Z"
   },
   {
    "duration": 12,
    "start_time": "2021-12-08T22:23:28.672Z"
   },
   {
    "duration": 10,
    "start_time": "2021-12-08T22:23:28.694Z"
   },
   {
    "duration": 9,
    "start_time": "2021-12-08T22:23:28.707Z"
   },
   {
    "duration": 51,
    "start_time": "2021-12-08T22:23:28.718Z"
   },
   {
    "duration": 46,
    "start_time": "2021-12-08T22:23:28.772Z"
   },
   {
    "duration": 65,
    "start_time": "2021-12-08T22:23:28.821Z"
   },
   {
    "duration": 39,
    "start_time": "2021-12-08T22:23:28.889Z"
   },
   {
    "duration": 871,
    "start_time": "2021-12-08T22:27:37.006Z"
   },
   {
    "duration": 9,
    "start_time": "2021-12-08T22:27:37.881Z"
   },
   {
    "duration": 15,
    "start_time": "2021-12-08T22:27:37.894Z"
   },
   {
    "duration": 55,
    "start_time": "2021-12-08T22:27:37.912Z"
   },
   {
    "duration": 18,
    "start_time": "2021-12-08T22:27:37.969Z"
   },
   {
    "duration": 14,
    "start_time": "2021-12-08T22:27:37.989Z"
   },
   {
    "duration": 65,
    "start_time": "2021-12-08T22:27:38.005Z"
   },
   {
    "duration": 39,
    "start_time": "2021-12-08T22:27:38.074Z"
   },
   {
    "duration": 6,
    "start_time": "2021-12-08T22:27:38.116Z"
   },
   {
    "duration": 41,
    "start_time": "2021-12-08T22:27:38.125Z"
   },
   {
    "duration": 6,
    "start_time": "2021-12-08T22:27:38.169Z"
   },
   {
    "duration": 8,
    "start_time": "2021-12-08T22:27:38.177Z"
   },
   {
    "duration": 9,
    "start_time": "2021-12-08T22:27:38.188Z"
   },
   {
    "duration": 10,
    "start_time": "2021-12-08T22:27:38.200Z"
   },
   {
    "duration": 74,
    "start_time": "2021-12-08T22:27:38.213Z"
   },
   {
    "duration": 8,
    "start_time": "2021-12-08T22:27:38.289Z"
   },
   {
    "duration": 19,
    "start_time": "2021-12-08T22:27:38.300Z"
   },
   {
    "duration": 16,
    "start_time": "2021-12-08T22:27:38.321Z"
   },
   {
    "duration": 28,
    "start_time": "2021-12-08T22:27:38.340Z"
   },
   {
    "duration": 7,
    "start_time": "2021-12-08T22:27:38.371Z"
   },
   {
    "duration": 14,
    "start_time": "2021-12-08T22:27:38.381Z"
   },
   {
    "duration": 36,
    "start_time": "2021-12-08T22:27:38.397Z"
   },
   {
    "duration": 7,
    "start_time": "2021-12-08T22:27:38.471Z"
   },
   {
    "duration": 6,
    "start_time": "2021-12-08T22:27:38.484Z"
   },
   {
    "duration": 36,
    "start_time": "2021-12-08T22:27:38.493Z"
   },
   {
    "duration": 7,
    "start_time": "2021-12-08T22:27:38.568Z"
   },
   {
    "duration": 11,
    "start_time": "2021-12-08T22:27:38.578Z"
   },
   {
    "duration": 3,
    "start_time": "2021-12-08T22:27:38.592Z"
   },
   {
    "duration": 5,
    "start_time": "2021-12-08T22:27:38.598Z"
   },
   {
    "duration": 62,
    "start_time": "2021-12-08T22:27:38.606Z"
   },
   {
    "duration": 11,
    "start_time": "2021-12-08T22:27:38.670Z"
   },
   {
    "duration": 12,
    "start_time": "2021-12-08T22:27:38.684Z"
   },
   {
    "duration": 71,
    "start_time": "2021-12-08T22:27:38.699Z"
   },
   {
    "duration": 12,
    "start_time": "2021-12-08T22:27:38.773Z"
   },
   {
    "duration": 13,
    "start_time": "2021-12-08T22:27:38.789Z"
   },
   {
    "duration": 9,
    "start_time": "2021-12-08T22:27:38.805Z"
   },
   {
    "duration": 53,
    "start_time": "2021-12-08T22:27:38.816Z"
   },
   {
    "duration": 10,
    "start_time": "2021-12-08T22:27:38.872Z"
   },
   {
    "duration": 27,
    "start_time": "2021-12-08T22:27:38.885Z"
   },
   {
    "duration": 7,
    "start_time": "2021-12-08T22:27:38.915Z"
   },
   {
    "duration": 1002,
    "start_time": "2021-12-08T22:27:38.925Z"
   },
   {
    "duration": 3354,
    "start_time": "2021-12-08T22:27:39.931Z"
   },
   {
    "duration": 10,
    "start_time": "2021-12-08T22:27:43.288Z"
   },
   {
    "duration": 39,
    "start_time": "2021-12-08T22:27:43.301Z"
   },
   {
    "duration": 52,
    "start_time": "2021-12-08T22:27:43.367Z"
   },
   {
    "duration": 11,
    "start_time": "2021-12-08T22:27:43.422Z"
   },
   {
    "duration": 32,
    "start_time": "2021-12-08T22:27:43.435Z"
   },
   {
    "duration": 37,
    "start_time": "2021-12-08T22:27:43.469Z"
   },
   {
    "duration": 11,
    "start_time": "2021-12-08T22:27:43.508Z"
   },
   {
    "duration": 26,
    "start_time": "2021-12-08T22:27:43.521Z"
   },
   {
    "duration": 45,
    "start_time": "2021-12-08T22:27:43.550Z"
   },
   {
    "duration": 41,
    "start_time": "2021-12-08T22:27:43.598Z"
   },
   {
    "duration": 22,
    "start_time": "2021-12-08T22:27:43.642Z"
   },
   {
    "duration": 34,
    "start_time": "2021-12-08T22:27:43.666Z"
   },
   {
    "duration": 2617,
    "start_time": "2021-12-08T22:27:43.703Z"
   },
   {
    "duration": 10,
    "start_time": "2021-12-08T22:27:46.322Z"
   },
   {
    "duration": 25,
    "start_time": "2021-12-08T22:27:46.335Z"
   },
   {
    "duration": 25,
    "start_time": "2021-12-08T22:27:46.364Z"
   },
   {
    "duration": 35,
    "start_time": "2021-12-08T22:27:46.392Z"
   },
   {
    "duration": 62,
    "start_time": "2021-12-08T22:27:46.430Z"
   },
   {
    "duration": 12,
    "start_time": "2021-12-08T22:27:46.495Z"
   },
   {
    "duration": 15,
    "start_time": "2021-12-08T22:27:46.510Z"
   },
   {
    "duration": 50,
    "start_time": "2021-12-08T22:27:46.527Z"
   },
   {
    "duration": 30,
    "start_time": "2021-12-08T22:27:46.580Z"
   },
   {
    "duration": 8,
    "start_time": "2021-12-08T22:27:46.614Z"
   },
   {
    "duration": 35,
    "start_time": "2021-12-08T22:27:46.625Z"
   },
   {
    "duration": 33,
    "start_time": "2021-12-08T22:27:46.663Z"
   },
   {
    "duration": 17,
    "start_time": "2021-12-08T22:27:46.703Z"
   },
   {
    "duration": 9,
    "start_time": "2021-12-08T22:27:46.723Z"
   },
   {
    "duration": 24,
    "start_time": "2021-12-08T22:27:46.734Z"
   },
   {
    "duration": 48,
    "start_time": "2021-12-08T22:27:46.761Z"
   },
   {
    "duration": 31,
    "start_time": "2021-12-08T22:27:46.811Z"
   },
   {
    "duration": 38,
    "start_time": "2021-12-08T22:27:46.845Z"
   },
   {
    "duration": 879,
    "start_time": "2021-12-08T22:41:54.991Z"
   },
   {
    "duration": 8,
    "start_time": "2021-12-08T22:41:55.872Z"
   },
   {
    "duration": 32,
    "start_time": "2021-12-08T22:41:55.883Z"
   },
   {
    "duration": 16,
    "start_time": "2021-12-08T22:41:55.918Z"
   },
   {
    "duration": 32,
    "start_time": "2021-12-08T22:41:55.937Z"
   },
   {
    "duration": 13,
    "start_time": "2021-12-08T22:41:55.971Z"
   },
   {
    "duration": 42,
    "start_time": "2021-12-08T22:41:55.987Z"
   },
   {
    "duration": 63,
    "start_time": "2021-12-08T22:41:56.033Z"
   },
   {
    "duration": 6,
    "start_time": "2021-12-08T22:41:56.099Z"
   },
   {
    "duration": 6,
    "start_time": "2021-12-08T22:41:56.108Z"
   },
   {
    "duration": 6,
    "start_time": "2021-12-08T22:41:56.116Z"
   },
   {
    "duration": 45,
    "start_time": "2021-12-08T22:41:56.124Z"
   },
   {
    "duration": 8,
    "start_time": "2021-12-08T22:41:56.171Z"
   },
   {
    "duration": 13,
    "start_time": "2021-12-08T22:41:56.182Z"
   },
   {
    "duration": 33,
    "start_time": "2021-12-08T22:41:56.197Z"
   },
   {
    "duration": 7,
    "start_time": "2021-12-08T22:41:56.268Z"
   },
   {
    "duration": 6,
    "start_time": "2021-12-08T22:41:56.277Z"
   },
   {
    "duration": 9,
    "start_time": "2021-12-08T22:41:56.285Z"
   },
   {
    "duration": 6,
    "start_time": "2021-12-08T22:41:56.296Z"
   },
   {
    "duration": 7,
    "start_time": "2021-12-08T22:41:56.304Z"
   },
   {
    "duration": 56,
    "start_time": "2021-12-08T22:41:56.314Z"
   },
   {
    "duration": 38,
    "start_time": "2021-12-08T22:41:56.372Z"
   },
   {
    "duration": 7,
    "start_time": "2021-12-08T22:41:56.416Z"
   },
   {
    "duration": 5,
    "start_time": "2021-12-08T22:41:56.427Z"
   },
   {
    "duration": 34,
    "start_time": "2021-12-08T22:41:56.468Z"
   },
   {
    "duration": 6,
    "start_time": "2021-12-08T22:41:56.505Z"
   },
   {
    "duration": 9,
    "start_time": "2021-12-08T22:41:56.513Z"
   },
   {
    "duration": 42,
    "start_time": "2021-12-08T22:41:56.525Z"
   },
   {
    "duration": 10,
    "start_time": "2021-12-08T22:41:56.570Z"
   },
   {
    "duration": 25,
    "start_time": "2021-12-08T22:41:56.582Z"
   },
   {
    "duration": 10,
    "start_time": "2021-12-08T22:41:56.610Z"
   },
   {
    "duration": 11,
    "start_time": "2021-12-08T22:41:56.623Z"
   },
   {
    "duration": 58,
    "start_time": "2021-12-08T22:41:56.636Z"
   },
   {
    "duration": 7,
    "start_time": "2021-12-08T22:41:56.696Z"
   },
   {
    "duration": 13,
    "start_time": "2021-12-08T22:41:56.706Z"
   },
   {
    "duration": 50,
    "start_time": "2021-12-08T22:41:56.722Z"
   },
   {
    "duration": 16,
    "start_time": "2021-12-08T22:41:56.774Z"
   },
   {
    "duration": 10,
    "start_time": "2021-12-08T22:41:56.792Z"
   },
   {
    "duration": 27,
    "start_time": "2021-12-08T22:41:56.804Z"
   },
   {
    "duration": 37,
    "start_time": "2021-12-08T22:41:56.833Z"
   },
   {
    "duration": 1077,
    "start_time": "2021-12-08T22:41:56.872Z"
   },
   {
    "duration": 3082,
    "start_time": "2021-12-08T22:41:57.953Z"
   },
   {
    "duration": 10,
    "start_time": "2021-12-08T22:42:01.038Z"
   },
   {
    "duration": 26,
    "start_time": "2021-12-08T22:42:01.067Z"
   },
   {
    "duration": 36,
    "start_time": "2021-12-08T22:42:01.095Z"
   },
   {
    "duration": 39,
    "start_time": "2021-12-08T22:42:01.134Z"
   },
   {
    "duration": 15,
    "start_time": "2021-12-08T22:42:01.175Z"
   },
   {
    "duration": 51,
    "start_time": "2021-12-08T22:42:01.193Z"
   },
   {
    "duration": 10,
    "start_time": "2021-12-08T22:42:01.247Z"
   },
   {
    "duration": 12,
    "start_time": "2021-12-08T22:42:01.259Z"
   },
   {
    "duration": 54,
    "start_time": "2021-12-08T22:42:01.273Z"
   },
   {
    "duration": 17,
    "start_time": "2021-12-08T22:42:01.329Z"
   },
   {
    "duration": 46,
    "start_time": "2021-12-08T22:42:01.349Z"
   },
   {
    "duration": 22,
    "start_time": "2021-12-08T22:42:01.398Z"
   },
   {
    "duration": 2568,
    "start_time": "2021-12-08T22:42:01.423Z"
   },
   {
    "duration": 11,
    "start_time": "2021-12-08T22:42:03.995Z"
   },
   {
    "duration": 7,
    "start_time": "2021-12-08T22:42:04.008Z"
   },
   {
    "duration": 10,
    "start_time": "2021-12-08T22:42:04.017Z"
   },
   {
    "duration": 9,
    "start_time": "2021-12-08T22:42:04.029Z"
   },
   {
    "duration": 37,
    "start_time": "2021-12-08T22:42:04.068Z"
   },
   {
    "duration": 9,
    "start_time": "2021-12-08T22:42:04.107Z"
   },
   {
    "duration": 7,
    "start_time": "2021-12-08T22:42:04.118Z"
   },
   {
    "duration": 60,
    "start_time": "2021-12-08T22:42:04.128Z"
   },
   {
    "duration": 17,
    "start_time": "2021-12-08T22:42:04.190Z"
   },
   {
    "duration": 7,
    "start_time": "2021-12-08T22:42:04.209Z"
   },
   {
    "duration": 10,
    "start_time": "2021-12-08T22:42:04.219Z"
   },
   {
    "duration": 9,
    "start_time": "2021-12-08T22:42:04.267Z"
   },
   {
    "duration": 10,
    "start_time": "2021-12-08T22:42:04.284Z"
   },
   {
    "duration": 9,
    "start_time": "2021-12-08T22:42:04.297Z"
   },
   {
    "duration": 9,
    "start_time": "2021-12-08T22:42:04.308Z"
   },
   {
    "duration": 72,
    "start_time": "2021-12-08T22:42:04.319Z"
   },
   {
    "duration": 30,
    "start_time": "2021-12-08T22:42:04.394Z"
   },
   {
    "duration": 49,
    "start_time": "2021-12-08T22:42:04.426Z"
   },
   {
    "duration": 937,
    "start_time": "2021-12-08T22:48:15.165Z"
   },
   {
    "duration": 9,
    "start_time": "2021-12-08T22:48:16.105Z"
   },
   {
    "duration": 16,
    "start_time": "2021-12-08T22:48:16.117Z"
   },
   {
    "duration": 38,
    "start_time": "2021-12-08T22:48:16.136Z"
   },
   {
    "duration": 15,
    "start_time": "2021-12-08T22:48:16.177Z"
   },
   {
    "duration": 13,
    "start_time": "2021-12-08T22:48:16.195Z"
   },
   {
    "duration": 77,
    "start_time": "2021-12-08T22:48:16.211Z"
   },
   {
    "duration": 40,
    "start_time": "2021-12-08T22:48:16.292Z"
   },
   {
    "duration": 6,
    "start_time": "2021-12-08T22:48:16.335Z"
   },
   {
    "duration": 6,
    "start_time": "2021-12-08T22:48:16.367Z"
   },
   {
    "duration": 9,
    "start_time": "2021-12-08T22:48:16.375Z"
   },
   {
    "duration": 6,
    "start_time": "2021-12-08T22:48:16.386Z"
   },
   {
    "duration": 9,
    "start_time": "2021-12-08T22:48:16.395Z"
   },
   {
    "duration": 464,
    "start_time": "2021-12-08T22:48:16.407Z"
   },
   {
    "duration": 61,
    "start_time": "2021-12-08T22:48:16.815Z"
   },
   {
    "duration": 58,
    "start_time": "2021-12-08T22:48:16.820Z"
   },
   {
    "duration": 55,
    "start_time": "2021-12-08T22:48:16.824Z"
   },
   {
    "duration": 51,
    "start_time": "2021-12-08T22:48:16.830Z"
   },
   {
    "duration": 38,
    "start_time": "2021-12-08T22:48:16.844Z"
   },
   {
    "duration": 34,
    "start_time": "2021-12-08T22:48:16.850Z"
   },
   {
    "duration": 31,
    "start_time": "2021-12-08T22:48:16.854Z"
   },
   {
    "duration": 28,
    "start_time": "2021-12-08T22:48:16.859Z"
   },
   {
    "duration": 25,
    "start_time": "2021-12-08T22:48:16.863Z"
   },
   {
    "duration": 22,
    "start_time": "2021-12-08T22:48:16.868Z"
   },
   {
    "duration": 17,
    "start_time": "2021-12-08T22:48:16.874Z"
   },
   {
    "duration": 14,
    "start_time": "2021-12-08T22:48:16.879Z"
   },
   {
    "duration": 12,
    "start_time": "2021-12-08T22:48:16.883Z"
   },
   {
    "duration": 10,
    "start_time": "2021-12-08T22:48:16.886Z"
   },
   {
    "duration": 6,
    "start_time": "2021-12-08T22:48:16.891Z"
   },
   {
    "duration": 4,
    "start_time": "2021-12-08T22:48:16.895Z"
   },
   {
    "duration": 1,
    "start_time": "2021-12-08T22:48:16.899Z"
   },
   {
    "duration": -10,
    "start_time": "2021-12-08T22:48:16.911Z"
   },
   {
    "duration": -14,
    "start_time": "2021-12-08T22:48:16.917Z"
   },
   {
    "duration": -16,
    "start_time": "2021-12-08T22:48:16.920Z"
   },
   {
    "duration": -19,
    "start_time": "2021-12-08T22:48:16.924Z"
   },
   {
    "duration": -21,
    "start_time": "2021-12-08T22:48:16.928Z"
   },
   {
    "duration": -24,
    "start_time": "2021-12-08T22:48:16.932Z"
   },
   {
    "duration": -26,
    "start_time": "2021-12-08T22:48:16.935Z"
   },
   {
    "duration": -30,
    "start_time": "2021-12-08T22:48:16.940Z"
   },
   {
    "duration": -31,
    "start_time": "2021-12-08T22:48:16.943Z"
   },
   {
    "duration": -34,
    "start_time": "2021-12-08T22:48:16.947Z"
   },
   {
    "duration": -36,
    "start_time": "2021-12-08T22:48:16.950Z"
   },
   {
    "duration": 13,
    "start_time": "2021-12-08T22:48:16.954Z"
   },
   {
    "duration": 11,
    "start_time": "2021-12-08T22:48:16.958Z"
   },
   {
    "duration": 8,
    "start_time": "2021-12-08T22:48:16.962Z"
   },
   {
    "duration": 5,
    "start_time": "2021-12-08T22:48:16.966Z"
   },
   {
    "duration": 3,
    "start_time": "2021-12-08T22:48:16.970Z"
   },
   {
    "duration": 0,
    "start_time": "2021-12-08T22:48:16.974Z"
   },
   {
    "duration": -3,
    "start_time": "2021-12-08T22:48:16.978Z"
   },
   {
    "duration": -5,
    "start_time": "2021-12-08T22:48:16.982Z"
   },
   {
    "duration": -129,
    "start_time": "2021-12-08T22:48:17.107Z"
   },
   {
    "duration": -138,
    "start_time": "2021-12-08T22:48:17.117Z"
   },
   {
    "duration": -139,
    "start_time": "2021-12-08T22:48:17.120Z"
   },
   {
    "duration": -152,
    "start_time": "2021-12-08T22:48:17.134Z"
   },
   {
    "duration": -154,
    "start_time": "2021-12-08T22:48:17.137Z"
   },
   {
    "duration": -155,
    "start_time": "2021-12-08T22:48:17.140Z"
   },
   {
    "duration": -158,
    "start_time": "2021-12-08T22:48:17.144Z"
   },
   {
    "duration": -168,
    "start_time": "2021-12-08T22:48:17.156Z"
   },
   {
    "duration": -179,
    "start_time": "2021-12-08T22:48:17.168Z"
   },
   {
    "duration": -180,
    "start_time": "2021-12-08T22:48:17.171Z"
   },
   {
    "duration": -189,
    "start_time": "2021-12-08T22:48:17.181Z"
   },
   {
    "duration": -191,
    "start_time": "2021-12-08T22:48:17.184Z"
   },
   {
    "duration": -195,
    "start_time": "2021-12-08T22:48:17.190Z"
   },
   {
    "duration": -198,
    "start_time": "2021-12-08T22:48:17.194Z"
   },
   {
    "duration": -247,
    "start_time": "2021-12-08T22:48:17.245Z"
   },
   {
    "duration": -281,
    "start_time": "2021-12-08T22:48:17.280Z"
   },
   {
    "duration": -340,
    "start_time": "2021-12-08T22:48:17.340Z"
   },
   {
    "duration": -344,
    "start_time": "2021-12-08T22:48:17.346Z"
   },
   {
    "duration": -282,
    "start_time": "2021-12-08T22:48:17.349Z"
   },
   {
    "duration": -286,
    "start_time": "2021-12-08T22:48:17.354Z"
   },
   {
    "duration": -287,
    "start_time": "2021-12-08T22:48:17.357Z"
   },
   {
    "duration": -289,
    "start_time": "2021-12-08T22:48:17.360Z"
   },
   {
    "duration": -292,
    "start_time": "2021-12-08T22:48:17.365Z"
   },
   {
    "duration": -295,
    "start_time": "2021-12-08T22:48:17.369Z"
   },
   {
    "duration": 941,
    "start_time": "2021-12-08T22:49:57.181Z"
   },
   {
    "duration": 11,
    "start_time": "2021-12-08T22:49:58.125Z"
   },
   {
    "duration": 38,
    "start_time": "2021-12-08T22:49:58.139Z"
   },
   {
    "duration": 12,
    "start_time": "2021-12-08T22:49:58.180Z"
   },
   {
    "duration": 16,
    "start_time": "2021-12-08T22:49:58.195Z"
   },
   {
    "duration": 12,
    "start_time": "2021-12-08T22:49:58.214Z"
   },
   {
    "duration": 83,
    "start_time": "2021-12-08T22:49:58.229Z"
   },
   {
    "duration": 60,
    "start_time": "2021-12-08T22:49:58.317Z"
   },
   {
    "duration": 7,
    "start_time": "2021-12-08T22:49:58.382Z"
   },
   {
    "duration": 6,
    "start_time": "2021-12-08T22:49:58.392Z"
   },
   {
    "duration": 7,
    "start_time": "2021-12-08T22:49:58.400Z"
   },
   {
    "duration": 10,
    "start_time": "2021-12-08T22:49:58.409Z"
   },
   {
    "duration": 48,
    "start_time": "2021-12-08T22:49:58.421Z"
   },
   {
    "duration": 391,
    "start_time": "2021-12-08T22:49:58.472Z"
   },
   {
    "duration": 47,
    "start_time": "2021-12-08T22:49:58.822Z"
   },
   {
    "duration": 44,
    "start_time": "2021-12-08T22:49:58.827Z"
   },
   {
    "duration": 41,
    "start_time": "2021-12-08T22:49:58.833Z"
   },
   {
    "duration": 39,
    "start_time": "2021-12-08T22:49:58.837Z"
   },
   {
    "duration": 36,
    "start_time": "2021-12-08T22:49:58.842Z"
   },
   {
    "duration": 33,
    "start_time": "2021-12-08T22:49:58.847Z"
   },
   {
    "duration": 30,
    "start_time": "2021-12-08T22:49:58.852Z"
   },
   {
    "duration": 29,
    "start_time": "2021-12-08T22:49:58.856Z"
   },
   {
    "duration": 26,
    "start_time": "2021-12-08T22:49:58.861Z"
   },
   {
    "duration": 24,
    "start_time": "2021-12-08T22:49:58.865Z"
   },
   {
    "duration": 21,
    "start_time": "2021-12-08T22:49:58.870Z"
   },
   {
    "duration": 18,
    "start_time": "2021-12-08T22:49:58.875Z"
   },
   {
    "duration": 16,
    "start_time": "2021-12-08T22:49:58.879Z"
   },
   {
    "duration": 5,
    "start_time": "2021-12-08T22:49:58.892Z"
   },
   {
    "duration": 3,
    "start_time": "2021-12-08T22:49:58.897Z"
   },
   {
    "duration": 2,
    "start_time": "2021-12-08T22:49:58.900Z"
   },
   {
    "duration": 1,
    "start_time": "2021-12-08T22:49:58.903Z"
   },
   {
    "duration": -1,
    "start_time": "2021-12-08T22:49:58.907Z"
   },
   {
    "duration": 56,
    "start_time": "2021-12-08T22:49:58.911Z"
   },
   {
    "duration": 54,
    "start_time": "2021-12-08T22:49:58.915Z"
   },
   {
    "duration": 53,
    "start_time": "2021-12-08T22:49:58.918Z"
   },
   {
    "duration": 52,
    "start_time": "2021-12-08T22:49:58.922Z"
   },
   {
    "duration": 51,
    "start_time": "2021-12-08T22:49:58.925Z"
   },
   {
    "duration": 49,
    "start_time": "2021-12-08T22:49:58.929Z"
   },
   {
    "duration": 40,
    "start_time": "2021-12-08T22:49:58.940Z"
   },
   {
    "duration": -230,
    "start_time": "2021-12-08T22:49:59.212Z"
   },
   {
    "duration": -346,
    "start_time": "2021-12-08T22:49:59.330Z"
   },
   {
    "duration": -380,
    "start_time": "2021-12-08T22:49:59.366Z"
   },
   {
    "duration": -382,
    "start_time": "2021-12-08T22:49:59.370Z"
   },
   {
    "duration": -383,
    "start_time": "2021-12-08T22:49:59.373Z"
   },
   {
    "duration": -385,
    "start_time": "2021-12-08T22:49:59.377Z"
   },
   {
    "duration": -388,
    "start_time": "2021-12-08T22:49:59.382Z"
   },
   {
    "duration": -389,
    "start_time": "2021-12-08T22:49:59.385Z"
   },
   {
    "duration": -390,
    "start_time": "2021-12-08T22:49:59.388Z"
   },
   {
    "duration": -390,
    "start_time": "2021-12-08T22:49:59.391Z"
   },
   {
    "duration": -393,
    "start_time": "2021-12-08T22:49:59.396Z"
   },
   {
    "duration": -394,
    "start_time": "2021-12-08T22:49:59.399Z"
   },
   {
    "duration": -397,
    "start_time": "2021-12-08T22:49:59.403Z"
   },
   {
    "duration": -399,
    "start_time": "2021-12-08T22:49:59.406Z"
   },
   {
    "duration": -403,
    "start_time": "2021-12-08T22:49:59.411Z"
   },
   {
    "duration": -406,
    "start_time": "2021-12-08T22:49:59.415Z"
   },
   {
    "duration": -351,
    "start_time": "2021-12-08T22:49:59.418Z"
   },
   {
    "duration": -351,
    "start_time": "2021-12-08T22:49:59.421Z"
   },
   {
    "duration": -353,
    "start_time": "2021-12-08T22:49:59.425Z"
   },
   {
    "duration": -354,
    "start_time": "2021-12-08T22:49:59.429Z"
   },
   {
    "duration": -355,
    "start_time": "2021-12-08T22:49:59.432Z"
   },
   {
    "duration": -357,
    "start_time": "2021-12-08T22:49:59.436Z"
   },
   {
    "duration": -358,
    "start_time": "2021-12-08T22:49:59.439Z"
   },
   {
    "duration": -359,
    "start_time": "2021-12-08T22:49:59.442Z"
   },
   {
    "duration": -362,
    "start_time": "2021-12-08T22:49:59.447Z"
   },
   {
    "duration": -363,
    "start_time": "2021-12-08T22:49:59.450Z"
   },
   {
    "duration": -365,
    "start_time": "2021-12-08T22:49:59.454Z"
   },
   {
    "duration": -366,
    "start_time": "2021-12-08T22:49:59.457Z"
   },
   {
    "duration": -368,
    "start_time": "2021-12-08T22:49:59.461Z"
   },
   {
    "duration": -379,
    "start_time": "2021-12-08T22:49:59.474Z"
   },
   {
    "duration": -381,
    "start_time": "2021-12-08T22:49:59.478Z"
   },
   {
    "duration": -383,
    "start_time": "2021-12-08T22:49:59.482Z"
   },
   {
    "duration": -385,
    "start_time": "2021-12-08T22:49:59.486Z"
   },
   {
    "duration": -386,
    "start_time": "2021-12-08T22:49:59.489Z"
   },
   {
    "duration": -325,
    "start_time": "2021-12-08T22:49:59.493Z"
   },
   {
    "duration": 909,
    "start_time": "2021-12-08T22:52:44.752Z"
   },
   {
    "duration": 8,
    "start_time": "2021-12-08T22:52:45.667Z"
   },
   {
    "duration": 27,
    "start_time": "2021-12-08T22:52:45.681Z"
   },
   {
    "duration": 21,
    "start_time": "2021-12-08T22:52:45.710Z"
   },
   {
    "duration": 35,
    "start_time": "2021-12-08T22:52:45.733Z"
   },
   {
    "duration": 14,
    "start_time": "2021-12-08T22:52:45.770Z"
   },
   {
    "duration": 45,
    "start_time": "2021-12-08T22:52:45.788Z"
   },
   {
    "duration": 58,
    "start_time": "2021-12-08T22:52:45.836Z"
   },
   {
    "duration": 7,
    "start_time": "2021-12-08T22:52:45.896Z"
   },
   {
    "duration": 10,
    "start_time": "2021-12-08T22:52:45.905Z"
   },
   {
    "duration": 12,
    "start_time": "2021-12-08T22:52:45.917Z"
   },
   {
    "duration": 38,
    "start_time": "2021-12-08T22:52:45.931Z"
   },
   {
    "duration": 10,
    "start_time": "2021-12-08T22:52:45.971Z"
   },
   {
    "duration": 470,
    "start_time": "2021-12-08T22:52:45.983Z"
   },
   {
    "duration": 36,
    "start_time": "2021-12-08T22:52:46.423Z"
   },
   {
    "duration": 21,
    "start_time": "2021-12-08T22:52:46.439Z"
   },
   {
    "duration": 15,
    "start_time": "2021-12-08T22:52:46.446Z"
   },
   {
    "duration": 12,
    "start_time": "2021-12-08T22:52:46.451Z"
   },
   {
    "duration": 7,
    "start_time": "2021-12-08T22:52:46.457Z"
   },
   {
    "duration": 2,
    "start_time": "2021-12-08T22:52:46.463Z"
   },
   {
    "duration": -3,
    "start_time": "2021-12-08T22:52:46.469Z"
   },
   {
    "duration": -7,
    "start_time": "2021-12-08T22:52:46.475Z"
   },
   {
    "duration": -12,
    "start_time": "2021-12-08T22:52:46.481Z"
   },
   {
    "duration": -15,
    "start_time": "2021-12-08T22:52:46.485Z"
   },
   {
    "duration": -18,
    "start_time": "2021-12-08T22:52:46.490Z"
   },
   {
    "duration": -21,
    "start_time": "2021-12-08T22:52:46.494Z"
   },
   {
    "duration": -24,
    "start_time": "2021-12-08T22:52:46.498Z"
   },
   {
    "duration": -25,
    "start_time": "2021-12-08T22:52:46.501Z"
   },
   {
    "duration": -28,
    "start_time": "2021-12-08T22:52:46.505Z"
   },
   {
    "duration": -30,
    "start_time": "2021-12-08T22:52:46.508Z"
   },
   {
    "duration": -32,
    "start_time": "2021-12-08T22:52:46.512Z"
   },
   {
    "duration": -34,
    "start_time": "2021-12-08T22:52:46.515Z"
   },
   {
    "duration": -36,
    "start_time": "2021-12-08T22:52:46.518Z"
   },
   {
    "duration": -38,
    "start_time": "2021-12-08T22:52:46.522Z"
   },
   {
    "duration": -40,
    "start_time": "2021-12-08T22:52:46.525Z"
   },
   {
    "duration": -42,
    "start_time": "2021-12-08T22:52:46.528Z"
   },
   {
    "duration": -45,
    "start_time": "2021-12-08T22:52:46.532Z"
   },
   {
    "duration": -56,
    "start_time": "2021-12-08T22:52:46.545Z"
   },
   {
    "duration": -60,
    "start_time": "2021-12-08T22:52:46.550Z"
   },
   {
    "duration": -61,
    "start_time": "2021-12-08T22:52:46.553Z"
   },
   {
    "duration": -63,
    "start_time": "2021-12-08T22:52:46.556Z"
   },
   {
    "duration": -67,
    "start_time": "2021-12-08T22:52:46.561Z"
   },
   {
    "duration": -70,
    "start_time": "2021-12-08T22:52:46.565Z"
   },
   {
    "duration": -72,
    "start_time": "2021-12-08T22:52:46.569Z"
   },
   {
    "duration": -75,
    "start_time": "2021-12-08T22:52:46.573Z"
   },
   {
    "duration": -78,
    "start_time": "2021-12-08T22:52:46.577Z"
   },
   {
    "duration": -80,
    "start_time": "2021-12-08T22:52:46.580Z"
   },
   {
    "duration": -83,
    "start_time": "2021-12-08T22:52:46.584Z"
   },
   {
    "duration": -84,
    "start_time": "2021-12-08T22:52:46.587Z"
   },
   {
    "duration": -87,
    "start_time": "2021-12-08T22:52:46.591Z"
   },
   {
    "duration": -90,
    "start_time": "2021-12-08T22:52:46.595Z"
   },
   {
    "duration": -93,
    "start_time": "2021-12-08T22:52:46.599Z"
   },
   {
    "duration": -94,
    "start_time": "2021-12-08T22:52:46.602Z"
   },
   {
    "duration": -37,
    "start_time": "2021-12-08T22:52:46.607Z"
   },
   {
    "duration": -38,
    "start_time": "2021-12-08T22:52:46.610Z"
   },
   {
    "duration": -42,
    "start_time": "2021-12-08T22:52:46.615Z"
   },
   {
    "duration": -44,
    "start_time": "2021-12-08T22:52:46.618Z"
   },
   {
    "duration": -47,
    "start_time": "2021-12-08T22:52:46.623Z"
   },
   {
    "duration": -109,
    "start_time": "2021-12-08T22:52:46.686Z"
   },
   {
    "duration": -110,
    "start_time": "2021-12-08T22:52:46.689Z"
   },
   {
    "duration": -119,
    "start_time": "2021-12-08T22:52:46.699Z"
   },
   {
    "duration": -121,
    "start_time": "2021-12-08T22:52:46.702Z"
   },
   {
    "duration": -123,
    "start_time": "2021-12-08T22:52:46.706Z"
   },
   {
    "duration": -126,
    "start_time": "2021-12-08T22:52:46.710Z"
   },
   {
    "duration": -129,
    "start_time": "2021-12-08T22:52:46.714Z"
   },
   {
    "duration": -134,
    "start_time": "2021-12-08T22:52:46.721Z"
   },
   {
    "duration": -136,
    "start_time": "2021-12-08T22:52:46.724Z"
   },
   {
    "duration": -139,
    "start_time": "2021-12-08T22:52:46.728Z"
   },
   {
    "duration": -141,
    "start_time": "2021-12-08T22:52:46.732Z"
   },
   {
    "duration": -145,
    "start_time": "2021-12-08T22:52:46.737Z"
   },
   {
    "duration": -155,
    "start_time": "2021-12-08T22:52:46.748Z"
   },
   {
    "duration": -156,
    "start_time": "2021-12-08T22:52:46.751Z"
   },
   {
    "duration": -159,
    "start_time": "2021-12-08T22:52:46.755Z"
   },
   {
    "duration": -169,
    "start_time": "2021-12-08T22:52:46.766Z"
   },
   {
    "duration": 92,
    "start_time": "2021-12-08T22:54:02.280Z"
   },
   {
    "duration": 285,
    "start_time": "2021-12-08T22:54:11.690Z"
   },
   {
    "duration": 921,
    "start_time": "2021-12-08T22:55:24.542Z"
   },
   {
    "duration": 9,
    "start_time": "2021-12-08T22:55:25.466Z"
   },
   {
    "duration": 21,
    "start_time": "2021-12-08T22:55:25.478Z"
   },
   {
    "duration": 14,
    "start_time": "2021-12-08T22:55:25.502Z"
   },
   {
    "duration": 14,
    "start_time": "2021-12-08T22:55:25.518Z"
   },
   {
    "duration": 39,
    "start_time": "2021-12-08T22:55:25.535Z"
   },
   {
    "duration": 41,
    "start_time": "2021-12-08T22:55:25.576Z"
   },
   {
    "duration": 67,
    "start_time": "2021-12-08T22:55:25.620Z"
   },
   {
    "duration": 6,
    "start_time": "2021-12-08T22:55:25.690Z"
   },
   {
    "duration": 22,
    "start_time": "2021-12-08T22:55:25.698Z"
   },
   {
    "duration": 10,
    "start_time": "2021-12-08T22:55:25.723Z"
   },
   {
    "duration": 21,
    "start_time": "2021-12-08T22:55:25.735Z"
   },
   {
    "duration": 14,
    "start_time": "2021-12-08T22:55:25.758Z"
   },
   {
    "duration": 386,
    "start_time": "2021-12-08T22:55:25.775Z"
   },
   {
    "duration": 87,
    "start_time": "2021-12-08T22:55:26.080Z"
   },
   {
    "duration": 82,
    "start_time": "2021-12-08T22:55:26.086Z"
   },
   {
    "duration": 79,
    "start_time": "2021-12-08T22:55:26.091Z"
   },
   {
    "duration": 77,
    "start_time": "2021-12-08T22:55:26.095Z"
   },
   {
    "duration": 75,
    "start_time": "2021-12-08T22:55:26.099Z"
   },
   {
    "duration": 72,
    "start_time": "2021-12-08T22:55:26.104Z"
   },
   {
    "duration": 70,
    "start_time": "2021-12-08T22:55:26.108Z"
   },
   {
    "duration": 60,
    "start_time": "2021-12-08T22:55:26.120Z"
   },
   {
    "duration": 59,
    "start_time": "2021-12-08T22:55:26.123Z"
   },
   {
    "duration": 57,
    "start_time": "2021-12-08T22:55:26.127Z"
   },
   {
    "duration": 56,
    "start_time": "2021-12-08T22:55:26.130Z"
   },
   {
    "duration": 53,
    "start_time": "2021-12-08T22:55:26.135Z"
   },
   {
    "duration": 52,
    "start_time": "2021-12-08T22:55:26.138Z"
   },
   {
    "duration": 50,
    "start_time": "2021-12-08T22:55:26.143Z"
   },
   {
    "duration": 49,
    "start_time": "2021-12-08T22:55:26.146Z"
   },
   {
    "duration": 46,
    "start_time": "2021-12-08T22:55:26.150Z"
   },
   {
    "duration": 44,
    "start_time": "2021-12-08T22:55:26.154Z"
   },
   {
    "duration": 11,
    "start_time": "2021-12-08T22:55:26.189Z"
   },
   {
    "duration": 9,
    "start_time": "2021-12-08T22:55:26.192Z"
   },
   {
    "duration": 6,
    "start_time": "2021-12-08T22:55:26.196Z"
   },
   {
    "duration": 4,
    "start_time": "2021-12-08T22:55:26.200Z"
   },
   {
    "duration": 1,
    "start_time": "2021-12-08T22:55:26.204Z"
   },
   {
    "duration": -42,
    "start_time": "2021-12-08T22:55:26.248Z"
   },
   {
    "duration": -44,
    "start_time": "2021-12-08T22:55:26.252Z"
   },
   {
    "duration": 12,
    "start_time": "2021-12-08T22:55:26.255Z"
   },
   {
    "duration": 10,
    "start_time": "2021-12-08T22:55:26.259Z"
   },
   {
    "duration": 8,
    "start_time": "2021-12-08T22:55:26.262Z"
   },
   {
    "duration": 6,
    "start_time": "2021-12-08T22:55:26.266Z"
   },
   {
    "duration": 4,
    "start_time": "2021-12-08T22:55:26.269Z"
   },
   {
    "duration": 0,
    "start_time": "2021-12-08T22:55:26.274Z"
   },
   {
    "duration": -1,
    "start_time": "2021-12-08T22:55:26.277Z"
   },
   {
    "duration": -5,
    "start_time": "2021-12-08T22:55:26.282Z"
   },
   {
    "duration": -45,
    "start_time": "2021-12-08T22:55:26.324Z"
   },
   {
    "duration": -48,
    "start_time": "2021-12-08T22:55:26.328Z"
   },
   {
    "duration": -50,
    "start_time": "2021-12-08T22:55:26.332Z"
   },
   {
    "duration": -54,
    "start_time": "2021-12-08T22:55:26.337Z"
   },
   {
    "duration": -91,
    "start_time": "2021-12-08T22:55:26.375Z"
   },
   {
    "duration": -178,
    "start_time": "2021-12-08T22:55:26.464Z"
   },
   {
    "duration": -209,
    "start_time": "2021-12-08T22:55:26.497Z"
   },
   {
    "duration": -211,
    "start_time": "2021-12-08T22:55:26.500Z"
   },
   {
    "duration": -214,
    "start_time": "2021-12-08T22:55:26.504Z"
   },
   {
    "duration": -216,
    "start_time": "2021-12-08T22:55:26.508Z"
   },
   {
    "duration": -218,
    "start_time": "2021-12-08T22:55:26.511Z"
   },
   {
    "duration": -219,
    "start_time": "2021-12-08T22:55:26.514Z"
   },
   {
    "duration": -221,
    "start_time": "2021-12-08T22:55:26.517Z"
   },
   {
    "duration": -224,
    "start_time": "2021-12-08T22:55:26.521Z"
   },
   {
    "duration": -226,
    "start_time": "2021-12-08T22:55:26.525Z"
   },
   {
    "duration": -229,
    "start_time": "2021-12-08T22:55:26.529Z"
   },
   {
    "duration": -238,
    "start_time": "2021-12-08T22:55:26.539Z"
   },
   {
    "duration": -239,
    "start_time": "2021-12-08T22:55:26.542Z"
   },
   {
    "duration": -256,
    "start_time": "2021-12-08T22:55:26.560Z"
   },
   {
    "duration": -268,
    "start_time": "2021-12-08T22:55:26.573Z"
   },
   {
    "duration": -271,
    "start_time": "2021-12-08T22:55:26.577Z"
   },
   {
    "duration": -274,
    "start_time": "2021-12-08T22:55:26.581Z"
   },
   {
    "duration": -277,
    "start_time": "2021-12-08T22:55:26.585Z"
   },
   {
    "duration": -278,
    "start_time": "2021-12-08T22:55:26.588Z"
   },
   {
    "duration": -224,
    "start_time": "2021-12-08T22:55:26.592Z"
   },
   {
    "duration": -226,
    "start_time": "2021-12-08T22:55:26.595Z"
   },
   {
    "duration": -229,
    "start_time": "2021-12-08T22:55:26.599Z"
   },
   {
    "duration": -231,
    "start_time": "2021-12-08T22:55:26.603Z"
   },
   {
    "duration": 99,
    "start_time": "2021-12-08T22:57:49.051Z"
   },
   {
    "duration": 5,
    "start_time": "2021-12-08T22:58:00.121Z"
   },
   {
    "duration": 896,
    "start_time": "2021-12-08T22:58:15.988Z"
   },
   {
    "duration": 11,
    "start_time": "2021-12-08T22:58:16.887Z"
   },
   {
    "duration": 17,
    "start_time": "2021-12-08T22:58:16.902Z"
   },
   {
    "duration": 47,
    "start_time": "2021-12-08T22:58:16.922Z"
   },
   {
    "duration": 15,
    "start_time": "2021-12-08T22:58:16.971Z"
   },
   {
    "duration": 13,
    "start_time": "2021-12-08T22:58:16.988Z"
   },
   {
    "duration": 75,
    "start_time": "2021-12-08T22:58:17.004Z"
   },
   {
    "duration": 37,
    "start_time": "2021-12-08T22:58:17.083Z"
   },
   {
    "duration": 6,
    "start_time": "2021-12-08T22:58:17.123Z"
   },
   {
    "duration": 36,
    "start_time": "2021-12-08T22:58:17.132Z"
   },
   {
    "duration": 6,
    "start_time": "2021-12-08T22:58:17.171Z"
   },
   {
    "duration": 9,
    "start_time": "2021-12-08T22:58:17.179Z"
   },
   {
    "duration": 8,
    "start_time": "2021-12-08T22:58:17.190Z"
   },
   {
    "duration": 4,
    "start_time": "2021-12-08T22:58:17.201Z"
   },
   {
    "duration": 8,
    "start_time": "2021-12-08T22:58:17.207Z"
   },
   {
    "duration": 77,
    "start_time": "2021-12-08T22:58:17.218Z"
   },
   {
    "duration": 6,
    "start_time": "2021-12-08T22:58:17.298Z"
   },
   {
    "duration": 7,
    "start_time": "2021-12-08T22:58:17.307Z"
   },
   {
    "duration": 9,
    "start_time": "2021-12-08T22:58:17.316Z"
   },
   {
    "duration": 45,
    "start_time": "2021-12-08T22:58:17.327Z"
   },
   {
    "duration": 8,
    "start_time": "2021-12-08T22:58:17.374Z"
   },
   {
    "duration": 10,
    "start_time": "2021-12-08T22:58:17.385Z"
   },
   {
    "duration": 81,
    "start_time": "2021-12-08T22:58:17.401Z"
   },
   {
    "duration": 7,
    "start_time": "2021-12-08T22:58:17.486Z"
   },
   {
    "duration": 6,
    "start_time": "2021-12-08T22:58:17.495Z"
   },
   {
    "duration": 65,
    "start_time": "2021-12-08T22:58:17.504Z"
   },
   {
    "duration": 6,
    "start_time": "2021-12-08T22:58:17.572Z"
   },
   {
    "duration": 8,
    "start_time": "2021-12-08T22:58:17.580Z"
   },
   {
    "duration": 3,
    "start_time": "2021-12-08T22:58:17.591Z"
   },
   {
    "duration": 5,
    "start_time": "2021-12-08T22:58:17.597Z"
   },
   {
    "duration": 29,
    "start_time": "2021-12-08T22:58:17.604Z"
   },
   {
    "duration": 12,
    "start_time": "2021-12-08T22:58:17.668Z"
   },
   {
    "duration": 10,
    "start_time": "2021-12-08T22:58:17.683Z"
   },
   {
    "duration": 31,
    "start_time": "2021-12-08T22:58:17.695Z"
   },
   {
    "duration": 44,
    "start_time": "2021-12-08T22:58:17.729Z"
   },
   {
    "duration": 10,
    "start_time": "2021-12-08T22:58:17.776Z"
   },
   {
    "duration": 11,
    "start_time": "2021-12-08T22:58:17.789Z"
   },
   {
    "duration": 18,
    "start_time": "2021-12-08T22:58:17.802Z"
   },
   {
    "duration": 53,
    "start_time": "2021-12-08T22:58:17.823Z"
   },
   {
    "duration": 27,
    "start_time": "2021-12-08T22:58:17.879Z"
   },
   {
    "duration": 7,
    "start_time": "2021-12-08T22:58:17.909Z"
   },
   {
    "duration": 994,
    "start_time": "2021-12-08T22:58:17.919Z"
   },
   {
    "duration": 3189,
    "start_time": "2021-12-08T22:58:18.916Z"
   },
   {
    "duration": 11,
    "start_time": "2021-12-08T22:58:22.109Z"
   },
   {
    "duration": 47,
    "start_time": "2021-12-08T22:58:22.122Z"
   },
   {
    "duration": 36,
    "start_time": "2021-12-08T22:58:22.172Z"
   },
   {
    "duration": 10,
    "start_time": "2021-12-08T22:58:22.210Z"
   },
   {
    "duration": 16,
    "start_time": "2021-12-08T22:58:22.222Z"
   },
   {
    "duration": 36,
    "start_time": "2021-12-08T22:58:22.268Z"
   },
   {
    "duration": 19,
    "start_time": "2021-12-08T22:58:22.306Z"
   },
   {
    "duration": 19,
    "start_time": "2021-12-08T22:58:22.328Z"
   },
   {
    "duration": 53,
    "start_time": "2021-12-08T22:58:22.350Z"
   },
   {
    "duration": 9,
    "start_time": "2021-12-08T22:58:22.406Z"
   },
   {
    "duration": 9,
    "start_time": "2021-12-08T22:58:22.418Z"
   },
   {
    "duration": 42,
    "start_time": "2021-12-08T22:58:22.429Z"
   },
   {
    "duration": 3054,
    "start_time": "2021-12-08T22:58:22.473Z"
   },
   {
    "duration": 40,
    "start_time": "2021-12-08T22:58:25.530Z"
   },
   {
    "duration": 7,
    "start_time": "2021-12-08T22:58:25.572Z"
   },
   {
    "duration": 11,
    "start_time": "2021-12-08T22:58:25.581Z"
   },
   {
    "duration": 11,
    "start_time": "2021-12-08T22:58:25.594Z"
   },
   {
    "duration": 40,
    "start_time": "2021-12-08T22:58:25.608Z"
   },
   {
    "duration": 16,
    "start_time": "2021-12-08T22:58:25.651Z"
   },
   {
    "duration": 5,
    "start_time": "2021-12-08T22:58:25.669Z"
   },
   {
    "duration": 37,
    "start_time": "2021-12-08T22:58:25.676Z"
   },
   {
    "duration": 19,
    "start_time": "2021-12-08T22:58:25.715Z"
   },
   {
    "duration": 8,
    "start_time": "2021-12-08T22:58:25.737Z"
   },
   {
    "duration": 12,
    "start_time": "2021-12-08T22:58:25.747Z"
   },
   {
    "duration": 10,
    "start_time": "2021-12-08T22:58:25.771Z"
   },
   {
    "duration": 11,
    "start_time": "2021-12-08T22:58:25.784Z"
   },
   {
    "duration": 13,
    "start_time": "2021-12-08T22:58:25.797Z"
   },
   {
    "duration": 6,
    "start_time": "2021-12-08T22:58:25.813Z"
   },
   {
    "duration": 44,
    "start_time": "2021-12-08T22:58:25.821Z"
   },
   {
    "duration": 30,
    "start_time": "2021-12-08T22:58:25.868Z"
   },
   {
    "duration": 29,
    "start_time": "2021-12-08T22:58:25.900Z"
   },
   {
    "duration": 918,
    "start_time": "2021-12-08T22:59:37.919Z"
   },
   {
    "duration": 10,
    "start_time": "2021-12-08T22:59:38.841Z"
   },
   {
    "duration": 24,
    "start_time": "2021-12-08T22:59:38.869Z"
   },
   {
    "duration": 23,
    "start_time": "2021-12-08T22:59:38.896Z"
   },
   {
    "duration": 27,
    "start_time": "2021-12-08T22:59:38.922Z"
   },
   {
    "duration": 30,
    "start_time": "2021-12-08T22:59:38.952Z"
   },
   {
    "duration": 50,
    "start_time": "2021-12-08T22:59:38.985Z"
   },
   {
    "duration": 50,
    "start_time": "2021-12-08T22:59:39.041Z"
   },
   {
    "duration": 6,
    "start_time": "2021-12-08T22:59:39.095Z"
   },
   {
    "duration": 10,
    "start_time": "2021-12-08T22:59:39.103Z"
   },
   {
    "duration": 17,
    "start_time": "2021-12-08T22:59:39.116Z"
   },
   {
    "duration": 33,
    "start_time": "2021-12-08T22:59:39.135Z"
   },
   {
    "duration": 10,
    "start_time": "2021-12-08T22:59:39.171Z"
   },
   {
    "duration": 16,
    "start_time": "2021-12-08T22:59:39.184Z"
   },
   {
    "duration": 41,
    "start_time": "2021-12-08T22:59:39.202Z"
   },
   {
    "duration": 42,
    "start_time": "2021-12-08T22:59:39.246Z"
   },
   {
    "duration": 20,
    "start_time": "2021-12-08T22:59:39.291Z"
   },
   {
    "duration": 27,
    "start_time": "2021-12-08T22:59:39.313Z"
   },
   {
    "duration": 15,
    "start_time": "2021-12-08T22:59:39.343Z"
   },
   {
    "duration": 20,
    "start_time": "2021-12-08T22:59:39.360Z"
   },
   {
    "duration": 29,
    "start_time": "2021-12-08T22:59:39.383Z"
   },
   {
    "duration": 37,
    "start_time": "2021-12-08T22:59:39.415Z"
   },
   {
    "duration": 40,
    "start_time": "2021-12-08T22:59:39.459Z"
   },
   {
    "duration": 5,
    "start_time": "2021-12-08T22:59:39.504Z"
   },
   {
    "duration": 16,
    "start_time": "2021-12-08T22:59:39.512Z"
   },
   {
    "duration": 48,
    "start_time": "2021-12-08T22:59:39.531Z"
   },
   {
    "duration": 6,
    "start_time": "2021-12-08T22:59:39.583Z"
   },
   {
    "duration": 14,
    "start_time": "2021-12-08T22:59:39.592Z"
   },
   {
    "duration": 12,
    "start_time": "2021-12-08T22:59:39.609Z"
   },
   {
    "duration": 17,
    "start_time": "2021-12-08T22:59:39.624Z"
   },
   {
    "duration": 43,
    "start_time": "2021-12-08T22:59:39.643Z"
   },
   {
    "duration": 29,
    "start_time": "2021-12-08T22:59:39.689Z"
   },
   {
    "duration": 27,
    "start_time": "2021-12-08T22:59:39.721Z"
   },
   {
    "duration": 54,
    "start_time": "2021-12-08T22:59:39.751Z"
   },
   {
    "duration": 36,
    "start_time": "2021-12-08T22:59:39.808Z"
   },
   {
    "duration": 29,
    "start_time": "2021-12-08T22:59:39.847Z"
   },
   {
    "duration": 35,
    "start_time": "2021-12-08T22:59:39.878Z"
   },
   {
    "duration": 38,
    "start_time": "2021-12-08T22:59:39.916Z"
   },
   {
    "duration": 24,
    "start_time": "2021-12-08T22:59:39.957Z"
   },
   {
    "duration": 49,
    "start_time": "2021-12-08T22:59:39.983Z"
   },
   {
    "duration": 10,
    "start_time": "2021-12-08T22:59:40.035Z"
   },
   {
    "duration": 977,
    "start_time": "2021-12-08T22:59:40.047Z"
   },
   {
    "duration": 3276,
    "start_time": "2021-12-08T22:59:41.028Z"
   },
   {
    "duration": 10,
    "start_time": "2021-12-08T22:59:44.306Z"
   },
   {
    "duration": 48,
    "start_time": "2021-12-08T22:59:44.319Z"
   },
   {
    "duration": 37,
    "start_time": "2021-12-08T22:59:44.370Z"
   },
   {
    "duration": 13,
    "start_time": "2021-12-08T22:59:44.410Z"
   },
   {
    "duration": 43,
    "start_time": "2021-12-08T22:59:44.426Z"
   },
   {
    "duration": 57,
    "start_time": "2021-12-08T22:59:44.472Z"
   },
   {
    "duration": 29,
    "start_time": "2021-12-08T22:59:44.532Z"
   },
   {
    "duration": 30,
    "start_time": "2021-12-08T22:59:44.564Z"
   },
   {
    "duration": 59,
    "start_time": "2021-12-08T22:59:44.597Z"
   },
   {
    "duration": 12,
    "start_time": "2021-12-08T22:59:44.660Z"
   },
   {
    "duration": 23,
    "start_time": "2021-12-08T22:59:44.675Z"
   },
   {
    "duration": 25,
    "start_time": "2021-12-08T22:59:44.700Z"
   },
   {
    "duration": 2494,
    "start_time": "2021-12-08T22:59:44.727Z"
   },
   {
    "duration": 9,
    "start_time": "2021-12-08T22:59:47.224Z"
   },
   {
    "duration": 8,
    "start_time": "2021-12-08T22:59:47.235Z"
   },
   {
    "duration": 28,
    "start_time": "2021-12-08T22:59:47.245Z"
   },
   {
    "duration": 11,
    "start_time": "2021-12-08T22:59:47.275Z"
   },
   {
    "duration": 35,
    "start_time": "2021-12-08T22:59:47.288Z"
   },
   {
    "duration": 43,
    "start_time": "2021-12-08T22:59:47.326Z"
   },
   {
    "duration": 6,
    "start_time": "2021-12-08T22:59:47.372Z"
   },
   {
    "duration": 29,
    "start_time": "2021-12-08T22:59:47.381Z"
   },
   {
    "duration": 56,
    "start_time": "2021-12-08T22:59:47.413Z"
   },
   {
    "duration": 11,
    "start_time": "2021-12-08T22:59:47.472Z"
   },
   {
    "duration": 11,
    "start_time": "2021-12-08T22:59:47.485Z"
   },
   {
    "duration": 9,
    "start_time": "2021-12-08T22:59:47.504Z"
   },
   {
    "duration": 53,
    "start_time": "2021-12-08T22:59:47.516Z"
   },
   {
    "duration": 11,
    "start_time": "2021-12-08T22:59:47.571Z"
   },
   {
    "duration": 5,
    "start_time": "2021-12-08T22:59:47.584Z"
   },
   {
    "duration": 36,
    "start_time": "2021-12-08T22:59:47.592Z"
   },
   {
    "duration": 67,
    "start_time": "2021-12-08T22:59:47.631Z"
   },
   {
    "duration": 31,
    "start_time": "2021-12-08T22:59:47.700Z"
   },
   {
    "duration": 920,
    "start_time": "2021-12-08T23:03:11.527Z"
   },
   {
    "duration": 10,
    "start_time": "2021-12-08T23:03:12.449Z"
   },
   {
    "duration": 21,
    "start_time": "2021-12-08T23:03:12.468Z"
   },
   {
    "duration": 15,
    "start_time": "2021-12-08T23:03:12.492Z"
   },
   {
    "duration": 36,
    "start_time": "2021-12-08T23:03:12.509Z"
   },
   {
    "duration": 17,
    "start_time": "2021-12-08T23:03:12.548Z"
   },
   {
    "duration": 60,
    "start_time": "2021-12-08T23:03:12.568Z"
   },
   {
    "duration": 38,
    "start_time": "2021-12-08T23:03:12.632Z"
   },
   {
    "duration": 6,
    "start_time": "2021-12-08T23:03:12.673Z"
   },
   {
    "duration": 21,
    "start_time": "2021-12-08T23:03:12.682Z"
   },
   {
    "duration": 29,
    "start_time": "2021-12-08T23:03:12.705Z"
   },
   {
    "duration": 35,
    "start_time": "2021-12-08T23:03:12.736Z"
   },
   {
    "duration": 19,
    "start_time": "2021-12-08T23:03:12.773Z"
   },
   {
    "duration": 24,
    "start_time": "2021-12-08T23:03:12.794Z"
   },
   {
    "duration": 34,
    "start_time": "2021-12-08T23:03:12.820Z"
   },
   {
    "duration": 17,
    "start_time": "2021-12-08T23:03:12.857Z"
   },
   {
    "duration": 29,
    "start_time": "2021-12-08T23:03:12.876Z"
   },
   {
    "duration": 21,
    "start_time": "2021-12-08T23:03:12.908Z"
   },
   {
    "duration": 17,
    "start_time": "2021-12-08T23:03:12.932Z"
   },
   {
    "duration": 35,
    "start_time": "2021-12-08T23:03:12.952Z"
   },
   {
    "duration": 34,
    "start_time": "2021-12-08T23:03:12.989Z"
   },
   {
    "duration": 53,
    "start_time": "2021-12-08T23:03:13.025Z"
   },
   {
    "duration": 7,
    "start_time": "2021-12-08T23:03:13.083Z"
   },
   {
    "duration": 25,
    "start_time": "2021-12-08T23:03:13.093Z"
   },
   {
    "duration": 49,
    "start_time": "2021-12-08T23:03:13.121Z"
   },
   {
    "duration": 6,
    "start_time": "2021-12-08T23:03:13.173Z"
   },
   {
    "duration": 30,
    "start_time": "2021-12-08T23:03:13.181Z"
   },
   {
    "duration": 5,
    "start_time": "2021-12-08T23:03:13.213Z"
   },
   {
    "duration": 35,
    "start_time": "2021-12-08T23:03:13.220Z"
   },
   {
    "duration": 46,
    "start_time": "2021-12-08T23:03:13.257Z"
   },
   {
    "duration": 33,
    "start_time": "2021-12-08T23:03:13.305Z"
   },
   {
    "duration": 28,
    "start_time": "2021-12-08T23:03:13.341Z"
   },
   {
    "duration": 50,
    "start_time": "2021-12-08T23:03:13.372Z"
   },
   {
    "duration": 39,
    "start_time": "2021-12-08T23:03:13.425Z"
   },
   {
    "duration": 24,
    "start_time": "2021-12-08T23:03:13.467Z"
   },
   {
    "duration": 39,
    "start_time": "2021-12-08T23:03:13.493Z"
   },
   {
    "duration": 63,
    "start_time": "2021-12-08T23:03:13.534Z"
   },
   {
    "duration": 40,
    "start_time": "2021-12-08T23:03:13.599Z"
   },
   {
    "duration": 70,
    "start_time": "2021-12-08T23:03:13.641Z"
   },
   {
    "duration": 10,
    "start_time": "2021-12-08T23:03:13.714Z"
   },
   {
    "duration": 1002,
    "start_time": "2021-12-08T23:03:13.726Z"
   },
   {
    "duration": 3107,
    "start_time": "2021-12-08T23:03:14.731Z"
   },
   {
    "duration": 10,
    "start_time": "2021-12-08T23:03:17.840Z"
   },
   {
    "duration": 25,
    "start_time": "2021-12-08T23:03:17.868Z"
   },
   {
    "duration": 32,
    "start_time": "2021-12-08T23:03:17.895Z"
   },
   {
    "duration": 40,
    "start_time": "2021-12-08T23:03:17.929Z"
   },
   {
    "duration": 4,
    "start_time": "2021-12-08T23:03:17.972Z"
   },
   {
    "duration": 36,
    "start_time": "2021-12-08T23:03:17.979Z"
   },
   {
    "duration": 9,
    "start_time": "2021-12-08T23:03:18.018Z"
   },
   {
    "duration": 41,
    "start_time": "2021-12-08T23:03:18.029Z"
   },
   {
    "duration": 47,
    "start_time": "2021-12-08T23:03:18.072Z"
   },
   {
    "duration": 9,
    "start_time": "2021-12-08T23:03:18.122Z"
   },
   {
    "duration": 15,
    "start_time": "2021-12-08T23:03:18.134Z"
   },
   {
    "duration": 22,
    "start_time": "2021-12-08T23:03:18.151Z"
   },
   {
    "duration": 2807,
    "start_time": "2021-12-08T23:03:18.175Z"
   },
   {
    "duration": 11,
    "start_time": "2021-12-08T23:03:20.984Z"
   },
   {
    "duration": 7,
    "start_time": "2021-12-08T23:03:20.997Z"
   },
   {
    "duration": 10,
    "start_time": "2021-12-08T23:03:21.006Z"
   },
   {
    "duration": 10,
    "start_time": "2021-12-08T23:03:21.018Z"
   },
   {
    "duration": 69,
    "start_time": "2021-12-08T23:03:21.030Z"
   },
   {
    "duration": 10,
    "start_time": "2021-12-08T23:03:21.101Z"
   },
   {
    "duration": 7,
    "start_time": "2021-12-08T23:03:21.113Z"
   },
   {
    "duration": 61,
    "start_time": "2021-12-08T23:03:21.122Z"
   },
   {
    "duration": 18,
    "start_time": "2021-12-08T23:03:21.185Z"
   },
   {
    "duration": 8,
    "start_time": "2021-12-08T23:03:21.205Z"
   },
   {
    "duration": 10,
    "start_time": "2021-12-08T23:03:21.216Z"
   },
   {
    "duration": 42,
    "start_time": "2021-12-08T23:03:21.228Z"
   },
   {
    "duration": 12,
    "start_time": "2021-12-08T23:03:21.278Z"
   },
   {
    "duration": 9,
    "start_time": "2021-12-08T23:03:21.293Z"
   },
   {
    "duration": 5,
    "start_time": "2021-12-08T23:03:21.305Z"
   },
   {
    "duration": 82,
    "start_time": "2021-12-08T23:03:21.313Z"
   },
   {
    "duration": 32,
    "start_time": "2021-12-08T23:03:21.398Z"
   },
   {
    "duration": 58,
    "start_time": "2021-12-08T23:03:21.433Z"
   },
   {
    "duration": 915,
    "start_time": "2021-12-08T23:19:40.149Z"
   },
   {
    "duration": 8,
    "start_time": "2021-12-08T23:19:41.067Z"
   },
   {
    "duration": 21,
    "start_time": "2021-12-08T23:19:41.078Z"
   },
   {
    "duration": 13,
    "start_time": "2021-12-08T23:19:41.102Z"
   },
   {
    "duration": 23,
    "start_time": "2021-12-08T23:19:41.118Z"
   },
   {
    "duration": 35,
    "start_time": "2021-12-08T23:19:41.143Z"
   },
   {
    "duration": 42,
    "start_time": "2021-12-08T23:19:41.180Z"
   },
   {
    "duration": 60,
    "start_time": "2021-12-08T23:19:41.226Z"
   },
   {
    "duration": 7,
    "start_time": "2021-12-08T23:19:41.290Z"
   },
   {
    "duration": 7,
    "start_time": "2021-12-08T23:19:41.299Z"
   },
   {
    "duration": 6,
    "start_time": "2021-12-08T23:19:41.309Z"
   },
   {
    "duration": 6,
    "start_time": "2021-12-08T23:19:41.318Z"
   },
   {
    "duration": 9,
    "start_time": "2021-12-08T23:19:41.367Z"
   },
   {
    "duration": 4,
    "start_time": "2021-12-08T23:19:41.379Z"
   },
   {
    "duration": 10,
    "start_time": "2021-12-08T23:19:41.386Z"
   },
   {
    "duration": 7,
    "start_time": "2021-12-08T23:19:41.398Z"
   },
   {
    "duration": 6,
    "start_time": "2021-12-08T23:19:41.407Z"
   },
   {
    "duration": 52,
    "start_time": "2021-12-08T23:19:41.416Z"
   },
   {
    "duration": 7,
    "start_time": "2021-12-08T23:19:41.471Z"
   },
   {
    "duration": 7,
    "start_time": "2021-12-08T23:19:41.480Z"
   },
   {
    "duration": 13,
    "start_time": "2021-12-08T23:19:41.490Z"
   },
   {
    "duration": 80,
    "start_time": "2021-12-08T23:19:41.505Z"
   },
   {
    "duration": 7,
    "start_time": "2021-12-08T23:19:41.591Z"
   },
   {
    "duration": 7,
    "start_time": "2021-12-08T23:19:41.602Z"
   },
   {
    "duration": 62,
    "start_time": "2021-12-08T23:19:41.611Z"
   },
   {
    "duration": 6,
    "start_time": "2021-12-08T23:19:41.676Z"
   },
   {
    "duration": 11,
    "start_time": "2021-12-08T23:19:41.685Z"
   },
   {
    "duration": 4,
    "start_time": "2021-12-08T23:19:41.699Z"
   },
   {
    "duration": 6,
    "start_time": "2021-12-08T23:19:41.706Z"
   },
   {
    "duration": 67,
    "start_time": "2021-12-08T23:19:41.714Z"
   },
   {
    "duration": 12,
    "start_time": "2021-12-08T23:19:41.784Z"
   },
   {
    "duration": 12,
    "start_time": "2021-12-08T23:19:41.799Z"
   },
   {
    "duration": 70,
    "start_time": "2021-12-08T23:19:41.814Z"
   },
   {
    "duration": 14,
    "start_time": "2021-12-08T23:19:41.886Z"
   },
   {
    "duration": 13,
    "start_time": "2021-12-08T23:19:41.902Z"
   },
   {
    "duration": 19,
    "start_time": "2021-12-08T23:19:41.917Z"
   },
   {
    "duration": 38,
    "start_time": "2021-12-08T23:19:41.938Z"
   },
   {
    "duration": 17,
    "start_time": "2021-12-08T23:19:41.979Z"
   },
   {
    "duration": 41,
    "start_time": "2021-12-08T23:19:41.998Z"
   },
   {
    "duration": 6,
    "start_time": "2021-12-08T23:19:42.042Z"
   },
   {
    "duration": 991,
    "start_time": "2021-12-08T23:19:42.051Z"
   },
   {
    "duration": 3091,
    "start_time": "2021-12-08T23:19:43.045Z"
   },
   {
    "duration": 10,
    "start_time": "2021-12-08T23:19:46.139Z"
   },
   {
    "duration": 25,
    "start_time": "2021-12-08T23:19:46.167Z"
   },
   {
    "duration": 32,
    "start_time": "2021-12-08T23:19:46.195Z"
   },
   {
    "duration": 41,
    "start_time": "2021-12-08T23:19:46.230Z"
   },
   {
    "duration": 15,
    "start_time": "2021-12-08T23:19:46.273Z"
   },
   {
    "duration": 43,
    "start_time": "2021-12-08T23:19:46.290Z"
   },
   {
    "duration": 11,
    "start_time": "2021-12-08T23:19:46.335Z"
   },
   {
    "duration": 12,
    "start_time": "2021-12-08T23:19:46.368Z"
   },
   {
    "duration": 48,
    "start_time": "2021-12-08T23:19:46.382Z"
   },
   {
    "duration": 9,
    "start_time": "2021-12-08T23:19:46.433Z"
   },
   {
    "duration": 11,
    "start_time": "2021-12-08T23:19:46.445Z"
   },
   {
    "duration": 20,
    "start_time": "2021-12-08T23:19:46.467Z"
   },
   {
    "duration": 2623,
    "start_time": "2021-12-08T23:19:46.489Z"
   },
   {
    "duration": 9,
    "start_time": "2021-12-08T23:19:49.168Z"
   },
   {
    "duration": 16,
    "start_time": "2021-12-08T23:19:49.179Z"
   },
   {
    "duration": 10,
    "start_time": "2021-12-08T23:19:49.198Z"
   },
   {
    "duration": 58,
    "start_time": "2021-12-08T23:19:49.211Z"
   },
   {
    "duration": 36,
    "start_time": "2021-12-08T23:19:49.272Z"
   },
   {
    "duration": 9,
    "start_time": "2021-12-08T23:19:49.310Z"
   },
   {
    "duration": 21,
    "start_time": "2021-12-08T23:19:49.321Z"
   },
   {
    "duration": 37,
    "start_time": "2021-12-08T23:19:49.345Z"
   },
   {
    "duration": 18,
    "start_time": "2021-12-08T23:19:49.384Z"
   },
   {
    "duration": 8,
    "start_time": "2021-12-08T23:19:49.404Z"
   },
   {
    "duration": 11,
    "start_time": "2021-12-08T23:19:49.414Z"
   },
   {
    "duration": 11,
    "start_time": "2021-12-08T23:19:49.428Z"
   },
   {
    "duration": 11,
    "start_time": "2021-12-08T23:19:49.473Z"
   },
   {
    "duration": 8,
    "start_time": "2021-12-08T23:19:49.487Z"
   },
   {
    "duration": 9,
    "start_time": "2021-12-08T23:19:49.498Z"
   },
   {
    "duration": 82,
    "start_time": "2021-12-08T23:19:49.509Z"
   },
   {
    "duration": 29,
    "start_time": "2021-12-08T23:19:49.593Z"
   },
   {
    "duration": 62,
    "start_time": "2021-12-08T23:19:49.624Z"
   },
   {
    "duration": 91,
    "start_time": "2021-12-09T19:55:43.746Z"
   },
   {
    "duration": 778,
    "start_time": "2021-12-09T20:07:03.415Z"
   },
   {
    "duration": 6,
    "start_time": "2021-12-09T20:07:05.265Z"
   },
   {
    "duration": 11,
    "start_time": "2021-12-09T20:07:07.318Z"
   },
   {
    "duration": 11,
    "start_time": "2021-12-09T20:07:08.497Z"
   },
   {
    "duration": 7,
    "start_time": "2021-12-09T20:07:50.482Z"
   },
   {
    "duration": 7,
    "start_time": "2021-12-09T20:08:48.811Z"
   },
   {
    "duration": 7,
    "start_time": "2021-12-09T20:09:18.892Z"
   },
   {
    "duration": 173,
    "start_time": "2021-12-09T20:27:51.011Z"
   },
   {
    "duration": 81,
    "start_time": "2021-12-09T20:39:18.302Z"
   },
   {
    "duration": 67,
    "start_time": "2021-12-09T20:42:29.036Z"
   },
   {
    "duration": 7,
    "start_time": "2021-12-09T20:42:30.820Z"
   },
   {
    "duration": 8,
    "start_time": "2021-12-09T20:43:08.952Z"
   },
   {
    "duration": 663,
    "start_time": "2021-12-09T20:44:12.699Z"
   },
   {
    "duration": 6,
    "start_time": "2021-12-09T20:44:13.364Z"
   },
   {
    "duration": 13,
    "start_time": "2021-12-09T20:44:13.372Z"
   },
   {
    "duration": 10,
    "start_time": "2021-12-09T20:44:13.387Z"
   },
   {
    "duration": 10,
    "start_time": "2021-12-09T20:44:13.399Z"
   },
   {
    "duration": 10,
    "start_time": "2021-12-09T20:44:13.411Z"
   },
   {
    "duration": 62,
    "start_time": "2021-12-09T20:44:13.423Z"
   },
   {
    "duration": 26,
    "start_time": "2021-12-09T20:44:13.486Z"
   },
   {
    "duration": 4,
    "start_time": "2021-12-09T20:44:13.515Z"
   },
   {
    "duration": 6,
    "start_time": "2021-12-09T20:44:13.521Z"
   },
   {
    "duration": 36,
    "start_time": "2021-12-09T20:44:13.529Z"
   },
   {
    "duration": 5,
    "start_time": "2021-12-09T20:44:13.567Z"
   },
   {
    "duration": 6,
    "start_time": "2021-12-09T20:44:13.574Z"
   },
   {
    "duration": 4,
    "start_time": "2021-12-09T20:44:13.582Z"
   },
   {
    "duration": 10,
    "start_time": "2021-12-09T20:44:13.588Z"
   },
   {
    "duration": 13,
    "start_time": "2021-12-09T20:44:13.600Z"
   },
   {
    "duration": 8,
    "start_time": "2021-12-09T20:44:13.615Z"
   },
   {
    "duration": 9,
    "start_time": "2021-12-09T20:44:13.625Z"
   },
   {
    "duration": 5,
    "start_time": "2021-12-09T20:44:13.664Z"
   },
   {
    "duration": 7,
    "start_time": "2021-12-09T20:44:13.671Z"
   },
   {
    "duration": 11,
    "start_time": "2021-12-09T20:44:13.680Z"
   },
   {
    "duration": 29,
    "start_time": "2021-12-09T20:44:13.693Z"
   },
   {
    "duration": 5,
    "start_time": "2021-12-09T20:44:13.724Z"
   },
   {
    "duration": 33,
    "start_time": "2021-12-09T20:44:13.731Z"
   },
   {
    "duration": 34,
    "start_time": "2021-12-09T20:44:13.766Z"
   },
   {
    "duration": 7,
    "start_time": "2021-12-09T20:44:13.801Z"
   },
   {
    "duration": 19,
    "start_time": "2021-12-09T20:44:13.812Z"
   },
   {
    "duration": 12,
    "start_time": "2021-12-09T20:44:13.834Z"
   },
   {
    "duration": 18,
    "start_time": "2021-12-09T20:44:13.848Z"
   },
   {
    "duration": 31,
    "start_time": "2021-12-09T20:44:13.868Z"
   },
   {
    "duration": 22,
    "start_time": "2021-12-09T20:44:13.901Z"
   },
   {
    "duration": 22,
    "start_time": "2021-12-09T20:44:13.925Z"
   },
   {
    "duration": 29,
    "start_time": "2021-12-09T20:44:13.949Z"
   },
   {
    "duration": 7,
    "start_time": "2021-12-09T20:44:13.980Z"
   },
   {
    "duration": 18,
    "start_time": "2021-12-09T20:44:13.989Z"
   },
   {
    "duration": 10,
    "start_time": "2021-12-09T20:44:14.009Z"
   },
   {
    "duration": 12,
    "start_time": "2021-12-09T20:44:14.021Z"
   },
   {
    "duration": 7,
    "start_time": "2021-12-09T20:44:14.035Z"
   },
   {
    "duration": 35,
    "start_time": "2021-12-09T20:44:14.043Z"
   },
   {
    "duration": 6,
    "start_time": "2021-12-09T20:44:14.079Z"
   },
   {
    "duration": 698,
    "start_time": "2021-12-09T20:44:14.086Z"
   },
   {
    "duration": 2486,
    "start_time": "2021-12-09T20:44:14.786Z"
   },
   {
    "duration": 8,
    "start_time": "2021-12-09T20:44:17.274Z"
   },
   {
    "duration": 25,
    "start_time": "2021-12-09T20:44:17.284Z"
   },
   {
    "duration": 22,
    "start_time": "2021-12-09T20:44:17.311Z"
   },
   {
    "duration": 29,
    "start_time": "2021-12-09T20:44:17.335Z"
   },
   {
    "duration": 3,
    "start_time": "2021-12-09T20:44:17.366Z"
   },
   {
    "duration": 35,
    "start_time": "2021-12-09T20:44:17.371Z"
   },
   {
    "duration": 7,
    "start_time": "2021-12-09T20:44:17.408Z"
   },
   {
    "duration": 6,
    "start_time": "2021-12-09T20:44:17.417Z"
   },
   {
    "duration": 46,
    "start_time": "2021-12-09T20:44:17.425Z"
   },
   {
    "duration": 9,
    "start_time": "2021-12-09T20:44:17.473Z"
   },
   {
    "duration": 6,
    "start_time": "2021-12-09T20:44:17.484Z"
   },
   {
    "duration": 8,
    "start_time": "2021-12-09T20:44:17.491Z"
   },
   {
    "duration": 1278,
    "start_time": "2021-12-09T20:44:17.501Z"
   },
   {
    "duration": 8,
    "start_time": "2021-12-09T20:44:18.782Z"
   },
   {
    "duration": 5,
    "start_time": "2021-12-09T20:44:18.792Z"
   },
   {
    "duration": 9,
    "start_time": "2021-12-09T20:44:18.798Z"
   },
   {
    "duration": 10,
    "start_time": "2021-12-09T20:44:18.808Z"
   },
   {
    "duration": 89,
    "start_time": "2021-12-09T20:44:18.820Z"
   },
   {
    "duration": 257,
    "start_time": "2021-12-09T20:44:18.654Z"
   },
   {
    "duration": 255,
    "start_time": "2021-12-09T20:44:18.657Z"
   },
   {
    "duration": 254,
    "start_time": "2021-12-09T20:44:18.659Z"
   },
   {
    "duration": 252,
    "start_time": "2021-12-09T20:44:18.662Z"
   },
   {
    "duration": 251,
    "start_time": "2021-12-09T20:44:18.664Z"
   },
   {
    "duration": 249,
    "start_time": "2021-12-09T20:44:18.667Z"
   },
   {
    "duration": 247,
    "start_time": "2021-12-09T20:44:18.670Z"
   },
   {
    "duration": 246,
    "start_time": "2021-12-09T20:44:18.672Z"
   },
   {
    "duration": 244,
    "start_time": "2021-12-09T20:44:18.675Z"
   },
   {
    "duration": 243,
    "start_time": "2021-12-09T20:44:18.677Z"
   },
   {
    "duration": 241,
    "start_time": "2021-12-09T20:44:18.680Z"
   },
   {
    "duration": 239,
    "start_time": "2021-12-09T20:44:18.683Z"
   },
   {
    "duration": 238,
    "start_time": "2021-12-09T20:44:18.685Z"
   },
   {
    "duration": 25,
    "start_time": "2021-12-09T20:44:43.084Z"
   },
   {
    "duration": 657,
    "start_time": "2021-12-09T20:44:52.017Z"
   },
   {
    "duration": 6,
    "start_time": "2021-12-09T20:44:52.677Z"
   },
   {
    "duration": 12,
    "start_time": "2021-12-09T20:44:52.685Z"
   },
   {
    "duration": 11,
    "start_time": "2021-12-09T20:44:52.700Z"
   },
   {
    "duration": 14,
    "start_time": "2021-12-09T20:44:52.714Z"
   },
   {
    "duration": 45,
    "start_time": "2021-12-09T20:44:52.730Z"
   },
   {
    "duration": 25,
    "start_time": "2021-12-09T20:44:52.777Z"
   },
   {
    "duration": 25,
    "start_time": "2021-12-09T20:44:52.803Z"
   },
   {
    "duration": 35,
    "start_time": "2021-12-09T20:44:52.831Z"
   },
   {
    "duration": 5,
    "start_time": "2021-12-09T20:44:52.869Z"
   },
   {
    "duration": 10,
    "start_time": "2021-12-09T20:44:52.875Z"
   },
   {
    "duration": 6,
    "start_time": "2021-12-09T20:44:52.887Z"
   },
   {
    "duration": 7,
    "start_time": "2021-12-09T20:44:52.895Z"
   },
   {
    "duration": 4,
    "start_time": "2021-12-09T20:44:52.904Z"
   },
   {
    "duration": 8,
    "start_time": "2021-12-09T20:44:52.909Z"
   },
   {
    "duration": 10,
    "start_time": "2021-12-09T20:44:52.919Z"
   },
   {
    "duration": 37,
    "start_time": "2021-12-09T20:44:52.930Z"
   },
   {
    "duration": 9,
    "start_time": "2021-12-09T20:44:52.969Z"
   },
   {
    "duration": 6,
    "start_time": "2021-12-09T20:44:52.980Z"
   },
   {
    "duration": 7,
    "start_time": "2021-12-09T20:44:52.988Z"
   },
   {
    "duration": 12,
    "start_time": "2021-12-09T20:44:52.996Z"
   },
   {
    "duration": 53,
    "start_time": "2021-12-09T20:44:53.010Z"
   },
   {
    "duration": 5,
    "start_time": "2021-12-09T20:44:53.065Z"
   },
   {
    "duration": 7,
    "start_time": "2021-12-09T20:44:53.072Z"
   },
   {
    "duration": 22,
    "start_time": "2021-12-09T20:44:53.081Z"
   },
   {
    "duration": 4,
    "start_time": "2021-12-09T20:44:53.105Z"
   },
   {
    "duration": 7,
    "start_time": "2021-12-09T20:44:53.113Z"
   },
   {
    "duration": 4,
    "start_time": "2021-12-09T20:44:53.123Z"
   },
   {
    "duration": 7,
    "start_time": "2021-12-09T20:44:53.128Z"
   },
   {
    "duration": 15,
    "start_time": "2021-12-09T20:44:53.164Z"
   },
   {
    "duration": 8,
    "start_time": "2021-12-09T20:44:53.181Z"
   },
   {
    "duration": 9,
    "start_time": "2021-12-09T20:44:53.191Z"
   },
   {
    "duration": 21,
    "start_time": "2021-12-09T20:44:53.202Z"
   },
   {
    "duration": 8,
    "start_time": "2021-12-09T20:44:53.225Z"
   },
   {
    "duration": 7,
    "start_time": "2021-12-09T20:44:53.264Z"
   },
   {
    "duration": 7,
    "start_time": "2021-12-09T20:44:53.273Z"
   },
   {
    "duration": 13,
    "start_time": "2021-12-09T20:44:53.282Z"
   },
   {
    "duration": 6,
    "start_time": "2021-12-09T20:44:53.297Z"
   },
   {
    "duration": 23,
    "start_time": "2021-12-09T20:44:53.304Z"
   },
   {
    "duration": 35,
    "start_time": "2021-12-09T20:44:53.329Z"
   },
   {
    "duration": 685,
    "start_time": "2021-12-09T20:44:53.366Z"
   },
   {
    "duration": 2557,
    "start_time": "2021-12-09T20:44:54.053Z"
   },
   {
    "duration": 7,
    "start_time": "2021-12-09T20:44:56.611Z"
   },
   {
    "duration": 19,
    "start_time": "2021-12-09T20:44:56.620Z"
   },
   {
    "duration": 37,
    "start_time": "2021-12-09T20:44:56.641Z"
   },
   {
    "duration": 8,
    "start_time": "2021-12-09T20:44:56.679Z"
   },
   {
    "duration": 5,
    "start_time": "2021-12-09T20:44:56.689Z"
   },
   {
    "duration": 24,
    "start_time": "2021-12-09T20:44:56.696Z"
   },
   {
    "duration": 7,
    "start_time": "2021-12-09T20:44:56.721Z"
   },
   {
    "duration": 33,
    "start_time": "2021-12-09T20:44:56.730Z"
   },
   {
    "duration": 23,
    "start_time": "2021-12-09T20:44:56.765Z"
   },
   {
    "duration": 7,
    "start_time": "2021-12-09T20:44:56.790Z"
   },
   {
    "duration": 5,
    "start_time": "2021-12-09T20:44:56.798Z"
   },
   {
    "duration": 7,
    "start_time": "2021-12-09T20:44:56.805Z"
   },
   {
    "duration": 1327,
    "start_time": "2021-12-09T20:44:56.814Z"
   },
   {
    "duration": 7,
    "start_time": "2021-12-09T20:44:58.142Z"
   },
   {
    "duration": 20,
    "start_time": "2021-12-09T20:44:58.151Z"
   },
   {
    "duration": 20,
    "start_time": "2021-12-09T20:44:58.172Z"
   },
   {
    "duration": 7,
    "start_time": "2021-12-09T20:44:58.194Z"
   },
   {
    "duration": 21,
    "start_time": "2021-12-09T20:44:58.202Z"
   },
   {
    "duration": 7,
    "start_time": "2021-12-09T20:44:58.225Z"
   },
   {
    "duration": 6,
    "start_time": "2021-12-09T20:44:58.234Z"
   },
   {
    "duration": 32,
    "start_time": "2021-12-09T20:44:58.241Z"
   },
   {
    "duration": 13,
    "start_time": "2021-12-09T20:44:58.275Z"
   },
   {
    "duration": 8,
    "start_time": "2021-12-09T20:44:58.289Z"
   },
   {
    "duration": 8,
    "start_time": "2021-12-09T20:44:58.299Z"
   },
   {
    "duration": 9,
    "start_time": "2021-12-09T20:44:58.309Z"
   },
   {
    "duration": 49,
    "start_time": "2021-12-09T20:44:58.320Z"
   },
   {
    "duration": 7,
    "start_time": "2021-12-09T20:44:58.371Z"
   },
   {
    "duration": 4,
    "start_time": "2021-12-09T20:44:58.380Z"
   },
   {
    "duration": 28,
    "start_time": "2021-12-09T20:44:58.385Z"
   },
   {
    "duration": 51,
    "start_time": "2021-12-09T20:44:58.414Z"
   },
   {
    "duration": 21,
    "start_time": "2021-12-09T20:44:58.466Z"
   },
   {
    "duration": 680,
    "start_time": "2021-12-09T21:06:41.595Z"
   },
   {
    "duration": 6,
    "start_time": "2021-12-09T21:06:42.277Z"
   },
   {
    "duration": 21,
    "start_time": "2021-12-09T21:06:42.285Z"
   },
   {
    "duration": 10,
    "start_time": "2021-12-09T21:06:42.308Z"
   },
   {
    "duration": 15,
    "start_time": "2021-12-09T21:06:42.320Z"
   },
   {
    "duration": 31,
    "start_time": "2021-12-09T21:06:42.337Z"
   },
   {
    "duration": 34,
    "start_time": "2021-12-09T21:06:42.370Z"
   },
   {
    "duration": 34,
    "start_time": "2021-12-09T21:06:42.407Z"
   },
   {
    "duration": 21,
    "start_time": "2021-12-09T21:06:42.444Z"
   },
   {
    "duration": 6,
    "start_time": "2021-12-09T21:06:42.468Z"
   },
   {
    "duration": 9,
    "start_time": "2021-12-09T21:06:42.476Z"
   },
   {
    "duration": 7,
    "start_time": "2021-12-09T21:06:42.487Z"
   },
   {
    "duration": 9,
    "start_time": "2021-12-09T21:06:42.496Z"
   },
   {
    "duration": 6,
    "start_time": "2021-12-09T21:06:42.506Z"
   },
   {
    "duration": 11,
    "start_time": "2021-12-09T21:06:42.514Z"
   },
   {
    "duration": 7,
    "start_time": "2021-12-09T21:06:42.527Z"
   },
   {
    "duration": 29,
    "start_time": "2021-12-09T21:06:42.536Z"
   },
   {
    "duration": 6,
    "start_time": "2021-12-09T21:06:42.566Z"
   },
   {
    "duration": 9,
    "start_time": "2021-12-09T21:06:42.573Z"
   },
   {
    "duration": 10,
    "start_time": "2021-12-09T21:06:42.583Z"
   },
   {
    "duration": 11,
    "start_time": "2021-12-09T21:06:42.595Z"
   },
   {
    "duration": 29,
    "start_time": "2021-12-09T21:06:42.607Z"
   },
   {
    "duration": 5,
    "start_time": "2021-12-09T21:06:42.666Z"
   },
   {
    "duration": 4,
    "start_time": "2021-12-09T21:06:42.675Z"
   },
   {
    "duration": 28,
    "start_time": "2021-12-09T21:06:42.681Z"
   },
   {
    "duration": 4,
    "start_time": "2021-12-09T21:06:42.711Z"
   },
   {
    "duration": 10,
    "start_time": "2021-12-09T21:06:42.716Z"
   },
   {
    "duration": 4,
    "start_time": "2021-12-09T21:06:42.728Z"
   },
   {
    "duration": 10,
    "start_time": "2021-12-09T21:06:42.763Z"
   },
   {
    "duration": 19,
    "start_time": "2021-12-09T21:06:42.775Z"
   },
   {
    "duration": 14,
    "start_time": "2021-12-09T21:06:42.796Z"
   },
   {
    "duration": 10,
    "start_time": "2021-12-09T21:06:42.813Z"
   },
   {
    "duration": 29,
    "start_time": "2021-12-09T21:06:42.825Z"
   },
   {
    "duration": 9,
    "start_time": "2021-12-09T21:06:42.856Z"
   },
   {
    "duration": 7,
    "start_time": "2021-12-09T21:06:42.867Z"
   },
   {
    "duration": 24,
    "start_time": "2021-12-09T21:06:42.876Z"
   },
   {
    "duration": 18,
    "start_time": "2021-12-09T21:06:42.902Z"
   },
   {
    "duration": 13,
    "start_time": "2021-12-09T21:06:42.921Z"
   },
   {
    "duration": 31,
    "start_time": "2021-12-09T21:06:42.936Z"
   },
   {
    "duration": 5,
    "start_time": "2021-12-09T21:06:42.968Z"
   },
   {
    "duration": 737,
    "start_time": "2021-12-09T21:06:42.975Z"
   },
   {
    "duration": 2598,
    "start_time": "2021-12-09T21:06:43.714Z"
   },
   {
    "duration": 7,
    "start_time": "2021-12-09T21:06:46.314Z"
   },
   {
    "duration": 19,
    "start_time": "2021-12-09T21:06:46.322Z"
   },
   {
    "duration": 37,
    "start_time": "2021-12-09T21:06:46.343Z"
   },
   {
    "duration": 7,
    "start_time": "2021-12-09T21:06:46.382Z"
   },
   {
    "duration": 5,
    "start_time": "2021-12-09T21:06:46.391Z"
   },
   {
    "duration": 23,
    "start_time": "2021-12-09T21:06:46.397Z"
   },
   {
    "duration": 7,
    "start_time": "2021-12-09T21:06:46.422Z"
   },
   {
    "duration": 4,
    "start_time": "2021-12-09T21:06:46.464Z"
   },
   {
    "duration": 29,
    "start_time": "2021-12-09T21:06:46.470Z"
   },
   {
    "duration": 8,
    "start_time": "2021-12-09T21:06:46.500Z"
   },
   {
    "duration": 8,
    "start_time": "2021-12-09T21:06:46.509Z"
   },
   {
    "duration": 7,
    "start_time": "2021-12-09T21:06:46.518Z"
   },
   {
    "duration": 1316,
    "start_time": "2021-12-09T21:06:46.527Z"
   },
   {
    "duration": 8,
    "start_time": "2021-12-09T21:06:47.845Z"
   },
   {
    "duration": 4,
    "start_time": "2021-12-09T21:06:47.863Z"
   },
   {
    "duration": 6,
    "start_time": "2021-12-09T21:06:47.869Z"
   },
   {
    "duration": 8,
    "start_time": "2021-12-09T21:06:47.877Z"
   },
   {
    "duration": 21,
    "start_time": "2021-12-09T21:06:47.887Z"
   },
   {
    "duration": 6,
    "start_time": "2021-12-09T21:06:47.910Z"
   },
   {
    "duration": 6,
    "start_time": "2021-12-09T21:06:47.917Z"
   },
   {
    "duration": 52,
    "start_time": "2021-12-09T21:06:47.925Z"
   },
   {
    "duration": 13,
    "start_time": "2021-12-09T21:06:47.978Z"
   },
   {
    "duration": 5,
    "start_time": "2021-12-09T21:06:47.993Z"
   },
   {
    "duration": 8,
    "start_time": "2021-12-09T21:06:47.999Z"
   },
   {
    "duration": 12,
    "start_time": "2021-12-09T21:06:48.009Z"
   },
   {
    "duration": 7,
    "start_time": "2021-12-09T21:06:48.026Z"
   },
   {
    "duration": 8,
    "start_time": "2021-12-09T21:06:48.063Z"
   },
   {
    "duration": 4,
    "start_time": "2021-12-09T21:06:48.073Z"
   },
   {
    "duration": 28,
    "start_time": "2021-12-09T21:06:48.079Z"
   },
   {
    "duration": 20,
    "start_time": "2021-12-09T21:06:48.109Z"
   },
   {
    "duration": 20,
    "start_time": "2021-12-09T21:06:48.163Z"
   },
   {
    "duration": 662,
    "start_time": "2021-12-09T23:32:49.684Z"
   },
   {
    "duration": 8,
    "start_time": "2021-12-09T23:33:00.527Z"
   },
   {
    "duration": 12,
    "start_time": "2021-12-09T23:33:11.581Z"
   },
   {
    "duration": 9,
    "start_time": "2021-12-09T23:33:22.398Z"
   },
   {
    "duration": 54,
    "start_time": "2021-12-09T23:34:34.218Z"
   },
   {
    "duration": 225,
    "start_time": "2021-12-09T23:34:47.915Z"
   },
   {
    "duration": 10,
    "start_time": "2021-12-09T23:35:11.761Z"
   },
   {
    "duration": 8,
    "start_time": "2021-12-09T23:35:43.188Z"
   },
   {
    "duration": 8,
    "start_time": "2021-12-09T23:37:22.338Z"
   },
   {
    "duration": 170,
    "start_time": "2021-12-09T23:38:47.279Z"
   },
   {
    "duration": 10,
    "start_time": "2021-12-09T23:39:04.710Z"
   },
   {
    "duration": 183,
    "start_time": "2021-12-09T23:43:57.279Z"
   },
   {
    "duration": 8,
    "start_time": "2021-12-09T23:44:06.113Z"
   },
   {
    "duration": 168,
    "start_time": "2021-12-09T23:49:25.889Z"
   },
   {
    "duration": 10,
    "start_time": "2021-12-09T23:49:48.618Z"
   },
   {
    "duration": 7,
    "start_time": "2021-12-09T23:51:40.236Z"
   },
   {
    "duration": 175,
    "start_time": "2021-12-09T23:52:17.525Z"
   },
   {
    "duration": 250,
    "start_time": "2021-12-09T23:52:26.512Z"
   },
   {
    "duration": 177,
    "start_time": "2021-12-10T00:03:39.588Z"
   },
   {
    "duration": 235,
    "start_time": "2021-12-10T00:04:13.207Z"
   },
   {
    "duration": 382,
    "start_time": "2021-12-10T00:05:53.089Z"
   },
   {
    "duration": 187,
    "start_time": "2021-12-10T00:06:24.450Z"
   },
   {
    "duration": 179,
    "start_time": "2021-12-10T00:06:32.596Z"
   },
   {
    "duration": 184,
    "start_time": "2021-12-10T00:07:33.444Z"
   },
   {
    "duration": 703,
    "start_time": "2021-12-10T00:08:29.532Z"
   },
   {
    "duration": 5,
    "start_time": "2021-12-10T00:08:30.237Z"
   },
   {
    "duration": 18,
    "start_time": "2021-12-10T00:08:30.244Z"
   },
   {
    "duration": 15,
    "start_time": "2021-12-10T00:08:30.264Z"
   },
   {
    "duration": 4,
    "start_time": "2021-12-10T00:08:56.515Z"
   },
   {
    "duration": 5,
    "start_time": "2021-12-10T00:09:21.525Z"
   },
   {
    "duration": 27,
    "start_time": "2021-12-10T00:11:05.254Z"
   },
   {
    "duration": 39,
    "start_time": "2021-12-10T00:11:37.197Z"
   },
   {
    "duration": 45,
    "start_time": "2021-12-10T00:13:10.520Z"
   },
   {
    "duration": 4,
    "start_time": "2021-12-10T00:13:44.916Z"
   },
   {
    "duration": 6,
    "start_time": "2021-12-10T00:16:59.667Z"
   },
   {
    "duration": 5,
    "start_time": "2021-12-10T00:17:42.118Z"
   },
   {
    "duration": 4,
    "start_time": "2021-12-10T00:18:00.694Z"
   },
   {
    "duration": 4,
    "start_time": "2021-12-10T00:18:15.560Z"
   },
   {
    "duration": 629,
    "start_time": "2021-12-10T13:32:02.011Z"
   },
   {
    "duration": 6,
    "start_time": "2021-12-10T13:32:10.321Z"
   },
   {
    "duration": 10,
    "start_time": "2021-12-10T13:32:28.431Z"
   },
   {
    "duration": 11,
    "start_time": "2021-12-10T13:32:34.980Z"
   },
   {
    "duration": 5,
    "start_time": "2021-12-10T13:32:41.081Z"
   },
   {
    "duration": 298,
    "start_time": "2021-12-10T13:33:35.511Z"
   },
   {
    "duration": 23,
    "start_time": "2021-12-10T13:34:21.770Z"
   },
   {
    "duration": 20,
    "start_time": "2021-12-10T13:36:43.025Z"
   },
   {
    "duration": 7,
    "start_time": "2021-12-10T13:36:59.696Z"
   },
   {
    "duration": 7034,
    "start_time": "2021-12-10T13:42:15.645Z"
   },
   {
    "duration": 4,
    "start_time": "2021-12-10T13:42:26.498Z"
   },
   {
    "duration": 4,
    "start_time": "2021-12-10T13:45:44.324Z"
   },
   {
    "duration": 6,
    "start_time": "2021-12-10T13:49:46.936Z"
   },
   {
    "duration": 7,
    "start_time": "2021-12-10T14:05:58.941Z"
   },
   {
    "duration": 28,
    "start_time": "2021-12-10T14:07:34.712Z"
   },
   {
    "duration": 20,
    "start_time": "2021-12-10T14:08:34.794Z"
   },
   {
    "duration": 25,
    "start_time": "2021-12-10T14:08:44.214Z"
   },
   {
    "duration": 601,
    "start_time": "2021-12-10T14:09:25.696Z"
   },
   {
    "duration": 5,
    "start_time": "2021-12-10T14:09:26.299Z"
   },
   {
    "duration": 13,
    "start_time": "2021-12-10T14:09:26.306Z"
   },
   {
    "duration": 8,
    "start_time": "2021-12-10T14:09:26.320Z"
   },
   {
    "duration": 27,
    "start_time": "2021-12-10T14:09:26.329Z"
   },
   {
    "duration": 4,
    "start_time": "2021-12-10T14:09:26.357Z"
   },
   {
    "duration": 24,
    "start_time": "2021-12-10T14:09:26.363Z"
   },
   {
    "duration": 6,
    "start_time": "2021-12-10T14:09:26.388Z"
   },
   {
    "duration": 17,
    "start_time": "2021-12-10T14:09:30.676Z"
   },
   {
    "duration": 17,
    "start_time": "2021-12-10T14:10:15.775Z"
   },
   {
    "duration": 9,
    "start_time": "2021-12-10T14:16:13.917Z"
   },
   {
    "duration": 4,
    "start_time": "2021-12-10T14:16:23.607Z"
   },
   {
    "duration": 3,
    "start_time": "2021-12-10T14:16:27.207Z"
   },
   {
    "duration": 302,
    "start_time": "2021-12-10T14:18:56.586Z"
   },
   {
    "duration": 6,
    "start_time": "2021-12-10T14:19:16.986Z"
   },
   {
    "duration": 312,
    "start_time": "2021-12-10T14:20:23.285Z"
   },
   {
    "duration": 7,
    "start_time": "2021-12-10T14:20:36.656Z"
   },
   {
    "duration": 5,
    "start_time": "2021-12-10T14:21:02.336Z"
   },
   {
    "duration": 18,
    "start_time": "2021-12-10T14:25:11.723Z"
   },
   {
    "duration": 252,
    "start_time": "2021-12-10T15:07:04.457Z"
   },
   {
    "duration": 8,
    "start_time": "2021-12-10T15:07:55.568Z"
   },
   {
    "duration": 4,
    "start_time": "2021-12-10T15:22:24.246Z"
   },
   {
    "duration": 77,
    "start_time": "2021-12-10T15:30:25.817Z"
   },
   {
    "duration": 3606,
    "start_time": "2021-12-10T15:30:53.567Z"
   },
   {
    "duration": 3508,
    "start_time": "2021-12-10T15:32:02.712Z"
   },
   {
    "duration": 319,
    "start_time": "2021-12-10T15:33:29.733Z"
   },
   {
    "duration": 11,
    "start_time": "2021-12-10T15:34:26.560Z"
   },
   {
    "duration": 6,
    "start_time": "2021-12-10T15:35:16.917Z"
   },
   {
    "duration": 3,
    "start_time": "2021-12-10T15:35:54.218Z"
   },
   {
    "duration": 4,
    "start_time": "2021-12-10T15:36:12.916Z"
   },
   {
    "duration": 675,
    "start_time": "2021-12-10T15:48:14.664Z"
   },
   {
    "duration": 7,
    "start_time": "2021-12-10T15:48:15.341Z"
   },
   {
    "duration": 11,
    "start_time": "2021-12-10T15:48:15.350Z"
   },
   {
    "duration": 8,
    "start_time": "2021-12-10T15:48:15.362Z"
   },
   {
    "duration": 30,
    "start_time": "2021-12-10T15:48:15.372Z"
   },
   {
    "duration": 5,
    "start_time": "2021-12-10T15:48:15.403Z"
   },
   {
    "duration": 12,
    "start_time": "2021-12-10T15:48:15.410Z"
   },
   {
    "duration": 10,
    "start_time": "2021-12-10T15:48:15.424Z"
   },
   {
    "duration": 23,
    "start_time": "2021-12-10T15:48:15.436Z"
   },
   {
    "duration": 8,
    "start_time": "2021-12-10T15:48:15.461Z"
   },
   {
    "duration": 19,
    "start_time": "2021-12-10T15:48:15.470Z"
   },
   {
    "duration": 23,
    "start_time": "2021-12-10T15:48:15.491Z"
   },
   {
    "duration": 6,
    "start_time": "2021-12-10T15:48:15.515Z"
   },
   {
    "duration": 435,
    "start_time": "2021-12-10T15:48:15.523Z"
   },
   {
    "duration": 5,
    "start_time": "2021-12-10T15:48:15.960Z"
   },
   {
    "duration": 21,
    "start_time": "2021-12-10T15:48:15.966Z"
   },
   {
    "duration": 639,
    "start_time": "2021-12-10T15:50:21.372Z"
   },
   {
    "duration": 5,
    "start_time": "2021-12-10T15:50:22.013Z"
   },
   {
    "duration": 13,
    "start_time": "2021-12-10T15:50:22.020Z"
   },
   {
    "duration": 8,
    "start_time": "2021-12-10T15:50:22.036Z"
   },
   {
    "duration": 20,
    "start_time": "2021-12-10T15:50:22.046Z"
   },
   {
    "duration": 7,
    "start_time": "2021-12-10T15:50:22.089Z"
   },
   {
    "duration": 6,
    "start_time": "2021-12-10T15:50:22.098Z"
   },
   {
    "duration": 15,
    "start_time": "2021-12-10T15:50:22.106Z"
   },
   {
    "duration": 18,
    "start_time": "2021-12-10T15:50:22.123Z"
   },
   {
    "duration": 9,
    "start_time": "2021-12-10T15:50:22.143Z"
   },
   {
    "duration": 6,
    "start_time": "2021-12-10T15:50:22.153Z"
   },
   {
    "duration": 18,
    "start_time": "2021-12-10T15:50:22.187Z"
   },
   {
    "duration": 8,
    "start_time": "2021-12-10T15:50:22.207Z"
   },
   {
    "duration": 343,
    "start_time": "2021-12-10T15:50:22.216Z"
   },
   {
    "duration": 5,
    "start_time": "2021-12-10T15:50:22.560Z"
   },
   {
    "duration": 7,
    "start_time": "2021-12-10T15:50:22.566Z"
   },
   {
    "duration": 4,
    "start_time": "2021-12-10T15:50:22.587Z"
   },
   {
    "duration": 622,
    "start_time": "2021-12-10T15:51:59.926Z"
   },
   {
    "duration": 5,
    "start_time": "2021-12-10T15:52:00.549Z"
   },
   {
    "duration": 18,
    "start_time": "2021-12-10T15:52:00.557Z"
   },
   {
    "duration": 23,
    "start_time": "2021-12-10T15:52:00.577Z"
   },
   {
    "duration": 21,
    "start_time": "2021-12-10T15:52:00.601Z"
   },
   {
    "duration": 5,
    "start_time": "2021-12-10T15:52:00.624Z"
   },
   {
    "duration": 11,
    "start_time": "2021-12-10T15:52:00.631Z"
   },
   {
    "duration": 10,
    "start_time": "2021-12-10T15:52:00.643Z"
   },
   {
    "duration": 18,
    "start_time": "2021-12-10T15:52:00.655Z"
   },
   {
    "duration": 18,
    "start_time": "2021-12-10T15:52:00.674Z"
   },
   {
    "duration": 5,
    "start_time": "2021-12-10T15:52:00.693Z"
   },
   {
    "duration": 24,
    "start_time": "2021-12-10T15:52:00.700Z"
   },
   {
    "duration": 13,
    "start_time": "2021-12-10T15:52:00.726Z"
   },
   {
    "duration": 348,
    "start_time": "2021-12-10T15:52:00.740Z"
   },
   {
    "duration": 3,
    "start_time": "2021-12-10T15:52:01.090Z"
   },
   {
    "duration": 45,
    "start_time": "2021-12-10T15:52:01.095Z"
   },
   {
    "duration": 11,
    "start_time": "2021-12-10T15:52:01.141Z"
   },
   {
    "duration": 4,
    "start_time": "2021-12-10T15:52:56.911Z"
   },
   {
    "duration": 3,
    "start_time": "2021-12-10T15:53:03.586Z"
   },
   {
    "duration": 78,
    "start_time": "2021-12-10T15:56:47.327Z"
   },
   {
    "duration": 5,
    "start_time": "2021-12-10T15:57:12.180Z"
   },
   {
    "duration": 5,
    "start_time": "2021-12-10T15:57:15.070Z"
   },
   {
    "duration": 7,
    "start_time": "2021-12-10T15:57:52.768Z"
   },
   {
    "duration": 6,
    "start_time": "2021-12-10T16:02:31.871Z"
   },
   {
    "duration": 7,
    "start_time": "2021-12-10T16:02:33.847Z"
   },
   {
    "duration": 5,
    "start_time": "2021-12-10T16:04:54.769Z"
   },
   {
    "duration": 5,
    "start_time": "2021-12-10T16:04:59.988Z"
   },
   {
    "duration": 5,
    "start_time": "2021-12-10T16:06:17.426Z"
   },
   {
    "duration": 4,
    "start_time": "2021-12-10T16:06:18.667Z"
   },
   {
    "duration": 4,
    "start_time": "2021-12-10T16:09:15.721Z"
   },
   {
    "duration": 6,
    "start_time": "2021-12-10T16:09:17.021Z"
   },
   {
    "duration": 24,
    "start_time": "2021-12-10T16:09:30.013Z"
   },
   {
    "duration": 7,
    "start_time": "2021-12-10T16:10:50.135Z"
   },
   {
    "duration": 4,
    "start_time": "2021-12-10T16:11:06.699Z"
   },
   {
    "duration": 4,
    "start_time": "2021-12-10T16:12:47.010Z"
   },
   {
    "duration": 4,
    "start_time": "2021-12-10T16:13:35.076Z"
   },
   {
    "duration": 5,
    "start_time": "2021-12-10T16:13:43.916Z"
   },
   {
    "duration": 14,
    "start_time": "2021-12-10T16:14:45.707Z"
   },
   {
    "duration": 7,
    "start_time": "2021-12-10T16:14:52.993Z"
   },
   {
    "duration": 6,
    "start_time": "2021-12-10T16:14:56.644Z"
   },
   {
    "duration": 7303,
    "start_time": "2021-12-10T16:17:55.699Z"
   },
   {
    "duration": 8026,
    "start_time": "2021-12-10T16:18:08.539Z"
   },
   {
    "duration": 6328,
    "start_time": "2021-12-10T16:18:44.009Z"
   },
   {
    "duration": 9,
    "start_time": "2021-12-10T16:20:28.702Z"
   },
   {
    "duration": 46,
    "start_time": "2021-12-10T16:20:40.752Z"
   },
   {
    "duration": 9,
    "start_time": "2021-12-10T16:21:16.742Z"
   },
   {
    "duration": 10,
    "start_time": "2021-12-10T16:26:07.074Z"
   },
   {
    "duration": 11,
    "start_time": "2021-12-10T16:28:32.949Z"
   },
   {
    "duration": 10,
    "start_time": "2021-12-10T16:29:12.883Z"
   },
   {
    "duration": 113,
    "start_time": "2021-12-10T16:36:41.039Z"
   },
   {
    "duration": 4,
    "start_time": "2021-12-10T16:37:11.041Z"
   },
   {
    "duration": 5,
    "start_time": "2021-12-10T16:40:02.038Z"
   },
   {
    "duration": 4,
    "start_time": "2021-12-10T16:40:29.249Z"
   },
   {
    "duration": 7,
    "start_time": "2021-12-10T16:40:44.318Z"
   },
   {
    "duration": 5,
    "start_time": "2021-12-10T16:40:54.963Z"
   },
   {
    "duration": 10,
    "start_time": "2021-12-10T16:42:03.175Z"
   },
   {
    "duration": 4,
    "start_time": "2021-12-10T16:44:00.994Z"
   },
   {
    "duration": 6,
    "start_time": "2021-12-10T16:44:11.414Z"
   },
   {
    "duration": 611,
    "start_time": "2021-12-10T16:44:15.865Z"
   },
   {
    "duration": 2639,
    "start_time": "2021-12-10T16:44:31.073Z"
   },
   {
    "duration": 7,
    "start_time": "2021-12-10T16:45:19.136Z"
   },
   {
    "duration": 15,
    "start_time": "2021-12-10T16:45:29.837Z"
   },
   {
    "duration": 18,
    "start_time": "2021-12-10T16:47:39.674Z"
   },
   {
    "duration": 7,
    "start_time": "2021-12-10T16:47:49.402Z"
   },
   {
    "duration": 18,
    "start_time": "2021-12-10T16:48:33.163Z"
   },
   {
    "duration": 7,
    "start_time": "2021-12-10T16:48:37.492Z"
   },
   {
    "duration": 4,
    "start_time": "2021-12-10T16:49:10.230Z"
   },
   {
    "duration": 20,
    "start_time": "2021-12-10T16:49:40.737Z"
   },
   {
    "duration": 589,
    "start_time": "2021-12-10T17:12:08.035Z"
   },
   {
    "duration": 6,
    "start_time": "2021-12-10T17:12:08.627Z"
   },
   {
    "duration": 15,
    "start_time": "2021-12-10T17:12:08.635Z"
   },
   {
    "duration": 8,
    "start_time": "2021-12-10T17:12:08.651Z"
   },
   {
    "duration": 32,
    "start_time": "2021-12-10T17:12:08.661Z"
   },
   {
    "duration": 5,
    "start_time": "2021-12-10T17:12:08.694Z"
   },
   {
    "duration": 4,
    "start_time": "2021-12-10T17:12:08.700Z"
   },
   {
    "duration": 10,
    "start_time": "2021-12-10T17:12:08.705Z"
   },
   {
    "duration": 18,
    "start_time": "2021-12-10T17:12:08.718Z"
   },
   {
    "duration": 9,
    "start_time": "2021-12-10T17:12:08.738Z"
   },
   {
    "duration": 4,
    "start_time": "2021-12-10T17:12:08.748Z"
   },
   {
    "duration": 51,
    "start_time": "2021-12-10T17:12:08.754Z"
   },
   {
    "duration": 8,
    "start_time": "2021-12-10T17:12:08.806Z"
   },
   {
    "duration": 330,
    "start_time": "2021-12-10T17:12:08.815Z"
   },
   {
    "duration": 3,
    "start_time": "2021-12-10T17:12:09.146Z"
   },
   {
    "duration": 6,
    "start_time": "2021-12-10T17:12:09.151Z"
   },
   {
    "duration": 4,
    "start_time": "2021-12-10T17:12:09.159Z"
   },
   {
    "duration": 6,
    "start_time": "2021-12-10T17:12:09.164Z"
   },
   {
    "duration": 4,
    "start_time": "2021-12-10T17:12:09.187Z"
   },
   {
    "duration": 6,
    "start_time": "2021-12-10T17:12:09.192Z"
   },
   {
    "duration": 3,
    "start_time": "2021-12-10T17:12:09.200Z"
   },
   {
    "duration": 8,
    "start_time": "2021-12-10T17:12:09.205Z"
   },
   {
    "duration": 11,
    "start_time": "2021-12-10T17:12:09.214Z"
   },
   {
    "duration": 5,
    "start_time": "2021-12-10T17:12:09.226Z"
   },
   {
    "duration": 6,
    "start_time": "2021-12-10T17:12:09.232Z"
   },
   {
    "duration": 4,
    "start_time": "2021-12-10T17:12:09.239Z"
   },
   {
    "duration": 4,
    "start_time": "2021-12-10T17:12:09.246Z"
   },
   {
    "duration": 36,
    "start_time": "2021-12-10T17:12:09.252Z"
   },
   {
    "duration": 8,
    "start_time": "2021-12-10T17:12:09.290Z"
   },
   {
    "duration": 3,
    "start_time": "2021-12-10T17:12:09.300Z"
   },
   {
    "duration": 4,
    "start_time": "2021-12-10T17:12:09.305Z"
   },
   {
    "duration": 10,
    "start_time": "2021-12-10T17:12:09.310Z"
   },
   {
    "duration": 6,
    "start_time": "2021-12-10T17:12:09.321Z"
   },
   {
    "duration": 14,
    "start_time": "2021-12-10T17:12:09.328Z"
   },
   {
    "duration": 7,
    "start_time": "2021-12-10T17:12:09.343Z"
   },
   {
    "duration": 38,
    "start_time": "2021-12-10T17:12:09.351Z"
   },
   {
    "duration": 14,
    "start_time": "2021-12-10T17:12:09.391Z"
   },
   {
    "duration": 9,
    "start_time": "2021-12-10T17:12:09.407Z"
   },
   {
    "duration": 18,
    "start_time": "2021-12-10T17:12:09.419Z"
   },
   {
    "duration": 17,
    "start_time": "2021-12-10T17:12:09.438Z"
   },
   {
    "duration": 10,
    "start_time": "2021-12-10T17:12:09.456Z"
   },
   {
    "duration": 9,
    "start_time": "2021-12-10T17:12:09.468Z"
   },
   {
    "duration": 27,
    "start_time": "2021-12-10T17:12:09.478Z"
   },
   {
    "duration": 28,
    "start_time": "2021-12-10T17:12:09.507Z"
   },
   {
    "duration": 12,
    "start_time": "2021-12-10T17:12:09.537Z"
   },
   {
    "duration": 11,
    "start_time": "2021-12-10T17:12:09.551Z"
   },
   {
    "duration": 626,
    "start_time": "2021-12-10T17:12:09.564Z"
   },
   {
    "duration": 2726,
    "start_time": "2021-12-10T17:12:10.191Z"
   },
   {
    "duration": 6,
    "start_time": "2021-12-10T17:12:12.919Z"
   },
   {
    "duration": 23,
    "start_time": "2021-12-10T17:12:12.927Z"
   },
   {
    "duration": 18,
    "start_time": "2021-12-10T17:12:12.951Z"
   },
   {
    "duration": 20,
    "start_time": "2021-12-10T17:12:12.970Z"
   },
   {
    "duration": 642,
    "start_time": "2021-12-10T17:13:43.871Z"
   },
   {
    "duration": 7,
    "start_time": "2021-12-10T17:13:44.515Z"
   },
   {
    "duration": 11,
    "start_time": "2021-12-10T17:13:44.524Z"
   },
   {
    "duration": 9,
    "start_time": "2021-12-10T17:13:44.537Z"
   },
   {
    "duration": 45,
    "start_time": "2021-12-10T17:13:44.548Z"
   },
   {
    "duration": 5,
    "start_time": "2021-12-10T17:13:44.594Z"
   },
   {
    "duration": 5,
    "start_time": "2021-12-10T17:13:44.600Z"
   },
   {
    "duration": 8,
    "start_time": "2021-12-10T17:13:44.606Z"
   },
   {
    "duration": 17,
    "start_time": "2021-12-10T17:13:44.616Z"
   },
   {
    "duration": 8,
    "start_time": "2021-12-10T17:13:44.634Z"
   },
   {
    "duration": 4,
    "start_time": "2021-12-10T17:13:44.644Z"
   },
   {
    "duration": 49,
    "start_time": "2021-12-10T17:13:44.649Z"
   },
   {
    "duration": 7,
    "start_time": "2021-12-10T17:13:44.700Z"
   },
   {
    "duration": 328,
    "start_time": "2021-12-10T17:13:44.709Z"
   },
   {
    "duration": 4,
    "start_time": "2021-12-10T17:13:45.038Z"
   },
   {
    "duration": 8,
    "start_time": "2021-12-10T17:13:45.043Z"
   },
   {
    "duration": 9,
    "start_time": "2021-12-10T17:13:45.052Z"
   },
   {
    "duration": 5,
    "start_time": "2021-12-10T17:13:45.062Z"
   },
   {
    "duration": 19,
    "start_time": "2021-12-10T17:13:45.069Z"
   },
   {
    "duration": 5,
    "start_time": "2021-12-10T17:13:45.090Z"
   },
   {
    "duration": 5,
    "start_time": "2021-12-10T17:13:45.096Z"
   },
   {
    "duration": 7,
    "start_time": "2021-12-10T17:13:45.103Z"
   },
   {
    "duration": 4,
    "start_time": "2021-12-10T17:13:45.111Z"
   },
   {
    "duration": 5,
    "start_time": "2021-12-10T17:13:45.117Z"
   },
   {
    "duration": 5,
    "start_time": "2021-12-10T17:13:45.124Z"
   },
   {
    "duration": 4,
    "start_time": "2021-12-10T17:13:45.131Z"
   },
   {
    "duration": 4,
    "start_time": "2021-12-10T17:13:45.138Z"
   },
   {
    "duration": 45,
    "start_time": "2021-12-10T17:13:45.143Z"
   },
   {
    "duration": 9,
    "start_time": "2021-12-10T17:13:45.189Z"
   },
   {
    "duration": 8,
    "start_time": "2021-12-10T17:13:45.199Z"
   },
   {
    "duration": 7,
    "start_time": "2021-12-10T17:13:45.208Z"
   },
   {
    "duration": 6,
    "start_time": "2021-12-10T17:13:45.216Z"
   },
   {
    "duration": 13,
    "start_time": "2021-12-10T17:13:45.224Z"
   },
   {
    "duration": 13,
    "start_time": "2021-12-10T17:13:45.239Z"
   },
   {
    "duration": 12,
    "start_time": "2021-12-10T17:13:45.253Z"
   },
   {
    "duration": 22,
    "start_time": "2021-12-10T17:13:45.266Z"
   },
   {
    "duration": 10,
    "start_time": "2021-12-10T17:13:45.289Z"
   },
   {
    "duration": 4,
    "start_time": "2021-12-10T17:13:45.300Z"
   },
   {
    "duration": 7,
    "start_time": "2021-12-10T17:13:45.305Z"
   },
   {
    "duration": 6,
    "start_time": "2021-12-10T17:13:45.314Z"
   },
   {
    "duration": 10,
    "start_time": "2021-12-10T17:13:45.321Z"
   },
   {
    "duration": 3,
    "start_time": "2021-12-10T17:13:45.332Z"
   },
   {
    "duration": 11,
    "start_time": "2021-12-10T17:13:45.337Z"
   },
   {
    "duration": 43,
    "start_time": "2021-12-10T17:13:45.349Z"
   },
   {
    "duration": 10,
    "start_time": "2021-12-10T17:13:45.394Z"
   },
   {
    "duration": 5,
    "start_time": "2021-12-10T17:13:45.406Z"
   },
   {
    "duration": 624,
    "start_time": "2021-12-10T17:13:45.413Z"
   },
   {
    "duration": 2717,
    "start_time": "2021-12-10T17:13:46.039Z"
   },
   {
    "duration": 6,
    "start_time": "2021-12-10T17:13:48.757Z"
   },
   {
    "duration": 31,
    "start_time": "2021-12-10T17:13:48.765Z"
   },
   {
    "duration": 18,
    "start_time": "2021-12-10T17:13:48.797Z"
   },
   {
    "duration": 6,
    "start_time": "2021-12-10T17:13:48.816Z"
   },
   {
    "duration": 4,
    "start_time": "2021-12-10T17:13:54.850Z"
   },
   {
    "duration": 10,
    "start_time": "2021-12-10T17:18:29.522Z"
   },
   {
    "duration": 11,
    "start_time": "2021-12-10T17:18:48.360Z"
   },
   {
    "duration": 346,
    "start_time": "2021-12-10T17:20:39.017Z"
   },
   {
    "duration": 8,
    "start_time": "2021-12-10T17:20:56.756Z"
   },
   {
    "duration": 7,
    "start_time": "2021-12-10T17:21:24.257Z"
   },
   {
    "duration": 233,
    "start_time": "2021-12-10T17:30:38.790Z"
   },
   {
    "duration": 239,
    "start_time": "2021-12-10T17:31:16.251Z"
   },
   {
    "duration": 7,
    "start_time": "2021-12-10T17:31:35.291Z"
   },
   {
    "duration": 10,
    "start_time": "2021-12-10T17:31:42.360Z"
   },
   {
    "duration": 7,
    "start_time": "2021-12-10T17:31:51.110Z"
   },
   {
    "duration": 90,
    "start_time": "2021-12-10T17:33:05.129Z"
   },
   {
    "duration": 6,
    "start_time": "2021-12-10T17:33:16.984Z"
   },
   {
    "duration": 11,
    "start_time": "2021-12-10T17:33:20.127Z"
   },
   {
    "duration": 9,
    "start_time": "2021-12-10T17:33:49.203Z"
   },
   {
    "duration": 11,
    "start_time": "2021-12-10T17:33:51.143Z"
   },
   {
    "duration": 9,
    "start_time": "2021-12-10T17:33:53.828Z"
   },
   {
    "duration": 236,
    "start_time": "2021-12-10T17:37:21.908Z"
   },
   {
    "duration": 5,
    "start_time": "2021-12-10T17:37:47.557Z"
   },
   {
    "duration": 11,
    "start_time": "2021-12-10T17:37:51.112Z"
   },
   {
    "duration": 6,
    "start_time": "2021-12-10T17:37:59.022Z"
   },
   {
    "duration": 285,
    "start_time": "2021-12-10T17:45:39.304Z"
   },
   {
    "duration": 9,
    "start_time": "2021-12-10T17:45:54.482Z"
   },
   {
    "duration": 14,
    "start_time": "2021-12-10T17:45:57.078Z"
   },
   {
    "duration": 7,
    "start_time": "2021-12-10T17:46:06.163Z"
   },
   {
    "duration": 26,
    "start_time": "2021-12-10T17:50:28.047Z"
   },
   {
    "duration": 9,
    "start_time": "2021-12-10T17:51:09.480Z"
   },
   {
    "duration": 5,
    "start_time": "2021-12-10T17:51:30.726Z"
   },
   {
    "duration": 8,
    "start_time": "2021-12-10T17:51:40.824Z"
   },
   {
    "duration": 5,
    "start_time": "2021-12-10T17:53:41.843Z"
   },
   {
    "duration": 7,
    "start_time": "2021-12-10T17:53:53.212Z"
   },
   {
    "duration": 29,
    "start_time": "2021-12-10T17:54:20.439Z"
   },
   {
    "duration": 7,
    "start_time": "2021-12-10T17:54:29.089Z"
   },
   {
    "duration": 3,
    "start_time": "2021-12-10T17:54:46.320Z"
   },
   {
    "duration": 21,
    "start_time": "2021-12-10T17:57:15.194Z"
   },
   {
    "duration": 20,
    "start_time": "2021-12-10T17:58:37.174Z"
   },
   {
    "duration": 9,
    "start_time": "2021-12-10T18:00:55.258Z"
   },
   {
    "duration": 12,
    "start_time": "2021-12-10T18:01:24.532Z"
   },
   {
    "duration": 233,
    "start_time": "2021-12-10T18:07:45.548Z"
   },
   {
    "duration": 6,
    "start_time": "2021-12-10T18:08:07.817Z"
   },
   {
    "duration": 4,
    "start_time": "2021-12-10T18:08:41.239Z"
   },
   {
    "duration": 8,
    "start_time": "2021-12-10T18:14:17.290Z"
   },
   {
    "duration": 79,
    "start_time": "2021-12-10T18:20:20.424Z"
   },
   {
    "duration": 6,
    "start_time": "2021-12-10T18:20:34.339Z"
   },
   {
    "duration": 80,
    "start_time": "2021-12-10T18:24:30.991Z"
   },
   {
    "duration": 7,
    "start_time": "2021-12-10T18:25:13.814Z"
   },
   {
    "duration": 4,
    "start_time": "2021-12-10T18:25:35.868Z"
   },
   {
    "duration": 25,
    "start_time": "2021-12-10T18:28:03.278Z"
   },
   {
    "duration": 16,
    "start_time": "2021-12-10T18:30:08.737Z"
   },
   {
    "duration": 650,
    "start_time": "2021-12-10T18:39:28.122Z"
   },
   {
    "duration": 5,
    "start_time": "2021-12-10T18:39:28.773Z"
   },
   {
    "duration": 12,
    "start_time": "2021-12-10T18:39:28.780Z"
   },
   {
    "duration": 9,
    "start_time": "2021-12-10T18:39:28.794Z"
   },
   {
    "duration": 20,
    "start_time": "2021-12-10T18:39:28.804Z"
   },
   {
    "duration": 5,
    "start_time": "2021-12-10T18:39:28.826Z"
   },
   {
    "duration": 4,
    "start_time": "2021-12-10T18:39:28.832Z"
   },
   {
    "duration": 9,
    "start_time": "2021-12-10T18:39:28.838Z"
   },
   {
    "duration": 46,
    "start_time": "2021-12-10T18:39:28.849Z"
   },
   {
    "duration": 9,
    "start_time": "2021-12-10T18:39:28.897Z"
   },
   {
    "duration": 4,
    "start_time": "2021-12-10T18:39:28.907Z"
   },
   {
    "duration": 17,
    "start_time": "2021-12-10T18:39:28.913Z"
   },
   {
    "duration": 6,
    "start_time": "2021-12-10T18:39:28.931Z"
   },
   {
    "duration": 342,
    "start_time": "2021-12-10T18:39:28.939Z"
   },
   {
    "duration": 6,
    "start_time": "2021-12-10T18:39:29.282Z"
   },
   {
    "duration": 9,
    "start_time": "2021-12-10T18:39:29.290Z"
   },
   {
    "duration": 4,
    "start_time": "2021-12-10T18:39:29.301Z"
   },
   {
    "duration": 3,
    "start_time": "2021-12-10T18:39:29.307Z"
   },
   {
    "duration": 5,
    "start_time": "2021-12-10T18:39:29.311Z"
   },
   {
    "duration": 5,
    "start_time": "2021-12-10T18:39:29.318Z"
   },
   {
    "duration": 4,
    "start_time": "2021-12-10T18:39:29.324Z"
   },
   {
    "duration": 8,
    "start_time": "2021-12-10T18:39:29.329Z"
   },
   {
    "duration": 6,
    "start_time": "2021-12-10T18:39:29.341Z"
   },
   {
    "duration": 4,
    "start_time": "2021-12-10T18:39:29.388Z"
   },
   {
    "duration": 6,
    "start_time": "2021-12-10T18:39:29.393Z"
   },
   {
    "duration": 3,
    "start_time": "2021-12-10T18:39:29.401Z"
   },
   {
    "duration": 6,
    "start_time": "2021-12-10T18:39:29.406Z"
   },
   {
    "duration": 6,
    "start_time": "2021-12-10T18:39:29.414Z"
   },
   {
    "duration": 10,
    "start_time": "2021-12-10T18:39:29.421Z"
   },
   {
    "duration": 4,
    "start_time": "2021-12-10T18:39:29.433Z"
   },
   {
    "duration": 4,
    "start_time": "2021-12-10T18:39:29.438Z"
   },
   {
    "duration": 45,
    "start_time": "2021-12-10T18:39:29.444Z"
   },
   {
    "duration": 6,
    "start_time": "2021-12-10T18:39:29.490Z"
   },
   {
    "duration": 15,
    "start_time": "2021-12-10T18:39:29.498Z"
   },
   {
    "duration": 9,
    "start_time": "2021-12-10T18:39:29.514Z"
   },
   {
    "duration": 7,
    "start_time": "2021-12-10T18:39:29.525Z"
   },
   {
    "duration": 10,
    "start_time": "2021-12-10T18:39:29.533Z"
   },
   {
    "duration": 3,
    "start_time": "2021-12-10T18:39:29.544Z"
   },
   {
    "duration": 42,
    "start_time": "2021-12-10T18:39:29.549Z"
   },
   {
    "duration": 8,
    "start_time": "2021-12-10T18:39:29.592Z"
   },
   {
    "duration": 10,
    "start_time": "2021-12-10T18:39:29.602Z"
   },
   {
    "duration": 3,
    "start_time": "2021-12-10T18:39:29.614Z"
   },
   {
    "duration": 14,
    "start_time": "2021-12-10T18:39:29.619Z"
   },
   {
    "duration": 12,
    "start_time": "2021-12-10T18:39:29.634Z"
   },
   {
    "duration": 42,
    "start_time": "2021-12-10T18:39:29.647Z"
   },
   {
    "duration": 6,
    "start_time": "2021-12-10T18:39:29.691Z"
   },
   {
    "duration": 630,
    "start_time": "2021-12-10T18:39:29.698Z"
   },
   {
    "duration": 2731,
    "start_time": "2021-12-10T18:39:30.330Z"
   },
   {
    "duration": 7,
    "start_time": "2021-12-10T18:39:33.062Z"
   },
   {
    "duration": 24,
    "start_time": "2021-12-10T18:39:33.070Z"
   },
   {
    "duration": 18,
    "start_time": "2021-12-10T18:39:33.095Z"
   },
   {
    "duration": 6,
    "start_time": "2021-12-10T18:39:33.114Z"
   },
   {
    "duration": 5,
    "start_time": "2021-12-10T18:39:33.121Z"
   },
   {
    "duration": 9,
    "start_time": "2021-12-10T18:39:33.128Z"
   },
   {
    "duration": 11,
    "start_time": "2021-12-10T18:39:33.138Z"
   },
   {
    "duration": 42,
    "start_time": "2021-12-10T18:39:33.150Z"
   },
   {
    "duration": 25,
    "start_time": "2021-12-10T18:39:33.193Z"
   },
   {
    "duration": 7,
    "start_time": "2021-12-10T18:39:33.219Z"
   },
   {
    "duration": 11,
    "start_time": "2021-12-10T18:39:33.228Z"
   },
   {
    "duration": 7,
    "start_time": "2021-12-10T18:39:33.240Z"
   },
   {
    "duration": 45,
    "start_time": "2021-12-10T18:39:33.249Z"
   },
   {
    "duration": 6,
    "start_time": "2021-12-10T18:39:33.295Z"
   },
   {
    "duration": 4,
    "start_time": "2021-12-10T18:39:33.303Z"
   },
   {
    "duration": 21,
    "start_time": "2021-12-10T18:39:33.309Z"
   },
   {
    "duration": 12,
    "start_time": "2021-12-10T18:39:33.332Z"
   },
   {
    "duration": 5,
    "start_time": "2021-12-10T18:39:33.345Z"
   },
   {
    "duration": 5,
    "start_time": "2021-12-10T18:39:33.351Z"
   },
   {
    "duration": 7,
    "start_time": "2021-12-10T18:39:33.387Z"
   },
   {
    "duration": 6,
    "start_time": "2021-12-10T18:39:33.395Z"
   },
   {
    "duration": 4,
    "start_time": "2021-12-10T18:39:33.403Z"
   },
   {
    "duration": 3,
    "start_time": "2021-12-10T18:39:33.409Z"
   },
   {
    "duration": 25,
    "start_time": "2021-12-10T18:39:33.413Z"
   },
   {
    "duration": 16,
    "start_time": "2021-12-10T18:39:33.440Z"
   },
   {
    "duration": 648,
    "start_time": "2021-12-10T19:02:47.978Z"
   },
   {
    "duration": 5,
    "start_time": "2021-12-10T19:02:48.627Z"
   },
   {
    "duration": 15,
    "start_time": "2021-12-10T19:02:48.634Z"
   },
   {
    "duration": 18,
    "start_time": "2021-12-10T19:02:48.651Z"
   },
   {
    "duration": 21,
    "start_time": "2021-12-10T19:02:48.670Z"
   },
   {
    "duration": 5,
    "start_time": "2021-12-10T19:02:48.692Z"
   },
   {
    "duration": 21,
    "start_time": "2021-12-10T19:02:48.699Z"
   },
   {
    "duration": 19,
    "start_time": "2021-12-10T19:02:48.722Z"
   },
   {
    "duration": 17,
    "start_time": "2021-12-10T19:02:48.743Z"
   },
   {
    "duration": 9,
    "start_time": "2021-12-10T19:02:48.762Z"
   },
   {
    "duration": 8,
    "start_time": "2021-12-10T19:02:48.772Z"
   },
   {
    "duration": 35,
    "start_time": "2021-12-10T19:02:48.787Z"
   },
   {
    "duration": 16,
    "start_time": "2021-12-10T19:02:48.824Z"
   },
   {
    "duration": 310,
    "start_time": "2021-12-10T19:02:48.841Z"
   },
   {
    "duration": 3,
    "start_time": "2021-12-10T19:02:49.153Z"
   },
   {
    "duration": 6,
    "start_time": "2021-12-10T19:02:49.158Z"
   },
   {
    "duration": 20,
    "start_time": "2021-12-10T19:02:49.166Z"
   },
   {
    "duration": 9,
    "start_time": "2021-12-10T19:02:49.187Z"
   },
   {
    "duration": 5,
    "start_time": "2021-12-10T19:02:49.198Z"
   },
   {
    "duration": 18,
    "start_time": "2021-12-10T19:02:49.204Z"
   },
   {
    "duration": 5,
    "start_time": "2021-12-10T19:02:49.223Z"
   },
   {
    "duration": 16,
    "start_time": "2021-12-10T19:02:49.229Z"
   },
   {
    "duration": 14,
    "start_time": "2021-12-10T19:02:49.249Z"
   },
   {
    "duration": 21,
    "start_time": "2021-12-10T19:02:49.266Z"
   },
   {
    "duration": 21,
    "start_time": "2021-12-10T19:02:49.289Z"
   },
   {
    "duration": 10,
    "start_time": "2021-12-10T19:02:49.312Z"
   },
   {
    "duration": 13,
    "start_time": "2021-12-10T19:02:49.324Z"
   },
   {
    "duration": 9,
    "start_time": "2021-12-10T19:02:49.338Z"
   },
   {
    "duration": 24,
    "start_time": "2021-12-10T19:02:49.348Z"
   },
   {
    "duration": 4,
    "start_time": "2021-12-10T19:02:49.373Z"
   },
   {
    "duration": 17,
    "start_time": "2021-12-10T19:02:49.379Z"
   },
   {
    "duration": 5,
    "start_time": "2021-12-10T19:02:49.397Z"
   },
   {
    "duration": 20,
    "start_time": "2021-12-10T19:02:49.403Z"
   },
   {
    "duration": 22,
    "start_time": "2021-12-10T19:02:49.425Z"
   },
   {
    "duration": 27,
    "start_time": "2021-12-10T19:02:49.448Z"
   },
   {
    "duration": 6,
    "start_time": "2021-12-10T19:02:49.477Z"
   },
   {
    "duration": 18,
    "start_time": "2021-12-10T19:02:49.485Z"
   },
   {
    "duration": 3,
    "start_time": "2021-12-10T19:02:49.504Z"
   },
   {
    "duration": 15,
    "start_time": "2021-12-10T19:02:49.508Z"
   },
   {
    "duration": 13,
    "start_time": "2021-12-10T19:02:49.524Z"
   },
   {
    "duration": 15,
    "start_time": "2021-12-10T19:02:49.538Z"
   },
   {
    "duration": 7,
    "start_time": "2021-12-10T19:02:49.554Z"
   },
   {
    "duration": 29,
    "start_time": "2021-12-10T19:02:49.562Z"
   },
   {
    "duration": 13,
    "start_time": "2021-12-10T19:02:49.592Z"
   },
   {
    "duration": 18,
    "start_time": "2021-12-10T19:02:49.606Z"
   },
   {
    "duration": 6,
    "start_time": "2021-12-10T19:02:49.626Z"
   },
   {
    "duration": 617,
    "start_time": "2021-12-10T19:02:49.633Z"
   },
   {
    "duration": 2623,
    "start_time": "2021-12-10T19:02:50.252Z"
   },
   {
    "duration": 16,
    "start_time": "2021-12-10T19:02:52.876Z"
   },
   {
    "duration": 14,
    "start_time": "2021-12-10T19:02:52.894Z"
   },
   {
    "duration": 24,
    "start_time": "2021-12-10T19:02:52.909Z"
   },
   {
    "duration": 6,
    "start_time": "2021-12-10T19:02:52.934Z"
   },
   {
    "duration": 5,
    "start_time": "2021-12-10T19:02:52.942Z"
   },
   {
    "duration": 39,
    "start_time": "2021-12-10T19:02:52.949Z"
   },
   {
    "duration": 11,
    "start_time": "2021-12-10T19:02:52.989Z"
   },
   {
    "duration": 9,
    "start_time": "2021-12-10T19:02:53.001Z"
   },
   {
    "duration": 24,
    "start_time": "2021-12-10T19:02:53.011Z"
   },
   {
    "duration": 7,
    "start_time": "2021-12-10T19:02:53.036Z"
   },
   {
    "duration": 51,
    "start_time": "2021-12-10T19:02:53.044Z"
   },
   {
    "duration": 12,
    "start_time": "2021-12-10T19:02:53.097Z"
   },
   {
    "duration": 6,
    "start_time": "2021-12-10T19:02:53.111Z"
   },
   {
    "duration": 4,
    "start_time": "2021-12-10T19:02:53.118Z"
   },
   {
    "duration": 8,
    "start_time": "2021-12-10T19:02:53.123Z"
   },
   {
    "duration": 6,
    "start_time": "2021-12-10T19:02:53.132Z"
   },
   {
    "duration": 4,
    "start_time": "2021-12-10T19:02:53.140Z"
   },
   {
    "duration": 6,
    "start_time": "2021-12-10T19:02:53.146Z"
   },
   {
    "duration": 26,
    "start_time": "2021-12-10T19:02:53.188Z"
   },
   {
    "duration": 669,
    "start_time": "2021-12-10T19:30:00.364Z"
   },
   {
    "duration": 6,
    "start_time": "2021-12-10T19:30:01.035Z"
   },
   {
    "duration": 24,
    "start_time": "2021-12-10T19:30:01.043Z"
   },
   {
    "duration": 9,
    "start_time": "2021-12-10T19:30:01.069Z"
   },
   {
    "duration": 28,
    "start_time": "2021-12-10T19:30:01.080Z"
   },
   {
    "duration": 5,
    "start_time": "2021-12-10T19:30:01.110Z"
   },
   {
    "duration": 34,
    "start_time": "2021-12-10T19:30:01.117Z"
   },
   {
    "duration": 25,
    "start_time": "2021-12-10T19:30:01.153Z"
   },
   {
    "duration": 44,
    "start_time": "2021-12-10T19:30:01.180Z"
   },
   {
    "duration": 42,
    "start_time": "2021-12-10T19:30:01.226Z"
   },
   {
    "duration": 5,
    "start_time": "2021-12-10T19:30:01.270Z"
   },
   {
    "duration": 35,
    "start_time": "2021-12-10T19:30:01.276Z"
   },
   {
    "duration": 9,
    "start_time": "2021-12-10T19:30:01.312Z"
   },
   {
    "duration": 325,
    "start_time": "2021-12-10T19:30:01.323Z"
   },
   {
    "duration": 3,
    "start_time": "2021-12-10T19:30:01.650Z"
   },
   {
    "duration": 12,
    "start_time": "2021-12-10T19:30:01.655Z"
   },
   {
    "duration": 12,
    "start_time": "2021-12-10T19:30:01.668Z"
   },
   {
    "duration": 14,
    "start_time": "2021-12-10T19:30:01.681Z"
   },
   {
    "duration": 28,
    "start_time": "2021-12-10T19:30:01.697Z"
   },
   {
    "duration": 13,
    "start_time": "2021-12-10T19:30:01.727Z"
   },
   {
    "duration": 8,
    "start_time": "2021-12-10T19:30:01.741Z"
   },
   {
    "duration": 19,
    "start_time": "2021-12-10T19:30:01.750Z"
   },
   {
    "duration": 6,
    "start_time": "2021-12-10T19:30:01.773Z"
   },
   {
    "duration": 4,
    "start_time": "2021-12-10T19:30:01.782Z"
   },
   {
    "duration": 7,
    "start_time": "2021-12-10T19:30:01.788Z"
   },
   {
    "duration": 23,
    "start_time": "2021-12-10T19:30:01.797Z"
   },
   {
    "duration": 11,
    "start_time": "2021-12-10T19:30:01.822Z"
   },
   {
    "duration": 9,
    "start_time": "2021-12-10T19:30:01.834Z"
   },
   {
    "duration": 10,
    "start_time": "2021-12-10T19:30:01.844Z"
   },
   {
    "duration": 6,
    "start_time": "2021-12-10T19:30:01.856Z"
   },
   {
    "duration": 9,
    "start_time": "2021-12-10T19:30:01.864Z"
   },
   {
    "duration": 4,
    "start_time": "2021-12-10T19:30:01.875Z"
   },
   {
    "duration": 5,
    "start_time": "2021-12-10T19:30:01.888Z"
   },
   {
    "duration": 26,
    "start_time": "2021-12-10T19:30:01.895Z"
   },
   {
    "duration": 10,
    "start_time": "2021-12-10T19:30:01.923Z"
   },
   {
    "duration": 16,
    "start_time": "2021-12-10T19:30:01.935Z"
   },
   {
    "duration": 16,
    "start_time": "2021-12-10T19:30:01.953Z"
   },
   {
    "duration": 9,
    "start_time": "2021-12-10T19:30:01.971Z"
   },
   {
    "duration": 30,
    "start_time": "2021-12-10T19:30:01.982Z"
   },
   {
    "duration": 10,
    "start_time": "2021-12-10T19:30:02.014Z"
   },
   {
    "duration": 11,
    "start_time": "2021-12-10T19:30:02.025Z"
   },
   {
    "duration": 4,
    "start_time": "2021-12-10T19:30:02.038Z"
   },
   {
    "duration": 18,
    "start_time": "2021-12-10T19:30:02.043Z"
   },
   {
    "duration": 11,
    "start_time": "2021-12-10T19:30:02.062Z"
   },
   {
    "duration": 10,
    "start_time": "2021-12-10T19:30:02.074Z"
   },
   {
    "duration": 5,
    "start_time": "2021-12-10T19:30:02.085Z"
   },
   {
    "duration": 621,
    "start_time": "2021-12-10T19:30:02.091Z"
   },
   {
    "duration": 2693,
    "start_time": "2021-12-10T19:30:02.714Z"
   },
   {
    "duration": 6,
    "start_time": "2021-12-10T19:30:05.409Z"
   },
   {
    "duration": 16,
    "start_time": "2021-12-10T19:30:05.416Z"
   },
   {
    "duration": 16,
    "start_time": "2021-12-10T19:30:05.433Z"
   },
   {
    "duration": 6,
    "start_time": "2021-12-10T19:30:05.451Z"
   },
   {
    "duration": 30,
    "start_time": "2021-12-10T19:30:05.458Z"
   },
   {
    "duration": 8,
    "start_time": "2021-12-10T19:30:05.489Z"
   },
   {
    "duration": 11,
    "start_time": "2021-12-10T19:30:05.498Z"
   },
   {
    "duration": 7,
    "start_time": "2021-12-10T19:30:05.510Z"
   },
   {
    "duration": 26,
    "start_time": "2021-12-10T19:30:05.518Z"
   },
   {
    "duration": 7,
    "start_time": "2021-12-10T19:30:05.545Z"
   },
   {
    "duration": 51,
    "start_time": "2021-12-10T19:30:05.553Z"
   },
   {
    "duration": 12,
    "start_time": "2021-12-10T19:30:05.606Z"
   },
   {
    "duration": 5,
    "start_time": "2021-12-10T19:30:05.620Z"
   },
   {
    "duration": 4,
    "start_time": "2021-12-10T19:30:05.626Z"
   },
   {
    "duration": 8,
    "start_time": "2021-12-10T19:30:05.631Z"
   },
   {
    "duration": 5,
    "start_time": "2021-12-10T19:30:05.641Z"
   },
   {
    "duration": 5,
    "start_time": "2021-12-10T19:30:05.648Z"
   },
   {
    "duration": 36,
    "start_time": "2021-12-10T19:30:05.654Z"
   },
   {
    "duration": 30,
    "start_time": "2021-12-10T19:30:05.691Z"
   },
   {
    "duration": 586,
    "start_time": "2021-12-10T19:34:40.816Z"
   },
   {
    "duration": 5,
    "start_time": "2021-12-10T19:34:41.404Z"
   },
   {
    "duration": 11,
    "start_time": "2021-12-10T19:34:41.410Z"
   },
   {
    "duration": 7,
    "start_time": "2021-12-10T19:34:41.423Z"
   },
   {
    "duration": 17,
    "start_time": "2021-12-10T19:34:41.432Z"
   },
   {
    "duration": 4,
    "start_time": "2021-12-10T19:34:41.451Z"
   },
   {
    "duration": 5,
    "start_time": "2021-12-10T19:34:41.456Z"
   },
   {
    "duration": 6,
    "start_time": "2021-12-10T19:34:41.487Z"
   },
   {
    "duration": 18,
    "start_time": "2021-12-10T19:34:41.495Z"
   },
   {
    "duration": 9,
    "start_time": "2021-12-10T19:34:41.514Z"
   },
   {
    "duration": 5,
    "start_time": "2021-12-10T19:34:41.524Z"
   },
   {
    "duration": 20,
    "start_time": "2021-12-10T19:34:41.530Z"
   },
   {
    "duration": 41,
    "start_time": "2021-12-10T19:34:41.551Z"
   },
   {
    "duration": 322,
    "start_time": "2021-12-10T19:34:41.594Z"
   },
   {
    "duration": 4,
    "start_time": "2021-12-10T19:34:41.917Z"
   },
   {
    "duration": 6,
    "start_time": "2021-12-10T19:34:41.922Z"
   },
   {
    "duration": 4,
    "start_time": "2021-12-10T19:34:41.930Z"
   },
   {
    "duration": 3,
    "start_time": "2021-12-10T19:34:41.936Z"
   },
   {
    "duration": 5,
    "start_time": "2021-12-10T19:34:41.940Z"
   },
   {
    "duration": 6,
    "start_time": "2021-12-10T19:34:41.946Z"
   },
   {
    "duration": 7,
    "start_time": "2021-12-10T19:34:41.954Z"
   },
   {
    "duration": 5,
    "start_time": "2021-12-10T19:34:41.988Z"
   },
   {
    "duration": 5,
    "start_time": "2021-12-10T19:34:41.996Z"
   },
   {
    "duration": 6,
    "start_time": "2021-12-10T19:34:42.003Z"
   },
   {
    "duration": 10,
    "start_time": "2021-12-10T19:34:42.011Z"
   },
   {
    "duration": 5,
    "start_time": "2021-12-10T19:34:42.022Z"
   },
   {
    "duration": 7,
    "start_time": "2021-12-10T19:34:42.028Z"
   },
   {
    "duration": 7,
    "start_time": "2021-12-10T19:34:42.036Z"
   },
   {
    "duration": 9,
    "start_time": "2021-12-10T19:34:42.044Z"
   },
   {
    "duration": 4,
    "start_time": "2021-12-10T19:34:42.054Z"
   },
   {
    "duration": 30,
    "start_time": "2021-12-10T19:34:42.060Z"
   },
   {
    "duration": 5,
    "start_time": "2021-12-10T19:34:42.092Z"
   },
   {
    "duration": 6,
    "start_time": "2021-12-10T19:34:42.098Z"
   },
   {
    "duration": 13,
    "start_time": "2021-12-10T19:34:42.106Z"
   },
   {
    "duration": 7,
    "start_time": "2021-12-10T19:34:42.120Z"
   },
   {
    "duration": 5,
    "start_time": "2021-12-10T19:34:42.129Z"
   },
   {
    "duration": 10,
    "start_time": "2021-12-10T19:34:42.135Z"
   },
   {
    "duration": 3,
    "start_time": "2021-12-10T19:34:42.146Z"
   },
   {
    "duration": 39,
    "start_time": "2021-12-10T19:34:42.150Z"
   },
   {
    "duration": 5,
    "start_time": "2021-12-10T19:34:42.191Z"
   },
   {
    "duration": 10,
    "start_time": "2021-12-10T19:34:42.197Z"
   },
   {
    "duration": 3,
    "start_time": "2021-12-10T19:34:42.208Z"
   },
   {
    "duration": 11,
    "start_time": "2021-12-10T19:34:42.213Z"
   },
   {
    "duration": 10,
    "start_time": "2021-12-10T19:34:42.226Z"
   },
   {
    "duration": 10,
    "start_time": "2021-12-10T19:34:42.237Z"
   },
   {
    "duration": 41,
    "start_time": "2021-12-10T19:34:42.249Z"
   },
   {
    "duration": 627,
    "start_time": "2021-12-10T19:34:42.291Z"
   },
   {
    "duration": 2632,
    "start_time": "2021-12-10T19:34:42.920Z"
   },
   {
    "duration": 6,
    "start_time": "2021-12-10T19:34:45.554Z"
   },
   {
    "duration": 27,
    "start_time": "2021-12-10T19:34:45.561Z"
   },
   {
    "duration": 18,
    "start_time": "2021-12-10T19:34:45.590Z"
   },
   {
    "duration": 5,
    "start_time": "2021-12-10T19:34:45.610Z"
   },
   {
    "duration": 6,
    "start_time": "2021-12-10T19:34:45.617Z"
   },
   {
    "duration": 10,
    "start_time": "2021-12-10T19:34:45.624Z"
   },
   {
    "duration": 11,
    "start_time": "2021-12-10T19:34:45.635Z"
   },
   {
    "duration": 7,
    "start_time": "2021-12-10T19:34:45.648Z"
   },
   {
    "duration": 25,
    "start_time": "2021-12-10T19:34:45.687Z"
   },
   {
    "duration": 7,
    "start_time": "2021-12-10T19:34:45.714Z"
   },
   {
    "duration": 23,
    "start_time": "2021-12-10T19:34:45.722Z"
   },
   {
    "duration": 13,
    "start_time": "2021-12-10T19:34:45.746Z"
   },
   {
    "duration": 28,
    "start_time": "2021-12-10T19:34:45.760Z"
   },
   {
    "duration": 4,
    "start_time": "2021-12-10T19:34:45.789Z"
   },
   {
    "duration": 9,
    "start_time": "2021-12-10T19:34:45.794Z"
   },
   {
    "duration": 6,
    "start_time": "2021-12-10T19:34:45.804Z"
   },
   {
    "duration": 5,
    "start_time": "2021-12-10T19:34:45.811Z"
   },
   {
    "duration": 3,
    "start_time": "2021-12-10T19:34:45.817Z"
   },
   {
    "duration": 26,
    "start_time": "2021-12-10T19:34:45.822Z"
   },
   {
    "duration": 299,
    "start_time": "2021-12-10T20:24:28.547Z"
   },
   {
    "duration": 925,
    "start_time": "2021-12-10T20:24:38.043Z"
   },
   {
    "duration": 5,
    "start_time": "2021-12-10T20:24:38.971Z"
   },
   {
    "duration": 12,
    "start_time": "2021-12-10T20:24:38.979Z"
   },
   {
    "duration": 23,
    "start_time": "2021-12-10T20:24:38.993Z"
   },
   {
    "duration": 31,
    "start_time": "2021-12-10T20:24:39.018Z"
   },
   {
    "duration": 7,
    "start_time": "2021-12-10T20:24:39.052Z"
   },
   {
    "duration": 4,
    "start_time": "2021-12-10T20:24:39.061Z"
   },
   {
    "duration": 43,
    "start_time": "2021-12-10T20:24:39.068Z"
   },
   {
    "duration": 29,
    "start_time": "2021-12-10T20:24:39.114Z"
   },
   {
    "duration": 15,
    "start_time": "2021-12-10T20:24:39.145Z"
   },
   {
    "duration": 6,
    "start_time": "2021-12-10T20:24:39.162Z"
   },
   {
    "duration": 54,
    "start_time": "2021-12-10T20:24:39.170Z"
   },
   {
    "duration": 8,
    "start_time": "2021-12-10T20:24:39.227Z"
   },
   {
    "duration": 364,
    "start_time": "2021-12-10T20:24:39.238Z"
   },
   {
    "duration": 5,
    "start_time": "2021-12-10T20:24:39.603Z"
   },
   {
    "duration": 7,
    "start_time": "2021-12-10T20:24:39.610Z"
   },
   {
    "duration": 5,
    "start_time": "2021-12-10T20:24:39.619Z"
   },
   {
    "duration": 5,
    "start_time": "2021-12-10T20:24:39.626Z"
   },
   {
    "duration": 5,
    "start_time": "2021-12-10T20:24:39.632Z"
   },
   {
    "duration": 6,
    "start_time": "2021-12-10T20:24:39.638Z"
   },
   {
    "duration": 4,
    "start_time": "2021-12-10T20:24:39.646Z"
   },
   {
    "duration": 9,
    "start_time": "2021-12-10T20:24:39.651Z"
   },
   {
    "duration": 46,
    "start_time": "2021-12-10T20:24:39.664Z"
   },
   {
    "duration": 4,
    "start_time": "2021-12-10T20:24:39.713Z"
   },
   {
    "duration": 6,
    "start_time": "2021-12-10T20:24:39.719Z"
   },
   {
    "duration": 4,
    "start_time": "2021-12-10T20:24:39.727Z"
   },
   {
    "duration": 5,
    "start_time": "2021-12-10T20:24:39.733Z"
   },
   {
    "duration": 9,
    "start_time": "2021-12-10T20:24:39.740Z"
   },
   {
    "duration": 10,
    "start_time": "2021-12-10T20:24:39.750Z"
   },
   {
    "duration": 56,
    "start_time": "2021-12-10T20:24:39.762Z"
   },
   {
    "duration": 5,
    "start_time": "2021-12-10T20:24:39.820Z"
   },
   {
    "duration": 5,
    "start_time": "2021-12-10T20:24:39.827Z"
   },
   {
    "duration": 8,
    "start_time": "2021-12-10T20:24:39.834Z"
   },
   {
    "duration": 25,
    "start_time": "2021-12-10T20:24:39.844Z"
   },
   {
    "duration": 41,
    "start_time": "2021-12-10T20:24:39.871Z"
   },
   {
    "duration": 6,
    "start_time": "2021-12-10T20:24:39.914Z"
   },
   {
    "duration": 11,
    "start_time": "2021-12-10T20:24:39.923Z"
   },
   {
    "duration": 3,
    "start_time": "2021-12-10T20:24:39.936Z"
   },
   {
    "duration": 10,
    "start_time": "2021-12-10T20:24:39.941Z"
   },
   {
    "duration": 6,
    "start_time": "2021-12-10T20:24:39.953Z"
   },
   {
    "duration": 54,
    "start_time": "2021-12-10T20:24:39.961Z"
   },
   {
    "duration": 4,
    "start_time": "2021-12-10T20:24:40.016Z"
   },
   {
    "duration": 15,
    "start_time": "2021-12-10T20:24:40.022Z"
   },
   {
    "duration": 13,
    "start_time": "2021-12-10T20:24:40.038Z"
   },
   {
    "duration": 11,
    "start_time": "2021-12-10T20:24:40.052Z"
   },
   {
    "duration": 5,
    "start_time": "2021-12-10T20:24:40.064Z"
   },
   {
    "duration": 993,
    "start_time": "2021-12-10T20:24:40.071Z"
   },
   {
    "duration": 3290,
    "start_time": "2021-12-10T20:24:41.066Z"
   },
   {
    "duration": 7,
    "start_time": "2021-12-10T20:24:44.358Z"
   },
   {
    "duration": 15,
    "start_time": "2021-12-10T20:24:44.367Z"
   },
   {
    "duration": 36,
    "start_time": "2021-12-10T20:24:44.384Z"
   },
   {
    "duration": 7,
    "start_time": "2021-12-10T20:24:44.422Z"
   },
   {
    "duration": 5,
    "start_time": "2021-12-10T20:24:44.430Z"
   },
   {
    "duration": 10,
    "start_time": "2021-12-10T20:24:44.437Z"
   },
   {
    "duration": 13,
    "start_time": "2021-12-10T20:24:44.449Z"
   },
   {
    "duration": 45,
    "start_time": "2021-12-10T20:24:44.463Z"
   },
   {
    "duration": 28,
    "start_time": "2021-12-10T20:24:44.509Z"
   },
   {
    "duration": 8,
    "start_time": "2021-12-10T20:24:44.538Z"
   },
   {
    "duration": 22,
    "start_time": "2021-12-10T20:24:44.548Z"
   },
   {
    "duration": 44,
    "start_time": "2021-12-10T20:24:44.571Z"
   },
   {
    "duration": 6,
    "start_time": "2021-12-10T20:24:44.616Z"
   },
   {
    "duration": 3,
    "start_time": "2021-12-10T20:24:44.624Z"
   },
   {
    "duration": 8,
    "start_time": "2021-12-10T20:24:44.629Z"
   },
   {
    "duration": 6,
    "start_time": "2021-12-10T20:24:44.639Z"
   },
   {
    "duration": 8,
    "start_time": "2021-12-10T20:24:44.646Z"
   },
   {
    "duration": 3,
    "start_time": "2021-12-10T20:24:44.655Z"
   },
   {
    "duration": 57,
    "start_time": "2021-12-10T20:24:44.660Z"
   },
   {
    "duration": 305,
    "start_time": "2021-12-10T20:38:28.443Z"
   },
   {
    "duration": 7819,
    "start_time": "2021-12-10T20:38:57.636Z"
   },
   {
    "duration": 68,
    "start_time": "2021-12-10T20:39:13.584Z"
   },
   {
    "duration": 5,
    "start_time": "2021-12-10T20:39:13.880Z"
   },
   {
    "duration": 11,
    "start_time": "2021-12-10T20:39:14.860Z"
   },
   {
    "duration": 10,
    "start_time": "2021-12-10T20:39:15.216Z"
   },
   {
    "duration": 24,
    "start_time": "2021-12-10T20:39:16.020Z"
   },
   {
    "duration": 6,
    "start_time": "2021-12-10T20:39:16.230Z"
   },
   {
    "duration": 4,
    "start_time": "2021-12-10T20:39:16.902Z"
   },
   {
    "duration": 7,
    "start_time": "2021-12-10T20:39:17.815Z"
   },
   {
    "duration": 7736,
    "start_time": "2021-12-10T20:39:39.172Z"
   },
   {
    "duration": 277,
    "start_time": "2021-12-10T20:39:59.878Z"
   },
   {
    "duration": 84,
    "start_time": "2021-12-10T20:40:20.198Z"
   },
   {
    "duration": 7523,
    "start_time": "2021-12-10T20:40:24.605Z"
   },
   {
    "duration": 99,
    "start_time": "2021-12-10T20:41:00.291Z"
   },
   {
    "duration": 7,
    "start_time": "2021-12-10T20:41:29.727Z"
   },
   {
    "duration": 8,
    "start_time": "2021-12-10T20:42:00.857Z"
   },
   {
    "duration": 7,
    "start_time": "2021-12-10T20:42:42.401Z"
   },
   {
    "duration": 7,
    "start_time": "2021-12-10T20:43:14.033Z"
   },
   {
    "duration": 6244,
    "start_time": "2021-12-10T20:48:26.984Z"
   },
   {
    "duration": 69,
    "start_time": "2021-12-10T20:48:48.469Z"
   },
   {
    "duration": 6,
    "start_time": "2021-12-10T20:48:49.166Z"
   },
   {
    "duration": 12,
    "start_time": "2021-12-10T20:48:51.179Z"
   },
   {
    "duration": 10,
    "start_time": "2021-12-10T20:48:51.689Z"
   },
   {
    "duration": 22,
    "start_time": "2021-12-10T20:48:52.671Z"
   },
   {
    "duration": 8,
    "start_time": "2021-12-10T20:48:52.861Z"
   },
   {
    "duration": 4,
    "start_time": "2021-12-10T20:48:53.573Z"
   },
   {
    "duration": 6377,
    "start_time": "2021-12-10T20:48:54.431Z"
   },
   {
    "duration": 72,
    "start_time": "2021-12-10T20:49:13.505Z"
   },
   {
    "duration": 7,
    "start_time": "2021-12-10T20:49:14.317Z"
   },
   {
    "duration": 12,
    "start_time": "2021-12-10T20:49:16.391Z"
   },
   {
    "duration": 11,
    "start_time": "2021-12-10T20:49:16.915Z"
   },
   {
    "duration": 23,
    "start_time": "2021-12-10T20:49:18.369Z"
   },
   {
    "duration": 6,
    "start_time": "2021-12-10T20:49:19.058Z"
   },
   {
    "duration": 5,
    "start_time": "2021-12-10T20:49:29.639Z"
   },
   {
    "duration": 238,
    "start_time": "2021-12-10T20:50:25.729Z"
   },
   {
    "duration": 11,
    "start_time": "2021-12-10T20:50:33.881Z"
   },
   {
    "duration": 11,
    "start_time": "2021-12-10T20:52:49.727Z"
   },
   {
    "duration": 240,
    "start_time": "2021-12-10T20:53:25.747Z"
   },
   {
    "duration": 307,
    "start_time": "2021-12-10T20:53:34.971Z"
   },
   {
    "duration": 683,
    "start_time": "2021-12-10T20:54:53.672Z"
   },
   {
    "duration": 5,
    "start_time": "2021-12-10T20:54:54.357Z"
   },
   {
    "duration": 9,
    "start_time": "2021-12-10T20:54:54.364Z"
   },
   {
    "duration": 12,
    "start_time": "2021-12-10T20:54:54.375Z"
   },
   {
    "duration": 23,
    "start_time": "2021-12-10T20:54:54.407Z"
   },
   {
    "duration": 6,
    "start_time": "2021-12-10T20:54:54.432Z"
   },
   {
    "duration": 7,
    "start_time": "2021-12-10T20:54:54.440Z"
   },
   {
    "duration": 16,
    "start_time": "2021-12-10T20:54:54.450Z"
   },
   {
    "duration": 42,
    "start_time": "2021-12-10T20:54:54.469Z"
   },
   {
    "duration": 12,
    "start_time": "2021-12-10T20:54:54.513Z"
   },
   {
    "duration": 6,
    "start_time": "2021-12-10T20:54:54.527Z"
   },
   {
    "duration": 19,
    "start_time": "2021-12-10T20:54:54.534Z"
   },
   {
    "duration": 9,
    "start_time": "2021-12-10T20:54:54.555Z"
   },
   {
    "duration": 383,
    "start_time": "2021-12-10T20:54:54.566Z"
   },
   {
    "duration": 3,
    "start_time": "2021-12-10T20:54:54.951Z"
   },
   {
    "duration": 6,
    "start_time": "2021-12-10T20:54:54.956Z"
   },
   {
    "duration": 5,
    "start_time": "2021-12-10T20:54:54.964Z"
   },
   {
    "duration": 4,
    "start_time": "2021-12-10T20:54:54.971Z"
   },
   {
    "duration": 32,
    "start_time": "2021-12-10T20:54:54.977Z"
   },
   {
    "duration": 7,
    "start_time": "2021-12-10T20:54:55.011Z"
   },
   {
    "duration": 6,
    "start_time": "2021-12-10T20:54:55.019Z"
   },
   {
    "duration": 6,
    "start_time": "2021-12-10T20:54:55.026Z"
   },
   {
    "duration": 4,
    "start_time": "2021-12-10T20:54:55.036Z"
   },
   {
    "duration": 4,
    "start_time": "2021-12-10T20:54:55.043Z"
   },
   {
    "duration": 8,
    "start_time": "2021-12-10T20:54:55.048Z"
   },
   {
    "duration": 5,
    "start_time": "2021-12-10T20:54:55.057Z"
   },
   {
    "duration": 44,
    "start_time": "2021-12-10T20:54:55.063Z"
   },
   {
    "duration": 7,
    "start_time": "2021-12-10T20:54:55.109Z"
   },
   {
    "duration": 12,
    "start_time": "2021-12-10T20:54:55.117Z"
   },
   {
    "duration": 5,
    "start_time": "2021-12-10T20:54:55.130Z"
   },
   {
    "duration": 4,
    "start_time": "2021-12-10T20:54:55.136Z"
   },
   {
    "duration": 5,
    "start_time": "2021-12-10T20:54:55.142Z"
   },
   {
    "duration": 9,
    "start_time": "2021-12-10T20:54:55.148Z"
   },
   {
    "duration": 48,
    "start_time": "2021-12-10T20:54:55.159Z"
   },
   {
    "duration": 8,
    "start_time": "2021-12-10T20:54:55.209Z"
   },
   {
    "duration": 7,
    "start_time": "2021-12-10T20:54:55.219Z"
   },
   {
    "duration": 8,
    "start_time": "2021-12-10T20:54:55.227Z"
   },
   {
    "duration": 10,
    "start_time": "2021-12-10T20:54:55.236Z"
   },
   {
    "duration": 4,
    "start_time": "2021-12-10T20:54:55.247Z"
   },
   {
    "duration": 9,
    "start_time": "2021-12-10T20:54:55.252Z"
   },
   {
    "duration": 45,
    "start_time": "2021-12-10T20:54:55.262Z"
   },
   {
    "duration": 10,
    "start_time": "2021-12-10T20:54:55.309Z"
   },
   {
    "duration": 3,
    "start_time": "2021-12-10T20:54:55.320Z"
   },
   {
    "duration": 14,
    "start_time": "2021-12-10T20:54:55.324Z"
   },
   {
    "duration": 11,
    "start_time": "2021-12-10T20:54:55.339Z"
   },
   {
    "duration": 11,
    "start_time": "2021-12-10T20:54:55.351Z"
   },
   {
    "duration": 5,
    "start_time": "2021-12-10T20:54:55.363Z"
   },
   {
    "duration": 705,
    "start_time": "2021-12-10T20:54:55.369Z"
   },
   {
    "duration": 2949,
    "start_time": "2021-12-10T20:54:56.077Z"
   },
   {
    "duration": 8,
    "start_time": "2021-12-10T20:54:59.028Z"
   },
   {
    "duration": 15,
    "start_time": "2021-12-10T20:54:59.038Z"
   },
   {
    "duration": 22,
    "start_time": "2021-12-10T20:54:59.055Z"
   },
   {
    "duration": 33,
    "start_time": "2021-12-10T20:54:59.078Z"
   },
   {
    "duration": 5,
    "start_time": "2021-12-10T20:54:59.113Z"
   },
   {
    "duration": 10,
    "start_time": "2021-12-10T20:54:59.120Z"
   },
   {
    "duration": 13,
    "start_time": "2021-12-10T20:54:59.132Z"
   },
   {
    "duration": 9,
    "start_time": "2021-12-10T20:54:59.147Z"
   },
   {
    "duration": 69,
    "start_time": "2021-12-10T20:54:59.158Z"
   },
   {
    "duration": 9,
    "start_time": "2021-12-10T20:54:59.229Z"
   },
   {
    "duration": 23,
    "start_time": "2021-12-10T20:54:59.240Z"
   },
   {
    "duration": 44,
    "start_time": "2021-12-10T20:54:59.265Z"
   },
   {
    "duration": 8,
    "start_time": "2021-12-10T20:54:59.311Z"
   },
   {
    "duration": 4,
    "start_time": "2021-12-10T20:54:59.321Z"
   },
   {
    "duration": 10,
    "start_time": "2021-12-10T20:54:59.327Z"
   },
   {
    "duration": 7,
    "start_time": "2021-12-10T20:54:59.339Z"
   },
   {
    "duration": 7,
    "start_time": "2021-12-10T20:54:59.348Z"
   },
   {
    "duration": 5,
    "start_time": "2021-12-10T20:54:59.357Z"
   },
   {
    "duration": 28,
    "start_time": "2021-12-10T20:54:59.410Z"
   }
  ],
  "kernelspec": {
   "display_name": "Python 3",
   "language": "python",
   "name": "python3"
  },
  "language_info": {
   "codemirror_mode": {
    "name": "ipython",
    "version": 3
   },
   "file_extension": ".py",
   "mimetype": "text/x-python",
   "name": "python",
   "nbconvert_exporter": "python",
   "pygments_lexer": "ipython3",
   "version": "3.8.8"
  },
  "toc": {
   "base_numbering": 1,
   "nav_menu": {},
   "number_sections": true,
   "sideBar": true,
   "skip_h1_title": true,
   "title_cell": "Table of Contents",
   "title_sidebar": "Contents",
   "toc_cell": false,
   "toc_position": {},
   "toc_section_display": true,
   "toc_window_display": false
  }
 },
 "nbformat": 4,
 "nbformat_minor": 2
}
